{
 "cells": [
  {
   "cell_type": "markdown",
   "id": "88561acf",
   "metadata": {},
   "source": [
    "<strong><font size = \"4\" color = \"black\">Introdução à Ciência de Dados</font></strong><br>\n",
    "<font size = \"3\" color = \"gray\">Prof. Valter Moreno</font><br>\n",
    "<font size = \"3\" color = \"gray\">2022</font><br>  "
   ]
  },
  {
   "cell_type": "markdown",
   "id": "92c2c25c",
   "metadata": {},
   "source": [
    "<hr style=\"border:0.1px solid gray\"> </hr>\n",
    "<font size = \"5\" color = \"black\">Introdução ao Python</font><p>\n",
    "    <font size = \"5\" color = \"black\">Aula 10: Machine Learning com <i>scikit-learn</i></font>\n",
    "<hr style=\"border:0.1px solid gray\"> </hr>"
   ]
  },
  {
   "cell_type": "markdown",
   "id": "eafc95e5",
   "metadata": {},
   "source": [
    "O pacote *open-source* `scikit-learn` é um dos mais utilizados para a implementação de técnicas de Machine Learning (ML) em Python. Ele inclui uma variedade de ferramentas para o preprocessamento de dados e para o treinamento, avaliação e seleção de modelos. Sua documentação oficial é extensa, e inclui diversos tutoriais sobre suas aplicações:\n",
    "\n",
    " - [scikit-learn.org](https://scikit-learn.org/stable/index.html)\n",
    " - [scikit-learn Tutorials](https://scikit-learn.org/stable/tutorial/index.html)\n",
    " - [scikit-learn User Guide](https://scikit-learn.org/stable/user_guide.html)\n",
    " \n",
    "Mais recursos podem ser encontrados nos seguintes websites:\n",
    " \n",
    " - [Scikit Learn - Introduction](https://www.tutorialspoint.com/scikit_learn/scikit_learn_introduction.htm)\n",
    " - [Python Machine Learning: Scikit-Learn Tutorial](https://www.datacamp.com/community/tutorials/machine-learning-python)"
   ]
  },
  {
   "cell_type": "code",
   "execution_count": 1,
   "id": "5192a609",
   "metadata": {},
   "outputs": [],
   "source": [
    "import pandas as pd\n",
    "import numpy as np\n",
    "from IPython.display import display\n",
    "\n",
    "# Definição do número de casas decimais no pandas\n",
    "pd.options.display.float_format = '{:,.2f}'.format\n",
    "\n",
    "# Definição do número de casas decimais no numpy\n",
    "np.set_printoptions(precision = 2)"
   ]
  },
  {
   "cell_type": "markdown",
   "id": "eff9ab10",
   "metadata": {},
   "source": [
    "# *Datasets*"
   ]
  },
  {
   "cell_type": "markdown",
   "id": "7793bb8d",
   "metadata": {},
   "source": [
    "O `scikit-learn` inclui bases de dados e métodos para a carga de bases de certas fontes, e para a geração de dados sintéticos. Mais detalhes são fornecidos em [Dataset loading utilities](https://scikit-learn.org/stable/datasets.html). Seguem exemplos."
   ]
  },
  {
   "cell_type": "code",
   "execution_count": 2,
   "id": "3b8f9421",
   "metadata": {},
   "outputs": [],
   "source": [
    "from sklearn import datasets"
   ]
  },
  {
   "cell_type": "markdown",
   "id": "0738d541",
   "metadata": {},
   "source": [
    "Os métodos do tipo `load_` retornam como resultado um objeto do tipo *bunch*, que é um dicionário com chaves para os atributos ou *features* $X$ (*data*), os valores a serem previstos $y$ (*target*), e outras informações sobre o *dataset*."
   ]
  },
  {
   "cell_type": "code",
   "execution_count": 3,
   "id": "0554ba41",
   "metadata": {},
   "outputs": [
    {
     "data": {
      "text/plain": [
       "sklearn.utils.Bunch"
      ]
     },
     "execution_count": 3,
     "metadata": {},
     "output_type": "execute_result"
    }
   ],
   "source": [
    "# Exemplos de bases simples (toy datasets):\n",
    "iris = datasets.load_iris()\n",
    "type(iris)"
   ]
  },
  {
   "cell_type": "code",
   "execution_count": 4,
   "id": "6ef3e541",
   "metadata": {},
   "outputs": [
    {
     "data": {
      "text/plain": [
       "dict_keys(['data', 'target', 'frame', 'target_names', 'DESCR', 'feature_names', 'filename', 'data_module'])"
      ]
     },
     "execution_count": 4,
     "metadata": {},
     "output_type": "execute_result"
    }
   ],
   "source": [
    "iris.keys()"
   ]
  },
  {
   "cell_type": "code",
   "execution_count": 5,
   "id": "fa2efef0",
   "metadata": {
    "scrolled": true
   },
   "outputs": [
    {
     "data": {
      "text/plain": [
       "array([[5.1, 3.5, 1.4, 0.2],\n",
       "       [4.9, 3. , 1.4, 0.2],\n",
       "       [4.7, 3.2, 1.3, 0.2],\n",
       "       [4.6, 3.1, 1.5, 0.2],\n",
       "       [5. , 3.6, 1.4, 0.2],\n",
       "       [5.4, 3.9, 1.7, 0.4],\n",
       "       [4.6, 3.4, 1.4, 0.3],\n",
       "       [5. , 3.4, 1.5, 0.2],\n",
       "       [4.4, 2.9, 1.4, 0.2],\n",
       "       [4.9, 3.1, 1.5, 0.1]])"
      ]
     },
     "execution_count": 5,
     "metadata": {},
     "output_type": "execute_result"
    }
   ],
   "source": [
    "iris.get('data')[:10]"
   ]
  },
  {
   "cell_type": "code",
   "execution_count": 6,
   "id": "4b101025",
   "metadata": {},
   "outputs": [
    {
     "data": {
      "text/plain": [
       "array([0, 0, 0, 0, 0, 0, 0, 0, 0, 0])"
      ]
     },
     "execution_count": 6,
     "metadata": {},
     "output_type": "execute_result"
    }
   ],
   "source": [
    "iris.get('target')[:10]"
   ]
  },
  {
   "cell_type": "code",
   "execution_count": 7,
   "id": "f8caa259",
   "metadata": {
    "scrolled": true
   },
   "outputs": [
    {
     "name": "stdout",
     "output_type": "stream",
     "text": [
      ".. _iris_dataset:\n",
      "\n",
      "Iris plants dataset\n",
      "--------------------\n",
      "\n",
      "**Data Set Characteristics:**\n",
      "\n",
      "    :Number of Instances: 150 (50 in each of three classes)\n",
      "    :Number of Attributes: 4 numeric, predictive attributes and the class\n",
      "    :Attribute Information:\n",
      "        - sepal length in cm\n",
      "        - sepal width in cm\n",
      "        - petal length in cm\n",
      "        - petal width in cm\n",
      "        - class:\n",
      "                - Iris-Setosa\n",
      "                - Iris-Versicolour\n",
      "                - Iris-Virginica\n",
      "                \n",
      "    :Summary Statistics:\n",
      "\n",
      "    ============== ==== ==== ======= ===== ====================\n",
      "                    Min  Max   Mean    SD   Class Correlation\n",
      "    ============== ==== ==== ======= ===== ====================\n",
      "    sepal length:   4.3  7.9   5.84   0.83    0.7826\n",
      "    sepal width:    2.0  4.4   3.05   0.43   -0.4194\n",
      "    petal length:   1.0  6.9   3.76   1.76    0.9490  (high!)\n",
      "    petal width:    0.1  2.5   1.20   0.76    0.9565  (high!)\n",
      "    ============== ==== ==== ======= ===== ====================\n",
      "\n",
      "    :Missing Attribute Values: None\n",
      "    :Class Distribution: 33.3% for each of 3 classes.\n",
      "    :Creator: R.A. Fisher\n",
      "    :Donor: Michael Marshall (MARSHALL%PLU@io.arc.nasa.gov)\n",
      "    :Date: July, 1988\n",
      "\n",
      "The famous Iris database, first used by Sir R.A. Fisher. The dataset is taken\n",
      "from Fisher's paper. Note that it's the same as in R, but not as in the UCI\n",
      "Machine Learning Repository, which has two wrong data points.\n",
      "\n",
      "This is perhaps the best known database to be found in the\n",
      "pattern recognition literature.  Fisher's paper is a classic in the field and\n",
      "is referenced frequently to this day.  (See Duda & Hart, for example.)  The\n",
      "data set contains 3 classes of 50 instances each, where each class refers to a\n",
      "type of iris plant.  One class is linearly separable from the other 2; the\n",
      "latter are NOT linearly separable from each other.\n",
      "\n",
      ".. topic:: References\n",
      "\n",
      "   - Fisher, R.A. \"The use of multiple measurements in taxonomic problems\"\n",
      "     Annual Eugenics, 7, Part II, 179-188 (1936); also in \"Contributions to\n",
      "     Mathematical Statistics\" (John Wiley, NY, 1950).\n",
      "   - Duda, R.O., & Hart, P.E. (1973) Pattern Classification and Scene Analysis.\n",
      "     (Q327.D83) John Wiley & Sons.  ISBN 0-471-22361-1.  See page 218.\n",
      "   - Dasarathy, B.V. (1980) \"Nosing Around the Neighborhood: A New System\n",
      "     Structure and Classification Rule for Recognition in Partially Exposed\n",
      "     Environments\".  IEEE Transactions on Pattern Analysis and Machine\n",
      "     Intelligence, Vol. PAMI-2, No. 1, 67-71.\n",
      "   - Gates, G.W. (1972) \"The Reduced Nearest Neighbor Rule\".  IEEE Transactions\n",
      "     on Information Theory, May 1972, 431-433.\n",
      "   - See also: 1988 MLC Proceedings, 54-64.  Cheeseman et al\"s AUTOCLASS II\n",
      "     conceptual clustering system finds 3 classes in the data.\n",
      "   - Many, many more ...\n"
     ]
    }
   ],
   "source": [
    "print(iris.get('DESCR'))"
   ]
  },
  {
   "cell_type": "markdown",
   "id": "600907fb",
   "metadata": {},
   "source": [
    "Os métodos podem também gerar *dataframes* do `pandas`:"
   ]
  },
  {
   "cell_type": "code",
   "execution_count": 8,
   "id": "ee4c0892",
   "metadata": {},
   "outputs": [
    {
     "data": {
      "text/html": [
       "<div>\n",
       "<style scoped>\n",
       "    .dataframe tbody tr th:only-of-type {\n",
       "        vertical-align: middle;\n",
       "    }\n",
       "\n",
       "    .dataframe tbody tr th {\n",
       "        vertical-align: top;\n",
       "    }\n",
       "\n",
       "    .dataframe thead th {\n",
       "        text-align: right;\n",
       "    }\n",
       "</style>\n",
       "<table border=\"1\" class=\"dataframe\">\n",
       "  <thead>\n",
       "    <tr style=\"text-align: right;\">\n",
       "      <th></th>\n",
       "      <th>sepal length (cm)</th>\n",
       "      <th>sepal width (cm)</th>\n",
       "      <th>petal length (cm)</th>\n",
       "      <th>petal width (cm)</th>\n",
       "      <th>target</th>\n",
       "    </tr>\n",
       "  </thead>\n",
       "  <tbody>\n",
       "    <tr>\n",
       "      <th>0</th>\n",
       "      <td>5.10</td>\n",
       "      <td>3.50</td>\n",
       "      <td>1.40</td>\n",
       "      <td>0.20</td>\n",
       "      <td>0</td>\n",
       "    </tr>\n",
       "    <tr>\n",
       "      <th>1</th>\n",
       "      <td>4.90</td>\n",
       "      <td>3.00</td>\n",
       "      <td>1.40</td>\n",
       "      <td>0.20</td>\n",
       "      <td>0</td>\n",
       "    </tr>\n",
       "    <tr>\n",
       "      <th>2</th>\n",
       "      <td>4.70</td>\n",
       "      <td>3.20</td>\n",
       "      <td>1.30</td>\n",
       "      <td>0.20</td>\n",
       "      <td>0</td>\n",
       "    </tr>\n",
       "    <tr>\n",
       "      <th>3</th>\n",
       "      <td>4.60</td>\n",
       "      <td>3.10</td>\n",
       "      <td>1.50</td>\n",
       "      <td>0.20</td>\n",
       "      <td>0</td>\n",
       "    </tr>\n",
       "    <tr>\n",
       "      <th>4</th>\n",
       "      <td>5.00</td>\n",
       "      <td>3.60</td>\n",
       "      <td>1.40</td>\n",
       "      <td>0.20</td>\n",
       "      <td>0</td>\n",
       "    </tr>\n",
       "  </tbody>\n",
       "</table>\n",
       "</div>"
      ],
      "text/plain": [
       "   sepal length (cm)  sepal width (cm)  petal length (cm)  petal width (cm)  \\\n",
       "0               5.10              3.50               1.40              0.20   \n",
       "1               4.90              3.00               1.40              0.20   \n",
       "2               4.70              3.20               1.30              0.20   \n",
       "3               4.60              3.10               1.50              0.20   \n",
       "4               5.00              3.60               1.40              0.20   \n",
       "\n",
       "   target  \n",
       "0       0  \n",
       "1       0  \n",
       "2       0  \n",
       "3       0  \n",
       "4       0  "
      ]
     },
     "execution_count": 8,
     "metadata": {},
     "output_type": "execute_result"
    }
   ],
   "source": [
    "iris = datasets.load_iris(as_frame = True)\n",
    "iris.get('frame').head()"
   ]
  },
  {
   "cell_type": "code",
   "execution_count": 9,
   "id": "5cd8f6bd",
   "metadata": {},
   "outputs": [],
   "source": [
    "# Deleção do objeto criado:\n",
    "del(iris)"
   ]
  },
  {
   "cell_type": "markdown",
   "id": "fb8a409f",
   "metadata": {},
   "source": [
    "Os métodos do tipo `fetch_` carregam bases de dados reais, baixando-as da internet quando necessário."
   ]
  },
  {
   "cell_type": "code",
   "execution_count": 10,
   "id": "c2f99975",
   "metadata": {
    "scrolled": true
   },
   "outputs": [
    {
     "name": "stdout",
     "output_type": "stream",
     "text": [
      ".. _california_housing_dataset:\n",
      "\n",
      "California Housing dataset\n",
      "--------------------------\n",
      "\n",
      "**Data Set Characteristics:**\n",
      "\n",
      "    :Number of Instances: 20640\n",
      "\n",
      "    :Number of Attributes: 8 numeric, predictive attributes and the target\n",
      "\n",
      "    :Attribute Information:\n",
      "        - MedInc        median income in block group\n",
      "        - HouseAge      median house age in block group\n",
      "        - AveRooms      average number of rooms per household\n",
      "        - AveBedrms     average number of bedrooms per household\n",
      "        - Population    block group population\n",
      "        - AveOccup      average number of household members\n",
      "        - Latitude      block group latitude\n",
      "        - Longitude     block group longitude\n",
      "\n",
      "    :Missing Attribute Values: None\n",
      "\n",
      "This dataset was obtained from the StatLib repository.\n",
      "https://www.dcc.fc.up.pt/~ltorgo/Regression/cal_housing.html\n",
      "\n",
      "The target variable is the median house value for California districts,\n",
      "expressed in hundreds of thousands of dollars ($100,000).\n",
      "\n",
      "This dataset was derived from the 1990 U.S. census, using one row per census\n",
      "block group. A block group is the smallest geographical unit for which the U.S.\n",
      "Census Bureau publishes sample data (a block group typically has a population\n",
      "of 600 to 3,000 people).\n",
      "\n",
      "An household is a group of people residing within a home. Since the average\n",
      "number of rooms and bedrooms in this dataset are provided per household, these\n",
      "columns may take surpinsingly large values for block groups with few households\n",
      "and many empty houses, such as vacation resorts.\n",
      "\n",
      "It can be downloaded/loaded using the\n",
      ":func:`sklearn.datasets.fetch_california_housing` function.\n",
      "\n",
      ".. topic:: References\n",
      "\n",
      "    - Pace, R. Kelley and Ronald Barry, Sparse Spatial Autoregressions,\n",
      "      Statistics and Probability Letters, 33 (1997) 291-297\n",
      "\n"
     ]
    }
   ],
   "source": [
    "housing = datasets.fetch_california_housing(as_frame = True)\n",
    "print(housing.get('DESCR'))"
   ]
  },
  {
   "cell_type": "code",
   "execution_count": 11,
   "id": "ae0b7097",
   "metadata": {},
   "outputs": [
    {
     "data": {
      "text/html": [
       "<div>\n",
       "<style scoped>\n",
       "    .dataframe tbody tr th:only-of-type {\n",
       "        vertical-align: middle;\n",
       "    }\n",
       "\n",
       "    .dataframe tbody tr th {\n",
       "        vertical-align: top;\n",
       "    }\n",
       "\n",
       "    .dataframe thead th {\n",
       "        text-align: right;\n",
       "    }\n",
       "</style>\n",
       "<table border=\"1\" class=\"dataframe\">\n",
       "  <thead>\n",
       "    <tr style=\"text-align: right;\">\n",
       "      <th></th>\n",
       "      <th>MedInc</th>\n",
       "      <th>HouseAge</th>\n",
       "      <th>AveRooms</th>\n",
       "      <th>AveBedrms</th>\n",
       "      <th>Population</th>\n",
       "      <th>AveOccup</th>\n",
       "      <th>Latitude</th>\n",
       "      <th>Longitude</th>\n",
       "      <th>MedHouseVal</th>\n",
       "    </tr>\n",
       "  </thead>\n",
       "  <tbody>\n",
       "    <tr>\n",
       "      <th>0</th>\n",
       "      <td>8.33</td>\n",
       "      <td>41.00</td>\n",
       "      <td>6.98</td>\n",
       "      <td>1.02</td>\n",
       "      <td>322.00</td>\n",
       "      <td>2.56</td>\n",
       "      <td>37.88</td>\n",
       "      <td>-122.23</td>\n",
       "      <td>4.53</td>\n",
       "    </tr>\n",
       "    <tr>\n",
       "      <th>1</th>\n",
       "      <td>8.30</td>\n",
       "      <td>21.00</td>\n",
       "      <td>6.24</td>\n",
       "      <td>0.97</td>\n",
       "      <td>2,401.00</td>\n",
       "      <td>2.11</td>\n",
       "      <td>37.86</td>\n",
       "      <td>-122.22</td>\n",
       "      <td>3.58</td>\n",
       "    </tr>\n",
       "    <tr>\n",
       "      <th>2</th>\n",
       "      <td>7.26</td>\n",
       "      <td>52.00</td>\n",
       "      <td>8.29</td>\n",
       "      <td>1.07</td>\n",
       "      <td>496.00</td>\n",
       "      <td>2.80</td>\n",
       "      <td>37.85</td>\n",
       "      <td>-122.24</td>\n",
       "      <td>3.52</td>\n",
       "    </tr>\n",
       "    <tr>\n",
       "      <th>3</th>\n",
       "      <td>5.64</td>\n",
       "      <td>52.00</td>\n",
       "      <td>5.82</td>\n",
       "      <td>1.07</td>\n",
       "      <td>558.00</td>\n",
       "      <td>2.55</td>\n",
       "      <td>37.85</td>\n",
       "      <td>-122.25</td>\n",
       "      <td>3.41</td>\n",
       "    </tr>\n",
       "    <tr>\n",
       "      <th>4</th>\n",
       "      <td>3.85</td>\n",
       "      <td>52.00</td>\n",
       "      <td>6.28</td>\n",
       "      <td>1.08</td>\n",
       "      <td>565.00</td>\n",
       "      <td>2.18</td>\n",
       "      <td>37.85</td>\n",
       "      <td>-122.25</td>\n",
       "      <td>3.42</td>\n",
       "    </tr>\n",
       "  </tbody>\n",
       "</table>\n",
       "</div>"
      ],
      "text/plain": [
       "   MedInc  HouseAge  AveRooms  AveBedrms  Population  AveOccup  Latitude  \\\n",
       "0    8.33     41.00      6.98       1.02      322.00      2.56     37.88   \n",
       "1    8.30     21.00      6.24       0.97    2,401.00      2.11     37.86   \n",
       "2    7.26     52.00      8.29       1.07      496.00      2.80     37.85   \n",
       "3    5.64     52.00      5.82       1.07      558.00      2.55     37.85   \n",
       "4    3.85     52.00      6.28       1.08      565.00      2.18     37.85   \n",
       "\n",
       "   Longitude  MedHouseVal  \n",
       "0    -122.23         4.53  \n",
       "1    -122.22         3.58  \n",
       "2    -122.24         3.52  \n",
       "3    -122.25         3.41  \n",
       "4    -122.25         3.42  "
      ]
     },
     "execution_count": 11,
     "metadata": {},
     "output_type": "execute_result"
    }
   ],
   "source": [
    "housing.get('frame').head()"
   ]
  },
  {
   "cell_type": "code",
   "execution_count": 12,
   "id": "739712fa",
   "metadata": {},
   "outputs": [],
   "source": [
    "del(housing)"
   ]
  },
  {
   "cell_type": "markdown",
   "id": "15985e25",
   "metadata": {},
   "source": [
    "O `scikit-learn` inclui métodos para carregar dados de fontes externas, como o repositório [OpenML](https://openml.org). Note que o método inclui um parâmetro (*data_home*) para definir o diretório em que os dados serão guardados. "
   ]
  },
  {
   "cell_type": "code",
   "execution_count": 13,
   "id": "5769cfd9",
   "metadata": {},
   "outputs": [],
   "source": [
    "marketing = datasets.fetch_openml(data_id = 1461,\n",
    "                                  target_column = \"Class\",\n",
    "                                  as_frame = True)"
   ]
  },
  {
   "cell_type": "code",
   "execution_count": 14,
   "id": "c6750c9d",
   "metadata": {
    "scrolled": true
   },
   "outputs": [
    {
     "name": "stdout",
     "output_type": "stream",
     "text": [
      "**Author**: Paulo Cortez, Sérgio Moro\n",
      "**Source**: [UCI](https://archive.ics.uci.edu/ml/datasets/bank+marketing)\n",
      "**Please cite**: S. Moro, R. Laureano and P. Cortez. Using Data Mining for Bank Direct Marketing: An Application of the CRISP-DM Methodology. In P. Novais et al. (Eds.), Proceedings of the European Simulation and Modelling Conference - ESM'2011, pp. 117-121, Guimarães, Portugal, October, 2011. EUROSIS.       \n",
      "\n",
      "**Bank Marketing**  \n",
      "The data is related with direct marketing campaigns of a Portuguese banking institution. The marketing campaigns were based on phone calls. Often, more than one contact to the same client was required, in order to access if the product (bank term deposit) would be (or not) subscribed. \n",
      "\n",
      "The classification goal is to predict if the client will subscribe a term deposit (variable y).\n",
      "\n",
      "### Attribute information  \n",
      "For more information, read [Moro et al., 2011].\n",
      "\n",
      "Input variables:\n",
      "\n",
      "- bank client data:\n",
      "\n",
      "1 - age (numeric) \n",
      "\n",
      "2 - job : type of job (categorical: \"admin.\",\"unknown\",\"unemployed\",\"management\",\"housemaid\",\"entrepreneur\", \"student\",\"blue-collar\",\"self-employed\",\"retired\",\"technician\",\"services\") \n",
      "\n",
      "3 - marital : marital status (categorical: \"married\",\"divorced\",\"single\"; note: \"divorced\"  means divorced or widowed) \n",
      "\n",
      "4 - education (categorical: \"unknown\",\"secondary\",\"primary\",\"tertiary\") \n",
      "\n",
      "5 - default: has credit in default? (binary: \"yes\",\"no\") \n",
      "\n",
      "6 - balance: average yearly balance, in euros (numeric) \n",
      "\n",
      "7 - housing: has housing loan? (binary: \"yes\",\"no\") \n",
      "\n",
      "8 - loan: has personal loan? (binary: \"yes\",\"no\")\n",
      "\n",
      "- related with the last contact of the current campaign:\n",
      "\n",
      "9 - contact: contact communication type (categorical: \"unknown\",\"telephone\",\"cellular\")\n",
      "\n",
      "10 - day: last contact day of the month (numeric)\n",
      "\n",
      "11 - month: last contact month of year (categorical: \"jan\", \"feb\", \"mar\", ..., \"nov\", \"dec\")\n",
      "\n",
      "12 - duration: last contact duration, in seconds (numeric)\n",
      "\n",
      "- other attributes:\n",
      "\n",
      "13 - campaign: number of contacts performed during this campaign and for this client (numeric, includes last contact)\n",
      "\n",
      "14 - pdays: number of days that passed by after the client was last contacted from a previous campaign (numeric, -1 means client was not previously contacted) \n",
      "\n",
      "15 - previous: number of contacts performed before this campaign and for this client (numeric) \n",
      "\n",
      "16 - poutcome: outcome of the previous marketing campaign (categorical: \"unknown\",\"other\",\"failure\",\"success\")\n",
      " \n",
      "- output variable (desired target):\n",
      "\n",
      "17 - y - has the client subscribed a term deposit? (binary: \"yes\",\"no\")\n",
      "\n",
      "Downloaded from openml.org.\n"
     ]
    }
   ],
   "source": [
    "print(marketing.get('DESCR'))"
   ]
  },
  {
   "cell_type": "code",
   "execution_count": 15,
   "id": "dede5b9f",
   "metadata": {
    "scrolled": true
   },
   "outputs": [
    {
     "data": {
      "text/html": [
       "<div>\n",
       "<style scoped>\n",
       "    .dataframe tbody tr th:only-of-type {\n",
       "        vertical-align: middle;\n",
       "    }\n",
       "\n",
       "    .dataframe tbody tr th {\n",
       "        vertical-align: top;\n",
       "    }\n",
       "\n",
       "    .dataframe thead th {\n",
       "        text-align: right;\n",
       "    }\n",
       "</style>\n",
       "<table border=\"1\" class=\"dataframe\">\n",
       "  <thead>\n",
       "    <tr style=\"text-align: right;\">\n",
       "      <th></th>\n",
       "      <th>V1</th>\n",
       "      <th>V2</th>\n",
       "      <th>V3</th>\n",
       "      <th>V4</th>\n",
       "      <th>V5</th>\n",
       "      <th>V6</th>\n",
       "      <th>V7</th>\n",
       "      <th>V8</th>\n",
       "      <th>V9</th>\n",
       "      <th>V10</th>\n",
       "      <th>V11</th>\n",
       "      <th>V12</th>\n",
       "      <th>V13</th>\n",
       "      <th>V14</th>\n",
       "      <th>V15</th>\n",
       "      <th>V16</th>\n",
       "      <th>Class</th>\n",
       "    </tr>\n",
       "  </thead>\n",
       "  <tbody>\n",
       "    <tr>\n",
       "      <th>0</th>\n",
       "      <td>58.00</td>\n",
       "      <td>management</td>\n",
       "      <td>married</td>\n",
       "      <td>tertiary</td>\n",
       "      <td>no</td>\n",
       "      <td>2,143.00</td>\n",
       "      <td>yes</td>\n",
       "      <td>no</td>\n",
       "      <td>unknown</td>\n",
       "      <td>5.00</td>\n",
       "      <td>may</td>\n",
       "      <td>261.00</td>\n",
       "      <td>1.00</td>\n",
       "      <td>-1.00</td>\n",
       "      <td>0.00</td>\n",
       "      <td>unknown</td>\n",
       "      <td>1</td>\n",
       "    </tr>\n",
       "    <tr>\n",
       "      <th>1</th>\n",
       "      <td>44.00</td>\n",
       "      <td>technician</td>\n",
       "      <td>single</td>\n",
       "      <td>secondary</td>\n",
       "      <td>no</td>\n",
       "      <td>29.00</td>\n",
       "      <td>yes</td>\n",
       "      <td>no</td>\n",
       "      <td>unknown</td>\n",
       "      <td>5.00</td>\n",
       "      <td>may</td>\n",
       "      <td>151.00</td>\n",
       "      <td>1.00</td>\n",
       "      <td>-1.00</td>\n",
       "      <td>0.00</td>\n",
       "      <td>unknown</td>\n",
       "      <td>1</td>\n",
       "    </tr>\n",
       "    <tr>\n",
       "      <th>2</th>\n",
       "      <td>33.00</td>\n",
       "      <td>entrepreneur</td>\n",
       "      <td>married</td>\n",
       "      <td>secondary</td>\n",
       "      <td>no</td>\n",
       "      <td>2.00</td>\n",
       "      <td>yes</td>\n",
       "      <td>yes</td>\n",
       "      <td>unknown</td>\n",
       "      <td>5.00</td>\n",
       "      <td>may</td>\n",
       "      <td>76.00</td>\n",
       "      <td>1.00</td>\n",
       "      <td>-1.00</td>\n",
       "      <td>0.00</td>\n",
       "      <td>unknown</td>\n",
       "      <td>1</td>\n",
       "    </tr>\n",
       "    <tr>\n",
       "      <th>3</th>\n",
       "      <td>47.00</td>\n",
       "      <td>blue-collar</td>\n",
       "      <td>married</td>\n",
       "      <td>unknown</td>\n",
       "      <td>no</td>\n",
       "      <td>1,506.00</td>\n",
       "      <td>yes</td>\n",
       "      <td>no</td>\n",
       "      <td>unknown</td>\n",
       "      <td>5.00</td>\n",
       "      <td>may</td>\n",
       "      <td>92.00</td>\n",
       "      <td>1.00</td>\n",
       "      <td>-1.00</td>\n",
       "      <td>0.00</td>\n",
       "      <td>unknown</td>\n",
       "      <td>1</td>\n",
       "    </tr>\n",
       "    <tr>\n",
       "      <th>4</th>\n",
       "      <td>33.00</td>\n",
       "      <td>unknown</td>\n",
       "      <td>single</td>\n",
       "      <td>unknown</td>\n",
       "      <td>no</td>\n",
       "      <td>1.00</td>\n",
       "      <td>no</td>\n",
       "      <td>no</td>\n",
       "      <td>unknown</td>\n",
       "      <td>5.00</td>\n",
       "      <td>may</td>\n",
       "      <td>198.00</td>\n",
       "      <td>1.00</td>\n",
       "      <td>-1.00</td>\n",
       "      <td>0.00</td>\n",
       "      <td>unknown</td>\n",
       "      <td>1</td>\n",
       "    </tr>\n",
       "  </tbody>\n",
       "</table>\n",
       "</div>"
      ],
      "text/plain": [
       "     V1            V2       V3         V4  V5       V6   V7   V8       V9  \\\n",
       "0 58.00    management  married   tertiary  no 2,143.00  yes   no  unknown   \n",
       "1 44.00    technician   single  secondary  no    29.00  yes   no  unknown   \n",
       "2 33.00  entrepreneur  married  secondary  no     2.00  yes  yes  unknown   \n",
       "3 47.00   blue-collar  married    unknown  no 1,506.00  yes   no  unknown   \n",
       "4 33.00       unknown   single    unknown  no     1.00   no   no  unknown   \n",
       "\n",
       "   V10  V11    V12  V13   V14  V15      V16 Class  \n",
       "0 5.00  may 261.00 1.00 -1.00 0.00  unknown     1  \n",
       "1 5.00  may 151.00 1.00 -1.00 0.00  unknown     1  \n",
       "2 5.00  may  76.00 1.00 -1.00 0.00  unknown     1  \n",
       "3 5.00  may  92.00 1.00 -1.00 0.00  unknown     1  \n",
       "4 5.00  may 198.00 1.00 -1.00 0.00  unknown     1  "
      ]
     },
     "execution_count": 15,
     "metadata": {},
     "output_type": "execute_result"
    }
   ],
   "source": [
    "marketing.get('frame').head()"
   ]
  },
  {
   "cell_type": "code",
   "execution_count": 16,
   "id": "ff6041a3",
   "metadata": {},
   "outputs": [],
   "source": [
    "del(marketing)"
   ]
  },
  {
   "cell_type": "markdown",
   "id": "1bb11e14",
   "metadata": {},
   "source": [
    "# Elementos básicos"
   ]
  },
  {
   "cell_type": "markdown",
   "id": "3190ff0b",
   "metadata": {},
   "source": [
    "Os principais tipos de elemento de *Machine Learning* (ML) implementados no `scikit-learn` são os *estimadores* (*estimators*) e os *preprocessadores* (*pre-processors*). *Preprocessadores* são usados para transformar os dados que serão fornecidos para os algoritmos de ML implementados em *estimadores*.\n",
    "\n",
    "*Preprocessadores* incluem dois métodos básicos: `fit` e `transform`. O método `fit` define a transformação a ser realizada, e o método `transform` a aplica aos dados.\n",
    "\n",
    "*Estimadores* incluem os métodos básicos `fit` e `predict`. O primeiro é usado para treinar modelos, e o segundo, para fazer previsões.\n",
    "\n",
    "Os dois tipos de elementos podem ser encadeados em objetos do tipo *pipeline*, que também incluem os métodos `fit` e `predict`."
   ]
  },
  {
   "cell_type": "markdown",
   "id": "ff759134",
   "metadata": {},
   "source": [
    "# Bases de treinamento e teste"
   ]
  },
  {
   "cell_type": "markdown",
   "id": "24ebe8ef",
   "metadata": {},
   "source": [
    "Normalmente, os dados obtidos para gerar modelos de ML devem ser divididos em bases de treinamento e teste. O `scikit-learn` inclui métodos para esse propósito, como `train_test_split`."
   ]
  },
  {
   "cell_type": "code",
   "execution_count": 17,
   "id": "ae824483",
   "metadata": {},
   "outputs": [],
   "source": [
    "X, y = datasets.fetch_california_housing(return_X_y = True)"
   ]
  },
  {
   "cell_type": "code",
   "execution_count": 18,
   "id": "9f2a5255",
   "metadata": {},
   "outputs": [
    {
     "name": "stdout",
     "output_type": "stream",
     "text": [
      "Dimensões de X: (20640, 8)\n",
      "Dimensões de y: (20640,)\n"
     ]
    }
   ],
   "source": [
    "print(f\"Dimensões de X: {X.shape}\\nDimensões de y: {y.shape}\")"
   ]
  },
  {
   "cell_type": "code",
   "execution_count": 19,
   "id": "46bea5e7",
   "metadata": {},
   "outputs": [],
   "source": [
    "# Geração das bases de treinamento e teste:\n",
    "from sklearn.model_selection import train_test_split\n",
    "X_train, X_test, y_train, y_test = train_test_split(X, y, \n",
    "                                                    test_size = .25,\n",
    "                                                    random_state = 42)"
   ]
  },
  {
   "cell_type": "code",
   "execution_count": 20,
   "id": "96c3156e",
   "metadata": {},
   "outputs": [
    {
     "name": "stdout",
     "output_type": "stream",
     "text": [
      "Bases de treinamento:\n",
      "Dimensões de X: (15480, 8)\n",
      "Dimensões de y: (15480,)\n",
      "\n",
      "Bases de teste:\n",
      "Dimensões de X: (5160, 8)\n",
      "Dimensões de y: (5160,)\n"
     ]
    }
   ],
   "source": [
    "print(\"Bases de treinamento:\")\n",
    "print(f\"Dimensões de X: {X_train.shape}\\nDimensões de y: {y_train.shape}\\n\")\n",
    "print(\"Bases de teste:\")\n",
    "print(f\"Dimensões de X: {X_test.shape}\\nDimensões de y: {y_test.shape}\")"
   ]
  },
  {
   "cell_type": "markdown",
   "id": "a20e52a5",
   "metadata": {},
   "source": [
    "O mesmo método pode ser aplicado a *dataframes* do `pandas`."
   ]
  },
  {
   "cell_type": "code",
   "execution_count": 21,
   "id": "a9948bd1",
   "metadata": {},
   "outputs": [],
   "source": [
    "dados = datasets.fetch_california_housing(as_frame = True).get('frame')\n",
    "dados_train, dados_test = train_test_split(dados, test_size = .25)"
   ]
  },
  {
   "cell_type": "code",
   "execution_count": 22,
   "id": "d9e3964c",
   "metadata": {},
   "outputs": [
    {
     "data": {
      "text/html": [
       "<div>\n",
       "<style scoped>\n",
       "    .dataframe tbody tr th:only-of-type {\n",
       "        vertical-align: middle;\n",
       "    }\n",
       "\n",
       "    .dataframe tbody tr th {\n",
       "        vertical-align: top;\n",
       "    }\n",
       "\n",
       "    .dataframe thead th {\n",
       "        text-align: right;\n",
       "    }\n",
       "</style>\n",
       "<table border=\"1\" class=\"dataframe\">\n",
       "  <thead>\n",
       "    <tr style=\"text-align: right;\">\n",
       "      <th></th>\n",
       "      <th>MedInc</th>\n",
       "      <th>HouseAge</th>\n",
       "      <th>AveRooms</th>\n",
       "      <th>AveBedrms</th>\n",
       "      <th>Population</th>\n",
       "      <th>AveOccup</th>\n",
       "      <th>Latitude</th>\n",
       "      <th>Longitude</th>\n",
       "      <th>MedHouseVal</th>\n",
       "    </tr>\n",
       "  </thead>\n",
       "  <tbody>\n",
       "    <tr>\n",
       "      <th>9492</th>\n",
       "      <td>2.36</td>\n",
       "      <td>26.00</td>\n",
       "      <td>4.88</td>\n",
       "      <td>1.04</td>\n",
       "      <td>494.00</td>\n",
       "      <td>3.07</td>\n",
       "      <td>39.23</td>\n",
       "      <td>-123.20</td>\n",
       "      <td>1.05</td>\n",
       "    </tr>\n",
       "    <tr>\n",
       "      <th>670</th>\n",
       "      <td>3.78</td>\n",
       "      <td>36.00</td>\n",
       "      <td>4.90</td>\n",
       "      <td>0.96</td>\n",
       "      <td>625.00</td>\n",
       "      <td>2.74</td>\n",
       "      <td>37.69</td>\n",
       "      <td>-122.16</td>\n",
       "      <td>1.92</td>\n",
       "    </tr>\n",
       "    <tr>\n",
       "      <th>11133</th>\n",
       "      <td>3.22</td>\n",
       "      <td>36.00</td>\n",
       "      <td>5.48</td>\n",
       "      <td>1.06</td>\n",
       "      <td>1,011.00</td>\n",
       "      <td>2.58</td>\n",
       "      <td>33.85</td>\n",
       "      <td>-117.93</td>\n",
       "      <td>1.97</td>\n",
       "    </tr>\n",
       "    <tr>\n",
       "      <th>14479</th>\n",
       "      <td>7.44</td>\n",
       "      <td>18.00</td>\n",
       "      <td>8.45</td>\n",
       "      <td>1.36</td>\n",
       "      <td>949.00</td>\n",
       "      <td>2.58</td>\n",
       "      <td>32.83</td>\n",
       "      <td>-117.24</td>\n",
       "      <td>4.46</td>\n",
       "    </tr>\n",
       "    <tr>\n",
       "      <th>3010</th>\n",
       "      <td>1.15</td>\n",
       "      <td>32.00</td>\n",
       "      <td>5.10</td>\n",
       "      <td>1.17</td>\n",
       "      <td>242.00</td>\n",
       "      <td>2.78</td>\n",
       "      <td>35.27</td>\n",
       "      <td>-118.99</td>\n",
       "      <td>1.50</td>\n",
       "    </tr>\n",
       "  </tbody>\n",
       "</table>\n",
       "</div>"
      ],
      "text/plain": [
       "       MedInc  HouseAge  AveRooms  AveBedrms  Population  AveOccup  Latitude  \\\n",
       "9492     2.36     26.00      4.88       1.04      494.00      3.07     39.23   \n",
       "670      3.78     36.00      4.90       0.96      625.00      2.74     37.69   \n",
       "11133    3.22     36.00      5.48       1.06    1,011.00      2.58     33.85   \n",
       "14479    7.44     18.00      8.45       1.36      949.00      2.58     32.83   \n",
       "3010     1.15     32.00      5.10       1.17      242.00      2.78     35.27   \n",
       "\n",
       "       Longitude  MedHouseVal  \n",
       "9492     -123.20         1.05  \n",
       "670      -122.16         1.92  \n",
       "11133    -117.93         1.97  \n",
       "14479    -117.24         4.46  \n",
       "3010     -118.99         1.50  "
      ]
     },
     "execution_count": 22,
     "metadata": {},
     "output_type": "execute_result"
    }
   ],
   "source": [
    "dados_train.head()"
   ]
  },
  {
   "cell_type": "code",
   "execution_count": 23,
   "id": "e4bea52d",
   "metadata": {},
   "outputs": [
    {
     "data": {
      "text/html": [
       "<div>\n",
       "<style scoped>\n",
       "    .dataframe tbody tr th:only-of-type {\n",
       "        vertical-align: middle;\n",
       "    }\n",
       "\n",
       "    .dataframe tbody tr th {\n",
       "        vertical-align: top;\n",
       "    }\n",
       "\n",
       "    .dataframe thead th {\n",
       "        text-align: right;\n",
       "    }\n",
       "</style>\n",
       "<table border=\"1\" class=\"dataframe\">\n",
       "  <thead>\n",
       "    <tr style=\"text-align: right;\">\n",
       "      <th></th>\n",
       "      <th>MedInc</th>\n",
       "      <th>HouseAge</th>\n",
       "      <th>AveRooms</th>\n",
       "      <th>AveBedrms</th>\n",
       "      <th>Population</th>\n",
       "      <th>AveOccup</th>\n",
       "      <th>Latitude</th>\n",
       "      <th>Longitude</th>\n",
       "      <th>MedHouseVal</th>\n",
       "    </tr>\n",
       "  </thead>\n",
       "  <tbody>\n",
       "    <tr>\n",
       "      <th>2654</th>\n",
       "      <td>3.08</td>\n",
       "      <td>52.00</td>\n",
       "      <td>6.19</td>\n",
       "      <td>1.04</td>\n",
       "      <td>1,152.00</td>\n",
       "      <td>2.65</td>\n",
       "      <td>40.54</td>\n",
       "      <td>-124.23</td>\n",
       "      <td>1.07</td>\n",
       "    </tr>\n",
       "    <tr>\n",
       "      <th>4509</th>\n",
       "      <td>2.29</td>\n",
       "      <td>50.00</td>\n",
       "      <td>3.65</td>\n",
       "      <td>1.04</td>\n",
       "      <td>1,526.00</td>\n",
       "      <td>3.96</td>\n",
       "      <td>34.05</td>\n",
       "      <td>-118.20</td>\n",
       "      <td>1.22</td>\n",
       "    </tr>\n",
       "    <tr>\n",
       "      <th>17373</th>\n",
       "      <td>4.82</td>\n",
       "      <td>24.00</td>\n",
       "      <td>6.63</td>\n",
       "      <td>1.00</td>\n",
       "      <td>1,171.00</td>\n",
       "      <td>2.84</td>\n",
       "      <td>34.96</td>\n",
       "      <td>-120.43</td>\n",
       "      <td>1.63</td>\n",
       "    </tr>\n",
       "    <tr>\n",
       "      <th>15861</th>\n",
       "      <td>3.71</td>\n",
       "      <td>52.00</td>\n",
       "      <td>5.69</td>\n",
       "      <td>1.16</td>\n",
       "      <td>1,645.00</td>\n",
       "      <td>2.76</td>\n",
       "      <td>37.76</td>\n",
       "      <td>-122.39</td>\n",
       "      <td>2.54</td>\n",
       "    </tr>\n",
       "    <tr>\n",
       "      <th>8199</th>\n",
       "      <td>3.48</td>\n",
       "      <td>23.00</td>\n",
       "      <td>4.26</td>\n",
       "      <td>1.14</td>\n",
       "      <td>1,478.00</td>\n",
       "      <td>2.45</td>\n",
       "      <td>33.79</td>\n",
       "      <td>-118.14</td>\n",
       "      <td>2.09</td>\n",
       "    </tr>\n",
       "  </tbody>\n",
       "</table>\n",
       "</div>"
      ],
      "text/plain": [
       "       MedInc  HouseAge  AveRooms  AveBedrms  Population  AveOccup  Latitude  \\\n",
       "2654     3.08     52.00      6.19       1.04    1,152.00      2.65     40.54   \n",
       "4509     2.29     50.00      3.65       1.04    1,526.00      3.96     34.05   \n",
       "17373    4.82     24.00      6.63       1.00    1,171.00      2.84     34.96   \n",
       "15861    3.71     52.00      5.69       1.16    1,645.00      2.76     37.76   \n",
       "8199     3.48     23.00      4.26       1.14    1,478.00      2.45     33.79   \n",
       "\n",
       "       Longitude  MedHouseVal  \n",
       "2654     -124.23         1.07  \n",
       "4509     -118.20         1.22  \n",
       "17373    -120.43         1.63  \n",
       "15861    -122.39         2.54  \n",
       "8199     -118.14         2.09  "
      ]
     },
     "execution_count": 23,
     "metadata": {},
     "output_type": "execute_result"
    }
   ],
   "source": [
    "dados_test.head()"
   ]
  },
  {
   "cell_type": "markdown",
   "id": "05985c4f",
   "metadata": {},
   "source": [
    "# Transformação de dados"
   ]
  },
  {
   "cell_type": "markdown",
   "id": "35aea65d",
   "metadata": {},
   "source": [
    "Muitos algoritmos de ML requerem dados de um certo tipo ou em um certo formato ou escala. Por exemplo:\n",
    "\n",
    " - regressões lineares não aceitam variáveis do tipo *string* como preditores ou variável dependente; \n",
    " - quando métodos de regularização são usados, deve-se transformar todos os preditores para que sejam medidos numa mesma escala;\n",
    " - de forma geral, recomenda-se a detecção e tratamento de *mising data* (dados faltando ou omitidos) e *outliers* (observações atípicas), e a eliminação de variáveis redundantes ou que variem pouco (contenham pouca informação).\n",
    "\n",
    "O `scikit-learn` implementa em objetos preprocessadores (*pre-processors*) uma variedade de tipos de transformação e seleção de variáveis. Aqui, veremos alguns exemplos. Para mais informações, consulte os tópicos [Dataset transformations](https://scikit-learn.org/stable/data_transforms.html) e [Feature selection](https://scikit-learn.org/stable/modules/feature_selection.html) no [Guia do Usuário](https://scikit-learn.org/stable/user_guide.html). Além disso, a seção [FeatureUnion: composite feature spaces](https://scikit-learn.org/stable/modules/compose.html#featureunion-composite-feature-spaces) descreve como preprocessadores podem ser executados em paralelo, e seus resultados, combinados."
   ]
  },
  {
   "cell_type": "markdown",
   "id": "fbf86f10",
   "metadata": {},
   "source": [
    "Vamos usar a base de dados de treinamento obtida da base *California Housing*."
   ]
  },
  {
   "cell_type": "code",
   "execution_count": 24,
   "id": "4ba15ff4",
   "metadata": {
    "scrolled": false
   },
   "outputs": [
    {
     "data": {
      "text/html": [
       "<div>\n",
       "<style scoped>\n",
       "    .dataframe tbody tr th:only-of-type {\n",
       "        vertical-align: middle;\n",
       "    }\n",
       "\n",
       "    .dataframe tbody tr th {\n",
       "        vertical-align: top;\n",
       "    }\n",
       "\n",
       "    .dataframe thead th {\n",
       "        text-align: right;\n",
       "    }\n",
       "</style>\n",
       "<table border=\"1\" class=\"dataframe\">\n",
       "  <thead>\n",
       "    <tr style=\"text-align: right;\">\n",
       "      <th></th>\n",
       "      <th>MedInc</th>\n",
       "      <th>HouseAge</th>\n",
       "      <th>AveRooms</th>\n",
       "      <th>AveBedrms</th>\n",
       "      <th>Population</th>\n",
       "      <th>AveOccup</th>\n",
       "      <th>Latitude</th>\n",
       "      <th>Longitude</th>\n",
       "      <th>MedHouseVal</th>\n",
       "    </tr>\n",
       "  </thead>\n",
       "  <tbody>\n",
       "    <tr>\n",
       "      <th>9492</th>\n",
       "      <td>2.36</td>\n",
       "      <td>26.00</td>\n",
       "      <td>4.88</td>\n",
       "      <td>1.04</td>\n",
       "      <td>494.00</td>\n",
       "      <td>3.07</td>\n",
       "      <td>39.23</td>\n",
       "      <td>-123.20</td>\n",
       "      <td>1.05</td>\n",
       "    </tr>\n",
       "    <tr>\n",
       "      <th>670</th>\n",
       "      <td>3.78</td>\n",
       "      <td>36.00</td>\n",
       "      <td>4.90</td>\n",
       "      <td>0.96</td>\n",
       "      <td>625.00</td>\n",
       "      <td>2.74</td>\n",
       "      <td>37.69</td>\n",
       "      <td>-122.16</td>\n",
       "      <td>1.92</td>\n",
       "    </tr>\n",
       "    <tr>\n",
       "      <th>11133</th>\n",
       "      <td>3.22</td>\n",
       "      <td>36.00</td>\n",
       "      <td>5.48</td>\n",
       "      <td>1.06</td>\n",
       "      <td>1,011.00</td>\n",
       "      <td>2.58</td>\n",
       "      <td>33.85</td>\n",
       "      <td>-117.93</td>\n",
       "      <td>1.97</td>\n",
       "    </tr>\n",
       "    <tr>\n",
       "      <th>14479</th>\n",
       "      <td>7.44</td>\n",
       "      <td>18.00</td>\n",
       "      <td>8.45</td>\n",
       "      <td>1.36</td>\n",
       "      <td>949.00</td>\n",
       "      <td>2.58</td>\n",
       "      <td>32.83</td>\n",
       "      <td>-117.24</td>\n",
       "      <td>4.46</td>\n",
       "    </tr>\n",
       "    <tr>\n",
       "      <th>3010</th>\n",
       "      <td>1.15</td>\n",
       "      <td>32.00</td>\n",
       "      <td>5.10</td>\n",
       "      <td>1.17</td>\n",
       "      <td>242.00</td>\n",
       "      <td>2.78</td>\n",
       "      <td>35.27</td>\n",
       "      <td>-118.99</td>\n",
       "      <td>1.50</td>\n",
       "    </tr>\n",
       "  </tbody>\n",
       "</table>\n",
       "</div>"
      ],
      "text/plain": [
       "       MedInc  HouseAge  AveRooms  AveBedrms  Population  AveOccup  Latitude  \\\n",
       "9492     2.36     26.00      4.88       1.04      494.00      3.07     39.23   \n",
       "670      3.78     36.00      4.90       0.96      625.00      2.74     37.69   \n",
       "11133    3.22     36.00      5.48       1.06    1,011.00      2.58     33.85   \n",
       "14479    7.44     18.00      8.45       1.36      949.00      2.58     32.83   \n",
       "3010     1.15     32.00      5.10       1.17      242.00      2.78     35.27   \n",
       "\n",
       "       Longitude  MedHouseVal  \n",
       "9492     -123.20         1.05  \n",
       "670      -122.16         1.92  \n",
       "11133    -117.93         1.97  \n",
       "14479    -117.24         4.46  \n",
       "3010     -118.99         1.50  "
      ]
     },
     "execution_count": 24,
     "metadata": {},
     "output_type": "execute_result"
    }
   ],
   "source": [
    "dados_train.head()"
   ]
  },
  {
   "cell_type": "code",
   "execution_count": 25,
   "id": "97ab50af",
   "metadata": {},
   "outputs": [
    {
     "data": {
      "text/html": [
       "<div>\n",
       "<style scoped>\n",
       "    .dataframe tbody tr th:only-of-type {\n",
       "        vertical-align: middle;\n",
       "    }\n",
       "\n",
       "    .dataframe tbody tr th {\n",
       "        vertical-align: top;\n",
       "    }\n",
       "\n",
       "    .dataframe thead th {\n",
       "        text-align: right;\n",
       "    }\n",
       "</style>\n",
       "<table border=\"1\" class=\"dataframe\">\n",
       "  <thead>\n",
       "    <tr style=\"text-align: right;\">\n",
       "      <th></th>\n",
       "      <th>MedInc</th>\n",
       "      <th>HouseAge</th>\n",
       "      <th>AveRooms</th>\n",
       "      <th>AveBedrms</th>\n",
       "      <th>Population</th>\n",
       "      <th>AveOccup</th>\n",
       "      <th>Latitude</th>\n",
       "      <th>Longitude</th>\n",
       "      <th>MedHouseVal</th>\n",
       "    </tr>\n",
       "  </thead>\n",
       "  <tbody>\n",
       "    <tr>\n",
       "      <th>count</th>\n",
       "      <td>15,480.00</td>\n",
       "      <td>15,480.00</td>\n",
       "      <td>15,480.00</td>\n",
       "      <td>15,480.00</td>\n",
       "      <td>15,480.00</td>\n",
       "      <td>15,480.00</td>\n",
       "      <td>15,480.00</td>\n",
       "      <td>15,480.00</td>\n",
       "      <td>15,480.00</td>\n",
       "    </tr>\n",
       "    <tr>\n",
       "      <th>mean</th>\n",
       "      <td>3.86</td>\n",
       "      <td>28.65</td>\n",
       "      <td>5.42</td>\n",
       "      <td>1.10</td>\n",
       "      <td>1,423.67</td>\n",
       "      <td>2.99</td>\n",
       "      <td>35.63</td>\n",
       "      <td>-119.57</td>\n",
       "      <td>2.07</td>\n",
       "    </tr>\n",
       "    <tr>\n",
       "      <th>std</th>\n",
       "      <td>1.90</td>\n",
       "      <td>12.62</td>\n",
       "      <td>2.52</td>\n",
       "      <td>0.48</td>\n",
       "      <td>1,126.39</td>\n",
       "      <td>4.23</td>\n",
       "      <td>2.14</td>\n",
       "      <td>2.00</td>\n",
       "      <td>1.15</td>\n",
       "    </tr>\n",
       "    <tr>\n",
       "      <th>min</th>\n",
       "      <td>0.50</td>\n",
       "      <td>1.00</td>\n",
       "      <td>1.00</td>\n",
       "      <td>0.33</td>\n",
       "      <td>3.00</td>\n",
       "      <td>0.69</td>\n",
       "      <td>32.54</td>\n",
       "      <td>-124.35</td>\n",
       "      <td>0.15</td>\n",
       "    </tr>\n",
       "    <tr>\n",
       "      <th>25%</th>\n",
       "      <td>2.56</td>\n",
       "      <td>18.00</td>\n",
       "      <td>4.43</td>\n",
       "      <td>1.01</td>\n",
       "      <td>784.00</td>\n",
       "      <td>2.43</td>\n",
       "      <td>33.93</td>\n",
       "      <td>-121.79</td>\n",
       "      <td>1.20</td>\n",
       "    </tr>\n",
       "    <tr>\n",
       "      <th>50%</th>\n",
       "      <td>3.53</td>\n",
       "      <td>29.00</td>\n",
       "      <td>5.22</td>\n",
       "      <td>1.05</td>\n",
       "      <td>1,164.00</td>\n",
       "      <td>2.82</td>\n",
       "      <td>34.26</td>\n",
       "      <td>-118.49</td>\n",
       "      <td>1.80</td>\n",
       "    </tr>\n",
       "    <tr>\n",
       "      <th>75%</th>\n",
       "      <td>4.74</td>\n",
       "      <td>37.00</td>\n",
       "      <td>6.05</td>\n",
       "      <td>1.10</td>\n",
       "      <td>1,724.00</td>\n",
       "      <td>3.28</td>\n",
       "      <td>37.72</td>\n",
       "      <td>-118.01</td>\n",
       "      <td>2.65</td>\n",
       "    </tr>\n",
       "    <tr>\n",
       "      <th>max</th>\n",
       "      <td>15.00</td>\n",
       "      <td>52.00</td>\n",
       "      <td>141.91</td>\n",
       "      <td>34.07</td>\n",
       "      <td>35,682.00</td>\n",
       "      <td>502.46</td>\n",
       "      <td>41.95</td>\n",
       "      <td>-114.31</td>\n",
       "      <td>5.00</td>\n",
       "    </tr>\n",
       "  </tbody>\n",
       "</table>\n",
       "</div>"
      ],
      "text/plain": [
       "         MedInc  HouseAge  AveRooms  AveBedrms  Population  AveOccup  \\\n",
       "count 15,480.00 15,480.00 15,480.00  15,480.00   15,480.00 15,480.00   \n",
       "mean       3.86     28.65      5.42       1.10    1,423.67      2.99   \n",
       "std        1.90     12.62      2.52       0.48    1,126.39      4.23   \n",
       "min        0.50      1.00      1.00       0.33        3.00      0.69   \n",
       "25%        2.56     18.00      4.43       1.01      784.00      2.43   \n",
       "50%        3.53     29.00      5.22       1.05    1,164.00      2.82   \n",
       "75%        4.74     37.00      6.05       1.10    1,724.00      3.28   \n",
       "max       15.00     52.00    141.91      34.07   35,682.00    502.46   \n",
       "\n",
       "       Latitude  Longitude  MedHouseVal  \n",
       "count 15,480.00  15,480.00    15,480.00  \n",
       "mean      35.63    -119.57         2.07  \n",
       "std        2.14       2.00         1.15  \n",
       "min       32.54    -124.35         0.15  \n",
       "25%       33.93    -121.79         1.20  \n",
       "50%       34.26    -118.49         1.80  \n",
       "75%       37.72    -118.01         2.65  \n",
       "max       41.95    -114.31         5.00  "
      ]
     },
     "execution_count": 25,
     "metadata": {},
     "output_type": "execute_result"
    }
   ],
   "source": [
    "dados_train.describe()"
   ]
  },
  {
   "cell_type": "markdown",
   "id": "fb7973c0",
   "metadata": {},
   "source": [
    "## Eliminação de variáveis com baixa variância"
   ]
  },
  {
   "cell_type": "code",
   "execution_count": 26,
   "id": "ee96877a",
   "metadata": {},
   "outputs": [],
   "source": [
    "from sklearn.feature_selection import VarianceThreshold\n",
    "\n",
    "# Definição do preprocessador com o valor mínimo de variância:\n",
    "low_var = VarianceThreshold(threshold = 5.0)"
   ]
  },
  {
   "cell_type": "code",
   "execution_count": 27,
   "id": "7d94f6e2",
   "metadata": {},
   "outputs": [
    {
     "data": {
      "text/plain": [
       "array([[  26.  ,    4.88,  494.  ,    3.07],\n",
       "       [  36.  ,    4.9 ,  625.  ,    2.74],\n",
       "       [  36.  ,    5.48, 1011.  ,    2.58],\n",
       "       ...,\n",
       "       [  38.  ,    3.81, 1225.  ,    3.86],\n",
       "       [  19.  ,    5.02, 1052.  ,    2.46],\n",
       "       [  42.  ,    3.22,  157.  ,    3.14]])"
      ]
     },
     "execution_count": 27,
     "metadata": {},
     "output_type": "execute_result"
    }
   ],
   "source": [
    "# Base sem variáveis com baixa variância:\n",
    "low_var.fit_transform(dados_train.loc[:, \"MedInc\":\"Longitude\"])"
   ]
  },
  {
   "cell_type": "code",
   "execution_count": 28,
   "id": "4b796c94",
   "metadata": {},
   "outputs": [
    {
     "data": {
      "text/plain": [
       "array(['HouseAge', 'AveRooms', 'Population', 'AveOccup'], dtype=object)"
      ]
     },
     "execution_count": 28,
     "metadata": {},
     "output_type": "execute_result"
    }
   ],
   "source": [
    "# Variáveis mantidas:\n",
    "low_var.get_feature_names_out()"
   ]
  },
  {
   "cell_type": "code",
   "execution_count": 29,
   "id": "4fe44ff1",
   "metadata": {},
   "outputs": [
    {
     "data": {
      "text/html": [
       "<div>\n",
       "<style scoped>\n",
       "    .dataframe tbody tr th:only-of-type {\n",
       "        vertical-align: middle;\n",
       "    }\n",
       "\n",
       "    .dataframe tbody tr th {\n",
       "        vertical-align: top;\n",
       "    }\n",
       "\n",
       "    .dataframe thead th {\n",
       "        text-align: right;\n",
       "    }\n",
       "</style>\n",
       "<table border=\"1\" class=\"dataframe\">\n",
       "  <thead>\n",
       "    <tr style=\"text-align: right;\">\n",
       "      <th></th>\n",
       "      <th>Variáveis</th>\n",
       "      <th>Variâncias</th>\n",
       "    </tr>\n",
       "  </thead>\n",
       "  <tbody>\n",
       "    <tr>\n",
       "      <th>0</th>\n",
       "      <td>MedInc</td>\n",
       "      <td>3.61</td>\n",
       "    </tr>\n",
       "    <tr>\n",
       "      <th>1</th>\n",
       "      <td>HouseAge</td>\n",
       "      <td>159.26</td>\n",
       "    </tr>\n",
       "    <tr>\n",
       "      <th>2</th>\n",
       "      <td>AveRooms</td>\n",
       "      <td>6.34</td>\n",
       "    </tr>\n",
       "    <tr>\n",
       "      <th>3</th>\n",
       "      <td>AveBedrms</td>\n",
       "      <td>0.23</td>\n",
       "    </tr>\n",
       "    <tr>\n",
       "      <th>4</th>\n",
       "      <td>Population</td>\n",
       "      <td>1,268,682.20</td>\n",
       "    </tr>\n",
       "    <tr>\n",
       "      <th>5</th>\n",
       "      <td>AveOccup</td>\n",
       "      <td>17.87</td>\n",
       "    </tr>\n",
       "    <tr>\n",
       "      <th>6</th>\n",
       "      <td>Latitude</td>\n",
       "      <td>4.57</td>\n",
       "    </tr>\n",
       "    <tr>\n",
       "      <th>7</th>\n",
       "      <td>Longitude</td>\n",
       "      <td>4.01</td>\n",
       "    </tr>\n",
       "  </tbody>\n",
       "</table>\n",
       "</div>"
      ],
      "text/plain": [
       "    Variáveis   Variâncias\n",
       "0      MedInc         3.61\n",
       "1    HouseAge       159.26\n",
       "2    AveRooms         6.34\n",
       "3   AveBedrms         0.23\n",
       "4  Population 1,268,682.20\n",
       "5    AveOccup        17.87\n",
       "6    Latitude         4.57\n",
       "7   Longitude         4.01"
      ]
     },
     "execution_count": 29,
     "metadata": {},
     "output_type": "execute_result"
    }
   ],
   "source": [
    "# Variâncias das variáveis:\n",
    "pd.DataFrame({\"Variáveis\": low_var.feature_names_in_, \n",
    "              \"Variâncias\": low_var.variances_})"
   ]
  },
  {
   "cell_type": "markdown",
   "id": "4ae3cea0",
   "metadata": {},
   "source": [
    "## Eliminação de variáveis pouco relacionadas com o resultado"
   ]
  },
  {
   "cell_type": "code",
   "execution_count": 30,
   "id": "1aea0252",
   "metadata": {},
   "outputs": [],
   "source": [
    "from sklearn.feature_selection import SelectKBest, f_regression, mutual_info_regression"
   ]
  },
  {
   "cell_type": "code",
   "execution_count": 31,
   "id": "7c133879",
   "metadata": {
    "scrolled": false
   },
   "outputs": [
    {
     "data": {
      "text/plain": [
       "array([[   2.36,   26.  ,    4.88, ...,    3.07,   39.23, -123.2 ],\n",
       "       [   3.78,   36.  ,    4.9 , ...,    2.74,   37.69, -122.16],\n",
       "       [   3.22,   36.  ,    5.48, ...,    2.58,   33.85, -117.93],\n",
       "       ...,\n",
       "       [   1.47,   38.  ,    3.81, ...,    3.86,   34.11, -117.31],\n",
       "       [   3.5 ,   19.  ,    5.02, ...,    2.46,   36.48, -121.7 ],\n",
       "       [   2.2 ,   42.  ,    3.22, ...,    3.14,   33.81, -117.99]])"
      ]
     },
     "execution_count": 31,
     "metadata": {},
     "output_type": "execute_result"
    }
   ],
   "source": [
    "# Método f_regression:\n",
    "not_related = SelectKBest(score_func = f_regression, k = \"all\")\n",
    "not_related.fit_transform(X = dados_train.loc[:, \"MedInc\":\"Longitude\"],\n",
    "                          y = dados_train.loc[:, \"MedHouseVal\"])"
   ]
  },
  {
   "cell_type": "code",
   "execution_count": 32,
   "id": "7d749b49",
   "metadata": {
    "scrolled": true
   },
   "outputs": [
    {
     "data": {
      "text/html": [
       "<div>\n",
       "<style scoped>\n",
       "    .dataframe tbody tr th:only-of-type {\n",
       "        vertical-align: middle;\n",
       "    }\n",
       "\n",
       "    .dataframe tbody tr th {\n",
       "        vertical-align: top;\n",
       "    }\n",
       "\n",
       "    .dataframe thead th {\n",
       "        text-align: right;\n",
       "    }\n",
       "</style>\n",
       "<table border=\"1\" class=\"dataframe\">\n",
       "  <thead>\n",
       "    <tr style=\"text-align: right;\">\n",
       "      <th></th>\n",
       "      <th>Variáveis</th>\n",
       "      <th>Scores</th>\n",
       "      <th>Valor-p</th>\n",
       "    </tr>\n",
       "  </thead>\n",
       "  <tbody>\n",
       "    <tr>\n",
       "      <th>0</th>\n",
       "      <td>MedInc</td>\n",
       "      <td>13,927.68</td>\n",
       "      <td>0.00</td>\n",
       "    </tr>\n",
       "    <tr>\n",
       "      <th>1</th>\n",
       "      <td>HouseAge</td>\n",
       "      <td>203.14</td>\n",
       "      <td>0.00</td>\n",
       "    </tr>\n",
       "    <tr>\n",
       "      <th>2</th>\n",
       "      <td>AveRooms</td>\n",
       "      <td>358.59</td>\n",
       "      <td>0.00</td>\n",
       "    </tr>\n",
       "    <tr>\n",
       "      <th>3</th>\n",
       "      <td>AveBedrms</td>\n",
       "      <td>29.09</td>\n",
       "      <td>0.00</td>\n",
       "    </tr>\n",
       "    <tr>\n",
       "      <th>4</th>\n",
       "      <td>Population</td>\n",
       "      <td>8.91</td>\n",
       "      <td>0.00</td>\n",
       "    </tr>\n",
       "    <tr>\n",
       "      <th>5</th>\n",
       "      <td>AveOccup</td>\n",
       "      <td>26.32</td>\n",
       "      <td>0.00</td>\n",
       "    </tr>\n",
       "    <tr>\n",
       "      <th>6</th>\n",
       "      <td>Latitude</td>\n",
       "      <td>319.80</td>\n",
       "      <td>0.00</td>\n",
       "    </tr>\n",
       "    <tr>\n",
       "      <th>7</th>\n",
       "      <td>Longitude</td>\n",
       "      <td>33.68</td>\n",
       "      <td>0.00</td>\n",
       "    </tr>\n",
       "  </tbody>\n",
       "</table>\n",
       "</div>"
      ],
      "text/plain": [
       "    Variáveis    Scores  Valor-p\n",
       "0      MedInc 13,927.68     0.00\n",
       "1    HouseAge    203.14     0.00\n",
       "2    AveRooms    358.59     0.00\n",
       "3   AveBedrms     29.09     0.00\n",
       "4  Population      8.91     0.00\n",
       "5    AveOccup     26.32     0.00\n",
       "6    Latitude    319.80     0.00\n",
       "7   Longitude     33.68     0.00"
      ]
     },
     "execution_count": 32,
     "metadata": {},
     "output_type": "execute_result"
    }
   ],
   "source": [
    "pd.DataFrame({\"Variáveis\": not_related.feature_names_in_,\n",
    "              \"Scores\": not_related.scores_,\n",
    "              \"Valor-p\": not_related.pvalues_})"
   ]
  },
  {
   "cell_type": "code",
   "execution_count": 33,
   "id": "3bb80c6d",
   "metadata": {},
   "outputs": [
    {
     "data": {
      "text/plain": [
       "SelectKBest(k=5, score_func=<function f_regression at 0x0000029A51AE0DC0>)"
      ]
     },
     "execution_count": 33,
     "metadata": {},
     "output_type": "execute_result"
    }
   ],
   "source": [
    "# Seleção das k melhores variáveis:\n",
    "not_related.set_params(**{\"k\": 5})"
   ]
  },
  {
   "cell_type": "code",
   "execution_count": 34,
   "id": "f4017d5f",
   "metadata": {
    "scrolled": false
   },
   "outputs": [
    {
     "data": {
      "text/plain": [
       "array([[   2.36,   26.  ,    4.88,   39.23, -123.2 ],\n",
       "       [   3.78,   36.  ,    4.9 ,   37.69, -122.16],\n",
       "       [   3.22,   36.  ,    5.48,   33.85, -117.93],\n",
       "       ...,\n",
       "       [   1.47,   38.  ,    3.81,   34.11, -117.31],\n",
       "       [   3.5 ,   19.  ,    5.02,   36.48, -121.7 ],\n",
       "       [   2.2 ,   42.  ,    3.22,   33.81, -117.99]])"
      ]
     },
     "execution_count": 34,
     "metadata": {},
     "output_type": "execute_result"
    }
   ],
   "source": [
    "not_related.fit_transform(X = dados_train.loc[:, \"MedInc\":\"Longitude\"],\n",
    "                          y = dados_train.loc[:, \"MedHouseVal\"])"
   ]
  },
  {
   "cell_type": "code",
   "execution_count": 35,
   "id": "b1a7ed05",
   "metadata": {},
   "outputs": [
    {
     "data": {
      "text/plain": [
       "array(['MedInc', 'HouseAge', 'AveRooms', 'Latitude', 'Longitude'],\n",
       "      dtype=object)"
      ]
     },
     "execution_count": 35,
     "metadata": {},
     "output_type": "execute_result"
    }
   ],
   "source": [
    "not_related.get_feature_names_out()"
   ]
  },
  {
   "cell_type": "code",
   "execution_count": 36,
   "id": "4a2f6d07",
   "metadata": {
    "scrolled": false
   },
   "outputs": [
    {
     "data": {
      "text/plain": [
       "array([[   2.36,    4.88,    3.07,   39.23, -123.2 ],\n",
       "       [   3.78,    4.9 ,    2.74,   37.69, -122.16],\n",
       "       [   3.22,    5.48,    2.58,   33.85, -117.93],\n",
       "       ...,\n",
       "       [   1.47,    3.81,    3.86,   34.11, -117.31],\n",
       "       [   3.5 ,    5.02,    2.46,   36.48, -121.7 ],\n",
       "       [   2.2 ,    3.22,    3.14,   33.81, -117.99]])"
      ]
     },
     "execution_count": 36,
     "metadata": {},
     "output_type": "execute_result"
    }
   ],
   "source": [
    "# Método mutual_info_regression:\n",
    "not_related = SelectKBest(score_func = mutual_info_regression, k = 5)\n",
    "not_related.fit_transform(X = dados_train.loc[:, \"MedInc\":\"Longitude\"],\n",
    "                          y = dados_train.loc[:, \"MedHouseVal\"])"
   ]
  },
  {
   "cell_type": "code",
   "execution_count": 37,
   "id": "b3e939fc",
   "metadata": {},
   "outputs": [
    {
     "data": {
      "text/plain": [
       "array(['MedInc', 'AveRooms', 'AveOccup', 'Latitude', 'Longitude'],\n",
       "      dtype=object)"
      ]
     },
     "execution_count": 37,
     "metadata": {},
     "output_type": "execute_result"
    }
   ],
   "source": [
    "not_related.get_feature_names_out()"
   ]
  },
  {
   "cell_type": "markdown",
   "id": "514bd01a",
   "metadata": {},
   "source": [
    "## Eliminação recursiva de variáveis com validação cruzada"
   ]
  },
  {
   "cell_type": "code",
   "execution_count": 38,
   "id": "c6aba3dd",
   "metadata": {},
   "outputs": [
    {
     "name": "stderr",
     "output_type": "stream",
     "text": [
      "C:\\Users\\valte\\anaconda3\\lib\\site-packages\\sklearn\\base.py:441: UserWarning: X does not have valid feature names, but RFECV was fitted with feature names\n",
      "  warnings.warn(\n"
     ]
    },
    {
     "data": {
      "text/plain": [
       "array([[   2.36,    1.04,   39.23, -123.2 ],\n",
       "       [   3.78,    0.96,   37.69, -122.16],\n",
       "       [   3.22,    1.06,   33.85, -117.93],\n",
       "       ...,\n",
       "       [   1.47,    1.01,   34.11, -117.31],\n",
       "       [   3.5 ,    1.12,   36.48, -121.7 ],\n",
       "       [   2.2 ,    0.8 ,   33.81, -117.99]])"
      ]
     },
     "execution_count": 38,
     "metadata": {},
     "output_type": "execute_result"
    }
   ],
   "source": [
    "from sklearn.feature_selection import RFECV\n",
    "from sklearn.linear_model import LinearRegression\n",
    "\n",
    "regr = LinearRegression()\n",
    "sel_vars = RFECV(regr, cv = 5)\n",
    "sel_vars.fit_transform(X = dados_train.loc[:, \"MedInc\":\"Longitude\"],\n",
    "                       y = dados_train.loc[:, \"MedHouseVal\"])"
   ]
  },
  {
   "cell_type": "code",
   "execution_count": 39,
   "id": "1460bcc8",
   "metadata": {},
   "outputs": [
    {
     "data": {
      "text/plain": [
       "array(['MedInc', 'AveBedrms', 'Latitude', 'Longitude'], dtype=object)"
      ]
     },
     "execution_count": 39,
     "metadata": {},
     "output_type": "execute_result"
    }
   ],
   "source": [
    "sel_vars.get_feature_names_out()"
   ]
  },
  {
   "cell_type": "markdown",
   "id": "1580a4ae",
   "metadata": {},
   "source": [
    "## Padronização"
   ]
  },
  {
   "cell_type": "code",
   "execution_count": 40,
   "id": "2c98284e",
   "metadata": {
    "scrolled": true
   },
   "outputs": [
    {
     "data": {
      "text/plain": [
       "array([[-0.79, -0.21, -0.21, ...,  0.02,  1.68, -1.81],\n",
       "       [-0.04,  0.58, -0.2 , ..., -0.06,  0.96, -1.29],\n",
       "       [-0.34,  0.58,  0.02, ..., -0.1 , -0.83,  0.82],\n",
       "       ...,\n",
       "       [-1.26,  0.74, -0.64, ...,  0.21, -0.71,  1.13],\n",
       "       [-0.19, -0.76, -0.16, ..., -0.12,  0.4 , -1.06],\n",
       "       [-0.88,  1.06, -0.87, ...,  0.04, -0.85,  0.79]])"
      ]
     },
     "execution_count": 40,
     "metadata": {},
     "output_type": "execute_result"
    }
   ],
   "source": [
    "from sklearn.preprocessing import StandardScaler\n",
    "\n",
    "padr = StandardScaler()\n",
    "dados_padr = padr.fit_transform(X = dados_train.loc[:, \"MedInc\":\"Longitude\"])\n",
    "dados_padr"
   ]
  },
  {
   "cell_type": "code",
   "execution_count": 41,
   "id": "4102e21f",
   "metadata": {
    "scrolled": true
   },
   "outputs": [
    {
     "data": {
      "text/html": [
       "<div>\n",
       "<style scoped>\n",
       "    .dataframe tbody tr th:only-of-type {\n",
       "        vertical-align: middle;\n",
       "    }\n",
       "\n",
       "    .dataframe tbody tr th {\n",
       "        vertical-align: top;\n",
       "    }\n",
       "\n",
       "    .dataframe thead th {\n",
       "        text-align: right;\n",
       "    }\n",
       "</style>\n",
       "<table border=\"1\" class=\"dataframe\">\n",
       "  <thead>\n",
       "    <tr style=\"text-align: right;\">\n",
       "      <th></th>\n",
       "      <th>Variáveis</th>\n",
       "      <th>Médias originais</th>\n",
       "      <th>Desvios-padrão</th>\n",
       "      <th>Novas médias</th>\n",
       "      <th>Novos desvios</th>\n",
       "    </tr>\n",
       "  </thead>\n",
       "  <tbody>\n",
       "    <tr>\n",
       "      <th>0</th>\n",
       "      <td>MedInc</td>\n",
       "      <td>3.86</td>\n",
       "      <td>1.90</td>\n",
       "      <td>-0.00</td>\n",
       "      <td>1.00</td>\n",
       "    </tr>\n",
       "    <tr>\n",
       "      <th>1</th>\n",
       "      <td>HouseAge</td>\n",
       "      <td>28.65</td>\n",
       "      <td>12.62</td>\n",
       "      <td>-0.00</td>\n",
       "      <td>1.00</td>\n",
       "    </tr>\n",
       "    <tr>\n",
       "      <th>2</th>\n",
       "      <td>AveRooms</td>\n",
       "      <td>5.42</td>\n",
       "      <td>2.52</td>\n",
       "      <td>0.00</td>\n",
       "      <td>1.00</td>\n",
       "    </tr>\n",
       "    <tr>\n",
       "      <th>3</th>\n",
       "      <td>AveBedrms</td>\n",
       "      <td>1.10</td>\n",
       "      <td>0.48</td>\n",
       "      <td>0.00</td>\n",
       "      <td>1.00</td>\n",
       "    </tr>\n",
       "    <tr>\n",
       "      <th>4</th>\n",
       "      <td>Population</td>\n",
       "      <td>1,423.67</td>\n",
       "      <td>1,126.36</td>\n",
       "      <td>0.00</td>\n",
       "      <td>1.00</td>\n",
       "    </tr>\n",
       "    <tr>\n",
       "      <th>5</th>\n",
       "      <td>AveOccup</td>\n",
       "      <td>2.99</td>\n",
       "      <td>4.23</td>\n",
       "      <td>-0.00</td>\n",
       "      <td>1.00</td>\n",
       "    </tr>\n",
       "    <tr>\n",
       "      <th>6</th>\n",
       "      <td>Latitude</td>\n",
       "      <td>35.63</td>\n",
       "      <td>2.14</td>\n",
       "      <td>0.00</td>\n",
       "      <td>1.00</td>\n",
       "    </tr>\n",
       "    <tr>\n",
       "      <th>7</th>\n",
       "      <td>Longitude</td>\n",
       "      <td>-119.57</td>\n",
       "      <td>2.00</td>\n",
       "      <td>-0.00</td>\n",
       "      <td>1.00</td>\n",
       "    </tr>\n",
       "  </tbody>\n",
       "</table>\n",
       "</div>"
      ],
      "text/plain": [
       "    Variáveis  Médias originais  Desvios-padrão  Novas médias  Novos desvios\n",
       "0      MedInc              3.86            1.90         -0.00           1.00\n",
       "1    HouseAge             28.65           12.62         -0.00           1.00\n",
       "2    AveRooms              5.42            2.52          0.00           1.00\n",
       "3   AveBedrms              1.10            0.48          0.00           1.00\n",
       "4  Population          1,423.67        1,126.36          0.00           1.00\n",
       "5    AveOccup              2.99            4.23         -0.00           1.00\n",
       "6    Latitude             35.63            2.14          0.00           1.00\n",
       "7   Longitude           -119.57            2.00         -0.00           1.00"
      ]
     },
     "execution_count": 41,
     "metadata": {},
     "output_type": "execute_result"
    }
   ],
   "source": [
    "pd.DataFrame({\"Variáveis\": dados_train.columns[:-1],\n",
    "              \"Médias originais\": padr.mean_,\n",
    "              \"Desvios-padrão\": padr.scale_,\n",
    "              \"Novas médias\": np.mean(dados_padr, axis = 0),\n",
    "              \"Novos desvios\": np.std(dados_padr, axis = 0)})"
   ]
  },
  {
   "cell_type": "markdown",
   "id": "004c5d3e",
   "metadata": {},
   "source": [
    "## MinMax"
   ]
  },
  {
   "cell_type": "code",
   "execution_count": 42,
   "id": "a27a78f9",
   "metadata": {
    "scrolled": true
   },
   "outputs": [
    {
     "data": {
      "text/plain": [
       "array([[0.13, 0.49, 0.03, ..., 0.  , 0.71, 0.11],\n",
       "       [0.23, 0.69, 0.03, ..., 0.  , 0.55, 0.22],\n",
       "       [0.19, 0.69, 0.03, ..., 0.  , 0.14, 0.64],\n",
       "       ...,\n",
       "       [0.07, 0.73, 0.02, ..., 0.01, 0.17, 0.7 ],\n",
       "       [0.21, 0.35, 0.03, ..., 0.  , 0.42, 0.26],\n",
       "       [0.12, 0.8 , 0.02, ..., 0.  , 0.13, 0.63]])"
      ]
     },
     "execution_count": 42,
     "metadata": {},
     "output_type": "execute_result"
    }
   ],
   "source": [
    "from sklearn.preprocessing import MinMaxScaler\n",
    "\n",
    "padr = MinMaxScaler()\n",
    "dados_minmax = padr.fit_transform(X = dados_train.loc[:, \"MedInc\":\"Longitude\"])\n",
    "dados_minmax"
   ]
  },
  {
   "cell_type": "code",
   "execution_count": 43,
   "id": "3e7bd1d1",
   "metadata": {
    "scrolled": false
   },
   "outputs": [
    {
     "data": {
      "text/html": [
       "<div>\n",
       "<style scoped>\n",
       "    .dataframe tbody tr th:only-of-type {\n",
       "        vertical-align: middle;\n",
       "    }\n",
       "\n",
       "    .dataframe tbody tr th {\n",
       "        vertical-align: top;\n",
       "    }\n",
       "\n",
       "    .dataframe thead th {\n",
       "        text-align: right;\n",
       "    }\n",
       "</style>\n",
       "<table border=\"1\" class=\"dataframe\">\n",
       "  <thead>\n",
       "    <tr style=\"text-align: right;\">\n",
       "      <th></th>\n",
       "      <th>Variáveis</th>\n",
       "      <th>Mínimo</th>\n",
       "      <th>Máximo</th>\n",
       "      <th>Novo mínimo</th>\n",
       "      <th>Novo máximo</th>\n",
       "    </tr>\n",
       "  </thead>\n",
       "  <tbody>\n",
       "    <tr>\n",
       "      <th>0</th>\n",
       "      <td>MedInc</td>\n",
       "      <td>0.50</td>\n",
       "      <td>15.00</td>\n",
       "      <td>0.00</td>\n",
       "      <td>1.00</td>\n",
       "    </tr>\n",
       "    <tr>\n",
       "      <th>1</th>\n",
       "      <td>HouseAge</td>\n",
       "      <td>1.00</td>\n",
       "      <td>52.00</td>\n",
       "      <td>0.00</td>\n",
       "      <td>1.00</td>\n",
       "    </tr>\n",
       "    <tr>\n",
       "      <th>2</th>\n",
       "      <td>AveRooms</td>\n",
       "      <td>1.00</td>\n",
       "      <td>141.91</td>\n",
       "      <td>0.00</td>\n",
       "      <td>1.00</td>\n",
       "    </tr>\n",
       "    <tr>\n",
       "      <th>3</th>\n",
       "      <td>AveBedrms</td>\n",
       "      <td>0.33</td>\n",
       "      <td>34.07</td>\n",
       "      <td>0.00</td>\n",
       "      <td>1.00</td>\n",
       "    </tr>\n",
       "    <tr>\n",
       "      <th>4</th>\n",
       "      <td>Population</td>\n",
       "      <td>3.00</td>\n",
       "      <td>35,682.00</td>\n",
       "      <td>0.00</td>\n",
       "      <td>1.00</td>\n",
       "    </tr>\n",
       "    <tr>\n",
       "      <th>5</th>\n",
       "      <td>AveOccup</td>\n",
       "      <td>0.69</td>\n",
       "      <td>502.46</td>\n",
       "      <td>0.00</td>\n",
       "      <td>1.00</td>\n",
       "    </tr>\n",
       "    <tr>\n",
       "      <th>6</th>\n",
       "      <td>Latitude</td>\n",
       "      <td>32.54</td>\n",
       "      <td>41.95</td>\n",
       "      <td>0.00</td>\n",
       "      <td>1.00</td>\n",
       "    </tr>\n",
       "    <tr>\n",
       "      <th>7</th>\n",
       "      <td>Longitude</td>\n",
       "      <td>-124.35</td>\n",
       "      <td>-114.31</td>\n",
       "      <td>0.00</td>\n",
       "      <td>1.00</td>\n",
       "    </tr>\n",
       "  </tbody>\n",
       "</table>\n",
       "</div>"
      ],
      "text/plain": [
       "    Variáveis  Mínimo    Máximo  Novo mínimo  Novo máximo\n",
       "0      MedInc    0.50     15.00         0.00         1.00\n",
       "1    HouseAge    1.00     52.00         0.00         1.00\n",
       "2    AveRooms    1.00    141.91         0.00         1.00\n",
       "3   AveBedrms    0.33     34.07         0.00         1.00\n",
       "4  Population    3.00 35,682.00         0.00         1.00\n",
       "5    AveOccup    0.69    502.46         0.00         1.00\n",
       "6    Latitude   32.54     41.95         0.00         1.00\n",
       "7   Longitude -124.35   -114.31         0.00         1.00"
      ]
     },
     "execution_count": 43,
     "metadata": {},
     "output_type": "execute_result"
    }
   ],
   "source": [
    "pd.DataFrame({\"Variáveis\": dados_train.columns[:-1],\n",
    "              \"Mínimo\": padr.data_min_,\n",
    "              \"Máximo\": padr.data_max_,\n",
    "              \"Novo mínimo\": np.min(dados_minmax, axis = 0),\n",
    "              \"Novo máximo\": np.max(dados_minmax, axis = 0)})"
   ]
  },
  {
   "cell_type": "markdown",
   "id": "95e98525",
   "metadata": {},
   "source": [
    "## Discretização"
   ]
  },
  {
   "cell_type": "code",
   "execution_count": 44,
   "id": "d242491d",
   "metadata": {},
   "outputs": [
    {
     "data": {
      "text/plain": [
       "array([[1., 2., 1., ..., 3., 4., 0.],\n",
       "       [2., 3., 1., ..., 2., 3., 0.],\n",
       "       [2., 3., 2., ..., 1., 0., 3.],\n",
       "       ...,\n",
       "       [0., 3., 0., ..., 4., 2., 4.],\n",
       "       [2., 1., 2., ..., 1., 2., 1.],\n",
       "       [0., 4., 0., ..., 3., 0., 3.]])"
      ]
     },
     "execution_count": 44,
     "metadata": {},
     "output_type": "execute_result"
    }
   ],
   "source": [
    "from sklearn.preprocessing import KBinsDiscretizer\n",
    "\n",
    "# Discretização em 5 faixas numeradas de 0 a 4, com o mesmo número\n",
    "# de exemplos em cada uma:\n",
    "discr = KBinsDiscretizer(n_bins = 5, \n",
    "                         encode = \"ordinal\",\n",
    "                         strategy = \"quantile\")\n",
    "discr.fit_transform(X = dados_train.loc[:, \"MedInc\":\"Longitude\"])"
   ]
  },
  {
   "cell_type": "code",
   "execution_count": 45,
   "id": "c15a29ee",
   "metadata": {},
   "outputs": [
    {
     "data": {
      "text/plain": [
       "array([[1., 0., 0., ..., 1., 0., 0.],\n",
       "       [1., 0., 0., ..., 1., 0., 0.],\n",
       "       [1., 0., 0., ..., 0., 1., 0.],\n",
       "       ...,\n",
       "       [1., 0., 0., ..., 0., 0., 1.],\n",
       "       [1., 0., 0., ..., 1., 0., 0.],\n",
       "       [1., 0., 0., ..., 0., 1., 0.]])"
      ]
     },
     "execution_count": 45,
     "metadata": {},
     "output_type": "execute_result"
    }
   ],
   "source": [
    "# Discretização em 3 faixas de mesma largura, com one-hot-encoding (matriz densa):\n",
    "discr = KBinsDiscretizer(n_bins = 3, \n",
    "                         encode = \"onehot-dense\",\n",
    "                         strategy = \"uniform\")\n",
    "dummy = discr.fit_transform(X = dados_train.loc[:, \"MedInc\":\"Longitude\"])\n",
    "dummy"
   ]
  },
  {
   "cell_type": "code",
   "execution_count": 46,
   "id": "82a3016a",
   "metadata": {},
   "outputs": [
    {
     "data": {
      "text/plain": [
       "(15480, 24)"
      ]
     },
     "execution_count": 46,
     "metadata": {},
     "output_type": "execute_result"
    }
   ],
   "source": [
    "dummy.shape  # Cada variável gerou três variáveis dummy"
   ]
  },
  {
   "cell_type": "code",
   "execution_count": 47,
   "id": "ea204a55",
   "metadata": {
    "scrolled": true
   },
   "outputs": [
    {
     "data": {
      "text/plain": [
       "array([array([ 0.5 ,  5.33, 10.17, 15.  ]), array([ 1., 18., 35., 52.]),\n",
       "       array([  1.  ,  47.97,  94.94, 141.91]),\n",
       "       array([ 0.33, 11.58, 22.82, 34.07]),\n",
       "       array([3.00e+00, 1.19e+04, 2.38e+04, 3.57e+04]),\n",
       "       array([  0.69, 167.95, 335.21, 502.46]),\n",
       "       array([32.54, 35.68, 38.81, 41.95]),\n",
       "       array([-124.35, -121.  , -117.66, -114.31])], dtype=object)"
      ]
     },
     "execution_count": 47,
     "metadata": {},
     "output_type": "execute_result"
    }
   ],
   "source": [
    "# Limites das faixas:\n",
    "discr.bin_edges_"
   ]
  },
  {
   "cell_type": "code",
   "execution_count": 48,
   "id": "4a6d6b42",
   "metadata": {},
   "outputs": [
    {
     "data": {
      "text/plain": [
       "array([ 0.5 ,  5.33, 10.17, 15.  ])"
      ]
     },
     "execution_count": 48,
     "metadata": {},
     "output_type": "execute_result"
    }
   ],
   "source": [
    "# Limites das faixas para MedInc:\n",
    "discr.bin_edges_[0]"
   ]
  },
  {
   "cell_type": "code",
   "execution_count": 49,
   "id": "18cd4456",
   "metadata": {},
   "outputs": [
    {
     "data": {
      "text/html": [
       "<div>\n",
       "<style scoped>\n",
       "    .dataframe tbody tr th:only-of-type {\n",
       "        vertical-align: middle;\n",
       "    }\n",
       "\n",
       "    .dataframe tbody tr th {\n",
       "        vertical-align: top;\n",
       "    }\n",
       "\n",
       "    .dataframe thead th {\n",
       "        text-align: right;\n",
       "    }\n",
       "</style>\n",
       "<table border=\"1\" class=\"dataframe\">\n",
       "  <thead>\n",
       "    <tr style=\"text-align: right;\">\n",
       "      <th></th>\n",
       "      <th>MedInc</th>\n",
       "      <th>Faixa 1</th>\n",
       "      <th>Faixa 2</th>\n",
       "      <th>Faixa 3</th>\n",
       "    </tr>\n",
       "  </thead>\n",
       "  <tbody>\n",
       "    <tr>\n",
       "      <th>9898</th>\n",
       "      <td>2.01</td>\n",
       "      <td>1.00</td>\n",
       "      <td>0.00</td>\n",
       "      <td>0.00</td>\n",
       "    </tr>\n",
       "    <tr>\n",
       "      <th>20455</th>\n",
       "      <td>2.71</td>\n",
       "      <td>1.00</td>\n",
       "      <td>0.00</td>\n",
       "      <td>0.00</td>\n",
       "    </tr>\n",
       "    <tr>\n",
       "      <th>8827</th>\n",
       "      <td>2.88</td>\n",
       "      <td>1.00</td>\n",
       "      <td>0.00</td>\n",
       "      <td>0.00</td>\n",
       "    </tr>\n",
       "    <tr>\n",
       "      <th>18765</th>\n",
       "      <td>2.88</td>\n",
       "      <td>1.00</td>\n",
       "      <td>0.00</td>\n",
       "      <td>0.00</td>\n",
       "    </tr>\n",
       "    <tr>\n",
       "      <th>5390</th>\n",
       "      <td>2.93</td>\n",
       "      <td>1.00</td>\n",
       "      <td>0.00</td>\n",
       "      <td>0.00</td>\n",
       "    </tr>\n",
       "    <tr>\n",
       "      <th>9278</th>\n",
       "      <td>3.81</td>\n",
       "      <td>1.00</td>\n",
       "      <td>0.00</td>\n",
       "      <td>0.00</td>\n",
       "    </tr>\n",
       "    <tr>\n",
       "      <th>10219</th>\n",
       "      <td>4.50</td>\n",
       "      <td>1.00</td>\n",
       "      <td>0.00</td>\n",
       "      <td>0.00</td>\n",
       "    </tr>\n",
       "    <tr>\n",
       "      <th>12107</th>\n",
       "      <td>4.71</td>\n",
       "      <td>1.00</td>\n",
       "      <td>0.00</td>\n",
       "      <td>0.00</td>\n",
       "    </tr>\n",
       "    <tr>\n",
       "      <th>14493</th>\n",
       "      <td>5.21</td>\n",
       "      <td>1.00</td>\n",
       "      <td>0.00</td>\n",
       "      <td>0.00</td>\n",
       "    </tr>\n",
       "    <tr>\n",
       "      <th>8569</th>\n",
       "      <td>5.41</td>\n",
       "      <td>0.00</td>\n",
       "      <td>1.00</td>\n",
       "      <td>0.00</td>\n",
       "    </tr>\n",
       "  </tbody>\n",
       "</table>\n",
       "</div>"
      ],
      "text/plain": [
       "       MedInc  Faixa 1  Faixa 2  Faixa 3\n",
       "9898     2.01     1.00     0.00     0.00\n",
       "20455    2.71     1.00     0.00     0.00\n",
       "8827     2.88     1.00     0.00     0.00\n",
       "18765    2.88     1.00     0.00     0.00\n",
       "5390     2.93     1.00     0.00     0.00\n",
       "9278     3.81     1.00     0.00     0.00\n",
       "10219    4.50     1.00     0.00     0.00\n",
       "12107    4.71     1.00     0.00     0.00\n",
       "14493    5.21     1.00     0.00     0.00\n",
       "8569     5.41     0.00     1.00     0.00"
      ]
     },
     "execution_count": 49,
     "metadata": {},
     "output_type": "execute_result"
    }
   ],
   "source": [
    "pd.DataFrame({\"MedInc\": dados_train.loc[:, \"MedInc\"],\n",
    "              \"Faixa 1\": dummy[:,0],\n",
    "              \"Faixa 2\": dummy[:,1],\n",
    "              \"Faixa 3\": dummy[:,2]}) \\\n",
    "  .sample(n = 10) \\\n",
    "  .sort_values(\"MedInc\")"
   ]
  },
  {
   "cell_type": "markdown",
   "id": "7e63ddc4",
   "metadata": {},
   "source": [
    "## *Missing Data*"
   ]
  },
  {
   "cell_type": "markdown",
   "id": "de265712",
   "metadata": {},
   "source": [
    "Vamos remover aleatoriamente alguns dados da base de treinamento obtida do *dataset* *California Housing*."
   ]
  },
  {
   "cell_type": "code",
   "execution_count": 50,
   "id": "78963a52",
   "metadata": {},
   "outputs": [
    {
     "name": "stdout",
     "output_type": "stream",
     "text": [
      "Número de exemplos: 15480\n",
      "Número de features: 8\n"
     ]
    }
   ],
   "source": [
    "n_obs, n_features = dados_train.loc[:, \"MedInc\":\"Longitude\"].shape\n",
    "print(f\"Número de exemplos: {n_obs}\")\n",
    "print(f\"Número de features: {n_features}\")"
   ]
  },
  {
   "cell_type": "code",
   "execution_count": 51,
   "id": "b19f63ff",
   "metadata": {},
   "outputs": [
    {
     "data": {
      "text/html": [
       "<div>\n",
       "<style scoped>\n",
       "    .dataframe tbody tr th:only-of-type {\n",
       "        vertical-align: middle;\n",
       "    }\n",
       "\n",
       "    .dataframe tbody tr th {\n",
       "        vertical-align: top;\n",
       "    }\n",
       "\n",
       "    .dataframe thead th {\n",
       "        text-align: right;\n",
       "    }\n",
       "</style>\n",
       "<table border=\"1\" class=\"dataframe\">\n",
       "  <thead>\n",
       "    <tr style=\"text-align: right;\">\n",
       "      <th></th>\n",
       "      <th>MedInc</th>\n",
       "      <th>HouseAge</th>\n",
       "      <th>AveRooms</th>\n",
       "      <th>AveBedrms</th>\n",
       "      <th>Population</th>\n",
       "      <th>AveOccup</th>\n",
       "      <th>Latitude</th>\n",
       "      <th>Longitude</th>\n",
       "      <th>MedHouseVal</th>\n",
       "    </tr>\n",
       "  </thead>\n",
       "  <tbody>\n",
       "    <tr>\n",
       "      <th>0</th>\n",
       "      <td>NaN</td>\n",
       "      <td>26.00</td>\n",
       "      <td>4.88</td>\n",
       "      <td>1.04</td>\n",
       "      <td>494.00</td>\n",
       "      <td>3.07</td>\n",
       "      <td>39.23</td>\n",
       "      <td>-123.20</td>\n",
       "      <td>1.05</td>\n",
       "    </tr>\n",
       "    <tr>\n",
       "      <th>1</th>\n",
       "      <td>3.78</td>\n",
       "      <td>NaN</td>\n",
       "      <td>4.90</td>\n",
       "      <td>0.96</td>\n",
       "      <td>625.00</td>\n",
       "      <td>2.74</td>\n",
       "      <td>37.69</td>\n",
       "      <td>-122.16</td>\n",
       "      <td>1.92</td>\n",
       "    </tr>\n",
       "    <tr>\n",
       "      <th>2</th>\n",
       "      <td>NaN</td>\n",
       "      <td>36.00</td>\n",
       "      <td>5.48</td>\n",
       "      <td>1.06</td>\n",
       "      <td>1,011.00</td>\n",
       "      <td>2.58</td>\n",
       "      <td>33.85</td>\n",
       "      <td>-117.93</td>\n",
       "      <td>1.97</td>\n",
       "    </tr>\n",
       "    <tr>\n",
       "      <th>3</th>\n",
       "      <td>7.44</td>\n",
       "      <td>18.00</td>\n",
       "      <td>8.45</td>\n",
       "      <td>1.36</td>\n",
       "      <td>NaN</td>\n",
       "      <td>2.58</td>\n",
       "      <td>32.83</td>\n",
       "      <td>-117.24</td>\n",
       "      <td>4.46</td>\n",
       "    </tr>\n",
       "    <tr>\n",
       "      <th>4</th>\n",
       "      <td>1.15</td>\n",
       "      <td>32.00</td>\n",
       "      <td>5.10</td>\n",
       "      <td>1.17</td>\n",
       "      <td>242.00</td>\n",
       "      <td>2.78</td>\n",
       "      <td>NaN</td>\n",
       "      <td>-118.99</td>\n",
       "      <td>1.50</td>\n",
       "    </tr>\n",
       "  </tbody>\n",
       "</table>\n",
       "</div>"
      ],
      "text/plain": [
       "   MedInc  HouseAge  AveRooms  AveBedrms  Population  AveOccup  Latitude  \\\n",
       "0     NaN     26.00      4.88       1.04      494.00      3.07     39.23   \n",
       "1    3.78       NaN      4.90       0.96      625.00      2.74     37.69   \n",
       "2     NaN     36.00      5.48       1.06    1,011.00      2.58     33.85   \n",
       "3    7.44     18.00      8.45       1.36         NaN      2.58     32.83   \n",
       "4    1.15     32.00      5.10       1.17      242.00      2.78       NaN   \n",
       "\n",
       "   Longitude  MedHouseVal  \n",
       "0    -123.20         1.05  \n",
       "1    -122.16         1.92  \n",
       "2    -117.93         1.97  \n",
       "3    -117.24         4.46  \n",
       "4    -118.99         1.50  "
      ]
     },
     "execution_count": 51,
     "metadata": {},
     "output_type": "execute_result"
    }
   ],
   "source": [
    "linhas = np.arange(n_obs)\n",
    "faltando = np.random.choice(n_features, n_obs, replace = True)\n",
    "dados_train_missing = np.array(dados_train.copy())\n",
    "dados_train_missing[linhas, faltando] = np.nan\n",
    "dados_train_missing = pd.DataFrame(dados_train_missing, columns = dados_train.columns)\n",
    "dados_train_missing.head()"
   ]
  },
  {
   "cell_type": "markdown",
   "id": "be1b039a",
   "metadata": {},
   "source": [
    "Há várias formas de tratar dados omitidos em um *dataset*. Para variáveis numéricas, pode substituir os valores pela média, mediana ou moda da coluna (não é recomendável), ou tentar imputar os valores a partir das informações contidas nas outras variáveis. Esta estratégia gera bons resultados se há uma boa correlação entre a coluna com dados omitidos e as demais colunas. "
   ]
  },
  {
   "cell_type": "markdown",
   "id": "fed3ee1d",
   "metadata": {},
   "source": [
    "A seguir, mostramos como podemos implementar uma susbtituição de valores omitidos a partir das informações contidas em outras colunas, por meio do método `IterativeImputer`. Mais informações podem ser obtidas em [Multivariate feature imputation](https://scikit-learn.org/stable/modules/impute.html#multivariate-feature-imputation)."
   ]
  },
  {
   "cell_type": "code",
   "execution_count": 52,
   "id": "d85d4efd",
   "metadata": {},
   "outputs": [
    {
     "data": {
      "text/html": [
       "<div>\n",
       "<style scoped>\n",
       "    .dataframe tbody tr th:only-of-type {\n",
       "        vertical-align: middle;\n",
       "    }\n",
       "\n",
       "    .dataframe tbody tr th {\n",
       "        vertical-align: top;\n",
       "    }\n",
       "\n",
       "    .dataframe thead th {\n",
       "        text-align: right;\n",
       "    }\n",
       "</style>\n",
       "<table border=\"1\" class=\"dataframe\">\n",
       "  <thead>\n",
       "    <tr style=\"text-align: right;\">\n",
       "      <th></th>\n",
       "      <th>MedInc</th>\n",
       "      <th>HouseAge</th>\n",
       "      <th>AveRooms</th>\n",
       "      <th>AveBedrms</th>\n",
       "      <th>Population</th>\n",
       "      <th>AveOccup</th>\n",
       "      <th>Latitude</th>\n",
       "      <th>Longitude</th>\n",
       "    </tr>\n",
       "  </thead>\n",
       "  <tbody>\n",
       "    <tr>\n",
       "      <th>0</th>\n",
       "      <td>4.19</td>\n",
       "      <td>26.00</td>\n",
       "      <td>4.88</td>\n",
       "      <td>1.04</td>\n",
       "      <td>494.00</td>\n",
       "      <td>3.07</td>\n",
       "      <td>39.23</td>\n",
       "      <td>-123.20</td>\n",
       "    </tr>\n",
       "    <tr>\n",
       "      <th>1</th>\n",
       "      <td>3.78</td>\n",
       "      <td>51.51</td>\n",
       "      <td>4.90</td>\n",
       "      <td>0.96</td>\n",
       "      <td>625.00</td>\n",
       "      <td>2.74</td>\n",
       "      <td>37.69</td>\n",
       "      <td>-122.16</td>\n",
       "    </tr>\n",
       "    <tr>\n",
       "      <th>2</th>\n",
       "      <td>4.23</td>\n",
       "      <td>36.00</td>\n",
       "      <td>5.48</td>\n",
       "      <td>1.06</td>\n",
       "      <td>1,011.00</td>\n",
       "      <td>2.58</td>\n",
       "      <td>33.85</td>\n",
       "      <td>-117.93</td>\n",
       "    </tr>\n",
       "    <tr>\n",
       "      <th>3</th>\n",
       "      <td>7.44</td>\n",
       "      <td>18.00</td>\n",
       "      <td>8.45</td>\n",
       "      <td>1.36</td>\n",
       "      <td>1,826.00</td>\n",
       "      <td>2.58</td>\n",
       "      <td>32.83</td>\n",
       "      <td>-117.24</td>\n",
       "    </tr>\n",
       "    <tr>\n",
       "      <th>4</th>\n",
       "      <td>1.15</td>\n",
       "      <td>32.00</td>\n",
       "      <td>5.10</td>\n",
       "      <td>1.17</td>\n",
       "      <td>242.00</td>\n",
       "      <td>2.78</td>\n",
       "      <td>36.55</td>\n",
       "      <td>-118.99</td>\n",
       "    </tr>\n",
       "  </tbody>\n",
       "</table>\n",
       "</div>"
      ],
      "text/plain": [
       "   MedInc  HouseAge  AveRooms  AveBedrms  Population  AveOccup  Latitude  \\\n",
       "0    4.19     26.00      4.88       1.04      494.00      3.07     39.23   \n",
       "1    3.78     51.51      4.90       0.96      625.00      2.74     37.69   \n",
       "2    4.23     36.00      5.48       1.06    1,011.00      2.58     33.85   \n",
       "3    7.44     18.00      8.45       1.36    1,826.00      2.58     32.83   \n",
       "4    1.15     32.00      5.10       1.17      242.00      2.78     36.55   \n",
       "\n",
       "   Longitude  \n",
       "0    -123.20  \n",
       "1    -122.16  \n",
       "2    -117.93  \n",
       "3    -117.24  \n",
       "4    -118.99  "
      ]
     },
     "execution_count": 52,
     "metadata": {},
     "output_type": "execute_result"
    }
   ],
   "source": [
    "from sklearn.linear_model import BayesianRidge\n",
    "from sklearn.experimental import enable_iterative_imputer\n",
    "from sklearn.impute import IterativeImputer\n",
    "\n",
    "imp = IterativeImputer(estimator = BayesianRidge(),\n",
    "                       missing_values = np.nan,\n",
    "                       sample_posterior = False,\n",
    "                       max_iter = 10, \n",
    "                       random_state=0)\n",
    "\n",
    "dados_imputed = imp.fit_transform(dados_train_missing.loc[:, \"MedInc\":\"Longitude\"])\n",
    "pd.DataFrame(dados_imputed, columns = dados_train.columns[:-1]).head()"
   ]
  },
  {
   "cell_type": "markdown",
   "id": "bc33ac2a",
   "metadata": {},
   "source": [
    "Como, neste caso, simulamos os dados omitidos, ou seja, conhecemos os valores originais no *dataset*, podemos avaliar o quanto as imputações estão próximas dos verdadeiros valores."
   ]
  },
  {
   "cell_type": "code",
   "execution_count": 53,
   "id": "2428e444",
   "metadata": {},
   "outputs": [
    {
     "data": {
      "text/html": [
       "<div>\n",
       "<style scoped>\n",
       "    .dataframe tbody tr th:only-of-type {\n",
       "        vertical-align: middle;\n",
       "    }\n",
       "\n",
       "    .dataframe tbody tr th {\n",
       "        vertical-align: top;\n",
       "    }\n",
       "\n",
       "    .dataframe thead th {\n",
       "        text-align: right;\n",
       "    }\n",
       "</style>\n",
       "<table border=\"1\" class=\"dataframe\">\n",
       "  <thead>\n",
       "    <tr style=\"text-align: right;\">\n",
       "      <th></th>\n",
       "      <th>Valores originais</th>\n",
       "      <th>Valores imputados</th>\n",
       "      <th>Diferença %</th>\n",
       "    </tr>\n",
       "  </thead>\n",
       "  <tbody>\n",
       "    <tr>\n",
       "      <th>3631</th>\n",
       "      <td>55.00</td>\n",
       "      <td>-22,283.93</td>\n",
       "      <td>-406.16</td>\n",
       "    </tr>\n",
       "    <tr>\n",
       "      <th>8508</th>\n",
       "      <td>36.00</td>\n",
       "      <td>-13,525.96</td>\n",
       "      <td>-376.72</td>\n",
       "    </tr>\n",
       "    <tr>\n",
       "      <th>12911</th>\n",
       "      <td>29.00</td>\n",
       "      <td>-8,844.60</td>\n",
       "      <td>-305.99</td>\n",
       "    </tr>\n",
       "    <tr>\n",
       "      <th>4402</th>\n",
       "      <td>32.00</td>\n",
       "      <td>-9,204.58</td>\n",
       "      <td>-288.64</td>\n",
       "    </tr>\n",
       "    <tr>\n",
       "      <th>15186</th>\n",
       "      <td>82.00</td>\n",
       "      <td>-17,471.17</td>\n",
       "      <td>-214.06</td>\n",
       "    </tr>\n",
       "    <tr>\n",
       "      <th>...</th>\n",
       "      <td>...</td>\n",
       "      <td>...</td>\n",
       "      <td>...</td>\n",
       "    </tr>\n",
       "    <tr>\n",
       "      <th>9067</th>\n",
       "      <td>43.00</td>\n",
       "      <td>7,031.62</td>\n",
       "      <td>162.53</td>\n",
       "    </tr>\n",
       "    <tr>\n",
       "      <th>3612</th>\n",
       "      <td>29.00</td>\n",
       "      <td>5,586.79</td>\n",
       "      <td>191.65</td>\n",
       "    </tr>\n",
       "    <tr>\n",
       "      <th>10424</th>\n",
       "      <td>36.00</td>\n",
       "      <td>11,478.57</td>\n",
       "      <td>317.85</td>\n",
       "    </tr>\n",
       "    <tr>\n",
       "      <th>13268</th>\n",
       "      <td>14.00</td>\n",
       "      <td>4,832.43</td>\n",
       "      <td>344.17</td>\n",
       "    </tr>\n",
       "    <tr>\n",
       "      <th>5401</th>\n",
       "      <td>5.00</td>\n",
       "      <td>2,732.44</td>\n",
       "      <td>545.49</td>\n",
       "    </tr>\n",
       "  </tbody>\n",
       "</table>\n",
       "<p>15480 rows × 3 columns</p>\n",
       "</div>"
      ],
      "text/plain": [
       "       Valores originais  Valores imputados  Diferença %\n",
       "3631               55.00         -22,283.93      -406.16\n",
       "8508               36.00         -13,525.96      -376.72\n",
       "12911              29.00          -8,844.60      -305.99\n",
       "4402               32.00          -9,204.58      -288.64\n",
       "15186              82.00         -17,471.17      -214.06\n",
       "...                  ...                ...          ...\n",
       "9067               43.00           7,031.62       162.53\n",
       "3612               29.00           5,586.79       191.65\n",
       "10424              36.00          11,478.57       317.85\n",
       "13268              14.00           4,832.43       344.17\n",
       "5401                5.00           2,732.44       545.49\n",
       "\n",
       "[15480 rows x 3 columns]"
      ]
     },
     "execution_count": 53,
     "metadata": {},
     "output_type": "execute_result"
    }
   ],
   "source": [
    "valores = pd.DataFrame({\"Valores originais\": np.array(dados_train)[linhas, faltando],\n",
    "                        \"Valores imputados\": dados_imputed[linhas, faltando],})\n",
    "valores[\"Diferença %\"] = (valores[\"Valores imputados\"] - valores[\"Valores originais\"]) / valores[\"Valores originais\"]\n",
    "valores.sort_values(\"Diferença %\")"
   ]
  },
  {
   "cell_type": "code",
   "execution_count": 54,
   "id": "64861990",
   "metadata": {
    "scrolled": true
   },
   "outputs": [
    {
     "data": {
      "image/png": "[encoded data removed]",
      "text/plain": [
       "<Figure size 432x288 with 1 Axes>"
      ]
     },
     "metadata": {
      "needs_background": "light"
     },
     "output_type": "display_data"
    }
   ],
   "source": [
    "valores.plot(\"Valores originais\", \"Diferença %\", kind = \"scatter\", alpha = .1);"
   ]
  },
  {
   "cell_type": "markdown",
   "id": "7eead62d",
   "metadata": {},
   "source": [
    "De acordo com a tabela e o gráfico, houve diferenças substanciais, especialmente para valores originais de menor magnitude. No entanto, o histograma a seguir mostra que a vasta maioria das imputações foram próximas dos valores originais."
   ]
  },
  {
   "cell_type": "code",
   "execution_count": 55,
   "id": "c599a24c",
   "metadata": {},
   "outputs": [
    {
     "data": {
      "image/png": "[encoded data removed]",
      "text/plain": [
       "<Figure size 432x288 with 1 Axes>"
      ]
     },
     "metadata": {
      "needs_background": "light"
     },
     "output_type": "display_data"
    }
   ],
   "source": [
    "valores.hist(\"Diferença %\", grid = False, bins = 100);"
   ]
  },
  {
   "cell_type": "markdown",
   "id": "c442a6c3",
   "metadata": {},
   "source": [
    "## *Outliers*"
   ]
  },
  {
   "cell_type": "markdown",
   "id": "4a9f593d",
   "metadata": {},
   "source": [
    "A detecção e o tratamento de valores atípicos é um passo importante do processo de preprocessamento de dados. Dados atípicos podem influenciar exageradamente a estimação dos parâmetros do modelo, piorando o seu desempenho quando for aplicado a novos dados."
   ]
  },
  {
   "cell_type": "markdown",
   "id": "a66211fa",
   "metadata": {},
   "source": [
    "Há dois tipos básicos de detecção de *outliers*: \n",
    " \n",
    " - métodos univariados, que analisam a distribuição dos valores numa única variável, verificando discrepâncias; e\n",
    " - métodos multivariados, que consideram a distribuição conjunta de valores em todas as variáveis simultaneamente.\n",
    " \n",
    "Ambos os tipos são implementados no `scikit-learn`. A figura abaixo mostra exemplos de identificação de *outliers* com métodos implementados no pacote. Para mais informações, consulte [Novelty and Outlier Detection](https://scikit-learn.org/stable/modules/outlier_detection.html) e [Comparing anomaly detection algorithms for outlier detection on toy datasets](https://scikit-learn.org/stable/auto_examples/miscellaneous/plot_anomaly_comparison.html#)"
   ]
  },
  {
   "cell_type": "markdown",
   "id": "3db10a53",
   "metadata": {},
   "source": [
    "<img src=\"https://scikit-learn.org/stable/_images/sphx_glr_plot_anomaly_comparison_001.png\" width=\"500px\"></br>\n",
    "<i>Fonte</i>: https://scikit-learn.org/stable/modules/outlier_detection.html"
   ]
  },
  {
   "cell_type": "markdown",
   "id": "6a81c1a5",
   "metadata": {},
   "source": [
    "Vamos considerar os dados selecionados para treinamento do *dataset* *California Housing*. Os plots de algumas variáveis contra a variável a ser prevista, *MedHouseVal*, sugerem a presença de *outliers*. No entanto, sua detecção visual não é simples. Além disso, o processo de detecção deve levar em conta todos os *features* simultaneamente. "
   ]
  },
  {
   "cell_type": "code",
   "execution_count": 56,
   "id": "ba446c20",
   "metadata": {},
   "outputs": [
    {
     "data": {
      "image/png": "[encoded data removed]",
      "text/plain": [
       "<Figure size 864x648 with 6 Axes>"
      ]
     },
     "metadata": {
      "needs_background": "light"
     },
     "output_type": "display_data"
    }
   ],
   "source": [
    "import matplotlib.pyplot as plt\n",
    "\n",
    "fig, axes = plt.subplots(2,3, figsize = (12, 9))\n",
    "\n",
    "dados_train.plot(\"MedInc\", \"MedHouseVal\", kind=\"scatter\", alpha = .1, ax = axes[0,0])\n",
    "dados_train.plot(\"HouseAge\", \"MedHouseVal\", kind=\"scatter\", alpha = .1, ax = axes[0,1])\n",
    "dados_train.plot(\"AveRooms\", \"MedHouseVal\", kind=\"scatter\", alpha = .1, ax = axes[0,2])\n",
    "dados_train.plot(\"AveBedrms\", \"MedHouseVal\", kind=\"scatter\", alpha = .1, ax = axes[1,0])\n",
    "dados_train.plot(\"AveOccup\", \"MedHouseVal\", kind=\"scatter\", alpha = .1, ax = axes[1,1])\n",
    "dados_train.plot(\"Longitude\", \"MedHouseVal\", kind=\"scatter\", alpha = .1, ax = axes[1,2]);"
   ]
  },
  {
   "cell_type": "markdown",
   "id": "6914f973",
   "metadata": {},
   "source": [
    "Vamos utilizar um dos métodos implementados no `scikit-learn`, chamado *Isolation Forest*, para identificar outliers considerando todas as dimensões da nossa amostra."
   ]
  },
  {
   "cell_type": "code",
   "execution_count": 57,
   "id": "32fea877",
   "metadata": {},
   "outputs": [
    {
     "data": {
      "text/html": [
       "<div>\n",
       "<style scoped>\n",
       "    .dataframe tbody tr th:only-of-type {\n",
       "        vertical-align: middle;\n",
       "    }\n",
       "\n",
       "    .dataframe tbody tr th {\n",
       "        vertical-align: top;\n",
       "    }\n",
       "\n",
       "    .dataframe thead th {\n",
       "        text-align: right;\n",
       "    }\n",
       "</style>\n",
       "<table border=\"1\" class=\"dataframe\">\n",
       "  <thead>\n",
       "    <tr style=\"text-align: right;\">\n",
       "      <th></th>\n",
       "      <th>MedInc</th>\n",
       "      <th>HouseAge</th>\n",
       "      <th>AveRooms</th>\n",
       "      <th>AveBedrms</th>\n",
       "      <th>Population</th>\n",
       "      <th>AveOccup</th>\n",
       "      <th>Latitude</th>\n",
       "      <th>Longitude</th>\n",
       "      <th>MedHouseVal</th>\n",
       "      <th>Outlier</th>\n",
       "    </tr>\n",
       "  </thead>\n",
       "  <tbody>\n",
       "    <tr>\n",
       "      <th>9492</th>\n",
       "      <td>2.36</td>\n",
       "      <td>26.00</td>\n",
       "      <td>4.88</td>\n",
       "      <td>1.04</td>\n",
       "      <td>494.00</td>\n",
       "      <td>3.07</td>\n",
       "      <td>39.23</td>\n",
       "      <td>-123.20</td>\n",
       "      <td>1.05</td>\n",
       "      <td>1</td>\n",
       "    </tr>\n",
       "    <tr>\n",
       "      <th>670</th>\n",
       "      <td>3.78</td>\n",
       "      <td>36.00</td>\n",
       "      <td>4.90</td>\n",
       "      <td>0.96</td>\n",
       "      <td>625.00</td>\n",
       "      <td>2.74</td>\n",
       "      <td>37.69</td>\n",
       "      <td>-122.16</td>\n",
       "      <td>1.92</td>\n",
       "      <td>1</td>\n",
       "    </tr>\n",
       "    <tr>\n",
       "      <th>11133</th>\n",
       "      <td>3.22</td>\n",
       "      <td>36.00</td>\n",
       "      <td>5.48</td>\n",
       "      <td>1.06</td>\n",
       "      <td>1,011.00</td>\n",
       "      <td>2.58</td>\n",
       "      <td>33.85</td>\n",
       "      <td>-117.93</td>\n",
       "      <td>1.97</td>\n",
       "      <td>1</td>\n",
       "    </tr>\n",
       "    <tr>\n",
       "      <th>14479</th>\n",
       "      <td>7.44</td>\n",
       "      <td>18.00</td>\n",
       "      <td>8.45</td>\n",
       "      <td>1.36</td>\n",
       "      <td>949.00</td>\n",
       "      <td>2.58</td>\n",
       "      <td>32.83</td>\n",
       "      <td>-117.24</td>\n",
       "      <td>4.46</td>\n",
       "      <td>1</td>\n",
       "    </tr>\n",
       "    <tr>\n",
       "      <th>3010</th>\n",
       "      <td>1.15</td>\n",
       "      <td>32.00</td>\n",
       "      <td>5.10</td>\n",
       "      <td>1.17</td>\n",
       "      <td>242.00</td>\n",
       "      <td>2.78</td>\n",
       "      <td>35.27</td>\n",
       "      <td>-118.99</td>\n",
       "      <td>1.50</td>\n",
       "      <td>1</td>\n",
       "    </tr>\n",
       "    <tr>\n",
       "      <th>...</th>\n",
       "      <td>...</td>\n",
       "      <td>...</td>\n",
       "      <td>...</td>\n",
       "      <td>...</td>\n",
       "      <td>...</td>\n",
       "      <td>...</td>\n",
       "      <td>...</td>\n",
       "      <td>...</td>\n",
       "      <td>...</td>\n",
       "      <td>...</td>\n",
       "    </tr>\n",
       "    <tr>\n",
       "      <th>9049</th>\n",
       "      <td>2.85</td>\n",
       "      <td>6.00</td>\n",
       "      <td>8.10</td>\n",
       "      <td>1.43</td>\n",
       "      <td>1,543.00</td>\n",
       "      <td>2.74</td>\n",
       "      <td>34.70</td>\n",
       "      <td>-118.09</td>\n",
       "      <td>1.39</td>\n",
       "      <td>1</td>\n",
       "    </tr>\n",
       "    <tr>\n",
       "      <th>4809</th>\n",
       "      <td>1.34</td>\n",
       "      <td>47.00</td>\n",
       "      <td>3.79</td>\n",
       "      <td>1.10</td>\n",
       "      <td>1,349.00</td>\n",
       "      <td>2.66</td>\n",
       "      <td>34.03</td>\n",
       "      <td>-118.34</td>\n",
       "      <td>1.25</td>\n",
       "      <td>1</td>\n",
       "    </tr>\n",
       "    <tr>\n",
       "      <th>13551</th>\n",
       "      <td>1.47</td>\n",
       "      <td>38.00</td>\n",
       "      <td>3.81</td>\n",
       "      <td>1.01</td>\n",
       "      <td>1,225.00</td>\n",
       "      <td>3.86</td>\n",
       "      <td>34.11</td>\n",
       "      <td>-117.31</td>\n",
       "      <td>0.64</td>\n",
       "      <td>1</td>\n",
       "    </tr>\n",
       "    <tr>\n",
       "      <th>9764</th>\n",
       "      <td>3.50</td>\n",
       "      <td>19.00</td>\n",
       "      <td>5.02</td>\n",
       "      <td>1.12</td>\n",
       "      <td>1,052.00</td>\n",
       "      <td>2.46</td>\n",
       "      <td>36.48</td>\n",
       "      <td>-121.70</td>\n",
       "      <td>2.88</td>\n",
       "      <td>1</td>\n",
       "    </tr>\n",
       "    <tr>\n",
       "      <th>11253</th>\n",
       "      <td>2.20</td>\n",
       "      <td>42.00</td>\n",
       "      <td>3.22</td>\n",
       "      <td>0.80</td>\n",
       "      <td>157.00</td>\n",
       "      <td>3.14</td>\n",
       "      <td>33.81</td>\n",
       "      <td>-117.99</td>\n",
       "      <td>1.53</td>\n",
       "      <td>1</td>\n",
       "    </tr>\n",
       "  </tbody>\n",
       "</table>\n",
       "<p>15480 rows × 10 columns</p>\n",
       "</div>"
      ],
      "text/plain": [
       "       MedInc  HouseAge  AveRooms  AveBedrms  Population  AveOccup  Latitude  \\\n",
       "9492     2.36     26.00      4.88       1.04      494.00      3.07     39.23   \n",
       "670      3.78     36.00      4.90       0.96      625.00      2.74     37.69   \n",
       "11133    3.22     36.00      5.48       1.06    1,011.00      2.58     33.85   \n",
       "14479    7.44     18.00      8.45       1.36      949.00      2.58     32.83   \n",
       "3010     1.15     32.00      5.10       1.17      242.00      2.78     35.27   \n",
       "...       ...       ...       ...        ...         ...       ...       ...   \n",
       "9049     2.85      6.00      8.10       1.43    1,543.00      2.74     34.70   \n",
       "4809     1.34     47.00      3.79       1.10    1,349.00      2.66     34.03   \n",
       "13551    1.47     38.00      3.81       1.01    1,225.00      3.86     34.11   \n",
       "9764     3.50     19.00      5.02       1.12    1,052.00      2.46     36.48   \n",
       "11253    2.20     42.00      3.22       0.80      157.00      3.14     33.81   \n",
       "\n",
       "       Longitude  MedHouseVal  Outlier  \n",
       "9492     -123.20         1.05        1  \n",
       "670      -122.16         1.92        1  \n",
       "11133    -117.93         1.97        1  \n",
       "14479    -117.24         4.46        1  \n",
       "3010     -118.99         1.50        1  \n",
       "...          ...          ...      ...  \n",
       "9049     -118.09         1.39        1  \n",
       "4809     -118.34         1.25        1  \n",
       "13551    -117.31         0.64        1  \n",
       "9764     -121.70         2.88        1  \n",
       "11253    -117.99         1.53        1  \n",
       "\n",
       "[15480 rows x 10 columns]"
      ]
     },
     "execution_count": 57,
     "metadata": {},
     "output_type": "execute_result"
    }
   ],
   "source": [
    "from sklearn.ensemble import IsolationForest\n",
    "\n",
    "dados_train_out = dados_train.copy()\n",
    "\n",
    "dados_train_out[\"Outlier\"] = IsolationForest(contamination = .01) \\\n",
    "                             .fit_predict(np.array(dados_train))\n",
    "dados_train_out"
   ]
  },
  {
   "cell_type": "code",
   "execution_count": 58,
   "id": "d2ce0285",
   "metadata": {},
   "outputs": [
    {
     "name": "stdout",
     "output_type": "stream",
     "text": [
      "Número de outliers detectados: 155\n"
     ]
    }
   ],
   "source": [
    "print(f\"Número de outliers detectados: {dados_train_out['Outlier'].value_counts().iloc[-1]}\")"
   ]
  },
  {
   "cell_type": "markdown",
   "id": "359bb752",
   "metadata": {},
   "source": [
    "Após a detecção de uma observação atípica, deve-se definir como será tratada. Quando a base de dados é suficientemente grande, geralmente a observação é excluída."
   ]
  },
  {
   "cell_type": "code",
   "execution_count": 59,
   "id": "67755a44",
   "metadata": {
    "scrolled": true
   },
   "outputs": [
    {
     "data": {
      "text/html": [
       "<div>\n",
       "<style scoped>\n",
       "    .dataframe tbody tr th:only-of-type {\n",
       "        vertical-align: middle;\n",
       "    }\n",
       "\n",
       "    .dataframe tbody tr th {\n",
       "        vertical-align: top;\n",
       "    }\n",
       "\n",
       "    .dataframe thead th {\n",
       "        text-align: right;\n",
       "    }\n",
       "</style>\n",
       "<table border=\"1\" class=\"dataframe\">\n",
       "  <thead>\n",
       "    <tr style=\"text-align: right;\">\n",
       "      <th></th>\n",
       "      <th>MedInc</th>\n",
       "      <th>HouseAge</th>\n",
       "      <th>AveRooms</th>\n",
       "      <th>AveBedrms</th>\n",
       "      <th>Population</th>\n",
       "      <th>AveOccup</th>\n",
       "      <th>Latitude</th>\n",
       "      <th>Longitude</th>\n",
       "      <th>MedHouseVal</th>\n",
       "    </tr>\n",
       "  </thead>\n",
       "  <tbody>\n",
       "    <tr>\n",
       "      <th>9492</th>\n",
       "      <td>2.36</td>\n",
       "      <td>26.00</td>\n",
       "      <td>4.88</td>\n",
       "      <td>1.04</td>\n",
       "      <td>494.00</td>\n",
       "      <td>3.07</td>\n",
       "      <td>39.23</td>\n",
       "      <td>-123.20</td>\n",
       "      <td>1.05</td>\n",
       "    </tr>\n",
       "    <tr>\n",
       "      <th>670</th>\n",
       "      <td>3.78</td>\n",
       "      <td>36.00</td>\n",
       "      <td>4.90</td>\n",
       "      <td>0.96</td>\n",
       "      <td>625.00</td>\n",
       "      <td>2.74</td>\n",
       "      <td>37.69</td>\n",
       "      <td>-122.16</td>\n",
       "      <td>1.92</td>\n",
       "    </tr>\n",
       "    <tr>\n",
       "      <th>11133</th>\n",
       "      <td>3.22</td>\n",
       "      <td>36.00</td>\n",
       "      <td>5.48</td>\n",
       "      <td>1.06</td>\n",
       "      <td>1,011.00</td>\n",
       "      <td>2.58</td>\n",
       "      <td>33.85</td>\n",
       "      <td>-117.93</td>\n",
       "      <td>1.97</td>\n",
       "    </tr>\n",
       "    <tr>\n",
       "      <th>14479</th>\n",
       "      <td>7.44</td>\n",
       "      <td>18.00</td>\n",
       "      <td>8.45</td>\n",
       "      <td>1.36</td>\n",
       "      <td>949.00</td>\n",
       "      <td>2.58</td>\n",
       "      <td>32.83</td>\n",
       "      <td>-117.24</td>\n",
       "      <td>4.46</td>\n",
       "    </tr>\n",
       "    <tr>\n",
       "      <th>3010</th>\n",
       "      <td>1.15</td>\n",
       "      <td>32.00</td>\n",
       "      <td>5.10</td>\n",
       "      <td>1.17</td>\n",
       "      <td>242.00</td>\n",
       "      <td>2.78</td>\n",
       "      <td>35.27</td>\n",
       "      <td>-118.99</td>\n",
       "      <td>1.50</td>\n",
       "    </tr>\n",
       "    <tr>\n",
       "      <th>...</th>\n",
       "      <td>...</td>\n",
       "      <td>...</td>\n",
       "      <td>...</td>\n",
       "      <td>...</td>\n",
       "      <td>...</td>\n",
       "      <td>...</td>\n",
       "      <td>...</td>\n",
       "      <td>...</td>\n",
       "      <td>...</td>\n",
       "    </tr>\n",
       "    <tr>\n",
       "      <th>9049</th>\n",
       "      <td>2.85</td>\n",
       "      <td>6.00</td>\n",
       "      <td>8.10</td>\n",
       "      <td>1.43</td>\n",
       "      <td>1,543.00</td>\n",
       "      <td>2.74</td>\n",
       "      <td>34.70</td>\n",
       "      <td>-118.09</td>\n",
       "      <td>1.39</td>\n",
       "    </tr>\n",
       "    <tr>\n",
       "      <th>4809</th>\n",
       "      <td>1.34</td>\n",
       "      <td>47.00</td>\n",
       "      <td>3.79</td>\n",
       "      <td>1.10</td>\n",
       "      <td>1,349.00</td>\n",
       "      <td>2.66</td>\n",
       "      <td>34.03</td>\n",
       "      <td>-118.34</td>\n",
       "      <td>1.25</td>\n",
       "    </tr>\n",
       "    <tr>\n",
       "      <th>13551</th>\n",
       "      <td>1.47</td>\n",
       "      <td>38.00</td>\n",
       "      <td>3.81</td>\n",
       "      <td>1.01</td>\n",
       "      <td>1,225.00</td>\n",
       "      <td>3.86</td>\n",
       "      <td>34.11</td>\n",
       "      <td>-117.31</td>\n",
       "      <td>0.64</td>\n",
       "    </tr>\n",
       "    <tr>\n",
       "      <th>9764</th>\n",
       "      <td>3.50</td>\n",
       "      <td>19.00</td>\n",
       "      <td>5.02</td>\n",
       "      <td>1.12</td>\n",
       "      <td>1,052.00</td>\n",
       "      <td>2.46</td>\n",
       "      <td>36.48</td>\n",
       "      <td>-121.70</td>\n",
       "      <td>2.88</td>\n",
       "    </tr>\n",
       "    <tr>\n",
       "      <th>11253</th>\n",
       "      <td>2.20</td>\n",
       "      <td>42.00</td>\n",
       "      <td>3.22</td>\n",
       "      <td>0.80</td>\n",
       "      <td>157.00</td>\n",
       "      <td>3.14</td>\n",
       "      <td>33.81</td>\n",
       "      <td>-117.99</td>\n",
       "      <td>1.53</td>\n",
       "    </tr>\n",
       "  </tbody>\n",
       "</table>\n",
       "<p>15325 rows × 9 columns</p>\n",
       "</div>"
      ],
      "text/plain": [
       "       MedInc  HouseAge  AveRooms  AveBedrms  Population  AveOccup  Latitude  \\\n",
       "9492     2.36     26.00      4.88       1.04      494.00      3.07     39.23   \n",
       "670      3.78     36.00      4.90       0.96      625.00      2.74     37.69   \n",
       "11133    3.22     36.00      5.48       1.06    1,011.00      2.58     33.85   \n",
       "14479    7.44     18.00      8.45       1.36      949.00      2.58     32.83   \n",
       "3010     1.15     32.00      5.10       1.17      242.00      2.78     35.27   \n",
       "...       ...       ...       ...        ...         ...       ...       ...   \n",
       "9049     2.85      6.00      8.10       1.43    1,543.00      2.74     34.70   \n",
       "4809     1.34     47.00      3.79       1.10    1,349.00      2.66     34.03   \n",
       "13551    1.47     38.00      3.81       1.01    1,225.00      3.86     34.11   \n",
       "9764     3.50     19.00      5.02       1.12    1,052.00      2.46     36.48   \n",
       "11253    2.20     42.00      3.22       0.80      157.00      3.14     33.81   \n",
       "\n",
       "       Longitude  MedHouseVal  \n",
       "9492     -123.20         1.05  \n",
       "670      -122.16         1.92  \n",
       "11133    -117.93         1.97  \n",
       "14479    -117.24         4.46  \n",
       "3010     -118.99         1.50  \n",
       "...          ...          ...  \n",
       "9049     -118.09         1.39  \n",
       "4809     -118.34         1.25  \n",
       "13551    -117.31         0.64  \n",
       "9764     -121.70         2.88  \n",
       "11253    -117.99         1.53  \n",
       "\n",
       "[15325 rows x 9 columns]"
      ]
     },
     "execution_count": 59,
     "metadata": {},
     "output_type": "execute_result"
    }
   ],
   "source": [
    "dados_train_out = dados_train_out.loc[dados_train_out[\"Outlier\"] == 1, :].copy()\n",
    "dados_train_out.drop(\"Outlier\", axis = 1, inplace = True)\n",
    "dados_train_out"
   ]
  },
  {
   "cell_type": "markdown",
   "id": "f54e51b7",
   "metadata": {},
   "source": [
    "Após a deleção dos outliers, os gráficos parecem ter ficados \"mais limpos\". "
   ]
  },
  {
   "cell_type": "code",
   "execution_count": 60,
   "id": "c5345d5d",
   "metadata": {
    "scrolled": true
   },
   "outputs": [
    {
     "data": {
      "image/png": "[encoded data removed]",
      "text/plain": [
       "<Figure size 864x648 with 6 Axes>"
      ]
     },
     "metadata": {
      "needs_background": "light"
     },
     "output_type": "display_data"
    }
   ],
   "source": [
    "fig, axes = plt.subplots(2,3, figsize = (12, 9))\n",
    "\n",
    "dados_train_out.plot(\"MedInc\", \"MedHouseVal\", kind=\"scatter\", alpha = .1, ax = axes[0,0])\n",
    "dados_train_out.plot(\"HouseAge\", \"MedHouseVal\", kind=\"scatter\", alpha = .1, ax = axes[0,1])\n",
    "dados_train_out.plot(\"AveRooms\", \"MedHouseVal\", kind=\"scatter\", alpha = .1, ax = axes[0,2])\n",
    "dados_train_out.plot(\"AveBedrms\", \"MedHouseVal\", kind=\"scatter\", alpha = .1, ax = axes[1,0])\n",
    "dados_train_out.plot(\"AveOccup\", \"MedHouseVal\", kind=\"scatter\", alpha = .1, ax = axes[1,1])\n",
    "dados_train_out.plot(\"Longitude\", \"MedHouseVal\", kind=\"scatter\", alpha = .1, ax = axes[1,2]);"
   ]
  },
  {
   "cell_type": "markdown",
   "id": "bda6bea1",
   "metadata": {},
   "source": [
    "## Transformações de grupos de colunas"
   ]
  },
  {
   "cell_type": "markdown",
   "id": "76147c3f",
   "metadata": {},
   "source": [
    "*Dataframes* geralmente contém colunas de diversos tipos de dados. Mesmo quando todas as colunas são de um mesmo tipo, é possível que seja necessário aplicar certas transformações a algumas delas, e não a outras.\n",
    "\n",
    "O elemento *ColumnTransformer* `scikit-learn` permite que se defina transformações diferentes para cada coluna ou grupo de colunas de uma base de dados. A seguir, mostramos alguns exemplos de aplicações. Mais informações podem ser obtidas em [ColumnTransformer for heterogeneous data](https://scikit-learn.org/stable/modules/compose.html#columntransformer-for-heterogeneous-data)."
   ]
  },
  {
   "cell_type": "code",
   "execution_count": 61,
   "id": "909dca1e",
   "metadata": {},
   "outputs": [
    {
     "data": {
      "text/html": [
       "<div>\n",
       "<style scoped>\n",
       "    .dataframe tbody tr th:only-of-type {\n",
       "        vertical-align: middle;\n",
       "    }\n",
       "\n",
       "    .dataframe tbody tr th {\n",
       "        vertical-align: top;\n",
       "    }\n",
       "\n",
       "    .dataframe thead th {\n",
       "        text-align: right;\n",
       "    }\n",
       "</style>\n",
       "<table border=\"1\" class=\"dataframe\">\n",
       "  <thead>\n",
       "    <tr style=\"text-align: right;\">\n",
       "      <th></th>\n",
       "      <th>MedInc</th>\n",
       "      <th>HouseAge</th>\n",
       "      <th>AveRooms</th>\n",
       "      <th>AveBedrms</th>\n",
       "      <th>Population</th>\n",
       "      <th>AveOccup</th>\n",
       "      <th>Latitude</th>\n",
       "      <th>Longitude</th>\n",
       "      <th>MedHouseVal</th>\n",
       "    </tr>\n",
       "  </thead>\n",
       "  <tbody>\n",
       "    <tr>\n",
       "      <th>9492</th>\n",
       "      <td>2.36</td>\n",
       "      <td>26.00</td>\n",
       "      <td>4.88</td>\n",
       "      <td>1.04</td>\n",
       "      <td>494.00</td>\n",
       "      <td>3.07</td>\n",
       "      <td>39.23</td>\n",
       "      <td>-123.20</td>\n",
       "      <td>1.05</td>\n",
       "    </tr>\n",
       "    <tr>\n",
       "      <th>670</th>\n",
       "      <td>3.78</td>\n",
       "      <td>36.00</td>\n",
       "      <td>4.90</td>\n",
       "      <td>0.96</td>\n",
       "      <td>625.00</td>\n",
       "      <td>2.74</td>\n",
       "      <td>37.69</td>\n",
       "      <td>-122.16</td>\n",
       "      <td>1.92</td>\n",
       "    </tr>\n",
       "    <tr>\n",
       "      <th>11133</th>\n",
       "      <td>3.22</td>\n",
       "      <td>36.00</td>\n",
       "      <td>5.48</td>\n",
       "      <td>1.06</td>\n",
       "      <td>1,011.00</td>\n",
       "      <td>2.58</td>\n",
       "      <td>33.85</td>\n",
       "      <td>-117.93</td>\n",
       "      <td>1.97</td>\n",
       "    </tr>\n",
       "    <tr>\n",
       "      <th>14479</th>\n",
       "      <td>7.44</td>\n",
       "      <td>18.00</td>\n",
       "      <td>8.45</td>\n",
       "      <td>1.36</td>\n",
       "      <td>949.00</td>\n",
       "      <td>2.58</td>\n",
       "      <td>32.83</td>\n",
       "      <td>-117.24</td>\n",
       "      <td>4.46</td>\n",
       "    </tr>\n",
       "    <tr>\n",
       "      <th>3010</th>\n",
       "      <td>1.15</td>\n",
       "      <td>32.00</td>\n",
       "      <td>5.10</td>\n",
       "      <td>1.17</td>\n",
       "      <td>242.00</td>\n",
       "      <td>2.78</td>\n",
       "      <td>35.27</td>\n",
       "      <td>-118.99</td>\n",
       "      <td>1.50</td>\n",
       "    </tr>\n",
       "  </tbody>\n",
       "</table>\n",
       "</div>"
      ],
      "text/plain": [
       "       MedInc  HouseAge  AveRooms  AveBedrms  Population  AveOccup  Latitude  \\\n",
       "9492     2.36     26.00      4.88       1.04      494.00      3.07     39.23   \n",
       "670      3.78     36.00      4.90       0.96      625.00      2.74     37.69   \n",
       "11133    3.22     36.00      5.48       1.06    1,011.00      2.58     33.85   \n",
       "14479    7.44     18.00      8.45       1.36      949.00      2.58     32.83   \n",
       "3010     1.15     32.00      5.10       1.17      242.00      2.78     35.27   \n",
       "\n",
       "       Longitude  MedHouseVal  \n",
       "9492     -123.20         1.05  \n",
       "670      -122.16         1.92  \n",
       "11133    -117.93         1.97  \n",
       "14479    -117.24         4.46  \n",
       "3010     -118.99         1.50  "
      ]
     },
     "execution_count": 61,
     "metadata": {},
     "output_type": "execute_result"
    }
   ],
   "source": [
    "dados_train.head()"
   ]
  },
  {
   "cell_type": "markdown",
   "id": "4230cb03",
   "metadata": {},
   "source": [
    "Vamos aplicar algumas das transformações anteriores a grupos de colunas diferentes."
   ]
  },
  {
   "cell_type": "code",
   "execution_count": 62,
   "id": "da5e275a",
   "metadata": {
    "scrolled": true
   },
   "outputs": [
    {
     "data": {
      "text/html": [
       "<div>\n",
       "<style scoped>\n",
       "    .dataframe tbody tr th:only-of-type {\n",
       "        vertical-align: middle;\n",
       "    }\n",
       "\n",
       "    .dataframe tbody tr th {\n",
       "        vertical-align: top;\n",
       "    }\n",
       "\n",
       "    .dataframe thead th {\n",
       "        text-align: right;\n",
       "    }\n",
       "</style>\n",
       "<table border=\"1\" class=\"dataframe\">\n",
       "  <thead>\n",
       "    <tr style=\"text-align: right;\">\n",
       "      <th></th>\n",
       "      <th>MedInc</th>\n",
       "      <th>HouseAge</th>\n",
       "      <th>AveRooms</th>\n",
       "      <th>AveBedrms</th>\n",
       "      <th>Population</th>\n",
       "      <th>AveOccup</th>\n",
       "      <th>Latitude</th>\n",
       "      <th>Longitude</th>\n",
       "      <th>MedHouseVal</th>\n",
       "    </tr>\n",
       "  </thead>\n",
       "  <tbody>\n",
       "    <tr>\n",
       "      <th>9492</th>\n",
       "      <td>2.36</td>\n",
       "      <td>26.00</td>\n",
       "      <td>4.88</td>\n",
       "      <td>1.04</td>\n",
       "      <td>494.00</td>\n",
       "      <td>3.07</td>\n",
       "      <td>39.23</td>\n",
       "      <td>-123.20</td>\n",
       "      <td>1.05</td>\n",
       "    </tr>\n",
       "    <tr>\n",
       "      <th>670</th>\n",
       "      <td>3.78</td>\n",
       "      <td>36.00</td>\n",
       "      <td>4.90</td>\n",
       "      <td>0.96</td>\n",
       "      <td>625.00</td>\n",
       "      <td>2.74</td>\n",
       "      <td>37.69</td>\n",
       "      <td>-122.16</td>\n",
       "      <td>1.92</td>\n",
       "    </tr>\n",
       "    <tr>\n",
       "      <th>11133</th>\n",
       "      <td>3.22</td>\n",
       "      <td>36.00</td>\n",
       "      <td>5.48</td>\n",
       "      <td>1.06</td>\n",
       "      <td>1,011.00</td>\n",
       "      <td>2.58</td>\n",
       "      <td>33.85</td>\n",
       "      <td>-117.93</td>\n",
       "      <td>1.97</td>\n",
       "    </tr>\n",
       "    <tr>\n",
       "      <th>14479</th>\n",
       "      <td>7.44</td>\n",
       "      <td>18.00</td>\n",
       "      <td>8.45</td>\n",
       "      <td>1.36</td>\n",
       "      <td>949.00</td>\n",
       "      <td>2.58</td>\n",
       "      <td>32.83</td>\n",
       "      <td>-117.24</td>\n",
       "      <td>4.46</td>\n",
       "    </tr>\n",
       "    <tr>\n",
       "      <th>3010</th>\n",
       "      <td>1.15</td>\n",
       "      <td>32.00</td>\n",
       "      <td>5.10</td>\n",
       "      <td>1.17</td>\n",
       "      <td>242.00</td>\n",
       "      <td>2.78</td>\n",
       "      <td>35.27</td>\n",
       "      <td>-118.99</td>\n",
       "      <td>1.50</td>\n",
       "    </tr>\n",
       "  </tbody>\n",
       "</table>\n",
       "</div>"
      ],
      "text/plain": [
       "       MedInc  HouseAge  AveRooms  AveBedrms  Population  AveOccup  Latitude  \\\n",
       "9492     2.36     26.00      4.88       1.04      494.00      3.07     39.23   \n",
       "670      3.78     36.00      4.90       0.96      625.00      2.74     37.69   \n",
       "11133    3.22     36.00      5.48       1.06    1,011.00      2.58     33.85   \n",
       "14479    7.44     18.00      8.45       1.36      949.00      2.58     32.83   \n",
       "3010     1.15     32.00      5.10       1.17      242.00      2.78     35.27   \n",
       "\n",
       "       Longitude  MedHouseVal  \n",
       "9492     -123.20         1.05  \n",
       "670      -122.16         1.92  \n",
       "11133    -117.93         1.97  \n",
       "14479    -117.24         4.46  \n",
       "3010     -118.99         1.50  "
      ]
     },
     "execution_count": 62,
     "metadata": {},
     "output_type": "execute_result"
    }
   ],
   "source": [
    "from sklearn.compose import ColumnTransformer\n",
    "\n",
    "col_trans = ColumnTransformer(\n",
    "    [('dscr', KBinsDiscretizer(n_bins = 3, encode = \"onehot-dense\",\n",
    "                               strategy = \"uniform\"), [\"Population\"]),\n",
    "     ('mmx', MinMaxScaler(), [\"AveRooms\", \"AveBedrms\"]),\n",
    "     ('pdr', StandardScaler(), [\"Latitude\", \"Longitude\"])])\n",
    "\n",
    "dados_train_trans = col_trans.fit_transform(dados_train)\n",
    "dados_train_trans = \\\n",
    "    pd.DataFrame(dados_train_trans,\n",
    "                 columns = col_trans.get_feature_names_out())\n",
    "dados_train.head()"
   ]
  },
  {
   "cell_type": "markdown",
   "id": "d43466e1",
   "metadata": {},
   "source": [
    "O resultado da transformação mostra que, por default, apenas as colunas especificadas são afetadas. Além disso, os nomes das colunas geradas são precedidos do nome da transformação aplicada."
   ]
  },
  {
   "cell_type": "markdown",
   "id": "87b91c9f",
   "metadata": {},
   "source": [
    "O método `make_column_selector` permite que se especifique colunas com base em seu tipo ou padrão de nome."
   ]
  },
  {
   "cell_type": "code",
   "execution_count": 63,
   "id": "8b0b1d7c",
   "metadata": {},
   "outputs": [
    {
     "name": "stdout",
     "output_type": "stream",
     "text": [
      "<class 'pandas.core.frame.DataFrame'>\n",
      "RangeIndex: 15480 entries, 0 to 15479\n",
      "Data columns (total 7 columns):\n",
      " #   Column                Non-Null Count  Dtype   \n",
      "---  ------                --------------  -----   \n",
      " 0   dscr__Population_0.0  15480 non-null  category\n",
      " 1   dscr__Population_1.0  15480 non-null  category\n",
      " 2   dscr__Population_2.0  15480 non-null  category\n",
      " 3   mmx__AveRooms         15480 non-null  float64 \n",
      " 4   mmx__AveBedrms        15480 non-null  float64 \n",
      " 5   pdr__Latitude         15480 non-null  float64 \n",
      " 6   pdr__Longitude        15480 non-null  float64 \n",
      "dtypes: category(3), float64(4)\n",
      "memory usage: 529.6 KB\n"
     ]
    }
   ],
   "source": [
    "dados_train_trans.loc[:, \"dscr__Population_0.0\":\"dscr__Population_2.0\"] = \\\n",
    "        dados_train_trans.loc[:, \"dscr__Population_0.0\":\"dscr__Population_2.0\"] \\\n",
    "                         .astype(\"category\")\n",
    "dados_train_trans.info()"
   ]
  },
  {
   "cell_type": "code",
   "execution_count": 64,
   "id": "0fbe72fc",
   "metadata": {},
   "outputs": [
    {
     "name": "stdout",
     "output_type": "stream",
     "text": [
      "Colunas selecionadas por nome: ['mmx__mmx__AveRooms' 'mmx__mmx__AveBedrms'] \n",
      "\n",
      "Colunas selecionadas por tipo: ['pdr__mmx__AveRooms' 'pdr__mmx__AveBedrms' 'pdr__pdr__Latitude'\n",
      " 'pdr__pdr__Longitude']\n"
     ]
    }
   ],
   "source": [
    "from sklearn.compose import make_column_selector\n",
    "\n",
    "# Seleção por padrão nos nomes das colunas:\n",
    "col_trans = ColumnTransformer([('mmx', MinMaxScaler(),\n",
    "                                make_column_selector(pattern = \"Ave\"))])\n",
    "col_trans.fit(dados_train_trans)\n",
    "print(\"Colunas selecionadas por nome:\", col_trans.get_feature_names_out(), \"\\n\")\n",
    "\n",
    "# Seleção por tipo de dados:\n",
    "col_trans = ColumnTransformer([('pdr', StandardScaler(),\n",
    "                                make_column_selector(dtype_include=np.number))])\n",
    "col_trans.fit(dados_train_trans)\n",
    "print(\"Colunas selecionadas por tipo:\", col_trans.get_feature_names_out())"
   ]
  },
  {
   "cell_type": "markdown",
   "id": "7a790a8c",
   "metadata": {},
   "source": [
    "# Estimadores"
   ]
  },
  {
   "cell_type": "markdown",
   "id": "075eecf5",
   "metadata": {},
   "source": [
    "Há um grande número de algoritmos implementados no `scikit-learn`, em seus estimadores (*estimators*). Nos exemplos anteriores, usamos o estimador de regressão linear múltipla, *LinearRegression*. A documentação do pacote descreve todos os estimadores implementados para problemas de ML [supervisionados](https://scikit-learn.org/stable/supervised_learning.html) e [não-supervisionados](https://scikit-learn.org/stable/unsupervised_learning.html)."
   ]
  },
  {
   "cell_type": "markdown",
   "id": "e320e660",
   "metadata": {},
   "source": [
    "A figura a seguir mostra um fluxograma para definir o tipo de algoritmo adequado a um dado problema de ML. "
   ]
  },
  {
   "cell_type": "markdown",
   "id": "6c8a2498",
   "metadata": {},
   "source": [
    "<img src=\"https://scikit-learn.org/stable/_static/ml_map.png\" width=\"1500px\"></br>\n",
    "<i>Fonte</i>: https://scikit-learn.org/stable/tutorial/machine_learning_map/index.html"
   ]
  },
  {
   "cell_type": "markdown",
   "id": "baa8a4b1",
   "metadata": {},
   "source": [
    "Objetos de um tipo de estimador são criados instanciando-se um objeto da classe correspondente. O método de inicialização inclui parâmetros para a definição de valores dos hiperparâmetros de um algoritmo. Os hiperparâmetros podem ser alterados posteriormente por meio dos método `set_params`, que aceita como argumento um dicionário com chaves correspondentes aos hiperparâmetros do objeto criado."
   ]
  },
  {
   "cell_type": "markdown",
   "id": "fa695535",
   "metadata": {},
   "source": [
    "Vamos usar como exemplo o estimador de regressão linear *LinearRegression*, aplicado aos dados da base *California Housing*."
   ]
  },
  {
   "cell_type": "code",
   "execution_count": 65,
   "id": "98c741d6",
   "metadata": {},
   "outputs": [
    {
     "data": {
      "text/plain": [
       "LinearRegression(fit_intercept=False, n_jobs=-1)"
      ]
     },
     "execution_count": 65,
     "metadata": {},
     "output_type": "execute_result"
    }
   ],
   "source": [
    "from sklearn.linear_model import LinearRegression\n",
    "\n",
    "regr = LinearRegression(fit_intercept = False, \n",
    "                        n_jobs = -1)\n",
    "regr"
   ]
  },
  {
   "cell_type": "code",
   "execution_count": 66,
   "id": "ac4919f9",
   "metadata": {},
   "outputs": [
    {
     "data": {
      "text/plain": [
       "LinearRegression(n_jobs=2)"
      ]
     },
     "execution_count": 66,
     "metadata": {},
     "output_type": "execute_result"
    }
   ],
   "source": [
    "regr.set_params(**{'fit_intercept': True,   # É necessário desempacotar\n",
    "                   'n_jobs': 2})            # (unpack) o dicionário  \n",
    "regr"
   ]
  },
  {
   "cell_type": "markdown",
   "id": "bef3dfe9",
   "metadata": {},
   "source": [
    "O método `fit` é usado para treinar o estimador (modelo)."
   ]
  },
  {
   "cell_type": "code",
   "execution_count": 67,
   "id": "748aa8a7",
   "metadata": {
    "scrolled": true
   },
   "outputs": [
    {
     "data": {
      "text/html": [
       "<div>\n",
       "<style scoped>\n",
       "    .dataframe tbody tr th:only-of-type {\n",
       "        vertical-align: middle;\n",
       "    }\n",
       "\n",
       "    .dataframe tbody tr th {\n",
       "        vertical-align: top;\n",
       "    }\n",
       "\n",
       "    .dataframe thead th {\n",
       "        text-align: right;\n",
       "    }\n",
       "</style>\n",
       "<table border=\"1\" class=\"dataframe\">\n",
       "  <thead>\n",
       "    <tr style=\"text-align: right;\">\n",
       "      <th></th>\n",
       "      <th>MedInc</th>\n",
       "      <th>HouseAge</th>\n",
       "      <th>AveRooms</th>\n",
       "      <th>AveBedrms</th>\n",
       "      <th>Population</th>\n",
       "      <th>AveOccup</th>\n",
       "      <th>Latitude</th>\n",
       "      <th>Longitude</th>\n",
       "      <th>MedHouseVal</th>\n",
       "    </tr>\n",
       "  </thead>\n",
       "  <tbody>\n",
       "    <tr>\n",
       "      <th>9492</th>\n",
       "      <td>2.36</td>\n",
       "      <td>26.00</td>\n",
       "      <td>4.88</td>\n",
       "      <td>1.04</td>\n",
       "      <td>494.00</td>\n",
       "      <td>3.07</td>\n",
       "      <td>39.23</td>\n",
       "      <td>-123.20</td>\n",
       "      <td>1.05</td>\n",
       "    </tr>\n",
       "    <tr>\n",
       "      <th>670</th>\n",
       "      <td>3.78</td>\n",
       "      <td>36.00</td>\n",
       "      <td>4.90</td>\n",
       "      <td>0.96</td>\n",
       "      <td>625.00</td>\n",
       "      <td>2.74</td>\n",
       "      <td>37.69</td>\n",
       "      <td>-122.16</td>\n",
       "      <td>1.92</td>\n",
       "    </tr>\n",
       "    <tr>\n",
       "      <th>11133</th>\n",
       "      <td>3.22</td>\n",
       "      <td>36.00</td>\n",
       "      <td>5.48</td>\n",
       "      <td>1.06</td>\n",
       "      <td>1,011.00</td>\n",
       "      <td>2.58</td>\n",
       "      <td>33.85</td>\n",
       "      <td>-117.93</td>\n",
       "      <td>1.97</td>\n",
       "    </tr>\n",
       "  </tbody>\n",
       "</table>\n",
       "</div>"
      ],
      "text/plain": [
       "       MedInc  HouseAge  AveRooms  AveBedrms  Population  AveOccup  Latitude  \\\n",
       "9492     2.36     26.00      4.88       1.04      494.00      3.07     39.23   \n",
       "670      3.78     36.00      4.90       0.96      625.00      2.74     37.69   \n",
       "11133    3.22     36.00      5.48       1.06    1,011.00      2.58     33.85   \n",
       "\n",
       "       Longitude  MedHouseVal  \n",
       "9492     -123.20         1.05  \n",
       "670      -122.16         1.92  \n",
       "11133    -117.93         1.97  "
      ]
     },
     "execution_count": 67,
     "metadata": {},
     "output_type": "execute_result"
    }
   ],
   "source": [
    "dados_train.head(3)"
   ]
  },
  {
   "cell_type": "code",
   "execution_count": 68,
   "id": "9fa4d056",
   "metadata": {
    "scrolled": true
   },
   "outputs": [
    {
     "data": {
      "text/html": [
       "<div>\n",
       "<style scoped>\n",
       "    .dataframe tbody tr th:only-of-type {\n",
       "        vertical-align: middle;\n",
       "    }\n",
       "\n",
       "    .dataframe tbody tr th {\n",
       "        vertical-align: top;\n",
       "    }\n",
       "\n",
       "    .dataframe thead th {\n",
       "        text-align: right;\n",
       "    }\n",
       "</style>\n",
       "<table border=\"1\" class=\"dataframe\">\n",
       "  <thead>\n",
       "    <tr style=\"text-align: right;\">\n",
       "      <th></th>\n",
       "      <th>Preditores</th>\n",
       "      <th>Coeficientes</th>\n",
       "    </tr>\n",
       "  </thead>\n",
       "  <tbody>\n",
       "    <tr>\n",
       "      <th>0</th>\n",
       "      <td>MedInc</td>\n",
       "      <td>0.43</td>\n",
       "    </tr>\n",
       "    <tr>\n",
       "      <th>1</th>\n",
       "      <td>HouseAge</td>\n",
       "      <td>0.01</td>\n",
       "    </tr>\n",
       "    <tr>\n",
       "      <th>2</th>\n",
       "      <td>AveRooms</td>\n",
       "      <td>-0.10</td>\n",
       "    </tr>\n",
       "    <tr>\n",
       "      <th>3</th>\n",
       "      <td>AveBedrms</td>\n",
       "      <td>0.62</td>\n",
       "    </tr>\n",
       "    <tr>\n",
       "      <th>4</th>\n",
       "      <td>Population</td>\n",
       "      <td>0.00</td>\n",
       "    </tr>\n",
       "    <tr>\n",
       "      <th>5</th>\n",
       "      <td>AveOccup</td>\n",
       "      <td>-0.01</td>\n",
       "    </tr>\n",
       "    <tr>\n",
       "      <th>6</th>\n",
       "      <td>Latitude</td>\n",
       "      <td>-0.42</td>\n",
       "    </tr>\n",
       "    <tr>\n",
       "      <th>7</th>\n",
       "      <td>Longitude</td>\n",
       "      <td>-0.44</td>\n",
       "    </tr>\n",
       "  </tbody>\n",
       "</table>\n",
       "</div>"
      ],
      "text/plain": [
       "   Preditores  Coeficientes\n",
       "0      MedInc          0.43\n",
       "1    HouseAge          0.01\n",
       "2    AveRooms         -0.10\n",
       "3   AveBedrms          0.62\n",
       "4  Population          0.00\n",
       "5    AveOccup         -0.01\n",
       "6    Latitude         -0.42\n",
       "7   Longitude         -0.44"
      ]
     },
     "execution_count": 68,
     "metadata": {},
     "output_type": "execute_result"
    }
   ],
   "source": [
    "# Treinamento:\n",
    "regr.fit(X = dados_train.loc[:, \"MedInc\":\"Longitude\"], \n",
    "         y = dados_train.loc[:, \"MedHouseVal\"])\n",
    "pd.DataFrame({\"Preditores\": regr.feature_names_in_,\n",
    "              \"Coeficientes\": regr.coef_})"
   ]
  },
  {
   "cell_type": "markdown",
   "id": "f6f443b8",
   "metadata": {},
   "source": [
    "A métrica de desempenho do modelo (função de perda ou *loss function*), que, no caso, é o $R^2$, é obtida com o método `score`."
   ]
  },
  {
   "cell_type": "code",
   "execution_count": 69,
   "id": "cc3f9ab2",
   "metadata": {},
   "outputs": [
    {
     "name": "stdout",
     "output_type": "stream",
     "text": [
      "R2 no treinamento = 0.61\n"
     ]
    }
   ],
   "source": [
    "r2 = regr.score(X = dados_train.loc[:, \"MedInc\":\"Longitude\"],\n",
    "                y = dados_train.loc[:, \"MedHouseVal\"])\n",
    "print(f\"R2 no treinamento = {r2:.2f}\")"
   ]
  },
  {
   "cell_type": "markdown",
   "id": "9fccc3c9",
   "metadata": {},
   "source": [
    "Após o treinamento do estimador, usamos o método `predict` para gerar as previsões de $y$ com a base de teste, e o método `score` para avaliar o desempenho do modelo com os novos dados."
   ]
  },
  {
   "cell_type": "code",
   "execution_count": 70,
   "id": "f03118e6",
   "metadata": {
    "scrolled": true
   },
   "outputs": [
    {
     "data": {
      "text/html": [
       "<div>\n",
       "<style scoped>\n",
       "    .dataframe tbody tr th:only-of-type {\n",
       "        vertical-align: middle;\n",
       "    }\n",
       "\n",
       "    .dataframe tbody tr th {\n",
       "        vertical-align: top;\n",
       "    }\n",
       "\n",
       "    .dataframe thead th {\n",
       "        text-align: right;\n",
       "    }\n",
       "</style>\n",
       "<table border=\"1\" class=\"dataframe\">\n",
       "  <thead>\n",
       "    <tr style=\"text-align: right;\">\n",
       "      <th></th>\n",
       "      <th>MedInc</th>\n",
       "      <th>HouseAge</th>\n",
       "      <th>AveRooms</th>\n",
       "      <th>AveBedrms</th>\n",
       "      <th>Population</th>\n",
       "      <th>AveOccup</th>\n",
       "      <th>Latitude</th>\n",
       "      <th>Longitude</th>\n",
       "      <th>MedHouseVal</th>\n",
       "    </tr>\n",
       "  </thead>\n",
       "  <tbody>\n",
       "    <tr>\n",
       "      <th>2654</th>\n",
       "      <td>3.08</td>\n",
       "      <td>52.00</td>\n",
       "      <td>6.19</td>\n",
       "      <td>1.04</td>\n",
       "      <td>1,152.00</td>\n",
       "      <td>2.65</td>\n",
       "      <td>40.54</td>\n",
       "      <td>-124.23</td>\n",
       "      <td>1.07</td>\n",
       "    </tr>\n",
       "    <tr>\n",
       "      <th>4509</th>\n",
       "      <td>2.29</td>\n",
       "      <td>50.00</td>\n",
       "      <td>3.65</td>\n",
       "      <td>1.04</td>\n",
       "      <td>1,526.00</td>\n",
       "      <td>3.96</td>\n",
       "      <td>34.05</td>\n",
       "      <td>-118.20</td>\n",
       "      <td>1.22</td>\n",
       "    </tr>\n",
       "    <tr>\n",
       "      <th>17373</th>\n",
       "      <td>4.82</td>\n",
       "      <td>24.00</td>\n",
       "      <td>6.63</td>\n",
       "      <td>1.00</td>\n",
       "      <td>1,171.00</td>\n",
       "      <td>2.84</td>\n",
       "      <td>34.96</td>\n",
       "      <td>-120.43</td>\n",
       "      <td>1.63</td>\n",
       "    </tr>\n",
       "  </tbody>\n",
       "</table>\n",
       "</div>"
      ],
      "text/plain": [
       "       MedInc  HouseAge  AveRooms  AveBedrms  Population  AveOccup  Latitude  \\\n",
       "2654     3.08     52.00      6.19       1.04    1,152.00      2.65     40.54   \n",
       "4509     2.29     50.00      3.65       1.04    1,526.00      3.96     34.05   \n",
       "17373    4.82     24.00      6.63       1.00    1,171.00      2.84     34.96   \n",
       "\n",
       "       Longitude  MedHouseVal  \n",
       "2654     -124.23         1.07  \n",
       "4509     -118.20         1.22  \n",
       "17373    -120.43         1.63  "
      ]
     },
     "execution_count": 70,
     "metadata": {},
     "output_type": "execute_result"
    }
   ],
   "source": [
    "dados_test.head(3)"
   ]
  },
  {
   "cell_type": "code",
   "execution_count": 71,
   "id": "24cc2646",
   "metadata": {},
   "outputs": [
    {
     "data": {
      "text/html": [
       "<div>\n",
       "<style scoped>\n",
       "    .dataframe tbody tr th:only-of-type {\n",
       "        vertical-align: middle;\n",
       "    }\n",
       "\n",
       "    .dataframe tbody tr th {\n",
       "        vertical-align: top;\n",
       "    }\n",
       "\n",
       "    .dataframe thead th {\n",
       "        text-align: right;\n",
       "    }\n",
       "</style>\n",
       "<table border=\"1\" class=\"dataframe\">\n",
       "  <thead>\n",
       "    <tr style=\"text-align: right;\">\n",
       "      <th></th>\n",
       "      <th>MedInc</th>\n",
       "      <th>HouseAge</th>\n",
       "      <th>AveRooms</th>\n",
       "      <th>AveBedrms</th>\n",
       "      <th>Population</th>\n",
       "      <th>AveOccup</th>\n",
       "      <th>Latitude</th>\n",
       "      <th>Longitude</th>\n",
       "      <th>MedHouseVal</th>\n",
       "      <th>PredictedVal</th>\n",
       "    </tr>\n",
       "  </thead>\n",
       "  <tbody>\n",
       "    <tr>\n",
       "      <th>2654</th>\n",
       "      <td>3.08</td>\n",
       "      <td>52.00</td>\n",
       "      <td>6.19</td>\n",
       "      <td>1.04</td>\n",
       "      <td>1,152.00</td>\n",
       "      <td>2.65</td>\n",
       "      <td>40.54</td>\n",
       "      <td>-124.23</td>\n",
       "      <td>1.07</td>\n",
       "      <td>1.81</td>\n",
       "    </tr>\n",
       "    <tr>\n",
       "      <th>4509</th>\n",
       "      <td>2.29</td>\n",
       "      <td>50.00</td>\n",
       "      <td>3.65</td>\n",
       "      <td>1.04</td>\n",
       "      <td>1,526.00</td>\n",
       "      <td>3.96</td>\n",
       "      <td>34.05</td>\n",
       "      <td>-118.20</td>\n",
       "      <td>1.22</td>\n",
       "      <td>1.80</td>\n",
       "    </tr>\n",
       "    <tr>\n",
       "      <th>17373</th>\n",
       "      <td>4.82</td>\n",
       "      <td>24.00</td>\n",
       "      <td>6.63</td>\n",
       "      <td>1.00</td>\n",
       "      <td>1,171.00</td>\n",
       "      <td>2.84</td>\n",
       "      <td>34.96</td>\n",
       "      <td>-120.43</td>\n",
       "      <td>1.63</td>\n",
       "      <td>2.91</td>\n",
       "    </tr>\n",
       "    <tr>\n",
       "      <th>15861</th>\n",
       "      <td>3.71</td>\n",
       "      <td>52.00</td>\n",
       "      <td>5.69</td>\n",
       "      <td>1.16</td>\n",
       "      <td>1,645.00</td>\n",
       "      <td>2.76</td>\n",
       "      <td>37.76</td>\n",
       "      <td>-122.39</td>\n",
       "      <td>2.54</td>\n",
       "      <td>2.58</td>\n",
       "    </tr>\n",
       "    <tr>\n",
       "      <th>8199</th>\n",
       "      <td>3.48</td>\n",
       "      <td>23.00</td>\n",
       "      <td>4.26</td>\n",
       "      <td>1.14</td>\n",
       "      <td>1,478.00</td>\n",
       "      <td>2.45</td>\n",
       "      <td>33.79</td>\n",
       "      <td>-118.14</td>\n",
       "      <td>2.09</td>\n",
       "      <td>2.15</td>\n",
       "    </tr>\n",
       "  </tbody>\n",
       "</table>\n",
       "</div>"
      ],
      "text/plain": [
       "       MedInc  HouseAge  AveRooms  AveBedrms  Population  AveOccup  Latitude  \\\n",
       "2654     3.08     52.00      6.19       1.04    1,152.00      2.65     40.54   \n",
       "4509     2.29     50.00      3.65       1.04    1,526.00      3.96     34.05   \n",
       "17373    4.82     24.00      6.63       1.00    1,171.00      2.84     34.96   \n",
       "15861    3.71     52.00      5.69       1.16    1,645.00      2.76     37.76   \n",
       "8199     3.48     23.00      4.26       1.14    1,478.00      2.45     33.79   \n",
       "\n",
       "       Longitude  MedHouseVal  PredictedVal  \n",
       "2654     -124.23         1.07          1.81  \n",
       "4509     -118.20         1.22          1.80  \n",
       "17373    -120.43         1.63          2.91  \n",
       "15861    -122.39         2.54          2.58  \n",
       "8199     -118.14         2.09          2.15  "
      ]
     },
     "execution_count": 71,
     "metadata": {},
     "output_type": "execute_result"
    }
   ],
   "source": [
    "# Previsão com a base de teste:\n",
    "dados_test[\"PredictedVal\"] = regr.predict(X = dados_test.loc[:, \"MedInc\":\"Longitude\"])\n",
    "dados_test.head()"
   ]
  },
  {
   "cell_type": "code",
   "execution_count": 72,
   "id": "0596f2f8",
   "metadata": {},
   "outputs": [
    {
     "name": "stdout",
     "output_type": "stream",
     "text": [
      "R2 no teste = 0.59\n"
     ]
    }
   ],
   "source": [
    "r2 = regr.score(X = dados_test.loc[:, \"MedInc\":\"Longitude\"], \n",
    "                y = dados_test.loc[:, \"MedHouseVal\"])\n",
    "print(f\"R2 no teste = {r2:.2f}\")"
   ]
  },
  {
   "cell_type": "markdown",
   "id": "5f6c5933",
   "metadata": {},
   "source": [
    "# Validação Cruzada"
   ]
  },
  {
   "cell_type": "markdown",
   "id": "646e9da7",
   "metadata": {},
   "source": [
    "O fluxo de um processo de ML típico é mostrado na figura abaixo. Nela, destaca-se o processo de validação cruzada (*cross validation*), utilizado para reduzir a variância das estimativas do desempenho de um modelo quando for aplicado a novos dados. "
   ]
  },
  {
   "cell_type": "markdown",
   "id": "65377cfe",
   "metadata": {},
   "source": [
    "<img src=\"https://scikit-learn.org/stable/_images/grid_search_workflow.png\" width=\"500px\"></br>\n",
    "<i>Fonte</i>: https://scikit-learn.org/stable/modules/cross_validation.html"
   ]
  },
  {
   "cell_type": "markdown",
   "id": "a94bf847",
   "metadata": {},
   "source": [
    "A validação cruzada (*cross validation*) é uma etapa importante da geração de modelos, especialmente para a definição dos *hiperparâmetros* que definem como o algoritmo de ML irá funcionar. De fato, na figura, ela aparece antes do processo de escolha dos melhores hiperparâmetros para o algoritmo de aprendizagem."
   ]
  },
  {
   "cell_type": "markdown",
   "id": "775c47e4",
   "metadata": {},
   "source": [
    "Geralmente, a validação cruzada envolver a divisão da base de treinamento original em um ou mais pares de bases de treinamento e validação, as quais podem ser usadas para a calibragem de hiperparâmetros. Dada uma base de treinamento originalmente composta de $N$ exemplos, quando $k$ pares de bases de treinamento e validação são criados, com $N(1 - 1/k)$ e $N/k$ exemplos, repectivamente, o processo é denominado $k$*-fold cross validation*. Quando $N$ pares são criados, cada par consistindo de uma partição de treinamento com $N-1$ exemplos e uma partição de teste com um exemplo, tem-se o que chamamos de *leave-one-out cross validation*."
   ]
  },
  {
   "cell_type": "markdown",
   "id": "338354ba",
   "metadata": {},
   "source": [
    "<img src=\"https://scikit-learn.org/stable/_images/grid_search_cross_validation.png\" width=\"500px\"></br>\n",
    "<i>Fonte</i>: https://scikit-learn.org/stable/modules/cross_validation.html"
   ]
  },
  {
   "cell_type": "markdown",
   "id": "47025f66",
   "metadata": {},
   "source": [
    "A seção [Visualizing cross-validation behavior in scikit-learn](https://scikit-learn.org/stable/auto_examples/model_selection/plot_cv_indices.html) apresenta exemplos de diversos tipos de validação cruzada. A seguir, implementamos um *5-fold cross validation* para modelos de regressão linear gerados com a base de dados *California Housing*."
   ]
  },
  {
   "cell_type": "code",
   "execution_count": 73,
   "id": "b3930381",
   "metadata": {},
   "outputs": [],
   "source": [
    "from sklearn.model_selection import cross_val_score\n",
    "from sklearn.linear_model import LinearRegression\n",
    "\n",
    "# Estimador que define o algoritmo de ML a ser usado:\n",
    "reg = LinearRegression()\n",
    "\n",
    "# Geração da métrica de avaliação para os modelos obtidos no k-fold cross validation:\n",
    "scores = cross_val_score(reg, \n",
    "                         dados_train.loc[:, \"MedInc\":\"Longitude\"], dados_train.loc[:, \"MedHouseVal\"], \n",
    "                         cv = 5)"
   ]
  },
  {
   "cell_type": "markdown",
   "id": "7ef7d84f",
   "metadata": {},
   "source": [
    "Por default, no `scikit-learn`, o desempenho dos modelos de regressão linear é avaliado pela média do erro ao quadrado (*Mean Squared Error*):\n",
    "<p>\n",
    "<center>$MSE = \\min_{w} || X w - y||_2^2$</center>\n",
    "</p>"
   ]
  },
  {
   "cell_type": "code",
   "execution_count": 74,
   "id": "329292b1",
   "metadata": {},
   "outputs": [
    {
     "name": "stdout",
     "output_type": "stream",
     "text": [
      "MSE obtidos: [6.32e-01 5.55e-01 6.05e-01 6.10e-01 5.52e-04]\n"
     ]
    }
   ],
   "source": [
    "print(f\"MSE obtidos: {scores}\")"
   ]
  },
  {
   "cell_type": "code",
   "execution_count": 75,
   "id": "356de3e6",
   "metadata": {},
   "outputs": [
    {
     "name": "stdout",
     "output_type": "stream",
     "text": [
      "Média dos MSE: 0.48\n",
      "Desvio padrão dos MSE: 0.24\n"
     ]
    }
   ],
   "source": [
    "print(f\"Média dos MSE: {np.mean(scores):.2f}\")\n",
    "print(f\"Desvio padrão dos MSE: {np.std(scores):.2f}\")"
   ]
  },
  {
   "cell_type": "markdown",
   "id": "cefd04e1",
   "metadata": {},
   "source": [
    "O parâmetro *scoring* do método `cross_val_score` é usado para definir outras [métricas de avaliação de modelos](https://scikit-learn.org/stable/modules/model_evaluation.html#scoring-parameter), como a média dos valores absolutos dos percentuais de erro (*Mean Absolute Percentage Error*). "
   ]
  },
  {
   "cell_type": "code",
   "execution_count": 76,
   "id": "4ff86af0",
   "metadata": {},
   "outputs": [],
   "source": [
    "scores = cross_val_score(reg, \n",
    "                         dados_train.loc[:, \"MedInc\":\"Longitude\"], dados_train.loc[:, \"MedHouseVal\"], \n",
    "                         cv = 5,\n",
    "                         scoring = \"neg_mean_absolute_percentage_error\")"
   ]
  },
  {
   "cell_type": "code",
   "execution_count": 77,
   "id": "9e57d0f8",
   "metadata": {},
   "outputs": [
    {
     "name": "stdout",
     "output_type": "stream",
     "text": [
      "MAPE obtidos: [0.31 0.33 0.31 0.32 0.31]\n",
      "Média dos MAPE: 0.316\n",
      "Desvio padrão dos MAPE: 0.008\n"
     ]
    }
   ],
   "source": [
    "scores = abs(scores)\n",
    "print(f\"MAPE obtidos: {scores}\")\n",
    "print(f\"Média dos MAPE: {np.mean(scores):.3f}\")\n",
    "print(f\"Desvio padrão dos MAPE: {np.std(scores):.3f}\")"
   ]
  },
  {
   "cell_type": "markdown",
   "id": "497960bc",
   "metadata": {},
   "source": [
    "O parâmetro *cv* pode ser usado para definir outras estratégias de validação cruzada, como *leave-One-Out*. Em tais casos, o parâmetro recebe o nome de um iterador (*iterator*) de validação cruzada, que gera pares de índices de exemplos da base de dados a serem usados para treinamento e teste. "
   ]
  },
  {
   "cell_type": "code",
   "execution_count": 78,
   "id": "b5cc44d3",
   "metadata": {
    "scrolled": true
   },
   "outputs": [
    {
     "name": "stdout",
     "output_type": "stream",
     "text": [
      "*** 3-fold Cross Validation:\n",
      "Fold 0:\n",
      "Exemplos para treinamento: [    1     2     6 ... 15474 15475 15476]\n",
      "Exemplos para teste: [    0     3     4 ... 15477 15478 15479]\n",
      "\n",
      "Fold 1:\n",
      "Exemplos para treinamento: [    0     1     3 ... 15477 15478 15479]\n",
      "Exemplos para teste: [    2     8    10 ... 15471 15474 15475]\n",
      "\n",
      "Fold 2:\n",
      "Exemplos para treinamento: [    0     2     3 ... 15477 15478 15479]\n",
      "Exemplos para teste: [    1     6     9 ... 15467 15473 15476]\n",
      "\n",
      "*** Leave-One-Out Cross Validation:\n",
      "Fold 0:\n",
      "Exemplos para treinamento: [    1     2     3 ... 15477 15478 15479]\n",
      "Exemplos para teste: [0]\n",
      "\n",
      "Fold 1:\n",
      "Exemplos para treinamento: [    0     2     3 ... 15477 15478 15479]\n",
      "Exemplos para teste: [1]\n",
      "\n",
      "Fold 2:\n",
      "Exemplos para treinamento: [    0     1     3 ... 15477 15478 15479]\n",
      "Exemplos para teste: [2]\n",
      "\n",
      "Fold 3:\n",
      "Exemplos para treinamento: [    0     1     2 ... 15477 15478 15479]\n",
      "Exemplos para teste: [3]\n",
      "\n",
      "Fold 4:\n",
      "Exemplos para treinamento: [    0     1     2 ... 15477 15478 15479]\n",
      "Exemplos para teste: [4]\n",
      "\n",
      "Fold 5:\n",
      "Exemplos para treinamento: [    0     1     2 ... 15477 15478 15479]\n",
      "Exemplos para teste: [5]\n",
      "\n"
     ]
    }
   ],
   "source": [
    "from sklearn.model_selection import KFold, LeaveOneOut\n",
    "\n",
    "# Definição dos iteradores:\n",
    "kf = KFold(n_splits = 3, shuffle = True)\n",
    "lv = LeaveOneOut()\n",
    "\n",
    "# Geração dos índices para o k-fold:\n",
    "print(\"*** 3-fold Cross Validation:\")\n",
    "for i, (train, test) in enumerate(kf.split(dados_train)):\n",
    "    print(f\"Fold {i}:\\nExemplos para treinamento: {train}\\nExemplos para teste: {test}\\n\")\n",
    "\n",
    "# Geração dos índices para LOO:\n",
    "print(\"*** Leave-One-Out Cross Validation:\")\n",
    "for i, (train, test) in enumerate(lv.split(dados_train)):\n",
    "    if i > 5: \n",
    "        break\n",
    "    print(f\"Fold {i}:\\nExemplos para treinamento: {train}\\nExemplos para teste: {test}\\n\")"
   ]
  },
  {
   "cell_type": "markdown",
   "id": "013c9b6d",
   "metadata": {},
   "source": [
    "Os iteradores podem ser usados então nos métodos que implementam a validação cruzada, como o `cros_val_score`. Abaixo, implementamos o método *Leave-One-Out*, que consome mais recursos computacionais no caso selecionado."
   ]
  },
  {
   "cell_type": "code",
   "execution_count": 79,
   "id": "35de1711",
   "metadata": {},
   "outputs": [],
   "source": [
    "scores = cross_val_score(reg, \n",
    "                         dados_train.loc[:, \"MedInc\":\"Longitude\"], dados_train.loc[:, \"MedHouseVal\"], \n",
    "                         cv = lv,\n",
    "                         scoring = \"neg_mean_absolute_percentage_error\")"
   ]
  },
  {
   "cell_type": "code",
   "execution_count": 80,
   "id": "2bc9e58f",
   "metadata": {},
   "outputs": [
    {
     "name": "stdout",
     "output_type": "stream",
     "text": [
      "MAPE obtidos: [0.4  0.22 0.05 ... 0.38 0.15 0.04]\n",
      "Média dos MAPE: 0.318\n",
      "Desvio padrão dos MAPE: 0.390\n"
     ]
    }
   ],
   "source": [
    "scores = abs(scores)\n",
    "print(f\"MAPE obtidos: {scores}\")\n",
    "print(f\"Média dos MAPE: {np.mean(scores):.3f}\")\n",
    "print(f\"Desvio padrão dos MAPE: {np.std(scores):.3f}\")"
   ]
  },
  {
   "cell_type": "markdown",
   "id": "0bb43e29",
   "metadata": {},
   "source": [
    "O método `cross_validate` é mais versátil do que o método `cross_val_score`:\n",
    "\n",
    " - ele permite a especificação de mais de uma métrica de avaliação de modelos; e\n",
    " - ele retorna um dicionário com mais informações sobre o processo de validação cruzada."
   ]
  },
  {
   "cell_type": "code",
   "execution_count": 81,
   "id": "15f8e0cc",
   "metadata": {},
   "outputs": [],
   "source": [
    "from sklearn.model_selection import cross_validate\n",
    "\n",
    "scoring = [\"neg_mean_squared_error\", \"neg_mean_absolute_percentage_error\"]\n",
    "scores = cross_validate(reg, \n",
    "                        dados_train.loc[:, \"MedInc\":\"Longitude\"], dados_train.loc[:, \"MedHouseVal\"], \n",
    "                        cv = 5,\n",
    "                        scoring = scoring,\n",
    "                        return_train_score = True,\n",
    "                        return_estimator = False)"
   ]
  },
  {
   "cell_type": "code",
   "execution_count": 82,
   "id": "f688c1e2",
   "metadata": {
    "scrolled": true
   },
   "outputs": [
    {
     "data": {
      "text/plain": [
       "{'fit_time': array([0.01, 0.01, 0.01, 0.01, 0.01]),\n",
       " 'score_time': array([0., 0., 0., 0., 0.]),\n",
       " 'test_neg_mean_squared_error': array([-0.5 , -0.58, -0.52, -0.52, -1.31]),\n",
       " 'train_neg_mean_squared_error': array([-0.53, -0.51, -0.52, -0.52, -0.51]),\n",
       " 'test_neg_mean_absolute_percentage_error': array([-0.31, -0.33, -0.31, -0.32, -0.31]),\n",
       " 'train_neg_mean_absolute_percentage_error': array([-0.32, -0.31, -0.32, -0.31, -0.31])}"
      ]
     },
     "execution_count": 82,
     "metadata": {},
     "output_type": "execute_result"
    }
   ],
   "source": [
    "scores"
   ]
  },
  {
   "cell_type": "markdown",
   "id": "f2ea945a",
   "metadata": {},
   "source": [
    "# Otimização de hiperparâmetros"
   ]
  },
  {
   "cell_type": "markdown",
   "id": "b620fd49",
   "metadata": {},
   "source": [
    "Algoritmos de aprendizagem incluem parâmetros (ou *hiperparâmetros*) que controlam o seu funcionamento, independente da base de treinamento fornecida. Esses hiperparâmetros precisam ser definidos de forma ótima, para que o melhor modelo possível possa ser gerado no processo de treinamento.\n",
    "\n",
    "A definição da combinação ótima de hiperparâmetros é feita por meio de validação cruzada, com o teste das várias possibilidades de valores. Ao final, a combinação que gerou o melhor resultado médio para a função de perda escolhida, nas amostras de validação, é selecionada e utilizada para o treinamento final."
   ]
  },
  {
   "cell_type": "markdown",
   "id": "e44974f6",
   "metadata": {},
   "source": [
    "O `scikit-learn` implementa quatro métodos básicos de busca por hiperparâmetros ótimos:\n",
    "\n",
    " - *GridSearchCV*: testa todas as combinações de valores especificados\n",
    " - *RandomizedSearchCV*: testa uma amostra do espaço de combinações de valores especificados\n",
    " - *HalvingGridSearchCV* e *HalvingRandomSearchCV*: implementações dos métodos anteriores em que a busca é iniciada com um conjunto limitado de recursos (ex., número de exemplos), selecionando-se as combinações de valores de hiperparâmetro mais promissoras. Estas são testadas sucessivamente, adicionando-se recursos e selecionando-se as mais promissoras a cada iteração. "
   ]
  },
  {
   "cell_type": "markdown",
   "id": "a6e3e316",
   "metadata": {},
   "source": [
    "Para ilustrar a aplicação dos métodos, vamos usar o estimador [*ElasticNet*](https://scikit-learn.org/stable/modules/generated/sklearn.linear_model.ElasticNet.html), que implementa regularizações do tipo *Lasso* e *Ridge* em um modelo de regressão linear. Além de definirmos a proporção de cada tipo de regularização, também devemos especificar a priori a intensidade total de regularização a ser adotada no algoritmo. Os hiperparâmetros *alpha* e *l1_ratio* são usados para isso. "
   ]
  },
  {
   "cell_type": "code",
   "execution_count": 83,
   "id": "eff5c56d",
   "metadata": {},
   "outputs": [
    {
     "name": "stdout",
     "output_type": "stream",
     "text": [
      "Fitting 10 folds for each of 24 candidates, totalling 240 fits\n"
     ]
    }
   ],
   "source": [
    "from sklearn.preprocessing import StandardScaler\n",
    "from sklearn.linear_model import ElasticNet\n",
    "from sklearn.model_selection import GridSearchCV\n",
    "\n",
    "scaler = StandardScaler()\n",
    "dados_padr = scaler.fit_transform(X = dados_train.loc[:, \"MedInc\":\"Longitude\"])\n",
    "\n",
    "elastic = ElasticNet(random_state = 0)\n",
    "\n",
    "hiperparam = [{\"alpha\": [.1, .01, .001, 0.0001], \n",
    "               \"l1_ratio\": [0.01, .1, .5, .9, .99, 1.]}]\n",
    "gridcv = GridSearchCV(estimator = elastic, \n",
    "                      param_grid = hiperparam,\n",
    "                      scoring = \"r2\",\n",
    "                      cv = 10,\n",
    "                      n_jobs = -1,\n",
    "                      return_train_score = True,\n",
    "                      verbose = 3)\n",
    "\n",
    "# Otimização de hiperparâmetros e treinamento do melhor modelo:\n",
    "gridcv.fit(dados_padr, dados_train.loc[:, \"MedHouseVal\"]);"
   ]
  },
  {
   "cell_type": "code",
   "execution_count": 84,
   "id": "5de21436",
   "metadata": {},
   "outputs": [
    {
     "name": "stdout",
     "output_type": "stream",
     "text": [
      "Melhor conjunto de hiperparâmetros: {'alpha': 0.1, 'l1_ratio': 0.1}\n",
      "R2 obtido no treinamento com o melhor modelo: 0.53\n"
     ]
    }
   ],
   "source": [
    "print(f\"Melhor conjunto de hiperparâmetros: {gridcv.best_params_}\")\n",
    "print(f\"R2 obtido no treinamento com o melhor modelo: {abs(gridcv.best_score_).round(3)}\")"
   ]
  },
  {
   "cell_type": "code",
   "execution_count": 85,
   "id": "9c832cec",
   "metadata": {},
   "outputs": [
    {
     "name": "stdout",
     "output_type": "stream",
     "text": [
      "R2 obtido com a base de teste: 0.55\n"
     ]
    }
   ],
   "source": [
    "r2 = gridcv.best_estimator_.score(X = scaler.transform(dados_test.loc[:, \"MedInc\":\"Longitude\"]),\n",
    "                                  y = dados_test.loc[:, \"MedHouseVal\"])\n",
    "print(f\"R2 obtido com a base de teste: {r2.round(2)}\")"
   ]
  },
  {
   "cell_type": "code",
   "execution_count": 86,
   "id": "b4dadbe6",
   "metadata": {
    "scrolled": false
   },
   "outputs": [
    {
     "data": {
      "image/png": "[encoded data removed]",
      "text/plain": [
       "<Figure size 504x360 with 1 Axes>"
      ]
     },
     "metadata": {
      "needs_background": "light"
     },
     "output_type": "display_data"
    }
   ],
   "source": [
    "dados_test[\"PredictedVal\"] = gridcv.best_estimator_.predict(X = scaler.transform(dados_test.loc[:, \"MedInc\":\"Longitude\"]))\n",
    "\n",
    "fig, ax = plt.subplots(figsize = (7, 5))\n",
    "dados_test.plot(\"MedHouseVal\", \"PredictedVal\", kind = \"scatter\", alpha = 0.2, ax = ax)\n",
    "plt.plot([0, 5], [0, 5], linestyle = \"dashed\", color = \"skyblue\")\n",
    "plt.title(\"Valor Previsto vs. Valor Real\");"
   ]
  },
  {
   "cell_type": "markdown",
   "id": "610e0e83",
   "metadata": {},
   "source": [
    "O gráfico acima mostra uma não-linearidade nos dados. Isso sugere que modelos mais complexos e flexíveis poderiam gerar melhores resultados. Além disso, o modelo não conseguiu prever bem os valores mais altos, próximos a 5.0."
   ]
  },
  {
   "cell_type": "markdown",
   "id": "debf345c",
   "metadata": {},
   "source": [
    "A página [Nested versus non-nested cross-validation](https://scikit-learn.org/stable/auto_examples/model_selection/plot_nested_cross_validation_iris.html) apresenta um ótimo exemplo da importância de não se usar os mesmos dados para otimizar hiperparâmetros e avaliar o desempenho de um modelo, o que caracterizaria o que chamamos de *data leakage*. O exemplo é reproduzido a seguir, com algumas modificações. Note, no gráfico gerado, que há uma tendência de se superestimar o desempenho do modelo quando há *data leakage*.  "
   ]
  },
  {
   "cell_type": "code",
   "execution_count": 87,
   "id": "5a5cb659",
   "metadata": {
    "scrolled": false
   },
   "outputs": [
    {
     "data": {
      "image/png": "[encoded data removed]",
      "text/plain": [
       "<Figure size 432x288 with 1 Axes>"
      ]
     },
     "metadata": {
      "needs_background": "light"
     },
     "output_type": "display_data"
    }
   ],
   "source": [
    "from sklearn.datasets import load_iris\n",
    "from matplotlib import pyplot as plt\n",
    "from sklearn.svm import SVC\n",
    "from sklearn.model_selection import GridSearchCV, cross_val_score, KFold\n",
    "import numpy as np\n",
    "\n",
    "# Number of random trials\n",
    "NUM_TRIALS = 30\n",
    "\n",
    "# Load the dataset\n",
    "iris = load_iris()\n",
    "X_iris = iris.data\n",
    "y_iris = iris.target\n",
    "\n",
    "# Set up possible values of parameters to optimize over\n",
    "p_grid = {\"C\": [1, 10, 100], \"gamma\": [0.01, 0.1]}\n",
    "\n",
    "# We will use a Support Vector Classifier with \"rbf\" kernel\n",
    "svm = SVC(kernel=\"rbf\")\n",
    "\n",
    "# Arrays and list to store scores and hiperparameters\n",
    "non_nested_scores = np.zeros(NUM_TRIALS)\n",
    "nested_scores = np.zeros(NUM_TRIALS)\n",
    "params = list()\n",
    "\n",
    "# Loop for each trial\n",
    "for i in range(NUM_TRIALS):\n",
    "\n",
    "    # Choose cross-validation techniques for the inner and outer loops,\n",
    "    # independently of the dataset.\n",
    "    # E.g \"GroupKFold\", \"LeaveOneOut\", \"LeaveOneGroupOut\", etc.\n",
    "    grid_cv = KFold(n_splits=4, shuffle=True)\n",
    "    test_cv = KFold(n_splits=4, shuffle=True)\n",
    "\n",
    "    # Get best hyperparameters\n",
    "    clf = GridSearchCV(estimator=svm, param_grid=p_grid, cv=grid_cv)\n",
    "    clf.fit(X_iris, y_iris)\n",
    "    params.append(clf.best_params_)\n",
    "    \n",
    "    # Non_nested parameter search and scoring\n",
    "    non_nested_scores[i] = clf.best_score_\n",
    "    \n",
    "    # Nested CV with optimum hiperparameters\n",
    "    #clf = GridSearchCV(estimator=svm, param_grid=p_grid, cv=inner_cv)\n",
    "    nested_score = cross_val_score(clf, X=X_iris, y=y_iris, cv=test_cv)\n",
    "    nested_scores[i] = nested_score.mean()\n",
    "\n",
    "score_difference = non_nested_scores - nested_scores\n",
    "subtitle = f\"Average difference of {score_difference.mean():.3f} with std. dev. of {score_difference.std():.3f}\"\n",
    "\n",
    "# Plot scores on each trial for nested and non-nested CV\n",
    "plt.figure()\n",
    "plt.bar(range(NUM_TRIALS), score_difference)\n",
    "plt.suptitle(\"Non-Nested CV - Nested CV Score\", fontsize = \"14\", y = 1.05)\n",
    "plt.title(subtitle, fontsize = \"10\", pad = 15)\n",
    "plt.xlabel(\"Individual Trial #\")\n",
    "plt.xticks(np.arange(0, NUM_TRIALS + 1, 5))\n",
    "plt.show()"
   ]
  },
  {
   "cell_type": "code",
   "execution_count": 88,
   "id": "18b551c0",
   "metadata": {},
   "outputs": [
    {
     "data": {
      "text/html": [
       "<div>\n",
       "<style scoped>\n",
       "    .dataframe tbody tr th:only-of-type {\n",
       "        vertical-align: middle;\n",
       "    }\n",
       "\n",
       "    .dataframe tbody tr th {\n",
       "        vertical-align: top;\n",
       "    }\n",
       "\n",
       "    .dataframe thead th {\n",
       "        text-align: right;\n",
       "    }\n",
       "</style>\n",
       "<table border=\"1\" class=\"dataframe\">\n",
       "  <thead>\n",
       "    <tr style=\"text-align: right;\">\n",
       "      <th></th>\n",
       "      <th>C</th>\n",
       "      <th>gamma</th>\n",
       "    </tr>\n",
       "  </thead>\n",
       "  <tbody>\n",
       "    <tr>\n",
       "      <th>0</th>\n",
       "      <td>100.00</td>\n",
       "      <td>0.01</td>\n",
       "    </tr>\n",
       "    <tr>\n",
       "      <th>1</th>\n",
       "      <td>10.00</td>\n",
       "      <td>0.10</td>\n",
       "    </tr>\n",
       "    <tr>\n",
       "      <th>2</th>\n",
       "      <td>10.00</td>\n",
       "      <td>0.01</td>\n",
       "    </tr>\n",
       "    <tr>\n",
       "      <th>3</th>\n",
       "      <td>1.00</td>\n",
       "      <td>0.10</td>\n",
       "    </tr>\n",
       "  </tbody>\n",
       "</table>\n",
       "</div>"
      ],
      "text/plain": [
       "       C  gamma\n",
       "0 100.00   0.01\n",
       "1  10.00   0.10\n",
       "2  10.00   0.01\n",
       "3   1.00   0.10"
      ]
     },
     "execution_count": 88,
     "metadata": {},
     "output_type": "execute_result"
    }
   ],
   "source": [
    "# Melhores hiperparâmetros:\n",
    "df = pd.DataFrame()\n",
    "for linha in params:\n",
    "    df = df.append(linha, ignore_index = True)\n",
    "df.drop_duplicates().reset_index(drop = True)"
   ]
  },
  {
   "cell_type": "markdown",
   "id": "580b2a83",
   "metadata": {},
   "source": [
    "# *Pipelines*"
   ]
  },
  {
   "cell_type": "markdown",
   "id": "3c45592e",
   "metadata": {},
   "source": [
    "Preprocessadores (*pre-processors*) e estimadores (*estimators*) podem ser combinados e encadeados em objetos do tipo *pipeline* no `scikit-learn`. Assim como os *estimadores*, *pipelines* incluem os métodos `fit` e `predict`.\n",
    "\n",
    "*Pipelines* facilitam o desenvolvimento de modelos de ML:\n",
    "\n",
    " - os métodos `fit` e `predict` podem ser chamados apenas uma vez para todo o conjunto de preprocessadores e estimadores;\n",
    " - todos os hiperparâmetros dos estimadores são otimizados de uma só vez;\n",
    " - garantimos que as mesmas amostras são usadas para treinar os métodos de transformação e previsão, evitando o que chamamos de *data leakage*."
   ]
  },
  {
   "cell_type": "code",
   "execution_count": 89,
   "id": "6dd346a6",
   "metadata": {},
   "outputs": [],
   "source": [
    "from sklearn.pipeline import Pipeline\n",
    "from sklearn.model_selection import cross_val_score\n",
    "from sklearn.preprocessing import MinMaxScaler\n",
    "from sklearn.preprocessing import Binarizer\n",
    "from sklearn.linear_model import LinearRegression"
   ]
  },
  {
   "cell_type": "markdown",
   "id": "e18e8e7c",
   "metadata": {},
   "source": [
    "Todos os objetos de um pipeline devem ser preprocessadores ou *transformers*, exceto o último, que pode ser de qualquer tipo.\n",
    "\n",
    "A instanciação do *pipeline* é feita por meio de uma lista de pares (*chave*, *valor*), que correspondem ao nome que queremos dar a uma etapa e ao elemento do `scikit-learn` correspondente, respectivamente."
   ]
  },
  {
   "cell_type": "code",
   "execution_count": 90,
   "id": "df0ac05b",
   "metadata": {
    "scrolled": true
   },
   "outputs": [
    {
     "data": {
      "text/plain": [
       "Pipeline(steps=[('minmax', MinMaxScaler()), ('dummy', Binarizer()),\n",
       "                ('modelo', LinearRegression())])"
      ]
     },
     "execution_count": 90,
     "metadata": {},
     "output_type": "execute_result"
    }
   ],
   "source": [
    "etapas = [(\"minmax\", MinMaxScaler()),\n",
    "          (\"dummy\", Binarizer()),\n",
    "          (\"modelo\", LinearRegression())]\n",
    "pipe = Pipeline(etapas)\n",
    "pipe"
   ]
  },
  {
   "cell_type": "code",
   "execution_count": 91,
   "id": "efb7e573",
   "metadata": {},
   "outputs": [
    {
     "name": "stdout",
     "output_type": "stream",
     "text": [
      "Primeira etapa: ('minmax', MinMaxScaler())\n",
      "Elemento de ML: MinMaxScaler()\n",
      "\n",
      "Segunda etapa: ('dummy', Binarizer())\n",
      "Elemento de ML: Binarizer()\n",
      "\n",
      "Terceira etapa: ('modelo', LinearRegression())\n",
      "Elemento de ML: LinearRegression()\n"
     ]
    }
   ],
   "source": [
    "# Podemos acessar os elemento que compoem o pipeline:\n",
    "print(\"Primeira etapa:\", pipe.steps[0])\n",
    "print(\"Elemento de ML:\", pipe[0])\n",
    "print()\n",
    "print(\"Segunda etapa:\", pipe.steps[1])\n",
    "print(\"Elemento de ML:\", pipe[1])\n",
    "print()\n",
    "print(\"Terceira etapa:\", pipe.steps[2])\n",
    "print(\"Elemento de ML:\", pipe[2])"
   ]
  },
  {
   "cell_type": "code",
   "execution_count": 92,
   "id": "cde8f980",
   "metadata": {},
   "outputs": [
    {
     "data": {
      "text/plain": [
       "MinMaxScaler()"
      ]
     },
     "execution_count": 92,
     "metadata": {},
     "output_type": "execute_result"
    }
   ],
   "source": [
    "# Acesso com o nome da etapa:\n",
    "pipe[\"minmax\"]"
   ]
  },
  {
   "cell_type": "code",
   "execution_count": 93,
   "id": "2692f720",
   "metadata": {},
   "outputs": [
    {
     "data": {
      "text/plain": [
       "[('minmax', MinMaxScaler()), ('dummy', Binarizer())]"
      ]
     },
     "execution_count": 93,
     "metadata": {},
     "output_type": "execute_result"
    }
   ],
   "source": [
    "# Slicing:\n",
    "pipe.steps[0:2]"
   ]
  },
  {
   "cell_type": "markdown",
   "id": "3831a286",
   "metadata": {},
   "source": [
    "Para acessar os hiperparâmetros dos estimadores, usamos atributos com nome *estimator__parâmetro*:"
   ]
  },
  {
   "cell_type": "code",
   "execution_count": 94,
   "id": "a22f3daf",
   "metadata": {},
   "outputs": [
    {
     "data": {
      "text/plain": [
       "Pipeline(steps=[('minmax', MinMaxScaler(feature_range=(0, 2))),\n",
       "                ('dummy', Binarizer(threshold=0.5)),\n",
       "                ('modelo', LinearRegression(fit_intercept=False))])"
      ]
     },
     "execution_count": 94,
     "metadata": {},
     "output_type": "execute_result"
    }
   ],
   "source": [
    "pipe.set_params(minmax__feature_range = (0, 2), \n",
    "                dummy__threshold = .5,\n",
    "                modelo__fit_intercept = False)"
   ]
  },
  {
   "cell_type": "code",
   "execution_count": 95,
   "id": "983b4a95",
   "metadata": {},
   "outputs": [
    {
     "data": {
      "text/plain": [
       "{'memory': None,\n",
       " 'steps': [('minmax', MinMaxScaler(feature_range=(0, 2))),\n",
       "  ('dummy', Binarizer(threshold=0.5)),\n",
       "  ('modelo', LinearRegression(fit_intercept=False))],\n",
       " 'verbose': False,\n",
       " 'minmax': MinMaxScaler(feature_range=(0, 2)),\n",
       " 'dummy': Binarizer(threshold=0.5),\n",
       " 'modelo': LinearRegression(fit_intercept=False),\n",
       " 'minmax__clip': False,\n",
       " 'minmax__copy': True,\n",
       " 'minmax__feature_range': (0, 2),\n",
       " 'dummy__copy': True,\n",
       " 'dummy__threshold': 0.5,\n",
       " 'modelo__copy_X': True,\n",
       " 'modelo__fit_intercept': False,\n",
       " 'modelo__n_jobs': None,\n",
       " 'modelo__normalize': 'deprecated',\n",
       " 'modelo__positive': False}"
      ]
     },
     "execution_count": 95,
     "metadata": {},
     "output_type": "execute_result"
    }
   ],
   "source": [
    "pipe.get_params()"
   ]
  },
  {
   "cell_type": "markdown",
   "id": "e466bf2a",
   "metadata": {},
   "source": [
    "*Pipelines* podem ser usados em processos de validação cruzada e de otimização de parâmetros. Eles se comportam como estimadores ou transformadores, dependendo do tipo do elemento colocado na última etapa do *pipeline*. "
   ]
  },
  {
   "cell_type": "code",
   "execution_count": 96,
   "id": "ead6685e",
   "metadata": {},
   "outputs": [
    {
     "data": {
      "text/plain": [
       "GridSearchCV(estimator=Pipeline(steps=[('minmax',\n",
       "                                        MinMaxScaler(feature_range=(0, 2))),\n",
       "                                       ('dummy', Binarizer(threshold=0.5)),\n",
       "                                       ('modelo',\n",
       "                                        LinearRegression(fit_intercept=False))]),\n",
       "             param_grid={'dummy': ['passthrough', Binarizer()],\n",
       "                         'minmax__feature_range': [(0, 1), (-1, 1)],\n",
       "                         'modelo__fit_intercept': [True, False]})"
      ]
     },
     "execution_count": 96,
     "metadata": {},
     "output_type": "execute_result"
    }
   ],
   "source": [
    "param_grid = {\"minmax__feature_range\": [(0, 1), (-1, 1)],\n",
    "              \"dummy\": [\"passthrough\", Binarizer()],\n",
    "              \"modelo__fit_intercept\": [True, False]}\n",
    "\n",
    "grid = GridSearchCV(pipe, param_grid = param_grid)\n",
    "\n",
    "grid.fit(dados_train.loc[:, \"MedInc\":\"Longitude\"], dados_train.loc[:, \"MedHouseVal\"])"
   ]
  },
  {
   "cell_type": "code",
   "execution_count": 97,
   "id": "5d820cfd",
   "metadata": {},
   "outputs": [
    {
     "name": "stdout",
     "output_type": "stream",
     "text": [
      "Hiperparâmetros ótimos: {'dummy': 'passthrough', 'minmax__feature_range': (-1, 1), 'modelo__fit_intercept': True}\n",
      "R2 ótimo: 0.481\n"
     ]
    }
   ],
   "source": [
    "print(f\"Hiperparâmetros ótimos: {grid.best_params_}\\n\" +\n",
    "      f\"R2 ótimo: {grid.best_score_:.3f}\")"
   ]
  },
  {
   "cell_type": "markdown",
   "id": "085deab8",
   "metadata": {},
   "source": [
    "Note no exemplo acima o uso da opção __*passthrough*__. Ela pode ser usada para evitar que uma etapa seja implementada quando o *pipeline* é rodado. A opção não pode ser usada para a última etapa, no entanto."
   ]
  },
  {
   "cell_type": "markdown",
   "id": "790e4d3c",
   "metadata": {},
   "source": [
    "# Visualização"
   ]
  },
  {
   "cell_type": "markdown",
   "id": "28f386a9",
   "metadata": {},
   "source": [
    "Um conjunto de estimadores pode ser visualizado de forma gráfica no Jupyter Notebook por meio do método `set_config`. O diagrama gerado é iterativo: pode-se clicar em um elemento para visualizar seus parâmetros."
   ]
  },
  {
   "cell_type": "code",
   "execution_count": 98,
   "id": "d4a9cb57",
   "metadata": {},
   "outputs": [],
   "source": [
    "from sklearn import set_config\n",
    "set_config(display='diagram')"
   ]
  },
  {
   "cell_type": "code",
   "execution_count": 105,
   "id": "312385c5",
   "metadata": {},
   "outputs": [
    {
     "data": {
      "text/html": [
       "<style>#sk-e103674a-d7c1-4bbe-a277-dda47546fb26 {color: black;background-color: white;}#sk-e103674a-d7c1-4bbe-a277-dda47546fb26 pre{padding: 0;}#sk-e103674a-d7c1-4bbe-a277-dda47546fb26 div.sk-toggleable {background-color: white;}#sk-e103674a-d7c1-4bbe-a277-dda47546fb26 label.sk-toggleable__label {cursor: pointer;display: block;width: 100%;margin-bottom: 0;padding: 0.3em;box-sizing: border-box;text-align: center;}#sk-e103674a-d7c1-4bbe-a277-dda47546fb26 div.sk-toggleable__content {max-height: 0;max-width: 0;overflow: hidden;text-align: left;background-color: #f0f8ff;}#sk-e103674a-d7c1-4bbe-a277-dda47546fb26 div.sk-toggleable__content pre {margin: 0.2em;color: black;border-radius: 0.25em;background-color: #f0f8ff;}#sk-e103674a-d7c1-4bbe-a277-dda47546fb26 input.sk-toggleable__control:checked~div.sk-toggleable__content {max-height: 200px;max-width: 100%;overflow: auto;}#sk-e103674a-d7c1-4bbe-a277-dda47546fb26 div.sk-estimator input.sk-toggleable__control:checked~label.sk-toggleable__label {background-color: #d4ebff;}#sk-e103674a-d7c1-4bbe-a277-dda47546fb26 div.sk-label input.sk-toggleable__control:checked~label.sk-toggleable__label {background-color: #d4ebff;}#sk-e103674a-d7c1-4bbe-a277-dda47546fb26 input.sk-hidden--visually {border: 0;clip: rect(1px 1px 1px 1px);clip: rect(1px, 1px, 1px, 1px);height: 1px;margin: -1px;overflow: hidden;padding: 0;position: absolute;width: 1px;}#sk-e103674a-d7c1-4bbe-a277-dda47546fb26 div.sk-estimator {font-family: monospace;background-color: #f0f8ff;border: 1px dotted black;border-radius: 0.25em;box-sizing: border-box;margin-bottom: 0.5em;}#sk-e103674a-d7c1-4bbe-a277-dda47546fb26 div.sk-estimator:hover {background-color: #d4ebff;}#sk-e103674a-d7c1-4bbe-a277-dda47546fb26 div.sk-parallel-item::after {content: \"\";width: 100%;border-bottom: 1px solid gray;flex-grow: 1;}#sk-e103674a-d7c1-4bbe-a277-dda47546fb26 div.sk-label:hover label.sk-toggleable__label {background-color: #d4ebff;}#sk-e103674a-d7c1-4bbe-a277-dda47546fb26 div.sk-serial::before {content: \"\";position: absolute;border-left: 1px solid gray;box-sizing: border-box;top: 2em;bottom: 0;left: 50%;}#sk-e103674a-d7c1-4bbe-a277-dda47546fb26 div.sk-serial {display: flex;flex-direction: column;align-items: center;background-color: white;padding-right: 0.2em;padding-left: 0.2em;}#sk-e103674a-d7c1-4bbe-a277-dda47546fb26 div.sk-item {z-index: 1;}#sk-e103674a-d7c1-4bbe-a277-dda47546fb26 div.sk-parallel {display: flex;align-items: stretch;justify-content: center;background-color: white;}#sk-e103674a-d7c1-4bbe-a277-dda47546fb26 div.sk-parallel::before {content: \"\";position: absolute;border-left: 1px solid gray;box-sizing: border-box;top: 2em;bottom: 0;left: 50%;}#sk-e103674a-d7c1-4bbe-a277-dda47546fb26 div.sk-parallel-item {display: flex;flex-direction: column;position: relative;background-color: white;}#sk-e103674a-d7c1-4bbe-a277-dda47546fb26 div.sk-parallel-item:first-child::after {align-self: flex-end;width: 50%;}#sk-e103674a-d7c1-4bbe-a277-dda47546fb26 div.sk-parallel-item:last-child::after {align-self: flex-start;width: 50%;}#sk-e103674a-d7c1-4bbe-a277-dda47546fb26 div.sk-parallel-item:only-child::after {width: 0;}#sk-e103674a-d7c1-4bbe-a277-dda47546fb26 div.sk-dashed-wrapped {border: 1px dashed gray;margin: 0 0.4em 0.5em 0.4em;box-sizing: border-box;padding-bottom: 0.4em;background-color: white;position: relative;}#sk-e103674a-d7c1-4bbe-a277-dda47546fb26 div.sk-label label {font-family: monospace;font-weight: bold;background-color: white;display: inline-block;line-height: 1.2em;}#sk-e103674a-d7c1-4bbe-a277-dda47546fb26 div.sk-label-container {position: relative;z-index: 2;text-align: center;}#sk-e103674a-d7c1-4bbe-a277-dda47546fb26 div.sk-container {display: inline-block;position: relative;}</style><div id=\"sk-e103674a-d7c1-4bbe-a277-dda47546fb26\" class\"sk-top-container\"><div class=\"sk-container\"><div class=\"sk-item sk-dashed-wrapped\"><div class=\"sk-label-container\"><div class=\"sk-label sk-toggleable\"><input class=\"sk-toggleable__control sk-hidden--visually\" id=\"b937a40c-c450-4628-848c-96b0036c3ca3\" type=\"checkbox\" ><label class=\"sk-toggleable__label\" for=\"b937a40c-c450-4628-848c-96b0036c3ca3\">Pipeline</label><div class=\"sk-toggleable__content\"><pre>Pipeline(steps=[('columntransformer',\n",
       "                 ColumnTransformer(transformers=[('pipeline-1',\n",
       "                                                  Pipeline(steps=[('kbinsdiscretizer',\n",
       "                                                                   KBinsDiscretizer(encode='onehot-dense',\n",
       "                                                                                    n_bins=3,\n",
       "                                                                                    strategy='uniform'))]),\n",
       "                                                  'Population'),\n",
       "                                                 ('pipeline-2',\n",
       "                                                  Pipeline(steps=[('minmaxscaler',\n",
       "                                                                   MinMaxScaler())]),\n",
       "                                                  ('AveRooms', 'AveBedrms')),\n",
       "                                                 ('pipeline-3',\n",
       "                                                  Pipeline(steps=[('standardscaler',\n",
       "                                                                   StandardScaler())]),\n",
       "                                                  ('Latitude', 'Longitude'))])),\n",
       "                ('linearregression', LinearRegression())])</pre></div></div></div><div class=\"sk-serial\"><div class=\"sk-item sk-dashed-wrapped\"><div class=\"sk-label-container\"><div class=\"sk-label sk-toggleable\"><input class=\"sk-toggleable__control sk-hidden--visually\" id=\"99ec46cc-34bf-4de3-aef3-31d675167426\" type=\"checkbox\" ><label class=\"sk-toggleable__label\" for=\"99ec46cc-34bf-4de3-aef3-31d675167426\">columntransformer: ColumnTransformer</label><div class=\"sk-toggleable__content\"><pre>ColumnTransformer(transformers=[('pipeline-1',\n",
       "                                 Pipeline(steps=[('kbinsdiscretizer',\n",
       "                                                  KBinsDiscretizer(encode='onehot-dense',\n",
       "                                                                   n_bins=3,\n",
       "                                                                   strategy='uniform'))]),\n",
       "                                 'Population'),\n",
       "                                ('pipeline-2',\n",
       "                                 Pipeline(steps=[('minmaxscaler',\n",
       "                                                  MinMaxScaler())]),\n",
       "                                 ('AveRooms', 'AveBedrms')),\n",
       "                                ('pipeline-3',\n",
       "                                 Pipeline(steps=[('standardscaler',\n",
       "                                                  StandardScaler())]),\n",
       "                                 ('Latitude', 'Longitude'))])</pre></div></div></div><div class=\"sk-parallel\"><div class=\"sk-parallel-item\"><div class=\"sk-item\"><div class=\"sk-label-container\"><div class=\"sk-label sk-toggleable\"><input class=\"sk-toggleable__control sk-hidden--visually\" id=\"6b48b5e1-5b71-44d1-af77-97f045de6e06\" type=\"checkbox\" ><label class=\"sk-toggleable__label\" for=\"6b48b5e1-5b71-44d1-af77-97f045de6e06\">pipeline-1</label><div class=\"sk-toggleable__content\"><pre>Population</pre></div></div></div><div class=\"sk-serial\"><div class=\"sk-item\"><div class=\"sk-serial\"><div class=\"sk-item\"><div class=\"sk-estimator sk-toggleable\"><input class=\"sk-toggleable__control sk-hidden--visually\" id=\"7b221eb5-b8c8-490a-9c1b-af50ed7dd214\" type=\"checkbox\" ><label class=\"sk-toggleable__label\" for=\"7b221eb5-b8c8-490a-9c1b-af50ed7dd214\">KBinsDiscretizer</label><div class=\"sk-toggleable__content\"><pre>KBinsDiscretizer(encode='onehot-dense', n_bins=3, strategy='uniform')</pre></div></div></div></div></div></div></div></div><div class=\"sk-parallel-item\"><div class=\"sk-item\"><div class=\"sk-label-container\"><div class=\"sk-label sk-toggleable\"><input class=\"sk-toggleable__control sk-hidden--visually\" id=\"fd89624e-cd76-48ff-9e58-b7231696bc29\" type=\"checkbox\" ><label class=\"sk-toggleable__label\" for=\"fd89624e-cd76-48ff-9e58-b7231696bc29\">pipeline-2</label><div class=\"sk-toggleable__content\"><pre>('AveRooms', 'AveBedrms')</pre></div></div></div><div class=\"sk-serial\"><div class=\"sk-item\"><div class=\"sk-serial\"><div class=\"sk-item\"><div class=\"sk-estimator sk-toggleable\"><input class=\"sk-toggleable__control sk-hidden--visually\" id=\"b131164c-7620-4c52-9d13-6e1873aba788\" type=\"checkbox\" ><label class=\"sk-toggleable__label\" for=\"b131164c-7620-4c52-9d13-6e1873aba788\">MinMaxScaler</label><div class=\"sk-toggleable__content\"><pre>MinMaxScaler()</pre></div></div></div></div></div></div></div></div><div class=\"sk-parallel-item\"><div class=\"sk-item\"><div class=\"sk-label-container\"><div class=\"sk-label sk-toggleable\"><input class=\"sk-toggleable__control sk-hidden--visually\" id=\"16e61a7d-7d1f-48d1-acff-71a57260c280\" type=\"checkbox\" ><label class=\"sk-toggleable__label\" for=\"16e61a7d-7d1f-48d1-acff-71a57260c280\">pipeline-3</label><div class=\"sk-toggleable__content\"><pre>('Latitude', 'Longitude')</pre></div></div></div><div class=\"sk-serial\"><div class=\"sk-item\"><div class=\"sk-serial\"><div class=\"sk-item\"><div class=\"sk-estimator sk-toggleable\"><input class=\"sk-toggleable__control sk-hidden--visually\" id=\"55e728ce-3292-40b4-ae91-2ceee857bb11\" type=\"checkbox\" ><label class=\"sk-toggleable__label\" for=\"55e728ce-3292-40b4-ae91-2ceee857bb11\">StandardScaler</label><div class=\"sk-toggleable__content\"><pre>StandardScaler()</pre></div></div></div></div></div></div></div></div></div></div><div class=\"sk-item\"><div class=\"sk-estimator sk-toggleable\"><input class=\"sk-toggleable__control sk-hidden--visually\" id=\"2eb6cfe1-a203-4f6a-b63d-8344de352dfa\" type=\"checkbox\" ><label class=\"sk-toggleable__label\" for=\"2eb6cfe1-a203-4f6a-b63d-8344de352dfa\">LinearRegression</label><div class=\"sk-toggleable__content\"><pre>LinearRegression()</pre></div></div></div></div></div></div></div>"
      ],
      "text/plain": [
       "Pipeline(steps=[('columntransformer',\n",
       "                 ColumnTransformer(transformers=[('pipeline-1',\n",
       "                                                  Pipeline(steps=[('kbinsdiscretizer',\n",
       "                                                                   KBinsDiscretizer(encode='onehot-dense',\n",
       "                                                                                    n_bins=3,\n",
       "                                                                                    strategy='uniform'))]),\n",
       "                                                  'Population'),\n",
       "                                                 ('pipeline-2',\n",
       "                                                  Pipeline(steps=[('minmaxscaler',\n",
       "                                                                   MinMaxScaler())]),\n",
       "                                                  ('AveRooms', 'AveBedrms')),\n",
       "                                                 ('pipeline-3',\n",
       "                                                  Pipeline(steps=[('standardscaler',\n",
       "                                                                   StandardScaler())]),\n",
       "                                                  ('Latitude', 'Longitude'))])),\n",
       "                ('linearregression', LinearRegression())])"
      ]
     },
     "execution_count": 105,
     "metadata": {},
     "output_type": "execute_result"
    }
   ],
   "source": [
    "pipe"
   ]
  },
  {
   "cell_type": "code",
   "execution_count": 100,
   "id": "3dc975bc",
   "metadata": {},
   "outputs": [],
   "source": [
    "set_config(display = 'text')"
   ]
  },
  {
   "cell_type": "code",
   "execution_count": 101,
   "id": "0d276ce3",
   "metadata": {},
   "outputs": [
    {
     "data": {
      "text/plain": [
       "Pipeline(steps=[('minmax', MinMaxScaler(feature_range=(0, 2))),\n",
       "                ('dummy', Binarizer(threshold=0.5)),\n",
       "                ('modelo', LinearRegression(fit_intercept=False))])"
      ]
     },
     "execution_count": 101,
     "metadata": {},
     "output_type": "execute_result"
    }
   ],
   "source": [
    "pipe"
   ]
  },
  {
   "cell_type": "markdown",
   "id": "5a172cc1",
   "metadata": {},
   "source": [
    "No exemplo a seguir, usamos os métodos `make_pipeline` e `make_column_transformer`, que funcionam de forma similar a `Pipeline` e `ColumnTransformer`."
   ]
  },
  {
   "cell_type": "code",
   "execution_count": 102,
   "id": "9d0d6acc",
   "metadata": {},
   "outputs": [],
   "source": [
    "from sklearn.pipeline import make_pipeline\n",
    "from sklearn.compose import make_column_transformer\n",
    "\n",
    "pipe_discr = make_pipeline(KBinsDiscretizer(n_bins = 3, encode = \"onehot-dense\", strategy = \"uniform\"))\n",
    "pipe_mmx   = make_pipeline(MinMaxScaler())\n",
    "pipe_pdr   = make_pipeline(StandardScaler())\n",
    "\n",
    "col_trans = make_column_transformer((pipe_discr, (\"Population\")),\n",
    "                                    (pipe_mmx, (\"AveRooms\", \"AveBedrms\")),\n",
    "                                    (pipe_pdr, (\"Latitude\", \"Longitude\")))\n",
    "\n",
    "pipe = make_pipeline(col_trans, LinearRegression())"
   ]
  },
  {
   "cell_type": "code",
   "execution_count": 104,
   "id": "89cf51ec",
   "metadata": {
    "scrolled": true
   },
   "outputs": [
    {
     "data": {
      "text/html": [
       "<style>#sk-14e7d8e1-f271-4afc-bb49-f5c58405bed9 {color: black;background-color: white;}#sk-14e7d8e1-f271-4afc-bb49-f5c58405bed9 pre{padding: 0;}#sk-14e7d8e1-f271-4afc-bb49-f5c58405bed9 div.sk-toggleable {background-color: white;}#sk-14e7d8e1-f271-4afc-bb49-f5c58405bed9 label.sk-toggleable__label {cursor: pointer;display: block;width: 100%;margin-bottom: 0;padding: 0.3em;box-sizing: border-box;text-align: center;}#sk-14e7d8e1-f271-4afc-bb49-f5c58405bed9 div.sk-toggleable__content {max-height: 0;max-width: 0;overflow: hidden;text-align: left;background-color: #f0f8ff;}#sk-14e7d8e1-f271-4afc-bb49-f5c58405bed9 div.sk-toggleable__content pre {margin: 0.2em;color: black;border-radius: 0.25em;background-color: #f0f8ff;}#sk-14e7d8e1-f271-4afc-bb49-f5c58405bed9 input.sk-toggleable__control:checked~div.sk-toggleable__content {max-height: 200px;max-width: 100%;overflow: auto;}#sk-14e7d8e1-f271-4afc-bb49-f5c58405bed9 div.sk-estimator input.sk-toggleable__control:checked~label.sk-toggleable__label {background-color: #d4ebff;}#sk-14e7d8e1-f271-4afc-bb49-f5c58405bed9 div.sk-label input.sk-toggleable__control:checked~label.sk-toggleable__label {background-color: #d4ebff;}#sk-14e7d8e1-f271-4afc-bb49-f5c58405bed9 input.sk-hidden--visually {border: 0;clip: rect(1px 1px 1px 1px);clip: rect(1px, 1px, 1px, 1px);height: 1px;margin: -1px;overflow: hidden;padding: 0;position: absolute;width: 1px;}#sk-14e7d8e1-f271-4afc-bb49-f5c58405bed9 div.sk-estimator {font-family: monospace;background-color: #f0f8ff;border: 1px dotted black;border-radius: 0.25em;box-sizing: border-box;margin-bottom: 0.5em;}#sk-14e7d8e1-f271-4afc-bb49-f5c58405bed9 div.sk-estimator:hover {background-color: #d4ebff;}#sk-14e7d8e1-f271-4afc-bb49-f5c58405bed9 div.sk-parallel-item::after {content: \"\";width: 100%;border-bottom: 1px solid gray;flex-grow: 1;}#sk-14e7d8e1-f271-4afc-bb49-f5c58405bed9 div.sk-label:hover label.sk-toggleable__label {background-color: #d4ebff;}#sk-14e7d8e1-f271-4afc-bb49-f5c58405bed9 div.sk-serial::before {content: \"\";position: absolute;border-left: 1px solid gray;box-sizing: border-box;top: 2em;bottom: 0;left: 50%;}#sk-14e7d8e1-f271-4afc-bb49-f5c58405bed9 div.sk-serial {display: flex;flex-direction: column;align-items: center;background-color: white;padding-right: 0.2em;padding-left: 0.2em;}#sk-14e7d8e1-f271-4afc-bb49-f5c58405bed9 div.sk-item {z-index: 1;}#sk-14e7d8e1-f271-4afc-bb49-f5c58405bed9 div.sk-parallel {display: flex;align-items: stretch;justify-content: center;background-color: white;}#sk-14e7d8e1-f271-4afc-bb49-f5c58405bed9 div.sk-parallel::before {content: \"\";position: absolute;border-left: 1px solid gray;box-sizing: border-box;top: 2em;bottom: 0;left: 50%;}#sk-14e7d8e1-f271-4afc-bb49-f5c58405bed9 div.sk-parallel-item {display: flex;flex-direction: column;position: relative;background-color: white;}#sk-14e7d8e1-f271-4afc-bb49-f5c58405bed9 div.sk-parallel-item:first-child::after {align-self: flex-end;width: 50%;}#sk-14e7d8e1-f271-4afc-bb49-f5c58405bed9 div.sk-parallel-item:last-child::after {align-self: flex-start;width: 50%;}#sk-14e7d8e1-f271-4afc-bb49-f5c58405bed9 div.sk-parallel-item:only-child::after {width: 0;}#sk-14e7d8e1-f271-4afc-bb49-f5c58405bed9 div.sk-dashed-wrapped {border: 1px dashed gray;margin: 0 0.4em 0.5em 0.4em;box-sizing: border-box;padding-bottom: 0.4em;background-color: white;position: relative;}#sk-14e7d8e1-f271-4afc-bb49-f5c58405bed9 div.sk-label label {font-family: monospace;font-weight: bold;background-color: white;display: inline-block;line-height: 1.2em;}#sk-14e7d8e1-f271-4afc-bb49-f5c58405bed9 div.sk-label-container {position: relative;z-index: 2;text-align: center;}#sk-14e7d8e1-f271-4afc-bb49-f5c58405bed9 div.sk-container {display: inline-block;position: relative;}</style><div id=\"sk-14e7d8e1-f271-4afc-bb49-f5c58405bed9\" class\"sk-top-container\"><div class=\"sk-container\"><div class=\"sk-item sk-dashed-wrapped\"><div class=\"sk-label-container\"><div class=\"sk-label sk-toggleable\"><input class=\"sk-toggleable__control sk-hidden--visually\" id=\"d239d702-f3a4-4a22-b710-33864e86c1be\" type=\"checkbox\" ><label class=\"sk-toggleable__label\" for=\"d239d702-f3a4-4a22-b710-33864e86c1be\">Pipeline</label><div class=\"sk-toggleable__content\"><pre>Pipeline(steps=[('columntransformer',\n",
       "                 ColumnTransformer(transformers=[('pipeline-1',\n",
       "                                                  Pipeline(steps=[('kbinsdiscretizer',\n",
       "                                                                   KBinsDiscretizer(encode='onehot-dense',\n",
       "                                                                                    n_bins=3,\n",
       "                                                                                    strategy='uniform'))]),\n",
       "                                                  'Population'),\n",
       "                                                 ('pipeline-2',\n",
       "                                                  Pipeline(steps=[('minmaxscaler',\n",
       "                                                                   MinMaxScaler())]),\n",
       "                                                  ('AveRooms', 'AveBedrms')),\n",
       "                                                 ('pipeline-3',\n",
       "                                                  Pipeline(steps=[('standardscaler',\n",
       "                                                                   StandardScaler())]),\n",
       "                                                  ('Latitude', 'Longitude'))])),\n",
       "                ('linearregression', LinearRegression())])</pre></div></div></div><div class=\"sk-serial\"><div class=\"sk-item sk-dashed-wrapped\"><div class=\"sk-label-container\"><div class=\"sk-label sk-toggleable\"><input class=\"sk-toggleable__control sk-hidden--visually\" id=\"21fa3cd4-65f9-4feb-8877-872255477b78\" type=\"checkbox\" ><label class=\"sk-toggleable__label\" for=\"21fa3cd4-65f9-4feb-8877-872255477b78\">columntransformer: ColumnTransformer</label><div class=\"sk-toggleable__content\"><pre>ColumnTransformer(transformers=[('pipeline-1',\n",
       "                                 Pipeline(steps=[('kbinsdiscretizer',\n",
       "                                                  KBinsDiscretizer(encode='onehot-dense',\n",
       "                                                                   n_bins=3,\n",
       "                                                                   strategy='uniform'))]),\n",
       "                                 'Population'),\n",
       "                                ('pipeline-2',\n",
       "                                 Pipeline(steps=[('minmaxscaler',\n",
       "                                                  MinMaxScaler())]),\n",
       "                                 ('AveRooms', 'AveBedrms')),\n",
       "                                ('pipeline-3',\n",
       "                                 Pipeline(steps=[('standardscaler',\n",
       "                                                  StandardScaler())]),\n",
       "                                 ('Latitude', 'Longitude'))])</pre></div></div></div><div class=\"sk-parallel\"><div class=\"sk-parallel-item\"><div class=\"sk-item\"><div class=\"sk-label-container\"><div class=\"sk-label sk-toggleable\"><input class=\"sk-toggleable__control sk-hidden--visually\" id=\"1fc0464c-08f5-4e8f-96dd-c4da4573081c\" type=\"checkbox\" ><label class=\"sk-toggleable__label\" for=\"1fc0464c-08f5-4e8f-96dd-c4da4573081c\">pipeline-1</label><div class=\"sk-toggleable__content\"><pre>Population</pre></div></div></div><div class=\"sk-serial\"><div class=\"sk-item\"><div class=\"sk-serial\"><div class=\"sk-item\"><div class=\"sk-estimator sk-toggleable\"><input class=\"sk-toggleable__control sk-hidden--visually\" id=\"499961a5-6072-4c7a-a9f1-075f3ba0e537\" type=\"checkbox\" ><label class=\"sk-toggleable__label\" for=\"499961a5-6072-4c7a-a9f1-075f3ba0e537\">KBinsDiscretizer</label><div class=\"sk-toggleable__content\"><pre>KBinsDiscretizer(encode='onehot-dense', n_bins=3, strategy='uniform')</pre></div></div></div></div></div></div></div></div><div class=\"sk-parallel-item\"><div class=\"sk-item\"><div class=\"sk-label-container\"><div class=\"sk-label sk-toggleable\"><input class=\"sk-toggleable__control sk-hidden--visually\" id=\"c276d1a3-2415-4e22-a182-06b62c9c00f8\" type=\"checkbox\" ><label class=\"sk-toggleable__label\" for=\"c276d1a3-2415-4e22-a182-06b62c9c00f8\">pipeline-2</label><div class=\"sk-toggleable__content\"><pre>('AveRooms', 'AveBedrms')</pre></div></div></div><div class=\"sk-serial\"><div class=\"sk-item\"><div class=\"sk-serial\"><div class=\"sk-item\"><div class=\"sk-estimator sk-toggleable\"><input class=\"sk-toggleable__control sk-hidden--visually\" id=\"736796fa-3b69-45a2-98e0-f09badc3de2a\" type=\"checkbox\" ><label class=\"sk-toggleable__label\" for=\"736796fa-3b69-45a2-98e0-f09badc3de2a\">MinMaxScaler</label><div class=\"sk-toggleable__content\"><pre>MinMaxScaler()</pre></div></div></div></div></div></div></div></div><div class=\"sk-parallel-item\"><div class=\"sk-item\"><div class=\"sk-label-container\"><div class=\"sk-label sk-toggleable\"><input class=\"sk-toggleable__control sk-hidden--visually\" id=\"a94767b7-fe2e-420e-bdd0-5192d1eeef86\" type=\"checkbox\" ><label class=\"sk-toggleable__label\" for=\"a94767b7-fe2e-420e-bdd0-5192d1eeef86\">pipeline-3</label><div class=\"sk-toggleable__content\"><pre>('Latitude', 'Longitude')</pre></div></div></div><div class=\"sk-serial\"><div class=\"sk-item\"><div class=\"sk-serial\"><div class=\"sk-item\"><div class=\"sk-estimator sk-toggleable\"><input class=\"sk-toggleable__control sk-hidden--visually\" id=\"206cca3b-16e3-494a-9a44-73e3e3f881e7\" type=\"checkbox\" ><label class=\"sk-toggleable__label\" for=\"206cca3b-16e3-494a-9a44-73e3e3f881e7\">StandardScaler</label><div class=\"sk-toggleable__content\"><pre>StandardScaler()</pre></div></div></div></div></div></div></div></div></div></div><div class=\"sk-item\"><div class=\"sk-estimator sk-toggleable\"><input class=\"sk-toggleable__control sk-hidden--visually\" id=\"e5309240-49d6-49bd-a652-f0226aff328b\" type=\"checkbox\" ><label class=\"sk-toggleable__label\" for=\"e5309240-49d6-49bd-a652-f0226aff328b\">LinearRegression</label><div class=\"sk-toggleable__content\"><pre>LinearRegression()</pre></div></div></div></div></div></div></div>"
      ],
      "text/plain": [
       "Pipeline(steps=[('columntransformer',\n",
       "                 ColumnTransformer(transformers=[('pipeline-1',\n",
       "                                                  Pipeline(steps=[('kbinsdiscretizer',\n",
       "                                                                   KBinsDiscretizer(encode='onehot-dense',\n",
       "                                                                                    n_bins=3,\n",
       "                                                                                    strategy='uniform'))]),\n",
       "                                                  'Population'),\n",
       "                                                 ('pipeline-2',\n",
       "                                                  Pipeline(steps=[('minmaxscaler',\n",
       "                                                                   MinMaxScaler())]),\n",
       "                                                  ('AveRooms', 'AveBedrms')),\n",
       "                                                 ('pipeline-3',\n",
       "                                                  Pipeline(steps=[('standardscaler',\n",
       "                                                                   StandardScaler())]),\n",
       "                                                  ('Latitude', 'Longitude'))])),\n",
       "                ('linearregression', LinearRegression())])"
      ]
     },
     "execution_count": 104,
     "metadata": {},
     "output_type": "execute_result"
    }
   ],
   "source": [
    "set_config(display = \"diagram\")\n",
    "pipe"
   ]
  },
  {
   "cell_type": "markdown",
   "id": "c7eaf85d",
   "metadata": {},
   "source": [
    "# Recursos adicionais"
   ]
  },
  {
   "cell_type": "markdown",
   "id": "1f4c8d12",
   "metadata": {},
   "source": [
    "O site oficial do `scikit-learn` contém vários exemplos que demonstram na prática conceitos importantes de *Machine Learning*. Seguem os links para alguns deles:\n",
    "\n",
    " - [Bias vs. Variância](https://scikit-learn.org/stable/auto_examples/ensemble/plot_bias_variance.html)\n",
    " - [Underfitting vs. Overfitting](https://scikit-learn.org/stable/auto_examples/model_selection/plot_underfitting_overfitting.html)\n",
    " - [Regularização e multicolinearidade](https://scikit-learn.org/stable/auto_examples/linear_model/plot_ridge_path.html)\n",
    " - [Interpretação de coeficientes de regressão linear](https://scikit-learn.org/stable/auto_examples/inspection/plot_linear_model_coefficient_interpretation.html)\n",
    " - [Visualização de resultados](https://scikit-learn.org/stable/visualizations.html)\n",
    " - [Visualização do processo de aprendizagem](https://scikit-learn.org/stable/modules/learning_curve.html)\n",
    " - [Métricas de avaliação de modelos](https://scikit-learn.org/stable/modules/model_evaluation.html)"
   ]
  }
 ],
 "metadata": {
  "kernelspec": {
   "display_name": "Python 3 (ipykernel)",
   "language": "python",
   "name": "python3"
  },
  "language_info": {
   "codemirror_mode": {
    "name": "ipython",
    "version": 3
   },
   "file_extension": ".py",
   "mimetype": "text/x-python",
   "name": "python",
   "nbconvert_exporter": "python",
   "pygments_lexer": "ipython3",
   "version": "3.8.8"
  },
  "toc": {
   "base_numbering": 1,
   "nav_menu": {
    "height": "169.986px",
    "width": "277.997px"
   },
   "number_sections": true,
   "sideBar": true,
   "skip_h1_title": false,
   "title_cell": "Table of Contents",
   "title_sidebar": "Contents",
   "toc_cell": false,
   "toc_position": {
    "height": "calc(100% - 180px)",
    "left": "10px",
    "top": "150px",
    "width": "165px"
   },
   "toc_section_display": true,
   "toc_window_display": false
  },
  "varInspector": {
   "cols": {
    "lenName": 16,
    "lenType": 16,
    "lenVar": 40
   },
   "kernels_config": {
    "python": {
     "delete_cmd_postfix": "",
     "delete_cmd_prefix": "del ",
     "library": "var_list.py",
     "varRefreshCmd": "print(var_dic_list())"
    },
    "r": {
     "delete_cmd_postfix": ") ",
     "delete_cmd_prefix": "rm(",
     "library": "var_list.r",
     "varRefreshCmd": "cat(var_dic_list()) "
    }
   },
   "types_to_exclude": [
    "module",
    "function",
    "builtin_function_or_method",
    "instance",
    "_Feature"
   ],
   "window_display": false
  }
 },
 "nbformat": 4,
 "nbformat_minor": 5
}
