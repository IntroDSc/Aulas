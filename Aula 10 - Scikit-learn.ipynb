{
 "cells": [
  {
   "cell_type": "markdown",
   "id": "88561acf",
   "metadata": {},
   "source": [
    "<strong><font size = \"4\" color = \"black\">Introdução à Ciência de Dados</font></strong><br>\n",
    "<font size = \"3\" color = \"gray\">Prof. Valter Moreno</font><br>\n",
    "<font size = \"3\" color = \"gray\">2022</font><br>  "
   ]
  },
  {
   "cell_type": "markdown",
   "id": "92c2c25c",
   "metadata": {},
   "source": [
    "<hr style=\"border:0.1px solid gray\"> </hr>\n",
    "<font size = \"5\" color = \"black\">Introdução ao Python</font><p>\n",
    "    <font size = \"5\" color = \"black\">Aula 10: Machine Learning com <i>scikit-learn</i></font>\n",
    "<hr style=\"border:0.1px solid gray\"> </hr>"
   ]
  },
  {
   "cell_type": "markdown",
   "id": "eafc95e5",
   "metadata": {},
   "source": [
    "O pacote *open-source* `scikit-learn` é um dos mais utilizados para a implementação de técnicas de Machine Learning em Python. Ele inclui uma variedade de ferramentas para o preprocessamento de dados e para o treinamento, avaliação e seleção de modelos. Sua documentação oficial é extensa, e inclui diversos tutoriais sobre suas aplicações:\n",
    "\n",
    " - [scikit-learn.org](https://scikit-learn.org/stable/index.html)\n",
    " - [scikit-learn Tutorials](https://scikit-learn.org/stable/tutorial/index.html)\n",
    " \n",
    " Mais recursos podem ser encontrados nos seguintes websites:\n",
    " \n",
    " - [Scikit Learn - Introduction](https://www.tutorialspoint.com/scikit_learn/scikit_learn_introduction.htm)\n",
    " - [Python Machine Learning: Scikit-Learn Tutorial](https://www.datacamp.com/community/tutorials/machine-learning-python)\n",
    " - [scikit-learn User Guide](https://scikit-learn.org/stable/user_guide.html)"
   ]
  },
  {
   "cell_type": "code",
   "execution_count": 1,
   "id": "5192a609",
   "metadata": {},
   "outputs": [],
   "source": [
    "import pandas as pd\n",
    "import numpy as np\n",
    "\n",
    "# Definição do número de casas decimais no numpy\n",
    "np.set_printoptions(precision = 2)"
   ]
  },
  {
   "cell_type": "markdown",
   "id": "eff9ab10",
   "metadata": {},
   "source": [
    "# *Datasets*"
   ]
  },
  {
   "cell_type": "markdown",
   "id": "7793bb8d",
   "metadata": {},
   "source": [
    "O `scikit-learn` inclui bases de dados e métodos para a carga de bases de certas fontes, e para a geração de dados sintéticos. Mais detalhes são fornecidos em [Dataset loading utilities](https://scikit-learn.org/stable/datasets.html). Seguem exemplos."
   ]
  },
  {
   "cell_type": "code",
   "execution_count": 2,
   "id": "3b8f9421",
   "metadata": {},
   "outputs": [],
   "source": [
    "from sklearn import datasets"
   ]
  },
  {
   "cell_type": "markdown",
   "id": "0738d541",
   "metadata": {},
   "source": [
    "Os métodos do tipo `load_` retornam como resultado um objeto do tipo *bunch*, que é um dicionário com chaves para os atributos ou *features* $X$ (*data*), os valores a serem previstos $y$ (*target*), e outras informações sobre o *dataset*."
   ]
  },
  {
   "cell_type": "code",
   "execution_count": 3,
   "id": "0554ba41",
   "metadata": {},
   "outputs": [
    {
     "data": {
      "text/plain": [
       "sklearn.utils.Bunch"
      ]
     },
     "execution_count": 3,
     "metadata": {},
     "output_type": "execute_result"
    }
   ],
   "source": [
    "# Exemplos de bases simples (toy datasets):\n",
    "iris = datasets.load_iris()\n",
    "type(iris)"
   ]
  },
  {
   "cell_type": "code",
   "execution_count": 4,
   "id": "6ef3e541",
   "metadata": {},
   "outputs": [
    {
     "data": {
      "text/plain": [
       "dict_keys(['data', 'target', 'frame', 'target_names', 'DESCR', 'feature_names', 'filename', 'data_module'])"
      ]
     },
     "execution_count": 4,
     "metadata": {},
     "output_type": "execute_result"
    }
   ],
   "source": [
    "iris.keys()"
   ]
  },
  {
   "cell_type": "code",
   "execution_count": 5,
   "id": "fa2efef0",
   "metadata": {
    "scrolled": true
   },
   "outputs": [
    {
     "data": {
      "text/plain": [
       "array([[5.1, 3.5, 1.4, 0.2],\n",
       "       [4.9, 3. , 1.4, 0.2],\n",
       "       [4.7, 3.2, 1.3, 0.2],\n",
       "       [4.6, 3.1, 1.5, 0.2],\n",
       "       [5. , 3.6, 1.4, 0.2],\n",
       "       [5.4, 3.9, 1.7, 0.4],\n",
       "       [4.6, 3.4, 1.4, 0.3],\n",
       "       [5. , 3.4, 1.5, 0.2],\n",
       "       [4.4, 2.9, 1.4, 0.2],\n",
       "       [4.9, 3.1, 1.5, 0.1]])"
      ]
     },
     "execution_count": 5,
     "metadata": {},
     "output_type": "execute_result"
    }
   ],
   "source": [
    "iris.get('data')[:10]"
   ]
  },
  {
   "cell_type": "code",
   "execution_count": 6,
   "id": "4b101025",
   "metadata": {},
   "outputs": [
    {
     "data": {
      "text/plain": [
       "array([0, 0, 0, 0, 0, 0, 0, 0, 0, 0])"
      ]
     },
     "execution_count": 6,
     "metadata": {},
     "output_type": "execute_result"
    }
   ],
   "source": [
    "iris.get('target')[:10]"
   ]
  },
  {
   "cell_type": "code",
   "execution_count": 7,
   "id": "f8caa259",
   "metadata": {
    "scrolled": true
   },
   "outputs": [
    {
     "name": "stdout",
     "output_type": "stream",
     "text": [
      ".. _iris_dataset:\n",
      "\n",
      "Iris plants dataset\n",
      "--------------------\n",
      "\n",
      "**Data Set Characteristics:**\n",
      "\n",
      "    :Number of Instances: 150 (50 in each of three classes)\n",
      "    :Number of Attributes: 4 numeric, predictive attributes and the class\n",
      "    :Attribute Information:\n",
      "        - sepal length in cm\n",
      "        - sepal width in cm\n",
      "        - petal length in cm\n",
      "        - petal width in cm\n",
      "        - class:\n",
      "                - Iris-Setosa\n",
      "                - Iris-Versicolour\n",
      "                - Iris-Virginica\n",
      "                \n",
      "    :Summary Statistics:\n",
      "\n",
      "    ============== ==== ==== ======= ===== ====================\n",
      "                    Min  Max   Mean    SD   Class Correlation\n",
      "    ============== ==== ==== ======= ===== ====================\n",
      "    sepal length:   4.3  7.9   5.84   0.83    0.7826\n",
      "    sepal width:    2.0  4.4   3.05   0.43   -0.4194\n",
      "    petal length:   1.0  6.9   3.76   1.76    0.9490  (high!)\n",
      "    petal width:    0.1  2.5   1.20   0.76    0.9565  (high!)\n",
      "    ============== ==== ==== ======= ===== ====================\n",
      "\n",
      "    :Missing Attribute Values: None\n",
      "    :Class Distribution: 33.3% for each of 3 classes.\n",
      "    :Creator: R.A. Fisher\n",
      "    :Donor: Michael Marshall (MARSHALL%PLU@io.arc.nasa.gov)\n",
      "    :Date: July, 1988\n",
      "\n",
      "The famous Iris database, first used by Sir R.A. Fisher. The dataset is taken\n",
      "from Fisher's paper. Note that it's the same as in R, but not as in the UCI\n",
      "Machine Learning Repository, which has two wrong data points.\n",
      "\n",
      "This is perhaps the best known database to be found in the\n",
      "pattern recognition literature.  Fisher's paper is a classic in the field and\n",
      "is referenced frequently to this day.  (See Duda & Hart, for example.)  The\n",
      "data set contains 3 classes of 50 instances each, where each class refers to a\n",
      "type of iris plant.  One class is linearly separable from the other 2; the\n",
      "latter are NOT linearly separable from each other.\n",
      "\n",
      ".. topic:: References\n",
      "\n",
      "   - Fisher, R.A. \"The use of multiple measurements in taxonomic problems\"\n",
      "     Annual Eugenics, 7, Part II, 179-188 (1936); also in \"Contributions to\n",
      "     Mathematical Statistics\" (John Wiley, NY, 1950).\n",
      "   - Duda, R.O., & Hart, P.E. (1973) Pattern Classification and Scene Analysis.\n",
      "     (Q327.D83) John Wiley & Sons.  ISBN 0-471-22361-1.  See page 218.\n",
      "   - Dasarathy, B.V. (1980) \"Nosing Around the Neighborhood: A New System\n",
      "     Structure and Classification Rule for Recognition in Partially Exposed\n",
      "     Environments\".  IEEE Transactions on Pattern Analysis and Machine\n",
      "     Intelligence, Vol. PAMI-2, No. 1, 67-71.\n",
      "   - Gates, G.W. (1972) \"The Reduced Nearest Neighbor Rule\".  IEEE Transactions\n",
      "     on Information Theory, May 1972, 431-433.\n",
      "   - See also: 1988 MLC Proceedings, 54-64.  Cheeseman et al\"s AUTOCLASS II\n",
      "     conceptual clustering system finds 3 classes in the data.\n",
      "   - Many, many more ...\n"
     ]
    }
   ],
   "source": [
    "print(iris.get('DESCR'))"
   ]
  },
  {
   "cell_type": "markdown",
   "id": "600907fb",
   "metadata": {},
   "source": [
    "Os métodos podem também gerar *dataframes* do `pandas`:"
   ]
  },
  {
   "cell_type": "code",
   "execution_count": 8,
   "id": "ee4c0892",
   "metadata": {},
   "outputs": [
    {
     "data": {
      "text/html": [
       "<div>\n",
       "<style scoped>\n",
       "    .dataframe tbody tr th:only-of-type {\n",
       "        vertical-align: middle;\n",
       "    }\n",
       "\n",
       "    .dataframe tbody tr th {\n",
       "        vertical-align: top;\n",
       "    }\n",
       "\n",
       "    .dataframe thead th {\n",
       "        text-align: right;\n",
       "    }\n",
       "</style>\n",
       "<table border=\"1\" class=\"dataframe\">\n",
       "  <thead>\n",
       "    <tr style=\"text-align: right;\">\n",
       "      <th></th>\n",
       "      <th>sepal length (cm)</th>\n",
       "      <th>sepal width (cm)</th>\n",
       "      <th>petal length (cm)</th>\n",
       "      <th>petal width (cm)</th>\n",
       "      <th>target</th>\n",
       "    </tr>\n",
       "  </thead>\n",
       "  <tbody>\n",
       "    <tr>\n",
       "      <th>0</th>\n",
       "      <td>5.1</td>\n",
       "      <td>3.5</td>\n",
       "      <td>1.4</td>\n",
       "      <td>0.2</td>\n",
       "      <td>0</td>\n",
       "    </tr>\n",
       "    <tr>\n",
       "      <th>1</th>\n",
       "      <td>4.9</td>\n",
       "      <td>3.0</td>\n",
       "      <td>1.4</td>\n",
       "      <td>0.2</td>\n",
       "      <td>0</td>\n",
       "    </tr>\n",
       "    <tr>\n",
       "      <th>2</th>\n",
       "      <td>4.7</td>\n",
       "      <td>3.2</td>\n",
       "      <td>1.3</td>\n",
       "      <td>0.2</td>\n",
       "      <td>0</td>\n",
       "    </tr>\n",
       "    <tr>\n",
       "      <th>3</th>\n",
       "      <td>4.6</td>\n",
       "      <td>3.1</td>\n",
       "      <td>1.5</td>\n",
       "      <td>0.2</td>\n",
       "      <td>0</td>\n",
       "    </tr>\n",
       "    <tr>\n",
       "      <th>4</th>\n",
       "      <td>5.0</td>\n",
       "      <td>3.6</td>\n",
       "      <td>1.4</td>\n",
       "      <td>0.2</td>\n",
       "      <td>0</td>\n",
       "    </tr>\n",
       "  </tbody>\n",
       "</table>\n",
       "</div>"
      ],
      "text/plain": [
       "   sepal length (cm)  sepal width (cm)  petal length (cm)  petal width (cm)  \\\n",
       "0                5.1               3.5                1.4               0.2   \n",
       "1                4.9               3.0                1.4               0.2   \n",
       "2                4.7               3.2                1.3               0.2   \n",
       "3                4.6               3.1                1.5               0.2   \n",
       "4                5.0               3.6                1.4               0.2   \n",
       "\n",
       "   target  \n",
       "0       0  \n",
       "1       0  \n",
       "2       0  \n",
       "3       0  \n",
       "4       0  "
      ]
     },
     "execution_count": 8,
     "metadata": {},
     "output_type": "execute_result"
    }
   ],
   "source": [
    "iris = datasets.load_iris(as_frame = True)\n",
    "iris.get('frame').head()"
   ]
  },
  {
   "cell_type": "code",
   "execution_count": 9,
   "id": "5cd8f6bd",
   "metadata": {},
   "outputs": [],
   "source": [
    "# Deleção do objeto criado:\n",
    "del(iris)"
   ]
  },
  {
   "cell_type": "markdown",
   "id": "fb8a409f",
   "metadata": {},
   "source": [
    "Os métodos do tipo `fetch_` carregam bases de dados reais, baixando-as da internet quando necessário."
   ]
  },
  {
   "cell_type": "code",
   "execution_count": 10,
   "id": "c2f99975",
   "metadata": {
    "scrolled": true
   },
   "outputs": [
    {
     "name": "stdout",
     "output_type": "stream",
     "text": [
      ".. _california_housing_dataset:\n",
      "\n",
      "California Housing dataset\n",
      "--------------------------\n",
      "\n",
      "**Data Set Characteristics:**\n",
      "\n",
      "    :Number of Instances: 20640\n",
      "\n",
      "    :Number of Attributes: 8 numeric, predictive attributes and the target\n",
      "\n",
      "    :Attribute Information:\n",
      "        - MedInc        median income in block group\n",
      "        - HouseAge      median house age in block group\n",
      "        - AveRooms      average number of rooms per household\n",
      "        - AveBedrms     average number of bedrooms per household\n",
      "        - Population    block group population\n",
      "        - AveOccup      average number of household members\n",
      "        - Latitude      block group latitude\n",
      "        - Longitude     block group longitude\n",
      "\n",
      "    :Missing Attribute Values: None\n",
      "\n",
      "This dataset was obtained from the StatLib repository.\n",
      "https://www.dcc.fc.up.pt/~ltorgo/Regression/cal_housing.html\n",
      "\n",
      "The target variable is the median house value for California districts,\n",
      "expressed in hundreds of thousands of dollars ($100,000).\n",
      "\n",
      "This dataset was derived from the 1990 U.S. census, using one row per census\n",
      "block group. A block group is the smallest geographical unit for which the U.S.\n",
      "Census Bureau publishes sample data (a block group typically has a population\n",
      "of 600 to 3,000 people).\n",
      "\n",
      "An household is a group of people residing within a home. Since the average\n",
      "number of rooms and bedrooms in this dataset are provided per household, these\n",
      "columns may take surpinsingly large values for block groups with few households\n",
      "and many empty houses, such as vacation resorts.\n",
      "\n",
      "It can be downloaded/loaded using the\n",
      ":func:`sklearn.datasets.fetch_california_housing` function.\n",
      "\n",
      ".. topic:: References\n",
      "\n",
      "    - Pace, R. Kelley and Ronald Barry, Sparse Spatial Autoregressions,\n",
      "      Statistics and Probability Letters, 33 (1997) 291-297\n",
      "\n"
     ]
    }
   ],
   "source": [
    "housing = datasets.fetch_california_housing(as_frame = True)\n",
    "print(housing.get('DESCR'))"
   ]
  },
  {
   "cell_type": "code",
   "execution_count": 11,
   "id": "ae0b7097",
   "metadata": {},
   "outputs": [
    {
     "data": {
      "text/html": [
       "<div>\n",
       "<style scoped>\n",
       "    .dataframe tbody tr th:only-of-type {\n",
       "        vertical-align: middle;\n",
       "    }\n",
       "\n",
       "    .dataframe tbody tr th {\n",
       "        vertical-align: top;\n",
       "    }\n",
       "\n",
       "    .dataframe thead th {\n",
       "        text-align: right;\n",
       "    }\n",
       "</style>\n",
       "<table border=\"1\" class=\"dataframe\">\n",
       "  <thead>\n",
       "    <tr style=\"text-align: right;\">\n",
       "      <th></th>\n",
       "      <th>MedInc</th>\n",
       "      <th>HouseAge</th>\n",
       "      <th>AveRooms</th>\n",
       "      <th>AveBedrms</th>\n",
       "      <th>Population</th>\n",
       "      <th>AveOccup</th>\n",
       "      <th>Latitude</th>\n",
       "      <th>Longitude</th>\n",
       "      <th>MedHouseVal</th>\n",
       "    </tr>\n",
       "  </thead>\n",
       "  <tbody>\n",
       "    <tr>\n",
       "      <th>0</th>\n",
       "      <td>8.3252</td>\n",
       "      <td>41.0</td>\n",
       "      <td>6.984127</td>\n",
       "      <td>1.023810</td>\n",
       "      <td>322.0</td>\n",
       "      <td>2.555556</td>\n",
       "      <td>37.88</td>\n",
       "      <td>-122.23</td>\n",
       "      <td>4.526</td>\n",
       "    </tr>\n",
       "    <tr>\n",
       "      <th>1</th>\n",
       "      <td>8.3014</td>\n",
       "      <td>21.0</td>\n",
       "      <td>6.238137</td>\n",
       "      <td>0.971880</td>\n",
       "      <td>2401.0</td>\n",
       "      <td>2.109842</td>\n",
       "      <td>37.86</td>\n",
       "      <td>-122.22</td>\n",
       "      <td>3.585</td>\n",
       "    </tr>\n",
       "    <tr>\n",
       "      <th>2</th>\n",
       "      <td>7.2574</td>\n",
       "      <td>52.0</td>\n",
       "      <td>8.288136</td>\n",
       "      <td>1.073446</td>\n",
       "      <td>496.0</td>\n",
       "      <td>2.802260</td>\n",
       "      <td>37.85</td>\n",
       "      <td>-122.24</td>\n",
       "      <td>3.521</td>\n",
       "    </tr>\n",
       "    <tr>\n",
       "      <th>3</th>\n",
       "      <td>5.6431</td>\n",
       "      <td>52.0</td>\n",
       "      <td>5.817352</td>\n",
       "      <td>1.073059</td>\n",
       "      <td>558.0</td>\n",
       "      <td>2.547945</td>\n",
       "      <td>37.85</td>\n",
       "      <td>-122.25</td>\n",
       "      <td>3.413</td>\n",
       "    </tr>\n",
       "    <tr>\n",
       "      <th>4</th>\n",
       "      <td>3.8462</td>\n",
       "      <td>52.0</td>\n",
       "      <td>6.281853</td>\n",
       "      <td>1.081081</td>\n",
       "      <td>565.0</td>\n",
       "      <td>2.181467</td>\n",
       "      <td>37.85</td>\n",
       "      <td>-122.25</td>\n",
       "      <td>3.422</td>\n",
       "    </tr>\n",
       "  </tbody>\n",
       "</table>\n",
       "</div>"
      ],
      "text/plain": [
       "   MedInc  HouseAge  AveRooms  AveBedrms  Population  AveOccup  Latitude  \\\n",
       "0  8.3252      41.0  6.984127   1.023810       322.0  2.555556     37.88   \n",
       "1  8.3014      21.0  6.238137   0.971880      2401.0  2.109842     37.86   \n",
       "2  7.2574      52.0  8.288136   1.073446       496.0  2.802260     37.85   \n",
       "3  5.6431      52.0  5.817352   1.073059       558.0  2.547945     37.85   \n",
       "4  3.8462      52.0  6.281853   1.081081       565.0  2.181467     37.85   \n",
       "\n",
       "   Longitude  MedHouseVal  \n",
       "0    -122.23        4.526  \n",
       "1    -122.22        3.585  \n",
       "2    -122.24        3.521  \n",
       "3    -122.25        3.413  \n",
       "4    -122.25        3.422  "
      ]
     },
     "execution_count": 11,
     "metadata": {},
     "output_type": "execute_result"
    }
   ],
   "source": [
    "housing.get('frame').head()"
   ]
  },
  {
   "cell_type": "code",
   "execution_count": 12,
   "id": "739712fa",
   "metadata": {},
   "outputs": [],
   "source": [
    "del(housing)"
   ]
  },
  {
   "cell_type": "markdown",
   "id": "15985e25",
   "metadata": {},
   "source": [
    "O `scikit-learn` inclui métodos para carregar dados de fontes externas, como o repositório [OpenML](https://openml.org). Note que o método inclui um parâmetro (*data_home*) para definir o diretório em que os dados serão guardados. "
   ]
  },
  {
   "cell_type": "code",
   "execution_count": 13,
   "id": "5769cfd9",
   "metadata": {},
   "outputs": [],
   "source": [
    "marketing = datasets.fetch_openml(data_id = 1461,\n",
    "                                  target_column = \"Class\",\n",
    "                                  as_frame = True)"
   ]
  },
  {
   "cell_type": "code",
   "execution_count": 14,
   "id": "c6750c9d",
   "metadata": {
    "scrolled": true
   },
   "outputs": [
    {
     "name": "stdout",
     "output_type": "stream",
     "text": [
      "**Author**: Paulo Cortez, Sérgio Moro\n",
      "**Source**: [UCI](https://archive.ics.uci.edu/ml/datasets/bank+marketing)\n",
      "**Please cite**: S. Moro, R. Laureano and P. Cortez. Using Data Mining for Bank Direct Marketing: An Application of the CRISP-DM Methodology. In P. Novais et al. (Eds.), Proceedings of the European Simulation and Modelling Conference - ESM'2011, pp. 117-121, Guimarães, Portugal, October, 2011. EUROSIS.       \n",
      "\n",
      "**Bank Marketing**  \n",
      "The data is related with direct marketing campaigns of a Portuguese banking institution. The marketing campaigns were based on phone calls. Often, more than one contact to the same client was required, in order to access if the product (bank term deposit) would be (or not) subscribed. \n",
      "\n",
      "The classification goal is to predict if the client will subscribe a term deposit (variable y).\n",
      "\n",
      "### Attribute information  \n",
      "For more information, read [Moro et al., 2011].\n",
      "\n",
      "Input variables:\n",
      "\n",
      "- bank client data:\n",
      "\n",
      "1 - age (numeric) \n",
      "\n",
      "2 - job : type of job (categorical: \"admin.\",\"unknown\",\"unemployed\",\"management\",\"housemaid\",\"entrepreneur\", \"student\",\"blue-collar\",\"self-employed\",\"retired\",\"technician\",\"services\") \n",
      "\n",
      "3 - marital : marital status (categorical: \"married\",\"divorced\",\"single\"; note: \"divorced\"  means divorced or widowed) \n",
      "\n",
      "4 - education (categorical: \"unknown\",\"secondary\",\"primary\",\"tertiary\") \n",
      "\n",
      "5 - default: has credit in default? (binary: \"yes\",\"no\") \n",
      "\n",
      "6 - balance: average yearly balance, in euros (numeric) \n",
      "\n",
      "7 - housing: has housing loan? (binary: \"yes\",\"no\") \n",
      "\n",
      "8 - loan: has personal loan? (binary: \"yes\",\"no\")\n",
      "\n",
      "- related with the last contact of the current campaign:\n",
      "\n",
      "9 - contact: contact communication type (categorical: \"unknown\",\"telephone\",\"cellular\")\n",
      "\n",
      "10 - day: last contact day of the month (numeric)\n",
      "\n",
      "11 - month: last contact month of year (categorical: \"jan\", \"feb\", \"mar\", ..., \"nov\", \"dec\")\n",
      "\n",
      "12 - duration: last contact duration, in seconds (numeric)\n",
      "\n",
      "- other attributes:\n",
      "\n",
      "13 - campaign: number of contacts performed during this campaign and for this client (numeric, includes last contact)\n",
      "\n",
      "14 - pdays: number of days that passed by after the client was last contacted from a previous campaign (numeric, -1 means client was not previously contacted) \n",
      "\n",
      "15 - previous: number of contacts performed before this campaign and for this client (numeric) \n",
      "\n",
      "16 - poutcome: outcome of the previous marketing campaign (categorical: \"unknown\",\"other\",\"failure\",\"success\")\n",
      " \n",
      "- output variable (desired target):\n",
      "\n",
      "17 - y - has the client subscribed a term deposit? (binary: \"yes\",\"no\")\n",
      "\n",
      "Downloaded from openml.org.\n"
     ]
    }
   ],
   "source": [
    "print(marketing.get('DESCR'))"
   ]
  },
  {
   "cell_type": "code",
   "execution_count": 15,
   "id": "dede5b9f",
   "metadata": {},
   "outputs": [
    {
     "data": {
      "text/html": [
       "<div>\n",
       "<style scoped>\n",
       "    .dataframe tbody tr th:only-of-type {\n",
       "        vertical-align: middle;\n",
       "    }\n",
       "\n",
       "    .dataframe tbody tr th {\n",
       "        vertical-align: top;\n",
       "    }\n",
       "\n",
       "    .dataframe thead th {\n",
       "        text-align: right;\n",
       "    }\n",
       "</style>\n",
       "<table border=\"1\" class=\"dataframe\">\n",
       "  <thead>\n",
       "    <tr style=\"text-align: right;\">\n",
       "      <th></th>\n",
       "      <th>V1</th>\n",
       "      <th>V2</th>\n",
       "      <th>V3</th>\n",
       "      <th>V4</th>\n",
       "      <th>V5</th>\n",
       "      <th>V6</th>\n",
       "      <th>V7</th>\n",
       "      <th>V8</th>\n",
       "      <th>V9</th>\n",
       "      <th>V10</th>\n",
       "      <th>V11</th>\n",
       "      <th>V12</th>\n",
       "      <th>V13</th>\n",
       "      <th>V14</th>\n",
       "      <th>V15</th>\n",
       "      <th>V16</th>\n",
       "      <th>Class</th>\n",
       "    </tr>\n",
       "  </thead>\n",
       "  <tbody>\n",
       "    <tr>\n",
       "      <th>0</th>\n",
       "      <td>58.0</td>\n",
       "      <td>management</td>\n",
       "      <td>married</td>\n",
       "      <td>tertiary</td>\n",
       "      <td>no</td>\n",
       "      <td>2143.0</td>\n",
       "      <td>yes</td>\n",
       "      <td>no</td>\n",
       "      <td>unknown</td>\n",
       "      <td>5.0</td>\n",
       "      <td>may</td>\n",
       "      <td>261.0</td>\n",
       "      <td>1.0</td>\n",
       "      <td>-1.0</td>\n",
       "      <td>0.0</td>\n",
       "      <td>unknown</td>\n",
       "      <td>1</td>\n",
       "    </tr>\n",
       "    <tr>\n",
       "      <th>1</th>\n",
       "      <td>44.0</td>\n",
       "      <td>technician</td>\n",
       "      <td>single</td>\n",
       "      <td>secondary</td>\n",
       "      <td>no</td>\n",
       "      <td>29.0</td>\n",
       "      <td>yes</td>\n",
       "      <td>no</td>\n",
       "      <td>unknown</td>\n",
       "      <td>5.0</td>\n",
       "      <td>may</td>\n",
       "      <td>151.0</td>\n",
       "      <td>1.0</td>\n",
       "      <td>-1.0</td>\n",
       "      <td>0.0</td>\n",
       "      <td>unknown</td>\n",
       "      <td>1</td>\n",
       "    </tr>\n",
       "    <tr>\n",
       "      <th>2</th>\n",
       "      <td>33.0</td>\n",
       "      <td>entrepreneur</td>\n",
       "      <td>married</td>\n",
       "      <td>secondary</td>\n",
       "      <td>no</td>\n",
       "      <td>2.0</td>\n",
       "      <td>yes</td>\n",
       "      <td>yes</td>\n",
       "      <td>unknown</td>\n",
       "      <td>5.0</td>\n",
       "      <td>may</td>\n",
       "      <td>76.0</td>\n",
       "      <td>1.0</td>\n",
       "      <td>-1.0</td>\n",
       "      <td>0.0</td>\n",
       "      <td>unknown</td>\n",
       "      <td>1</td>\n",
       "    </tr>\n",
       "    <tr>\n",
       "      <th>3</th>\n",
       "      <td>47.0</td>\n",
       "      <td>blue-collar</td>\n",
       "      <td>married</td>\n",
       "      <td>unknown</td>\n",
       "      <td>no</td>\n",
       "      <td>1506.0</td>\n",
       "      <td>yes</td>\n",
       "      <td>no</td>\n",
       "      <td>unknown</td>\n",
       "      <td>5.0</td>\n",
       "      <td>may</td>\n",
       "      <td>92.0</td>\n",
       "      <td>1.0</td>\n",
       "      <td>-1.0</td>\n",
       "      <td>0.0</td>\n",
       "      <td>unknown</td>\n",
       "      <td>1</td>\n",
       "    </tr>\n",
       "    <tr>\n",
       "      <th>4</th>\n",
       "      <td>33.0</td>\n",
       "      <td>unknown</td>\n",
       "      <td>single</td>\n",
       "      <td>unknown</td>\n",
       "      <td>no</td>\n",
       "      <td>1.0</td>\n",
       "      <td>no</td>\n",
       "      <td>no</td>\n",
       "      <td>unknown</td>\n",
       "      <td>5.0</td>\n",
       "      <td>may</td>\n",
       "      <td>198.0</td>\n",
       "      <td>1.0</td>\n",
       "      <td>-1.0</td>\n",
       "      <td>0.0</td>\n",
       "      <td>unknown</td>\n",
       "      <td>1</td>\n",
       "    </tr>\n",
       "  </tbody>\n",
       "</table>\n",
       "</div>"
      ],
      "text/plain": [
       "     V1            V2       V3         V4  V5      V6   V7   V8       V9  V10  \\\n",
       "0  58.0    management  married   tertiary  no  2143.0  yes   no  unknown  5.0   \n",
       "1  44.0    technician   single  secondary  no    29.0  yes   no  unknown  5.0   \n",
       "2  33.0  entrepreneur  married  secondary  no     2.0  yes  yes  unknown  5.0   \n",
       "3  47.0   blue-collar  married    unknown  no  1506.0  yes   no  unknown  5.0   \n",
       "4  33.0       unknown   single    unknown  no     1.0   no   no  unknown  5.0   \n",
       "\n",
       "   V11    V12  V13  V14  V15      V16 Class  \n",
       "0  may  261.0  1.0 -1.0  0.0  unknown     1  \n",
       "1  may  151.0  1.0 -1.0  0.0  unknown     1  \n",
       "2  may   76.0  1.0 -1.0  0.0  unknown     1  \n",
       "3  may   92.0  1.0 -1.0  0.0  unknown     1  \n",
       "4  may  198.0  1.0 -1.0  0.0  unknown     1  "
      ]
     },
     "execution_count": 15,
     "metadata": {},
     "output_type": "execute_result"
    }
   ],
   "source": [
    "marketing.get('frame').head()"
   ]
  },
  {
   "cell_type": "code",
   "execution_count": 16,
   "id": "ff6041a3",
   "metadata": {},
   "outputs": [],
   "source": [
    "del(marketing)"
   ]
  },
  {
   "cell_type": "markdown",
   "id": "1bb11e14",
   "metadata": {},
   "source": [
    "# *Pipelines* de *Machine Learning*"
   ]
  },
  {
   "cell_type": "markdown",
   "id": "3190ff0b",
   "metadata": {},
   "source": [
    "Os principais tipos de elemento de *Machine Learning* (ML) implementados no `scikit-learn` são os *estimadores* (*estimators*) e os *preprocessadores* (*pre-processors*). *Preprocessadores* são usados para transformar os dados que serã fornecidos para os algoritmos de ML implementados em *estimadores*. Os dois tipos de elementos podem ser combinados e encadeados em objetos do tipo *pipeline*.\n",
    "\n",
    "*Preprocessadores* incluem dois métodos básicos: `fit` e `transform`. O método `fit` define a transformação a ser realizada, e o método `transform`, a aplica aos dados.\n",
    "\n",
    "*Estimadores* incluem os métodos básicos `fit` e `predict`. O primeiro é usado para treinar modelos, e o segundo, para fazer previsões.\n",
    "\n",
    "Assim como os *estimadores*, *pipelines* também incluem os métodos `fit` e `predict`, que são usados da mesma forma."
   ]
  },
  {
   "cell_type": "markdown",
   "id": "ff759134",
   "metadata": {},
   "source": [
    "## Bases de treinamento e teste"
   ]
  },
  {
   "cell_type": "markdown",
   "id": "24ebe8ef",
   "metadata": {},
   "source": [
    "Normalmente, os dados obtidos para gerar modelos de ML devem ser divididos em bases de treinamento e teste. O `scikit-learn` inclui métodos para esse propósito, como `train_test_split`."
   ]
  },
  {
   "cell_type": "code",
   "execution_count": 17,
   "id": "ae824483",
   "metadata": {},
   "outputs": [],
   "source": [
    "X, y = datasets.fetch_california_housing(return_X_y = True)"
   ]
  },
  {
   "cell_type": "code",
   "execution_count": 18,
   "id": "9f2a5255",
   "metadata": {},
   "outputs": [
    {
     "name": "stdout",
     "output_type": "stream",
     "text": [
      "Dimensões de X: (20640, 8)\n",
      "Dimensões de y: (20640,)\n"
     ]
    }
   ],
   "source": [
    "print(f\"Dimensões de X: {X.shape}\\nDimensões de y: {y.shape}\")"
   ]
  },
  {
   "cell_type": "code",
   "execution_count": 19,
   "id": "46bea5e7",
   "metadata": {},
   "outputs": [],
   "source": [
    "# Geração das bases de treinamento e teste:\n",
    "from sklearn.model_selection import train_test_split\n",
    "X_train, X_test, y_train, y_test = train_test_split(X, y, \n",
    "                                                    test_size = .25,\n",
    "                                                    random_state = 42)"
   ]
  },
  {
   "cell_type": "code",
   "execution_count": 20,
   "id": "96c3156e",
   "metadata": {},
   "outputs": [
    {
     "name": "stdout",
     "output_type": "stream",
     "text": [
      "Bases de treinamento:\n",
      "Dimensões de X: (15480, 8)\n",
      "Dimensões de y: (15480,)\n",
      "\n",
      "Bases de teste:\n",
      "Dimensões de X: (5160, 8)\n",
      "Dimensões de y: (5160,)\n",
      "\n"
     ]
    }
   ],
   "source": [
    "print(\"Bases de treinamento:\")\n",
    "print(f\"Dimensões de X: {X_train.shape}\\nDimensões de y: {y_train.shape}\\n\")\n",
    "print(\"Bases de teste:\")\n",
    "print(f\"Dimensões de X: {X_test.shape}\\nDimensões de y: {y_test.shape}\\n\")"
   ]
  },
  {
   "cell_type": "markdown",
   "id": "a20e52a5",
   "metadata": {},
   "source": [
    "O mesmo método pode ser aplicado a *dataframes* do `pandas`."
   ]
  },
  {
   "cell_type": "code",
   "execution_count": 21,
   "id": "a9948bd1",
   "metadata": {},
   "outputs": [],
   "source": [
    "dados = datasets.fetch_california_housing(as_frame = True).get('frame')\n",
    "dados_train, dados_test = train_test_split(dados, test_size = .25)"
   ]
  },
  {
   "cell_type": "code",
   "execution_count": 22,
   "id": "d9e3964c",
   "metadata": {},
   "outputs": [
    {
     "data": {
      "text/html": [
       "<div>\n",
       "<style scoped>\n",
       "    .dataframe tbody tr th:only-of-type {\n",
       "        vertical-align: middle;\n",
       "    }\n",
       "\n",
       "    .dataframe tbody tr th {\n",
       "        vertical-align: top;\n",
       "    }\n",
       "\n",
       "    .dataframe thead th {\n",
       "        text-align: right;\n",
       "    }\n",
       "</style>\n",
       "<table border=\"1\" class=\"dataframe\">\n",
       "  <thead>\n",
       "    <tr style=\"text-align: right;\">\n",
       "      <th></th>\n",
       "      <th>MedInc</th>\n",
       "      <th>HouseAge</th>\n",
       "      <th>AveRooms</th>\n",
       "      <th>AveBedrms</th>\n",
       "      <th>Population</th>\n",
       "      <th>AveOccup</th>\n",
       "      <th>Latitude</th>\n",
       "      <th>Longitude</th>\n",
       "      <th>MedHouseVal</th>\n",
       "    </tr>\n",
       "  </thead>\n",
       "  <tbody>\n",
       "    <tr>\n",
       "      <th>14483</th>\n",
       "      <td>8.4960</td>\n",
       "      <td>34.0</td>\n",
       "      <td>7.825971</td>\n",
       "      <td>1.050870</td>\n",
       "      <td>1817.0</td>\n",
       "      <td>2.432396</td>\n",
       "      <td>32.82</td>\n",
       "      <td>-117.26</td>\n",
       "      <td>5.00001</td>\n",
       "    </tr>\n",
       "    <tr>\n",
       "      <th>13646</th>\n",
       "      <td>1.9234</td>\n",
       "      <td>43.0</td>\n",
       "      <td>4.821023</td>\n",
       "      <td>1.099432</td>\n",
       "      <td>1181.0</td>\n",
       "      <td>3.355114</td>\n",
       "      <td>34.08</td>\n",
       "      <td>-117.31</td>\n",
       "      <td>0.74600</td>\n",
       "    </tr>\n",
       "    <tr>\n",
       "      <th>5928</th>\n",
       "      <td>6.2456</td>\n",
       "      <td>13.0</td>\n",
       "      <td>6.456897</td>\n",
       "      <td>1.066810</td>\n",
       "      <td>1187.0</td>\n",
       "      <td>2.558190</td>\n",
       "      <td>34.10</td>\n",
       "      <td>-117.80</td>\n",
       "      <td>1.61700</td>\n",
       "    </tr>\n",
       "    <tr>\n",
       "      <th>13229</th>\n",
       "      <td>8.5282</td>\n",
       "      <td>25.0</td>\n",
       "      <td>7.831050</td>\n",
       "      <td>1.107306</td>\n",
       "      <td>1284.0</td>\n",
       "      <td>2.931507</td>\n",
       "      <td>34.15</td>\n",
       "      <td>-117.66</td>\n",
       "      <td>3.60100</td>\n",
       "    </tr>\n",
       "    <tr>\n",
       "      <th>18817</th>\n",
       "      <td>1.8839</td>\n",
       "      <td>32.0</td>\n",
       "      <td>11.572519</td>\n",
       "      <td>2.206107</td>\n",
       "      <td>304.0</td>\n",
       "      <td>2.320611</td>\n",
       "      <td>39.66</td>\n",
       "      <td>-120.48</td>\n",
       "      <td>0.71000</td>\n",
       "    </tr>\n",
       "  </tbody>\n",
       "</table>\n",
       "</div>"
      ],
      "text/plain": [
       "       MedInc  HouseAge   AveRooms  AveBedrms  Population  AveOccup  Latitude  \\\n",
       "14483  8.4960      34.0   7.825971   1.050870      1817.0  2.432396     32.82   \n",
       "13646  1.9234      43.0   4.821023   1.099432      1181.0  3.355114     34.08   \n",
       "5928   6.2456      13.0   6.456897   1.066810      1187.0  2.558190     34.10   \n",
       "13229  8.5282      25.0   7.831050   1.107306      1284.0  2.931507     34.15   \n",
       "18817  1.8839      32.0  11.572519   2.206107       304.0  2.320611     39.66   \n",
       "\n",
       "       Longitude  MedHouseVal  \n",
       "14483    -117.26      5.00001  \n",
       "13646    -117.31      0.74600  \n",
       "5928     -117.80      1.61700  \n",
       "13229    -117.66      3.60100  \n",
       "18817    -120.48      0.71000  "
      ]
     },
     "execution_count": 22,
     "metadata": {},
     "output_type": "execute_result"
    }
   ],
   "source": [
    "dados_train.head()"
   ]
  },
  {
   "cell_type": "code",
   "execution_count": 23,
   "id": "e4bea52d",
   "metadata": {},
   "outputs": [
    {
     "data": {
      "text/html": [
       "<div>\n",
       "<style scoped>\n",
       "    .dataframe tbody tr th:only-of-type {\n",
       "        vertical-align: middle;\n",
       "    }\n",
       "\n",
       "    .dataframe tbody tr th {\n",
       "        vertical-align: top;\n",
       "    }\n",
       "\n",
       "    .dataframe thead th {\n",
       "        text-align: right;\n",
       "    }\n",
       "</style>\n",
       "<table border=\"1\" class=\"dataframe\">\n",
       "  <thead>\n",
       "    <tr style=\"text-align: right;\">\n",
       "      <th></th>\n",
       "      <th>MedInc</th>\n",
       "      <th>HouseAge</th>\n",
       "      <th>AveRooms</th>\n",
       "      <th>AveBedrms</th>\n",
       "      <th>Population</th>\n",
       "      <th>AveOccup</th>\n",
       "      <th>Latitude</th>\n",
       "      <th>Longitude</th>\n",
       "      <th>MedHouseVal</th>\n",
       "    </tr>\n",
       "  </thead>\n",
       "  <tbody>\n",
       "    <tr>\n",
       "      <th>18621</th>\n",
       "      <td>4.8000</td>\n",
       "      <td>20.0</td>\n",
       "      <td>5.430233</td>\n",
       "      <td>1.104651</td>\n",
       "      <td>229.0</td>\n",
       "      <td>2.662791</td>\n",
       "      <td>37.08</td>\n",
       "      <td>-122.04</td>\n",
       "      <td>2.61500</td>\n",
       "    </tr>\n",
       "    <tr>\n",
       "      <th>3485</th>\n",
       "      <td>8.1125</td>\n",
       "      <td>16.0</td>\n",
       "      <td>7.399167</td>\n",
       "      <td>1.032500</td>\n",
       "      <td>3468.0</td>\n",
       "      <td>2.890000</td>\n",
       "      <td>34.28</td>\n",
       "      <td>-118.55</td>\n",
       "      <td>4.28600</td>\n",
       "    </tr>\n",
       "    <tr>\n",
       "      <th>15619</th>\n",
       "      <td>3.2356</td>\n",
       "      <td>50.0</td>\n",
       "      <td>3.502809</td>\n",
       "      <td>1.026685</td>\n",
       "      <td>958.0</td>\n",
       "      <td>1.345506</td>\n",
       "      <td>37.80</td>\n",
       "      <td>-122.42</td>\n",
       "      <td>5.00001</td>\n",
       "    </tr>\n",
       "    <tr>\n",
       "      <th>14923</th>\n",
       "      <td>5.7660</td>\n",
       "      <td>30.0</td>\n",
       "      <td>6.608824</td>\n",
       "      <td>0.980882</td>\n",
       "      <td>1883.0</td>\n",
       "      <td>2.769118</td>\n",
       "      <td>32.64</td>\n",
       "      <td>-117.06</td>\n",
       "      <td>1.86100</td>\n",
       "    </tr>\n",
       "    <tr>\n",
       "      <th>12706</th>\n",
       "      <td>2.5238</td>\n",
       "      <td>22.0</td>\n",
       "      <td>4.618400</td>\n",
       "      <td>1.056000</td>\n",
       "      <td>2607.0</td>\n",
       "      <td>2.085600</td>\n",
       "      <td>38.60</td>\n",
       "      <td>-121.39</td>\n",
       "      <td>1.18800</td>\n",
       "    </tr>\n",
       "  </tbody>\n",
       "</table>\n",
       "</div>"
      ],
      "text/plain": [
       "       MedInc  HouseAge  AveRooms  AveBedrms  Population  AveOccup  Latitude  \\\n",
       "18621  4.8000      20.0  5.430233   1.104651       229.0  2.662791     37.08   \n",
       "3485   8.1125      16.0  7.399167   1.032500      3468.0  2.890000     34.28   \n",
       "15619  3.2356      50.0  3.502809   1.026685       958.0  1.345506     37.80   \n",
       "14923  5.7660      30.0  6.608824   0.980882      1883.0  2.769118     32.64   \n",
       "12706  2.5238      22.0  4.618400   1.056000      2607.0  2.085600     38.60   \n",
       "\n",
       "       Longitude  MedHouseVal  \n",
       "18621    -122.04      2.61500  \n",
       "3485     -118.55      4.28600  \n",
       "15619    -122.42      5.00001  \n",
       "14923    -117.06      1.86100  \n",
       "12706    -121.39      1.18800  "
      ]
     },
     "execution_count": 23,
     "metadata": {},
     "output_type": "execute_result"
    }
   ],
   "source": [
    "dados_test.head()"
   ]
  },
  {
   "cell_type": "markdown",
   "id": "ee21af9f",
   "metadata": {},
   "source": [
    "## Validação Cruzada"
   ]
  },
  {
   "cell_type": "markdown",
   "id": "e07ad605",
   "metadata": {},
   "source": [
    "O fluxo de um processo de ML típico é mostrado na figura abaixo, retirada da documentação do `scikit-learn`."
   ]
  },
  {
   "cell_type": "markdown",
   "id": "ea032215",
   "metadata": {},
   "source": [
    "<img src=\"https://scikit-learn.org/stable/_images/grid_search_workflow.png\" width=\"500px\"></br>\n",
    "<i>Fonte</i>: https://scikit-learn.org/stable/modules/cross_validation.html"
   ]
  },
  {
   "cell_type": "markdown",
   "id": "533c0efe",
   "metadata": {},
   "source": [
    "A validação cruzada (*cross validation*) é uma etapa importante da geração de modelos, especialmente para a definição dos *hiperparâmetros* que definem como o algoritmo de ML irá funcionar. Em tais casos, a base de treinamento original é dividida em um ou mais pares de bases de treinamento e validação, as quais são usadas para a calibragem dos hiperparâmetros. Quando $k$ pares de bases de treinamento e validação são criados, o processo é denominado $k$*-fold cross validation*."
   ]
  },
  {
   "cell_type": "markdown",
   "id": "bb63dbf5",
   "metadata": {},
   "source": [
    "<img src=\"https://scikit-learn.org/stable/_images/grid_search_cross_validation.png\" width=\"500px\"></br>\n",
    "<i>Fonte</i>: https://scikit-learn.org/stable/modules/cross_validation.html"
   ]
  },
  {
   "cell_type": "markdown",
   "id": "65d49f90",
   "metadata": {},
   "source": [
    "A seguir, implementamos um *5-fold cross validation* para modelos de regressão linear gerados com a base de dados *California Housing*."
   ]
  },
  {
   "cell_type": "code",
   "execution_count": 26,
   "id": "ad1d9a81",
   "metadata": {},
   "outputs": [],
   "source": [
    "from sklearn.model_selection import cross_val_score\n",
    "from sklearn.linear_model import LinearRegression\n",
    "\n",
    "# Estimador que define o algoritmo de ML a ser usado:\n",
    "reg = LinearRegression()\n",
    "\n",
    "# Geração da métrica de avaliação para os modelos obtidos no k-fold cross validation:\n",
    "scores = cross_val_score(reg, \n",
    "                         dados_train.loc[:, \"MedInc\":\"Longitude\"], dados_train.loc[:, \"MedHouseVal\"], \n",
    "                         cv = 5)"
   ]
  },
  {
   "cell_type": "markdown",
   "id": "8d2bf219",
   "metadata": {},
   "source": [
    "Por default, no `scikit-learn`, o desempenho dos modelos de regressão linear é avaliado pela média do erro ao quadrado (*Mean Squared Error*):\n",
    "<p>\n",
    "<center>$MSE = \\min_{w} || X w - y||_2^2$</center>\n",
    "</p>"
   ]
  },
  {
   "cell_type": "code",
   "execution_count": 27,
   "id": "a5bc3f8f",
   "metadata": {},
   "outputs": [
    {
     "name": "stdout",
     "output_type": "stream",
     "text": [
      "MSE obtidos: [0.2  0.6  0.59 0.63 0.61]\n"
     ]
    }
   ],
   "source": [
    "print(f\"MSE obtidos: {scores}\")"
   ]
  },
  {
   "cell_type": "code",
   "execution_count": 32,
   "id": "2d8e39d2",
   "metadata": {},
   "outputs": [
    {
     "name": "stdout",
     "output_type": "stream",
     "text": [
      "Média dos MSE: 0.53\n",
      "Desvio padrão dos MSE: 0.16\n"
     ]
    }
   ],
   "source": [
    "print(f\"Média dos MSE: {np.mean(scores):.2f}\")\n",
    "print(f\"Desvio padrão dos MSE: {np.std(scores):.2f}\")"
   ]
  },
  {
   "cell_type": "markdown",
   "id": "4f132e50",
   "metadata": {},
   "source": [
    "O parâmetro *scoring* do método `cross_val_score` é usado para definir outras [métricas de avaliação de modelos](https://scikit-learn.org/stable/modules/model_evaluation.html#scoring-parameter), como a média dos valores absolutos dos percentuais de erro (*Mean Absolute Percentage Error*). "
   ]
  },
  {
   "cell_type": "code",
   "execution_count": 33,
   "id": "cf2352e7",
   "metadata": {},
   "outputs": [],
   "source": [
    "scores = cross_val_score(reg, \n",
    "                         dados_train.loc[:, \"MedInc\":\"Longitude\"], dados_train.loc[:, \"MedHouseVal\"], \n",
    "                         cv = 5,\n",
    "                         scoring = \"neg_mean_absolute_percentage_error\")"
   ]
  },
  {
   "cell_type": "code",
   "execution_count": 36,
   "id": "e1bb818e",
   "metadata": {},
   "outputs": [
    {
     "name": "stdout",
     "output_type": "stream",
     "text": [
      "MAPE obtidos: [-0.33 -0.31 -0.32 -0.32 -0.32]\n",
      "Média dos MAPE: -0.318\n",
      "Desvio padrão dos MAPE: 0.004\n"
     ]
    }
   ],
   "source": [
    "print(f\"MAPE obtidos: {scores}\")\n",
    "print(f\"Média dos MAPE: {np.mean(scores):.3f}\")\n",
    "print(f\"Desvio padrão dos MAPE: {np.std(scores):.3f}\")"
   ]
  },
  {
   "cell_type": "markdown",
   "id": "f203974f",
   "metadata": {},
   "source": [
    "O método `cross_validate` é mais versátil do que o método `cross_val_score`:\n",
    "\n",
    " - ele permite a especificação de mais de uma métrica de avaliação de modelos; e\n",
    " - ele retorna um dicionário com mais informações sobre o processo de validação cruzada."
   ]
  },
  {
   "cell_type": "code",
   "execution_count": 42,
   "id": "a03868c7",
   "metadata": {},
   "outputs": [],
   "source": [
    "from sklearn.model_selection import cross_validate\n",
    "\n",
    "scoring = [\"neg_mean_squared_error\", \"neg_mean_absolute_percentage_error\"]\n",
    "scores = cross_validate(reg, \n",
    "                        dados_train.loc[:, \"MedInc\":\"Longitude\"], dados_train.loc[:, \"MedHouseVal\"], \n",
    "                        cv = 5,\n",
    "                        scoring = scoring,\n",
    "                        return_train_score = True,\n",
    "                        return_estimator = False)"
   ]
  },
  {
   "cell_type": "code",
   "execution_count": 43,
   "id": "2a1e3e8c",
   "metadata": {},
   "outputs": [
    {
     "data": {
      "text/plain": [
       "{'fit_time': array([0.01, 0.01, 0.01, 0.01, 0.01]),\n",
       " 'score_time': array([0., 0., 0., 0., 0.]),\n",
       " 'test_neg_mean_squared_error': array([-1.03, -0.53, -0.54, -0.5 , -0.54]),\n",
       " 'train_neg_mean_squared_error': array([-0.52, -0.52, -0.52, -0.53, -0.52]),\n",
       " 'test_neg_mean_absolute_percentage_error': array([-0.33, -0.31, -0.32, -0.32, -0.32]),\n",
       " 'train_neg_mean_absolute_percentage_error': array([-0.31, -0.32, -0.32, -0.32, -0.32])}"
      ]
     },
     "execution_count": 43,
     "metadata": {},
     "output_type": "execute_result"
    }
   ],
   "source": [
    "scores"
   ]
  },
  {
   "cell_type": "markdown",
   "id": "05985c4f",
   "metadata": {},
   "source": [
    "## Transformação de dados"
   ]
  },
  {
   "cell_type": "code",
   "execution_count": null,
   "id": "29c5805a",
   "metadata": {},
   "outputs": [],
   "source": []
  }
 ],
 "metadata": {
  "kernelspec": {
   "display_name": "Python 3 (ipykernel)",
   "language": "python",
   "name": "python3"
  },
  "language_info": {
   "codemirror_mode": {
    "name": "ipython",
    "version": 3
   },
   "file_extension": ".py",
   "mimetype": "text/x-python",
   "name": "python",
   "nbconvert_exporter": "python",
   "pygments_lexer": "ipython3",
   "version": "3.8.8"
  },
  "toc": {
   "base_numbering": 1,
   "nav_menu": {
    "height": "169.986px",
    "width": "277.997px"
   },
   "number_sections": true,
   "sideBar": true,
   "skip_h1_title": false,
   "title_cell": "Table of Contents",
   "title_sidebar": "Contents",
   "toc_cell": false,
   "toc_position": {
    "height": "calc(100% - 180px)",
    "left": "10px",
    "top": "150px",
    "width": "165px"
   },
   "toc_section_display": true,
   "toc_window_display": true
  },
  "varInspector": {
   "cols": {
    "lenName": 16,
    "lenType": 16,
    "lenVar": 40
   },
   "kernels_config": {
    "python": {
     "delete_cmd_postfix": "",
     "delete_cmd_prefix": "del ",
     "library": "var_list.py",
     "varRefreshCmd": "print(var_dic_list())"
    },
    "r": {
     "delete_cmd_postfix": ") ",
     "delete_cmd_prefix": "rm(",
     "library": "var_list.r",
     "varRefreshCmd": "cat(var_dic_list()) "
    }
   },
   "types_to_exclude": [
    "module",
    "function",
    "builtin_function_or_method",
    "instance",
    "_Feature"
   ],
   "window_display": false
  }
 },
 "nbformat": 4,
 "nbformat_minor": 5
}
