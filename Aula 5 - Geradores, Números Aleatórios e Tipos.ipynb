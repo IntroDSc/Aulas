{
 "cells": [
  {
   "cell_type": "markdown",
   "id": "88561acf",
   "metadata": {},
   "source": [
    "<strong><font size = \"4\" color = \"black\">Introdução à Ciência de Dados</font></strong><br>\n",
    "<font size = \"3\" color = \"gray\">Prof. Valter Moreno</font><br>\n",
    "<font size = \"3\" color = \"gray\">2022</font><br>  "
   ]
  },
  {
   "cell_type": "markdown",
   "id": "92c2c25c",
   "metadata": {},
   "source": [
    "<hr style=\"border:0.1px solid gray\"> </hr>\n",
    "<font size = \"5\" color = \"black\">Introdução ao Python</font><p>\n",
    "<font size = \"5\" color = \"black\">Aula 5: Geradores, Números Aleatórios e Anotações</font>\n",
    "<hr style=\"border:0.1px solid gray\"> </hr>"
   ]
  },
  {
   "cell_type": "markdown",
   "id": "f5f81187",
   "metadata": {},
   "source": [
    "# Geradores"
   ]
  },
  {
   "cell_type": "markdown",
   "id": "339816d4",
   "metadata": {},
   "source": [
    "Geradores (***generators***) são estruturas de dados que permitem que se obtenha um elemento de cada vez, sem que todo o conteúdo tenha que ser guardado na memória. Geradores mantém registros apenas de seu estado atual, gerando, com base nesse estado, o próximo elemento de dado desejado."
   ]
  },
  {
   "cell_type": "markdown",
   "id": "6fe86cbc",
   "metadata": {},
   "source": [
    "O processo de geração de resultados não é reversível, no entanto. Uma vez gerado um resultado, os estados anteriores são perdidos. Se necessário, pode-se guardar os resultados gerados numa lista."
   ]
  },
  {
   "cell_type": "markdown",
   "id": "6adee2a6",
   "metadata": {},
   "source": [
    "## Criação de geradores"
   ]
  },
  {
   "cell_type": "markdown",
   "id": "959b352c",
   "metadata": {},
   "source": [
    "Funções que devolvem resultados por meio do comando `yield` em vez do comando `return` funcionam como geradores."
   ]
  },
  {
   "cell_type": "code",
   "execution_count": 1,
   "id": "3e19b5ad",
   "metadata": {},
   "outputs": [],
   "source": [
    "def primo(inicio: int, limite: int) -> int:\n",
    "    número = inicio\n",
    "    while número <= limite:\n",
    "        i = 2\n",
    "        while i < número:\n",
    "            if número % i == 0:\n",
    "                break\n",
    "            else:\n",
    "                i +=1\n",
    "        else:\n",
    "            yield número\n",
    "        número += 1"
   ]
  },
  {
   "cell_type": "code",
   "execution_count": 2,
   "id": "5691aa81",
   "metadata": {},
   "outputs": [
    {
     "name": "stdout",
     "output_type": "stream",
     "text": [
      "1009 é primo.\n",
      "1013 é primo.\n",
      "1019 é primo.\n",
      "1021 é primo.\n",
      "1031 é primo.\n",
      "1033 é primo.\n",
      "1039 é primo.\n",
      "1049 é primo.\n",
      "1051 é primo.\n",
      "1061 é primo.\n",
      "1063 é primo.\n",
      "1069 é primo.\n",
      "1087 é primo.\n",
      "1091 é primo.\n",
      "1093 é primo.\n",
      "1097 é primo.\n"
     ]
    }
   ],
   "source": [
    "for i in primo(1000, 1100):\n",
    "    print(f\"{i} é primo.\")"
   ]
  },
  {
   "cell_type": "markdown",
   "id": "57d99acc",
   "metadata": {},
   "source": [
    "A estrutura usada em *list comprehensions* também serve para criar geradores. Para isso, basta substituir o `[]` por `()`."
   ]
  },
  {
   "cell_type": "code",
   "execution_count": 3,
   "id": "7eafda4d",
   "metadata": {},
   "outputs": [],
   "source": [
    "pares_até_100 = (i for i in range(101) if i % 2 == 0)"
   ]
  },
  {
   "cell_type": "code",
   "execution_count": 4,
   "id": "77597820",
   "metadata": {},
   "outputs": [
    {
     "name": "stdout",
     "output_type": "stream",
     "text": [
      "<class 'generator'>\n"
     ]
    }
   ],
   "source": [
    "print(type(pares_até_100))"
   ]
  },
  {
   "cell_type": "markdown",
   "id": "5b6e615a",
   "metadata": {},
   "source": [
    "## Uso de geradores"
   ]
  },
  {
   "cell_type": "markdown",
   "id": "124ad730",
   "metadata": {},
   "source": [
    "Embora o gerador tenha sido criado, os números só serão gerados quando ele for usado em processos iterativos, como por exemplo num `for` ou `next`."
   ]
  },
  {
   "cell_type": "code",
   "execution_count": 5,
   "id": "c30a3981",
   "metadata": {},
   "outputs": [
    {
     "name": "stdout",
     "output_type": "stream",
     "text": [
      "[0, 2, 4, 6, 8, 10, 12, 14, 16, 18, 20, 22, 24, 26, 28, 30, 32, 34, 36, 38, 40, 42, 44, 46, 48, 50, 52, 54, 56, 58, 60, 62, 64, 66, 68, 70, 72, 74, 76, 78, 80, 82, 84, 86, 88, 90, 92, 94, 96, 98, 100]\n"
     ]
    }
   ],
   "source": [
    "lista = [i for i in pares_até_100]\n",
    "print(lista)"
   ]
  },
  {
   "cell_type": "code",
   "execution_count": 6,
   "id": "3c2c670d",
   "metadata": {},
   "outputs": [],
   "source": [
    "def natural_numbers():\n",
    "    \"\"\"returns 1, 2, 3, ...\"\"\"\n",
    "    n = 1\n",
    "    while True:\n",
    "        yield n\n",
    "        n += 1\n",
    "\n",
    "# Os números só serão gerados se os geradores forem usados em estruturas de iteração\n",
    "data = natural_numbers()\n",
    "evens = (x for x in data if x % 2 == 0)\n",
    "even_squares = (x ** 2 for x in evens)\n",
    "even_squares_ending_in_six = (x for x in even_squares if x % 10 == 6)"
   ]
  },
  {
   "cell_type": "code",
   "execution_count": 7,
   "id": "058d5e94",
   "metadata": {},
   "outputs": [
    {
     "name": "stdout",
     "output_type": "stream",
     "text": [
      "<generator object natural_numbers at 0x000002A3DDD81DD0>\n",
      "<generator object <genexpr> at 0x000002A3DDD81A50>\n",
      "<generator object <genexpr> at 0x000002A3DDD81430>\n",
      "<generator object <genexpr> at 0x000002A3DDD814A0>\n"
     ]
    }
   ],
   "source": [
    "print(data)\n",
    "print(evens)\n",
    "print(even_squares)\n",
    "print(even_squares_ending_in_six)"
   ]
  },
  {
   "cell_type": "markdown",
   "id": "99ae40c9",
   "metadata": {},
   "source": [
    "Ao iterarmos no gerador `even_squares_ending_in_six`, todos os outros geradores são iterados também."
   ]
  },
  {
   "cell_type": "code",
   "execution_count": 8,
   "id": "8862e8e7",
   "metadata": {},
   "outputs": [
    {
     "name": "stdout",
     "output_type": "stream",
     "text": [
      "Número:  16\n",
      "Número:  36\n",
      "Número:  196\n",
      "Número:  256\n",
      "Número:  576\n",
      "Número:  676\n"
     ]
    }
   ],
   "source": [
    "for i in even_squares_ending_in_six:\n",
    "    if i <= 1000:\n",
    "        print(\"Número: \", i)\n",
    "    else:\n",
    "        break"
   ]
  },
  {
   "cell_type": "code",
   "execution_count": 9,
   "id": "7cae1173",
   "metadata": {},
   "outputs": [
    {
     "name": "stdout",
     "output_type": "stream",
     "text": [
      "O 1o quadrado de um número par é 1296.\n",
      "O 2o quadrado de um número par é 1444.\n",
      "O 3o quadrado de um número par é 1600.\n",
      "O 4o quadrado de um número par é 1764.\n",
      "O 5o quadrado de um número par é 1936.\n",
      "O 6o quadrado de um número par é 2116.\n",
      "O 7o quadrado de um número par é 2304.\n",
      "O 8o quadrado de um número par é 2500.\n",
      "O 9o quadrado de um número par é 2704.\n",
      "O 10o quadrado de um número par é 2916.\n"
     ]
    }
   ],
   "source": [
    "for i, j in enumerate(even_squares):\n",
    "    print(f\"O {i+1}o quadrado de um número par é {j}.\")\n",
    "    if i == 9: \n",
    "        break"
   ]
  },
  {
   "cell_type": "markdown",
   "id": "b0bef3db",
   "metadata": {},
   "source": [
    "Note que as iterações continuaram de onde pararam. Não há como resetar o gerador, a não ser o criando novamente."
   ]
  },
  {
   "cell_type": "markdown",
   "id": "265483fe",
   "metadata": {},
   "source": [
    "# Números aleatórios"
   ]
  },
  {
   "cell_type": "markdown",
   "id": "259815ab",
   "metadata": {},
   "source": [
    "O pacote `random` contém várias funções para a geração de números aleatórios. Demonstramos algumas delas a seguir. Para mais informações, consulte as páginas [W3 Schools: Python Random Module](https://www.w3schools.com/python/module_random.asp) e [random — Generate pseudo-random numbers](https://docs.python.org/3/library/random.html)."
   ]
  },
  {
   "cell_type": "code",
   "execution_count": 10,
   "id": "6e5a92f3",
   "metadata": {},
   "outputs": [],
   "source": [
    "import random\n",
    "random.seed(12345) # Para que se possa obter resultados replicáveis"
   ]
  },
  {
   "cell_type": "code",
   "execution_count": 11,
   "id": "4529f3d0",
   "metadata": {},
   "outputs": [
    {
     "data": {
      "text/plain": [
       "7"
      ]
     },
     "execution_count": 11,
     "metadata": {},
     "output_type": "execute_result"
    }
   ],
   "source": [
    "# Número aleatório inteiro numa faixa\n",
    "random.randrange(1, 10)"
   ]
  },
  {
   "cell_type": "code",
   "execution_count": 12,
   "id": "c380eb43",
   "metadata": {},
   "outputs": [
    {
     "data": {
      "text/plain": [
       "1"
      ]
     },
     "execution_count": 12,
     "metadata": {},
     "output_type": "execute_result"
    }
   ],
   "source": [
    "# Similar à randrange\n",
    "random.randint(1, 10)"
   ]
  },
  {
   "cell_type": "markdown",
   "id": "82114a82",
   "metadata": {},
   "source": [
    "Para entender melhor a diferença entre `randrange` e `randint`, consulte a página [What's the difference between randrange and randint?](https://www.codecademy.com/forum_questions/521bcf2b548c359b28000367)"
   ]
  },
  {
   "cell_type": "code",
   "execution_count": 13,
   "id": "9c5d84be",
   "metadata": {},
   "outputs": [
    {
     "data": {
      "text/plain": [
       "'laranja'"
      ]
     },
     "execution_count": 13,
     "metadata": {},
     "output_type": "execute_result"
    }
   ],
   "source": [
    "lista = [\"banana\", \"maçã\", \"laranja\", \"uva\", \"pera\"]\n",
    "random.choice(lista)"
   ]
  },
  {
   "cell_type": "code",
   "execution_count": 14,
   "id": "5e3d7eb3",
   "metadata": {},
   "outputs": [
    {
     "data": {
      "text/plain": [
       "['laranja', 'uva', 'maçã', 'maçã', 'maçã']"
      ]
     },
     "execution_count": 14,
     "metadata": {},
     "output_type": "execute_result"
    }
   ],
   "source": [
    "random.choices(lista, weights = [1, 10, 10, 1, 1], k = 5)"
   ]
  },
  {
   "cell_type": "code",
   "execution_count": 15,
   "id": "b8c13726",
   "metadata": {},
   "outputs": [
    {
     "data": {
      "text/plain": [
       "['maçã', 'banana', 'pera', 'laranja', 'uva']"
      ]
     },
     "execution_count": 15,
     "metadata": {},
     "output_type": "execute_result"
    }
   ],
   "source": [
    "random.shuffle(lista)\n",
    "lista"
   ]
  },
  {
   "cell_type": "code",
   "execution_count": 16,
   "id": "784e0336",
   "metadata": {},
   "outputs": [
    {
     "data": {
      "text/plain": [
       "['uva', 'banana']"
      ]
     },
     "execution_count": 16,
     "metadata": {},
     "output_type": "execute_result"
    }
   ],
   "source": [
    "random.sample(lista, 2)"
   ]
  },
  {
   "cell_type": "code",
   "execution_count": 17,
   "id": "b2d2bba1",
   "metadata": {},
   "outputs": [
    {
     "data": {
      "text/plain": [
       "[45, 94, 93, 11, 67]"
      ]
     },
     "execution_count": 17,
     "metadata": {},
     "output_type": "execute_result"
    }
   ],
   "source": [
    "random.sample(range(100), 5)"
   ]
  },
  {
   "cell_type": "code",
   "execution_count": 18,
   "id": "a5d7907d",
   "metadata": {},
   "outputs": [
    {
     "data": {
      "text/plain": [
       "0.97863999557041"
      ]
     },
     "execution_count": 18,
     "metadata": {},
     "output_type": "execute_result"
    }
   ],
   "source": [
    "random.random()  # Número aleatório entre 0.0 e 1.0"
   ]
  },
  {
   "cell_type": "code",
   "execution_count": 19,
   "id": "5f172109",
   "metadata": {},
   "outputs": [
    {
     "data": {
      "text/plain": [
       "1.412119392939301"
      ]
     },
     "execution_count": 19,
     "metadata": {},
     "output_type": "execute_result"
    }
   ],
   "source": [
    "random.uniform(1, 2)  # Número gerado com distribuição uniforme com os limites fornecidos"
   ]
  },
  {
   "cell_type": "code",
   "execution_count": 20,
   "id": "c7e0130e",
   "metadata": {},
   "outputs": [
    {
     "data": {
      "text/plain": [
       "10.0039626711951"
      ]
     },
     "execution_count": 20,
     "metadata": {},
     "output_type": "execute_result"
    }
   ],
   "source": [
    "random.normalvariate(mu = 10, sigma = .5)  # distribuição normal com média mu e std.dev. sigma"
   ]
  },
  {
   "cell_type": "markdown",
   "id": "4a78a867",
   "metadata": {},
   "source": [
    "# Anotações de tipos (*type annotations*)"
   ]
  },
  {
   "cell_type": "markdown",
   "id": "67327731",
   "metadata": {},
   "source": [
    "Python é uma linguagem de programação que define os tipos de objetos dinamicamente (*dynamically typed*). Nas versões recentes da linguagem, é possível definir os tipos dos objetos. Na prática, eles são ignorados pelo interpretador da linguagem, mas podem ser usados por ferramentas para identificar erros num script (ex., `mypy`, `pyanalyze`, `pycharm`, `pyre`, `pyright`). \n",
    "\n",
    "A página [Understanding type annotation in Python](https://blog.logrocket.com/understanding-type-annotation-python/) provê uma explicação clara e detalhada sobre anotações em Python. "
   ]
  },
  {
   "cell_type": "code",
   "execution_count": 21,
   "id": "7c877151",
   "metadata": {},
   "outputs": [],
   "source": [
    "x: int = 10\n",
    "y: int = 20"
   ]
  },
  {
   "cell_type": "code",
   "execution_count": 22,
   "id": "a8cbdd3f",
   "metadata": {},
   "outputs": [
    {
     "name": "stdout",
     "output_type": "stream",
     "text": [
      "10 20\n"
     ]
    }
   ],
   "source": [
    "print(x, y)"
   ]
  },
  {
   "cell_type": "markdown",
   "id": "99f8f28c",
   "metadata": {},
   "source": [
    "Embora as variáveis tenham sido definidas como inteiras, o interpretador não gera erros quando as usamos para armazenar outros tipos de dados."
   ]
  },
  {
   "cell_type": "code",
   "execution_count": 23,
   "id": "667f8910",
   "metadata": {},
   "outputs": [],
   "source": [
    "x = \"Valter\"\n",
    "y = False"
   ]
  },
  {
   "cell_type": "markdown",
   "id": "a0a7fbe6",
   "metadata": {},
   "source": [
    "Os argumentos e resultados de funções também poder ter seus tipos definidos estaticamente."
   ]
  },
  {
   "cell_type": "code",
   "execution_count": 24,
   "id": "4e1dfd36",
   "metadata": {},
   "outputs": [],
   "source": [
    "def separa_números(texto: str) -> (int, list):\n",
    "    palavras = texto.split()\n",
    "    contador = 0\n",
    "    números = []\n",
    "    for i in palavras:\n",
    "        try:\n",
    "            num = float(i)\n",
    "            números.append(num)\n",
    "            contador += 1\n",
    "        except:\n",
    "            pass\n",
    "    return contador, números"
   ]
  },
  {
   "cell_type": "code",
   "execution_count": 25,
   "id": "093bbd9e",
   "metadata": {},
   "outputs": [
    {
     "data": {
      "text/plain": [
       "{'texto': str, 'return': (int, list)}"
      ]
     },
     "execution_count": 25,
     "metadata": {},
     "output_type": "execute_result"
    }
   ],
   "source": [
    "separa_números.__annotations__  # Exibe type annotations de um objeto ou função"
   ]
  },
  {
   "cell_type": "code",
   "execution_count": 26,
   "id": "79bdffaf",
   "metadata": {
    "scrolled": false
   },
   "outputs": [
    {
     "name": "stdout",
     "output_type": "stream",
     "text": [
      "Total de números no texto: 3\n",
      "Números: [30.0, 50.0, 20.0]\n"
     ]
    }
   ],
   "source": [
    "total, números = separa_números(\"Tenho 30 cabras, 50 carneiros, e 20 galinhas.\")\n",
    "print(\"Total de números no texto:\", total)\n",
    "print(\"Números:\", números)"
   ]
  },
  {
   "cell_type": "markdown",
   "id": "a3191583",
   "metadata": {},
   "source": [
    "O pacote `typing` provê diversos tipos que estendem os que são nativos no Python. Por exemplo, podemos definir o tipo dos elementos de uma lista."
   ]
  },
  {
   "cell_type": "code",
   "execution_count": 27,
   "id": "e3e8dc16",
   "metadata": {},
   "outputs": [],
   "source": [
    "from typing import List"
   ]
  },
  {
   "cell_type": "code",
   "execution_count": 28,
   "id": "e1638373",
   "metadata": {},
   "outputs": [],
   "source": [
    "x: List[int] = [10, 30, 50]"
   ]
  },
  {
   "cell_type": "markdown",
   "id": "591dcbfc",
   "metadata": {},
   "source": [
    "Podemos definir que o resultado da função `separa_números` é uma tupla formada por um número inteiro e uma lista de *floats*."
   ]
  },
  {
   "cell_type": "code",
   "execution_count": 29,
   "id": "40819c4c",
   "metadata": {},
   "outputs": [],
   "source": [
    "from typing import List, Tuple\n",
    "\n",
    "def separa_números(texto: str) -> Tuple[int, List[float]]:\n",
    "    palavras = texto.split()\n",
    "    contador = 0\n",
    "    números = []\n",
    "    for i in palavras:\n",
    "        try:\n",
    "            num = float(i)\n",
    "            números.append(num)\n",
    "            contador += 1\n",
    "        except:\n",
    "            pass\n",
    "    return contador, números"
   ]
  }
 ],
 "metadata": {
  "kernelspec": {
   "display_name": "Python 3 (ipykernel)",
   "language": "python",
   "name": "python3"
  },
  "language_info": {
   "codemirror_mode": {
    "name": "ipython",
    "version": 3
   },
   "file_extension": ".py",
   "mimetype": "text/x-python",
   "name": "python",
   "nbconvert_exporter": "python",
   "pygments_lexer": "ipython3",
   "version": "3.8.8"
  },
  "toc": {
   "base_numbering": 1,
   "nav_menu": {
    "height": "169.986px",
    "width": "277.997px"
   },
   "number_sections": true,
   "sideBar": true,
   "skip_h1_title": false,
   "title_cell": "Table of Contents",
   "title_sidebar": "Contents",
   "toc_cell": false,
   "toc_position": {
    "height": "calc(100% - 180px)",
    "left": "10px",
    "top": "150px",
    "width": "241.094px"
   },
   "toc_section_display": true,
   "toc_window_display": true
  },
  "varInspector": {
   "cols": {
    "lenName": 16,
    "lenType": 16,
    "lenVar": 40
   },
   "kernels_config": {
    "python": {
     "delete_cmd_postfix": "",
     "delete_cmd_prefix": "del ",
     "library": "var_list.py",
     "varRefreshCmd": "print(var_dic_list())"
    },
    "r": {
     "delete_cmd_postfix": ") ",
     "delete_cmd_prefix": "rm(",
     "library": "var_list.r",
     "varRefreshCmd": "cat(var_dic_list()) "
    }
   },
   "types_to_exclude": [
    "module",
    "function",
    "builtin_function_or_method",
    "instance",
    "_Feature"
   ],
   "window_display": false
  }
 },
 "nbformat": 4,
 "nbformat_minor": 5
}
