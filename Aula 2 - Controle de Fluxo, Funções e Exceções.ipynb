{
 "cells": [
  {
   "cell_type": "markdown",
   "id": "88561acf",
   "metadata": {},
   "source": [
    "<strong><font size = \"4\" color = \"black\">Introdução à Ciência de Dados</font></strong><br>\n",
    "<font size = \"3\" color = \"gray\">Prof. Valter Moreno</font><br>\n",
    "<font size = \"3\" color = \"gray\">2022</font><br>  "
   ]
  },
  {
   "cell_type": "markdown",
   "id": "92c2c25c",
   "metadata": {},
   "source": [
    "<hr style=\"border:0.1px solid gray\"> </hr>\n",
    "<font size = \"5\" color = \"black\">Introdução ao Python</font><p>\n",
    "<font size = \"5\" color = \"black\">Aula 2: Controle de Fluxo, Funções e Exceções</font>\n",
    "<hr style=\"border:0.1px solid gray\"> </hr>"
   ]
  },
  {
   "cell_type": "markdown",
   "id": "4b16eddb",
   "metadata": {},
   "source": [
    "# Controle de fluxo\n",
    "\n",
    "Há dois mecanimos de controle do fluxo de um programa em Python: \n",
    " - se... então\n",
    " - loops (ciclos ou iterações)\n",
    "   - for\n",
    "   - while"
   ]
  },
  {
   "cell_type": "markdown",
   "id": "977a833e",
   "metadata": {},
   "source": [
    "## Se... então"
   ]
  },
  {
   "cell_type": "markdown",
   "id": "fa47c5f7",
   "metadata": {},
   "source": [
    "Nesta estrutura, testa-se uma condição. Dependendo do resultado do teste (True ou False), executa-se outras expressões."
   ]
  },
  {
   "cell_type": "code",
   "execution_count": 1,
   "id": "50af255a",
   "metadata": {
    "scrolled": true
   },
   "outputs": [
    {
     "name": "stdout",
     "output_type": "stream",
     "text": [
      "Pode votar, mas não pode dirigir.\n"
     ]
    }
   ],
   "source": [
    "idade = 17\n",
    "\n",
    "if(idade < 16):\n",
    "    print(\"Não pode dirigir ou votar.\")\n",
    "elif(idade < 18):\n",
    "    print(\"Pode votar, mas não pode dirigir.\")\n",
    "else:\n",
    "    print(\"Pode votar e dirigir.\")"
   ]
  },
  {
   "cell_type": "code",
   "execution_count": 2,
   "id": "4c08bc3e",
   "metadata": {
    "hide_input": false
   },
   "outputs": [
    {
     "data": {
      "text/plain": [
       "{'Nome': ['João', 'Maria', 'José', 'Arthur', 'Helena'],\n",
       " 'Idade': [15, 17, 18, 16, 17]}"
      ]
     },
     "execution_count": 2,
     "metadata": {},
     "output_type": "execute_result"
    }
   ],
   "source": [
    "pessoas = {\"Nome\": [\"João\", \"Maria\", \"José\", \"Arthur\", \"Helena\"], \"Idade\": [15, 17, 18, 16, 17]}\n",
    "pessoas"
   ]
  },
  {
   "cell_type": "code",
   "execution_count": 3,
   "id": "465f3c6e",
   "metadata": {},
   "outputs": [
    {
     "name": "stdout",
     "output_type": "stream",
     "text": [
      "Índice gerado: 1\n"
     ]
    }
   ],
   "source": [
    "import random  # Módulo para a geração de números aleatórios\n",
    "\n",
    "indice = random.randint(0, len(pessoas[\"Nome\"])-1)  # Defino o índice de forma aleatória\n",
    "print(\"Índice gerado:\", indice)\n",
    "\n",
    "idade = pessoas[\"Idade\"][indice]  # Encontro a idade correspondente ao índice\n",
    "\n",
    "if(idade <= 16 or idade >= 18):\n",
    "    print(\"{} tem {} anos de idade.\".format(pessoas.get(\"Nome\")[indice],  \n",
    "                                            pessoas.get(\"Idade\")[indice]))"
   ]
  },
  {
   "cell_type": "markdown",
   "id": "602d184e",
   "metadata": {},
   "source": [
    "Há uma **forma compacta** de escrever uma expressão do tipo se... então:"
   ]
  },
  {
   "cell_type": "code",
   "execution_count": 4,
   "id": "278d3c18",
   "metadata": {},
   "outputs": [
    {
     "name": "stdout",
     "output_type": "stream",
     "text": [
      "A idade é par.\n"
     ]
    }
   ],
   "source": [
    "idade = 24\n",
    "\n",
    "print(\"A idade é par.\") if idade % 2 == 0 else print(\"A idade é ímpar.\")"
   ]
  },
  {
   "cell_type": "markdown",
   "id": "b6a7480d",
   "metadata": {},
   "source": [
    "## Iteráveis e iteradores"
   ]
  },
  {
   "cell_type": "markdown",
   "id": "44804328",
   "metadata": {},
   "source": [
    "Um **iterador** (*iterator*) é um objetos que contém um número contável de valores, que podem ser selecionados e retornados. Um iterador é inicializado com o método `__iter__`. As iterações são feitas por meio do método `__next__`. Para mais detalhes, consulte as páginas [W3 School: Python Iterators](https://www.w3schools.com/python/python_iterators.asp) e [Iterators in Python](https://www.geeksforgeeks.org/iterators-in-python)."
   ]
  },
  {
   "cell_type": "markdown",
   "id": "94e74b8a",
   "metadata": {},
   "source": [
    "**Iteráveis** (*iterables*) são estruturas de dados para as quais se pode obter iteradores. Listas, tuplas, dicionários, *sets* e cadeias de caracteres são exemplos de estruturas iteráveis."
   ]
  },
  {
   "cell_type": "code",
   "execution_count": 5,
   "id": "cb4a3986",
   "metadata": {},
   "outputs": [
    {
     "name": "stdout",
     "output_type": "stream",
     "text": [
      "<tuple_iterator object at 0x000001D928422130>\n",
      "Valter\n",
      "Moreno\n"
     ]
    }
   ],
   "source": [
    "minha_tupla = (\"Valter\", \"Moreno\")\n",
    "\n",
    "meu_iterador = iter(minha_tupla)   # Pode-se criar um iterador explicitamente para a tupla\n",
    "print(meu_iterador)\n",
    "\n",
    "print(next(meu_iterador))  # next seleciona cada elemento do objeto iterável\n",
    "print(next(meu_iterador))"
   ]
  },
  {
   "cell_type": "code",
   "execution_count": 6,
   "id": "8cb797b7",
   "metadata": {},
   "outputs": [
    {
     "ename": "StopIteration",
     "evalue": "",
     "output_type": "error",
     "traceback": [
      "\u001b[1;31m---------------------------------------------------------------------------\u001b[0m",
      "\u001b[1;31mStopIteration\u001b[0m                             Traceback (most recent call last)",
      "\u001b[1;32m~\\AppData\\Local\\Temp/ipykernel_18552/910637287.py\u001b[0m in \u001b[0;36m<module>\u001b[1;34m\u001b[0m\n\u001b[0;32m      1\u001b[0m \u001b[1;31m# Como só há dois elementos no iterador, a próxima iteração gera um erro\u001b[0m\u001b[1;33m\u001b[0m\u001b[1;33m\u001b[0m\u001b[1;33m\u001b[0m\u001b[0m\n\u001b[1;32m----> 2\u001b[1;33m \u001b[0mprint\u001b[0m\u001b[1;33m(\u001b[0m\u001b[0mnext\u001b[0m\u001b[1;33m(\u001b[0m\u001b[0mmeu_iterador\u001b[0m\u001b[1;33m)\u001b[0m\u001b[1;33m)\u001b[0m\u001b[1;33m\u001b[0m\u001b[1;33m\u001b[0m\u001b[0m\n\u001b[0m",
      "\u001b[1;31mStopIteration\u001b[0m: "
     ]
    }
   ],
   "source": [
    "# Como só há dois elementos no iterador, a próxima iteração gera um erro\n",
    "print(next(meu_iterador))"
   ]
  },
  {
   "cell_type": "markdown",
   "id": "ed086746",
   "metadata": {},
   "source": [
    "Note que cadeias de caracteres são desmembradas quando transformadas em listas, de forma iterativa."
   ]
  },
  {
   "cell_type": "code",
   "execution_count": 7,
   "id": "8f4b865a",
   "metadata": {},
   "outputs": [
    {
     "data": {
      "text/plain": [
       "['V', 'a', 'l', 't', 'e', 'r', ' ', 'M', 'o', 'r', 'e', 'n', 'o']"
      ]
     },
     "execution_count": 7,
     "metadata": {},
     "output_type": "execute_result"
    }
   ],
   "source": [
    "list(\"Valter Moreno\")"
   ]
  },
  {
   "cell_type": "markdown",
   "id": "35bfb35f",
   "metadata": {},
   "source": [
    "A função `range` cria um iterador, que pode ser usado para gerar objetos iteráveis e criar contadores em loops do tipo `for`."
   ]
  },
  {
   "cell_type": "code",
   "execution_count": 8,
   "id": "322bf841",
   "metadata": {},
   "outputs": [
    {
     "name": "stdout",
     "output_type": "stream",
     "text": [
      "Objeto: range(1, 10)\n",
      "Tipo: <class 'range'>\n"
     ]
    }
   ],
   "source": [
    "iteravel = range(1, 10)\n",
    "print(\"Objeto:\", iteravel)\n",
    "print(\"Tipo:\", type(iteravel))"
   ]
  },
  {
   "cell_type": "code",
   "execution_count": 9,
   "id": "95cecd6e",
   "metadata": {},
   "outputs": [
    {
     "data": {
      "text/plain": [
       "[1, 2, 3, 4, 5, 6, 7, 8, 9]"
      ]
     },
     "execution_count": 9,
     "metadata": {},
     "output_type": "execute_result"
    }
   ],
   "source": [
    "list(range(1, 10))"
   ]
  },
  {
   "cell_type": "code",
   "execution_count": 10,
   "id": "d4ad1c17",
   "metadata": {},
   "outputs": [
    {
     "data": {
      "text/plain": [
       "[1, 3, 5, 7, 9]"
      ]
     },
     "execution_count": 10,
     "metadata": {},
     "output_type": "execute_result"
    }
   ],
   "source": [
    "list(range(1, 10, 2))"
   ]
  },
  {
   "cell_type": "markdown",
   "id": "2fc9214e",
   "metadata": {},
   "source": [
    "## For"
   ]
  },
  {
   "cell_type": "code",
   "execution_count": 11,
   "id": "642ef02d",
   "metadata": {
    "scrolled": true
   },
   "outputs": [
    {
     "name": "stdout",
     "output_type": "stream",
     "text": [
      "Contador: 0\n",
      "Contador: 1\n",
      "Contador: 2\n"
     ]
    }
   ],
   "source": [
    "for i in range(3):\n",
    "    print(\"Contador:\", i)"
   ]
  },
  {
   "cell_type": "code",
   "execution_count": 12,
   "id": "76d09841",
   "metadata": {
    "scrolled": true
   },
   "outputs": [
    {
     "name": "stdout",
     "output_type": "stream",
     "text": [
      "Contador: 0\n",
      "Contador: 1\n",
      "Contador: 2\n",
      "A última iteração foi completada!\n"
     ]
    }
   ],
   "source": [
    "for i in range(3):\n",
    "    print(\"Contador:\", i)\n",
    "else:\n",
    "    print(\"A última iteração foi completada!\")  # O else é executado depois da última iteração"
   ]
  },
  {
   "cell_type": "code",
   "execution_count": 13,
   "id": "771f2f8d",
   "metadata": {
    "scrolled": false
   },
   "outputs": [
    {
     "name": "stdout",
     "output_type": "stream",
     "text": [
      "Contador: V\n",
      "Contador: a\n",
      "Contador: l\n",
      "Contador: t\n",
      "Contador: e\n",
      "Contador: r\n"
     ]
    }
   ],
   "source": [
    "for i in \"Valter\":\n",
    "    print(\"Contador:\", i)"
   ]
  },
  {
   "cell_type": "code",
   "execution_count": 14,
   "id": "9b1962dc",
   "metadata": {
    "scrolled": true
   },
   "outputs": [
    {
     "name": "stdout",
     "output_type": "stream",
     "text": [
      "Contador: 1\n",
      "Contador: 3\n",
      "Contador: 5\n"
     ]
    }
   ],
   "source": [
    "for i in {1, 1, 3, 3, 5, 5}:\n",
    "    print(\"Contador:\", i)"
   ]
  },
  {
   "cell_type": "code",
   "execution_count": 15,
   "id": "921e4f35",
   "metadata": {
    "scrolled": true
   },
   "outputs": [
    {
     "name": "stdout",
     "output_type": "stream",
     "text": [
      "Contador: A\n",
      "Contador: B\n",
      "Contador: C\n",
      "Contador: D\n"
     ]
    }
   ],
   "source": [
    "for i in {\"A\": [1, 2, 3], \"B\": \"Texto\", \"C\": (3, 5), \"D\": 1.0}:\n",
    "    print(\"Contador:\", i)"
   ]
  },
  {
   "cell_type": "code",
   "execution_count": 16,
   "id": "5a8cbb6f",
   "metadata": {
    "scrolled": true
   },
   "outputs": [
    {
     "name": "stdout",
     "output_type": "stream",
     "text": [
      "Lista: [0, 1]\n",
      "Lista: [-5, -4, -3, -2, -1]\n",
      "Lista: ['Moe', 'Larry', 'Curly']\n"
     ]
    }
   ],
   "source": [
    "for lista in [list(range(2)), list(range(-5, 0)), [\"Moe\", \"Larry\", \"Curly\"]]:\n",
    "    print(\"Lista:\", lista)"
   ]
  },
  {
   "cell_type": "markdown",
   "id": "b4f3edd7",
   "metadata": {},
   "source": [
    "A função `enumerate` retorna o índice e o valor de um objeto iterável."
   ]
  },
  {
   "cell_type": "code",
   "execution_count": 17,
   "id": "231d1ef3",
   "metadata": {},
   "outputs": [
    {
     "name": "stdout",
     "output_type": "stream",
     "text": [
      "Elemento 0: Arthur\n",
      "Elemento 1: Claudia\n",
      "Elemento 2: Fernando\n",
      "Elemento 3: José\n",
      "Elemento 4: Tatiana\n"
     ]
    }
   ],
   "source": [
    "lista = [\"Arthur\", \"Claudia\", \"Fernando\", \"José\", \"Tatiana\"]\n",
    "\n",
    "for i, nome in enumerate(lista):\n",
    "    print(f\"Elemento {i}: {nome}\")"
   ]
  },
  {
   "cell_type": "markdown",
   "id": "42e8e755",
   "metadata": {},
   "source": [
    "`continue` e `break` podem ser usados para avançar ou interromper as iterações de um loop. No exemplo abaixo, o que ocorreria se `continue` e/ou `break` fossem eliminados?"
   ]
  },
  {
   "cell_type": "code",
   "execution_count": 18,
   "id": "6c0d8727",
   "metadata": {
    "scrolled": true
   },
   "outputs": [
    {
     "name": "stdout",
     "output_type": "stream",
     "text": [
      "O número 1 é ímpar.\n",
      "\n",
      "O número 2 é par.\n",
      "\n",
      "O número 3 é ímpar.\n",
      "\n",
      "O número 4 é par.\n",
      "\n",
      "O número 5 é ímpar.\n",
      "\n",
      "O número 6 é par.\n",
      "\n",
      "O número 7 é ímpar.\n",
      "\n",
      "O número 7 é divisor de 56.\n"
     ]
    }
   ],
   "source": [
    "for i in range(1, 41):\n",
    "    if i % 2 == 1:\n",
    "        print(\"O número {} é ímpar.\\n\".format(i))\n",
    "    else:\n",
    "        print(\"O número {} é par.\\n\".format(i))\n",
    "        continue\n",
    "    if i > 4 and 56 % i == 0:\n",
    "        print(\"O número {} é divisor de 56.\".format(i))\n",
    "        break"
   ]
  },
  {
   "cell_type": "code",
   "execution_count": 19,
   "id": "e79dbe99",
   "metadata": {
    "scrolled": false
   },
   "outputs": [
    {
     "name": "stdout",
     "output_type": "stream",
     "text": [
      "Contador: 1\n",
      "Contador: 5\n",
      "Contador: 9\n",
      "Contador: 13\n",
      "Contador: 17\n",
      "Contador: 21\n"
     ]
    }
   ],
   "source": [
    "for i in range(1, 100, 4):\n",
    "    print(\"Contador:\", i)\n",
    "    if i % 7 == 0: \n",
    "        break\n",
    "else:\n",
    "    print(\"A última iteração foi completada!\")  # Note que o else não é executado depois de um break"
   ]
  },
  {
   "cell_type": "markdown",
   "id": "62d07908",
   "metadata": {},
   "source": [
    "*Loops* não podem ser vazios. Caso se queira que nenhuma expressão seja executada e que isso não gere um erro, pode-se utilizar `pass`. "
   ]
  },
  {
   "cell_type": "code",
   "execution_count": 20,
   "id": "139dad57",
   "metadata": {},
   "outputs": [
    {
     "name": "stdout",
     "output_type": "stream",
     "text": [
      "9\n"
     ]
    }
   ],
   "source": [
    "for i in range(10):\n",
    "    pass\n",
    "\n",
    "print(i)"
   ]
  },
  {
   "cell_type": "code",
   "execution_count": 21,
   "id": "afdcf6cb",
   "metadata": {},
   "outputs": [
    {
     "ename": "IndentationError",
     "evalue": "expected an indented block (Temp/ipykernel_18552/2587053624.py, line 4)",
     "output_type": "error",
     "traceback": [
      "\u001b[1;36m  File \u001b[1;32m\"C:\\Users\\valte\\AppData\\Local\\Temp/ipykernel_18552/2587053624.py\"\u001b[1;36m, line \u001b[1;32m4\u001b[0m\n\u001b[1;33m    print(i)\u001b[0m\n\u001b[1;37m    ^\u001b[0m\n\u001b[1;31mIndentationError\u001b[0m\u001b[1;31m:\u001b[0m expected an indented block\n"
     ]
    }
   ],
   "source": [
    "# Esta expressão gera um erro:\n",
    "for i in range(10):\n",
    "    \n",
    "print(i)"
   ]
  },
  {
   "cell_type": "markdown",
   "id": "601b0346",
   "metadata": {},
   "source": [
    "## While"
   ]
  },
  {
   "cell_type": "code",
   "execution_count": 22,
   "id": "3a3893d8",
   "metadata": {},
   "outputs": [
    {
     "name": "stdout",
     "output_type": "stream",
     "text": [
      "Contador: 10\n",
      "Contador: 11\n",
      "Contador: 12\n",
      "Contador: 13\n",
      "Contador: 14\n",
      "Contador: 15\n"
     ]
    }
   ],
   "source": [
    "i = 10\n",
    "\n",
    "while i <= 15:\n",
    "    print(\"Contador:\", i)\n",
    "    i += 1"
   ]
  },
  {
   "cell_type": "code",
   "execution_count": 23,
   "id": "b77f06d8",
   "metadata": {},
   "outputs": [
    {
     "name": "stdout",
     "output_type": "stream",
     "text": [
      "Contador: 10\n",
      "Contador: 11\n",
      "Contador: 12\n",
      "Contador: 13\n"
     ]
    }
   ],
   "source": [
    "i = 10\n",
    "\n",
    "while i <= 15:\n",
    "    print(\"Contador:\", i)\n",
    "    if i == 13:\n",
    "        break\n",
    "    i += 1"
   ]
  },
  {
   "cell_type": "markdown",
   "id": "ee63a85a",
   "metadata": {},
   "source": [
    "## Aninhamento"
   ]
  },
  {
   "cell_type": "markdown",
   "id": "4992dcd3",
   "metadata": {},
   "source": [
    "Estruturas de controle podem conter outras estruturas de controle aninhadas."
   ]
  },
  {
   "cell_type": "code",
   "execution_count": 24,
   "id": "15a0c872",
   "metadata": {},
   "outputs": [
    {
     "name": "stdout",
     "output_type": "stream",
     "text": [
      "Contador i: [10, 20, 30]\n",
      " Contador j: 10\n",
      " Contador j: 20\n",
      " Contador j: 30\n",
      "Contador i: ('alfa', 'beta')\n",
      " Contador j: alfa\n",
      " Contador j: beta\n",
      "Contador i: Ana\n",
      " Contador j: A\n",
      " Contador j: n\n",
      " Contador j: a\n"
     ]
    }
   ],
   "source": [
    "for i in [[10, 20, 30], (\"alfa\", \"beta\"), \"Ana\"]:\n",
    "    print(\"Contador i:\", i)\n",
    "    for j in i:\n",
    "        print(\" Contador j:\", j)\n",
    "    "
   ]
  },
  {
   "cell_type": "markdown",
   "id": "abba2dbe",
   "metadata": {},
   "source": [
    "# Funções"
   ]
  },
  {
   "cell_type": "markdown",
   "id": "16298c59",
   "metadata": {},
   "source": [
    "Funções executam um expressões ao serem utilizadas num script. Elas podem ou não receber como entrada um ou mais argumentos, e retornar ou não um ou mais valores. "
   ]
  },
  {
   "cell_type": "code",
   "execution_count": 25,
   "id": "ef5433ab",
   "metadata": {},
   "outputs": [
    {
     "name": "stdout",
     "output_type": "stream",
     "text": [
      "None\n"
     ]
    }
   ],
   "source": [
    "def nada():  # A função não faz nada\n",
    "    pass     # O valor retornado é None\n",
    "\n",
    "x = nada()\n",
    "print(x)   "
   ]
  },
  {
   "cell_type": "code",
   "execution_count": 26,
   "id": "c46a844c",
   "metadata": {},
   "outputs": [
    {
     "name": "stdout",
     "output_type": "stream",
     "text": [
      "A soma é 3\n",
      "Valor de x: None\n"
     ]
    }
   ],
   "source": [
    "def não_retorna_valor(a, b):\n",
    "    print(\"A soma é\", a + b)  # Como nada é retornado explicitamente, a função retorna None \n",
    "    \n",
    "x = não_retorna_valor(1, 2)   # A função é executa a imprime o texto\n",
    "print(\"Valor de x:\", x)       # x contém o valor None"
   ]
  },
  {
   "cell_type": "markdown",
   "id": "bce29965",
   "metadata": {},
   "source": [
    "## Empacotamento (*packing*) de argumentos"
   ]
  },
  {
   "cell_type": "markdown",
   "id": "6660c7d0",
   "metadata": {},
   "source": [
    "__*args__ e __**kwargs__ são usados para passar um número indefinido (inclusive 0) de argumentos e argumentos do tipo *keyword* (par de nome e valor) para uma função. Os valores passados são tratados como parte de uma tupla ou dicionário, respectivamente."
   ]
  },
  {
   "cell_type": "code",
   "execution_count": 27,
   "id": "fdba655a",
   "metadata": {},
   "outputs": [
    {
     "name": "stdout",
     "output_type": "stream",
     "text": [
      "Média geométrica = 2.35\n",
      "Média geométrica = 2.00\n"
     ]
    }
   ],
   "source": [
    "def média_geométrica(valor1, valor2, *args):   # O * indica que a função recebe um número indefinido de valores\n",
    "    total = valor1 * valor2\n",
    "    if args:\n",
    "        for i, valor in enumerate(args):\n",
    "            total *= valor\n",
    "        return total ** (1/(i+3))\n",
    "    else:\n",
    "        return total ** .5\n",
    "\n",
    "print(\"Média geométrica = %.2f\" % média_geométrica(2, 3, 4, 1, 3))\n",
    "print(\"Média geométrica = %.2f\" % média_geométrica(2, 2))"
   ]
  },
  {
   "cell_type": "code",
   "execution_count": 28,
   "id": "b1e3d36e",
   "metadata": {},
   "outputs": [
    {
     "data": {
      "text/plain": [
       "2.168943542395397"
      ]
     },
     "execution_count": 28,
     "metadata": {},
     "output_type": "execute_result"
    }
   ],
   "source": [
    "média_geométrica(1, 1, *[2, 4, 6])  # O `*` pode ser usado para unpack a lista"
   ]
  },
  {
   "cell_type": "code",
   "execution_count": 29,
   "id": "860079dc",
   "metadata": {},
   "outputs": [
    {
     "name": "stdout",
     "output_type": "stream",
     "text": [
      "Tratamento: Prof.\n",
      "Nome: Valter\n",
      "Sobrenome: Moreno\n",
      "Sufixo: Jr.\n"
     ]
    }
   ],
   "source": [
    "def mostra_variáveis(**kwargs):   \n",
    "    for nome, valor in kwargs.items():  # Os valores são tratados como elementos de um dicionário\n",
    "        print(f\"{nome}: {valor}\")\n",
    "\n",
    "mostra_variáveis(Tratamento = \"Prof.\", Nome = \"Valter\", Sobrenome = \"Moreno\", Sufixo = \"Jr.\")"
   ]
  },
  {
   "cell_type": "code",
   "execution_count": 30,
   "id": "f9d45298",
   "metadata": {},
   "outputs": [
    {
     "name": "stdout",
     "output_type": "stream",
     "text": [
      "Tratamento: Prof.\n",
      "Nome: Valter\n",
      "Sobrenome: Moreno\n",
      "Sufixo: Jr.\n"
     ]
    }
   ],
   "source": [
    "dicionário = {\"Tratamento\": \"Prof.\", \n",
    "              \"Nome\": \"Valter\", \n",
    "              \"Sobrenome\": \"Moreno\", \n",
    "              \"Sufixo\": \"Jr.\"}\n",
    "\n",
    "mostra_variáveis(**dicionário)  # Da mesma forma, `**` é usado para unpack dicionários"
   ]
  },
  {
   "cell_type": "markdown",
   "id": "0b25f280",
   "metadata": {},
   "source": [
    "## Escopo de variáveis"
   ]
  },
  {
   "cell_type": "markdown",
   "id": "a2465de2",
   "metadata": {},
   "source": [
    "Variáveis definidas dentro de uma função são de **escopo local**. Após a execução da função, elas são deletadas. Mesmo que tenham o mesmo nome de variáveis definidas fora da função (de **escopo global**), os valores destas variáveis não são alterados. "
   ]
  },
  {
   "cell_type": "code",
   "execution_count": 31,
   "id": "f51ad137",
   "metadata": {
    "scrolled": true
   },
   "outputs": [
    {
     "name": "stdout",
     "output_type": "stream",
     "text": [
      "a =  1\n",
      "b =  2\n",
      "x =  2\n",
      "y =  4\n"
     ]
    }
   ],
   "source": [
    "def função(a, b):  # a e b são do escopo local da função\n",
    "    a += 1\n",
    "    b = a * b\n",
    "    return a, b\n",
    "\n",
    "a = 1  # Aqui, a e b são do escopo global\n",
    "b = 2\n",
    "\n",
    "x, y = função(a, b)  # Os valores originais de a e b não são alterados\n",
    "\n",
    "print(\"a = \", a)\n",
    "print(\"b = \", b)\n",
    "print(\"x = \", x)\n",
    "print(\"y = \", y)"
   ]
  },
  {
   "cell_type": "markdown",
   "id": "6c56c72b",
   "metadata": {},
   "source": [
    "Se a função fizer referência a uma variável que não é definida localmente, o Python procura a variável no escopo global. "
   ]
  },
  {
   "cell_type": "code",
   "execution_count": 32,
   "id": "a0e6f44c",
   "metadata": {
    "scrolled": true
   },
   "outputs": [
    {
     "name": "stdout",
     "output_type": "stream",
     "text": [
      "a =  1\n",
      "b =  2\n",
      "c =  3\n",
      "x =  2\n",
      "y =  6\n"
     ]
    }
   ],
   "source": [
    "def função(a, b):  # a e b são definidas no escopo local da função, mas não c\n",
    "    a += 1\n",
    "    b = a * c\n",
    "    return a, b\n",
    "\n",
    "a = 1  # Aqui, a, b e c são do escopo global\n",
    "b = 2\n",
    "c = 3\n",
    "\n",
    "x, y = função(a, b)  # A função usa o valor de c do escopo global\n",
    "\n",
    "print(\"a = \", a)\n",
    "print(\"b = \", b)\n",
    "print(\"c = \", c)\n",
    "print(\"x = \", x)\n",
    "print(\"y = \", y)"
   ]
  },
  {
   "cell_type": "markdown",
   "id": "2ebcbf42",
   "metadata": {},
   "source": [
    "Pode-se definir variávaeis de escopo global dentro de uma função."
   ]
  },
  {
   "cell_type": "code",
   "execution_count": 33,
   "id": "5ab7c2b4",
   "metadata": {
    "scrolled": true
   },
   "outputs": [
    {
     "name": "stdout",
     "output_type": "stream",
     "text": [
      "c =  6\n"
     ]
    }
   ],
   "source": [
    "def função(a, b):  # Podemos definir uma variável global dentro da função\n",
    "    global c\n",
    "    a += 1\n",
    "    b += 1\n",
    "    c = a * b\n",
    "\n",
    "função(1, 2)  # A função cria c no escopo global\n",
    "\n",
    "print(\"c = \", c)  # Podemos acessar o valor de c fora do escopo da função"
   ]
  },
  {
   "cell_type": "markdown",
   "id": "ebbfe655",
   "metadata": {},
   "source": [
    "## Funções como argumentos"
   ]
  },
  {
   "cell_type": "markdown",
   "id": "6656d7fb",
   "metadata": {},
   "source": [
    "Funções podem ser passadas como argumentos para outras funções."
   ]
  },
  {
   "cell_type": "code",
   "execution_count": 34,
   "id": "b10cc91f",
   "metadata": {},
   "outputs": [
    {
     "name": "stdout",
     "output_type": "stream",
     "text": [
      "Aplicação da função 'produto' a 2 e 3: 6\n"
     ]
    }
   ],
   "source": [
    "def produto(a, b):\n",
    "    return a * b\n",
    "\n",
    "def exponencial(a, b):\n",
    "    return a ** b\n",
    "\n",
    "def aplica_func(a, b, f):  # O argumento f é o nome da função a ser aplicada\n",
    "    return f(a, b)\n",
    "\n",
    "a = 2\n",
    "b = 3\n",
    "func = produto\n",
    "\n",
    "print(f\"Aplicação da função '{func.__name__}' a {a} e {b}:\", aplica_func(a, b, func))"
   ]
  },
  {
   "cell_type": "markdown",
   "id": "4a449a49",
   "metadata": {},
   "source": [
    "Podemos criar funções anônimas simples, chamdas funções *lambda*."
   ]
  },
  {
   "cell_type": "code",
   "execution_count": 35,
   "id": "86068447",
   "metadata": {},
   "outputs": [
    {
     "data": {
      "text/plain": [
       "9"
      ]
     },
     "execution_count": 35,
     "metadata": {},
     "output_type": "execute_result"
    }
   ],
   "source": [
    "def aplica_func(a, b, f):\n",
    "    return f(a, b)\n",
    "\n",
    "aplica_func(3, 2, lambda x, y: x**y)"
   ]
  },
  {
   "cell_type": "markdown",
   "id": "8d79248e",
   "metadata": {},
   "source": [
    "Podemos definir valores *default* para argumentos de uma função. \n",
    "\n",
    "<font color = \"red\"><strong><u>Atenção</u>:</strong></font> argumentos com valores *default* devem ser definidos **após** argumentos sem valores *default*."
   ]
  },
  {
   "cell_type": "code",
   "execution_count": 36,
   "id": "7285ee8b",
   "metadata": {},
   "outputs": [
    {
     "data": {
      "text/plain": [
       "3"
      ]
     },
     "execution_count": 36,
     "metadata": {},
     "output_type": "execute_result"
    }
   ],
   "source": [
    "def aplica_func(f, a = 1, b = 2):\n",
    "    return f(a, b)\n",
    "\n",
    "aplica_func(lambda x, y: x + y)"
   ]
  },
  {
   "cell_type": "markdown",
   "id": "078ea050",
   "metadata": {},
   "source": [
    "## *Decorators*"
   ]
  },
  {
   "cell_type": "markdown",
   "id": "097f5639",
   "metadata": {},
   "source": [
    "*Decorators* são funções que modificam outras funcões. Seguem exemplos, retirados da página [3 Essential Decorators in Python You Need To Know](https://medium.com/better-programming/3-essential-decorators-in-python-you-need-to-know-654650bd5c36)."
   ]
  },
  {
   "cell_type": "markdown",
   "id": "8433a47c",
   "metadata": {},
   "source": [
    "A estrutura usada para criar um *decorator* é:"
   ]
  },
  {
   "cell_type": "code",
   "execution_count": 37,
   "id": "1f464ac8",
   "metadata": {},
   "outputs": [],
   "source": [
    "def decorator(function_to_decorate):\n",
    "    def wrapper(*args, **kwargs):\n",
    "        function_to_decorate(*args, **kwargs)\n",
    "    return wrapper"
   ]
  },
  {
   "cell_type": "markdown",
   "id": "b5279371",
   "metadata": {},
   "source": [
    "`wrapper` é uma função que adiciona ou altera o que é realizado por `function_to_decorate`."
   ]
  },
  {
   "cell_type": "markdown",
   "id": "ecf08408",
   "metadata": {},
   "source": [
    "O *decorator* `measure_time` a seguir calcula e imprime quanto tempo uma função demora para ser executada. O resultado da função original é retornado."
   ]
  },
  {
   "cell_type": "code",
   "execution_count": 38,
   "id": "52f6d834",
   "metadata": {},
   "outputs": [],
   "source": [
    "def measure_time(func):\n",
    "    def wrapper(*args, **kwargs):\n",
    "        from time import time\n",
    "        start = time()\n",
    "        result = func(*args, **kwargs)\n",
    "        print(f'Elapsed time is {time() - start:.5E} ms')\n",
    "        return result\n",
    "    return wrapper"
   ]
  },
  {
   "cell_type": "code",
   "execution_count": 39,
   "id": "a8a52d11",
   "metadata": {},
   "outputs": [],
   "source": [
    "@measure_time\n",
    "def fatorial(x):\n",
    "    fat = 1\n",
    "    for i in range(1, x+1):\n",
    "        fat *= i\n",
    "    return fat"
   ]
  },
  {
   "cell_type": "code",
   "execution_count": 40,
   "id": "f6e0b025",
   "metadata": {
    "scrolled": true
   },
   "outputs": [
    {
     "name": "stdout",
     "output_type": "stream",
     "text": [
      "Elapsed time is 9.97281E-03 ms\n"
     ]
    }
   ],
   "source": [
    "resultado = fatorial(5000)"
   ]
  },
  {
   "cell_type": "markdown",
   "id": "10371676",
   "metadata": {},
   "source": [
    "# Exceções"
   ]
  },
  {
   "cell_type": "markdown",
   "id": "6cf6b5c0",
   "metadata": {},
   "source": [
    "A função `é_primo` recebe um argumento, que deve ser um inteiro maior do que 1, e não retorna valores."
   ]
  },
  {
   "cell_type": "code",
   "execution_count": 41,
   "id": "207cbfd4",
   "metadata": {},
   "outputs": [],
   "source": [
    "def é_primo(número):\n",
    "    \"\"\"\n",
    "    A função recebe um número inteiro e verifica se ele é primo ou não. \n",
    "    Nenhum valor é retornado.\n",
    "    \"\"\"\n",
    "\n",
    "    if not isinstance(número, int):\n",
    "        print(\"O valor precisa ser um número inteiro.\")\n",
    "    elif número <= 1:\n",
    "        print(\"O inteiro deve ser maior do que 1.\")\n",
    "    elif número == 2:\n",
    "        print(\"O número é primo.\")\n",
    "    else:\n",
    "        divisor = 2\n",
    "        while divisor < número:\n",
    "            if número % divisor == 0:\n",
    "                print(\"O número não é primo.\")\n",
    "                return\n",
    "            else:\n",
    "                divisor += 1\n",
    "        else:\n",
    "            print(\"O número é primo.\")\n",
    "            return"
   ]
  },
  {
   "cell_type": "code",
   "execution_count": 42,
   "id": "ce70d605",
   "metadata": {},
   "outputs": [
    {
     "name": "stdout",
     "output_type": "stream",
     "text": [
      "Help on function é_primo in module __main__:\n",
      "\n",
      "é_primo(número)\n",
      "    A função recebe um número inteiro e verifica se ele é primo ou não. \n",
      "    Nenhum valor é retornado.\n",
      "\n"
     ]
    }
   ],
   "source": [
    "help(é_primo) # Mostra o texto inserido no início da função"
   ]
  },
  {
   "cell_type": "code",
   "execution_count": 43,
   "id": "b401ab63",
   "metadata": {
    "scrolled": true
   },
   "outputs": [
    {
     "name": "stdout",
     "output_type": "stream",
     "text": [
      "O valor precisa ser um número inteiro.\n"
     ]
    }
   ],
   "source": [
    "é_primo(\"a\")"
   ]
  },
  {
   "cell_type": "code",
   "execution_count": 44,
   "id": "7e23aecb",
   "metadata": {},
   "outputs": [
    {
     "name": "stdout",
     "output_type": "stream",
     "text": [
      "O inteiro deve ser maior do que 1.\n"
     ]
    }
   ],
   "source": [
    "é_primo(0)"
   ]
  },
  {
   "cell_type": "code",
   "execution_count": 45,
   "id": "3f4e2543",
   "metadata": {
    "scrolled": true
   },
   "outputs": [
    {
     "name": "stdout",
     "output_type": "stream",
     "text": [
      "O número não é primo.\n"
     ]
    }
   ],
   "source": [
    "é_primo(32)"
   ]
  },
  {
   "cell_type": "code",
   "execution_count": 46,
   "id": "eab1dc96",
   "metadata": {},
   "outputs": [
    {
     "name": "stdout",
     "output_type": "stream",
     "text": [
      "O número é primo.\n"
     ]
    }
   ],
   "source": [
    "é_primo(19)"
   ]
  },
  {
   "cell_type": "markdown",
   "id": "f1480ab5",
   "metadata": {},
   "source": [
    "Vamos ignorar o tratamento de possíveis erros:"
   ]
  },
  {
   "cell_type": "code",
   "execution_count": 47,
   "id": "c3f972a4",
   "metadata": {},
   "outputs": [],
   "source": [
    "def é_primo(número):\n",
    "    \"\"\"\n",
    "    A função recebe um número inteiro e verifica se ele é primo ou não. \n",
    "    Nenhum valor é retornado.\n",
    "    \"\"\"\n",
    "    divisor = 2\n",
    "    while divisor < número:\n",
    "        if número % divisor == 0:\n",
    "            print(\"O número não é primo.\")\n",
    "            return\n",
    "        else:\n",
    "            divisor += 1\n",
    "    else:\n",
    "        print(\"O número é primo.\")\n",
    "        return"
   ]
  },
  {
   "cell_type": "code",
   "execution_count": 48,
   "id": "482e41e5",
   "metadata": {},
   "outputs": [
    {
     "ename": "TypeError",
     "evalue": "'<' not supported between instances of 'int' and 'str'",
     "output_type": "error",
     "traceback": [
      "\u001b[1;31m---------------------------------------------------------------------------\u001b[0m",
      "\u001b[1;31mTypeError\u001b[0m                                 Traceback (most recent call last)",
      "\u001b[1;32m~\\AppData\\Local\\Temp/ipykernel_18552/405528315.py\u001b[0m in \u001b[0;36m<module>\u001b[1;34m\u001b[0m\n\u001b[1;32m----> 1\u001b[1;33m \u001b[0mé_primo\u001b[0m\u001b[1;33m(\u001b[0m\u001b[1;34m\"a\"\u001b[0m\u001b[1;33m)\u001b[0m\u001b[1;33m\u001b[0m\u001b[1;33m\u001b[0m\u001b[0m\n\u001b[0m",
      "\u001b[1;32m~\\AppData\\Local\\Temp/ipykernel_18552/1599433309.py\u001b[0m in \u001b[0;36mé_primo\u001b[1;34m(número)\u001b[0m\n\u001b[0;32m      5\u001b[0m     \"\"\"\n\u001b[0;32m      6\u001b[0m     \u001b[0mdivisor\u001b[0m \u001b[1;33m=\u001b[0m \u001b[1;36m2\u001b[0m\u001b[1;33m\u001b[0m\u001b[1;33m\u001b[0m\u001b[0m\n\u001b[1;32m----> 7\u001b[1;33m     \u001b[1;32mwhile\u001b[0m \u001b[0mdivisor\u001b[0m \u001b[1;33m<\u001b[0m \u001b[0mnúmero\u001b[0m\u001b[1;33m:\u001b[0m\u001b[1;33m\u001b[0m\u001b[1;33m\u001b[0m\u001b[0m\n\u001b[0m\u001b[0;32m      8\u001b[0m         \u001b[1;32mif\u001b[0m \u001b[0mnúmero\u001b[0m \u001b[1;33m%\u001b[0m \u001b[0mdivisor\u001b[0m \u001b[1;33m==\u001b[0m \u001b[1;36m0\u001b[0m\u001b[1;33m:\u001b[0m\u001b[1;33m\u001b[0m\u001b[1;33m\u001b[0m\u001b[0m\n\u001b[0;32m      9\u001b[0m             \u001b[0mprint\u001b[0m\u001b[1;33m(\u001b[0m\u001b[1;34m\"O número não é primo.\"\u001b[0m\u001b[1;33m)\u001b[0m\u001b[1;33m\u001b[0m\u001b[1;33m\u001b[0m\u001b[0m\n",
      "\u001b[1;31mTypeError\u001b[0m: '<' not supported between instances of 'int' and 'str'"
     ]
    }
   ],
   "source": [
    "é_primo(\"a\")"
   ]
  },
  {
   "cell_type": "markdown",
   "id": "44d74505",
   "metadata": {},
   "source": [
    "## `try` ... `except`"
   ]
  },
  {
   "cell_type": "markdown",
   "id": "845d11d0",
   "metadata": {},
   "source": [
    "A estrutura `try:` ... `except:` funciona como um detector de diferentes tipos de erros para que eles possam ser tratados no script."
   ]
  },
  {
   "cell_type": "code",
   "execution_count": 49,
   "id": "9e2eded4",
   "metadata": {},
   "outputs": [],
   "source": [
    "def é_primo(número):\n",
    "    \"\"\"\n",
    "    A função recebe um número inteiro e verifica se ele é primo ou não. \n",
    "    Nenhum valor é retornado.\n",
    "    \"\"\"\n",
    "    divisor = 2\n",
    "    try:\n",
    "        while divisor < número:\n",
    "            if número % divisor == 0:\n",
    "                print(\"O número não é primo.\")\n",
    "                return\n",
    "            else:\n",
    "                divisor += 1\n",
    "        else:\n",
    "            print(\"O número é primo.\")\n",
    "            return\n",
    "    except TypeError:\n",
    "        print(\"A função deve receber um número.\")"
   ]
  },
  {
   "cell_type": "code",
   "execution_count": 50,
   "id": "1157141b",
   "metadata": {},
   "outputs": [
    {
     "name": "stdout",
     "output_type": "stream",
     "text": [
      "A função deve receber um número.\n"
     ]
    }
   ],
   "source": [
    "é_primo(\"a\")"
   ]
  },
  {
   "cell_type": "markdown",
   "id": "6c64f528",
   "metadata": {},
   "source": [
    "Note que o `try ... except` não é capaz de detectar outros tipos de problemas. Estes devem ser tratados no script como antes."
   ]
  },
  {
   "cell_type": "code",
   "execution_count": 51,
   "id": "43d43993",
   "metadata": {},
   "outputs": [
    {
     "name": "stdout",
     "output_type": "stream",
     "text": [
      "O número é primo.\n"
     ]
    }
   ],
   "source": [
    "é_primo(0)"
   ]
  },
  {
   "cell_type": "markdown",
   "id": "17511779",
   "metadata": {},
   "source": [
    "Podemos incluir um `else` para tratar a execução sem problemas do script."
   ]
  },
  {
   "cell_type": "code",
   "execution_count": 52,
   "id": "ca7ed23a",
   "metadata": {},
   "outputs": [
    {
     "ename": "TypeError",
     "evalue": "can only concatenate str (not \"int\") to str",
     "output_type": "error",
     "traceback": [
      "\u001b[1;31m---------------------------------------------------------------------------\u001b[0m",
      "\u001b[1;31mTypeError\u001b[0m                                 Traceback (most recent call last)",
      "\u001b[1;32m~\\AppData\\Local\\Temp/ipykernel_18552/1414351866.py\u001b[0m in \u001b[0;36m<module>\u001b[1;34m\u001b[0m\n\u001b[0;32m      3\u001b[0m \u001b[1;33m\u001b[0m\u001b[0m\n\u001b[0;32m      4\u001b[0m \u001b[1;31m# Esta expressão gera um erro:\u001b[0m\u001b[1;33m\u001b[0m\u001b[1;33m\u001b[0m\u001b[1;33m\u001b[0m\u001b[0m\n\u001b[1;32m----> 5\u001b[1;33m \u001b[0ma\u001b[0m \u001b[1;33m+\u001b[0m \u001b[0mb\u001b[0m\u001b[1;33m\u001b[0m\u001b[1;33m\u001b[0m\u001b[0m\n\u001b[0m",
      "\u001b[1;31mTypeError\u001b[0m: can only concatenate str (not \"int\") to str"
     ]
    }
   ],
   "source": [
    "a = \"texto\"\n",
    "b = 10\n",
    "\n",
    "# Esta expressão gera um erro:\n",
    "a + b"
   ]
  },
  {
   "cell_type": "code",
   "execution_count": 53,
   "id": "87d5ebe9",
   "metadata": {},
   "outputs": [
    {
     "name": "stdout",
     "output_type": "stream",
     "text": [
      "Houve um erro! :-(\n"
     ]
    }
   ],
   "source": [
    "a = \"texto\"\n",
    "b = 10\n",
    "\n",
    "try:\n",
    "    print(f\"A soma de {a} e {b} é {a + b}.\\n\")\n",
    "except:\n",
    "    print(\"Houve um erro! :-(\")\n",
    "else:\n",
    "    print(\"Sem problemas! :-)\")"
   ]
  },
  {
   "cell_type": "code",
   "execution_count": 54,
   "id": "4d3e6051",
   "metadata": {},
   "outputs": [
    {
     "name": "stdout",
     "output_type": "stream",
     "text": [
      "A soma de 1 e 2 é 3.\n",
      "\n",
      "Sem problemas! :-)\n"
     ]
    }
   ],
   "source": [
    "a = 1\n",
    "b = 2\n",
    "\n",
    "try:\n",
    "    print(f\"A soma de {a} e {b} é {a + b}.\\n\")\n",
    "except:\n",
    "    print(\"Houve um erro!\")\n",
    "else:\n",
    "    print(\"Sem problemas! :-)\")"
   ]
  },
  {
   "cell_type": "markdown",
   "id": "32bc9260",
   "metadata": {},
   "source": [
    "É possível também terminar a estrutura com um `finally`, que é executado sempre, independente do resultado. \n",
    "\n",
    "Execute a célula abaixo digitando diversos tipos de valores para `a` e `b` e  veja o que ocorre."
   ]
  },
  {
   "cell_type": "code",
   "execution_count": 55,
   "id": "39d95772",
   "metadata": {},
   "outputs": [
    {
     "name": "stdout",
     "output_type": "stream",
     "text": [
      "Digite o primeiro valor:\n",
      "Digite o segundo valor:\n",
      "\n",
      "**Erro: digite dois números.\n",
      "\n",
      "Os valores dados foram  e .\n"
     ]
    }
   ],
   "source": [
    "try:\n",
    "    a = input(\"Digite o primeiro valor:\")\n",
    "    b = input(\"Digite o segundo valor:\")\n",
    "    print(f\"\\nA divisão de {float(a)} por {float(b)} é {(float(a) / float(b)):.3f}.\")\n",
    "except ValueError:\n",
    "    print(\"\\n**Erro: digite dois números.\")\n",
    "except ZeroDivisionError:\n",
    "    print(\"\\n**Erro: o segundo valor não poder ser 0.\")\n",
    "finally:\n",
    "    print(f\"\\nOs valores dados foram {a} e {b}.\")"
   ]
  },
  {
   "cell_type": "markdown",
   "id": "883b5d89",
   "metadata": {},
   "source": [
    "## Exceções customizadas"
   ]
  },
  {
   "cell_type": "markdown",
   "id": "042c91d7",
   "metadata": {},
   "source": [
    "Podemos criar nossas próprias condições de erro usando o comando `raise`:"
   ]
  },
  {
   "cell_type": "code",
   "execution_count": 64,
   "id": "31bfe935",
   "metadata": {},
   "outputs": [
    {
     "name": "stdout",
     "output_type": "stream",
     "text": [
      "Digite a data no formato aaaa-mm-dd: 2022-09-17\n",
      "A diferença em anos é: 0\n",
      "Data atual: 2022-01-28\n",
      "Data fornecida: 2022-09-17\n"
     ]
    }
   ],
   "source": [
    "from datetime import datetime\n",
    "\n",
    "try:\n",
    "    hoje = datetime.now()\n",
    "\n",
    "    data_fornecida = input(\"Digite a data no formato aaaa-mm-dd: \")\n",
    "    data_fornecida = datetime.strptime(data_fornecida, '%Y-%m-%d')\n",
    "    \n",
    "    if (data_fornecida.date() < hoje.date()):\n",
    "        \n",
    "        # Geramos um erro do tipo ValueError, que inclui argumentos!\n",
    "        raise ValueError(\n",
    "            \"A data fornecida não pode ser anterior à data atual:\",\n",
    "            data_fornecida,\n",
    "            hoje)\n",
    "    \n",
    "    else:\n",
    "        print(f\"A diferença em anos é: {data_fornecida.year - hoje.year}\")\n",
    "\n",
    "# O tratamento do erro é feito aqui:\n",
    "except ValueError as erro:\n",
    "    print(f\"\\n** Erro: {erro.args[0]}\\n\" + \n",
    "          f\"   Data fornecida: {erro.args[1].strftime('%Y-%m-%d')}\\n\" + \n",
    "          f\"   Data atual: {erro.args[2].strftime('%Y-%m-%d')}\")\n",
    "\n",
    "else:\n",
    "    print (\"Data atual: \" + hoje.strftime('%Y-%m-%d'))\n",
    "    print (\"Data fornecida: \" + data_fornecida.strftime('%Y-%m-%d'))"
   ]
  },
  {
   "cell_type": "markdown",
   "id": "67425c06",
   "metadata": {},
   "source": [
    "Para mais informações, consulte:\n",
    "\n",
    "  - [How to Throw Exceptions in Python](https://rollbar.com/blog/throwing-exceptions-in-python/)\n",
    "  - [Manually raising (throwing) an exception in Python](https://pyquestions.com/manually-raising-throwing-an-exception-in-python)"
   ]
  },
  {
   "cell_type": "markdown",
   "id": "eac81ddb",
   "metadata": {},
   "source": [
    "## Asserções (*assertions*)"
   ]
  },
  {
   "cell_type": "markdown",
   "id": "2c2af037",
   "metadata": {},
   "source": [
    "*Assertions* podem ser usadas para testar se os resultados esperados estão sendo obtidos num scrip e gerar mensagens de erro. Isso é útil ao longo do desenvolvimento de um código, para identificar error (*debugging*)."
   ]
  },
  {
   "cell_type": "code",
   "execution_count": 57,
   "id": "6108a93b",
   "metadata": {},
   "outputs": [],
   "source": [
    "def div_3(x: int) -> bool:\n",
    "    return x % 3 == 0"
   ]
  },
  {
   "cell_type": "code",
   "execution_count": 58,
   "id": "8483a6e5",
   "metadata": {},
   "outputs": [
    {
     "name": "stdout",
     "output_type": "stream",
     "text": [
      "4 é divisível por 3? False\n",
      "9 é divisível por 3? True\n"
     ]
    }
   ],
   "source": [
    "print(\"4 é divisível por 3?\", div_3(4))\n",
    "print(\"9 é divisível por 3?\", div_3(9))"
   ]
  },
  {
   "cell_type": "code",
   "execution_count": 59,
   "id": "31d42062",
   "metadata": {},
   "outputs": [
    {
     "ename": "AssertionError",
     "evalue": "O teste falhou, pois o número é divisível por 3!",
     "output_type": "error",
     "traceback": [
      "\u001b[1;31m---------------------------------------------------------------------------\u001b[0m",
      "\u001b[1;31mAssertionError\u001b[0m                            Traceback (most recent call last)",
      "\u001b[1;32m~\\AppData\\Local\\Temp/ipykernel_18552/561554100.py\u001b[0m in \u001b[0;36m<module>\u001b[1;34m\u001b[0m\n\u001b[1;32m----> 1\u001b[1;33m \u001b[1;32massert\u001b[0m \u001b[0mdiv_3\u001b[0m\u001b[1;33m(\u001b[0m\u001b[1;36m6\u001b[0m\u001b[1;33m)\u001b[0m \u001b[1;33m==\u001b[0m \u001b[1;32mFalse\u001b[0m\u001b[1;33m,\u001b[0m \u001b[1;34m\"O teste falhou, pois o número é divisível por 3!\"\u001b[0m\u001b[1;33m\u001b[0m\u001b[1;33m\u001b[0m\u001b[0m\n\u001b[0m",
      "\u001b[1;31mAssertionError\u001b[0m: O teste falhou, pois o número é divisível por 3!"
     ]
    }
   ],
   "source": [
    "assert div_3(6) == False, \"O teste falhou, pois o número é divisível por 3!\""
   ]
  },
  {
   "cell_type": "markdown",
   "id": "6a5551e0",
   "metadata": {},
   "source": [
    "Podemos usar `assert` para testar os argumentos recebidos por uma função."
   ]
  },
  {
   "cell_type": "code",
   "execution_count": 60,
   "id": "4e57f51e",
   "metadata": {},
   "outputs": [],
   "source": [
    "def divisivel(x: int, div: int) -> bool:\n",
    "    assert isinstance(x, int) and isinstance(div, int), \"Os argumentos devem ser números inteiros\"\n",
    "    assert div !=0, \"O divisor não poder ser 0\"\n",
    "    return x % div == 0"
   ]
  },
  {
   "cell_type": "code",
   "execution_count": 61,
   "id": "6501d19c",
   "metadata": {},
   "outputs": [
    {
     "data": {
      "text/plain": [
       "False"
      ]
     },
     "execution_count": 61,
     "metadata": {},
     "output_type": "execute_result"
    }
   ],
   "source": [
    "divisivel(1, 2)"
   ]
  },
  {
   "cell_type": "code",
   "execution_count": 62,
   "id": "67ee084f",
   "metadata": {},
   "outputs": [
    {
     "ename": "AssertionError",
     "evalue": "Os argumentos devem ser números inteiros",
     "output_type": "error",
     "traceback": [
      "\u001b[1;31m---------------------------------------------------------------------------\u001b[0m",
      "\u001b[1;31mAssertionError\u001b[0m                            Traceback (most recent call last)",
      "\u001b[1;32m~\\AppData\\Local\\Temp/ipykernel_18552/2612694719.py\u001b[0m in \u001b[0;36m<module>\u001b[1;34m\u001b[0m\n\u001b[1;32m----> 1\u001b[1;33m \u001b[0mdivisivel\u001b[0m\u001b[1;33m(\u001b[0m\u001b[1;36m4.5\u001b[0m\u001b[1;33m,\u001b[0m \u001b[1;36m.5\u001b[0m\u001b[1;33m)\u001b[0m\u001b[1;33m\u001b[0m\u001b[1;33m\u001b[0m\u001b[0m\n\u001b[0m",
      "\u001b[1;32m~\\AppData\\Local\\Temp/ipykernel_18552/1915794665.py\u001b[0m in \u001b[0;36mdivisivel\u001b[1;34m(x, div)\u001b[0m\n\u001b[0;32m      1\u001b[0m \u001b[1;32mdef\u001b[0m \u001b[0mdivisivel\u001b[0m\u001b[1;33m(\u001b[0m\u001b[0mx\u001b[0m\u001b[1;33m:\u001b[0m \u001b[0mint\u001b[0m\u001b[1;33m,\u001b[0m \u001b[0mdiv\u001b[0m\u001b[1;33m:\u001b[0m \u001b[0mint\u001b[0m\u001b[1;33m)\u001b[0m \u001b[1;33m->\u001b[0m \u001b[0mbool\u001b[0m\u001b[1;33m:\u001b[0m\u001b[1;33m\u001b[0m\u001b[1;33m\u001b[0m\u001b[0m\n\u001b[1;32m----> 2\u001b[1;33m     \u001b[1;32massert\u001b[0m \u001b[0misinstance\u001b[0m\u001b[1;33m(\u001b[0m\u001b[0mx\u001b[0m\u001b[1;33m,\u001b[0m \u001b[0mint\u001b[0m\u001b[1;33m)\u001b[0m \u001b[1;32mand\u001b[0m \u001b[0misinstance\u001b[0m\u001b[1;33m(\u001b[0m\u001b[0mdiv\u001b[0m\u001b[1;33m,\u001b[0m \u001b[0mint\u001b[0m\u001b[1;33m)\u001b[0m\u001b[1;33m,\u001b[0m \u001b[1;34m\"Os argumentos devem ser números inteiros\"\u001b[0m\u001b[1;33m\u001b[0m\u001b[1;33m\u001b[0m\u001b[0m\n\u001b[0m\u001b[0;32m      3\u001b[0m     \u001b[1;32massert\u001b[0m \u001b[0mdiv\u001b[0m \u001b[1;33m!=\u001b[0m\u001b[1;36m0\u001b[0m\u001b[1;33m,\u001b[0m \u001b[1;34m\"O divisor não poder ser 0\"\u001b[0m\u001b[1;33m\u001b[0m\u001b[1;33m\u001b[0m\u001b[0m\n\u001b[0;32m      4\u001b[0m     \u001b[1;32mreturn\u001b[0m \u001b[0mx\u001b[0m \u001b[1;33m%\u001b[0m \u001b[0mdiv\u001b[0m \u001b[1;33m==\u001b[0m \u001b[1;36m0\u001b[0m\u001b[1;33m\u001b[0m\u001b[1;33m\u001b[0m\u001b[0m\n",
      "\u001b[1;31mAssertionError\u001b[0m: Os argumentos devem ser números inteiros"
     ]
    }
   ],
   "source": [
    "divisivel(4.5, .5)"
   ]
  },
  {
   "cell_type": "code",
   "execution_count": 63,
   "id": "476c08b3",
   "metadata": {},
   "outputs": [
    {
     "ename": "AssertionError",
     "evalue": "O divisor não poder ser 0",
     "output_type": "error",
     "traceback": [
      "\u001b[1;31m---------------------------------------------------------------------------\u001b[0m",
      "\u001b[1;31mAssertionError\u001b[0m                            Traceback (most recent call last)",
      "\u001b[1;32m~\\AppData\\Local\\Temp/ipykernel_18552/126135773.py\u001b[0m in \u001b[0;36m<module>\u001b[1;34m\u001b[0m\n\u001b[1;32m----> 1\u001b[1;33m \u001b[0mdivisivel\u001b[0m\u001b[1;33m(\u001b[0m\u001b[1;36m4\u001b[0m\u001b[1;33m,\u001b[0m \u001b[1;36m0\u001b[0m\u001b[1;33m)\u001b[0m\u001b[1;33m\u001b[0m\u001b[1;33m\u001b[0m\u001b[0m\n\u001b[0m",
      "\u001b[1;32m~\\AppData\\Local\\Temp/ipykernel_18552/1915794665.py\u001b[0m in \u001b[0;36mdivisivel\u001b[1;34m(x, div)\u001b[0m\n\u001b[0;32m      1\u001b[0m \u001b[1;32mdef\u001b[0m \u001b[0mdivisivel\u001b[0m\u001b[1;33m(\u001b[0m\u001b[0mx\u001b[0m\u001b[1;33m:\u001b[0m \u001b[0mint\u001b[0m\u001b[1;33m,\u001b[0m \u001b[0mdiv\u001b[0m\u001b[1;33m:\u001b[0m \u001b[0mint\u001b[0m\u001b[1;33m)\u001b[0m \u001b[1;33m->\u001b[0m \u001b[0mbool\u001b[0m\u001b[1;33m:\u001b[0m\u001b[1;33m\u001b[0m\u001b[1;33m\u001b[0m\u001b[0m\n\u001b[0;32m      2\u001b[0m     \u001b[1;32massert\u001b[0m \u001b[0misinstance\u001b[0m\u001b[1;33m(\u001b[0m\u001b[0mx\u001b[0m\u001b[1;33m,\u001b[0m \u001b[0mint\u001b[0m\u001b[1;33m)\u001b[0m \u001b[1;32mand\u001b[0m \u001b[0misinstance\u001b[0m\u001b[1;33m(\u001b[0m\u001b[0mdiv\u001b[0m\u001b[1;33m,\u001b[0m \u001b[0mint\u001b[0m\u001b[1;33m)\u001b[0m\u001b[1;33m,\u001b[0m \u001b[1;34m\"Os argumentos devem ser números inteiros\"\u001b[0m\u001b[1;33m\u001b[0m\u001b[1;33m\u001b[0m\u001b[0m\n\u001b[1;32m----> 3\u001b[1;33m     \u001b[1;32massert\u001b[0m \u001b[0mdiv\u001b[0m \u001b[1;33m!=\u001b[0m\u001b[1;36m0\u001b[0m\u001b[1;33m,\u001b[0m \u001b[1;34m\"O divisor não poder ser 0\"\u001b[0m\u001b[1;33m\u001b[0m\u001b[1;33m\u001b[0m\u001b[0m\n\u001b[0m\u001b[0;32m      4\u001b[0m     \u001b[1;32mreturn\u001b[0m \u001b[0mx\u001b[0m \u001b[1;33m%\u001b[0m \u001b[0mdiv\u001b[0m \u001b[1;33m==\u001b[0m \u001b[1;36m0\u001b[0m\u001b[1;33m\u001b[0m\u001b[1;33m\u001b[0m\u001b[0m\n",
      "\u001b[1;31mAssertionError\u001b[0m: O divisor não poder ser 0"
     ]
    }
   ],
   "source": [
    "divisivel(4, 0)"
   ]
  }
 ],
 "metadata": {
  "kernelspec": {
   "display_name": "Python 3 (ipykernel)",
   "language": "python",
   "name": "python3"
  },
  "language_info": {
   "codemirror_mode": {
    "name": "ipython",
    "version": 3
   },
   "file_extension": ".py",
   "mimetype": "text/x-python",
   "name": "python",
   "nbconvert_exporter": "python",
   "pygments_lexer": "ipython3",
   "version": "3.8.8"
  },
  "toc": {
   "base_numbering": 1,
   "nav_menu": {
    "height": "169.986px",
    "width": "277.997px"
   },
   "number_sections": true,
   "sideBar": true,
   "skip_h1_title": false,
   "title_cell": "Table of Contents",
   "title_sidebar": "Contents",
   "toc_cell": false,
   "toc_position": {
    "height": "calc(100% - 180px)",
    "left": "10px",
    "top": "150px",
    "width": "357.844px"
   },
   "toc_section_display": true,
   "toc_window_display": true
  },
  "varInspector": {
   "cols": {
    "lenName": 16,
    "lenType": 16,
    "lenVar": 40
   },
   "kernels_config": {
    "python": {
     "delete_cmd_postfix": "",
     "delete_cmd_prefix": "del ",
     "library": "var_list.py",
     "varRefreshCmd": "print(var_dic_list())"
    },
    "r": {
     "delete_cmd_postfix": ") ",
     "delete_cmd_prefix": "rm(",
     "library": "var_list.r",
     "varRefreshCmd": "cat(var_dic_list()) "
    }
   },
   "types_to_exclude": [
    "module",
    "function",
    "builtin_function_or_method",
    "instance",
    "_Feature"
   ],
   "window_display": false
  }
 },
 "nbformat": 4,
 "nbformat_minor": 5
}
