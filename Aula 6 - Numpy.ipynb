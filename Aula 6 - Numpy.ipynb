{
 "cells": [
  {
   "cell_type": "markdown",
   "id": "88561acf",
   "metadata": {},
   "source": [
    "<strong><font size = \"4\" color = \"black\">Introdução à Ciência de Dados</font></strong><br>\n",
    "<font size = \"3\" color = \"gray\">Prof. Valter Moreno</font><br>\n",
    "<font size = \"3\" color = \"gray\">2022</font><br>  "
   ]
  },
  {
   "cell_type": "markdown",
   "id": "92c2c25c",
   "metadata": {},
   "source": [
    "<hr style=\"border:0.1px solid gray\"> </hr>\n",
    "<font size = \"5\" color = \"black\">Introdução ao Python</font><p>\n",
    "<font size = \"5\" color = \"black\">Aula 6: Numpy</font>\n",
    "<hr style=\"border:0.1px solid gray\"> </hr>"
   ]
  },
  {
   "cell_type": "markdown",
   "id": "339816d4",
   "metadata": {},
   "source": [
    "`numpy` é um pacote criado para facilitar a manipulação de *arrays* n-dimensionais com o Python. *Arrays* são similares a listas, ou listas de listas, organizadas em eixos (*axis*) ou dimensões. Um *array* unidimensional equivale a um vetor com um ou mais elementos. Um *array* bidimensional, equivale a uma matriz. *Arrays* com mais de duas dimensões correspondem a cubos ou hipercubos.\n",
    "\n",
    "**Atenção**: Todos os elementos de um *array* devem ser de um mesmo tipo. \n",
    "\n",
    "O `numpy` implementa operações com *arrays* de forma muito rápida, inclusive as definidas em Álgebra Linear. Ele é a base de vários outros pacotes, inclusive o `pandas`. \n",
    "\n",
    "Seguem referências que tratam da implementação de operações de Álgebra Linear no `numpy`:\n",
    "\n",
    " - [Álgebra Linear com NumPy](https://dadosaocubo.com/algebra-linear-com-numpy/)\n",
    " - [Numpy | Linear Algebra](https://www.geeksforgeeks.org/numpy-linear-algebra/)\n",
    " - [Linear algebra (numpy.linalg)](https://numpy.org/doc/stable/reference/routines.linalg.html#module-numpy.linalg)\n",
    " \n",
    "A página [NumPy tutorials](https://numpy.org/numpy-tutorials/) contém vários exemplos de como o `numpy` pode ser aplicado a problemas práticos em Data Science. Nesta aula, trataremos apenas da criação de arrays, da seleção de seus elementos, e de operações matemáticas básicas."
   ]
  },
  {
   "cell_type": "markdown",
   "id": "6adee2a6",
   "metadata": {},
   "source": [
    "# Criação de *arrays*"
   ]
  },
  {
   "cell_type": "markdown",
   "id": "959b352c",
   "metadata": {},
   "source": [
    "*Arrays* podem ser criados com base em listas e tuplas, ou com algumas funções do pacote `numpy`."
   ]
  },
  {
   "cell_type": "code",
   "execution_count": 1,
   "id": "73dc9636",
   "metadata": {},
   "outputs": [],
   "source": [
    "import numpy as np"
   ]
  },
  {
   "cell_type": "code",
   "execution_count": 2,
   "id": "99dba061",
   "metadata": {},
   "outputs": [
    {
     "data": {
      "text/plain": [
       "(1, 2, 3, 4)"
      ]
     },
     "execution_count": 2,
     "metadata": {},
     "output_type": "execute_result"
    }
   ],
   "source": [
    "tupla = (1, 2, 3, 4)\n",
    "tupla"
   ]
  },
  {
   "cell_type": "code",
   "execution_count": 3,
   "id": "d77661f7",
   "metadata": {
    "scrolled": true
   },
   "outputs": [
    {
     "name": "stdout",
     "output_type": "stream",
     "text": [
      "Tipo do objeto: <class 'numpy.ndarray'>\n",
      "Objeto: [1 2 3 4]\n"
     ]
    }
   ],
   "source": [
    "vetor = np.array(tupla)\n",
    "print(\"Tipo do objeto:\", type(vetor))\n",
    "print(f\"Objeto:\", vetor)"
   ]
  },
  {
   "cell_type": "code",
   "execution_count": 4,
   "id": "3e19b5ad",
   "metadata": {},
   "outputs": [
    {
     "data": {
      "text/plain": [
       "[[1, 2, 3], [4, 5, 6], [7, 8, 9], [10, 11, 12]]"
      ]
     },
     "execution_count": 4,
     "metadata": {},
     "output_type": "execute_result"
    }
   ],
   "source": [
    "lista = [[1, 2, 3],\n",
    "         [4, 5, 6],\n",
    "         [7, 8, 9],\n",
    "         [10, 11, 12]]\n",
    "lista"
   ]
  },
  {
   "cell_type": "code",
   "execution_count": 5,
   "id": "5691aa81",
   "metadata": {
    "scrolled": true
   },
   "outputs": [
    {
     "name": "stdout",
     "output_type": "stream",
     "text": [
      "Tipo do objeto: <class 'numpy.ndarray'>\n",
      "Objeto:\n",
      "[[ 1  2  3]\n",
      " [ 4  5  6]\n",
      " [ 7  8  9]\n",
      " [10 11 12]]\n"
     ]
    }
   ],
   "source": [
    "matriz = np.array(lista)\n",
    "print(\"Tipo do objeto:\", type(matriz))\n",
    "print(\"Objeto:\")\n",
    "print(matriz)"
   ]
  },
  {
   "cell_type": "code",
   "execution_count": 6,
   "id": "2909b93c",
   "metadata": {},
   "outputs": [
    {
     "data": {
      "text/plain": [
       "array([[ 1,  2,  3],\n",
       "       [ 4,  5,  6],\n",
       "       [ 7,  8,  9],\n",
       "       [10, 11, 12]])"
      ]
     },
     "execution_count": 6,
     "metadata": {},
     "output_type": "execute_result"
    }
   ],
   "source": [
    "matriz  # Note que, quando não usamos a função print(), os dados são precedidos por \"array\" \n",
    "        # e colocados entre parênteses"
   ]
  },
  {
   "cell_type": "markdown",
   "id": "57d99acc",
   "metadata": {},
   "source": [
    "Vamos criar um *array* tridimensional, similar a um cubo."
   ]
  },
  {
   "cell_type": "code",
   "execution_count": 7,
   "id": "7eafda4d",
   "metadata": {},
   "outputs": [
    {
     "data": {
      "text/plain": [
       "[[[1, 2], [3, 4]], [[5, 6], [7, 8]], [[9, 10], [11, 12]]]"
      ]
     },
     "execution_count": 7,
     "metadata": {},
     "output_type": "execute_result"
    }
   ],
   "source": [
    "cubo = [[[1, 2], [3, 4]],\n",
    "        [[5, 6], [7, 8]],\n",
    "        [[9, 10], [11, 12]]]\n",
    "cubo"
   ]
  },
  {
   "cell_type": "code",
   "execution_count": 8,
   "id": "77597820",
   "metadata": {},
   "outputs": [
    {
     "data": {
      "text/plain": [
       "array([[[ 1,  2],\n",
       "        [ 3,  4]],\n",
       "\n",
       "       [[ 5,  6],\n",
       "        [ 7,  8]],\n",
       "\n",
       "       [[ 9, 10],\n",
       "        [11, 12]]])"
      ]
     },
     "execution_count": 8,
     "metadata": {},
     "output_type": "execute_result"
    }
   ],
   "source": [
    "arr_3d = np.array(cubo)\n",
    "arr_3d"
   ]
  },
  {
   "cell_type": "markdown",
   "id": "8075a084",
   "metadata": {},
   "source": [
    "`numpy` inclui um grande número de métodos e atributos para objetos do tipo *array*, como os mostrados a seguir. Para mais informações, veja a página [The N-dimensional array (ndarray)](https://numpy.org/doc/stable/reference/arrays.ndarray.html)."
   ]
  },
  {
   "cell_type": "code",
   "execution_count": 9,
   "id": "43b73aca",
   "metadata": {},
   "outputs": [
    {
     "data": {
      "text/plain": [
       "['T',\n",
       " '__abs__',\n",
       " '__add__',\n",
       " '__and__',\n",
       " '__array__',\n",
       " '__array_finalize__',\n",
       " '__array_function__',\n",
       " '__array_interface__',\n",
       " '__array_prepare__',\n",
       " '__array_priority__',\n",
       " '__array_struct__',\n",
       " '__array_ufunc__',\n",
       " '__array_wrap__',\n",
       " '__bool__',\n",
       " '__class__',\n",
       " '__complex__',\n",
       " '__contains__',\n",
       " '__copy__',\n",
       " '__deepcopy__',\n",
       " '__delattr__',\n",
       " '__delitem__',\n",
       " '__dir__',\n",
       " '__divmod__',\n",
       " '__doc__',\n",
       " '__eq__',\n",
       " '__float__',\n",
       " '__floordiv__',\n",
       " '__format__',\n",
       " '__ge__',\n",
       " '__getattribute__',\n",
       " '__getitem__',\n",
       " '__gt__',\n",
       " '__hash__',\n",
       " '__iadd__',\n",
       " '__iand__',\n",
       " '__ifloordiv__',\n",
       " '__ilshift__',\n",
       " '__imatmul__',\n",
       " '__imod__',\n",
       " '__imul__',\n",
       " '__index__',\n",
       " '__init__',\n",
       " '__init_subclass__',\n",
       " '__int__',\n",
       " '__invert__',\n",
       " '__ior__',\n",
       " '__ipow__',\n",
       " '__irshift__',\n",
       " '__isub__',\n",
       " '__iter__',\n",
       " '__itruediv__',\n",
       " '__ixor__',\n",
       " '__le__',\n",
       " '__len__',\n",
       " '__lshift__',\n",
       " '__lt__',\n",
       " '__matmul__',\n",
       " '__mod__',\n",
       " '__mul__',\n",
       " '__ne__',\n",
       " '__neg__',\n",
       " '__new__',\n",
       " '__or__',\n",
       " '__pos__',\n",
       " '__pow__',\n",
       " '__radd__',\n",
       " '__rand__',\n",
       " '__rdivmod__',\n",
       " '__reduce__',\n",
       " '__reduce_ex__',\n",
       " '__repr__',\n",
       " '__rfloordiv__',\n",
       " '__rlshift__',\n",
       " '__rmatmul__',\n",
       " '__rmod__',\n",
       " '__rmul__',\n",
       " '__ror__',\n",
       " '__rpow__',\n",
       " '__rrshift__',\n",
       " '__rshift__',\n",
       " '__rsub__',\n",
       " '__rtruediv__',\n",
       " '__rxor__',\n",
       " '__setattr__',\n",
       " '__setitem__',\n",
       " '__setstate__',\n",
       " '__sizeof__',\n",
       " '__str__',\n",
       " '__sub__',\n",
       " '__subclasshook__',\n",
       " '__truediv__',\n",
       " '__xor__',\n",
       " 'all',\n",
       " 'any',\n",
       " 'argmax',\n",
       " 'argmin',\n",
       " 'argpartition',\n",
       " 'argsort',\n",
       " 'astype',\n",
       " 'base',\n",
       " 'byteswap',\n",
       " 'choose',\n",
       " 'clip',\n",
       " 'compress',\n",
       " 'conj',\n",
       " 'conjugate',\n",
       " 'copy',\n",
       " 'ctypes',\n",
       " 'cumprod',\n",
       " 'cumsum',\n",
       " 'data',\n",
       " 'diagonal',\n",
       " 'dot',\n",
       " 'dtype',\n",
       " 'dump',\n",
       " 'dumps',\n",
       " 'fill',\n",
       " 'flags',\n",
       " 'flat',\n",
       " 'flatten',\n",
       " 'getfield',\n",
       " 'imag',\n",
       " 'item',\n",
       " 'itemset',\n",
       " 'itemsize',\n",
       " 'max',\n",
       " 'mean',\n",
       " 'min',\n",
       " 'nbytes',\n",
       " 'ndim',\n",
       " 'newbyteorder',\n",
       " 'nonzero',\n",
       " 'partition',\n",
       " 'prod',\n",
       " 'ptp',\n",
       " 'put',\n",
       " 'ravel',\n",
       " 'real',\n",
       " 'repeat',\n",
       " 'reshape',\n",
       " 'resize',\n",
       " 'round',\n",
       " 'searchsorted',\n",
       " 'setfield',\n",
       " 'setflags',\n",
       " 'shape',\n",
       " 'size',\n",
       " 'sort',\n",
       " 'squeeze',\n",
       " 'std',\n",
       " 'strides',\n",
       " 'sum',\n",
       " 'swapaxes',\n",
       " 'take',\n",
       " 'tobytes',\n",
       " 'tofile',\n",
       " 'tolist',\n",
       " 'tostring',\n",
       " 'trace',\n",
       " 'transpose',\n",
       " 'var',\n",
       " 'view']"
      ]
     },
     "execution_count": 9,
     "metadata": {},
     "output_type": "execute_result"
    }
   ],
   "source": [
    "dir(arr_3d)"
   ]
  },
  {
   "cell_type": "code",
   "execution_count": 10,
   "id": "3267d9eb",
   "metadata": {
    "scrolled": true
   },
   "outputs": [
    {
     "data": {
      "text/plain": [
       "(3, 2, 2)"
      ]
     },
     "execution_count": 10,
     "metadata": {},
     "output_type": "execute_result"
    }
   ],
   "source": [
    "arr_3d.shape  # número de elementos em cada eixo (ou dimensão)"
   ]
  },
  {
   "cell_type": "code",
   "execution_count": 11,
   "id": "7e8ceae9",
   "metadata": {},
   "outputs": [
    {
     "data": {
      "text/plain": [
       "3"
      ]
     },
     "execution_count": 11,
     "metadata": {},
     "output_type": "execute_result"
    }
   ],
   "source": [
    "arr_3d.ndim  # número de dimensões"
   ]
  },
  {
   "cell_type": "code",
   "execution_count": 12,
   "id": "81c0e09e",
   "metadata": {},
   "outputs": [
    {
     "data": {
      "text/plain": [
       "12"
      ]
     },
     "execution_count": 12,
     "metadata": {},
     "output_type": "execute_result"
    }
   ],
   "source": [
    "arr_3d.size  # número total de elementos"
   ]
  },
  {
   "cell_type": "code",
   "execution_count": 13,
   "id": "2b89910f",
   "metadata": {},
   "outputs": [
    {
     "data": {
      "text/plain": [
       "dtype('int32')"
      ]
     },
     "execution_count": 13,
     "metadata": {},
     "output_type": "execute_result"
    }
   ],
   "source": [
    "arr_3d.dtype  # tipo dos elementos do array"
   ]
  },
  {
   "cell_type": "markdown",
   "id": "ab2b5c22",
   "metadata": {},
   "source": [
    "Há funções específicas para a criação de *arrays* preenchidos com sequências, números aleatórios, ou valores fixos, como 0 e 1. Seguem alguns exemplos."
   ]
  },
  {
   "cell_type": "code",
   "execution_count": 14,
   "id": "3798b1d5",
   "metadata": {},
   "outputs": [
    {
     "data": {
      "text/plain": [
       "array([10, 12, 14, 16, 18])"
      ]
     },
     "execution_count": 14,
     "metadata": {},
     "output_type": "execute_result"
    }
   ],
   "source": [
    "np.arange(10, 20, 2)  # sequência com incremento 2 entre 10 (inclusive) e 20 (exclusive)"
   ]
  },
  {
   "cell_type": "code",
   "execution_count": 15,
   "id": "8ac05aab",
   "metadata": {},
   "outputs": [
    {
     "data": {
      "text/plain": [
       "array([10. , 12.5, 15. , 17.5, 20. ])"
      ]
     },
     "execution_count": 15,
     "metadata": {},
     "output_type": "execute_result"
    }
   ],
   "source": [
    "np.linspace(10, 20, 5)  # 5 números igualmente espaçados entre 10 e 20"
   ]
  },
  {
   "cell_type": "code",
   "execution_count": 16,
   "id": "de7731fc",
   "metadata": {},
   "outputs": [
    {
     "data": {
      "text/plain": [
       "array([[[0, 0],\n",
       "        [0, 0]],\n",
       "\n",
       "       [[0, 0],\n",
       "        [0, 0]],\n",
       "\n",
       "       [[0, 0],\n",
       "        [0, 0]]])"
      ]
     },
     "execution_count": 16,
     "metadata": {},
     "output_type": "execute_result"
    }
   ],
   "source": [
    "np.empty(shape = (3, 2, 2), dtype = \"int32\")  # array arbitrariamente preenchida com inteiros"
   ]
  },
  {
   "cell_type": "code",
   "execution_count": 17,
   "id": "b44330c7",
   "metadata": {},
   "outputs": [
    {
     "data": {
      "text/plain": [
       "array([[1, 0, 0],\n",
       "       [0, 1, 0],\n",
       "       [0, 0, 1]])"
      ]
     },
     "execution_count": 17,
     "metadata": {},
     "output_type": "execute_result"
    }
   ],
   "source": [
    "np.identity(3, dtype = \"int32\")  # matriz identidade com números inteiros"
   ]
  },
  {
   "cell_type": "code",
   "execution_count": 18,
   "id": "ff563be1",
   "metadata": {},
   "outputs": [
    {
     "data": {
      "text/plain": [
       "array([[1., 1., 1.],\n",
       "       [1., 1., 1.]])"
      ]
     },
     "execution_count": 18,
     "metadata": {},
     "output_type": "execute_result"
    }
   ],
   "source": [
    "np.ones(shape = (2,3))  # array preenchida com 1.0"
   ]
  },
  {
   "cell_type": "code",
   "execution_count": 19,
   "id": "0dd395d5",
   "metadata": {
    "scrolled": true
   },
   "outputs": [
    {
     "data": {
      "text/plain": [
       "array([0., 0., 0.])"
      ]
     },
     "execution_count": 19,
     "metadata": {},
     "output_type": "execute_result"
    }
   ],
   "source": [
    "np.zeros(shape = 3)  # array preenchida com 0.0"
   ]
  },
  {
   "cell_type": "code",
   "execution_count": 20,
   "id": "1266da07",
   "metadata": {},
   "outputs": [
    {
     "data": {
      "text/plain": [
       "array([[0.5, 0.5, 0.5],\n",
       "       [0.5, 0.5, 0.5],\n",
       "       [0.5, 0.5, 0.5]])"
      ]
     },
     "execution_count": 20,
     "metadata": {},
     "output_type": "execute_result"
    }
   ],
   "source": [
    "np.full(shape = (3, 3), fill_value = .5)  # array preenchida com um dado valor"
   ]
  },
  {
   "cell_type": "code",
   "execution_count": 21,
   "id": "65eab0ab",
   "metadata": {
    "scrolled": true
   },
   "outputs": [
    {
     "data": {
      "text/plain": [
       "array([0., 1., 2., 3., 4., 5., 6., 7., 8., 9.])"
      ]
     },
     "execution_count": 21,
     "metadata": {},
     "output_type": "execute_result"
    }
   ],
   "source": [
    "np.fromiter(range(10), dtype = \"float\")  # vetor gerado com um objeto iterável"
   ]
  },
  {
   "cell_type": "code",
   "execution_count": 22,
   "id": "d57e9507",
   "metadata": {
    "scrolled": true
   },
   "outputs": [
    {
     "data": {
      "text/plain": [
       "array([[0.12066829, 0.83063799, 0.85451041, 0.29000067, 0.82337459],\n",
       "       [0.22936889, 0.72742741, 0.81124407, 0.44659743, 0.94984811],\n",
       "       [0.77918927, 0.89527127, 0.00748401, 0.2854897 , 0.47189195]])"
      ]
     },
     "execution_count": 22,
     "metadata": {},
     "output_type": "execute_result"
    }
   ],
   "source": [
    "np.random.rand(3, 5)  # array preenchida com números aleatórios entre 0.0 e 1.0"
   ]
  },
  {
   "cell_type": "code",
   "execution_count": 23,
   "id": "46d1b0f2",
   "metadata": {},
   "outputs": [
    {
     "data": {
      "text/plain": [
       "array([[8, 5, 5],\n",
       "       [5, 7, 7],\n",
       "       [9, 8, 8]])"
      ]
     },
     "execution_count": 23,
     "metadata": {},
     "output_type": "execute_result"
    }
   ],
   "source": [
    "np.random.randint(low = 5, high = 10, size = (3, 3))  # array de números inteiros aleatórios entre\n",
    "                                                      # low (inclusive) e high (exclusive) "
   ]
  },
  {
   "cell_type": "code",
   "execution_count": 24,
   "id": "962d06bd",
   "metadata": {},
   "outputs": [
    {
     "data": {
      "text/plain": [
       "array([[-0.60506434, -0.52382872, -0.76272605],\n",
       "       [-1.66265331,  1.38014294, -0.81981523]])"
      ]
     },
     "execution_count": 24,
     "metadata": {},
     "output_type": "execute_result"
    }
   ],
   "source": [
    "np.random.randn(2, 3)  # array de números gerados com uma distribuição normal padrão"
   ]
  },
  {
   "cell_type": "markdown",
   "id": "f8b14d7e",
   "metadata": {},
   "source": [
    "*Arrays* podem ser reformatados, ou seja, terem seus elementos redistribuídos num outro número de eixos."
   ]
  },
  {
   "cell_type": "code",
   "execution_count": 25,
   "id": "ca4ff3d8",
   "metadata": {
    "scrolled": true
   },
   "outputs": [
    {
     "data": {
      "text/plain": [
       "array([ 1.,  2.,  3.,  4.,  5.,  6.,  7.,  8.,  9., 10., 11., 12., 13.,\n",
       "       14., 15., 16., 17., 18., 19., 20., 21., 22., 23., 24.])"
      ]
     },
     "execution_count": 25,
     "metadata": {},
     "output_type": "execute_result"
    }
   ],
   "source": [
    "vetor = np.fromiter(range(1, 25), dtype = \"float\")\n",
    "vetor"
   ]
  },
  {
   "cell_type": "code",
   "execution_count": 26,
   "id": "22e2430a",
   "metadata": {},
   "outputs": [
    {
     "data": {
      "text/plain": [
       "array([[ 1.,  2.,  3.,  4.,  5.,  6.],\n",
       "       [ 7.,  8.,  9., 10., 11., 12.],\n",
       "       [13., 14., 15., 16., 17., 18.],\n",
       "       [19., 20., 21., 22., 23., 24.]])"
      ]
     },
     "execution_count": 26,
     "metadata": {},
     "output_type": "execute_result"
    }
   ],
   "source": [
    "vetor.reshape((4, 6))"
   ]
  },
  {
   "cell_type": "code",
   "execution_count": 27,
   "id": "b538ad87",
   "metadata": {},
   "outputs": [
    {
     "data": {
      "text/plain": [
       "array([[ 1.,  7., 13., 19.],\n",
       "       [ 2.,  8., 14., 20.],\n",
       "       [ 3.,  9., 15., 21.],\n",
       "       [ 4., 10., 16., 22.],\n",
       "       [ 5., 11., 17., 23.],\n",
       "       [ 6., 12., 18., 24.]])"
      ]
     },
     "execution_count": 27,
     "metadata": {},
     "output_type": "execute_result"
    }
   ],
   "source": [
    "matriz = np.reshape(vetor, newshape = (6, 4), order = 'F')\n",
    "matriz"
   ]
  },
  {
   "cell_type": "code",
   "execution_count": 28,
   "id": "03d4346d",
   "metadata": {},
   "outputs": [
    {
     "data": {
      "text/plain": [
       "array([[ 1.,  2.,  3.,  4.,  5.,  6.],\n",
       "       [ 7.,  8.,  9., 10., 11., 12.],\n",
       "       [13., 14., 15., 16., 17., 18.],\n",
       "       [19., 20., 21., 22., 23., 24.]])"
      ]
     },
     "execution_count": 28,
     "metadata": {},
     "output_type": "execute_result"
    }
   ],
   "source": [
    "matriz = np.reshape(vetor, newshape = (4, 6), order = 'C')\n",
    "matriz"
   ]
  },
  {
   "cell_type": "markdown",
   "id": "ef8c2516",
   "metadata": {},
   "source": [
    "Note a diferença dos resultados gerados com os valores 'C' e 'F' para o argumento `order`. Se necessário, consulte a documentação da função para entender como o resultado abaixo foi gerado ([numpy.reshape](https://numpy.org/doc/stable/reference/generated/numpy.reshape.html))."
   ]
  },
  {
   "cell_type": "code",
   "execution_count": 29,
   "id": "26927d66",
   "metadata": {
    "scrolled": true
   },
   "outputs": [
    {
     "data": {
      "text/plain": [
       "array([[[ 1., 14.,  4., 17.],\n",
       "        [13.,  3., 16.,  6.],\n",
       "        [ 2., 15.,  5., 18.]],\n",
       "\n",
       "       [[ 7., 20., 10., 23.],\n",
       "        [19.,  9., 22., 12.],\n",
       "        [ 8., 21., 11., 24.]]])"
      ]
     },
     "execution_count": 29,
     "metadata": {},
     "output_type": "execute_result"
    }
   ],
   "source": [
    "np.reshape(matriz, newshape = (2, 3, 4), order = 'F')"
   ]
  },
  {
   "cell_type": "markdown",
   "id": "5b6e615a",
   "metadata": {},
   "source": [
    "# Operações básicas"
   ]
  },
  {
   "cell_type": "markdown",
   "id": "124ad730",
   "metadata": {},
   "source": [
    "Nos exemplos abaixo, tratamos apenas de operações aplicadas elemento a elemento de um *array*. O pacote `numpy.linalg` contém funções que implementam operações de Álgebra Linear."
   ]
  },
  {
   "cell_type": "code",
   "execution_count": 30,
   "id": "b9491dec",
   "metadata": {},
   "outputs": [
    {
     "name": "stdout",
     "output_type": "stream",
     "text": [
      "[[9 7 1]\n",
      " [8 8 6]]\n"
     ]
    }
   ],
   "source": [
    "matriz = np.random.randint(1, 11, (2, 3))\n",
    "print(matriz)"
   ]
  },
  {
   "cell_type": "markdown",
   "id": "54cb8a1d",
   "metadata": {},
   "source": [
    "## Operações com escalares"
   ]
  },
  {
   "cell_type": "code",
   "execution_count": 31,
   "id": "6b1bdd11",
   "metadata": {},
   "outputs": [
    {
     "data": {
      "text/plain": [
       "array([[45, 35,  5],\n",
       "       [40, 40, 30]])"
      ]
     },
     "execution_count": 31,
     "metadata": {},
     "output_type": "execute_result"
    }
   ],
   "source": [
    "5 * matriz"
   ]
  },
  {
   "cell_type": "code",
   "execution_count": 32,
   "id": "5583de5c",
   "metadata": {},
   "outputs": [
    {
     "data": {
      "text/plain": [
       "array([[0.9, 0.7, 0.1],\n",
       "       [0.8, 0.8, 0.6]])"
      ]
     },
     "execution_count": 32,
     "metadata": {},
     "output_type": "execute_result"
    }
   ],
   "source": [
    "matriz / 10"
   ]
  },
  {
   "cell_type": "code",
   "execution_count": 33,
   "id": "e6e93f09",
   "metadata": {},
   "outputs": [
    {
     "data": {
      "text/plain": [
       "array([[81, 49,  1],\n",
       "       [64, 64, 36]], dtype=int32)"
      ]
     },
     "execution_count": 33,
     "metadata": {},
     "output_type": "execute_result"
    }
   ],
   "source": [
    "matriz ** 2"
   ]
  },
  {
   "cell_type": "markdown",
   "id": "4ecb3edf",
   "metadata": {},
   "source": [
    "## Funções vetorizadas"
   ]
  },
  {
   "cell_type": "markdown",
   "id": "9746d26d",
   "metadata": {},
   "source": [
    "`numpy` inclui mais de 60 funções universais (*ufuncs*) que são aplicadas a *arrays* elemento a elemento. Esse processo é chamado de **vetorização**. Mais informações podem ser obtidas nestas páginas:\n",
    "\n",
    " - [NumPy ufuncs](https://www.w3schools.com/python/numpy/numpy_ufunc.asp)\n",
    " - [Universal functions (ufunc)](https://numpy.org/doc/stable/reference/ufuncs.html)"
   ]
  },
  {
   "cell_type": "code",
   "execution_count": 34,
   "id": "c1b95d31",
   "metadata": {},
   "outputs": [
    {
     "name": "stdout",
     "output_type": "stream",
     "text": [
      "[[9 7 1]\n",
      " [8 8 6]]\n"
     ]
    }
   ],
   "source": [
    "print(matriz)"
   ]
  },
  {
   "cell_type": "code",
   "execution_count": 35,
   "id": "79a20639",
   "metadata": {},
   "outputs": [
    {
     "data": {
      "text/plain": [
       "array([[2.19722458, 1.94591015, 0.        ],\n",
       "       [2.07944154, 2.07944154, 1.79175947]])"
      ]
     },
     "execution_count": 35,
     "metadata": {},
     "output_type": "execute_result"
    }
   ],
   "source": [
    "np.log(matriz)"
   ]
  },
  {
   "cell_type": "code",
   "execution_count": 36,
   "id": "f6aeb8ce",
   "metadata": {
    "scrolled": true
   },
   "outputs": [
    {
     "data": {
      "text/plain": [
       "array([[3.        , 2.64575131, 1.        ],\n",
       "       [2.82842712, 2.82842712, 2.44948974]])"
      ]
     },
     "execution_count": 36,
     "metadata": {},
     "output_type": "execute_result"
    }
   ],
   "source": [
    "np.sqrt(matriz)"
   ]
  },
  {
   "cell_type": "code",
   "execution_count": 37,
   "id": "9a2dfd09",
   "metadata": {},
   "outputs": [
    {
     "name": "stdout",
     "output_type": "stream",
     "text": [
      "A média dos números na matriz é 6.500, e o desvio padrão, 2.630.\n"
     ]
    }
   ],
   "source": [
    "print(f\"A média dos números na matriz é {matriz.mean():.3f}, e o desvio padrão, {matriz.std():.3f}.\")"
   ]
  },
  {
   "cell_type": "markdown",
   "id": "8b0c2eca",
   "metadata": {},
   "source": [
    "`argmax` e `argmin` retornam as posições do valor máximo e mínimo num *array* que é convertido em um vetor."
   ]
  },
  {
   "cell_type": "code",
   "execution_count": 38,
   "id": "91c45027",
   "metadata": {
    "scrolled": false
   },
   "outputs": [
    {
     "name": "stdout",
     "output_type": "stream",
     "text": [
      "O valor máximo da matriz é 9 e está na posição 0\n",
      "O valor mínimo da matriz é 1 e está na posição 2\n"
     ]
    }
   ],
   "source": [
    "print(f\"O valor máximo da matriz é {matriz.max()} e está na posição {matriz.argmax()}\")\n",
    "print(f\"O valor mínimo da matriz é {matriz.min()} e está na posição {matriz.argmin()}\")"
   ]
  },
  {
   "cell_type": "markdown",
   "id": "ec1d83a3",
   "metadata": {},
   "source": [
    "Para obter a posição considerando os eixos do *array*, precisamos usar a função `unravel_index`."
   ]
  },
  {
   "cell_type": "code",
   "execution_count": 39,
   "id": "e1956298",
   "metadata": {},
   "outputs": [
    {
     "name": "stdout",
     "output_type": "stream",
     "text": [
      "[[9 7 1]\n",
      " [8 8 6]]\n",
      "\n",
      "O valor máximo da matriz é 9 e está na posição (0, 0)\n"
     ]
    }
   ],
   "source": [
    "print(matriz)\n",
    "print()\n",
    "print(f\"O valor máximo da matriz é {matriz.max()} e está na posição {np.unravel_index(matriz.argmax(), matriz.shape)}\")"
   ]
  },
  {
   "cell_type": "markdown",
   "id": "bfecc9a7",
   "metadata": {},
   "source": [
    "Diversas funções e operadores recebem mais de um *array* como argumentos."
   ]
  },
  {
   "cell_type": "code",
   "execution_count": 40,
   "id": "6b3c1d68",
   "metadata": {},
   "outputs": [
    {
     "name": "stdout",
     "output_type": "stream",
     "text": [
      "Matriz 1:\n",
      " [[4 4]\n",
      " [3 5]] \n",
      "\n",
      "Matriz 2:\n",
      " [[5 5]\n",
      " [4 1]]\n"
     ]
    }
   ],
   "source": [
    "arr1 = np.random.randint(1, 6, (2, 2))\n",
    "arr2 = np.random.randint(1, 6, (2, 2))\n",
    "print(\"Matriz 1:\\n\", arr1, \"\\n\")\n",
    "print(\"Matriz 2:\\n\", arr2)"
   ]
  },
  {
   "cell_type": "code",
   "execution_count": 41,
   "id": "c27da45c",
   "metadata": {},
   "outputs": [
    {
     "data": {
      "text/plain": [
       "array([[9, 9],\n",
       "       [7, 6]])"
      ]
     },
     "execution_count": 41,
     "metadata": {},
     "output_type": "execute_result"
    }
   ],
   "source": [
    "arr1 + arr2"
   ]
  },
  {
   "cell_type": "code",
   "execution_count": 42,
   "id": "6e2d684e",
   "metadata": {},
   "outputs": [
    {
     "data": {
      "text/plain": [
       "array([[0.8 , 0.8 ],\n",
       "       [0.75, 5.  ]])"
      ]
     },
     "execution_count": 42,
     "metadata": {},
     "output_type": "execute_result"
    }
   ],
   "source": [
    "arr1 / arr2"
   ]
  },
  {
   "cell_type": "code",
   "execution_count": 43,
   "id": "1979b19b",
   "metadata": {},
   "outputs": [
    {
     "data": {
      "text/plain": [
       "array([[4, 4],\n",
       "       [3, 0]], dtype=int32)"
      ]
     },
     "execution_count": 43,
     "metadata": {},
     "output_type": "execute_result"
    }
   ],
   "source": [
    "arr1 % arr2"
   ]
  },
  {
   "cell_type": "code",
   "execution_count": 44,
   "id": "ca8a37ce",
   "metadata": {},
   "outputs": [
    {
     "data": {
      "text/plain": [
       "array([[1024, 1024],\n",
       "       [  81,    5]], dtype=int32)"
      ]
     },
     "execution_count": 44,
     "metadata": {},
     "output_type": "execute_result"
    }
   ],
   "source": [
    "arr1 ** arr2"
   ]
  },
  {
   "cell_type": "code",
   "execution_count": 45,
   "id": "fb75ade9",
   "metadata": {},
   "outputs": [
    {
     "data": {
      "text/plain": [
       "array([[1., 0.],\n",
       "       [0., 1.]])"
      ]
     },
     "execution_count": 45,
     "metadata": {},
     "output_type": "execute_result"
    }
   ],
   "source": [
    "ident = np.identity(2)\n",
    "ident"
   ]
  },
  {
   "cell_type": "markdown",
   "id": "3edb0b34",
   "metadata": {},
   "source": [
    "`numpy` não gera erros para divisões por zero ou resultados indefidos, e sim avisos (*warnings*). O pacote inclui constantes para representar infinito e números não definidos."
   ]
  },
  {
   "cell_type": "code",
   "execution_count": 46,
   "id": "01f8bee4",
   "metadata": {
    "scrolled": true
   },
   "outputs": [
    {
     "name": "stderr",
     "output_type": "stream",
     "text": [
      "C:\\Users\\valte\\AppData\\Local\\Temp/ipykernel_11280/2701738224.py:1: RuntimeWarning: divide by zero encountered in true_divide\n",
      "  arr1 / ident\n"
     ]
    },
    {
     "data": {
      "text/plain": [
       "array([[ 4., inf],\n",
       "       [inf,  5.]])"
      ]
     },
     "execution_count": 46,
     "metadata": {},
     "output_type": "execute_result"
    }
   ],
   "source": [
    "arr1 / ident"
   ]
  },
  {
   "cell_type": "code",
   "execution_count": 47,
   "id": "ba30c0b1",
   "metadata": {},
   "outputs": [
    {
     "name": "stderr",
     "output_type": "stream",
     "text": [
      "C:\\Users\\valte\\AppData\\Local\\Temp/ipykernel_11280/2799486520.py:1: RuntimeWarning: divide by zero encountered in true_divide\n",
      "  (arr1 / ident) - arr2\n"
     ]
    },
    {
     "data": {
      "text/plain": [
       "array([[-1., inf],\n",
       "       [inf,  4.]])"
      ]
     },
     "execution_count": 47,
     "metadata": {},
     "output_type": "execute_result"
    }
   ],
   "source": [
    "(arr1 / ident) - arr2"
   ]
  },
  {
   "cell_type": "code",
   "execution_count": 48,
   "id": "9024548d",
   "metadata": {},
   "outputs": [
    {
     "name": "stderr",
     "output_type": "stream",
     "text": [
      "C:\\Users\\valte\\AppData\\Local\\Temp/ipykernel_11280/1340840359.py:1: RuntimeWarning: invalid value encountered in true_divide\n",
      "  ident / ident\n"
     ]
    },
    {
     "data": {
      "text/plain": [
       "array([[ 1., nan],\n",
       "       [nan,  1.]])"
      ]
     },
     "execution_count": 48,
     "metadata": {},
     "output_type": "execute_result"
    }
   ],
   "source": [
    "ident / ident"
   ]
  },
  {
   "cell_type": "code",
   "execution_count": 49,
   "id": "cd291873",
   "metadata": {},
   "outputs": [
    {
     "name": "stderr",
     "output_type": "stream",
     "text": [
      "C:\\Users\\valte\\AppData\\Local\\Temp/ipykernel_11280/790191664.py:1: RuntimeWarning: invalid value encountered in true_divide\n",
      "  (ident / ident) + arr1\n"
     ]
    },
    {
     "data": {
      "text/plain": [
       "array([[ 5., nan],\n",
       "       [nan,  6.]])"
      ]
     },
     "execution_count": 49,
     "metadata": {},
     "output_type": "execute_result"
    }
   ],
   "source": [
    "(ident / ident) + arr1"
   ]
  },
  {
   "cell_type": "markdown",
   "id": "8516b0ce",
   "metadata": {},
   "source": [
    "# Seleção"
   ]
  },
  {
   "cell_type": "markdown",
   "id": "862934e5",
   "metadata": {},
   "source": [
    "A seleção de elementos e partes de um *array* é feita de forma similar à que é feita em tuplas e listas."
   ]
  },
  {
   "cell_type": "code",
   "execution_count": 50,
   "id": "f05f862d",
   "metadata": {},
   "outputs": [
    {
     "data": {
      "text/plain": [
       "array([[[ 5,  6,  3,  1],\n",
       "        [ 2,  6,  4,  1],\n",
       "        [ 5,  9,  4,  7]],\n",
       "\n",
       "       [[ 7,  7,  8,  2],\n",
       "        [ 1,  8,  4,  6],\n",
       "        [ 2, 10,  7,  8]]])"
      ]
     },
     "execution_count": 50,
     "metadata": {},
     "output_type": "execute_result"
    }
   ],
   "source": [
    "matriz = np.random.randint(1, 11, (2, 3, 4))\n",
    "matriz"
   ]
  },
  {
   "cell_type": "code",
   "execution_count": 51,
   "id": "aed61cd3",
   "metadata": {},
   "outputs": [
    {
     "data": {
      "text/plain": [
       "4"
      ]
     },
     "execution_count": 51,
     "metadata": {},
     "output_type": "execute_result"
    }
   ],
   "source": [
    "matriz[0][1][2]"
   ]
  },
  {
   "cell_type": "code",
   "execution_count": 52,
   "id": "399f88be",
   "metadata": {
    "scrolled": true
   },
   "outputs": [
    {
     "data": {
      "text/plain": [
       "4"
      ]
     },
     "execution_count": 52,
     "metadata": {},
     "output_type": "execute_result"
    }
   ],
   "source": [
    "matriz[0, 1, 2]"
   ]
  },
  {
   "cell_type": "code",
   "execution_count": 53,
   "id": "e1cc3700",
   "metadata": {},
   "outputs": [
    {
     "data": {
      "text/plain": [
       "array([[[ 6,  4],\n",
       "        [ 9,  4]],\n",
       "\n",
       "       [[ 8,  4],\n",
       "        [10,  7]]])"
      ]
     },
     "execution_count": 53,
     "metadata": {},
     "output_type": "execute_result"
    }
   ],
   "source": [
    "matriz[:, 1:, 1:3]"
   ]
  },
  {
   "cell_type": "markdown",
   "id": "e5f825f1",
   "metadata": {},
   "source": [
    "Sequências de valores booleanos podem ser usados para selecionar elementos de um *array*. Dessa forma, é possível usar condições para selecionar elementos."
   ]
  },
  {
   "cell_type": "code",
   "execution_count": 54,
   "id": "620bba8d",
   "metadata": {},
   "outputs": [
    {
     "data": {
      "text/plain": [
       "array([[[ 5,  6,  3,  1],\n",
       "        [ 2,  6,  4,  1],\n",
       "        [ 5,  9,  4,  7]],\n",
       "\n",
       "       [[ 7,  7,  8,  2],\n",
       "        [ 1,  8,  4,  6],\n",
       "        [ 2, 10,  7,  8]]])"
      ]
     },
     "execution_count": 54,
     "metadata": {},
     "output_type": "execute_result"
    }
   ],
   "source": [
    "matriz"
   ]
  },
  {
   "cell_type": "code",
   "execution_count": 55,
   "id": "eb158c16",
   "metadata": {},
   "outputs": [
    {
     "data": {
      "text/plain": [
       "array([[[False,  True,  True, False],\n",
       "        [False,  True, False, False],\n",
       "        [False,  True, False, False]],\n",
       "\n",
       "       [[False, False, False, False],\n",
       "        [False, False, False,  True],\n",
       "        [False, False, False, False]]])"
      ]
     },
     "execution_count": 55,
     "metadata": {},
     "output_type": "execute_result"
    }
   ],
   "source": [
    "condição = matriz % 3 == 0\n",
    "condição"
   ]
  },
  {
   "cell_type": "code",
   "execution_count": 56,
   "id": "4691001e",
   "metadata": {},
   "outputs": [
    {
     "data": {
      "text/plain": [
       "array([6, 3, 6, 9, 6])"
      ]
     },
     "execution_count": 56,
     "metadata": {},
     "output_type": "execute_result"
    }
   ],
   "source": [
    "matriz[condição]  # Os elementos selecionados são retornados num vetor"
   ]
  },
  {
   "cell_type": "markdown",
   "id": "f110517c",
   "metadata": {},
   "source": [
    "# Alteração"
   ]
  },
  {
   "cell_type": "markdown",
   "id": "1b328da5",
   "metadata": {},
   "source": [
    "Pode-se alterar partes ou toda uma matriz, assim como em listas."
   ]
  },
  {
   "cell_type": "code",
   "execution_count": 57,
   "id": "801dd45f",
   "metadata": {},
   "outputs": [
    {
     "data": {
      "text/plain": [
       "array([[10.  , 11.11, 12.22, 13.33, 14.44],\n",
       "       [15.56, 16.67, 17.78, 18.89, 20.  ]])"
      ]
     },
     "execution_count": 57,
     "metadata": {},
     "output_type": "execute_result"
    }
   ],
   "source": [
    "matriz1 = np.linspace(10, 20, 10).reshape(2, 5).round(2)  # Usamos o método round para reduzir as casas decimais\n",
    "matriz1"
   ]
  },
  {
   "cell_type": "code",
   "execution_count": 58,
   "id": "4df74643",
   "metadata": {},
   "outputs": [
    {
     "data": {
      "text/plain": [
       "array([[-1.  , 11.11, 12.22, 13.33, 14.44],\n",
       "       [15.56, 16.67, 17.78, 18.89, 20.  ]])"
      ]
     },
     "execution_count": 58,
     "metadata": {},
     "output_type": "execute_result"
    }
   ],
   "source": [
    "matriz1[0, 0] = -1\n",
    "matriz1"
   ]
  },
  {
   "cell_type": "code",
   "execution_count": 59,
   "id": "5796c2b9",
   "metadata": {},
   "outputs": [
    {
     "data": {
      "text/plain": [
       "array([[ 1,  2,  3],\n",
       "       [ 4,  5,  6],\n",
       "       [ 7,  8,  9],\n",
       "       [10, 11, 12]])"
      ]
     },
     "execution_count": 59,
     "metadata": {},
     "output_type": "execute_result"
    }
   ],
   "source": [
    "matriz1 = np.array([[1, 2, 3],\n",
    "                    [4, 5, 6],\n",
    "                    [7, 8, 9],\n",
    "                    [10, 11, 12]])\n",
    "matriz1"
   ]
  },
  {
   "cell_type": "markdown",
   "id": "95e736e1",
   "metadata": {},
   "source": [
    "Assim como em listas, quando atribuímos uma variável que contém um *array* a outra variável, ambas passam a fazer referência ao mesmo conjunto de dados guardados na memória do computador. Isso é chamado ***aliasing*** em Python."
   ]
  },
  {
   "cell_type": "code",
   "execution_count": 60,
   "id": "ff50308c",
   "metadata": {},
   "outputs": [
    {
     "data": {
      "text/plain": [
       "array([[10. , 11.1, 12.2, 13.3, 14.4],\n",
       "       [15.6, 16.7, 17.8, 18.9, 20. ]])"
      ]
     },
     "execution_count": 60,
     "metadata": {},
     "output_type": "execute_result"
    }
   ],
   "source": [
    "matriz1 = np.linspace(10, 20, 10).reshape(2, 5).round(1)  # Usamos o método round para reduzir as casas decimais\n",
    "matriz1"
   ]
  },
  {
   "cell_type": "code",
   "execution_count": 61,
   "id": "4f345617",
   "metadata": {},
   "outputs": [
    {
     "data": {
      "text/plain": [
       "array([[10. , 11.1, 12.2, 13.3, 14.4],\n",
       "       [15.6, 16.7, 17.8, 18.9, 20. ]])"
      ]
     },
     "execution_count": 61,
     "metadata": {},
     "output_type": "execute_result"
    }
   ],
   "source": [
    "matriz2 = matriz1\n",
    "matriz2"
   ]
  },
  {
   "cell_type": "code",
   "execution_count": 62,
   "id": "29b962b7",
   "metadata": {},
   "outputs": [
    {
     "data": {
      "text/plain": [
       "array([[ 0. ,  0. , 12.2, 13.3, 14.4],\n",
       "       [ 0. ,  0. , 17.8, 18.9, 20. ]])"
      ]
     },
     "execution_count": 62,
     "metadata": {},
     "output_type": "execute_result"
    }
   ],
   "source": [
    "matriz2[:, :2] = np.zeros((2, 2))\n",
    "matriz2"
   ]
  },
  {
   "cell_type": "code",
   "execution_count": 63,
   "id": "1947b9f8",
   "metadata": {
    "scrolled": false
   },
   "outputs": [
    {
     "data": {
      "text/plain": [
       "array([[ 0. ,  0. , 12.2, 13.3, 14.4],\n",
       "       [ 0. ,  0. , 17.8, 18.9, 20. ]])"
      ]
     },
     "execution_count": 63,
     "metadata": {},
     "output_type": "execute_result"
    }
   ],
   "source": [
    "matriz1"
   ]
  },
  {
   "cell_type": "markdown",
   "id": "4c815aa0",
   "metadata": {},
   "source": [
    "Como no caso de listas, podemos usar o método `copy` para copiar o conteúdo de um *array* para um novo local na memória do computador."
   ]
  },
  {
   "cell_type": "code",
   "execution_count": 65,
   "id": "783f09ff",
   "metadata": {},
   "outputs": [
    {
     "data": {
      "text/plain": [
       "array([[ 0. ,  0. , 12.2, 13.3, 14.4],\n",
       "       [ 0. ,  0. , 17.8, 18.9, 20. ]])"
      ]
     },
     "execution_count": 65,
     "metadata": {},
     "output_type": "execute_result"
    }
   ],
   "source": [
    "matriz2 = matriz1.copy()\n",
    "matriz2"
   ]
  },
  {
   "cell_type": "code",
   "execution_count": 67,
   "id": "5f512225",
   "metadata": {},
   "outputs": [
    {
     "data": {
      "text/plain": [
       "array([[ 1. ,  1. , 12.2, 13.3, 14.4],\n",
       "       [ 1. ,  1. , 17.8, 18.9, 20. ]])"
      ]
     },
     "execution_count": 67,
     "metadata": {},
     "output_type": "execute_result"
    }
   ],
   "source": [
    "matriz2[:2, :2] = np.ones(2)\n",
    "matriz2"
   ]
  },
  {
   "cell_type": "code",
   "execution_count": 68,
   "id": "c0cf7f95",
   "metadata": {},
   "outputs": [
    {
     "data": {
      "text/plain": [
       "array([[ 0. ,  0. , 12.2, 13.3, 14.4],\n",
       "       [ 0. ,  0. , 17.8, 18.9, 20. ]])"
      ]
     },
     "execution_count": 68,
     "metadata": {},
     "output_type": "execute_result"
    }
   ],
   "source": [
    "matriz1"
   ]
  }
 ],
 "metadata": {
  "kernelspec": {
   "display_name": "Python 3 (ipykernel)",
   "language": "python",
   "name": "python3"
  },
  "language_info": {
   "codemirror_mode": {
    "name": "ipython",
    "version": 3
   },
   "file_extension": ".py",
   "mimetype": "text/x-python",
   "name": "python",
   "nbconvert_exporter": "python",
   "pygments_lexer": "ipython3",
   "version": "3.8.8"
  },
  "toc": {
   "base_numbering": 1,
   "nav_menu": {
    "height": "169.986px",
    "width": "277.997px"
   },
   "number_sections": true,
   "sideBar": true,
   "skip_h1_title": false,
   "title_cell": "Table of Contents",
   "title_sidebar": "Contents",
   "toc_cell": false,
   "toc_position": {
    "height": "calc(100% - 180px)",
    "left": "10px",
    "top": "150px",
    "width": "165px"
   },
   "toc_section_display": true,
   "toc_window_display": true
  },
  "varInspector": {
   "cols": {
    "lenName": 16,
    "lenType": 16,
    "lenVar": 40
   },
   "kernels_config": {
    "python": {
     "delete_cmd_postfix": "",
     "delete_cmd_prefix": "del ",
     "library": "var_list.py",
     "varRefreshCmd": "print(var_dic_list())"
    },
    "r": {
     "delete_cmd_postfix": ") ",
     "delete_cmd_prefix": "rm(",
     "library": "var_list.r",
     "varRefreshCmd": "cat(var_dic_list()) "
    }
   },
   "types_to_exclude": [
    "module",
    "function",
    "builtin_function_or_method",
    "instance",
    "_Feature"
   ],
   "window_display": false
  }
 },
 "nbformat": 4,
 "nbformat_minor": 5
}
