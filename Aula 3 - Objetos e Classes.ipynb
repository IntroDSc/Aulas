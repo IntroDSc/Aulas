{
 "cells": [
  {
   "cell_type": "markdown",
   "id": "88561acf",
   "metadata": {},
   "source": [
    "<strong><font size = \"4\" color = \"black\">Introdução à Ciência de Dados</font></strong><br>\n",
    "<font size = \"3\" color = \"gray\">Prof. Valter Moreno</font><br>\n",
    "<font size = \"3\" color = \"gray\">2022</font><br>  "
   ]
  },
  {
   "cell_type": "markdown",
   "id": "92c2c25c",
   "metadata": {},
   "source": [
    "<hr style=\"border:0.1px solid gray\"> </hr>\n",
    "<font size = \"5\" color = \"black\">Introdução ao Python</font><p>\n",
    "<font size = \"5\" color = \"black\">Aula 3: Objetos e Classes</font>\n",
    "<hr style=\"border:0.1px solid gray\"> </hr>"
   ]
  },
  {
   "cell_type": "markdown",
   "id": "8a459b12",
   "metadata": {},
   "source": [
    "**Objetos** são instanciações de **classes**. Por exemplo, o número 5 é uma instância (objeto) do tipo (classe) *inteiro*.\n",
    "\n",
    "Classes podem ter **atributos** (dados) e **métodos** (funções) que são herdadas por seus objetos quando instanciados. Por exemplo, objetos da classe *lista* podem usar diversos métodos, como `extend`, `append`, `pop`, `reverse`, etc. Métodos interagem com os atributos de um objeto."
   ]
  },
  {
   "cell_type": "code",
   "execution_count": 1,
   "id": "de9e2f8c",
   "metadata": {},
   "outputs": [
    {
     "data": {
      "text/plain": [
       "[20, 5, 3, 1]"
      ]
     },
     "execution_count": 1,
     "metadata": {},
     "output_type": "execute_result"
    }
   ],
   "source": [
    "lista = [1, 3, 5, 20]\n",
    "lista.reverse()\n",
    "lista"
   ]
  },
  {
   "cell_type": "markdown",
   "id": "3f283d9f",
   "metadata": {},
   "source": [
    "Para mais detalhes sobre **programação orientada a objetos** em Python, consulte, por exemplo, a página [Python Object-Oriented Programming (OOP)](https://pynative.com/python/object-oriented-programming/)."
   ]
  },
  {
   "cell_type": "markdown",
   "id": "ddc31b9d",
   "metadata": {},
   "source": [
    "# Definição de classes"
   ]
  },
  {
   "cell_type": "code",
   "execution_count": 2,
   "id": "f98b201b",
   "metadata": {},
   "outputs": [],
   "source": [
    "class Funcionário:\n",
    "    \"\"\"\n",
    "    Classe para a criação de objetos que correspondem a funcionários da empresa.\n",
    "    Dois métodos são definidos:\n",
    "      - promoção(novo_cargo): altera o cargo de um funcionário\n",
    "      - nome_completo(): retorna uma cadeia de caracteres composta pelo nome e sobrenome\n",
    "    \"\"\"\n",
    "\n",
    "    # Construtor\n",
    "    \n",
    "    def __init__(self, CPF, nome, sobrenome, ano_contratação, cargo):  # Função usada internamente para criar objetos\n",
    "        self.CPF = CPF\n",
    "        self.nome = nome\n",
    "        self.sobrenome = sobrenome\n",
    "        self.contratado = ano_contratação\n",
    "        self.cargo = cargo\n",
    "\n",
    "    # Médodos\n",
    "    \n",
    "    def promoção(self, novo_cargo):  # Método para alterar o cargo de um funcionário\n",
    "        self.cargo = novo_cargo\n",
    "    \n",
    "    def nome_completo(self):\n",
    "        return self.nome + ' ' + self.sobrenome"
   ]
  },
  {
   "cell_type": "markdown",
   "id": "a63ed843",
   "metadata": {},
   "source": [
    "# Criação de objetos"
   ]
  },
  {
   "cell_type": "code",
   "execution_count": 3,
   "id": "ef0a241d",
   "metadata": {},
   "outputs": [
    {
     "data": {
      "text/plain": [
       "__main__.Funcionário"
      ]
     },
     "execution_count": 3,
     "metadata": {},
     "output_type": "execute_result"
    }
   ],
   "source": [
    "valter = Funcionário(CPF = \"000.000.000-11\", \n",
    "                     nome = \"Valter\", \n",
    "                     sobrenome = \"Moreno\", \n",
    "                     ano_contratação = 2020, \n",
    "                     cargo = \"Estagiário\")\n",
    "\n",
    "type(valter)"
   ]
  },
  {
   "cell_type": "code",
   "execution_count": 4,
   "id": "3d644fef",
   "metadata": {},
   "outputs": [
    {
     "name": "stdout",
     "output_type": "stream",
     "text": [
      "CPF = 000.000.000-11\n",
      "Ano de contratação = 2020\n",
      "Cargo atual = Estagiário\n"
     ]
    }
   ],
   "source": [
    "print(\"CPF =\", valter.CPF)\n",
    "print(\"Ano de contratação =\", valter.contratado)\n",
    "print(\"Cargo atual =\", valter.cargo)"
   ]
  },
  {
   "cell_type": "markdown",
   "id": "e4788936",
   "metadata": {},
   "source": [
    "Atributos podem ser alterados diretamente."
   ]
  },
  {
   "cell_type": "code",
   "execution_count": 5,
   "id": "f33c9090",
   "metadata": {},
   "outputs": [
    {
     "data": {
      "text/plain": [
       "'Engenheiro'"
      ]
     },
     "execution_count": 5,
     "metadata": {},
     "output_type": "execute_result"
    }
   ],
   "source": [
    "valter.cargo = \"Engenheiro\"\n",
    "valter.cargo"
   ]
  },
  {
   "cell_type": "markdown",
   "id": "c73455db",
   "metadata": {},
   "source": [
    "Métodos alteram o estado de um objeto ou geram resultados baseados em seus estados:"
   ]
  },
  {
   "cell_type": "code",
   "execution_count": 6,
   "id": "79fc6b6c",
   "metadata": {},
   "outputs": [
    {
     "data": {
      "text/plain": [
       "'CEO'"
      ]
     },
     "execution_count": 6,
     "metadata": {},
     "output_type": "execute_result"
    }
   ],
   "source": [
    "valter.promoção(\"CEO\")\n",
    "valter.cargo"
   ]
  },
  {
   "cell_type": "code",
   "execution_count": 7,
   "id": "3d24f2cd",
   "metadata": {},
   "outputs": [
    {
     "data": {
      "text/plain": [
       "'Valter Moreno'"
      ]
     },
     "execution_count": 7,
     "metadata": {},
     "output_type": "execute_result"
    }
   ],
   "source": [
    "valter.nome_completo()"
   ]
  },
  {
   "cell_type": "markdown",
   "id": "dd82a44c",
   "metadata": {},
   "source": [
    "A função (método) `dir` mostra todos os métodos e atributos de um objeto. Note que vários métodos foram adicionados automaticamente pelo Python quando criamos a classe *Funcionário*. "
   ]
  },
  {
   "cell_type": "code",
   "execution_count": 8,
   "id": "13387ed6",
   "metadata": {},
   "outputs": [
    {
     "data": {
      "text/plain": [
       "['CPF',\n",
       " '__class__',\n",
       " '__delattr__',\n",
       " '__dict__',\n",
       " '__dir__',\n",
       " '__doc__',\n",
       " '__eq__',\n",
       " '__format__',\n",
       " '__ge__',\n",
       " '__getattribute__',\n",
       " '__gt__',\n",
       " '__hash__',\n",
       " '__init__',\n",
       " '__init_subclass__',\n",
       " '__le__',\n",
       " '__lt__',\n",
       " '__module__',\n",
       " '__ne__',\n",
       " '__new__',\n",
       " '__reduce__',\n",
       " '__reduce_ex__',\n",
       " '__repr__',\n",
       " '__setattr__',\n",
       " '__sizeof__',\n",
       " '__str__',\n",
       " '__subclasshook__',\n",
       " '__weakref__',\n",
       " 'cargo',\n",
       " 'contratado',\n",
       " 'nome',\n",
       " 'nome_completo',\n",
       " 'promoção',\n",
       " 'sobrenome']"
      ]
     },
     "execution_count": 8,
     "metadata": {},
     "output_type": "execute_result"
    }
   ],
   "source": [
    "dir(valter)"
   ]
  },
  {
   "cell_type": "markdown",
   "id": "b34cca7f",
   "metadata": {},
   "source": [
    "O método privado (*dunder*) `__doc__` exibe o texto incluído como comentário ao se definir a classe."
   ]
  },
  {
   "cell_type": "code",
   "execution_count": 9,
   "id": "b15c9074",
   "metadata": {},
   "outputs": [
    {
     "name": "stdout",
     "output_type": "stream",
     "text": [
      "\n",
      "    Classe para a criação de objetos que correspondem a funcionários da empresa.\n",
      "    Dois métodos são definidos:\n",
      "      - promoção(novo_cargo): altera o cargo de um funcionário\n",
      "      - nome_completo(): retorna uma cadeia de caracteres composta pelo nome e sobrenome\n",
      "    \n"
     ]
    }
   ],
   "source": [
    "print(Funcionário.__doc__)"
   ]
  },
  {
   "cell_type": "markdown",
   "id": "aa5cd86a",
   "metadata": {},
   "source": [
    "# Métodos mágicos (*magic*), *dunder* ou especiais "
   ]
  },
  {
   "cell_type": "markdown",
   "id": "a5bc482a",
   "metadata": {},
   "source": [
    "O termo *dunder* se refere a métodos que pertencem a classes. Eles são definidos da seguinte forma `__nome__`, ou seja, com \"*double underscores*\", daí o seu nome.\n",
    "\n",
    "Os métodos mágicos, *dunder* ou especiais **não são criados para serem chamados diretamente em nossos scripts**. Em vez disso, eles são executados quando certas ações são realizadas com a classe ou seus objetos.\n",
    "\n",
    "Por exemplo, a classe `Funcionário` inclui o método mágico `__str__`. Ele é chamado internamente quando usamos a função `str` na classe. "
   ]
  },
  {
   "cell_type": "code",
   "execution_count": 10,
   "id": "197682a1",
   "metadata": {},
   "outputs": [
    {
     "name": "stdout",
     "output_type": "stream",
     "text": [
      "<class 'int'>\n",
      "<class 'str'>\n"
     ]
    }
   ],
   "source": [
    "print(type(valter.contratado))\n",
    "print(type(str(valter.contratado)))"
   ]
  },
  {
   "cell_type": "markdown",
   "id": "69f33b06",
   "metadata": {},
   "source": [
    "O mesmo ocorre com o método mágico `__add__`."
   ]
  },
  {
   "cell_type": "code",
   "execution_count": 11,
   "id": "35a5a5ec",
   "metadata": {
    "scrolled": true
   },
   "outputs": [
    {
     "data": {
      "text/plain": [
       "2030"
      ]
     },
     "execution_count": 11,
     "metadata": {},
     "output_type": "execute_result"
    }
   ],
   "source": [
    "valter.contratado + 10"
   ]
  },
  {
   "cell_type": "markdown",
   "id": "4035784f",
   "metadata": {},
   "source": [
    "Vamos criar o nosso próprio método mágico `__repr__` para definir como um objeto da classe funcionário deve ser mostrado com a função `print`."
   ]
  },
  {
   "cell_type": "code",
   "execution_count": 12,
   "id": "6e259db5",
   "metadata": {},
   "outputs": [],
   "source": [
    "class Funcionário:\n",
    "\n",
    "    def __init__(self, CPF, nome, sobrenome, ano_contratação, cargo):\n",
    "        self.CPF = CPF\n",
    "        self.nome = nome\n",
    "        self.sobrenome = sobrenome\n",
    "        self.contratado = ano_contratação\n",
    "        self.cargo = cargo\n",
    "\n",
    "    # Médodos\n",
    "    \n",
    "    def promoção(self, novo_cargo):  # Método para alterar o cargo de um funcionário\n",
    "        self.cargo = novo_cargo\n",
    "    \n",
    "    def nome_completo(self):\n",
    "        return self.nome + ' ' + self.sobrenome\n",
    "    \n",
    "    def __repr__(self):\n",
    "        return f\"CPF: {self.CPF}\\n\" +                                   \\\n",
    "               f\"Nome completo: {self.nome + ' ' + self.sobrenome}\\n\" + \\\n",
    "               f\"Cargo: {self.cargo}\\n\" +                               \\\n",
    "               f\"Ano de contratação: {self.contratado}\"\n",
    "        \n",
    "        # O caracter \\ indica que a expressão continua na próxima linha"
   ]
  },
  {
   "cell_type": "code",
   "execution_count": 13,
   "id": "1534cdce",
   "metadata": {},
   "outputs": [
    {
     "name": "stdout",
     "output_type": "stream",
     "text": [
      "CPF: 000.000.000-11\n",
      "Nome completo: Valter Moreno\n",
      "Cargo: Estagiário\n",
      "Ano de contratação: 2020\n"
     ]
    }
   ],
   "source": [
    "valter = Funcionário(CPF = \"000.000.000-11\", \n",
    "                     nome = \"Valter\", \n",
    "                     sobrenome = \"Moreno\", \n",
    "                     ano_contratação = 2020, \n",
    "                     cargo = \"Estagiário\")\n",
    "\n",
    "print(valter)"
   ]
  },
  {
   "cell_type": "markdown",
   "id": "312baff8",
   "metadata": {},
   "source": [
    "Para uma ótima descrição da criação e uso de métodos mágicos, consulte a página [How to Write Awsome Python Classes](https://towardsdatascience.com/how-to-write-awesome-python-classes-f2e1f05e51a9)"
   ]
  },
  {
   "cell_type": "markdown",
   "id": "7a7383e0",
   "metadata": {},
   "source": [
    "# Métodos estáticos (*Utilities*)"
   ]
  },
  {
   "cell_type": "markdown",
   "id": "6b695703",
   "metadata": {},
   "source": [
    "Um método de uma classe definido com o *decorator* `@staticmethod` pode ser chamado sem que esteja associado a uma instância da classe. Dessa forma, pode ser \"reutilizado\" em outras partes do script.\n",
    "\n",
    "Para mais detalhes, veja a página [Build “Factory” and “Utility” In Your Python Classes](https://medium.com/towards-data-science/build-factory-and-utility-in-your-python-classes-ea39e267ca0a)."
   ]
  },
  {
   "cell_type": "code",
   "execution_count": 14,
   "id": "24ddada3",
   "metadata": {},
   "outputs": [],
   "source": [
    "from datetime import datetime\n",
    "\n",
    "class Funcionário:\n",
    "\n",
    "    def __init__(self, CPF, nome, sobrenome, ano_contratação, cargo):\n",
    "        self.CPF = CPF\n",
    "        self.nome = nome\n",
    "        self.sobrenome = sobrenome\n",
    "        self.contratado = ano_contratação\n",
    "        self.cargo = cargo\n",
    "\n",
    "    # Método estático\n",
    "    \n",
    "    @staticmethod\n",
    "    def calc_anos(ano_inicial, ano_final):\n",
    "        try:\n",
    "            anos = ano_final - ano_inicial\n",
    "            if anos < 0:\n",
    "                raise ValueError(\"O ano final deve ser posterior ao inicial.\")\n",
    "            else:\n",
    "                return anos\n",
    "        except ValueError as erro:\n",
    "            print(\"** Erro: \" + repr(erro))\n",
    "            return -1\n",
    "        \n",
    "    # Médodos\n",
    "    \n",
    "    def promoção(self, novo_cargo):  # Método para alterar o cargo de um funcionário\n",
    "        self.cargo = novo_cargo\n",
    "    \n",
    "    def nome_completo(self):\n",
    "        return self.nome + ' ' + self.sobrenome\n",
    "    \n",
    "    def __repr__(self):\n",
    "        return f\"CPF: {self.CPF}\\n\" +                                   \\\n",
    "               f\"Nome completo: {self.nome + ' ' + self.sobrenome}\\n\" + \\\n",
    "               f\"Cargo: {self.cargo}\\n\" +                               \\\n",
    "               f\"Ano de contratação: {self.contratado}\\n\" +               \\\n",
    "               \"Senioridade: \" +                                        \\\n",
    "                f\"{self.calc_anos(self.contratado, datetime.now().year)}\"\n",
    "    \n"
   ]
  },
  {
   "cell_type": "code",
   "execution_count": 15,
   "id": "5ba90a53",
   "metadata": {},
   "outputs": [
    {
     "name": "stdout",
     "output_type": "stream",
     "text": [
      "CPF: 000.000.000-12\n",
      "Nome completo: João Rubião\n",
      "Cargo: Gerente\n",
      "Ano de contratação: 2012\n",
      "Senioridade: 10\n"
     ]
    }
   ],
   "source": [
    "joão = Funcionário(CPF = \"000.000.000-12\", \n",
    "                   nome = \"João\", \n",
    "                   sobrenome = \"Rubião\", \n",
    "                   ano_contratação = 2012, \n",
    "                   cargo = \"Gerente\")\n",
    "\n",
    "print(joão)"
   ]
  },
  {
   "cell_type": "code",
   "execution_count": 16,
   "id": "2590343e",
   "metadata": {},
   "outputs": [
    {
     "data": {
      "text/plain": [
       "2"
      ]
     },
     "execution_count": 16,
     "metadata": {},
     "output_type": "execute_result"
    }
   ],
   "source": [
    "Funcionário.calc_anos(2020, 2022)"
   ]
  },
  {
   "cell_type": "code",
   "execution_count": 17,
   "id": "e8ae5fe5",
   "metadata": {
    "scrolled": true
   },
   "outputs": [
    {
     "name": "stdout",
     "output_type": "stream",
     "text": [
      "** Erro: ValueError('O ano final deve ser posterior ao inicial.')\n"
     ]
    },
    {
     "data": {
      "text/plain": [
       "-1"
      ]
     },
     "execution_count": 17,
     "metadata": {},
     "output_type": "execute_result"
    }
   ],
   "source": [
    "Funcionário.calc_anos(2020, 2019)"
   ]
  },
  {
   "cell_type": "markdown",
   "id": "8117741f",
   "metadata": {},
   "source": [
    "# Atributos protegidos"
   ]
  },
  {
   "cell_type": "markdown",
   "id": "95c68fe0",
   "metadata": {},
   "source": [
    "Pode-se criar atributos privados a uma classe que são \"protegidos\" de acesso direto usando o *decorator* `@property`. "
   ]
  },
  {
   "cell_type": "markdown",
   "id": "b6b5a753",
   "metadata": {},
   "source": [
    "Mais detalhes sobre esse tema estão disponíveis em [Python @property decorator](https://www.programiz.com/python-programming/property)."
   ]
  },
  {
   "cell_type": "code",
   "execution_count": 18,
   "id": "b63422f1",
   "metadata": {},
   "outputs": [],
   "source": [
    "class Employee:\n",
    "    def __init__(self, name, year):\n",
    "        self.name = name\n",
    "        self._year = year\n",
    "    \n",
    "    @property\n",
    "    def year(self):\n",
    "        return self._year"
   ]
  },
  {
   "cell_type": "code",
   "execution_count": 19,
   "id": "c7e62144",
   "metadata": {},
   "outputs": [
    {
     "data": {
      "text/plain": [
       "{'name': 'João da Silva', '_year': 2020}"
      ]
     },
     "execution_count": 19,
     "metadata": {},
     "output_type": "execute_result"
    }
   ],
   "source": [
    "joão = Employee(\"João da Silva\", 2020)\n",
    "joão.__dict__  # Note que o atributo privado do objeto é _year, e não year"
   ]
  },
  {
   "cell_type": "code",
   "execution_count": 20,
   "id": "aebdeb21",
   "metadata": {},
   "outputs": [
    {
     "data": {
      "text/plain": [
       "'João da Silva'"
      ]
     },
     "execution_count": 20,
     "metadata": {},
     "output_type": "execute_result"
    }
   ],
   "source": [
    "joão.name"
   ]
  },
  {
   "cell_type": "code",
   "execution_count": 21,
   "id": "5def5d38",
   "metadata": {},
   "outputs": [
    {
     "data": {
      "text/plain": [
       "2020"
      ]
     },
     "execution_count": 21,
     "metadata": {},
     "output_type": "execute_result"
    }
   ],
   "source": [
    "joão.year"
   ]
  },
  {
   "cell_type": "code",
   "execution_count": 22,
   "id": "ac8c0e47",
   "metadata": {},
   "outputs": [
    {
     "ename": "AttributeError",
     "evalue": "can't set attribute",
     "output_type": "error",
     "traceback": [
      "\u001b[1;31m---------------------------------------------------------------------------\u001b[0m",
      "\u001b[1;31mAttributeError\u001b[0m                            Traceback (most recent call last)",
      "\u001b[1;32m~\\AppData\\Local\\Temp/ipykernel_336/461633813.py\u001b[0m in \u001b[0;36m<module>\u001b[1;34m\u001b[0m\n\u001b[1;32m----> 1\u001b[1;33m \u001b[0mjoão\u001b[0m\u001b[1;33m.\u001b[0m\u001b[0myear\u001b[0m \u001b[1;33m=\u001b[0m \u001b[1;36m2012\u001b[0m  \u001b[1;31m# A tentativa de alterar o atributo gera um erro.\u001b[0m\u001b[1;33m\u001b[0m\u001b[1;33m\u001b[0m\u001b[0m\n\u001b[0m",
      "\u001b[1;31mAttributeError\u001b[0m: can't set attribute"
     ]
    }
   ],
   "source": [
    "joão.year = 2012  # A tentativa de alterar o atributo gera um erro."
   ]
  },
  {
   "cell_type": "markdown",
   "id": "3a4f1285",
   "metadata": {},
   "source": [
    "Mesmo oculto, o atributo privado pode ser acessado diretamente."
   ]
  },
  {
   "cell_type": "code",
   "execution_count": 23,
   "id": "c69db7a9",
   "metadata": {},
   "outputs": [
    {
     "data": {
      "text/plain": [
       "{'name': 'João da Silva', '_year': 2015}"
      ]
     },
     "execution_count": 23,
     "metadata": {},
     "output_type": "execute_result"
    }
   ],
   "source": [
    "joão._year = 2015\n",
    "joão.__dict__"
   ]
  },
  {
   "cell_type": "markdown",
   "id": "01cb123e",
   "metadata": {},
   "source": [
    "# Subclasses"
   ]
  },
  {
   "cell_type": "markdown",
   "id": "c1753e0c",
   "metadata": {},
   "source": [
    "Podemos criar classes (subclasses) que herdam atributos e métodos de outras classes. Note que usamos a função `super` para inicializar o objeto da classe superior antes de adicionar o atributo e métodos da subclasse."
   ]
  },
  {
   "cell_type": "code",
   "execution_count": 24,
   "id": "06672d25",
   "metadata": {},
   "outputs": [],
   "source": [
    "class Chefia(Funcionário):\n",
    "    def __init__(self, CPF, nome, sobrenome, ano_contratação, cargo, setor):\n",
    "        super().__init__(CPF, nome, sobrenome, ano_contratação, cargo)\n",
    "        self.setor = setor\n",
    "        \n",
    "    def __repr__(self):\n",
    "        return f\"CPF: {self.CPF}\\n\" +                                   \\\n",
    "               f\"Nome completo: {self.nome + ' ' + self.sobrenome}\\n\" + \\\n",
    "               f\"Cargo: {self.cargo}\\n\" +                               \\\n",
    "               f\"Ano de contratação: {self.contratado}\\n\" +             \\\n",
    "               f\"Setor chefiado: {self.setor}\""
   ]
  },
  {
   "cell_type": "code",
   "execution_count": 25,
   "id": "097b04d5",
   "metadata": {},
   "outputs": [
    {
     "name": "stdout",
     "output_type": "stream",
     "text": [
      "CPF: 000.000.000-11\n",
      "Nome completo: Valter Moreno\n",
      "Cargo: Gerente\n",
      "Ano de contratação: 2020\n",
      "Setor chefiado: Engenharia\n"
     ]
    }
   ],
   "source": [
    "valter = Chefia(CPF = \"000.000.000-11\", \n",
    "                nome = \"Valter\", \n",
    "                sobrenome = \"Moreno\", \n",
    "                ano_contratação = 2020, \n",
    "                cargo = \"Gerente\",\n",
    "                setor = \"Engenharia\")\n",
    "\n",
    "print(valter)"
   ]
  },
  {
   "cell_type": "markdown",
   "id": "02c8f3a9",
   "metadata": {},
   "source": [
    "A página [Python super( )](https://www.programiz.com/python-programming/methods/built-in/super) exemplifica muito bem o uso da função `super`."
   ]
  }
 ],
 "metadata": {
  "kernelspec": {
   "display_name": "Python 3 (ipykernel)",
   "language": "python",
   "name": "python3"
  },
  "language_info": {
   "codemirror_mode": {
    "name": "ipython",
    "version": 3
   },
   "file_extension": ".py",
   "mimetype": "text/x-python",
   "name": "python",
   "nbconvert_exporter": "python",
   "pygments_lexer": "ipython3",
   "version": "3.8.8"
  },
  "toc": {
   "base_numbering": 1,
   "nav_menu": {
    "height": "169.986px",
    "width": "277.997px"
   },
   "number_sections": true,
   "sideBar": true,
   "skip_h1_title": false,
   "title_cell": "Table of Contents",
   "title_sidebar": "Contents",
   "toc_cell": false,
   "toc_position": {
    "height": "calc(100% - 180px)",
    "left": "10px",
    "top": "150px",
    "width": "221px"
   },
   "toc_section_display": true,
   "toc_window_display": true
  },
  "varInspector": {
   "cols": {
    "lenName": 16,
    "lenType": 16,
    "lenVar": 40
   },
   "kernels_config": {
    "python": {
     "delete_cmd_postfix": "",
     "delete_cmd_prefix": "del ",
     "library": "var_list.py",
     "varRefreshCmd": "print(var_dic_list())"
    },
    "r": {
     "delete_cmd_postfix": ") ",
     "delete_cmd_prefix": "rm(",
     "library": "var_list.r",
     "varRefreshCmd": "cat(var_dic_list()) "
    }
   },
   "types_to_exclude": [
    "module",
    "function",
    "builtin_function_or_method",
    "instance",
    "_Feature"
   ],
   "window_display": false
  }
 },
 "nbformat": 4,
 "nbformat_minor": 5
}
