{
 "cells": [
  {
   "cell_type": "markdown",
   "id": "88561acf",
   "metadata": {},
   "source": [
    "<strong><font size = \"4\" color = \"black\">Introdução à Ciência de Dados</font></strong><br>\n",
    "<font size = \"3\" color = \"gray\">Prof. Valter Moreno</font><br>\n",
    "<font size = \"3\" color = \"gray\">2022</font><br>  "
   ]
  },
  {
   "cell_type": "markdown",
   "id": "92c2c25c",
   "metadata": {},
   "source": [
    "<hr style=\"border:0.1px solid gray\"> </hr>\n",
    "<font size = \"5\" color = \"black\">Introdução ao Python</font><p>\n",
    "    <font size = \"5\" color = \"black\">Aula 10: Machine Learning com <i>scikit-learn</i></font>\n",
    "<hr style=\"border:0.1px solid gray\"> </hr>"
   ]
  },
  {
   "cell_type": "markdown",
   "id": "eafc95e5",
   "metadata": {},
   "source": [
    "O pacote *open-source* `scikit-learn` é um dos mais utilizados para a implementação de técnicas de Machine Learning (ML) em Python. Ele inclui uma variedade de ferramentas para o preprocessamento de dados e para o treinamento, avaliação e seleção de modelos. Sua documentação oficial é extensa, e inclui diversos tutoriais sobre suas aplicações:\n",
    "\n",
    " - [scikit-learn.org](https://scikit-learn.org/stable/index.html)\n",
    " - [scikit-learn Tutorials](https://scikit-learn.org/stable/tutorial/index.html)\n",
    " - [scikit-learn User Guide](https://scikit-learn.org/stable/user_guide.html)\n",
    " \n",
    " Mais recursos podem ser encontrados nos seguintes websites:\n",
    " \n",
    " - [Scikit Learn - Introduction](https://www.tutorialspoint.com/scikit_learn/scikit_learn_introduction.htm)\n",
    " - [Python Machine Learning: Scikit-Learn Tutorial](https://www.datacamp.com/community/tutorials/machine-learning-python)"
   ]
  },
  {
   "cell_type": "code",
   "execution_count": 1,
   "id": "5192a609",
   "metadata": {},
   "outputs": [],
   "source": [
    "import pandas as pd\n",
    "import numpy as np\n",
    "from IPython.display import display\n",
    "\n",
    "# Definição do número de casas decimais no pandas\n",
    "pd.options.display.float_format = '{:,.2f}'.format\n",
    "\n",
    "# Definição do número de casas decimais no numpy\n",
    "np.set_printoptions(precision = 2)"
   ]
  },
  {
   "cell_type": "markdown",
   "id": "eff9ab10",
   "metadata": {},
   "source": [
    "# *Datasets*"
   ]
  },
  {
   "cell_type": "markdown",
   "id": "7793bb8d",
   "metadata": {},
   "source": [
    "O `scikit-learn` inclui bases de dados e métodos para a carga de bases de certas fontes, e para a geração de dados sintéticos. Mais detalhes são fornecidos em [Dataset loading utilities](https://scikit-learn.org/stable/datasets.html). Seguem exemplos."
   ]
  },
  {
   "cell_type": "code",
   "execution_count": 2,
   "id": "3b8f9421",
   "metadata": {},
   "outputs": [],
   "source": [
    "from sklearn import datasets"
   ]
  },
  {
   "cell_type": "markdown",
   "id": "0738d541",
   "metadata": {},
   "source": [
    "Os métodos do tipo `load_` retornam como resultado um objeto do tipo *bunch*, que é um dicionário com chaves para os atributos ou *features* $X$ (*data*), os valores a serem previstos $y$ (*target*), e outras informações sobre o *dataset*."
   ]
  },
  {
   "cell_type": "code",
   "execution_count": 3,
   "id": "0554ba41",
   "metadata": {},
   "outputs": [
    {
     "data": {
      "text/plain": [
       "sklearn.utils.Bunch"
      ]
     },
     "execution_count": 3,
     "metadata": {},
     "output_type": "execute_result"
    }
   ],
   "source": [
    "# Exemplos de bases simples (toy datasets):\n",
    "iris = datasets.load_iris()\n",
    "type(iris)"
   ]
  },
  {
   "cell_type": "code",
   "execution_count": 4,
   "id": "6ef3e541",
   "metadata": {},
   "outputs": [
    {
     "data": {
      "text/plain": [
       "dict_keys(['data', 'target', 'frame', 'target_names', 'DESCR', 'feature_names', 'filename', 'data_module'])"
      ]
     },
     "execution_count": 4,
     "metadata": {},
     "output_type": "execute_result"
    }
   ],
   "source": [
    "iris.keys()"
   ]
  },
  {
   "cell_type": "code",
   "execution_count": 5,
   "id": "fa2efef0",
   "metadata": {
    "scrolled": true
   },
   "outputs": [
    {
     "data": {
      "text/plain": [
       "array([[5.1, 3.5, 1.4, 0.2],\n",
       "       [4.9, 3. , 1.4, 0.2],\n",
       "       [4.7, 3.2, 1.3, 0.2],\n",
       "       [4.6, 3.1, 1.5, 0.2],\n",
       "       [5. , 3.6, 1.4, 0.2],\n",
       "       [5.4, 3.9, 1.7, 0.4],\n",
       "       [4.6, 3.4, 1.4, 0.3],\n",
       "       [5. , 3.4, 1.5, 0.2],\n",
       "       [4.4, 2.9, 1.4, 0.2],\n",
       "       [4.9, 3.1, 1.5, 0.1]])"
      ]
     },
     "execution_count": 5,
     "metadata": {},
     "output_type": "execute_result"
    }
   ],
   "source": [
    "iris.get('data')[:10]"
   ]
  },
  {
   "cell_type": "code",
   "execution_count": 6,
   "id": "4b101025",
   "metadata": {},
   "outputs": [
    {
     "data": {
      "text/plain": [
       "array([0, 0, 0, 0, 0, 0, 0, 0, 0, 0])"
      ]
     },
     "execution_count": 6,
     "metadata": {},
     "output_type": "execute_result"
    }
   ],
   "source": [
    "iris.get('target')[:10]"
   ]
  },
  {
   "cell_type": "code",
   "execution_count": 7,
   "id": "f8caa259",
   "metadata": {
    "scrolled": true
   },
   "outputs": [
    {
     "name": "stdout",
     "output_type": "stream",
     "text": [
      ".. _iris_dataset:\n",
      "\n",
      "Iris plants dataset\n",
      "--------------------\n",
      "\n",
      "**Data Set Characteristics:**\n",
      "\n",
      "    :Number of Instances: 150 (50 in each of three classes)\n",
      "    :Number of Attributes: 4 numeric, predictive attributes and the class\n",
      "    :Attribute Information:\n",
      "        - sepal length in cm\n",
      "        - sepal width in cm\n",
      "        - petal length in cm\n",
      "        - petal width in cm\n",
      "        - class:\n",
      "                - Iris-Setosa\n",
      "                - Iris-Versicolour\n",
      "                - Iris-Virginica\n",
      "                \n",
      "    :Summary Statistics:\n",
      "\n",
      "    ============== ==== ==== ======= ===== ====================\n",
      "                    Min  Max   Mean    SD   Class Correlation\n",
      "    ============== ==== ==== ======= ===== ====================\n",
      "    sepal length:   4.3  7.9   5.84   0.83    0.7826\n",
      "    sepal width:    2.0  4.4   3.05   0.43   -0.4194\n",
      "    petal length:   1.0  6.9   3.76   1.76    0.9490  (high!)\n",
      "    petal width:    0.1  2.5   1.20   0.76    0.9565  (high!)\n",
      "    ============== ==== ==== ======= ===== ====================\n",
      "\n",
      "    :Missing Attribute Values: None\n",
      "    :Class Distribution: 33.3% for each of 3 classes.\n",
      "    :Creator: R.A. Fisher\n",
      "    :Donor: Michael Marshall (MARSHALL%PLU@io.arc.nasa.gov)\n",
      "    :Date: July, 1988\n",
      "\n",
      "The famous Iris database, first used by Sir R.A. Fisher. The dataset is taken\n",
      "from Fisher's paper. Note that it's the same as in R, but not as in the UCI\n",
      "Machine Learning Repository, which has two wrong data points.\n",
      "\n",
      "This is perhaps the best known database to be found in the\n",
      "pattern recognition literature.  Fisher's paper is a classic in the field and\n",
      "is referenced frequently to this day.  (See Duda & Hart, for example.)  The\n",
      "data set contains 3 classes of 50 instances each, where each class refers to a\n",
      "type of iris plant.  One class is linearly separable from the other 2; the\n",
      "latter are NOT linearly separable from each other.\n",
      "\n",
      ".. topic:: References\n",
      "\n",
      "   - Fisher, R.A. \"The use of multiple measurements in taxonomic problems\"\n",
      "     Annual Eugenics, 7, Part II, 179-188 (1936); also in \"Contributions to\n",
      "     Mathematical Statistics\" (John Wiley, NY, 1950).\n",
      "   - Duda, R.O., & Hart, P.E. (1973) Pattern Classification and Scene Analysis.\n",
      "     (Q327.D83) John Wiley & Sons.  ISBN 0-471-22361-1.  See page 218.\n",
      "   - Dasarathy, B.V. (1980) \"Nosing Around the Neighborhood: A New System\n",
      "     Structure and Classification Rule for Recognition in Partially Exposed\n",
      "     Environments\".  IEEE Transactions on Pattern Analysis and Machine\n",
      "     Intelligence, Vol. PAMI-2, No. 1, 67-71.\n",
      "   - Gates, G.W. (1972) \"The Reduced Nearest Neighbor Rule\".  IEEE Transactions\n",
      "     on Information Theory, May 1972, 431-433.\n",
      "   - See also: 1988 MLC Proceedings, 54-64.  Cheeseman et al\"s AUTOCLASS II\n",
      "     conceptual clustering system finds 3 classes in the data.\n",
      "   - Many, many more ...\n"
     ]
    }
   ],
   "source": [
    "print(iris.get('DESCR'))"
   ]
  },
  {
   "cell_type": "markdown",
   "id": "600907fb",
   "metadata": {},
   "source": [
    "Os métodos podem também gerar *dataframes* do `pandas`:"
   ]
  },
  {
   "cell_type": "code",
   "execution_count": 8,
   "id": "ee4c0892",
   "metadata": {},
   "outputs": [
    {
     "data": {
      "text/html": [
       "<div>\n",
       "<style scoped>\n",
       "    .dataframe tbody tr th:only-of-type {\n",
       "        vertical-align: middle;\n",
       "    }\n",
       "\n",
       "    .dataframe tbody tr th {\n",
       "        vertical-align: top;\n",
       "    }\n",
       "\n",
       "    .dataframe thead th {\n",
       "        text-align: right;\n",
       "    }\n",
       "</style>\n",
       "<table border=\"1\" class=\"dataframe\">\n",
       "  <thead>\n",
       "    <tr style=\"text-align: right;\">\n",
       "      <th></th>\n",
       "      <th>sepal length (cm)</th>\n",
       "      <th>sepal width (cm)</th>\n",
       "      <th>petal length (cm)</th>\n",
       "      <th>petal width (cm)</th>\n",
       "      <th>target</th>\n",
       "    </tr>\n",
       "  </thead>\n",
       "  <tbody>\n",
       "    <tr>\n",
       "      <th>0</th>\n",
       "      <td>5.10</td>\n",
       "      <td>3.50</td>\n",
       "      <td>1.40</td>\n",
       "      <td>0.20</td>\n",
       "      <td>0</td>\n",
       "    </tr>\n",
       "    <tr>\n",
       "      <th>1</th>\n",
       "      <td>4.90</td>\n",
       "      <td>3.00</td>\n",
       "      <td>1.40</td>\n",
       "      <td>0.20</td>\n",
       "      <td>0</td>\n",
       "    </tr>\n",
       "    <tr>\n",
       "      <th>2</th>\n",
       "      <td>4.70</td>\n",
       "      <td>3.20</td>\n",
       "      <td>1.30</td>\n",
       "      <td>0.20</td>\n",
       "      <td>0</td>\n",
       "    </tr>\n",
       "    <tr>\n",
       "      <th>3</th>\n",
       "      <td>4.60</td>\n",
       "      <td>3.10</td>\n",
       "      <td>1.50</td>\n",
       "      <td>0.20</td>\n",
       "      <td>0</td>\n",
       "    </tr>\n",
       "    <tr>\n",
       "      <th>4</th>\n",
       "      <td>5.00</td>\n",
       "      <td>3.60</td>\n",
       "      <td>1.40</td>\n",
       "      <td>0.20</td>\n",
       "      <td>0</td>\n",
       "    </tr>\n",
       "  </tbody>\n",
       "</table>\n",
       "</div>"
      ],
      "text/plain": [
       "   sepal length (cm)  sepal width (cm)  petal length (cm)  petal width (cm)  \\\n",
       "0               5.10              3.50               1.40              0.20   \n",
       "1               4.90              3.00               1.40              0.20   \n",
       "2               4.70              3.20               1.30              0.20   \n",
       "3               4.60              3.10               1.50              0.20   \n",
       "4               5.00              3.60               1.40              0.20   \n",
       "\n",
       "   target  \n",
       "0       0  \n",
       "1       0  \n",
       "2       0  \n",
       "3       0  \n",
       "4       0  "
      ]
     },
     "execution_count": 8,
     "metadata": {},
     "output_type": "execute_result"
    }
   ],
   "source": [
    "iris = datasets.load_iris(as_frame = True)\n",
    "iris.get('frame').head()"
   ]
  },
  {
   "cell_type": "code",
   "execution_count": 9,
   "id": "5cd8f6bd",
   "metadata": {},
   "outputs": [],
   "source": [
    "# Deleção do objeto criado:\n",
    "del(iris)"
   ]
  },
  {
   "cell_type": "markdown",
   "id": "fb8a409f",
   "metadata": {},
   "source": [
    "Os métodos do tipo `fetch_` carregam bases de dados reais, baixando-as da internet quando necessário."
   ]
  },
  {
   "cell_type": "code",
   "execution_count": 10,
   "id": "c2f99975",
   "metadata": {
    "scrolled": true
   },
   "outputs": [
    {
     "name": "stdout",
     "output_type": "stream",
     "text": [
      ".. _california_housing_dataset:\n",
      "\n",
      "California Housing dataset\n",
      "--------------------------\n",
      "\n",
      "**Data Set Characteristics:**\n",
      "\n",
      "    :Number of Instances: 20640\n",
      "\n",
      "    :Number of Attributes: 8 numeric, predictive attributes and the target\n",
      "\n",
      "    :Attribute Information:\n",
      "        - MedInc        median income in block group\n",
      "        - HouseAge      median house age in block group\n",
      "        - AveRooms      average number of rooms per household\n",
      "        - AveBedrms     average number of bedrooms per household\n",
      "        - Population    block group population\n",
      "        - AveOccup      average number of household members\n",
      "        - Latitude      block group latitude\n",
      "        - Longitude     block group longitude\n",
      "\n",
      "    :Missing Attribute Values: None\n",
      "\n",
      "This dataset was obtained from the StatLib repository.\n",
      "https://www.dcc.fc.up.pt/~ltorgo/Regression/cal_housing.html\n",
      "\n",
      "The target variable is the median house value for California districts,\n",
      "expressed in hundreds of thousands of dollars ($100,000).\n",
      "\n",
      "This dataset was derived from the 1990 U.S. census, using one row per census\n",
      "block group. A block group is the smallest geographical unit for which the U.S.\n",
      "Census Bureau publishes sample data (a block group typically has a population\n",
      "of 600 to 3,000 people).\n",
      "\n",
      "An household is a group of people residing within a home. Since the average\n",
      "number of rooms and bedrooms in this dataset are provided per household, these\n",
      "columns may take surpinsingly large values for block groups with few households\n",
      "and many empty houses, such as vacation resorts.\n",
      "\n",
      "It can be downloaded/loaded using the\n",
      ":func:`sklearn.datasets.fetch_california_housing` function.\n",
      "\n",
      ".. topic:: References\n",
      "\n",
      "    - Pace, R. Kelley and Ronald Barry, Sparse Spatial Autoregressions,\n",
      "      Statistics and Probability Letters, 33 (1997) 291-297\n",
      "\n"
     ]
    }
   ],
   "source": [
    "housing = datasets.fetch_california_housing(as_frame = True)\n",
    "print(housing.get('DESCR'))"
   ]
  },
  {
   "cell_type": "code",
   "execution_count": 11,
   "id": "ae0b7097",
   "metadata": {},
   "outputs": [
    {
     "data": {
      "text/html": [
       "<div>\n",
       "<style scoped>\n",
       "    .dataframe tbody tr th:only-of-type {\n",
       "        vertical-align: middle;\n",
       "    }\n",
       "\n",
       "    .dataframe tbody tr th {\n",
       "        vertical-align: top;\n",
       "    }\n",
       "\n",
       "    .dataframe thead th {\n",
       "        text-align: right;\n",
       "    }\n",
       "</style>\n",
       "<table border=\"1\" class=\"dataframe\">\n",
       "  <thead>\n",
       "    <tr style=\"text-align: right;\">\n",
       "      <th></th>\n",
       "      <th>MedInc</th>\n",
       "      <th>HouseAge</th>\n",
       "      <th>AveRooms</th>\n",
       "      <th>AveBedrms</th>\n",
       "      <th>Population</th>\n",
       "      <th>AveOccup</th>\n",
       "      <th>Latitude</th>\n",
       "      <th>Longitude</th>\n",
       "      <th>MedHouseVal</th>\n",
       "    </tr>\n",
       "  </thead>\n",
       "  <tbody>\n",
       "    <tr>\n",
       "      <th>0</th>\n",
       "      <td>8.33</td>\n",
       "      <td>41.00</td>\n",
       "      <td>6.98</td>\n",
       "      <td>1.02</td>\n",
       "      <td>322.00</td>\n",
       "      <td>2.56</td>\n",
       "      <td>37.88</td>\n",
       "      <td>-122.23</td>\n",
       "      <td>4.53</td>\n",
       "    </tr>\n",
       "    <tr>\n",
       "      <th>1</th>\n",
       "      <td>8.30</td>\n",
       "      <td>21.00</td>\n",
       "      <td>6.24</td>\n",
       "      <td>0.97</td>\n",
       "      <td>2,401.00</td>\n",
       "      <td>2.11</td>\n",
       "      <td>37.86</td>\n",
       "      <td>-122.22</td>\n",
       "      <td>3.58</td>\n",
       "    </tr>\n",
       "    <tr>\n",
       "      <th>2</th>\n",
       "      <td>7.26</td>\n",
       "      <td>52.00</td>\n",
       "      <td>8.29</td>\n",
       "      <td>1.07</td>\n",
       "      <td>496.00</td>\n",
       "      <td>2.80</td>\n",
       "      <td>37.85</td>\n",
       "      <td>-122.24</td>\n",
       "      <td>3.52</td>\n",
       "    </tr>\n",
       "    <tr>\n",
       "      <th>3</th>\n",
       "      <td>5.64</td>\n",
       "      <td>52.00</td>\n",
       "      <td>5.82</td>\n",
       "      <td>1.07</td>\n",
       "      <td>558.00</td>\n",
       "      <td>2.55</td>\n",
       "      <td>37.85</td>\n",
       "      <td>-122.25</td>\n",
       "      <td>3.41</td>\n",
       "    </tr>\n",
       "    <tr>\n",
       "      <th>4</th>\n",
       "      <td>3.85</td>\n",
       "      <td>52.00</td>\n",
       "      <td>6.28</td>\n",
       "      <td>1.08</td>\n",
       "      <td>565.00</td>\n",
       "      <td>2.18</td>\n",
       "      <td>37.85</td>\n",
       "      <td>-122.25</td>\n",
       "      <td>3.42</td>\n",
       "    </tr>\n",
       "  </tbody>\n",
       "</table>\n",
       "</div>"
      ],
      "text/plain": [
       "   MedInc  HouseAge  AveRooms  AveBedrms  Population  AveOccup  Latitude  \\\n",
       "0    8.33     41.00      6.98       1.02      322.00      2.56     37.88   \n",
       "1    8.30     21.00      6.24       0.97    2,401.00      2.11     37.86   \n",
       "2    7.26     52.00      8.29       1.07      496.00      2.80     37.85   \n",
       "3    5.64     52.00      5.82       1.07      558.00      2.55     37.85   \n",
       "4    3.85     52.00      6.28       1.08      565.00      2.18     37.85   \n",
       "\n",
       "   Longitude  MedHouseVal  \n",
       "0    -122.23         4.53  \n",
       "1    -122.22         3.58  \n",
       "2    -122.24         3.52  \n",
       "3    -122.25         3.41  \n",
       "4    -122.25         3.42  "
      ]
     },
     "execution_count": 11,
     "metadata": {},
     "output_type": "execute_result"
    }
   ],
   "source": [
    "housing.get('frame').head()"
   ]
  },
  {
   "cell_type": "code",
   "execution_count": 12,
   "id": "739712fa",
   "metadata": {},
   "outputs": [],
   "source": [
    "del(housing)"
   ]
  },
  {
   "cell_type": "markdown",
   "id": "15985e25",
   "metadata": {},
   "source": [
    "O `scikit-learn` inclui métodos para carregar dados de fontes externas, como o repositório [OpenML](https://openml.org). Note que o método inclui um parâmetro (*data_home*) para definir o diretório em que os dados serão guardados. "
   ]
  },
  {
   "cell_type": "code",
   "execution_count": 13,
   "id": "5769cfd9",
   "metadata": {},
   "outputs": [],
   "source": [
    "marketing = datasets.fetch_openml(data_id = 1461,\n",
    "                                  target_column = \"Class\",\n",
    "                                  as_frame = True)"
   ]
  },
  {
   "cell_type": "code",
   "execution_count": 14,
   "id": "c6750c9d",
   "metadata": {
    "scrolled": true
   },
   "outputs": [
    {
     "name": "stdout",
     "output_type": "stream",
     "text": [
      "**Author**: Paulo Cortez, Sérgio Moro\n",
      "**Source**: [UCI](https://archive.ics.uci.edu/ml/datasets/bank+marketing)\n",
      "**Please cite**: S. Moro, R. Laureano and P. Cortez. Using Data Mining for Bank Direct Marketing: An Application of the CRISP-DM Methodology. In P. Novais et al. (Eds.), Proceedings of the European Simulation and Modelling Conference - ESM'2011, pp. 117-121, Guimarães, Portugal, October, 2011. EUROSIS.       \n",
      "\n",
      "**Bank Marketing**  \n",
      "The data is related with direct marketing campaigns of a Portuguese banking institution. The marketing campaigns were based on phone calls. Often, more than one contact to the same client was required, in order to access if the product (bank term deposit) would be (or not) subscribed. \n",
      "\n",
      "The classification goal is to predict if the client will subscribe a term deposit (variable y).\n",
      "\n",
      "### Attribute information  \n",
      "For more information, read [Moro et al., 2011].\n",
      "\n",
      "Input variables:\n",
      "\n",
      "- bank client data:\n",
      "\n",
      "1 - age (numeric) \n",
      "\n",
      "2 - job : type of job (categorical: \"admin.\",\"unknown\",\"unemployed\",\"management\",\"housemaid\",\"entrepreneur\", \"student\",\"blue-collar\",\"self-employed\",\"retired\",\"technician\",\"services\") \n",
      "\n",
      "3 - marital : marital status (categorical: \"married\",\"divorced\",\"single\"; note: \"divorced\"  means divorced or widowed) \n",
      "\n",
      "4 - education (categorical: \"unknown\",\"secondary\",\"primary\",\"tertiary\") \n",
      "\n",
      "5 - default: has credit in default? (binary: \"yes\",\"no\") \n",
      "\n",
      "6 - balance: average yearly balance, in euros (numeric) \n",
      "\n",
      "7 - housing: has housing loan? (binary: \"yes\",\"no\") \n",
      "\n",
      "8 - loan: has personal loan? (binary: \"yes\",\"no\")\n",
      "\n",
      "- related with the last contact of the current campaign:\n",
      "\n",
      "9 - contact: contact communication type (categorical: \"unknown\",\"telephone\",\"cellular\")\n",
      "\n",
      "10 - day: last contact day of the month (numeric)\n",
      "\n",
      "11 - month: last contact month of year (categorical: \"jan\", \"feb\", \"mar\", ..., \"nov\", \"dec\")\n",
      "\n",
      "12 - duration: last contact duration, in seconds (numeric)\n",
      "\n",
      "- other attributes:\n",
      "\n",
      "13 - campaign: number of contacts performed during this campaign and for this client (numeric, includes last contact)\n",
      "\n",
      "14 - pdays: number of days that passed by after the client was last contacted from a previous campaign (numeric, -1 means client was not previously contacted) \n",
      "\n",
      "15 - previous: number of contacts performed before this campaign and for this client (numeric) \n",
      "\n",
      "16 - poutcome: outcome of the previous marketing campaign (categorical: \"unknown\",\"other\",\"failure\",\"success\")\n",
      " \n",
      "- output variable (desired target):\n",
      "\n",
      "17 - y - has the client subscribed a term deposit? (binary: \"yes\",\"no\")\n",
      "\n",
      "Downloaded from openml.org.\n"
     ]
    }
   ],
   "source": [
    "print(marketing.get('DESCR'))"
   ]
  },
  {
   "cell_type": "code",
   "execution_count": 15,
   "id": "dede5b9f",
   "metadata": {
    "scrolled": true
   },
   "outputs": [
    {
     "data": {
      "text/html": [
       "<div>\n",
       "<style scoped>\n",
       "    .dataframe tbody tr th:only-of-type {\n",
       "        vertical-align: middle;\n",
       "    }\n",
       "\n",
       "    .dataframe tbody tr th {\n",
       "        vertical-align: top;\n",
       "    }\n",
       "\n",
       "    .dataframe thead th {\n",
       "        text-align: right;\n",
       "    }\n",
       "</style>\n",
       "<table border=\"1\" class=\"dataframe\">\n",
       "  <thead>\n",
       "    <tr style=\"text-align: right;\">\n",
       "      <th></th>\n",
       "      <th>V1</th>\n",
       "      <th>V2</th>\n",
       "      <th>V3</th>\n",
       "      <th>V4</th>\n",
       "      <th>V5</th>\n",
       "      <th>V6</th>\n",
       "      <th>V7</th>\n",
       "      <th>V8</th>\n",
       "      <th>V9</th>\n",
       "      <th>V10</th>\n",
       "      <th>V11</th>\n",
       "      <th>V12</th>\n",
       "      <th>V13</th>\n",
       "      <th>V14</th>\n",
       "      <th>V15</th>\n",
       "      <th>V16</th>\n",
       "      <th>Class</th>\n",
       "    </tr>\n",
       "  </thead>\n",
       "  <tbody>\n",
       "    <tr>\n",
       "      <th>0</th>\n",
       "      <td>58.00</td>\n",
       "      <td>management</td>\n",
       "      <td>married</td>\n",
       "      <td>tertiary</td>\n",
       "      <td>no</td>\n",
       "      <td>2,143.00</td>\n",
       "      <td>yes</td>\n",
       "      <td>no</td>\n",
       "      <td>unknown</td>\n",
       "      <td>5.00</td>\n",
       "      <td>may</td>\n",
       "      <td>261.00</td>\n",
       "      <td>1.00</td>\n",
       "      <td>-1.00</td>\n",
       "      <td>0.00</td>\n",
       "      <td>unknown</td>\n",
       "      <td>1</td>\n",
       "    </tr>\n",
       "    <tr>\n",
       "      <th>1</th>\n",
       "      <td>44.00</td>\n",
       "      <td>technician</td>\n",
       "      <td>single</td>\n",
       "      <td>secondary</td>\n",
       "      <td>no</td>\n",
       "      <td>29.00</td>\n",
       "      <td>yes</td>\n",
       "      <td>no</td>\n",
       "      <td>unknown</td>\n",
       "      <td>5.00</td>\n",
       "      <td>may</td>\n",
       "      <td>151.00</td>\n",
       "      <td>1.00</td>\n",
       "      <td>-1.00</td>\n",
       "      <td>0.00</td>\n",
       "      <td>unknown</td>\n",
       "      <td>1</td>\n",
       "    </tr>\n",
       "    <tr>\n",
       "      <th>2</th>\n",
       "      <td>33.00</td>\n",
       "      <td>entrepreneur</td>\n",
       "      <td>married</td>\n",
       "      <td>secondary</td>\n",
       "      <td>no</td>\n",
       "      <td>2.00</td>\n",
       "      <td>yes</td>\n",
       "      <td>yes</td>\n",
       "      <td>unknown</td>\n",
       "      <td>5.00</td>\n",
       "      <td>may</td>\n",
       "      <td>76.00</td>\n",
       "      <td>1.00</td>\n",
       "      <td>-1.00</td>\n",
       "      <td>0.00</td>\n",
       "      <td>unknown</td>\n",
       "      <td>1</td>\n",
       "    </tr>\n",
       "    <tr>\n",
       "      <th>3</th>\n",
       "      <td>47.00</td>\n",
       "      <td>blue-collar</td>\n",
       "      <td>married</td>\n",
       "      <td>unknown</td>\n",
       "      <td>no</td>\n",
       "      <td>1,506.00</td>\n",
       "      <td>yes</td>\n",
       "      <td>no</td>\n",
       "      <td>unknown</td>\n",
       "      <td>5.00</td>\n",
       "      <td>may</td>\n",
       "      <td>92.00</td>\n",
       "      <td>1.00</td>\n",
       "      <td>-1.00</td>\n",
       "      <td>0.00</td>\n",
       "      <td>unknown</td>\n",
       "      <td>1</td>\n",
       "    </tr>\n",
       "    <tr>\n",
       "      <th>4</th>\n",
       "      <td>33.00</td>\n",
       "      <td>unknown</td>\n",
       "      <td>single</td>\n",
       "      <td>unknown</td>\n",
       "      <td>no</td>\n",
       "      <td>1.00</td>\n",
       "      <td>no</td>\n",
       "      <td>no</td>\n",
       "      <td>unknown</td>\n",
       "      <td>5.00</td>\n",
       "      <td>may</td>\n",
       "      <td>198.00</td>\n",
       "      <td>1.00</td>\n",
       "      <td>-1.00</td>\n",
       "      <td>0.00</td>\n",
       "      <td>unknown</td>\n",
       "      <td>1</td>\n",
       "    </tr>\n",
       "  </tbody>\n",
       "</table>\n",
       "</div>"
      ],
      "text/plain": [
       "     V1            V2       V3         V4  V5       V6   V7   V8       V9  \\\n",
       "0 58.00    management  married   tertiary  no 2,143.00  yes   no  unknown   \n",
       "1 44.00    technician   single  secondary  no    29.00  yes   no  unknown   \n",
       "2 33.00  entrepreneur  married  secondary  no     2.00  yes  yes  unknown   \n",
       "3 47.00   blue-collar  married    unknown  no 1,506.00  yes   no  unknown   \n",
       "4 33.00       unknown   single    unknown  no     1.00   no   no  unknown   \n",
       "\n",
       "   V10  V11    V12  V13   V14  V15      V16 Class  \n",
       "0 5.00  may 261.00 1.00 -1.00 0.00  unknown     1  \n",
       "1 5.00  may 151.00 1.00 -1.00 0.00  unknown     1  \n",
       "2 5.00  may  76.00 1.00 -1.00 0.00  unknown     1  \n",
       "3 5.00  may  92.00 1.00 -1.00 0.00  unknown     1  \n",
       "4 5.00  may 198.00 1.00 -1.00 0.00  unknown     1  "
      ]
     },
     "execution_count": 15,
     "metadata": {},
     "output_type": "execute_result"
    }
   ],
   "source": [
    "marketing.get('frame').head()"
   ]
  },
  {
   "cell_type": "code",
   "execution_count": 16,
   "id": "ff6041a3",
   "metadata": {},
   "outputs": [],
   "source": [
    "del(marketing)"
   ]
  },
  {
   "cell_type": "markdown",
   "id": "1bb11e14",
   "metadata": {},
   "source": [
    "# Elementos básicos"
   ]
  },
  {
   "cell_type": "markdown",
   "id": "3190ff0b",
   "metadata": {},
   "source": [
    "Os principais tipos de elemento de *Machine Learning* (ML) implementados no `scikit-learn` são os *estimadores* (*estimators*) e os *preprocessadores* (*pre-processors*). *Preprocessadores* são usados para transformar os dados que serão fornecidos para os algoritmos de ML implementados em *estimadores*.\n",
    "\n",
    "*Preprocessadores* incluem dois métodos básicos: `fit` e `transform`. O método `fit` define a transformação a ser realizada, e o método `transform` a aplica aos dados.\n",
    "\n",
    "*Estimadores* incluem os métodos básicos `fit` e `predict`. O primeiro é usado para treinar modelos, e o segundo, para fazer previsões.\n",
    "\n",
    "Os dois tipos de elementos podem ser encadeados em objetos do tipo *pipeline*, que também incluem os métodos `fit` e `predict`."
   ]
  },
  {
   "cell_type": "markdown",
   "id": "ff759134",
   "metadata": {},
   "source": [
    "# Bases de treinamento e teste"
   ]
  },
  {
   "cell_type": "markdown",
   "id": "24ebe8ef",
   "metadata": {},
   "source": [
    "Normalmente, os dados obtidos para gerar modelos de ML devem ser divididos em bases de treinamento e teste. O `scikit-learn` inclui métodos para esse propósito, como `train_test_split`."
   ]
  },
  {
   "cell_type": "code",
   "execution_count": 17,
   "id": "ae824483",
   "metadata": {},
   "outputs": [],
   "source": [
    "X, y = datasets.fetch_california_housing(return_X_y = True)"
   ]
  },
  {
   "cell_type": "code",
   "execution_count": 18,
   "id": "9f2a5255",
   "metadata": {},
   "outputs": [
    {
     "name": "stdout",
     "output_type": "stream",
     "text": [
      "Dimensões de X: (20640, 8)\n",
      "Dimensões de y: (20640,)\n"
     ]
    }
   ],
   "source": [
    "print(f\"Dimensões de X: {X.shape}\\nDimensões de y: {y.shape}\")"
   ]
  },
  {
   "cell_type": "code",
   "execution_count": 19,
   "id": "46bea5e7",
   "metadata": {},
   "outputs": [],
   "source": [
    "# Geração das bases de treinamento e teste:\n",
    "from sklearn.model_selection import train_test_split\n",
    "X_train, X_test, y_train, y_test = train_test_split(X, y, \n",
    "                                                    test_size = .25,\n",
    "                                                    random_state = 42)"
   ]
  },
  {
   "cell_type": "code",
   "execution_count": 20,
   "id": "96c3156e",
   "metadata": {},
   "outputs": [
    {
     "name": "stdout",
     "output_type": "stream",
     "text": [
      "Bases de treinamento:\n",
      "Dimensões de X: (15480, 8)\n",
      "Dimensões de y: (15480,)\n",
      "\n",
      "Bases de teste:\n",
      "Dimensões de X: (5160, 8)\n",
      "Dimensões de y: (5160,)\n"
     ]
    }
   ],
   "source": [
    "print(\"Bases de treinamento:\")\n",
    "print(f\"Dimensões de X: {X_train.shape}\\nDimensões de y: {y_train.shape}\\n\")\n",
    "print(\"Bases de teste:\")\n",
    "print(f\"Dimensões de X: {X_test.shape}\\nDimensões de y: {y_test.shape}\")"
   ]
  },
  {
   "cell_type": "markdown",
   "id": "a20e52a5",
   "metadata": {},
   "source": [
    "O mesmo método pode ser aplicado a *dataframes* do `pandas`."
   ]
  },
  {
   "cell_type": "code",
   "execution_count": 21,
   "id": "a9948bd1",
   "metadata": {},
   "outputs": [],
   "source": [
    "dados = datasets.fetch_california_housing(as_frame = True).get('frame')\n",
    "dados_train, dados_test = train_test_split(dados, test_size = .25)"
   ]
  },
  {
   "cell_type": "code",
   "execution_count": 22,
   "id": "d9e3964c",
   "metadata": {},
   "outputs": [
    {
     "data": {
      "text/html": [
       "<div>\n",
       "<style scoped>\n",
       "    .dataframe tbody tr th:only-of-type {\n",
       "        vertical-align: middle;\n",
       "    }\n",
       "\n",
       "    .dataframe tbody tr th {\n",
       "        vertical-align: top;\n",
       "    }\n",
       "\n",
       "    .dataframe thead th {\n",
       "        text-align: right;\n",
       "    }\n",
       "</style>\n",
       "<table border=\"1\" class=\"dataframe\">\n",
       "  <thead>\n",
       "    <tr style=\"text-align: right;\">\n",
       "      <th></th>\n",
       "      <th>MedInc</th>\n",
       "      <th>HouseAge</th>\n",
       "      <th>AveRooms</th>\n",
       "      <th>AveBedrms</th>\n",
       "      <th>Population</th>\n",
       "      <th>AveOccup</th>\n",
       "      <th>Latitude</th>\n",
       "      <th>Longitude</th>\n",
       "      <th>MedHouseVal</th>\n",
       "    </tr>\n",
       "  </thead>\n",
       "  <tbody>\n",
       "    <tr>\n",
       "      <th>7506</th>\n",
       "      <td>3.06</td>\n",
       "      <td>37.00</td>\n",
       "      <td>5.15</td>\n",
       "      <td>1.05</td>\n",
       "      <td>729.00</td>\n",
       "      <td>5.06</td>\n",
       "      <td>33.92</td>\n",
       "      <td>-118.28</td>\n",
       "      <td>1.05</td>\n",
       "    </tr>\n",
       "    <tr>\n",
       "      <th>18729</th>\n",
       "      <td>2.65</td>\n",
       "      <td>21.00</td>\n",
       "      <td>4.98</td>\n",
       "      <td>0.93</td>\n",
       "      <td>1,428.00</td>\n",
       "      <td>2.84</td>\n",
       "      <td>40.55</td>\n",
       "      <td>-122.36</td>\n",
       "      <td>1.13</td>\n",
       "    </tr>\n",
       "    <tr>\n",
       "      <th>270</th>\n",
       "      <td>3.88</td>\n",
       "      <td>33.00</td>\n",
       "      <td>3.02</td>\n",
       "      <td>0.66</td>\n",
       "      <td>575.00</td>\n",
       "      <td>12.23</td>\n",
       "      <td>37.78</td>\n",
       "      <td>-122.18</td>\n",
       "      <td>2.25</td>\n",
       "    </tr>\n",
       "    <tr>\n",
       "      <th>2461</th>\n",
       "      <td>2.81</td>\n",
       "      <td>29.00</td>\n",
       "      <td>6.08</td>\n",
       "      <td>1.07</td>\n",
       "      <td>914.00</td>\n",
       "      <td>3.26</td>\n",
       "      <td>36.46</td>\n",
       "      <td>-119.69</td>\n",
       "      <td>0.79</td>\n",
       "    </tr>\n",
       "    <tr>\n",
       "      <th>14578</th>\n",
       "      <td>3.34</td>\n",
       "      <td>35.00</td>\n",
       "      <td>5.32</td>\n",
       "      <td>1.03</td>\n",
       "      <td>1,392.00</td>\n",
       "      <td>2.67</td>\n",
       "      <td>32.82</td>\n",
       "      <td>-117.20</td>\n",
       "      <td>1.72</td>\n",
       "    </tr>\n",
       "  </tbody>\n",
       "</table>\n",
       "</div>"
      ],
      "text/plain": [
       "       MedInc  HouseAge  AveRooms  AveBedrms  Population  AveOccup  Latitude  \\\n",
       "7506     3.06     37.00      5.15       1.05      729.00      5.06     33.92   \n",
       "18729    2.65     21.00      4.98       0.93    1,428.00      2.84     40.55   \n",
       "270      3.88     33.00      3.02       0.66      575.00     12.23     37.78   \n",
       "2461     2.81     29.00      6.08       1.07      914.00      3.26     36.46   \n",
       "14578    3.34     35.00      5.32       1.03    1,392.00      2.67     32.82   \n",
       "\n",
       "       Longitude  MedHouseVal  \n",
       "7506     -118.28         1.05  \n",
       "18729    -122.36         1.13  \n",
       "270      -122.18         2.25  \n",
       "2461     -119.69         0.79  \n",
       "14578    -117.20         1.72  "
      ]
     },
     "execution_count": 22,
     "metadata": {},
     "output_type": "execute_result"
    }
   ],
   "source": [
    "dados_train.head()"
   ]
  },
  {
   "cell_type": "code",
   "execution_count": 23,
   "id": "e4bea52d",
   "metadata": {},
   "outputs": [
    {
     "data": {
      "text/html": [
       "<div>\n",
       "<style scoped>\n",
       "    .dataframe tbody tr th:only-of-type {\n",
       "        vertical-align: middle;\n",
       "    }\n",
       "\n",
       "    .dataframe tbody tr th {\n",
       "        vertical-align: top;\n",
       "    }\n",
       "\n",
       "    .dataframe thead th {\n",
       "        text-align: right;\n",
       "    }\n",
       "</style>\n",
       "<table border=\"1\" class=\"dataframe\">\n",
       "  <thead>\n",
       "    <tr style=\"text-align: right;\">\n",
       "      <th></th>\n",
       "      <th>MedInc</th>\n",
       "      <th>HouseAge</th>\n",
       "      <th>AveRooms</th>\n",
       "      <th>AveBedrms</th>\n",
       "      <th>Population</th>\n",
       "      <th>AveOccup</th>\n",
       "      <th>Latitude</th>\n",
       "      <th>Longitude</th>\n",
       "      <th>MedHouseVal</th>\n",
       "    </tr>\n",
       "  </thead>\n",
       "  <tbody>\n",
       "    <tr>\n",
       "      <th>3633</th>\n",
       "      <td>4.54</td>\n",
       "      <td>34.00</td>\n",
       "      <td>5.38</td>\n",
       "      <td>0.97</td>\n",
       "      <td>1,011.00</td>\n",
       "      <td>3.51</td>\n",
       "      <td>34.23</td>\n",
       "      <td>-118.42</td>\n",
       "      <td>1.89</td>\n",
       "    </tr>\n",
       "    <tr>\n",
       "      <th>13823</th>\n",
       "      <td>2.18</td>\n",
       "      <td>10.00</td>\n",
       "      <td>5.20</td>\n",
       "      <td>1.05</td>\n",
       "      <td>2,378.00</td>\n",
       "      <td>2.94</td>\n",
       "      <td>34.50</td>\n",
       "      <td>-117.20</td>\n",
       "      <td>0.92</td>\n",
       "    </tr>\n",
       "    <tr>\n",
       "      <th>5233</th>\n",
       "      <td>1.72</td>\n",
       "      <td>39.00</td>\n",
       "      <td>4.58</td>\n",
       "      <td>1.03</td>\n",
       "      <td>1,211.00</td>\n",
       "      <td>4.57</td>\n",
       "      <td>33.94</td>\n",
       "      <td>-118.24</td>\n",
       "      <td>0.95</td>\n",
       "    </tr>\n",
       "    <tr>\n",
       "      <th>12481</th>\n",
       "      <td>0.75</td>\n",
       "      <td>5.00</td>\n",
       "      <td>2.58</td>\n",
       "      <td>1.04</td>\n",
       "      <td>2,031.00</td>\n",
       "      <td>6.88</td>\n",
       "      <td>38.58</td>\n",
       "      <td>-121.50</td>\n",
       "      <td>1.62</td>\n",
       "    </tr>\n",
       "    <tr>\n",
       "      <th>8421</th>\n",
       "      <td>3.01</td>\n",
       "      <td>26.00</td>\n",
       "      <td>4.01</td>\n",
       "      <td>1.09</td>\n",
       "      <td>2,394.00</td>\n",
       "      <td>3.04</td>\n",
       "      <td>33.93</td>\n",
       "      <td>-118.35</td>\n",
       "      <td>1.92</td>\n",
       "    </tr>\n",
       "  </tbody>\n",
       "</table>\n",
       "</div>"
      ],
      "text/plain": [
       "       MedInc  HouseAge  AveRooms  AveBedrms  Population  AveOccup  Latitude  \\\n",
       "3633     4.54     34.00      5.38       0.97    1,011.00      3.51     34.23   \n",
       "13823    2.18     10.00      5.20       1.05    2,378.00      2.94     34.50   \n",
       "5233     1.72     39.00      4.58       1.03    1,211.00      4.57     33.94   \n",
       "12481    0.75      5.00      2.58       1.04    2,031.00      6.88     38.58   \n",
       "8421     3.01     26.00      4.01       1.09    2,394.00      3.04     33.93   \n",
       "\n",
       "       Longitude  MedHouseVal  \n",
       "3633     -118.42         1.89  \n",
       "13823    -117.20         0.92  \n",
       "5233     -118.24         0.95  \n",
       "12481    -121.50         1.62  \n",
       "8421     -118.35         1.92  "
      ]
     },
     "execution_count": 23,
     "metadata": {},
     "output_type": "execute_result"
    }
   ],
   "source": [
    "dados_test.head()"
   ]
  },
  {
   "cell_type": "markdown",
   "id": "05985c4f",
   "metadata": {},
   "source": [
    "# Transformação de dados"
   ]
  },
  {
   "cell_type": "markdown",
   "id": "35aea65d",
   "metadata": {},
   "source": [
    "Muitos algoritmos de ML requerem dados de um certo tipo ou em um certo formato ou escala. Por exemplo:\n",
    "\n",
    " - regressões lineares não aceitam variáveis do tipo *string* como preditores ou variável dependente; \n",
    " - quando métodos de regularização são usados, deve-se transformar todos os preditores para que sejam medidos numa mesma escala;\n",
    " - de forma geral, recomenda-se a detecção e tratamento de *mising data* (dados faltando ou omitidos) e *outliers* (observações atípicas), e a eliminação de variáveis redundantes ou que variem pouco (contenham pouca informação).\n",
    "\n",
    "O `scikit-learn` implementa em objetos preprocessadores (*pre-processors*) uma variedade de tipos de transformação e seleção de variáveis. Aqui, veremos alguns exemplos. Para mais informações, consulte os tópicos [Dataset transformations](https://scikit-learn.org/stable/data_transforms.html) e [Feature selection](https://scikit-learn.org/stable/modules/feature_selection.html) no [Guia do Usuário](https://scikit-learn.org/stable/user_guide.html)."
   ]
  },
  {
   "cell_type": "markdown",
   "id": "fbf86f10",
   "metadata": {},
   "source": [
    "Vamos usar a base de dados de treinamento obtida da base *California Housing*."
   ]
  },
  {
   "cell_type": "code",
   "execution_count": 24,
   "id": "4ba15ff4",
   "metadata": {
    "scrolled": false
   },
   "outputs": [
    {
     "data": {
      "text/html": [
       "<div>\n",
       "<style scoped>\n",
       "    .dataframe tbody tr th:only-of-type {\n",
       "        vertical-align: middle;\n",
       "    }\n",
       "\n",
       "    .dataframe tbody tr th {\n",
       "        vertical-align: top;\n",
       "    }\n",
       "\n",
       "    .dataframe thead th {\n",
       "        text-align: right;\n",
       "    }\n",
       "</style>\n",
       "<table border=\"1\" class=\"dataframe\">\n",
       "  <thead>\n",
       "    <tr style=\"text-align: right;\">\n",
       "      <th></th>\n",
       "      <th>MedInc</th>\n",
       "      <th>HouseAge</th>\n",
       "      <th>AveRooms</th>\n",
       "      <th>AveBedrms</th>\n",
       "      <th>Population</th>\n",
       "      <th>AveOccup</th>\n",
       "      <th>Latitude</th>\n",
       "      <th>Longitude</th>\n",
       "      <th>MedHouseVal</th>\n",
       "    </tr>\n",
       "  </thead>\n",
       "  <tbody>\n",
       "    <tr>\n",
       "      <th>7506</th>\n",
       "      <td>3.06</td>\n",
       "      <td>37.00</td>\n",
       "      <td>5.15</td>\n",
       "      <td>1.05</td>\n",
       "      <td>729.00</td>\n",
       "      <td>5.06</td>\n",
       "      <td>33.92</td>\n",
       "      <td>-118.28</td>\n",
       "      <td>1.05</td>\n",
       "    </tr>\n",
       "    <tr>\n",
       "      <th>18729</th>\n",
       "      <td>2.65</td>\n",
       "      <td>21.00</td>\n",
       "      <td>4.98</td>\n",
       "      <td>0.93</td>\n",
       "      <td>1,428.00</td>\n",
       "      <td>2.84</td>\n",
       "      <td>40.55</td>\n",
       "      <td>-122.36</td>\n",
       "      <td>1.13</td>\n",
       "    </tr>\n",
       "    <tr>\n",
       "      <th>270</th>\n",
       "      <td>3.88</td>\n",
       "      <td>33.00</td>\n",
       "      <td>3.02</td>\n",
       "      <td>0.66</td>\n",
       "      <td>575.00</td>\n",
       "      <td>12.23</td>\n",
       "      <td>37.78</td>\n",
       "      <td>-122.18</td>\n",
       "      <td>2.25</td>\n",
       "    </tr>\n",
       "    <tr>\n",
       "      <th>2461</th>\n",
       "      <td>2.81</td>\n",
       "      <td>29.00</td>\n",
       "      <td>6.08</td>\n",
       "      <td>1.07</td>\n",
       "      <td>914.00</td>\n",
       "      <td>3.26</td>\n",
       "      <td>36.46</td>\n",
       "      <td>-119.69</td>\n",
       "      <td>0.79</td>\n",
       "    </tr>\n",
       "    <tr>\n",
       "      <th>14578</th>\n",
       "      <td>3.34</td>\n",
       "      <td>35.00</td>\n",
       "      <td>5.32</td>\n",
       "      <td>1.03</td>\n",
       "      <td>1,392.00</td>\n",
       "      <td>2.67</td>\n",
       "      <td>32.82</td>\n",
       "      <td>-117.20</td>\n",
       "      <td>1.72</td>\n",
       "    </tr>\n",
       "  </tbody>\n",
       "</table>\n",
       "</div>"
      ],
      "text/plain": [
       "       MedInc  HouseAge  AveRooms  AveBedrms  Population  AveOccup  Latitude  \\\n",
       "7506     3.06     37.00      5.15       1.05      729.00      5.06     33.92   \n",
       "18729    2.65     21.00      4.98       0.93    1,428.00      2.84     40.55   \n",
       "270      3.88     33.00      3.02       0.66      575.00     12.23     37.78   \n",
       "2461     2.81     29.00      6.08       1.07      914.00      3.26     36.46   \n",
       "14578    3.34     35.00      5.32       1.03    1,392.00      2.67     32.82   \n",
       "\n",
       "       Longitude  MedHouseVal  \n",
       "7506     -118.28         1.05  \n",
       "18729    -122.36         1.13  \n",
       "270      -122.18         2.25  \n",
       "2461     -119.69         0.79  \n",
       "14578    -117.20         1.72  "
      ]
     },
     "execution_count": 24,
     "metadata": {},
     "output_type": "execute_result"
    }
   ],
   "source": [
    "dados_train.head()"
   ]
  },
  {
   "cell_type": "code",
   "execution_count": 25,
   "id": "97ab50af",
   "metadata": {},
   "outputs": [
    {
     "data": {
      "text/html": [
       "<div>\n",
       "<style scoped>\n",
       "    .dataframe tbody tr th:only-of-type {\n",
       "        vertical-align: middle;\n",
       "    }\n",
       "\n",
       "    .dataframe tbody tr th {\n",
       "        vertical-align: top;\n",
       "    }\n",
       "\n",
       "    .dataframe thead th {\n",
       "        text-align: right;\n",
       "    }\n",
       "</style>\n",
       "<table border=\"1\" class=\"dataframe\">\n",
       "  <thead>\n",
       "    <tr style=\"text-align: right;\">\n",
       "      <th></th>\n",
       "      <th>MedInc</th>\n",
       "      <th>HouseAge</th>\n",
       "      <th>AveRooms</th>\n",
       "      <th>AveBedrms</th>\n",
       "      <th>Population</th>\n",
       "      <th>AveOccup</th>\n",
       "      <th>Latitude</th>\n",
       "      <th>Longitude</th>\n",
       "      <th>MedHouseVal</th>\n",
       "    </tr>\n",
       "  </thead>\n",
       "  <tbody>\n",
       "    <tr>\n",
       "      <th>count</th>\n",
       "      <td>15,480.00</td>\n",
       "      <td>15,480.00</td>\n",
       "      <td>15,480.00</td>\n",
       "      <td>15,480.00</td>\n",
       "      <td>15,480.00</td>\n",
       "      <td>15,480.00</td>\n",
       "      <td>15,480.00</td>\n",
       "      <td>15,480.00</td>\n",
       "      <td>15,480.00</td>\n",
       "    </tr>\n",
       "    <tr>\n",
       "      <th>mean</th>\n",
       "      <td>3.88</td>\n",
       "      <td>28.67</td>\n",
       "      <td>5.44</td>\n",
       "      <td>1.10</td>\n",
       "      <td>1,421.82</td>\n",
       "      <td>3.11</td>\n",
       "      <td>35.63</td>\n",
       "      <td>-119.57</td>\n",
       "      <td>2.07</td>\n",
       "    </tr>\n",
       "    <tr>\n",
       "      <th>std</th>\n",
       "      <td>1.90</td>\n",
       "      <td>12.59</td>\n",
       "      <td>2.59</td>\n",
       "      <td>0.50</td>\n",
       "      <td>1,090.65</td>\n",
       "      <td>11.96</td>\n",
       "      <td>2.13</td>\n",
       "      <td>2.00</td>\n",
       "      <td>1.16</td>\n",
       "    </tr>\n",
       "    <tr>\n",
       "      <th>min</th>\n",
       "      <td>0.50</td>\n",
       "      <td>1.00</td>\n",
       "      <td>0.89</td>\n",
       "      <td>0.38</td>\n",
       "      <td>3.00</td>\n",
       "      <td>0.69</td>\n",
       "      <td>32.55</td>\n",
       "      <td>-124.35</td>\n",
       "      <td>0.15</td>\n",
       "    </tr>\n",
       "    <tr>\n",
       "      <th>25%</th>\n",
       "      <td>2.57</td>\n",
       "      <td>18.00</td>\n",
       "      <td>4.45</td>\n",
       "      <td>1.01</td>\n",
       "      <td>788.00</td>\n",
       "      <td>2.43</td>\n",
       "      <td>33.93</td>\n",
       "      <td>-121.79</td>\n",
       "      <td>1.19</td>\n",
       "    </tr>\n",
       "    <tr>\n",
       "      <th>50%</th>\n",
       "      <td>3.55</td>\n",
       "      <td>29.00</td>\n",
       "      <td>5.23</td>\n",
       "      <td>1.05</td>\n",
       "      <td>1,163.50</td>\n",
       "      <td>2.82</td>\n",
       "      <td>34.26</td>\n",
       "      <td>-118.50</td>\n",
       "      <td>1.80</td>\n",
       "    </tr>\n",
       "    <tr>\n",
       "      <th>75%</th>\n",
       "      <td>4.74</td>\n",
       "      <td>37.00</td>\n",
       "      <td>6.06</td>\n",
       "      <td>1.10</td>\n",
       "      <td>1,722.00</td>\n",
       "      <td>3.28</td>\n",
       "      <td>37.71</td>\n",
       "      <td>-118.01</td>\n",
       "      <td>2.66</td>\n",
       "    </tr>\n",
       "    <tr>\n",
       "      <th>max</th>\n",
       "      <td>15.00</td>\n",
       "      <td>52.00</td>\n",
       "      <td>141.91</td>\n",
       "      <td>34.07</td>\n",
       "      <td>16,305.00</td>\n",
       "      <td>1,243.33</td>\n",
       "      <td>41.95</td>\n",
       "      <td>-114.31</td>\n",
       "      <td>5.00</td>\n",
       "    </tr>\n",
       "  </tbody>\n",
       "</table>\n",
       "</div>"
      ],
      "text/plain": [
       "         MedInc  HouseAge  AveRooms  AveBedrms  Population  AveOccup  \\\n",
       "count 15,480.00 15,480.00 15,480.00  15,480.00   15,480.00 15,480.00   \n",
       "mean       3.88     28.67      5.44       1.10    1,421.82      3.11   \n",
       "std        1.90     12.59      2.59       0.50    1,090.65     11.96   \n",
       "min        0.50      1.00      0.89       0.38        3.00      0.69   \n",
       "25%        2.57     18.00      4.45       1.01      788.00      2.43   \n",
       "50%        3.55     29.00      5.23       1.05    1,163.50      2.82   \n",
       "75%        4.74     37.00      6.06       1.10    1,722.00      3.28   \n",
       "max       15.00     52.00    141.91      34.07   16,305.00  1,243.33   \n",
       "\n",
       "       Latitude  Longitude  MedHouseVal  \n",
       "count 15,480.00  15,480.00    15,480.00  \n",
       "mean      35.63    -119.57         2.07  \n",
       "std        2.13       2.00         1.16  \n",
       "min       32.55    -124.35         0.15  \n",
       "25%       33.93    -121.79         1.19  \n",
       "50%       34.26    -118.50         1.80  \n",
       "75%       37.71    -118.01         2.66  \n",
       "max       41.95    -114.31         5.00  "
      ]
     },
     "execution_count": 25,
     "metadata": {},
     "output_type": "execute_result"
    }
   ],
   "source": [
    "dados_train.describe()"
   ]
  },
  {
   "cell_type": "markdown",
   "id": "fb7973c0",
   "metadata": {},
   "source": [
    "## Eliminação de variáveis com baixa variância"
   ]
  },
  {
   "cell_type": "code",
   "execution_count": 26,
   "id": "ee96877a",
   "metadata": {},
   "outputs": [],
   "source": [
    "from sklearn.feature_selection import VarianceThreshold\n",
    "\n",
    "# Definição do preprocessador com o valor mínimo de variância:\n",
    "low_var = VarianceThreshold(threshold = 5.0)"
   ]
  },
  {
   "cell_type": "code",
   "execution_count": 27,
   "id": "7d94f6e2",
   "metadata": {},
   "outputs": [
    {
     "data": {
      "text/plain": [
       "array([[3.70e+01, 5.15e+00, 7.29e+02, 5.06e+00],\n",
       "       [2.10e+01, 4.98e+00, 1.43e+03, 2.84e+00],\n",
       "       [3.30e+01, 3.02e+00, 5.75e+02, 1.22e+01],\n",
       "       ...,\n",
       "       [3.80e+01, 4.77e+00, 6.79e+02, 4.07e+00],\n",
       "       [1.50e+01, 3.96e+00, 3.09e+03, 2.55e+00],\n",
       "       [3.50e+01, 6.11e+00, 1.16e+03, 2.60e+00]])"
      ]
     },
     "execution_count": 27,
     "metadata": {},
     "output_type": "execute_result"
    }
   ],
   "source": [
    "# Base sem variáveis com baixa variância:\n",
    "low_var.fit_transform(dados_train.loc[:, \"MedInc\":\"Longitude\"])"
   ]
  },
  {
   "cell_type": "code",
   "execution_count": 28,
   "id": "4b796c94",
   "metadata": {},
   "outputs": [
    {
     "data": {
      "text/plain": [
       "array(['HouseAge', 'AveRooms', 'Population', 'AveOccup'], dtype=object)"
      ]
     },
     "execution_count": 28,
     "metadata": {},
     "output_type": "execute_result"
    }
   ],
   "source": [
    "# Variáveis mantidas:\n",
    "low_var.get_feature_names_out()"
   ]
  },
  {
   "cell_type": "code",
   "execution_count": 29,
   "id": "4fe44ff1",
   "metadata": {},
   "outputs": [
    {
     "data": {
      "text/html": [
       "<div>\n",
       "<style scoped>\n",
       "    .dataframe tbody tr th:only-of-type {\n",
       "        vertical-align: middle;\n",
       "    }\n",
       "\n",
       "    .dataframe tbody tr th {\n",
       "        vertical-align: top;\n",
       "    }\n",
       "\n",
       "    .dataframe thead th {\n",
       "        text-align: right;\n",
       "    }\n",
       "</style>\n",
       "<table border=\"1\" class=\"dataframe\">\n",
       "  <thead>\n",
       "    <tr style=\"text-align: right;\">\n",
       "      <th></th>\n",
       "      <th>Variáveis</th>\n",
       "      <th>Variâncias</th>\n",
       "    </tr>\n",
       "  </thead>\n",
       "  <tbody>\n",
       "    <tr>\n",
       "      <th>0</th>\n",
       "      <td>MedInc</td>\n",
       "      <td>3.61</td>\n",
       "    </tr>\n",
       "    <tr>\n",
       "      <th>1</th>\n",
       "      <td>HouseAge</td>\n",
       "      <td>158.49</td>\n",
       "    </tr>\n",
       "    <tr>\n",
       "      <th>2</th>\n",
       "      <td>AveRooms</td>\n",
       "      <td>6.69</td>\n",
       "    </tr>\n",
       "    <tr>\n",
       "      <th>3</th>\n",
       "      <td>AveBedrms</td>\n",
       "      <td>0.25</td>\n",
       "    </tr>\n",
       "    <tr>\n",
       "      <th>4</th>\n",
       "      <td>Population</td>\n",
       "      <td>1,189,432.54</td>\n",
       "    </tr>\n",
       "    <tr>\n",
       "      <th>5</th>\n",
       "      <td>AveOccup</td>\n",
       "      <td>143.15</td>\n",
       "    </tr>\n",
       "    <tr>\n",
       "      <th>6</th>\n",
       "      <td>Latitude</td>\n",
       "      <td>4.55</td>\n",
       "    </tr>\n",
       "    <tr>\n",
       "      <th>7</th>\n",
       "      <td>Longitude</td>\n",
       "      <td>4.00</td>\n",
       "    </tr>\n",
       "  </tbody>\n",
       "</table>\n",
       "</div>"
      ],
      "text/plain": [
       "    Variáveis   Variâncias\n",
       "0      MedInc         3.61\n",
       "1    HouseAge       158.49\n",
       "2    AveRooms         6.69\n",
       "3   AveBedrms         0.25\n",
       "4  Population 1,189,432.54\n",
       "5    AveOccup       143.15\n",
       "6    Latitude         4.55\n",
       "7   Longitude         4.00"
      ]
     },
     "execution_count": 29,
     "metadata": {},
     "output_type": "execute_result"
    }
   ],
   "source": [
    "# Variâncias das variáveis:\n",
    "pd.DataFrame({\"Variáveis\": low_var.feature_names_in_, \n",
    "              \"Variâncias\": low_var.variances_})"
   ]
  },
  {
   "cell_type": "markdown",
   "id": "4ae3cea0",
   "metadata": {},
   "source": [
    "## Eliminação de variáveis pouco relacionadas com o resultado"
   ]
  },
  {
   "cell_type": "code",
   "execution_count": 30,
   "id": "1aea0252",
   "metadata": {},
   "outputs": [],
   "source": [
    "from sklearn.feature_selection import SelectKBest, f_regression, mutual_info_regression"
   ]
  },
  {
   "cell_type": "code",
   "execution_count": 31,
   "id": "7c133879",
   "metadata": {
    "scrolled": false
   },
   "outputs": [
    {
     "data": {
      "text/plain": [
       "array([[   3.06,   37.  ,    5.15, ...,    5.06,   33.92, -118.28],\n",
       "       [   2.65,   21.  ,    4.98, ...,    2.84,   40.55, -122.36],\n",
       "       [   3.88,   33.  ,    3.02, ...,   12.23,   37.78, -122.18],\n",
       "       ...,\n",
       "       [   3.66,   38.  ,    4.77, ...,    4.07,   33.9 , -118.22],\n",
       "       [   2.13,   15.  ,    3.96, ...,    2.55,   33.78, -118.16],\n",
       "       [   5.08,   35.  ,    6.11, ...,    2.6 ,   34.19, -118.5 ]])"
      ]
     },
     "execution_count": 31,
     "metadata": {},
     "output_type": "execute_result"
    }
   ],
   "source": [
    "# Método f_regression:\n",
    "not_related = SelectKBest(score_func = f_regression, k = \"all\")\n",
    "not_related.fit_transform(X = dados_train.loc[:, \"MedInc\":\"Longitude\"],\n",
    "                          y = dados_train.loc[:, \"MedHouseVal\"])"
   ]
  },
  {
   "cell_type": "code",
   "execution_count": 32,
   "id": "7d749b49",
   "metadata": {
    "scrolled": true
   },
   "outputs": [
    {
     "data": {
      "text/html": [
       "<div>\n",
       "<style scoped>\n",
       "    .dataframe tbody tr th:only-of-type {\n",
       "        vertical-align: middle;\n",
       "    }\n",
       "\n",
       "    .dataframe tbody tr th {\n",
       "        vertical-align: top;\n",
       "    }\n",
       "\n",
       "    .dataframe thead th {\n",
       "        text-align: right;\n",
       "    }\n",
       "</style>\n",
       "<table border=\"1\" class=\"dataframe\">\n",
       "  <thead>\n",
       "    <tr style=\"text-align: right;\">\n",
       "      <th></th>\n",
       "      <th>Variáveis</th>\n",
       "      <th>Scores</th>\n",
       "      <th>Valor-p</th>\n",
       "    </tr>\n",
       "  </thead>\n",
       "  <tbody>\n",
       "    <tr>\n",
       "      <th>0</th>\n",
       "      <td>MedInc</td>\n",
       "      <td>13,784.94</td>\n",
       "      <td>0.00</td>\n",
       "    </tr>\n",
       "    <tr>\n",
       "      <th>1</th>\n",
       "      <td>HouseAge</td>\n",
       "      <td>166.32</td>\n",
       "      <td>0.00</td>\n",
       "    </tr>\n",
       "    <tr>\n",
       "      <th>2</th>\n",
       "      <td>AveRooms</td>\n",
       "      <td>345.40</td>\n",
       "      <td>0.00</td>\n",
       "    </tr>\n",
       "    <tr>\n",
       "      <th>3</th>\n",
       "      <td>AveBedrms</td>\n",
       "      <td>25.85</td>\n",
       "      <td>0.00</td>\n",
       "    </tr>\n",
       "    <tr>\n",
       "      <th>4</th>\n",
       "      <td>Population</td>\n",
       "      <td>4.75</td>\n",
       "      <td>0.03</td>\n",
       "    </tr>\n",
       "    <tr>\n",
       "      <th>5</th>\n",
       "      <td>AveOccup</td>\n",
       "      <td>7.25</td>\n",
       "      <td>0.01</td>\n",
       "    </tr>\n",
       "    <tr>\n",
       "      <th>6</th>\n",
       "      <td>Latitude</td>\n",
       "      <td>321.47</td>\n",
       "      <td>0.00</td>\n",
       "    </tr>\n",
       "    <tr>\n",
       "      <th>7</th>\n",
       "      <td>Longitude</td>\n",
       "      <td>36.04</td>\n",
       "      <td>0.00</td>\n",
       "    </tr>\n",
       "  </tbody>\n",
       "</table>\n",
       "</div>"
      ],
      "text/plain": [
       "    Variáveis    Scores  Valor-p\n",
       "0      MedInc 13,784.94     0.00\n",
       "1    HouseAge    166.32     0.00\n",
       "2    AveRooms    345.40     0.00\n",
       "3   AveBedrms     25.85     0.00\n",
       "4  Population      4.75     0.03\n",
       "5    AveOccup      7.25     0.01\n",
       "6    Latitude    321.47     0.00\n",
       "7   Longitude     36.04     0.00"
      ]
     },
     "execution_count": 32,
     "metadata": {},
     "output_type": "execute_result"
    }
   ],
   "source": [
    "pd.DataFrame({\"Variáveis\": not_related.feature_names_in_,\n",
    "              \"Scores\": not_related.scores_,\n",
    "              \"Valor-p\": not_related.pvalues_})"
   ]
  },
  {
   "cell_type": "code",
   "execution_count": 33,
   "id": "3bb80c6d",
   "metadata": {},
   "outputs": [
    {
     "data": {
      "text/plain": [
       "SelectKBest(k=5, score_func=<function f_regression at 0x0000028253C30DC0>)"
      ]
     },
     "execution_count": 33,
     "metadata": {},
     "output_type": "execute_result"
    }
   ],
   "source": [
    "# Seleção das k melhores variáveis:\n",
    "not_related.set_params(**{\"k\": 5})"
   ]
  },
  {
   "cell_type": "code",
   "execution_count": 34,
   "id": "f4017d5f",
   "metadata": {
    "scrolled": false
   },
   "outputs": [
    {
     "data": {
      "text/plain": [
       "array([[   3.06,   37.  ,    5.15,   33.92, -118.28],\n",
       "       [   2.65,   21.  ,    4.98,   40.55, -122.36],\n",
       "       [   3.88,   33.  ,    3.02,   37.78, -122.18],\n",
       "       ...,\n",
       "       [   3.66,   38.  ,    4.77,   33.9 , -118.22],\n",
       "       [   2.13,   15.  ,    3.96,   33.78, -118.16],\n",
       "       [   5.08,   35.  ,    6.11,   34.19, -118.5 ]])"
      ]
     },
     "execution_count": 34,
     "metadata": {},
     "output_type": "execute_result"
    }
   ],
   "source": [
    "not_related.fit_transform(X = dados_train.loc[:, \"MedInc\":\"Longitude\"],\n",
    "                          y = dados_train.loc[:, \"MedHouseVal\"])"
   ]
  },
  {
   "cell_type": "code",
   "execution_count": 35,
   "id": "b1a7ed05",
   "metadata": {},
   "outputs": [
    {
     "data": {
      "text/plain": [
       "array(['MedInc', 'HouseAge', 'AveRooms', 'Latitude', 'Longitude'],\n",
       "      dtype=object)"
      ]
     },
     "execution_count": 35,
     "metadata": {},
     "output_type": "execute_result"
    }
   ],
   "source": [
    "not_related.get_feature_names_out()"
   ]
  },
  {
   "cell_type": "code",
   "execution_count": 36,
   "id": "4a2f6d07",
   "metadata": {
    "scrolled": false
   },
   "outputs": [
    {
     "data": {
      "text/plain": [
       "array([[   3.06,    5.15,    5.06,   33.92, -118.28],\n",
       "       [   2.65,    4.98,    2.84,   40.55, -122.36],\n",
       "       [   3.88,    3.02,   12.23,   37.78, -122.18],\n",
       "       ...,\n",
       "       [   3.66,    4.77,    4.07,   33.9 , -118.22],\n",
       "       [   2.13,    3.96,    2.55,   33.78, -118.16],\n",
       "       [   5.08,    6.11,    2.6 ,   34.19, -118.5 ]])"
      ]
     },
     "execution_count": 36,
     "metadata": {},
     "output_type": "execute_result"
    }
   ],
   "source": [
    "# Método mutual_info_regression:\n",
    "not_related = SelectKBest(score_func = mutual_info_regression, k = 5)\n",
    "not_related.fit_transform(X = dados_train.loc[:, \"MedInc\":\"Longitude\"],\n",
    "                          y = dados_train.loc[:, \"MedHouseVal\"])"
   ]
  },
  {
   "cell_type": "code",
   "execution_count": 37,
   "id": "b3e939fc",
   "metadata": {},
   "outputs": [
    {
     "data": {
      "text/plain": [
       "array(['MedInc', 'AveRooms', 'AveOccup', 'Latitude', 'Longitude'],\n",
       "      dtype=object)"
      ]
     },
     "execution_count": 37,
     "metadata": {},
     "output_type": "execute_result"
    }
   ],
   "source": [
    "not_related.get_feature_names_out()"
   ]
  },
  {
   "cell_type": "markdown",
   "id": "514bd01a",
   "metadata": {},
   "source": [
    "## Eliminação recursiva de variáveis com validação cruzada"
   ]
  },
  {
   "cell_type": "code",
   "execution_count": 38,
   "id": "c6aba3dd",
   "metadata": {},
   "outputs": [
    {
     "name": "stderr",
     "output_type": "stream",
     "text": [
      "C:\\Users\\valte\\anaconda3\\lib\\site-packages\\sklearn\\base.py:441: UserWarning: X does not have valid feature names, but RFECV was fitted with feature names\n",
      "  warnings.warn(\n"
     ]
    },
    {
     "data": {
      "text/plain": [
       "array([[   3.06,   37.  ,    5.15,    1.05,   33.92, -118.28],\n",
       "       [   2.65,   21.  ,    4.98,    0.93,   40.55, -122.36],\n",
       "       [   3.88,   33.  ,    3.02,    0.66,   37.78, -122.18],\n",
       "       ...,\n",
       "       [   3.66,   38.  ,    4.77,    0.95,   33.9 , -118.22],\n",
       "       [   2.13,   15.  ,    3.96,    1.13,   33.78, -118.16],\n",
       "       [   5.08,   35.  ,    6.11,    1.1 ,   34.19, -118.5 ]])"
      ]
     },
     "execution_count": 38,
     "metadata": {},
     "output_type": "execute_result"
    }
   ],
   "source": [
    "from sklearn.feature_selection import RFECV\n",
    "from sklearn.linear_model import LinearRegression\n",
    "\n",
    "regr = LinearRegression()\n",
    "sel_vars = RFECV(regr, cv = 5)\n",
    "sel_vars.fit_transform(X = dados_train.loc[:, \"MedInc\":\"Longitude\"],\n",
    "                       y = dados_train.loc[:, \"MedHouseVal\"])"
   ]
  },
  {
   "cell_type": "code",
   "execution_count": 39,
   "id": "1460bcc8",
   "metadata": {},
   "outputs": [
    {
     "data": {
      "text/plain": [
       "array(['MedInc', 'HouseAge', 'AveRooms', 'AveBedrms', 'Latitude',\n",
       "       'Longitude'], dtype=object)"
      ]
     },
     "execution_count": 39,
     "metadata": {},
     "output_type": "execute_result"
    }
   ],
   "source": [
    "sel_vars.get_feature_names_out()"
   ]
  },
  {
   "cell_type": "markdown",
   "id": "1580a4ae",
   "metadata": {},
   "source": [
    "## Padronização"
   ]
  },
  {
   "cell_type": "code",
   "execution_count": 40,
   "id": "2c98284e",
   "metadata": {
    "scrolled": true
   },
   "outputs": [
    {
     "data": {
      "text/plain": [
       "array([[-4.32e-01,  6.61e-01, -1.11e-01, ...,  1.63e-01, -8.03e-01,\n",
       "         6.47e-01],\n",
       "       [-6.45e-01, -6.10e-01, -1.78e-01, ..., -2.23e-02,  2.30e+00,\n",
       "        -1.39e+00],\n",
       "       [-8.18e-04,  3.44e-01, -9.35e-01, ...,  7.63e-01,  1.01e+00,\n",
       "        -1.30e+00],\n",
       "       ...,\n",
       "       [-1.14e-01,  7.41e-01, -2.60e-01, ...,  7.98e-02, -8.12e-01,\n",
       "         6.77e-01],\n",
       "       [-9.20e-01, -1.09e+00, -5.73e-01, ..., -4.71e-02, -8.69e-01,\n",
       "         7.07e-01],\n",
       "       [ 6.33e-01,  5.02e-01,  2.60e-01, ..., -4.25e-02, -6.77e-01,\n",
       "         5.37e-01]])"
      ]
     },
     "execution_count": 40,
     "metadata": {},
     "output_type": "execute_result"
    }
   ],
   "source": [
    "from sklearn.preprocessing import StandardScaler\n",
    "\n",
    "padr = StandardScaler()\n",
    "dados_padr = padr.fit_transform(X = dados_train.loc[:, \"MedInc\":\"Longitude\"])\n",
    "dados_padr"
   ]
  },
  {
   "cell_type": "code",
   "execution_count": 41,
   "id": "4102e21f",
   "metadata": {
    "scrolled": true
   },
   "outputs": [
    {
     "data": {
      "text/html": [
       "<div>\n",
       "<style scoped>\n",
       "    .dataframe tbody tr th:only-of-type {\n",
       "        vertical-align: middle;\n",
       "    }\n",
       "\n",
       "    .dataframe tbody tr th {\n",
       "        vertical-align: top;\n",
       "    }\n",
       "\n",
       "    .dataframe thead th {\n",
       "        text-align: right;\n",
       "    }\n",
       "</style>\n",
       "<table border=\"1\" class=\"dataframe\">\n",
       "  <thead>\n",
       "    <tr style=\"text-align: right;\">\n",
       "      <th></th>\n",
       "      <th>Variáveis</th>\n",
       "      <th>Médias originais</th>\n",
       "      <th>Desvios-padrão</th>\n",
       "      <th>Novas médias</th>\n",
       "      <th>Novos desvios</th>\n",
       "    </tr>\n",
       "  </thead>\n",
       "  <tbody>\n",
       "    <tr>\n",
       "      <th>0</th>\n",
       "      <td>MedInc</td>\n",
       "      <td>3.88</td>\n",
       "      <td>1.90</td>\n",
       "      <td>0.00</td>\n",
       "      <td>1.00</td>\n",
       "    </tr>\n",
       "    <tr>\n",
       "      <th>1</th>\n",
       "      <td>HouseAge</td>\n",
       "      <td>28.67</td>\n",
       "      <td>12.59</td>\n",
       "      <td>0.00</td>\n",
       "      <td>1.00</td>\n",
       "    </tr>\n",
       "    <tr>\n",
       "      <th>2</th>\n",
       "      <td>AveRooms</td>\n",
       "      <td>5.44</td>\n",
       "      <td>2.59</td>\n",
       "      <td>-0.00</td>\n",
       "      <td>1.00</td>\n",
       "    </tr>\n",
       "    <tr>\n",
       "      <th>3</th>\n",
       "      <td>AveBedrms</td>\n",
       "      <td>1.10</td>\n",
       "      <td>0.50</td>\n",
       "      <td>-0.00</td>\n",
       "      <td>1.00</td>\n",
       "    </tr>\n",
       "    <tr>\n",
       "      <th>4</th>\n",
       "      <td>Population</td>\n",
       "      <td>1,421.82</td>\n",
       "      <td>1,090.61</td>\n",
       "      <td>-0.00</td>\n",
       "      <td>1.00</td>\n",
       "    </tr>\n",
       "    <tr>\n",
       "      <th>5</th>\n",
       "      <td>AveOccup</td>\n",
       "      <td>3.11</td>\n",
       "      <td>11.96</td>\n",
       "      <td>0.00</td>\n",
       "      <td>1.00</td>\n",
       "    </tr>\n",
       "    <tr>\n",
       "      <th>6</th>\n",
       "      <td>Latitude</td>\n",
       "      <td>35.63</td>\n",
       "      <td>2.13</td>\n",
       "      <td>0.00</td>\n",
       "      <td>1.00</td>\n",
       "    </tr>\n",
       "    <tr>\n",
       "      <th>7</th>\n",
       "      <td>Longitude</td>\n",
       "      <td>-119.57</td>\n",
       "      <td>2.00</td>\n",
       "      <td>-0.00</td>\n",
       "      <td>1.00</td>\n",
       "    </tr>\n",
       "  </tbody>\n",
       "</table>\n",
       "</div>"
      ],
      "text/plain": [
       "    Variáveis  Médias originais  Desvios-padrão  Novas médias  Novos desvios\n",
       "0      MedInc              3.88            1.90          0.00           1.00\n",
       "1    HouseAge             28.67           12.59          0.00           1.00\n",
       "2    AveRooms              5.44            2.59         -0.00           1.00\n",
       "3   AveBedrms              1.10            0.50         -0.00           1.00\n",
       "4  Population          1,421.82        1,090.61         -0.00           1.00\n",
       "5    AveOccup              3.11           11.96          0.00           1.00\n",
       "6    Latitude             35.63            2.13          0.00           1.00\n",
       "7   Longitude           -119.57            2.00         -0.00           1.00"
      ]
     },
     "execution_count": 41,
     "metadata": {},
     "output_type": "execute_result"
    }
   ],
   "source": [
    "pd.DataFrame({\"Variáveis\": dados_train.columns[:-1],\n",
    "              \"Médias originais\": padr.mean_,\n",
    "              \"Desvios-padrão\": padr.scale_,\n",
    "              \"Novas médias\": np.mean(dados_padr, axis = 0),\n",
    "              \"Novos desvios\": np.std(dados_padr, axis = 0)})"
   ]
  },
  {
   "cell_type": "markdown",
   "id": "004c5d3e",
   "metadata": {},
   "source": [
    "## MinMax"
   ]
  },
  {
   "cell_type": "code",
   "execution_count": 42,
   "id": "a27a78f9",
   "metadata": {
    "scrolled": true
   },
   "outputs": [
    {
     "data": {
      "text/plain": [
       "array([[0.18, 0.71, 0.03, ..., 0.  , 0.15, 0.6 ],\n",
       "       [0.15, 0.39, 0.03, ..., 0.  , 0.85, 0.2 ],\n",
       "       [0.23, 0.63, 0.02, ..., 0.01, 0.56, 0.22],\n",
       "       ...,\n",
       "       [0.22, 0.73, 0.03, ..., 0.  , 0.14, 0.61],\n",
       "       [0.11, 0.27, 0.02, ..., 0.  , 0.13, 0.62],\n",
       "       [0.32, 0.67, 0.04, ..., 0.  , 0.17, 0.58]])"
      ]
     },
     "execution_count": 42,
     "metadata": {},
     "output_type": "execute_result"
    }
   ],
   "source": [
    "from sklearn.preprocessing import MinMaxScaler\n",
    "\n",
    "padr = MinMaxScaler()\n",
    "dados_minmax = padr.fit_transform(X = dados_train.loc[:, \"MedInc\":\"Longitude\"])\n",
    "dados_minmax"
   ]
  },
  {
   "cell_type": "code",
   "execution_count": 43,
   "id": "3e7bd1d1",
   "metadata": {
    "scrolled": false
   },
   "outputs": [
    {
     "data": {
      "text/html": [
       "<div>\n",
       "<style scoped>\n",
       "    .dataframe tbody tr th:only-of-type {\n",
       "        vertical-align: middle;\n",
       "    }\n",
       "\n",
       "    .dataframe tbody tr th {\n",
       "        vertical-align: top;\n",
       "    }\n",
       "\n",
       "    .dataframe thead th {\n",
       "        text-align: right;\n",
       "    }\n",
       "</style>\n",
       "<table border=\"1\" class=\"dataframe\">\n",
       "  <thead>\n",
       "    <tr style=\"text-align: right;\">\n",
       "      <th></th>\n",
       "      <th>Variáveis</th>\n",
       "      <th>Mínimo</th>\n",
       "      <th>Máximo</th>\n",
       "      <th>Novo mínimo</th>\n",
       "      <th>Novo máximo</th>\n",
       "    </tr>\n",
       "  </thead>\n",
       "  <tbody>\n",
       "    <tr>\n",
       "      <th>0</th>\n",
       "      <td>MedInc</td>\n",
       "      <td>0.50</td>\n",
       "      <td>15.00</td>\n",
       "      <td>0.00</td>\n",
       "      <td>1.00</td>\n",
       "    </tr>\n",
       "    <tr>\n",
       "      <th>1</th>\n",
       "      <td>HouseAge</td>\n",
       "      <td>1.00</td>\n",
       "      <td>52.00</td>\n",
       "      <td>0.00</td>\n",
       "      <td>1.00</td>\n",
       "    </tr>\n",
       "    <tr>\n",
       "      <th>2</th>\n",
       "      <td>AveRooms</td>\n",
       "      <td>0.89</td>\n",
       "      <td>141.91</td>\n",
       "      <td>0.00</td>\n",
       "      <td>1.00</td>\n",
       "    </tr>\n",
       "    <tr>\n",
       "      <th>3</th>\n",
       "      <td>AveBedrms</td>\n",
       "      <td>0.38</td>\n",
       "      <td>34.07</td>\n",
       "      <td>0.00</td>\n",
       "      <td>1.00</td>\n",
       "    </tr>\n",
       "    <tr>\n",
       "      <th>4</th>\n",
       "      <td>Population</td>\n",
       "      <td>3.00</td>\n",
       "      <td>16,305.00</td>\n",
       "      <td>0.00</td>\n",
       "      <td>1.00</td>\n",
       "    </tr>\n",
       "    <tr>\n",
       "      <th>5</th>\n",
       "      <td>AveOccup</td>\n",
       "      <td>0.69</td>\n",
       "      <td>1,243.33</td>\n",
       "      <td>0.00</td>\n",
       "      <td>1.00</td>\n",
       "    </tr>\n",
       "    <tr>\n",
       "      <th>6</th>\n",
       "      <td>Latitude</td>\n",
       "      <td>32.55</td>\n",
       "      <td>41.95</td>\n",
       "      <td>0.00</td>\n",
       "      <td>1.00</td>\n",
       "    </tr>\n",
       "    <tr>\n",
       "      <th>7</th>\n",
       "      <td>Longitude</td>\n",
       "      <td>-124.35</td>\n",
       "      <td>-114.31</td>\n",
       "      <td>0.00</td>\n",
       "      <td>1.00</td>\n",
       "    </tr>\n",
       "  </tbody>\n",
       "</table>\n",
       "</div>"
      ],
      "text/plain": [
       "    Variáveis  Mínimo    Máximo  Novo mínimo  Novo máximo\n",
       "0      MedInc    0.50     15.00         0.00         1.00\n",
       "1    HouseAge    1.00     52.00         0.00         1.00\n",
       "2    AveRooms    0.89    141.91         0.00         1.00\n",
       "3   AveBedrms    0.38     34.07         0.00         1.00\n",
       "4  Population    3.00 16,305.00         0.00         1.00\n",
       "5    AveOccup    0.69  1,243.33         0.00         1.00\n",
       "6    Latitude   32.55     41.95         0.00         1.00\n",
       "7   Longitude -124.35   -114.31         0.00         1.00"
      ]
     },
     "execution_count": 43,
     "metadata": {},
     "output_type": "execute_result"
    }
   ],
   "source": [
    "pd.DataFrame({\"Variáveis\": dados_train.columns[:-1],\n",
    "              \"Mínimo\": padr.data_min_,\n",
    "              \"Máximo\": padr.data_max_,\n",
    "              \"Novo mínimo\": np.min(dados_minmax, axis = 0),\n",
    "              \"Novo máximo\": np.max(dados_minmax, axis = 0)})"
   ]
  },
  {
   "cell_type": "markdown",
   "id": "95e98525",
   "metadata": {},
   "source": [
    "## Discretização"
   ]
  },
  {
   "cell_type": "code",
   "execution_count": 44,
   "id": "d242491d",
   "metadata": {},
   "outputs": [
    {
     "data": {
      "text/plain": [
       "array([[1., 3., 2., ..., 4., 1., 3.],\n",
       "       [1., 1., 2., ..., 2., 4., 0.],\n",
       "       [2., 3., 0., ..., 4., 3., 0.],\n",
       "       ...,\n",
       "       [2., 3., 1., ..., 4., 1., 3.],\n",
       "       [0., 0., 0., ..., 1., 0., 3.],\n",
       "       [3., 3., 3., ..., 1., 2., 2.]])"
      ]
     },
     "execution_count": 44,
     "metadata": {},
     "output_type": "execute_result"
    }
   ],
   "source": [
    "from sklearn.preprocessing import KBinsDiscretizer\n",
    "\n",
    "# Discretização em 5 faixas numeradas de 0 a 4, com o mesmo número\n",
    "# de exemplos em cada uma:\n",
    "discr = KBinsDiscretizer(n_bins = 5, \n",
    "                         encode = \"ordinal\",\n",
    "                         strategy = \"quantile\")\n",
    "discr.fit_transform(X = dados_train.loc[:, \"MedInc\":\"Longitude\"])"
   ]
  },
  {
   "cell_type": "code",
   "execution_count": 45,
   "id": "c15a29ee",
   "metadata": {},
   "outputs": [
    {
     "data": {
      "text/plain": [
       "array([[1., 0., 0., ..., 0., 1., 0.],\n",
       "       [1., 0., 0., ..., 1., 0., 0.],\n",
       "       [1., 0., 0., ..., 1., 0., 0.],\n",
       "       ...,\n",
       "       [1., 0., 0., ..., 0., 1., 0.],\n",
       "       [1., 0., 0., ..., 0., 1., 0.],\n",
       "       [1., 0., 0., ..., 0., 1., 0.]])"
      ]
     },
     "execution_count": 45,
     "metadata": {},
     "output_type": "execute_result"
    }
   ],
   "source": [
    "# Discretização em 3 faixas de mesma largura, com one-hot-encoding (matriz densa):\n",
    "discr = KBinsDiscretizer(n_bins = 3, \n",
    "                         encode = \"onehot-dense\",\n",
    "                         strategy = \"uniform\")\n",
    "dummy = discr.fit_transform(X = dados_train.loc[:, \"MedInc\":\"Longitude\"])\n",
    "dummy"
   ]
  },
  {
   "cell_type": "code",
   "execution_count": 46,
   "id": "82a3016a",
   "metadata": {},
   "outputs": [
    {
     "data": {
      "text/plain": [
       "(15480, 24)"
      ]
     },
     "execution_count": 46,
     "metadata": {},
     "output_type": "execute_result"
    }
   ],
   "source": [
    "dummy.shape  # Cada variável gerou três variáveis dummy"
   ]
  },
  {
   "cell_type": "code",
   "execution_count": 47,
   "id": "ea204a55",
   "metadata": {
    "scrolled": true
   },
   "outputs": [
    {
     "data": {
      "text/plain": [
       "array([array([ 0.5 ,  5.33, 10.17, 15.  ]), array([ 1., 18., 35., 52.]),\n",
       "       array([  0.89,  47.9 ,  94.9 , 141.91]),\n",
       "       array([ 0.38, 11.61, 22.84, 34.07]),\n",
       "       array([3.00e+00, 5.44e+03, 1.09e+04, 1.63e+04]),\n",
       "       array([6.92e-01, 4.15e+02, 8.29e+02, 1.24e+03]),\n",
       "       array([32.55, 35.68, 38.82, 41.95]),\n",
       "       array([-124.35, -121.  , -117.66, -114.31])], dtype=object)"
      ]
     },
     "execution_count": 47,
     "metadata": {},
     "output_type": "execute_result"
    }
   ],
   "source": [
    "# Limites das faixas:\n",
    "discr.bin_edges_"
   ]
  },
  {
   "cell_type": "code",
   "execution_count": 48,
   "id": "4a6d6b42",
   "metadata": {},
   "outputs": [
    {
     "data": {
      "text/plain": [
       "array([ 0.5 ,  5.33, 10.17, 15.  ])"
      ]
     },
     "execution_count": 48,
     "metadata": {},
     "output_type": "execute_result"
    }
   ],
   "source": [
    "# Limites das faixas para MedInc:\n",
    "discr.bin_edges_[0]"
   ]
  },
  {
   "cell_type": "code",
   "execution_count": 49,
   "id": "18cd4456",
   "metadata": {},
   "outputs": [
    {
     "data": {
      "text/html": [
       "<div>\n",
       "<style scoped>\n",
       "    .dataframe tbody tr th:only-of-type {\n",
       "        vertical-align: middle;\n",
       "    }\n",
       "\n",
       "    .dataframe tbody tr th {\n",
       "        vertical-align: top;\n",
       "    }\n",
       "\n",
       "    .dataframe thead th {\n",
       "        text-align: right;\n",
       "    }\n",
       "</style>\n",
       "<table border=\"1\" class=\"dataframe\">\n",
       "  <thead>\n",
       "    <tr style=\"text-align: right;\">\n",
       "      <th></th>\n",
       "      <th>MedInc</th>\n",
       "      <th>Faixa 1</th>\n",
       "      <th>Faixa 2</th>\n",
       "      <th>Faixa 3</th>\n",
       "    </tr>\n",
       "  </thead>\n",
       "  <tbody>\n",
       "    <tr>\n",
       "      <th>4308</th>\n",
       "      <td>1.52</td>\n",
       "      <td>1.00</td>\n",
       "      <td>0.00</td>\n",
       "      <td>0.00</td>\n",
       "    </tr>\n",
       "    <tr>\n",
       "      <th>19873</th>\n",
       "      <td>1.83</td>\n",
       "      <td>1.00</td>\n",
       "      <td>0.00</td>\n",
       "      <td>0.00</td>\n",
       "    </tr>\n",
       "    <tr>\n",
       "      <th>6871</th>\n",
       "      <td>2.59</td>\n",
       "      <td>1.00</td>\n",
       "      <td>0.00</td>\n",
       "      <td>0.00</td>\n",
       "    </tr>\n",
       "    <tr>\n",
       "      <th>6112</th>\n",
       "      <td>2.63</td>\n",
       "      <td>1.00</td>\n",
       "      <td>0.00</td>\n",
       "      <td>0.00</td>\n",
       "    </tr>\n",
       "    <tr>\n",
       "      <th>8366</th>\n",
       "      <td>2.67</td>\n",
       "      <td>1.00</td>\n",
       "      <td>0.00</td>\n",
       "      <td>0.00</td>\n",
       "    </tr>\n",
       "    <tr>\n",
       "      <th>7416</th>\n",
       "      <td>3.09</td>\n",
       "      <td>1.00</td>\n",
       "      <td>0.00</td>\n",
       "      <td>0.00</td>\n",
       "    </tr>\n",
       "    <tr>\n",
       "      <th>7853</th>\n",
       "      <td>3.41</td>\n",
       "      <td>1.00</td>\n",
       "      <td>0.00</td>\n",
       "      <td>0.00</td>\n",
       "    </tr>\n",
       "    <tr>\n",
       "      <th>16614</th>\n",
       "      <td>3.48</td>\n",
       "      <td>1.00</td>\n",
       "      <td>0.00</td>\n",
       "      <td>0.00</td>\n",
       "    </tr>\n",
       "    <tr>\n",
       "      <th>15859</th>\n",
       "      <td>3.97</td>\n",
       "      <td>1.00</td>\n",
       "      <td>0.00</td>\n",
       "      <td>0.00</td>\n",
       "    </tr>\n",
       "    <tr>\n",
       "      <th>7100</th>\n",
       "      <td>5.65</td>\n",
       "      <td>0.00</td>\n",
       "      <td>1.00</td>\n",
       "      <td>0.00</td>\n",
       "    </tr>\n",
       "  </tbody>\n",
       "</table>\n",
       "</div>"
      ],
      "text/plain": [
       "       MedInc  Faixa 1  Faixa 2  Faixa 3\n",
       "4308     1.52     1.00     0.00     0.00\n",
       "19873    1.83     1.00     0.00     0.00\n",
       "6871     2.59     1.00     0.00     0.00\n",
       "6112     2.63     1.00     0.00     0.00\n",
       "8366     2.67     1.00     0.00     0.00\n",
       "7416     3.09     1.00     0.00     0.00\n",
       "7853     3.41     1.00     0.00     0.00\n",
       "16614    3.48     1.00     0.00     0.00\n",
       "15859    3.97     1.00     0.00     0.00\n",
       "7100     5.65     0.00     1.00     0.00"
      ]
     },
     "execution_count": 49,
     "metadata": {},
     "output_type": "execute_result"
    }
   ],
   "source": [
    "pd.DataFrame({\"MedInc\": dados_train.loc[:, \"MedInc\"],\n",
    "              \"Faixa 1\": dummy[:,0],\n",
    "              \"Faixa 2\": dummy[:,1],\n",
    "              \"Faixa 3\": dummy[:,2]}) \\\n",
    "  .sample(n = 10) \\\n",
    "  .sort_values(\"MedInc\")"
   ]
  },
  {
   "cell_type": "markdown",
   "id": "7e63ddc4",
   "metadata": {},
   "source": [
    "## *Missing Data*"
   ]
  },
  {
   "cell_type": "markdown",
   "id": "de265712",
   "metadata": {},
   "source": [
    "Vamos remover aleatoriamente alguns dados da base de treinamento obtida do *dataset* *California Housing*."
   ]
  },
  {
   "cell_type": "code",
   "execution_count": 50,
   "id": "78963a52",
   "metadata": {},
   "outputs": [
    {
     "name": "stdout",
     "output_type": "stream",
     "text": [
      "Número de exemplos: 15480\n",
      "Número de features: 8\n"
     ]
    }
   ],
   "source": [
    "n_obs, n_features = dados_train.loc[:, \"MedInc\":\"Longitude\"].shape\n",
    "print(f\"Número de exemplos: {n_obs}\")\n",
    "print(f\"Número de features: {n_features}\")"
   ]
  },
  {
   "cell_type": "code",
   "execution_count": 51,
   "id": "b19f63ff",
   "metadata": {},
   "outputs": [
    {
     "data": {
      "text/html": [
       "<div>\n",
       "<style scoped>\n",
       "    .dataframe tbody tr th:only-of-type {\n",
       "        vertical-align: middle;\n",
       "    }\n",
       "\n",
       "    .dataframe tbody tr th {\n",
       "        vertical-align: top;\n",
       "    }\n",
       "\n",
       "    .dataframe thead th {\n",
       "        text-align: right;\n",
       "    }\n",
       "</style>\n",
       "<table border=\"1\" class=\"dataframe\">\n",
       "  <thead>\n",
       "    <tr style=\"text-align: right;\">\n",
       "      <th></th>\n",
       "      <th>MedInc</th>\n",
       "      <th>HouseAge</th>\n",
       "      <th>AveRooms</th>\n",
       "      <th>AveBedrms</th>\n",
       "      <th>Population</th>\n",
       "      <th>AveOccup</th>\n",
       "      <th>Latitude</th>\n",
       "      <th>Longitude</th>\n",
       "      <th>MedHouseVal</th>\n",
       "    </tr>\n",
       "  </thead>\n",
       "  <tbody>\n",
       "    <tr>\n",
       "      <th>0</th>\n",
       "      <td>NaN</td>\n",
       "      <td>37.00</td>\n",
       "      <td>5.15</td>\n",
       "      <td>1.05</td>\n",
       "      <td>729.00</td>\n",
       "      <td>5.06</td>\n",
       "      <td>33.92</td>\n",
       "      <td>-118.28</td>\n",
       "      <td>1.05</td>\n",
       "    </tr>\n",
       "    <tr>\n",
       "      <th>1</th>\n",
       "      <td>2.65</td>\n",
       "      <td>21.00</td>\n",
       "      <td>4.98</td>\n",
       "      <td>0.93</td>\n",
       "      <td>NaN</td>\n",
       "      <td>2.84</td>\n",
       "      <td>40.55</td>\n",
       "      <td>-122.36</td>\n",
       "      <td>1.13</td>\n",
       "    </tr>\n",
       "    <tr>\n",
       "      <th>2</th>\n",
       "      <td>3.88</td>\n",
       "      <td>NaN</td>\n",
       "      <td>3.02</td>\n",
       "      <td>0.66</td>\n",
       "      <td>575.00</td>\n",
       "      <td>12.23</td>\n",
       "      <td>37.78</td>\n",
       "      <td>-122.18</td>\n",
       "      <td>2.25</td>\n",
       "    </tr>\n",
       "    <tr>\n",
       "      <th>3</th>\n",
       "      <td>2.81</td>\n",
       "      <td>29.00</td>\n",
       "      <td>6.08</td>\n",
       "      <td>NaN</td>\n",
       "      <td>914.00</td>\n",
       "      <td>3.26</td>\n",
       "      <td>36.46</td>\n",
       "      <td>-119.69</td>\n",
       "      <td>0.79</td>\n",
       "    </tr>\n",
       "    <tr>\n",
       "      <th>4</th>\n",
       "      <td>3.34</td>\n",
       "      <td>35.00</td>\n",
       "      <td>5.32</td>\n",
       "      <td>NaN</td>\n",
       "      <td>1,392.00</td>\n",
       "      <td>2.67</td>\n",
       "      <td>32.82</td>\n",
       "      <td>-117.20</td>\n",
       "      <td>1.72</td>\n",
       "    </tr>\n",
       "  </tbody>\n",
       "</table>\n",
       "</div>"
      ],
      "text/plain": [
       "   MedInc  HouseAge  AveRooms  AveBedrms  Population  AveOccup  Latitude  \\\n",
       "0     NaN     37.00      5.15       1.05      729.00      5.06     33.92   \n",
       "1    2.65     21.00      4.98       0.93         NaN      2.84     40.55   \n",
       "2    3.88       NaN      3.02       0.66      575.00     12.23     37.78   \n",
       "3    2.81     29.00      6.08        NaN      914.00      3.26     36.46   \n",
       "4    3.34     35.00      5.32        NaN    1,392.00      2.67     32.82   \n",
       "\n",
       "   Longitude  MedHouseVal  \n",
       "0    -118.28         1.05  \n",
       "1    -122.36         1.13  \n",
       "2    -122.18         2.25  \n",
       "3    -119.69         0.79  \n",
       "4    -117.20         1.72  "
      ]
     },
     "execution_count": 51,
     "metadata": {},
     "output_type": "execute_result"
    }
   ],
   "source": [
    "linhas = np.arange(n_obs)\n",
    "faltando = np.random.choice(n_features, n_obs, replace = True)\n",
    "dados_train_missing = np.array(dados_train.copy())\n",
    "dados_train_missing[linhas, faltando] = np.nan\n",
    "dados_train_missing = pd.DataFrame(dados_train_missing, columns = dados_train.columns)\n",
    "dados_train_missing.head()"
   ]
  },
  {
   "cell_type": "markdown",
   "id": "be1b039a",
   "metadata": {},
   "source": [
    "Há várias formas de tratar dados omitidos em um *dataset*. Para variáveis numéricas, pode substituir os valores pela média, mediana ou moda da coluna (não é recomendável), ou tentar imputar os valores a partir das informações contidas nas outras variáveis. Esta estratégia gera bons resultados se há uma boa correlação entre a coluna com dados omitidos e as demais colunas. "
   ]
  },
  {
   "cell_type": "markdown",
   "id": "fed3ee1d",
   "metadata": {},
   "source": [
    "A seguir, mostramos como podemos implementar uma susbtituição de valores omitidos a partir das informações contidas em outras colunas, por meio do método `IterativeImputer`. Mais informações podem ser obtidas em [Multivariate feature imputation](https://scikit-learn.org/stable/modules/impute.html#multivariate-feature-imputation)."
   ]
  },
  {
   "cell_type": "code",
   "execution_count": 52,
   "id": "d85d4efd",
   "metadata": {},
   "outputs": [
    {
     "data": {
      "text/html": [
       "<div>\n",
       "<style scoped>\n",
       "    .dataframe tbody tr th:only-of-type {\n",
       "        vertical-align: middle;\n",
       "    }\n",
       "\n",
       "    .dataframe tbody tr th {\n",
       "        vertical-align: top;\n",
       "    }\n",
       "\n",
       "    .dataframe thead th {\n",
       "        text-align: right;\n",
       "    }\n",
       "</style>\n",
       "<table border=\"1\" class=\"dataframe\">\n",
       "  <thead>\n",
       "    <tr style=\"text-align: right;\">\n",
       "      <th></th>\n",
       "      <th>MedInc</th>\n",
       "      <th>HouseAge</th>\n",
       "      <th>AveRooms</th>\n",
       "      <th>AveBedrms</th>\n",
       "      <th>Population</th>\n",
       "      <th>AveOccup</th>\n",
       "      <th>Latitude</th>\n",
       "      <th>Longitude</th>\n",
       "    </tr>\n",
       "  </thead>\n",
       "  <tbody>\n",
       "    <tr>\n",
       "      <th>0</th>\n",
       "      <td>4.62</td>\n",
       "      <td>37.00</td>\n",
       "      <td>5.15</td>\n",
       "      <td>1.05</td>\n",
       "      <td>729.00</td>\n",
       "      <td>5.06</td>\n",
       "      <td>33.92</td>\n",
       "      <td>-118.28</td>\n",
       "    </tr>\n",
       "    <tr>\n",
       "      <th>1</th>\n",
       "      <td>2.65</td>\n",
       "      <td>21.00</td>\n",
       "      <td>4.98</td>\n",
       "      <td>0.93</td>\n",
       "      <td>-669.91</td>\n",
       "      <td>2.84</td>\n",
       "      <td>40.55</td>\n",
       "      <td>-122.36</td>\n",
       "    </tr>\n",
       "    <tr>\n",
       "      <th>2</th>\n",
       "      <td>3.88</td>\n",
       "      <td>52.87</td>\n",
       "      <td>3.02</td>\n",
       "      <td>0.66</td>\n",
       "      <td>575.00</td>\n",
       "      <td>12.23</td>\n",
       "      <td>37.78</td>\n",
       "      <td>-122.18</td>\n",
       "    </tr>\n",
       "    <tr>\n",
       "      <th>3</th>\n",
       "      <td>2.81</td>\n",
       "      <td>29.00</td>\n",
       "      <td>6.08</td>\n",
       "      <td>1.27</td>\n",
       "      <td>914.00</td>\n",
       "      <td>3.26</td>\n",
       "      <td>36.46</td>\n",
       "      <td>-119.69</td>\n",
       "    </tr>\n",
       "    <tr>\n",
       "      <th>4</th>\n",
       "      <td>3.34</td>\n",
       "      <td>35.00</td>\n",
       "      <td>5.32</td>\n",
       "      <td>1.20</td>\n",
       "      <td>1,392.00</td>\n",
       "      <td>2.67</td>\n",
       "      <td>32.82</td>\n",
       "      <td>-117.20</td>\n",
       "    </tr>\n",
       "  </tbody>\n",
       "</table>\n",
       "</div>"
      ],
      "text/plain": [
       "   MedInc  HouseAge  AveRooms  AveBedrms  Population  AveOccup  Latitude  \\\n",
       "0    4.62     37.00      5.15       1.05      729.00      5.06     33.92   \n",
       "1    2.65     21.00      4.98       0.93     -669.91      2.84     40.55   \n",
       "2    3.88     52.87      3.02       0.66      575.00     12.23     37.78   \n",
       "3    2.81     29.00      6.08       1.27      914.00      3.26     36.46   \n",
       "4    3.34     35.00      5.32       1.20    1,392.00      2.67     32.82   \n",
       "\n",
       "   Longitude  \n",
       "0    -118.28  \n",
       "1    -122.36  \n",
       "2    -122.18  \n",
       "3    -119.69  \n",
       "4    -117.20  "
      ]
     },
     "execution_count": 52,
     "metadata": {},
     "output_type": "execute_result"
    }
   ],
   "source": [
    "from sklearn.linear_model import BayesianRidge\n",
    "from sklearn.experimental import enable_iterative_imputer\n",
    "from sklearn.impute import IterativeImputer\n",
    "\n",
    "imp = IterativeImputer(estimator = BayesianRidge(),\n",
    "                       missing_values = np.nan,\n",
    "                       sample_posterior = False,\n",
    "                       max_iter = 10, \n",
    "                       random_state=0)\n",
    "\n",
    "dados_imputed = imp.fit_transform(dados_train_missing.loc[:, \"MedInc\":\"Longitude\"])\n",
    "pd.DataFrame(dados_imputed, columns = dados_train.columns[:-1]).head()"
   ]
  },
  {
   "cell_type": "markdown",
   "id": "bc33ac2a",
   "metadata": {},
   "source": [
    "Como, neste caso, simulamos os dados omitidos, ou seja, conhecemos os valores originais no *dataset*, podemos avaliar o quanto as imputações estão próximas dos verdadeiros valores."
   ]
  },
  {
   "cell_type": "code",
   "execution_count": 53,
   "id": "2428e444",
   "metadata": {},
   "outputs": [
    {
     "data": {
      "text/html": [
       "<div>\n",
       "<style scoped>\n",
       "    .dataframe tbody tr th:only-of-type {\n",
       "        vertical-align: middle;\n",
       "    }\n",
       "\n",
       "    .dataframe tbody tr th {\n",
       "        vertical-align: top;\n",
       "    }\n",
       "\n",
       "    .dataframe thead th {\n",
       "        text-align: right;\n",
       "    }\n",
       "</style>\n",
       "<table border=\"1\" class=\"dataframe\">\n",
       "  <thead>\n",
       "    <tr style=\"text-align: right;\">\n",
       "      <th></th>\n",
       "      <th>Valores originais</th>\n",
       "      <th>Valores imputados</th>\n",
       "      <th>Diferença %</th>\n",
       "    </tr>\n",
       "  </thead>\n",
       "  <tbody>\n",
       "    <tr>\n",
       "      <th>11164</th>\n",
       "      <td>13.00</td>\n",
       "      <td>-10,429.64</td>\n",
       "      <td>-803.28</td>\n",
       "    </tr>\n",
       "    <tr>\n",
       "      <th>190</th>\n",
       "      <td>47.00</td>\n",
       "      <td>-8,515.16</td>\n",
       "      <td>-182.17</td>\n",
       "    </tr>\n",
       "    <tr>\n",
       "      <th>2094</th>\n",
       "      <td>41.00</td>\n",
       "      <td>-6,153.43</td>\n",
       "      <td>-151.08</td>\n",
       "    </tr>\n",
       "    <tr>\n",
       "      <th>2556</th>\n",
       "      <td>98.00</td>\n",
       "      <td>-10,760.47</td>\n",
       "      <td>-110.80</td>\n",
       "    </tr>\n",
       "    <tr>\n",
       "      <th>8882</th>\n",
       "      <td>100.00</td>\n",
       "      <td>-10,591.39</td>\n",
       "      <td>-106.91</td>\n",
       "    </tr>\n",
       "    <tr>\n",
       "      <th>...</th>\n",
       "      <td>...</td>\n",
       "      <td>...</td>\n",
       "      <td>...</td>\n",
       "    </tr>\n",
       "    <tr>\n",
       "      <th>13282</th>\n",
       "      <td>55.00</td>\n",
       "      <td>4,724.77</td>\n",
       "      <td>84.90</td>\n",
       "    </tr>\n",
       "    <tr>\n",
       "      <th>7851</th>\n",
       "      <td>99.00</td>\n",
       "      <td>8,726.06</td>\n",
       "      <td>87.14</td>\n",
       "    </tr>\n",
       "    <tr>\n",
       "      <th>15249</th>\n",
       "      <td>50.00</td>\n",
       "      <td>5,695.60</td>\n",
       "      <td>112.91</td>\n",
       "    </tr>\n",
       "    <tr>\n",
       "      <th>3550</th>\n",
       "      <td>32.00</td>\n",
       "      <td>3,940.41</td>\n",
       "      <td>122.14</td>\n",
       "    </tr>\n",
       "    <tr>\n",
       "      <th>3285</th>\n",
       "      <td>9.00</td>\n",
       "      <td>5,136.11</td>\n",
       "      <td>569.68</td>\n",
       "    </tr>\n",
       "  </tbody>\n",
       "</table>\n",
       "<p>15480 rows × 3 columns</p>\n",
       "</div>"
      ],
      "text/plain": [
       "       Valores originais  Valores imputados  Diferença %\n",
       "11164              13.00         -10,429.64      -803.28\n",
       "190                47.00          -8,515.16      -182.17\n",
       "2094               41.00          -6,153.43      -151.08\n",
       "2556               98.00         -10,760.47      -110.80\n",
       "8882              100.00         -10,591.39      -106.91\n",
       "...                  ...                ...          ...\n",
       "13282              55.00           4,724.77        84.90\n",
       "7851               99.00           8,726.06        87.14\n",
       "15249              50.00           5,695.60       112.91\n",
       "3550               32.00           3,940.41       122.14\n",
       "3285                9.00           5,136.11       569.68\n",
       "\n",
       "[15480 rows x 3 columns]"
      ]
     },
     "execution_count": 53,
     "metadata": {},
     "output_type": "execute_result"
    }
   ],
   "source": [
    "valores = pd.DataFrame({\"Valores originais\": np.array(dados_train)[linhas, faltando],\n",
    "                        \"Valores imputados\": dados_imputed[linhas, faltando],})\n",
    "valores[\"Diferença %\"] = (valores[\"Valores imputados\"] - valores[\"Valores originais\"]) / valores[\"Valores originais\"]\n",
    "valores.sort_values(\"Diferença %\")"
   ]
  },
  {
   "cell_type": "code",
   "execution_count": 54,
   "id": "64861990",
   "metadata": {
    "scrolled": true
   },
   "outputs": [
    {
     "data": {
      "image/png": "[encoded data removed]",
      "text/plain": [
       "<Figure size 432x288 with 1 Axes>"
      ]
     },
     "metadata": {
      "needs_background": "light"
     },
     "output_type": "display_data"
    }
   ],
   "source": [
    "valores.plot(\"Valores originais\", \"Diferença %\", kind = \"scatter\", alpha = .1);"
   ]
  },
  {
   "cell_type": "markdown",
   "id": "7eead62d",
   "metadata": {},
   "source": [
    "De acordo com a tabela e o gráfico, houve diferenças substanciais, especialmente para valores originais de menor magnitude. No entanto, o histograma a seguir mostra que a vasta maioria das imputações foram próximas dos valores originais."
   ]
  },
  {
   "cell_type": "code",
   "execution_count": 55,
   "id": "c599a24c",
   "metadata": {},
   "outputs": [
    {
     "data": {
      "image/png": "[encoded data removed]",
      "text/plain": [
       "<Figure size 432x288 with 1 Axes>"
      ]
     },
     "metadata": {
      "needs_background": "light"
     },
     "output_type": "display_data"
    }
   ],
   "source": [
    "valores.hist(\"Diferença %\", grid = False, bins = 100);"
   ]
  },
  {
   "cell_type": "markdown",
   "id": "c442a6c3",
   "metadata": {},
   "source": [
    "## *Outliers*"
   ]
  },
  {
   "cell_type": "markdown",
   "id": "4a9f593d",
   "metadata": {},
   "source": [
    "A detecção e o tratamento de valores atípicos é um passo importante do processo de preprocessamento de dados. Dados atípicos podem influenciar exageradamente a estimação dos parâmetros do modelo, piorando o seu desempenho quando for aplicado a novos dados."
   ]
  },
  {
   "cell_type": "markdown",
   "id": "a66211fa",
   "metadata": {},
   "source": [
    "Há dois tipos básicos de detecção de *outliers*: \n",
    " \n",
    " - métodos univariados, que analisam a distribuição dos valores numa única variável, verificando discrepâncias; e\n",
    " - métodos multivariados, que consideram a distribuição conjunta de valores em todas as variáveis simultaneamente.\n",
    " \n",
    "Ambos os tipos são implementados no `scikit-learn`. A figura abaixo mostra exemplos de identificação de *outliers* com métodos implementados no pacote. Para mais informações, consulte [Novelty and Outlier Detection](https://scikit-learn.org/stable/modules/outlier_detection.html) e [Comparing anomaly detection algorithms for outlier detection on toy datasets](https://scikit-learn.org/stable/auto_examples/miscellaneous/plot_anomaly_comparison.html#)"
   ]
  },
  {
   "cell_type": "markdown",
   "id": "3db10a53",
   "metadata": {},
   "source": [
    "<img src=\"https://scikit-learn.org/stable/_images/sphx_glr_plot_anomaly_comparison_001.png\" width=\"500px\"></br>\n",
    "<i>Fonte</i>: https://scikit-learn.org/stable/modules/outlier_detection.html"
   ]
  },
  {
   "cell_type": "markdown",
   "id": "6a81c1a5",
   "metadata": {},
   "source": [
    "Vamos considerar os dados selecionados para treinamento do *dataset* *California Housing*. Os plots de algumas variáveis contra a variável a ser prevista, *MedHouseVal*, sugerem a presença de *outliers*. No entanto, sua detecção visual não é simples. Além disso, o processo de detecção deve levar em conta todos os *features* simultaneamente. "
   ]
  },
  {
   "cell_type": "code",
   "execution_count": 56,
   "id": "ba446c20",
   "metadata": {},
   "outputs": [
    {
     "data": {
      "image/png": "[encoded data removed]",
      "text/plain": [
       "<Figure size 864x648 with 6 Axes>"
      ]
     },
     "metadata": {
      "needs_background": "light"
     },
     "output_type": "display_data"
    }
   ],
   "source": [
    "import matplotlib.pyplot as plt\n",
    "\n",
    "fig, axes = plt.subplots(2,3, figsize = (12, 9))\n",
    "\n",
    "dados_train.plot(\"MedInc\", \"MedHouseVal\", kind=\"scatter\", alpha = .1, ax = axes[0,0])\n",
    "dados_train.plot(\"HouseAge\", \"MedHouseVal\", kind=\"scatter\", alpha = .1, ax = axes[0,1])\n",
    "dados_train.plot(\"AveRooms\", \"MedHouseVal\", kind=\"scatter\", alpha = .1, ax = axes[0,2])\n",
    "dados_train.plot(\"AveBedrms\", \"MedHouseVal\", kind=\"scatter\", alpha = .1, ax = axes[1,0])\n",
    "dados_train.plot(\"AveOccup\", \"MedHouseVal\", kind=\"scatter\", alpha = .1, ax = axes[1,1])\n",
    "dados_train.plot(\"Longitude\", \"MedHouseVal\", kind=\"scatter\", alpha = .1, ax = axes[1,2]);"
   ]
  },
  {
   "cell_type": "markdown",
   "id": "6914f973",
   "metadata": {},
   "source": [
    "Vamos utilizar um dos métodos implementados no `scikit-learn`, chamado *Isolation Forest*, para identificar outliers considerando todas as dimensões da nossa amostra."
   ]
  },
  {
   "cell_type": "code",
   "execution_count": 57,
   "id": "32fea877",
   "metadata": {},
   "outputs": [
    {
     "data": {
      "text/html": [
       "<div>\n",
       "<style scoped>\n",
       "    .dataframe tbody tr th:only-of-type {\n",
       "        vertical-align: middle;\n",
       "    }\n",
       "\n",
       "    .dataframe tbody tr th {\n",
       "        vertical-align: top;\n",
       "    }\n",
       "\n",
       "    .dataframe thead th {\n",
       "        text-align: right;\n",
       "    }\n",
       "</style>\n",
       "<table border=\"1\" class=\"dataframe\">\n",
       "  <thead>\n",
       "    <tr style=\"text-align: right;\">\n",
       "      <th></th>\n",
       "      <th>MedInc</th>\n",
       "      <th>HouseAge</th>\n",
       "      <th>AveRooms</th>\n",
       "      <th>AveBedrms</th>\n",
       "      <th>Population</th>\n",
       "      <th>AveOccup</th>\n",
       "      <th>Latitude</th>\n",
       "      <th>Longitude</th>\n",
       "      <th>MedHouseVal</th>\n",
       "      <th>Outlier</th>\n",
       "    </tr>\n",
       "  </thead>\n",
       "  <tbody>\n",
       "    <tr>\n",
       "      <th>7506</th>\n",
       "      <td>3.06</td>\n",
       "      <td>37.00</td>\n",
       "      <td>5.15</td>\n",
       "      <td>1.05</td>\n",
       "      <td>729.00</td>\n",
       "      <td>5.06</td>\n",
       "      <td>33.92</td>\n",
       "      <td>-118.28</td>\n",
       "      <td>1.05</td>\n",
       "      <td>1</td>\n",
       "    </tr>\n",
       "    <tr>\n",
       "      <th>18729</th>\n",
       "      <td>2.65</td>\n",
       "      <td>21.00</td>\n",
       "      <td>4.98</td>\n",
       "      <td>0.93</td>\n",
       "      <td>1,428.00</td>\n",
       "      <td>2.84</td>\n",
       "      <td>40.55</td>\n",
       "      <td>-122.36</td>\n",
       "      <td>1.13</td>\n",
       "      <td>1</td>\n",
       "    </tr>\n",
       "    <tr>\n",
       "      <th>270</th>\n",
       "      <td>3.88</td>\n",
       "      <td>33.00</td>\n",
       "      <td>3.02</td>\n",
       "      <td>0.66</td>\n",
       "      <td>575.00</td>\n",
       "      <td>12.23</td>\n",
       "      <td>37.78</td>\n",
       "      <td>-122.18</td>\n",
       "      <td>2.25</td>\n",
       "      <td>1</td>\n",
       "    </tr>\n",
       "    <tr>\n",
       "      <th>2461</th>\n",
       "      <td>2.81</td>\n",
       "      <td>29.00</td>\n",
       "      <td>6.08</td>\n",
       "      <td>1.07</td>\n",
       "      <td>914.00</td>\n",
       "      <td>3.26</td>\n",
       "      <td>36.46</td>\n",
       "      <td>-119.69</td>\n",
       "      <td>0.79</td>\n",
       "      <td>1</td>\n",
       "    </tr>\n",
       "    <tr>\n",
       "      <th>14578</th>\n",
       "      <td>3.34</td>\n",
       "      <td>35.00</td>\n",
       "      <td>5.32</td>\n",
       "      <td>1.03</td>\n",
       "      <td>1,392.00</td>\n",
       "      <td>2.67</td>\n",
       "      <td>32.82</td>\n",
       "      <td>-117.20</td>\n",
       "      <td>1.72</td>\n",
       "      <td>1</td>\n",
       "    </tr>\n",
       "    <tr>\n",
       "      <th>...</th>\n",
       "      <td>...</td>\n",
       "      <td>...</td>\n",
       "      <td>...</td>\n",
       "      <td>...</td>\n",
       "      <td>...</td>\n",
       "      <td>...</td>\n",
       "      <td>...</td>\n",
       "      <td>...</td>\n",
       "      <td>...</td>\n",
       "      <td>...</td>\n",
       "    </tr>\n",
       "    <tr>\n",
       "      <th>1915</th>\n",
       "      <td>4.83</td>\n",
       "      <td>7.00</td>\n",
       "      <td>6.37</td>\n",
       "      <td>1.05</td>\n",
       "      <td>1,978.00</td>\n",
       "      <td>2.90</td>\n",
       "      <td>38.91</td>\n",
       "      <td>-120.97</td>\n",
       "      <td>1.72</td>\n",
       "      <td>1</td>\n",
       "    </tr>\n",
       "    <tr>\n",
       "      <th>7862</th>\n",
       "      <td>3.90</td>\n",
       "      <td>35.00</td>\n",
       "      <td>6.18</td>\n",
       "      <td>1.11</td>\n",
       "      <td>686.00</td>\n",
       "      <td>2.91</td>\n",
       "      <td>33.90</td>\n",
       "      <td>-118.13</td>\n",
       "      <td>2.03</td>\n",
       "      <td>1</td>\n",
       "    </tr>\n",
       "    <tr>\n",
       "      <th>7539</th>\n",
       "      <td>3.66</td>\n",
       "      <td>38.00</td>\n",
       "      <td>4.77</td>\n",
       "      <td>0.95</td>\n",
       "      <td>679.00</td>\n",
       "      <td>4.07</td>\n",
       "      <td>33.90</td>\n",
       "      <td>-118.22</td>\n",
       "      <td>1.10</td>\n",
       "      <td>1</td>\n",
       "    </tr>\n",
       "    <tr>\n",
       "      <th>8275</th>\n",
       "      <td>2.13</td>\n",
       "      <td>15.00</td>\n",
       "      <td>3.96</td>\n",
       "      <td>1.13</td>\n",
       "      <td>3,087.00</td>\n",
       "      <td>2.55</td>\n",
       "      <td>33.78</td>\n",
       "      <td>-118.16</td>\n",
       "      <td>1.63</td>\n",
       "      <td>1</td>\n",
       "    </tr>\n",
       "    <tr>\n",
       "      <th>3906</th>\n",
       "      <td>5.08</td>\n",
       "      <td>35.00</td>\n",
       "      <td>6.11</td>\n",
       "      <td>1.10</td>\n",
       "      <td>1,158.00</td>\n",
       "      <td>2.60</td>\n",
       "      <td>34.19</td>\n",
       "      <td>-118.50</td>\n",
       "      <td>2.28</td>\n",
       "      <td>1</td>\n",
       "    </tr>\n",
       "  </tbody>\n",
       "</table>\n",
       "<p>15480 rows × 10 columns</p>\n",
       "</div>"
      ],
      "text/plain": [
       "       MedInc  HouseAge  AveRooms  AveBedrms  Population  AveOccup  Latitude  \\\n",
       "7506     3.06     37.00      5.15       1.05      729.00      5.06     33.92   \n",
       "18729    2.65     21.00      4.98       0.93    1,428.00      2.84     40.55   \n",
       "270      3.88     33.00      3.02       0.66      575.00     12.23     37.78   \n",
       "2461     2.81     29.00      6.08       1.07      914.00      3.26     36.46   \n",
       "14578    3.34     35.00      5.32       1.03    1,392.00      2.67     32.82   \n",
       "...       ...       ...       ...        ...         ...       ...       ...   \n",
       "1915     4.83      7.00      6.37       1.05    1,978.00      2.90     38.91   \n",
       "7862     3.90     35.00      6.18       1.11      686.00      2.91     33.90   \n",
       "7539     3.66     38.00      4.77       0.95      679.00      4.07     33.90   \n",
       "8275     2.13     15.00      3.96       1.13    3,087.00      2.55     33.78   \n",
       "3906     5.08     35.00      6.11       1.10    1,158.00      2.60     34.19   \n",
       "\n",
       "       Longitude  MedHouseVal  Outlier  \n",
       "7506     -118.28         1.05        1  \n",
       "18729    -122.36         1.13        1  \n",
       "270      -122.18         2.25        1  \n",
       "2461     -119.69         0.79        1  \n",
       "14578    -117.20         1.72        1  \n",
       "...          ...          ...      ...  \n",
       "1915     -120.97         1.72        1  \n",
       "7862     -118.13         2.03        1  \n",
       "7539     -118.22         1.10        1  \n",
       "8275     -118.16         1.63        1  \n",
       "3906     -118.50         2.28        1  \n",
       "\n",
       "[15480 rows x 10 columns]"
      ]
     },
     "execution_count": 57,
     "metadata": {},
     "output_type": "execute_result"
    }
   ],
   "source": [
    "from sklearn.ensemble import IsolationForest\n",
    "\n",
    "dados_train_out = dados_train.copy()\n",
    "\n",
    "dados_train_out[\"Outlier\"] = IsolationForest(contamination = .01) \\\n",
    "                             .fit_predict(np.array(dados_train))\n",
    "dados_train_out"
   ]
  },
  {
   "cell_type": "code",
   "execution_count": 58,
   "id": "d2ce0285",
   "metadata": {},
   "outputs": [
    {
     "name": "stdout",
     "output_type": "stream",
     "text": [
      "Número de outliers detectados: 155\n"
     ]
    }
   ],
   "source": [
    "print(f\"Número de outliers detectados: {dados_train_out['Outlier'].value_counts().iloc[-1]}\")"
   ]
  },
  {
   "cell_type": "markdown",
   "id": "359bb752",
   "metadata": {},
   "source": [
    "Após a detecção de uma observação atípica, deve-se definir como será tratada. Quando a base de dados é suficientemente grande, geralmente a observação é excluída."
   ]
  },
  {
   "cell_type": "code",
   "execution_count": 59,
   "id": "67755a44",
   "metadata": {
    "scrolled": true
   },
   "outputs": [
    {
     "data": {
      "text/html": [
       "<div>\n",
       "<style scoped>\n",
       "    .dataframe tbody tr th:only-of-type {\n",
       "        vertical-align: middle;\n",
       "    }\n",
       "\n",
       "    .dataframe tbody tr th {\n",
       "        vertical-align: top;\n",
       "    }\n",
       "\n",
       "    .dataframe thead th {\n",
       "        text-align: right;\n",
       "    }\n",
       "</style>\n",
       "<table border=\"1\" class=\"dataframe\">\n",
       "  <thead>\n",
       "    <tr style=\"text-align: right;\">\n",
       "      <th></th>\n",
       "      <th>MedInc</th>\n",
       "      <th>HouseAge</th>\n",
       "      <th>AveRooms</th>\n",
       "      <th>AveBedrms</th>\n",
       "      <th>Population</th>\n",
       "      <th>AveOccup</th>\n",
       "      <th>Latitude</th>\n",
       "      <th>Longitude</th>\n",
       "      <th>MedHouseVal</th>\n",
       "    </tr>\n",
       "  </thead>\n",
       "  <tbody>\n",
       "    <tr>\n",
       "      <th>7506</th>\n",
       "      <td>3.06</td>\n",
       "      <td>37.00</td>\n",
       "      <td>5.15</td>\n",
       "      <td>1.05</td>\n",
       "      <td>729.00</td>\n",
       "      <td>5.06</td>\n",
       "      <td>33.92</td>\n",
       "      <td>-118.28</td>\n",
       "      <td>1.05</td>\n",
       "    </tr>\n",
       "    <tr>\n",
       "      <th>18729</th>\n",
       "      <td>2.65</td>\n",
       "      <td>21.00</td>\n",
       "      <td>4.98</td>\n",
       "      <td>0.93</td>\n",
       "      <td>1,428.00</td>\n",
       "      <td>2.84</td>\n",
       "      <td>40.55</td>\n",
       "      <td>-122.36</td>\n",
       "      <td>1.13</td>\n",
       "    </tr>\n",
       "    <tr>\n",
       "      <th>270</th>\n",
       "      <td>3.88</td>\n",
       "      <td>33.00</td>\n",
       "      <td>3.02</td>\n",
       "      <td>0.66</td>\n",
       "      <td>575.00</td>\n",
       "      <td>12.23</td>\n",
       "      <td>37.78</td>\n",
       "      <td>-122.18</td>\n",
       "      <td>2.25</td>\n",
       "    </tr>\n",
       "    <tr>\n",
       "      <th>2461</th>\n",
       "      <td>2.81</td>\n",
       "      <td>29.00</td>\n",
       "      <td>6.08</td>\n",
       "      <td>1.07</td>\n",
       "      <td>914.00</td>\n",
       "      <td>3.26</td>\n",
       "      <td>36.46</td>\n",
       "      <td>-119.69</td>\n",
       "      <td>0.79</td>\n",
       "    </tr>\n",
       "    <tr>\n",
       "      <th>14578</th>\n",
       "      <td>3.34</td>\n",
       "      <td>35.00</td>\n",
       "      <td>5.32</td>\n",
       "      <td>1.03</td>\n",
       "      <td>1,392.00</td>\n",
       "      <td>2.67</td>\n",
       "      <td>32.82</td>\n",
       "      <td>-117.20</td>\n",
       "      <td>1.72</td>\n",
       "    </tr>\n",
       "    <tr>\n",
       "      <th>...</th>\n",
       "      <td>...</td>\n",
       "      <td>...</td>\n",
       "      <td>...</td>\n",
       "      <td>...</td>\n",
       "      <td>...</td>\n",
       "      <td>...</td>\n",
       "      <td>...</td>\n",
       "      <td>...</td>\n",
       "      <td>...</td>\n",
       "    </tr>\n",
       "    <tr>\n",
       "      <th>1915</th>\n",
       "      <td>4.83</td>\n",
       "      <td>7.00</td>\n",
       "      <td>6.37</td>\n",
       "      <td>1.05</td>\n",
       "      <td>1,978.00</td>\n",
       "      <td>2.90</td>\n",
       "      <td>38.91</td>\n",
       "      <td>-120.97</td>\n",
       "      <td>1.72</td>\n",
       "    </tr>\n",
       "    <tr>\n",
       "      <th>7862</th>\n",
       "      <td>3.90</td>\n",
       "      <td>35.00</td>\n",
       "      <td>6.18</td>\n",
       "      <td>1.11</td>\n",
       "      <td>686.00</td>\n",
       "      <td>2.91</td>\n",
       "      <td>33.90</td>\n",
       "      <td>-118.13</td>\n",
       "      <td>2.03</td>\n",
       "    </tr>\n",
       "    <tr>\n",
       "      <th>7539</th>\n",
       "      <td>3.66</td>\n",
       "      <td>38.00</td>\n",
       "      <td>4.77</td>\n",
       "      <td>0.95</td>\n",
       "      <td>679.00</td>\n",
       "      <td>4.07</td>\n",
       "      <td>33.90</td>\n",
       "      <td>-118.22</td>\n",
       "      <td>1.10</td>\n",
       "    </tr>\n",
       "    <tr>\n",
       "      <th>8275</th>\n",
       "      <td>2.13</td>\n",
       "      <td>15.00</td>\n",
       "      <td>3.96</td>\n",
       "      <td>1.13</td>\n",
       "      <td>3,087.00</td>\n",
       "      <td>2.55</td>\n",
       "      <td>33.78</td>\n",
       "      <td>-118.16</td>\n",
       "      <td>1.63</td>\n",
       "    </tr>\n",
       "    <tr>\n",
       "      <th>3906</th>\n",
       "      <td>5.08</td>\n",
       "      <td>35.00</td>\n",
       "      <td>6.11</td>\n",
       "      <td>1.10</td>\n",
       "      <td>1,158.00</td>\n",
       "      <td>2.60</td>\n",
       "      <td>34.19</td>\n",
       "      <td>-118.50</td>\n",
       "      <td>2.28</td>\n",
       "    </tr>\n",
       "  </tbody>\n",
       "</table>\n",
       "<p>15325 rows × 9 columns</p>\n",
       "</div>"
      ],
      "text/plain": [
       "       MedInc  HouseAge  AveRooms  AveBedrms  Population  AveOccup  Latitude  \\\n",
       "7506     3.06     37.00      5.15       1.05      729.00      5.06     33.92   \n",
       "18729    2.65     21.00      4.98       0.93    1,428.00      2.84     40.55   \n",
       "270      3.88     33.00      3.02       0.66      575.00     12.23     37.78   \n",
       "2461     2.81     29.00      6.08       1.07      914.00      3.26     36.46   \n",
       "14578    3.34     35.00      5.32       1.03    1,392.00      2.67     32.82   \n",
       "...       ...       ...       ...        ...         ...       ...       ...   \n",
       "1915     4.83      7.00      6.37       1.05    1,978.00      2.90     38.91   \n",
       "7862     3.90     35.00      6.18       1.11      686.00      2.91     33.90   \n",
       "7539     3.66     38.00      4.77       0.95      679.00      4.07     33.90   \n",
       "8275     2.13     15.00      3.96       1.13    3,087.00      2.55     33.78   \n",
       "3906     5.08     35.00      6.11       1.10    1,158.00      2.60     34.19   \n",
       "\n",
       "       Longitude  MedHouseVal  \n",
       "7506     -118.28         1.05  \n",
       "18729    -122.36         1.13  \n",
       "270      -122.18         2.25  \n",
       "2461     -119.69         0.79  \n",
       "14578    -117.20         1.72  \n",
       "...          ...          ...  \n",
       "1915     -120.97         1.72  \n",
       "7862     -118.13         2.03  \n",
       "7539     -118.22         1.10  \n",
       "8275     -118.16         1.63  \n",
       "3906     -118.50         2.28  \n",
       "\n",
       "[15325 rows x 9 columns]"
      ]
     },
     "execution_count": 59,
     "metadata": {},
     "output_type": "execute_result"
    }
   ],
   "source": [
    "dados_train_out = dados_train_out.loc[dados_train_out[\"Outlier\"] == 1, :].copy()\n",
    "dados_train_out.drop(\"Outlier\", axis = 1, inplace = True)\n",
    "dados_train_out"
   ]
  },
  {
   "cell_type": "markdown",
   "id": "f54e51b7",
   "metadata": {},
   "source": [
    "Após a deleção dos outliers, os gráficos parecem ter ficados \"mais limpos\". "
   ]
  },
  {
   "cell_type": "code",
   "execution_count": 60,
   "id": "c5345d5d",
   "metadata": {
    "scrolled": true
   },
   "outputs": [
    {
     "data": {
      "image/png": "[encoded data removed]",
      "text/plain": [
       "<Figure size 864x648 with 6 Axes>"
      ]
     },
     "metadata": {
      "needs_background": "light"
     },
     "output_type": "display_data"
    }
   ],
   "source": [
    "fig, axes = plt.subplots(2,3, figsize = (12, 9))\n",
    "\n",
    "dados_train_out.plot(\"MedInc\", \"MedHouseVal\", kind=\"scatter\", alpha = .1, ax = axes[0,0])\n",
    "dados_train_out.plot(\"HouseAge\", \"MedHouseVal\", kind=\"scatter\", alpha = .1, ax = axes[0,1])\n",
    "dados_train_out.plot(\"AveRooms\", \"MedHouseVal\", kind=\"scatter\", alpha = .1, ax = axes[0,2])\n",
    "dados_train_out.plot(\"AveBedrms\", \"MedHouseVal\", kind=\"scatter\", alpha = .1, ax = axes[1,0])\n",
    "dados_train_out.plot(\"AveOccup\", \"MedHouseVal\", kind=\"scatter\", alpha = .1, ax = axes[1,1])\n",
    "dados_train_out.plot(\"Longitude\", \"MedHouseVal\", kind=\"scatter\", alpha = .1, ax = axes[1,2]);"
   ]
  },
  {
   "cell_type": "markdown",
   "id": "bda6bea1",
   "metadata": {},
   "source": [
    "## Transformações de grupos de colunas"
   ]
  },
  {
   "cell_type": "markdown",
   "id": "76147c3f",
   "metadata": {},
   "source": [
    "*Dataframes* geralmente contém colunas de diversos tipos de dados. Mesmo quando todas as colunas são de um mesmo tipo, é possível que seja necessário aplicar certas transformações a algumas delas, e não a outras.\n",
    "\n",
    "O elemento *ColumnTransformer* `scikit-learn` permite que se defina transformações diferentes para cada coluna ou grupo de colunas de uma base de dados. A seguir, mostramos alguns exemplos de aplicações. Mais informações podem ser obtidas em [ColumnTransformer for heterogeneous data](https://scikit-learn.org/stable/modules/compose.html#columntransformer-for-heterogeneous-data)."
   ]
  },
  {
   "cell_type": "code",
   "execution_count": 61,
   "id": "909dca1e",
   "metadata": {},
   "outputs": [
    {
     "data": {
      "text/html": [
       "<div>\n",
       "<style scoped>\n",
       "    .dataframe tbody tr th:only-of-type {\n",
       "        vertical-align: middle;\n",
       "    }\n",
       "\n",
       "    .dataframe tbody tr th {\n",
       "        vertical-align: top;\n",
       "    }\n",
       "\n",
       "    .dataframe thead th {\n",
       "        text-align: right;\n",
       "    }\n",
       "</style>\n",
       "<table border=\"1\" class=\"dataframe\">\n",
       "  <thead>\n",
       "    <tr style=\"text-align: right;\">\n",
       "      <th></th>\n",
       "      <th>MedInc</th>\n",
       "      <th>HouseAge</th>\n",
       "      <th>AveRooms</th>\n",
       "      <th>AveBedrms</th>\n",
       "      <th>Population</th>\n",
       "      <th>AveOccup</th>\n",
       "      <th>Latitude</th>\n",
       "      <th>Longitude</th>\n",
       "      <th>MedHouseVal</th>\n",
       "    </tr>\n",
       "  </thead>\n",
       "  <tbody>\n",
       "    <tr>\n",
       "      <th>7506</th>\n",
       "      <td>3.06</td>\n",
       "      <td>37.00</td>\n",
       "      <td>5.15</td>\n",
       "      <td>1.05</td>\n",
       "      <td>729.00</td>\n",
       "      <td>5.06</td>\n",
       "      <td>33.92</td>\n",
       "      <td>-118.28</td>\n",
       "      <td>1.05</td>\n",
       "    </tr>\n",
       "    <tr>\n",
       "      <th>18729</th>\n",
       "      <td>2.65</td>\n",
       "      <td>21.00</td>\n",
       "      <td>4.98</td>\n",
       "      <td>0.93</td>\n",
       "      <td>1,428.00</td>\n",
       "      <td>2.84</td>\n",
       "      <td>40.55</td>\n",
       "      <td>-122.36</td>\n",
       "      <td>1.13</td>\n",
       "    </tr>\n",
       "    <tr>\n",
       "      <th>270</th>\n",
       "      <td>3.88</td>\n",
       "      <td>33.00</td>\n",
       "      <td>3.02</td>\n",
       "      <td>0.66</td>\n",
       "      <td>575.00</td>\n",
       "      <td>12.23</td>\n",
       "      <td>37.78</td>\n",
       "      <td>-122.18</td>\n",
       "      <td>2.25</td>\n",
       "    </tr>\n",
       "    <tr>\n",
       "      <th>2461</th>\n",
       "      <td>2.81</td>\n",
       "      <td>29.00</td>\n",
       "      <td>6.08</td>\n",
       "      <td>1.07</td>\n",
       "      <td>914.00</td>\n",
       "      <td>3.26</td>\n",
       "      <td>36.46</td>\n",
       "      <td>-119.69</td>\n",
       "      <td>0.79</td>\n",
       "    </tr>\n",
       "    <tr>\n",
       "      <th>14578</th>\n",
       "      <td>3.34</td>\n",
       "      <td>35.00</td>\n",
       "      <td>5.32</td>\n",
       "      <td>1.03</td>\n",
       "      <td>1,392.00</td>\n",
       "      <td>2.67</td>\n",
       "      <td>32.82</td>\n",
       "      <td>-117.20</td>\n",
       "      <td>1.72</td>\n",
       "    </tr>\n",
       "  </tbody>\n",
       "</table>\n",
       "</div>"
      ],
      "text/plain": [
       "       MedInc  HouseAge  AveRooms  AveBedrms  Population  AveOccup  Latitude  \\\n",
       "7506     3.06     37.00      5.15       1.05      729.00      5.06     33.92   \n",
       "18729    2.65     21.00      4.98       0.93    1,428.00      2.84     40.55   \n",
       "270      3.88     33.00      3.02       0.66      575.00     12.23     37.78   \n",
       "2461     2.81     29.00      6.08       1.07      914.00      3.26     36.46   \n",
       "14578    3.34     35.00      5.32       1.03    1,392.00      2.67     32.82   \n",
       "\n",
       "       Longitude  MedHouseVal  \n",
       "7506     -118.28         1.05  \n",
       "18729    -122.36         1.13  \n",
       "270      -122.18         2.25  \n",
       "2461     -119.69         0.79  \n",
       "14578    -117.20         1.72  "
      ]
     },
     "execution_count": 61,
     "metadata": {},
     "output_type": "execute_result"
    }
   ],
   "source": [
    "dados_train.head()"
   ]
  },
  {
   "cell_type": "markdown",
   "id": "4230cb03",
   "metadata": {},
   "source": [
    "Vamos aplicar algumas das transformações anteriores a grupos de colunas diferentes."
   ]
  },
  {
   "cell_type": "code",
   "execution_count": 62,
   "id": "da5e275a",
   "metadata": {
    "scrolled": true
   },
   "outputs": [
    {
     "data": {
      "text/html": [
       "<div>\n",
       "<style scoped>\n",
       "    .dataframe tbody tr th:only-of-type {\n",
       "        vertical-align: middle;\n",
       "    }\n",
       "\n",
       "    .dataframe tbody tr th {\n",
       "        vertical-align: top;\n",
       "    }\n",
       "\n",
       "    .dataframe thead th {\n",
       "        text-align: right;\n",
       "    }\n",
       "</style>\n",
       "<table border=\"1\" class=\"dataframe\">\n",
       "  <thead>\n",
       "    <tr style=\"text-align: right;\">\n",
       "      <th></th>\n",
       "      <th>MedInc</th>\n",
       "      <th>HouseAge</th>\n",
       "      <th>AveRooms</th>\n",
       "      <th>AveBedrms</th>\n",
       "      <th>Population</th>\n",
       "      <th>AveOccup</th>\n",
       "      <th>Latitude</th>\n",
       "      <th>Longitude</th>\n",
       "      <th>MedHouseVal</th>\n",
       "    </tr>\n",
       "  </thead>\n",
       "  <tbody>\n",
       "    <tr>\n",
       "      <th>7506</th>\n",
       "      <td>3.06</td>\n",
       "      <td>37.00</td>\n",
       "      <td>5.15</td>\n",
       "      <td>1.05</td>\n",
       "      <td>729.00</td>\n",
       "      <td>5.06</td>\n",
       "      <td>33.92</td>\n",
       "      <td>-118.28</td>\n",
       "      <td>1.05</td>\n",
       "    </tr>\n",
       "    <tr>\n",
       "      <th>18729</th>\n",
       "      <td>2.65</td>\n",
       "      <td>21.00</td>\n",
       "      <td>4.98</td>\n",
       "      <td>0.93</td>\n",
       "      <td>1,428.00</td>\n",
       "      <td>2.84</td>\n",
       "      <td>40.55</td>\n",
       "      <td>-122.36</td>\n",
       "      <td>1.13</td>\n",
       "    </tr>\n",
       "    <tr>\n",
       "      <th>270</th>\n",
       "      <td>3.88</td>\n",
       "      <td>33.00</td>\n",
       "      <td>3.02</td>\n",
       "      <td>0.66</td>\n",
       "      <td>575.00</td>\n",
       "      <td>12.23</td>\n",
       "      <td>37.78</td>\n",
       "      <td>-122.18</td>\n",
       "      <td>2.25</td>\n",
       "    </tr>\n",
       "    <tr>\n",
       "      <th>2461</th>\n",
       "      <td>2.81</td>\n",
       "      <td>29.00</td>\n",
       "      <td>6.08</td>\n",
       "      <td>1.07</td>\n",
       "      <td>914.00</td>\n",
       "      <td>3.26</td>\n",
       "      <td>36.46</td>\n",
       "      <td>-119.69</td>\n",
       "      <td>0.79</td>\n",
       "    </tr>\n",
       "    <tr>\n",
       "      <th>14578</th>\n",
       "      <td>3.34</td>\n",
       "      <td>35.00</td>\n",
       "      <td>5.32</td>\n",
       "      <td>1.03</td>\n",
       "      <td>1,392.00</td>\n",
       "      <td>2.67</td>\n",
       "      <td>32.82</td>\n",
       "      <td>-117.20</td>\n",
       "      <td>1.72</td>\n",
       "    </tr>\n",
       "  </tbody>\n",
       "</table>\n",
       "</div>"
      ],
      "text/plain": [
       "       MedInc  HouseAge  AveRooms  AveBedrms  Population  AveOccup  Latitude  \\\n",
       "7506     3.06     37.00      5.15       1.05      729.00      5.06     33.92   \n",
       "18729    2.65     21.00      4.98       0.93    1,428.00      2.84     40.55   \n",
       "270      3.88     33.00      3.02       0.66      575.00     12.23     37.78   \n",
       "2461     2.81     29.00      6.08       1.07      914.00      3.26     36.46   \n",
       "14578    3.34     35.00      5.32       1.03    1,392.00      2.67     32.82   \n",
       "\n",
       "       Longitude  MedHouseVal  \n",
       "7506     -118.28         1.05  \n",
       "18729    -122.36         1.13  \n",
       "270      -122.18         2.25  \n",
       "2461     -119.69         0.79  \n",
       "14578    -117.20         1.72  "
      ]
     },
     "execution_count": 62,
     "metadata": {},
     "output_type": "execute_result"
    }
   ],
   "source": [
    "from sklearn.compose import ColumnTransformer\n",
    "\n",
    "col_trans = ColumnTransformer(\n",
    "    [('dscr', KBinsDiscretizer(n_bins = 3, encode = \"onehot-dense\",\n",
    "                               strategy = \"uniform\"), [\"Population\"]),\n",
    "     ('mmx', MinMaxScaler(), [\"AveRooms\", \"AveBedrms\"]),\n",
    "     ('pdr', StandardScaler(), [\"Latitude\", \"Longitude\"])])\n",
    "\n",
    "dados_train_trans = col_trans.fit_transform(dados_train)\n",
    "dados_train_trans = \\\n",
    "    pd.DataFrame(dados_train_trans,\n",
    "                 columns = col_trans.get_feature_names_out())\n",
    "dados_train.head()"
   ]
  },
  {
   "cell_type": "markdown",
   "id": "d43466e1",
   "metadata": {},
   "source": [
    "O resultado da transformação mostra que, por default, apenas as colunas especificadas são afetadas. Além disso, os nomes das colunas geradas são precedidos do nome da transformação aplicada."
   ]
  },
  {
   "cell_type": "markdown",
   "id": "87b91c9f",
   "metadata": {},
   "source": [
    "O método `make_column_selector` permite que se especifique colunas com base em seu tipo ou padrão de nome."
   ]
  },
  {
   "cell_type": "code",
   "execution_count": 63,
   "id": "8b0b1d7c",
   "metadata": {},
   "outputs": [
    {
     "name": "stdout",
     "output_type": "stream",
     "text": [
      "<class 'pandas.core.frame.DataFrame'>\n",
      "RangeIndex: 15480 entries, 0 to 15479\n",
      "Data columns (total 7 columns):\n",
      " #   Column                Non-Null Count  Dtype   \n",
      "---  ------                --------------  -----   \n",
      " 0   dscr__Population_0.0  15480 non-null  category\n",
      " 1   dscr__Population_1.0  15480 non-null  category\n",
      " 2   dscr__Population_2.0  15480 non-null  category\n",
      " 3   mmx__AveRooms         15480 non-null  float64 \n",
      " 4   mmx__AveBedrms        15480 non-null  float64 \n",
      " 5   pdr__Latitude         15480 non-null  float64 \n",
      " 6   pdr__Longitude        15480 non-null  float64 \n",
      "dtypes: category(3), float64(4)\n",
      "memory usage: 529.6 KB\n"
     ]
    }
   ],
   "source": [
    "dados_train_trans.loc[:, \"dscr__Population_0.0\":\"dscr__Population_2.0\"] = \\\n",
    "        dados_train_trans.loc[:, \"dscr__Population_0.0\":\"dscr__Population_2.0\"] \\\n",
    "                         .astype(\"category\")\n",
    "dados_train_trans.info()"
   ]
  },
  {
   "cell_type": "code",
   "execution_count": 64,
   "id": "0fbe72fc",
   "metadata": {},
   "outputs": [
    {
     "name": "stdout",
     "output_type": "stream",
     "text": [
      "Colunas selecionadas por nome: ['mmx__mmx__AveRooms' 'mmx__mmx__AveBedrms'] \n",
      "\n",
      "Colunas selecionadas por tipo: ['pdr__mmx__AveRooms' 'pdr__mmx__AveBedrms' 'pdr__pdr__Latitude'\n",
      " 'pdr__pdr__Longitude']\n"
     ]
    }
   ],
   "source": [
    "from sklearn.compose import make_column_selector\n",
    "\n",
    "# Seleção por padrão nos nomes das colunas:\n",
    "col_trans = ColumnTransformer([('mmx', MinMaxScaler(),\n",
    "                                make_column_selector(pattern = \"Ave\"))])\n",
    "col_trans.fit(dados_train_trans)\n",
    "print(\"Colunas selecionadas por nome:\", col_trans.get_feature_names_out(), \"\\n\")\n",
    "\n",
    "# Seleção por tipo de dados:\n",
    "col_trans = ColumnTransformer([('pdr', StandardScaler(),\n",
    "                                make_column_selector(dtype_include=np.number))])\n",
    "col_trans.fit(dados_train_trans)\n",
    "print(\"Colunas selecionadas por tipo:\", col_trans.get_feature_names_out())"
   ]
  },
  {
   "cell_type": "markdown",
   "id": "7a790a8c",
   "metadata": {},
   "source": [
    "# Estimadores"
   ]
  },
  {
   "cell_type": "markdown",
   "id": "075eecf5",
   "metadata": {},
   "source": [
    "Há um grande número de algoritmos implementados no `scikit-learn`, em seus estimadores (*estimators*). Nos exemplos anteriores, usamos o estimador de regressão linear múltipla, *LinearRegression*. A documentação do pacote descreve todos os estimadores implementados para problemas de ML [supervisionados](https://scikit-learn.org/stable/supervised_learning.html) e [não-supervisionados](https://scikit-learn.org/stable/unsupervised_learning.html)."
   ]
  },
  {
   "cell_type": "markdown",
   "id": "e320e660",
   "metadata": {},
   "source": [
    "A figura a seguir mostra um fluxograma para definir o tipo de algoritmo adequado a um dado problema de ML. "
   ]
  },
  {
   "cell_type": "markdown",
   "id": "6c8a2498",
   "metadata": {},
   "source": [
    "<img src=\"https://scikit-learn.org/stable/_static/ml_map.png\" width=\"1500px\"></br>\n",
    "<i>Fonte</i>: https://scikit-learn.org/stable/tutorial/machine_learning_map/index.html"
   ]
  },
  {
   "cell_type": "markdown",
   "id": "baa8a4b1",
   "metadata": {},
   "source": [
    "Objetos de um tipo de estimador são criados instanciando-se um objeto da classe correspondente. O método de inicialização inclui parâmetros para a definição de valores dos hiperparâmetros de um algoritmo. Os hiperparâmetros podem ser alterados posteriormente por meio dos método `set_params`, que aceita como argumento um dicionário com chaves correspondentes aos hiperparâmetros do objeto criado."
   ]
  },
  {
   "cell_type": "markdown",
   "id": "fa695535",
   "metadata": {},
   "source": [
    "Vamos usar como exemplo o estimador de regressão linear *LinearRegression*, aplicado aos dados da base *California Housing*."
   ]
  },
  {
   "cell_type": "code",
   "execution_count": 65,
   "id": "98c741d6",
   "metadata": {},
   "outputs": [
    {
     "data": {
      "text/plain": [
       "LinearRegression(fit_intercept=False, n_jobs=-1)"
      ]
     },
     "execution_count": 65,
     "metadata": {},
     "output_type": "execute_result"
    }
   ],
   "source": [
    "from sklearn.linear_model import LinearRegression\n",
    "\n",
    "regr = LinearRegression(fit_intercept = False, \n",
    "                        n_jobs = -1)\n",
    "regr"
   ]
  },
  {
   "cell_type": "code",
   "execution_count": 66,
   "id": "ac4919f9",
   "metadata": {},
   "outputs": [
    {
     "data": {
      "text/plain": [
       "LinearRegression(n_jobs=2)"
      ]
     },
     "execution_count": 66,
     "metadata": {},
     "output_type": "execute_result"
    }
   ],
   "source": [
    "regr.set_params(**{'fit_intercept': True,   # É necessário desempacotar\n",
    "                   'n_jobs': 2})            # (unpack) o dicionário  \n",
    "regr"
   ]
  },
  {
   "cell_type": "markdown",
   "id": "bef3dfe9",
   "metadata": {},
   "source": [
    "O método `fit` é usado para treinar o estimador (modelo)."
   ]
  },
  {
   "cell_type": "code",
   "execution_count": 67,
   "id": "748aa8a7",
   "metadata": {
    "scrolled": true
   },
   "outputs": [
    {
     "data": {
      "text/html": [
       "<div>\n",
       "<style scoped>\n",
       "    .dataframe tbody tr th:only-of-type {\n",
       "        vertical-align: middle;\n",
       "    }\n",
       "\n",
       "    .dataframe tbody tr th {\n",
       "        vertical-align: top;\n",
       "    }\n",
       "\n",
       "    .dataframe thead th {\n",
       "        text-align: right;\n",
       "    }\n",
       "</style>\n",
       "<table border=\"1\" class=\"dataframe\">\n",
       "  <thead>\n",
       "    <tr style=\"text-align: right;\">\n",
       "      <th></th>\n",
       "      <th>MedInc</th>\n",
       "      <th>HouseAge</th>\n",
       "      <th>AveRooms</th>\n",
       "      <th>AveBedrms</th>\n",
       "      <th>Population</th>\n",
       "      <th>AveOccup</th>\n",
       "      <th>Latitude</th>\n",
       "      <th>Longitude</th>\n",
       "      <th>MedHouseVal</th>\n",
       "    </tr>\n",
       "  </thead>\n",
       "  <tbody>\n",
       "    <tr>\n",
       "      <th>7506</th>\n",
       "      <td>3.06</td>\n",
       "      <td>37.00</td>\n",
       "      <td>5.15</td>\n",
       "      <td>1.05</td>\n",
       "      <td>729.00</td>\n",
       "      <td>5.06</td>\n",
       "      <td>33.92</td>\n",
       "      <td>-118.28</td>\n",
       "      <td>1.05</td>\n",
       "    </tr>\n",
       "    <tr>\n",
       "      <th>18729</th>\n",
       "      <td>2.65</td>\n",
       "      <td>21.00</td>\n",
       "      <td>4.98</td>\n",
       "      <td>0.93</td>\n",
       "      <td>1,428.00</td>\n",
       "      <td>2.84</td>\n",
       "      <td>40.55</td>\n",
       "      <td>-122.36</td>\n",
       "      <td>1.13</td>\n",
       "    </tr>\n",
       "    <tr>\n",
       "      <th>270</th>\n",
       "      <td>3.88</td>\n",
       "      <td>33.00</td>\n",
       "      <td>3.02</td>\n",
       "      <td>0.66</td>\n",
       "      <td>575.00</td>\n",
       "      <td>12.23</td>\n",
       "      <td>37.78</td>\n",
       "      <td>-122.18</td>\n",
       "      <td>2.25</td>\n",
       "    </tr>\n",
       "  </tbody>\n",
       "</table>\n",
       "</div>"
      ],
      "text/plain": [
       "       MedInc  HouseAge  AveRooms  AveBedrms  Population  AveOccup  Latitude  \\\n",
       "7506     3.06     37.00      5.15       1.05      729.00      5.06     33.92   \n",
       "18729    2.65     21.00      4.98       0.93    1,428.00      2.84     40.55   \n",
       "270      3.88     33.00      3.02       0.66      575.00     12.23     37.78   \n",
       "\n",
       "       Longitude  MedHouseVal  \n",
       "7506     -118.28         1.05  \n",
       "18729    -122.36         1.13  \n",
       "270      -122.18         2.25  "
      ]
     },
     "execution_count": 67,
     "metadata": {},
     "output_type": "execute_result"
    }
   ],
   "source": [
    "dados_train.head(3)"
   ]
  },
  {
   "cell_type": "code",
   "execution_count": 68,
   "id": "9fa4d056",
   "metadata": {
    "scrolled": true
   },
   "outputs": [
    {
     "data": {
      "text/html": [
       "<div>\n",
       "<style scoped>\n",
       "    .dataframe tbody tr th:only-of-type {\n",
       "        vertical-align: middle;\n",
       "    }\n",
       "\n",
       "    .dataframe tbody tr th {\n",
       "        vertical-align: top;\n",
       "    }\n",
       "\n",
       "    .dataframe thead th {\n",
       "        text-align: right;\n",
       "    }\n",
       "</style>\n",
       "<table border=\"1\" class=\"dataframe\">\n",
       "  <thead>\n",
       "    <tr style=\"text-align: right;\">\n",
       "      <th></th>\n",
       "      <th>Preditores</th>\n",
       "      <th>Coeficientes</th>\n",
       "    </tr>\n",
       "  </thead>\n",
       "  <tbody>\n",
       "    <tr>\n",
       "      <th>0</th>\n",
       "      <td>MedInc</td>\n",
       "      <td>0.43</td>\n",
       "    </tr>\n",
       "    <tr>\n",
       "      <th>1</th>\n",
       "      <td>HouseAge</td>\n",
       "      <td>0.01</td>\n",
       "    </tr>\n",
       "    <tr>\n",
       "      <th>2</th>\n",
       "      <td>AveRooms</td>\n",
       "      <td>-0.10</td>\n",
       "    </tr>\n",
       "    <tr>\n",
       "      <th>3</th>\n",
       "      <td>AveBedrms</td>\n",
       "      <td>0.61</td>\n",
       "    </tr>\n",
       "    <tr>\n",
       "      <th>4</th>\n",
       "      <td>Population</td>\n",
       "      <td>0.00</td>\n",
       "    </tr>\n",
       "    <tr>\n",
       "      <th>5</th>\n",
       "      <td>AveOccup</td>\n",
       "      <td>-0.00</td>\n",
       "    </tr>\n",
       "    <tr>\n",
       "      <th>6</th>\n",
       "      <td>Latitude</td>\n",
       "      <td>-0.43</td>\n",
       "    </tr>\n",
       "    <tr>\n",
       "      <th>7</th>\n",
       "      <td>Longitude</td>\n",
       "      <td>-0.44</td>\n",
       "    </tr>\n",
       "  </tbody>\n",
       "</table>\n",
       "</div>"
      ],
      "text/plain": [
       "   Preditores  Coeficientes\n",
       "0      MedInc          0.43\n",
       "1    HouseAge          0.01\n",
       "2    AveRooms         -0.10\n",
       "3   AveBedrms          0.61\n",
       "4  Population          0.00\n",
       "5    AveOccup         -0.00\n",
       "6    Latitude         -0.43\n",
       "7   Longitude         -0.44"
      ]
     },
     "execution_count": 68,
     "metadata": {},
     "output_type": "execute_result"
    }
   ],
   "source": [
    "# Treinamento:\n",
    "regr.fit(X = dados_train.loc[:, \"MedInc\":\"Longitude\"], \n",
    "         y = dados_train.loc[:, \"MedHouseVal\"])\n",
    "pd.DataFrame({\"Preditores\": regr.feature_names_in_,\n",
    "              \"Coeficientes\": regr.coef_})"
   ]
  },
  {
   "cell_type": "markdown",
   "id": "f6f443b8",
   "metadata": {},
   "source": [
    "A métrica de desempenho do modelo (função de perda ou *loss function*), que, no caso, é o $R^2$, é obtida com o método `score`."
   ]
  },
  {
   "cell_type": "code",
   "execution_count": 69,
   "id": "cc3f9ab2",
   "metadata": {},
   "outputs": [
    {
     "name": "stdout",
     "output_type": "stream",
     "text": [
      "R2 no treinamento = 0.60\n"
     ]
    }
   ],
   "source": [
    "r2 = regr.score(X = dados_train.loc[:, \"MedInc\":\"Longitude\"],\n",
    "                y = dados_train.loc[:, \"MedHouseVal\"])\n",
    "print(f\"R2 no treinamento = {r2:.2f}\")"
   ]
  },
  {
   "cell_type": "markdown",
   "id": "9fccc3c9",
   "metadata": {},
   "source": [
    "Após o treinamento do estimador, usamos o método `predict` para gerar as previsões de $y$ com a base de teste, e o método `score` para avaliar o desempenho do modelo com os novos dados."
   ]
  },
  {
   "cell_type": "code",
   "execution_count": 70,
   "id": "f03118e6",
   "metadata": {
    "scrolled": true
   },
   "outputs": [
    {
     "data": {
      "text/html": [
       "<div>\n",
       "<style scoped>\n",
       "    .dataframe tbody tr th:only-of-type {\n",
       "        vertical-align: middle;\n",
       "    }\n",
       "\n",
       "    .dataframe tbody tr th {\n",
       "        vertical-align: top;\n",
       "    }\n",
       "\n",
       "    .dataframe thead th {\n",
       "        text-align: right;\n",
       "    }\n",
       "</style>\n",
       "<table border=\"1\" class=\"dataframe\">\n",
       "  <thead>\n",
       "    <tr style=\"text-align: right;\">\n",
       "      <th></th>\n",
       "      <th>MedInc</th>\n",
       "      <th>HouseAge</th>\n",
       "      <th>AveRooms</th>\n",
       "      <th>AveBedrms</th>\n",
       "      <th>Population</th>\n",
       "      <th>AveOccup</th>\n",
       "      <th>Latitude</th>\n",
       "      <th>Longitude</th>\n",
       "      <th>MedHouseVal</th>\n",
       "    </tr>\n",
       "  </thead>\n",
       "  <tbody>\n",
       "    <tr>\n",
       "      <th>3633</th>\n",
       "      <td>4.54</td>\n",
       "      <td>34.00</td>\n",
       "      <td>5.38</td>\n",
       "      <td>0.97</td>\n",
       "      <td>1,011.00</td>\n",
       "      <td>3.51</td>\n",
       "      <td>34.23</td>\n",
       "      <td>-118.42</td>\n",
       "      <td>1.89</td>\n",
       "    </tr>\n",
       "    <tr>\n",
       "      <th>13823</th>\n",
       "      <td>2.18</td>\n",
       "      <td>10.00</td>\n",
       "      <td>5.20</td>\n",
       "      <td>1.05</td>\n",
       "      <td>2,378.00</td>\n",
       "      <td>2.94</td>\n",
       "      <td>34.50</td>\n",
       "      <td>-117.20</td>\n",
       "      <td>0.92</td>\n",
       "    </tr>\n",
       "    <tr>\n",
       "      <th>5233</th>\n",
       "      <td>1.72</td>\n",
       "      <td>39.00</td>\n",
       "      <td>4.58</td>\n",
       "      <td>1.03</td>\n",
       "      <td>1,211.00</td>\n",
       "      <td>4.57</td>\n",
       "      <td>33.94</td>\n",
       "      <td>-118.24</td>\n",
       "      <td>0.95</td>\n",
       "    </tr>\n",
       "  </tbody>\n",
       "</table>\n",
       "</div>"
      ],
      "text/plain": [
       "       MedInc  HouseAge  AveRooms  AveBedrms  Population  AveOccup  Latitude  \\\n",
       "3633     4.54     34.00      5.38       0.97    1,011.00      3.51     34.23   \n",
       "13823    2.18     10.00      5.20       1.05    2,378.00      2.94     34.50   \n",
       "5233     1.72     39.00      4.58       1.03    1,211.00      4.57     33.94   \n",
       "\n",
       "       Longitude  MedHouseVal  \n",
       "3633     -118.42         1.89  \n",
       "13823    -117.20         0.92  \n",
       "5233     -118.24         0.95  "
      ]
     },
     "execution_count": 70,
     "metadata": {},
     "output_type": "execute_result"
    }
   ],
   "source": [
    "dados_test.head(3)"
   ]
  },
  {
   "cell_type": "code",
   "execution_count": 71,
   "id": "24cc2646",
   "metadata": {},
   "outputs": [
    {
     "data": {
      "text/html": [
       "<div>\n",
       "<style scoped>\n",
       "    .dataframe tbody tr th:only-of-type {\n",
       "        vertical-align: middle;\n",
       "    }\n",
       "\n",
       "    .dataframe tbody tr th {\n",
       "        vertical-align: top;\n",
       "    }\n",
       "\n",
       "    .dataframe thead th {\n",
       "        text-align: right;\n",
       "    }\n",
       "</style>\n",
       "<table border=\"1\" class=\"dataframe\">\n",
       "  <thead>\n",
       "    <tr style=\"text-align: right;\">\n",
       "      <th></th>\n",
       "      <th>MedInc</th>\n",
       "      <th>HouseAge</th>\n",
       "      <th>AveRooms</th>\n",
       "      <th>AveBedrms</th>\n",
       "      <th>Population</th>\n",
       "      <th>AveOccup</th>\n",
       "      <th>Latitude</th>\n",
       "      <th>Longitude</th>\n",
       "      <th>MedHouseVal</th>\n",
       "      <th>PredictedVal</th>\n",
       "    </tr>\n",
       "  </thead>\n",
       "  <tbody>\n",
       "    <tr>\n",
       "      <th>3633</th>\n",
       "      <td>4.54</td>\n",
       "      <td>34.00</td>\n",
       "      <td>5.38</td>\n",
       "      <td>0.97</td>\n",
       "      <td>1,011.00</td>\n",
       "      <td>3.51</td>\n",
       "      <td>34.23</td>\n",
       "      <td>-118.42</td>\n",
       "      <td>1.89</td>\n",
       "      <td>2.43</td>\n",
       "    </tr>\n",
       "    <tr>\n",
       "      <th>13823</th>\n",
       "      <td>2.18</td>\n",
       "      <td>10.00</td>\n",
       "      <td>5.20</td>\n",
       "      <td>1.05</td>\n",
       "      <td>2,378.00</td>\n",
       "      <td>2.94</td>\n",
       "      <td>34.50</td>\n",
       "      <td>-117.20</td>\n",
       "      <td>0.92</td>\n",
       "      <td>0.60</td>\n",
       "    </tr>\n",
       "    <tr>\n",
       "      <th>5233</th>\n",
       "      <td>1.72</td>\n",
       "      <td>39.00</td>\n",
       "      <td>4.58</td>\n",
       "      <td>1.03</td>\n",
       "      <td>1,211.00</td>\n",
       "      <td>4.57</td>\n",
       "      <td>33.94</td>\n",
       "      <td>-118.24</td>\n",
       "      <td>0.95</td>\n",
       "      <td>1.41</td>\n",
       "    </tr>\n",
       "    <tr>\n",
       "      <th>12481</th>\n",
       "      <td>0.75</td>\n",
       "      <td>5.00</td>\n",
       "      <td>2.58</td>\n",
       "      <td>1.04</td>\n",
       "      <td>2,031.00</td>\n",
       "      <td>6.88</td>\n",
       "      <td>38.58</td>\n",
       "      <td>-121.50</td>\n",
       "      <td>1.62</td>\n",
       "      <td>0.33</td>\n",
       "    </tr>\n",
       "    <tr>\n",
       "      <th>8421</th>\n",
       "      <td>3.01</td>\n",
       "      <td>26.00</td>\n",
       "      <td>4.01</td>\n",
       "      <td>1.09</td>\n",
       "      <td>2,394.00</td>\n",
       "      <td>3.04</td>\n",
       "      <td>33.93</td>\n",
       "      <td>-118.35</td>\n",
       "      <td>1.92</td>\n",
       "      <td>2.00</td>\n",
       "    </tr>\n",
       "  </tbody>\n",
       "</table>\n",
       "</div>"
      ],
      "text/plain": [
       "       MedInc  HouseAge  AveRooms  AveBedrms  Population  AveOccup  Latitude  \\\n",
       "3633     4.54     34.00      5.38       0.97    1,011.00      3.51     34.23   \n",
       "13823    2.18     10.00      5.20       1.05    2,378.00      2.94     34.50   \n",
       "5233     1.72     39.00      4.58       1.03    1,211.00      4.57     33.94   \n",
       "12481    0.75      5.00      2.58       1.04    2,031.00      6.88     38.58   \n",
       "8421     3.01     26.00      4.01       1.09    2,394.00      3.04     33.93   \n",
       "\n",
       "       Longitude  MedHouseVal  PredictedVal  \n",
       "3633     -118.42         1.89          2.43  \n",
       "13823    -117.20         0.92          0.60  \n",
       "5233     -118.24         0.95          1.41  \n",
       "12481    -121.50         1.62          0.33  \n",
       "8421     -118.35         1.92          2.00  "
      ]
     },
     "execution_count": 71,
     "metadata": {},
     "output_type": "execute_result"
    }
   ],
   "source": [
    "# Previsão com a base de teste:\n",
    "dados_test[\"PredictedVal\"] = regr.predict(X = dados_test.loc[:, \"MedInc\":\"Longitude\"])\n",
    "dados_test.head()"
   ]
  },
  {
   "cell_type": "code",
   "execution_count": 72,
   "id": "0596f2f8",
   "metadata": {},
   "outputs": [
    {
     "name": "stdout",
     "output_type": "stream",
     "text": [
      "R2 no teste = 0.61\n"
     ]
    }
   ],
   "source": [
    "r2 = regr.score(X = dados_test.loc[:, \"MedInc\":\"Longitude\"], \n",
    "                y = dados_test.loc[:, \"MedHouseVal\"])\n",
    "print(f\"R2 no teste = {r2:.2f}\")"
   ]
  },
  {
   "cell_type": "markdown",
   "id": "5f6c5933",
   "metadata": {},
   "source": [
    "# Validação Cruzada"
   ]
  },
  {
   "cell_type": "markdown",
   "id": "646e9da7",
   "metadata": {},
   "source": [
    "O fluxo de um processo de ML típico é mostrado na figura abaixo. Nela, destaca-se o processo de validação cruzada (*cross validation*), utilizado para reduzir a variância das estimativas do desempenho de um modelo quando for aplicado a novos dados. "
   ]
  },
  {
   "cell_type": "markdown",
   "id": "65377cfe",
   "metadata": {},
   "source": [
    "<img src=\"https://scikit-learn.org/stable/_images/grid_search_workflow.png\" width=\"500px\"></br>\n",
    "<i>Fonte</i>: https://scikit-learn.org/stable/modules/cross_validation.html"
   ]
  },
  {
   "cell_type": "markdown",
   "id": "a94bf847",
   "metadata": {},
   "source": [
    "A validação cruzada (*cross validation*) é uma etapa importante da geração de modelos, especialmente para a definição dos *hiperparâmetros* que definem como o algoritmo de ML irá funcionar. De fato, na figura, ela aparece antes do processo de escolha dos melhores hiperparâmetros para o algoritmo de aprendizagem."
   ]
  },
  {
   "cell_type": "markdown",
   "id": "775c47e4",
   "metadata": {},
   "source": [
    "Geralmente, a validação cruzada envolver a divisão da base de treinamento original em um ou mais pares de bases de treinamento e validação, as quais podem ser usadas para a calibragem de hiperparâmetros. Dada uma base de treinamento originalmente composta de $N$ exemplos, quando $k$ pares de bases de treinamento e validação são criados, com $N(1 - 1/k)$ e $N/k$ exemplos, repectivamente, o processo é denominado $k$*-fold cross validation*. Quando $N$ pares são criados , cada par consistindo de uma partição de treinamento com $N-1$ exemplos e uma partição de teste com um exemplo, tem-se o que chamamos de *leave-one-out cross validation*."
   ]
  },
  {
   "cell_type": "markdown",
   "id": "338354ba",
   "metadata": {},
   "source": [
    "<img src=\"https://scikit-learn.org/stable/_images/grid_search_cross_validation.png\" width=\"500px\"></br>\n",
    "<i>Fonte</i>: https://scikit-learn.org/stable/modules/cross_validation.html"
   ]
  },
  {
   "cell_type": "markdown",
   "id": "47025f66",
   "metadata": {},
   "source": [
    "A seguir, implementamos um *5-fold cross validation* para modelos de regressão linear gerados com a base de dados *California Housing*."
   ]
  },
  {
   "cell_type": "code",
   "execution_count": 73,
   "id": "b3930381",
   "metadata": {},
   "outputs": [],
   "source": [
    "from sklearn.model_selection import cross_val_score\n",
    "from sklearn.linear_model import LinearRegression\n",
    "\n",
    "# Estimador que define o algoritmo de ML a ser usado:\n",
    "reg = LinearRegression()\n",
    "\n",
    "# Geração da métrica de avaliação para os modelos obtidos no k-fold cross validation:\n",
    "scores = cross_val_score(reg, \n",
    "                         dados_train.loc[:, \"MedInc\":\"Longitude\"], dados_train.loc[:, \"MedHouseVal\"], \n",
    "                         cv = 5)"
   ]
  },
  {
   "cell_type": "markdown",
   "id": "7ef7d84f",
   "metadata": {},
   "source": [
    "Por default, no `scikit-learn`, o desempenho dos modelos de regressão linear é avaliado pela média do erro ao quadrado (*Mean Squared Error*):\n",
    "<p>\n",
    "<center>$MSE = \\min_{w} || X w - y||_2^2$</center>\n",
    "</p>"
   ]
  },
  {
   "cell_type": "code",
   "execution_count": 74,
   "id": "329292b1",
   "metadata": {},
   "outputs": [
    {
     "name": "stdout",
     "output_type": "stream",
     "text": [
      "MSE obtidos: [0.6  0.57 0.62 0.6  0.59]\n"
     ]
    }
   ],
   "source": [
    "print(f\"MSE obtidos: {scores}\")"
   ]
  },
  {
   "cell_type": "code",
   "execution_count": 75,
   "id": "356de3e6",
   "metadata": {},
   "outputs": [
    {
     "name": "stdout",
     "output_type": "stream",
     "text": [
      "Média dos MSE: 0.60\n",
      "Desvio padrão dos MSE: 0.01\n"
     ]
    }
   ],
   "source": [
    "print(f\"Média dos MSE: {np.mean(scores):.2f}\")\n",
    "print(f\"Desvio padrão dos MSE: {np.std(scores):.2f}\")"
   ]
  },
  {
   "cell_type": "markdown",
   "id": "cefd04e1",
   "metadata": {},
   "source": [
    "O parâmetro *scoring* do método `cross_val_score` é usado para definir outras [métricas de avaliação de modelos](https://scikit-learn.org/stable/modules/model_evaluation.html#scoring-parameter), como a média dos valores absolutos dos percentuais de erro (*Mean Absolute Percentage Error*). "
   ]
  },
  {
   "cell_type": "code",
   "execution_count": 76,
   "id": "4ff86af0",
   "metadata": {},
   "outputs": [],
   "source": [
    "scores = cross_val_score(reg, \n",
    "                         dados_train.loc[:, \"MedInc\":\"Longitude\"], dados_train.loc[:, \"MedHouseVal\"], \n",
    "                         cv = 5,\n",
    "                         scoring = \"neg_mean_absolute_percentage_error\")"
   ]
  },
  {
   "cell_type": "code",
   "execution_count": 77,
   "id": "9e57d0f8",
   "metadata": {},
   "outputs": [
    {
     "name": "stdout",
     "output_type": "stream",
     "text": [
      "MAPE obtidos: [0.32 0.33 0.32 0.31 0.32]\n",
      "Média dos MAPE: 0.320\n",
      "Desvio padrão dos MAPE: 0.007\n"
     ]
    }
   ],
   "source": [
    "scores = abs(scores)\n",
    "print(f\"MAPE obtidos: {scores}\")\n",
    "print(f\"Média dos MAPE: {np.mean(scores):.3f}\")\n",
    "print(f\"Desvio padrão dos MAPE: {np.std(scores):.3f}\")"
   ]
  },
  {
   "cell_type": "markdown",
   "id": "497960bc",
   "metadata": {},
   "source": [
    "O parâmetro *cv* pode ser usado para definir outras estratégias de validação cruzada, como *leave-One-Out*. Em tais casos, o parâmetro recebe o nome de um iterador (*iterator*) de validação cruzada, que gera pares de índices de exemplos da base de dados a serem usados para treinamento e teste. "
   ]
  },
  {
   "cell_type": "code",
   "execution_count": 78,
   "id": "b5cc44d3",
   "metadata": {
    "scrolled": true
   },
   "outputs": [
    {
     "name": "stdout",
     "output_type": "stream",
     "text": [
      "*** 3-fold Cross Validation:\n",
      "Fold 0:\n",
      "Exemplos para treinamento: [    2     3     4 ... 15474 15477 15479]\n",
      "Exemplos para teste: [    0     1    11 ... 15475 15476 15478]\n",
      "\n",
      "Fold 1:\n",
      "Exemplos para treinamento: [    0     1     3 ... 15476 15478 15479]\n",
      "Exemplos para teste: [    2     4     6 ... 15473 15474 15477]\n",
      "\n",
      "Fold 2:\n",
      "Exemplos para treinamento: [    0     1     2 ... 15476 15477 15478]\n",
      "Exemplos para teste: [    3     5    13 ... 15470 15471 15479]\n",
      "\n",
      "*** Leave-One-Out Cross Validation:\n",
      "Fold 0:\n",
      "Exemplos para treinamento: [    1     2     3 ... 15477 15478 15479]\n",
      "Exemplos para teste: [0]\n",
      "\n",
      "Fold 1:\n",
      "Exemplos para treinamento: [    0     2     3 ... 15477 15478 15479]\n",
      "Exemplos para teste: [1]\n",
      "\n",
      "Fold 2:\n",
      "Exemplos para treinamento: [    0     1     3 ... 15477 15478 15479]\n",
      "Exemplos para teste: [2]\n",
      "\n",
      "Fold 3:\n",
      "Exemplos para treinamento: [    0     1     2 ... 15477 15478 15479]\n",
      "Exemplos para teste: [3]\n",
      "\n",
      "Fold 4:\n",
      "Exemplos para treinamento: [    0     1     2 ... 15477 15478 15479]\n",
      "Exemplos para teste: [4]\n",
      "\n",
      "Fold 5:\n",
      "Exemplos para treinamento: [    0     1     2 ... 15477 15478 15479]\n",
      "Exemplos para teste: [5]\n",
      "\n"
     ]
    }
   ],
   "source": [
    "from sklearn.model_selection import KFold, LeaveOneOut\n",
    "\n",
    "# Definição dos iteradores:\n",
    "kf = KFold(n_splits = 3, shuffle = True)\n",
    "lv = LeaveOneOut()\n",
    "\n",
    "# Geração dos índices para o k-fold:\n",
    "print(\"*** 3-fold Cross Validation:\")\n",
    "for i, (train, test) in enumerate(kf.split(dados_train)):\n",
    "    print(f\"Fold {i}:\\nExemplos para treinamento: {train}\\nExemplos para teste: {test}\\n\")\n",
    "\n",
    "# Geração dos índices para LOO:\n",
    "print(\"*** Leave-One-Out Cross Validation:\")\n",
    "for i, (train, test) in enumerate(lv.split(dados_train)):\n",
    "    if i > 5: \n",
    "        break\n",
    "    print(f\"Fold {i}:\\nExemplos para treinamento: {train}\\nExemplos para teste: {test}\\n\")"
   ]
  },
  {
   "cell_type": "markdown",
   "id": "013c9b6d",
   "metadata": {},
   "source": [
    "Os iteradores podem ser usados então nos métodos que implementam a validação cruzada, como o `cros_val_score`. Abaixo, implementamos o método *Leave-One-Out*, que consome mais recursos computacionais no caso selecionado."
   ]
  },
  {
   "cell_type": "code",
   "execution_count": 79,
   "id": "35de1711",
   "metadata": {},
   "outputs": [],
   "source": [
    "scores = cross_val_score(reg, \n",
    "                         dados_train.loc[:, \"MedInc\":\"Longitude\"], dados_train.loc[:, \"MedHouseVal\"], \n",
    "                         cv = lv,\n",
    "                         scoring = \"neg_mean_absolute_percentage_error\")"
   ]
  },
  {
   "cell_type": "code",
   "execution_count": 80,
   "id": "2bc9e58f",
   "metadata": {},
   "outputs": [
    {
     "name": "stdout",
     "output_type": "stream",
     "text": [
      "MAPE obtidos: [0.85 0.52 0.02 ... 0.98 0.07 0.2 ]\n",
      "Média dos MAPE: 0.319\n",
      "Desvio padrão dos MAPE: 0.358\n"
     ]
    }
   ],
   "source": [
    "scores = abs(scores)\n",
    "print(f\"MAPE obtidos: {scores}\")\n",
    "print(f\"Média dos MAPE: {np.mean(scores):.3f}\")\n",
    "print(f\"Desvio padrão dos MAPE: {np.std(scores):.3f}\")"
   ]
  },
  {
   "cell_type": "markdown",
   "id": "0bb43e29",
   "metadata": {},
   "source": [
    "O método `cross_validate` é mais versátil do que o método `cross_val_score`:\n",
    "\n",
    " - ele permite a especificação de mais de uma métrica de avaliação de modelos; e\n",
    " - ele retorna um dicionário com mais informações sobre o processo de validação cruzada."
   ]
  },
  {
   "cell_type": "code",
   "execution_count": 81,
   "id": "15f8e0cc",
   "metadata": {},
   "outputs": [],
   "source": [
    "from sklearn.model_selection import cross_validate\n",
    "\n",
    "scoring = [\"neg_mean_squared_error\", \"neg_mean_absolute_percentage_error\"]\n",
    "scores = cross_validate(reg, \n",
    "                        dados_train.loc[:, \"MedInc\":\"Longitude\"], dados_train.loc[:, \"MedHouseVal\"], \n",
    "                        cv = 5,\n",
    "                        scoring = scoring,\n",
    "                        return_train_score = True,\n",
    "                        return_estimator = False)"
   ]
  },
  {
   "cell_type": "code",
   "execution_count": 82,
   "id": "f688c1e2",
   "metadata": {
    "scrolled": true
   },
   "outputs": [
    {
     "data": {
      "text/plain": [
       "{'fit_time': array([0.01, 0.01, 0.01, 0.01, 0.01]),\n",
       " 'score_time': array([0.  , 0.01, 0.  , 0.01, 0.01]),\n",
       " 'test_neg_mean_squared_error': array([-0.56, -0.58, -0.5 , -0.51, -0.55]),\n",
       " 'train_neg_mean_squared_error': array([-0.52, -0.52, -0.54, -0.53, -0.53]),\n",
       " 'test_neg_mean_absolute_percentage_error': array([-0.32, -0.33, -0.32, -0.31, -0.32]),\n",
       " 'train_neg_mean_absolute_percentage_error': array([-0.32, -0.32, -0.32, -0.32, -0.32])}"
      ]
     },
     "execution_count": 82,
     "metadata": {},
     "output_type": "execute_result"
    }
   ],
   "source": [
    "scores"
   ]
  },
  {
   "cell_type": "markdown",
   "id": "f2ea945a",
   "metadata": {},
   "source": [
    "# Otimização de hiperparâmetros"
   ]
  },
  {
   "cell_type": "markdown",
   "id": "b620fd49",
   "metadata": {},
   "source": [
    "Algoritmos de aprendizagem incluem parâmetros (ou *hiperparâmetros*) que controlam o seu funcionamento, independente da base de treinamento fornecida. Esses hiperparâmetros precisam ser definidos de forma ótima, para que o melhor modelo possível possa ser gerado no processo de treinamento.\n",
    "\n",
    "A definição da combinação ótima de hiperparâmetros é feita por meio de validação cruzada, com o teste das várias possibilidades de valores. Ao final, a combinação que gerou o melhor resultado médio para a função de perda escolhida, nas amostras de validação, é selecionada e utilizada para o treinamento final."
   ]
  },
  {
   "cell_type": "markdown",
   "id": "e44974f6",
   "metadata": {},
   "source": [
    "O `scikit-learn` implementa quatro métodos básicos de busca por hiperparâmetros ótimos:\n",
    "\n",
    " - *GridSearchCV*: testa todas as combinações de valores especificados\n",
    " - *RandomizedSearchCV*: testa uma amostra do espaço de combinações de valores especificados\n",
    " - *HalvingGridSearchCV* e *HalvingRandomSearchCV*: implementações dos métodos anteriores em que a busca é iniciada com um conjunto limitado de recursos (ex., número de exemplos), selecionando-se as combinações de valores de hiperparâmetro mais promissoras. Estas são testadas sucessivamente, adicionando-se recursos e selecionando-se as mais promissoras a cada iteração. "
   ]
  },
  {
   "cell_type": "markdown",
   "id": "a6e3e316",
   "metadata": {},
   "source": [
    "Para ilustrar a aplicação dos métodos, vamos usar o estimador [*ElasticNet*](https://scikit-learn.org/stable/modules/generated/sklearn.linear_model.ElasticNet.html), que implementa regularizações do tipo *Lasso* e *Ridge* em um modelo de regressão linear. Além de definirmos a proporção de cada tipo de regularização, também devemos especificar a priori a intensidade total de regularização a ser adotada no algoritmo. Os hiperparâmetros *alpha* e *l1_ratio* são usados para isso. "
   ]
  },
  {
   "cell_type": "code",
   "execution_count": 83,
   "id": "eff5c56d",
   "metadata": {},
   "outputs": [
    {
     "name": "stdout",
     "output_type": "stream",
     "text": [
      "Fitting 10 folds for each of 24 candidates, totalling 240 fits\n"
     ]
    }
   ],
   "source": [
    "from sklearn.preprocessing import StandardScaler\n",
    "from sklearn.linear_model import ElasticNet\n",
    "from sklearn.model_selection import GridSearchCV\n",
    "\n",
    "scaler = StandardScaler()\n",
    "dados_padr = scaler.fit_transform(X = dados_train.loc[:, \"MedInc\":\"Longitude\"])\n",
    "\n",
    "elastic = ElasticNet(random_state = 0)\n",
    "\n",
    "hiperparam = [{\"alpha\": [.1, .01, .001, 0.0001], \n",
    "               \"l1_ratio\": [0.01, .1, .5, .9, .99, 1.]}]\n",
    "gridcv = GridSearchCV(estimator = elastic, \n",
    "                      param_grid = hiperparam,\n",
    "                      scoring = \"r2\",\n",
    "                      cv = 10,\n",
    "                      n_jobs = -1,\n",
    "                      return_train_score = True,\n",
    "                      verbose = 3)\n",
    "\n",
    "# Otimização de hiperparâmetros e treinamento do melhor modelo:\n",
    "gridcv.fit(dados_padr, dados_train.loc[:, \"MedHouseVal\"]);"
   ]
  },
  {
   "cell_type": "code",
   "execution_count": 84,
   "id": "5de21436",
   "metadata": {},
   "outputs": [
    {
     "name": "stdout",
     "output_type": "stream",
     "text": [
      "Melhor conjunto de hiperparâmetros: {'alpha': 0.001, 'l1_ratio': 1.0}\n",
      "R2 obtido no treinamento com o melhor modelo: 0.602\n"
     ]
    }
   ],
   "source": [
    "print(f\"Melhor conjunto de hiperparâmetros: {gridcv.best_params_}\")\n",
    "print(f\"R2 obtido no treinamento com o melhor modelo: {abs(gridcv.best_score_).round(3)}\")"
   ]
  },
  {
   "cell_type": "code",
   "execution_count": 85,
   "id": "9c832cec",
   "metadata": {},
   "outputs": [
    {
     "name": "stdout",
     "output_type": "stream",
     "text": [
      "R2 obtido com a base de teste: 0.61\n"
     ]
    }
   ],
   "source": [
    "r2 = gridcv.best_estimator_.score(X = scaler.transform(dados_test.loc[:, \"MedInc\":\"Longitude\"]),\n",
    "                                  y = dados_test.loc[:, \"MedHouseVal\"])\n",
    "print(f\"R2 obtido com a base de teste: {r2.round(2)}\")"
   ]
  },
  {
   "cell_type": "code",
   "execution_count": 86,
   "id": "b4dadbe6",
   "metadata": {
    "scrolled": false
   },
   "outputs": [
    {
     "data": {
      "image/png": "[encoded data removed]",
      "text/plain": [
       "<Figure size 504x360 with 1 Axes>"
      ]
     },
     "metadata": {
      "needs_background": "light"
     },
     "output_type": "display_data"
    }
   ],
   "source": [
    "dados_test[\"PredictedVal\"] = gridcv.best_estimator_.predict(X = scaler.transform(dados_test.loc[:, \"MedInc\":\"Longitude\"]))\n",
    "\n",
    "fig, ax = plt.subplots(figsize = (7, 5))\n",
    "dados_test.plot(\"MedHouseVal\", \"PredictedVal\", kind = \"scatter\", alpha = 0.2, ax = ax)\n",
    "plt.plot([0, 5], [0, 5], linestyle = \"dashed\", color = \"skyblue\")\n",
    "plt.title(\"Valor Previsto vs. Valor Real\");"
   ]
  },
  {
   "cell_type": "markdown",
   "id": "610e0e83",
   "metadata": {},
   "source": [
    "O gráfico acima mostra uma não-linearidade nos dados. Isso sugere que modelos mais complexos e flexíveis poderiam gerar melhores resultados. Além disso, o modelo não conseguiu prever bem os valores mais altos, próximos a 5.0."
   ]
  },
  {
   "cell_type": "markdown",
   "id": "580b2a83",
   "metadata": {},
   "source": [
    "# *Pipelines* de *Machine Learning*"
   ]
  },
  {
   "cell_type": "markdown",
   "id": "3c45592e",
   "metadata": {},
   "source": [
    "Preprocessadores (*pre-processors*) e estimadores (*estimators*) podem ser combinados e encadeados em objetos do tipo *pipeline* no `scikit-learn`. Assim como os *estimadores*, *pipelines* incluem os métodos `fit` e `predict`.\n",
    "\n",
    "*Pipelines* facilitam o desenvolvimento de modelos de ML:\n",
    "\n",
    " - os métodos `fit` e `predict` podem ser chamados apenas uma vez para todo o conjunto de preprocessadores e estimadores;\n",
    " - todos os hiperparâmetros dos estimadores são otimizados de uma só vez;\n",
    " - garantimos que as mesmas amostras são usadas para treinar os métodos de transformação e previsão, evitando o que chamamos de *data leakage*."
   ]
  },
  {
   "cell_type": "code",
   "execution_count": 87,
   "id": "6dd346a6",
   "metadata": {},
   "outputs": [],
   "source": [
    "from sklearn.pipeline import Pipeline\n",
    "from sklearn.model_selection import cross_val_score\n",
    "from sklearn.preprocessing import MinMaxScaler\n",
    "from sklearn.preprocessing import Binarizer\n",
    "from sklearn.linear_model import LinearRegression"
   ]
  },
  {
   "cell_type": "markdown",
   "id": "e18e8e7c",
   "metadata": {},
   "source": [
    "Todos os objetos de um pipeline devem ser preprocessadores ou *transformers*, exceto o último, que pode ser de qualquer tipo.\n",
    "\n",
    "A instanciação do *pipeline* é feita por meio de uma lista de pares (*chave*, *valor*), que correspondem ao nome que queremos dar a uma etapa e ao elemento do `scikit-learn` correspondente, respectivamente."
   ]
  },
  {
   "cell_type": "code",
   "execution_count": 88,
   "id": "df0ac05b",
   "metadata": {
    "scrolled": true
   },
   "outputs": [
    {
     "data": {
      "text/plain": [
       "Pipeline(steps=[('minmax', MinMaxScaler()), ('dummy', Binarizer()),\n",
       "                ('modelo', LinearRegression())])"
      ]
     },
     "execution_count": 88,
     "metadata": {},
     "output_type": "execute_result"
    }
   ],
   "source": [
    "etapas = [(\"minmax\", MinMaxScaler()),\n",
    "          (\"dummy\", Binarizer()),\n",
    "          (\"modelo\", LinearRegression())]\n",
    "pipe = Pipeline(etapas)\n",
    "pipe"
   ]
  },
  {
   "cell_type": "code",
   "execution_count": 89,
   "id": "efb7e573",
   "metadata": {},
   "outputs": [
    {
     "name": "stdout",
     "output_type": "stream",
     "text": [
      "Primeira etapa: ('minmax', MinMaxScaler())\n",
      "Elemento de ML: MinMaxScaler()\n",
      "\n",
      "Segunda etapa: ('dummy', Binarizer())\n",
      "Elemento de ML: Binarizer()\n",
      "\n",
      "Terceira etapa: ('modelo', LinearRegression())\n",
      "Elemento de ML: LinearRegression()\n"
     ]
    }
   ],
   "source": [
    "# Podemos acessar os elemento que compoem o pipeline:\n",
    "print(\"Primeira etapa:\", pipe.steps[0])\n",
    "print(\"Elemento de ML:\", pipe[0])\n",
    "print()\n",
    "print(\"Segunda etapa:\", pipe.steps[1])\n",
    "print(\"Elemento de ML:\", pipe[1])\n",
    "print()\n",
    "print(\"Terceira etapa:\", pipe.steps[2])\n",
    "print(\"Elemento de ML:\", pipe[2])"
   ]
  },
  {
   "cell_type": "code",
   "execution_count": 90,
   "id": "cde8f980",
   "metadata": {},
   "outputs": [
    {
     "data": {
      "text/plain": [
       "MinMaxScaler()"
      ]
     },
     "execution_count": 90,
     "metadata": {},
     "output_type": "execute_result"
    }
   ],
   "source": [
    "# Acesso com o nome da etapa:\n",
    "pipe[\"minmax\"]"
   ]
  },
  {
   "cell_type": "code",
   "execution_count": 91,
   "id": "2692f720",
   "metadata": {},
   "outputs": [
    {
     "data": {
      "text/plain": [
       "[('minmax', MinMaxScaler()), ('dummy', Binarizer())]"
      ]
     },
     "execution_count": 91,
     "metadata": {},
     "output_type": "execute_result"
    }
   ],
   "source": [
    "# Slicing:\n",
    "pipe.steps[0:2]"
   ]
  },
  {
   "cell_type": "markdown",
   "id": "3831a286",
   "metadata": {},
   "source": [
    "Para acessar os hiperparâmetros dos estimadores, usamos atributos com nome *estimator__parâmetro*:"
   ]
  },
  {
   "cell_type": "code",
   "execution_count": 92,
   "id": "a22f3daf",
   "metadata": {},
   "outputs": [
    {
     "data": {
      "text/plain": [
       "Pipeline(steps=[('minmax', MinMaxScaler(feature_range=(0, 2))),\n",
       "                ('dummy', Binarizer(threshold=0.5)),\n",
       "                ('modelo', LinearRegression(fit_intercept=False))])"
      ]
     },
     "execution_count": 92,
     "metadata": {},
     "output_type": "execute_result"
    }
   ],
   "source": [
    "pipe.set_params(minmax__feature_range = (0, 2), \n",
    "                dummy__threshold = .5,\n",
    "                modelo__fit_intercept = False)"
   ]
  }
 ],
 "metadata": {
  "kernelspec": {
   "display_name": "Python 3 (ipykernel)",
   "language": "python",
   "name": "python3"
  },
  "language_info": {
   "codemirror_mode": {
    "name": "ipython",
    "version": 3
   },
   "file_extension": ".py",
   "mimetype": "text/x-python",
   "name": "python",
   "nbconvert_exporter": "python",
   "pygments_lexer": "ipython3",
   "version": "3.8.8"
  },
  "toc": {
   "base_numbering": 1,
   "nav_menu": {
    "height": "169.986px",
    "width": "277.997px"
   },
   "number_sections": true,
   "sideBar": true,
   "skip_h1_title": false,
   "title_cell": "Table of Contents",
   "title_sidebar": "Contents",
   "toc_cell": false,
   "toc_position": {
    "height": "calc(100% - 180px)",
    "left": "10px",
    "top": "150px",
    "width": "291.009px"
   },
   "toc_section_display": true,
   "toc_window_display": false
  },
  "varInspector": {
   "cols": {
    "lenName": 16,
    "lenType": 16,
    "lenVar": 40
   },
   "kernels_config": {
    "python": {
     "delete_cmd_postfix": "",
     "delete_cmd_prefix": "del ",
     "library": "var_list.py",
     "varRefreshCmd": "print(var_dic_list())"
    },
    "r": {
     "delete_cmd_postfix": ") ",
     "delete_cmd_prefix": "rm(",
     "library": "var_list.r",
     "varRefreshCmd": "cat(var_dic_list()) "
    }
   },
   "types_to_exclude": [
    "module",
    "function",
    "builtin_function_or_method",
    "instance",
    "_Feature"
   ],
   "window_display": false
  }
 },
 "nbformat": 4,
 "nbformat_minor": 5
}
