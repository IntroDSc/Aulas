{
 "cells": [
  {
   "cell_type": "markdown",
   "id": "88561acf",
   "metadata": {},
   "source": [
    "<strong><font size = \"4\" color = \"black\">Introdução à Ciência de Dados</font></strong><br>\n",
    "<font size = \"3\" color = \"gray\">Prof. Valter Moreno</font><br>\n",
    "<font size = \"3\" color = \"gray\">2022</font><br>  "
   ]
  },
  {
   "cell_type": "markdown",
   "id": "92c2c25c",
   "metadata": {},
   "source": [
    "<hr style=\"border:0.1px solid gray\"> </hr>\n",
    "<font size = \"5\" color = \"black\">Introdução ao Python</font><p>\n",
    "<font size = \"5\" color = \"black\">Aula 4: Arquivos</font>\n",
    "<hr style=\"border:0.1px solid gray\"> </hr>"
   ]
  },
  {
   "cell_type": "markdown",
   "id": "339816d4",
   "metadata": {},
   "source": [
    "Há uma variedade de módulos em Python para baixar, gravar e ler arquivos. De forma geral, eles exigem que o arquivo seja explicitamente aberto antes de ser alterado, e que seja explicitamente fechado, após as alterações."
   ]
  },
  {
   "cell_type": "markdown",
   "id": "0ba75c3c",
   "metadata": {},
   "source": [
    "# Baixando um arquivo"
   ]
  },
  {
   "cell_type": "markdown",
   "id": "c3fafdd5",
   "metadata": {},
   "source": [
    "Para baixar um arquivo, podemos usar as funcionalidades do módulo *urllib*. Mais detalhes sobre o módulo podem ser obtidos na página [Python Urllib Module](https://www.geeksforgeeks.org/python-urllib-module/)."
   ]
  },
  {
   "cell_type": "code",
   "execution_count": 1,
   "id": "740c74fb",
   "metadata": {},
   "outputs": [
    {
     "data": {
      "text/plain": [
       "('iris.data', <http.client.HTTPMessage at 0x291a0d86370>)"
      ]
     },
     "execution_count": 1,
     "metadata": {},
     "output_type": "execute_result"
    }
   ],
   "source": [
    "import urllib.request\n",
    "\n",
    "url = \"https://archive.ics.uci.edu/ml/machine-learning-databases/iris/iris.data\"\n",
    "filename = \"iris.data\"\n",
    "\n",
    "urllib.request.urlretrieve(url, filename)  # The file is copied to a local file in the same folder as the script"
   ]
  },
  {
   "cell_type": "markdown",
   "id": "f7d1dc5a",
   "metadata": {},
   "source": [
    "# Abrindo e fechando arquivos "
   ]
  },
  {
   "cell_type": "markdown",
   "id": "be532bde",
   "metadata": {},
   "source": [
    "## Funções `open` e `close` "
   ]
  },
  {
   "cell_type": "code",
   "execution_count": 2,
   "id": "21b95932",
   "metadata": {},
   "outputs": [],
   "source": [
    "arquivo = open(\"iris.data\", \"r\")  # Cria um objeto do tipo arquivo que pode ser lido (opção \"r\")"
   ]
  },
  {
   "cell_type": "code",
   "execution_count": 3,
   "id": "4f4b17a2",
   "metadata": {},
   "outputs": [
    {
     "data": {
      "text/plain": [
       "_io.TextIOWrapper"
      ]
     },
     "execution_count": 3,
     "metadata": {},
     "output_type": "execute_result"
    }
   ],
   "source": [
    "type(arquivo)"
   ]
  },
  {
   "cell_type": "markdown",
   "id": "fd259f54",
   "metadata": {},
   "source": [
    "Objetos do tipo arquivo têm diversos atributos e métodos."
   ]
  },
  {
   "cell_type": "code",
   "execution_count": 4,
   "id": "6d0737bc",
   "metadata": {},
   "outputs": [
    {
     "data": {
      "text/plain": [
       "['_CHUNK_SIZE',\n",
       " '__class__',\n",
       " '__del__',\n",
       " '__delattr__',\n",
       " '__dict__',\n",
       " '__dir__',\n",
       " '__doc__',\n",
       " '__enter__',\n",
       " '__eq__',\n",
       " '__exit__',\n",
       " '__format__',\n",
       " '__ge__',\n",
       " '__getattribute__',\n",
       " '__gt__',\n",
       " '__hash__',\n",
       " '__init__',\n",
       " '__init_subclass__',\n",
       " '__iter__',\n",
       " '__le__',\n",
       " '__lt__',\n",
       " '__ne__',\n",
       " '__new__',\n",
       " '__next__',\n",
       " '__reduce__',\n",
       " '__reduce_ex__',\n",
       " '__repr__',\n",
       " '__setattr__',\n",
       " '__sizeof__',\n",
       " '__str__',\n",
       " '__subclasshook__',\n",
       " '_checkClosed',\n",
       " '_checkReadable',\n",
       " '_checkSeekable',\n",
       " '_checkWritable',\n",
       " '_finalizing',\n",
       " 'buffer',\n",
       " 'close',\n",
       " 'closed',\n",
       " 'detach',\n",
       " 'encoding',\n",
       " 'errors',\n",
       " 'fileno',\n",
       " 'flush',\n",
       " 'isatty',\n",
       " 'line_buffering',\n",
       " 'mode',\n",
       " 'name',\n",
       " 'newlines',\n",
       " 'read',\n",
       " 'readable',\n",
       " 'readline',\n",
       " 'readlines',\n",
       " 'reconfigure',\n",
       " 'seek',\n",
       " 'seekable',\n",
       " 'tell',\n",
       " 'truncate',\n",
       " 'writable',\n",
       " 'write',\n",
       " 'write_through',\n",
       " 'writelines']"
      ]
     },
     "execution_count": 4,
     "metadata": {},
     "output_type": "execute_result"
    }
   ],
   "source": [
    "dir(arquivo)"
   ]
  },
  {
   "cell_type": "code",
   "execution_count": 5,
   "id": "6c64b3b9",
   "metadata": {},
   "outputs": [
    {
     "name": "stdout",
     "output_type": "stream",
     "text": [
      "Nome: iris.data\n",
      "Modo em que foi aberto: r\n",
      "Arquivo foi fechado: False\n",
      "Codificação do arquivo: cp1252\n",
      "Tamanho: 192\n"
     ]
    }
   ],
   "source": [
    "print(\"Nome:\", arquivo.name)\n",
    "print(\"Modo em que foi aberto:\", arquivo.mode)\n",
    "print(\"Arquivo foi fechado:\", arquivo.closed)\n",
    "print(\"Codificação do arquivo:\", arquivo.encoding)\n",
    "print(\"Tamanho:\", arquivo.__sizeof__())"
   ]
  },
  {
   "cell_type": "markdown",
   "id": "d220a021",
   "metadata": {},
   "source": [
    "O conteúdo do arquivo pode ser lido e armazenado como uma cadeia de caracteres."
   ]
  },
  {
   "cell_type": "code",
   "execution_count": 6,
   "id": "81b1eb90",
   "metadata": {},
   "outputs": [
    {
     "name": "stdout",
     "output_type": "stream",
     "text": [
      "5.1,3.5,1.4,0.2,Iris-setosa\n",
      "4.9,3.0,1.4,0.2,Iris-setosa\n",
      "4.7,3.2,1.3,0.2,Iris-setosa\n",
      "4.6,3.1,1.5,0.2,Iris-setosa\n",
      "5.0,3.6,1.4,0.2,Iris-setosa\n",
      "5.4,3.9,1.7,0.4,Iris-setosa\n",
      "4.6,3.4,1.4,0.3,Iris-setosa\n",
      "5.0,3.4,1.5,0.2,Iris-setosa\n",
      "4.4,2.9,1.4,0.2,Iris-setosa\n",
      "4.9,3.1,1.5,0.1,Iris-setosa\n",
      "5.4,3.7,1.5,0.2,Iris-setosa\n",
      "4.8,3.4,1.6,0.2,Iris-setosa\n",
      "4.8,3.0,1.4,0.1,Iris-setosa\n",
      "4.3,3.0,1.1,0.1,Iris-setosa\n",
      "5.8,4.0,1.2,0.2,Iris-setosa\n",
      "5.7,4.4,1.5,0.4,Iris-setosa\n",
      "5.4,3.9,1.3,0.4,Iris-setosa\n",
      "5.1,3.5,1.4,0.3,Iris-setosa\n",
      "5.7,3.8,1.7,0.3,Iris-setosa\n",
      "5.1,3.8,1.5,0.3,Iris-setosa\n",
      "5.4,3.4,1.7,0.2,Iris-setosa\n",
      "5.1,3.7,1.5,0.4,Iris-setosa\n",
      "4.6,3.6,1.0,0.2,Iris-setosa\n",
      "5.1,3.3,1.7,0.5,Iris-setosa\n",
      "4.8,3.4,1.9,0.2,Iris-setosa\n",
      "5.0,3.0,1.6,0.2,Iris-setosa\n",
      "5.0,3.4,1.6,0.4,Iris-setosa\n",
      "5.2,3.5,1.5,0.2,Iris-setosa\n",
      "5.2,3.4,1.4,0.2,Iris-setosa\n",
      "4.7,3.2,1.6,0.2,Iris-setosa\n",
      "4.8,3.1,1.6,0.2,Iris-setosa\n",
      "5.4,3.4,1.5,0.4,Iris-setosa\n",
      "5.2,4.1,1.5,0.1,Iris-setosa\n",
      "5.5,4.2,1.4,0.2,Iris-setosa\n",
      "4.9,3.1,1.5,0.1,Iris-setosa\n",
      "5.0,3.2,1.2,0.2,Iris-setosa\n",
      "5.5,3.5,1.3,0.2,Iris-setosa\n",
      "4.9,3.1,1.5,0.1,Iris-setosa\n",
      "4.4,3.0,1.3,0.2,Iris-setosa\n",
      "5.1,3.4,1.5,0.2,Iris-setosa\n",
      "5.0,3.5,1.3,0.3,Iris-setosa\n",
      "4.5,2.3,1.3,0.3,Iris-setosa\n",
      "4.4,3.2,1.3,0.2,Iris-setosa\n",
      "5.0,3.5,1.6,0.6,Iris-setosa\n",
      "5.1,3.8,1.9,0.4,Iris-setosa\n",
      "4.8,3.0,1.4,0.3,Iris-setosa\n",
      "5.1,3.8,1.6,0.2,Iris-setosa\n",
      "4.6,3.2,1.4,0.2,Iris-setosa\n",
      "5.3,3.7,1.5,0.2,Iris-setosa\n",
      "5.0,3.3,1.4,0.2,Iris-setosa\n",
      "7.0,3.2,4.7,1.4,Iris-versicolor\n",
      "6.4,3.2,4.5,1.5,Iris-versicolor\n",
      "6.9,3.1,4.9,1.5,Iris-versicolor\n",
      "5.5,2.3,4.0,1.3,Iris-versicolor\n",
      "6.5,2.8,4.6,1.5,Iris-versicolor\n",
      "5.7,2.8,4.5,1.3,Iris-versicolor\n",
      "6.3,3.3,4.7,1.6,Iris-versicolor\n",
      "4.9,2.4,3.3,1.0,Iris-versicolor\n",
      "6.6,2.9,4.6,1.3,Iris-versicolor\n",
      "5.2,2.7,3.9,1.4,Iris-versicolor\n",
      "5.0,2.0,3.5,1.0,Iris-versicolor\n",
      "5.9,3.0,4.2,1.5,Iris-versicolor\n",
      "6.0,2.2,4.0,1.0,Iris-versicolor\n",
      "6.1,2.9,4.7,1.4,Iris-versicolor\n",
      "5.6,2.9,3.6,1.3,Iris-versicolor\n",
      "6.7,3.1,4.4,1.4,Iris-versicolor\n",
      "5.6,3.0,4.5,1.5,Iris-versicolor\n",
      "5.8,2.7,4.1,1.0,Iris-versicolor\n",
      "6.2,2.2,4.5,1.5,Iris-versicolor\n",
      "5.6,2.5,3.9,1.1,Iris-versicolor\n",
      "5.9,3.2,4.8,1.8,Iris-versicolor\n",
      "6.1,2.8,4.0,1.3,Iris-versicolor\n",
      "6.3,2.5,4.9,1.5,Iris-versicolor\n",
      "6.1,2.8,4.7,1.2,Iris-versicolor\n",
      "6.4,2.9,4.3,1.3,Iris-versicolor\n",
      "6.6,3.0,4.4,1.4,Iris-versicolor\n",
      "6.8,2.8,4.8,1.4,Iris-versicolor\n",
      "6.7,3.0,5.0,1.7,Iris-versicolor\n",
      "6.0,2.9,4.5,1.5,Iris-versicolor\n",
      "5.7,2.6,3.5,1.0,Iris-versicolor\n",
      "5.5,2.4,3.8,1.1,Iris-versicolor\n",
      "5.5,2.4,3.7,1.0,Iris-versicolor\n",
      "5.8,2.7,3.9,1.2,Iris-versicolor\n",
      "6.0,2.7,5.1,1.6,Iris-versicolor\n",
      "5.4,3.0,4.5,1.5,Iris-versicolor\n",
      "6.0,3.4,4.5,1.6,Iris-versicolor\n",
      "6.7,3.1,4.7,1.5,Iris-versicolor\n",
      "6.3,2.3,4.4,1.3,Iris-versicolor\n",
      "5.6,3.0,4.1,1.3,Iris-versicolor\n",
      "5.5,2.5,4.0,1.3,Iris-versicolor\n",
      "5.5,2.6,4.4,1.2,Iris-versicolor\n",
      "6.1,3.0,4.6,1.4,Iris-versicolor\n",
      "5.8,2.6,4.0,1.2,Iris-versicolor\n",
      "5.0,2.3,3.3,1.0,Iris-versicolor\n",
      "5.6,2.7,4.2,1.3,Iris-versicolor\n",
      "5.7,3.0,4.2,1.2,Iris-versicolor\n",
      "5.7,2.9,4.2,1.3,Iris-versicolor\n",
      "6.2,2.9,4.3,1.3,Iris-versicolor\n",
      "5.1,2.5,3.0,1.1,Iris-versicolor\n",
      "5.7,2.8,4.1,1.3,Iris-versicolor\n",
      "6.3,3.3,6.0,2.5,Iris-virginica\n",
      "5.8,2.7,5.1,1.9,Iris-virginica\n",
      "7.1,3.0,5.9,2.1,Iris-virginica\n",
      "6.3,2.9,5.6,1.8,Iris-virginica\n",
      "6.5,3.0,5.8,2.2,Iris-virginica\n",
      "7.6,3.0,6.6,2.1,Iris-virginica\n",
      "4.9,2.5,4.5,1.7,Iris-virginica\n",
      "7.3,2.9,6.3,1.8,Iris-virginica\n",
      "6.7,2.5,5.8,1.8,Iris-virginica\n",
      "7.2,3.6,6.1,2.5,Iris-virginica\n",
      "6.5,3.2,5.1,2.0,Iris-virginica\n",
      "6.4,2.7,5.3,1.9,Iris-virginica\n",
      "6.8,3.0,5.5,2.1,Iris-virginica\n",
      "5.7,2.5,5.0,2.0,Iris-virginica\n",
      "5.8,2.8,5.1,2.4,Iris-virginica\n",
      "6.4,3.2,5.3,2.3,Iris-virginica\n",
      "6.5,3.0,5.5,1.8,Iris-virginica\n",
      "7.7,3.8,6.7,2.2,Iris-virginica\n",
      "7.7,2.6,6.9,2.3,Iris-virginica\n",
      "6.0,2.2,5.0,1.5,Iris-virginica\n",
      "6.9,3.2,5.7,2.3,Iris-virginica\n",
      "5.6,2.8,4.9,2.0,Iris-virginica\n",
      "7.7,2.8,6.7,2.0,Iris-virginica\n",
      "6.3,2.7,4.9,1.8,Iris-virginica\n",
      "6.7,3.3,5.7,2.1,Iris-virginica\n",
      "7.2,3.2,6.0,1.8,Iris-virginica\n",
      "6.2,2.8,4.8,1.8,Iris-virginica\n",
      "6.1,3.0,4.9,1.8,Iris-virginica\n",
      "6.4,2.8,5.6,2.1,Iris-virginica\n",
      "7.2,3.0,5.8,1.6,Iris-virginica\n",
      "7.4,2.8,6.1,1.9,Iris-virginica\n",
      "7.9,3.8,6.4,2.0,Iris-virginica\n",
      "6.4,2.8,5.6,2.2,Iris-virginica\n",
      "6.3,2.8,5.1,1.5,Iris-virginica\n",
      "6.1,2.6,5.6,1.4,Iris-virginica\n",
      "7.7,3.0,6.1,2.3,Iris-virginica\n",
      "6.3,3.4,5.6,2.4,Iris-virginica\n",
      "6.4,3.1,5.5,1.8,Iris-virginica\n",
      "6.0,3.0,4.8,1.8,Iris-virginica\n",
      "6.9,3.1,5.4,2.1,Iris-virginica\n",
      "6.7,3.1,5.6,2.4,Iris-virginica\n",
      "6.9,3.1,5.1,2.3,Iris-virginica\n",
      "5.8,2.7,5.1,1.9,Iris-virginica\n",
      "6.8,3.2,5.9,2.3,Iris-virginica\n",
      "6.7,3.3,5.7,2.5,Iris-virginica\n",
      "6.7,3.0,5.2,2.3,Iris-virginica\n",
      "6.3,2.5,5.0,1.9,Iris-virginica\n",
      "6.5,3.0,5.2,2.0,Iris-virginica\n",
      "6.2,3.4,5.4,2.3,Iris-virginica\n",
      "5.9,3.0,5.1,1.8,Iris-virginica\n",
      "\n",
      "\n"
     ]
    }
   ],
   "source": [
    "texto = arquivo.read()\n",
    "print(texto)"
   ]
  },
  {
   "cell_type": "markdown",
   "id": "edf31b9f",
   "metadata": {},
   "source": [
    "O conteúdo de um arquivo aberto pode ser lido linha a linha."
   ]
  },
  {
   "cell_type": "code",
   "execution_count": 7,
   "id": "df7d44fc",
   "metadata": {},
   "outputs": [
    {
     "data": {
      "text/plain": [
       "4551"
      ]
     },
     "execution_count": 7,
     "metadata": {},
     "output_type": "execute_result"
    }
   ],
   "source": [
    "arquivo.tell()  # Para que byte do arquivo o ponteiro de leitura/escrita aponta no momento"
   ]
  },
  {
   "cell_type": "code",
   "execution_count": 8,
   "id": "173cb10d",
   "metadata": {},
   "outputs": [
    {
     "data": {
      "text/plain": [
       "0"
      ]
     },
     "execution_count": 8,
     "metadata": {},
     "output_type": "execute_result"
    }
   ],
   "source": [
    "arquivo.seek(0)  # Para retornar ao início do arquivo"
   ]
  },
  {
   "cell_type": "code",
   "execution_count": 9,
   "id": "163be498",
   "metadata": {},
   "outputs": [
    {
     "name": "stdout",
     "output_type": "stream",
     "text": [
      "5.1,3.5,1.4,0.2,Iris-setosa\n",
      "\n",
      "4.9,3.0,1.4,0.2,Iris-setosa\n",
      "\n"
     ]
    }
   ],
   "source": [
    "print(arquivo.readline())   # Após a leitura, o ponteiro aponta para a próxima linha\n",
    "print(arquivo.readline())"
   ]
  },
  {
   "cell_type": "code",
   "execution_count": 10,
   "id": "8ef444cd",
   "metadata": {},
   "outputs": [
    {
     "data": {
      "text/plain": [
       "'5.1,3.5'"
      ]
     },
     "execution_count": 10,
     "metadata": {},
     "output_type": "execute_result"
    }
   ],
   "source": [
    "arquivo.seek(0)\n",
    "arquivo.readline(7)  # Apenas os 7 primeiros caracteres são lidos"
   ]
  },
  {
   "cell_type": "code",
   "execution_count": 11,
   "id": "2d2f657e",
   "metadata": {},
   "outputs": [
    {
     "data": {
      "text/plain": [
       "',1.4,0.2,Iris-setosa\\n'"
      ]
     },
     "execution_count": 11,
     "metadata": {},
     "output_type": "execute_result"
    }
   ],
   "source": [
    "arquivo.readline()  # A leitura continua de onde o ponteiro parou"
   ]
  },
  {
   "cell_type": "markdown",
   "id": "a72e82e2",
   "metadata": {},
   "source": [
    "Após a leitura e/ou alteração e gravação de um arquivo, ele precisa ser fechado. "
   ]
  },
  {
   "cell_type": "code",
   "execution_count": 12,
   "id": "ca0501fd",
   "metadata": {},
   "outputs": [],
   "source": [
    "arquivo.close()"
   ]
  },
  {
   "cell_type": "code",
   "execution_count": 13,
   "id": "1578e923",
   "metadata": {},
   "outputs": [
    {
     "data": {
      "text/plain": [
       "True"
      ]
     },
     "execution_count": 13,
     "metadata": {},
     "output_type": "execute_result"
    }
   ],
   "source": [
    "arquivo.closed"
   ]
  },
  {
   "cell_type": "markdown",
   "id": "40011960",
   "metadata": {},
   "source": [
    "Arquivos podem ser abertos em diversos modos:\n",
    "\n",
    " - r: apenas leitura\n",
    " - r+: leitura e escrita\n",
    " - w: apenas escrita; se o arquivo já existir, é apagado; se não existir, é criado\n",
    " - w+: idem para leitura e escrita\n",
    " - a: adiciona conteúdo ao final do arquivo; se o arquivo não existir, é criado\n",
    " - a+: idem para leitura e escrita\n",
    " - x: permite apenas a criação de novos arquivos para serem escritos\n",
    " - x+: idem para leitura e escrita"
   ]
  },
  {
   "cell_type": "markdown",
   "id": "925157da",
   "metadata": {},
   "source": [
    "## `with`"
   ]
  },
  {
   "cell_type": "markdown",
   "id": "13285103",
   "metadata": {},
   "source": [
    "Quando usamos `with`, o arquivo é fechado automaticamente mesmo se ocorrer uma exceção (um erro)."
   ]
  },
  {
   "cell_type": "code",
   "execution_count": 14,
   "id": "1565fabf",
   "metadata": {},
   "outputs": [],
   "source": [
    "with open(\"iris.data\", \"r\") as arq:\n",
    "    texto = arq.read()"
   ]
  },
  {
   "cell_type": "code",
   "execution_count": 15,
   "id": "6e13a7dc",
   "metadata": {},
   "outputs": [
    {
     "data": {
      "text/plain": [
       "True"
      ]
     },
     "execution_count": 15,
     "metadata": {},
     "output_type": "execute_result"
    }
   ],
   "source": [
    "arq.closed"
   ]
  },
  {
   "cell_type": "code",
   "execution_count": 16,
   "id": "081c41db",
   "metadata": {
    "scrolled": true
   },
   "outputs": [
    {
     "data": {
      "text/plain": [
       "'5.1,3.5,1.4,0.2,Iris-setosa\\n4.9,3.0,1.4,0.2,Iris-setosa\\n4.7,3.2,1.3,0.2,Iris-setosa\\n4.6,3.1,1.5,0.2,Iris-setosa\\n5.0,3.6,1.4,0.2,Iris-setosa\\n5.4,3.9,1.7,0.4,Iris-setosa\\n4.6,3.4,1.4,0.3,Iris-setosa\\n5.0,3.4,1.5,0.2,Iris-setosa\\n4.4,2.9,1.4,0.2,Iris-setosa\\n4.9,3.1,1.5,0.1,Iris-setosa\\n5.4,3.7,1.5,0.2,Iris-setosa\\n4.8,3.4,1.6,0.2,Iris-setosa\\n4.8,3.0,1.4,0.1,Iris-setosa\\n4.3,3.0,1.1,0.1,Iris-setosa\\n5.8,4.0,1.2,0.2,Iris-setosa\\n5.7,4.4,1.5,0.4,Iris-setosa\\n5.4,3.9,1.3,0.4,Iris-setosa\\n5.1,3.5,1.4,0.3,Iris-setosa\\n5.7,3.8,1.7,0.3,Iris-setosa\\n5.1,3.8,1.5,0.3,Iris-setosa\\n5.4,3.4,1.7,0.2,Iris-setosa\\n5.1,3.7,1.5,0.4,Iris-setosa\\n4.6,3.6,1.0,0.2,Iris-setosa\\n5.1,3.3,1.7,0.5,Iris-setosa\\n4.8,3.4,1.9,0.2,Iris-setosa\\n5.0,3.0,1.6,0.2,Iris-setosa\\n5.0,3.4,1.6,0.4,Iris-setosa\\n5.2,3.5,1.5,0.2,Iris-setosa\\n5.2,3.4,1.4,0.2,Iris-setosa\\n4.7,3.2,1.6,0.2,Iris-setosa\\n4.8,3.1,1.6,0.2,Iris-setosa\\n5.4,3.4,1.5,0.4,Iris-setosa\\n5.2,4.1,1.5,0.1,Iris-setosa\\n5.5,4.2,1.4,0.2,Iris-setosa\\n4.9,3.1,1.5,0.1,Iris-setosa\\n5.0,3.2,1.2,0.2,Iris-setosa\\n5.5,3.5,1.3,0.2,Iris-setosa\\n4.9,3.1,1.5,0.1,Iris-setosa\\n4.4,3.0,1.3,0.2,Iris-setosa\\n5.1,3.4,1.5,0.2,Iris-setosa\\n5.0,3.5,1.3,0.3,Iris-setosa\\n4.5,2.3,1.3,0.3,Iris-setosa\\n4.4,3.2,1.3,0.2,Iris-setosa\\n5.0,3.5,1.6,0.6,Iris-setosa\\n5.1,3.8,1.9,0.4,Iris-setosa\\n4.8,3.0,1.4,0.3,Iris-setosa\\n5.1,3.8,1.6,0.2,Iris-setosa\\n4.6,3.2,1.4,0.2,Iris-setosa\\n5.3,3.7,1.5,0.2,Iris-setosa\\n5.0,3.3,1.4,0.2,Iris-setosa\\n7.0,3.2,4.7,1.4,Iris-versicolor\\n6.4,3.2,4.5,1.5,Iris-versicolor\\n6.9,3.1,4.9,1.5,Iris-versicolor\\n5.5,2.3,4.0,1.3,Iris-versicolor\\n6.5,2.8,4.6,1.5,Iris-versicolor\\n5.7,2.8,4.5,1.3,Iris-versicolor\\n6.3,3.3,4.7,1.6,Iris-versicolor\\n4.9,2.4,3.3,1.0,Iris-versicolor\\n6.6,2.9,4.6,1.3,Iris-versicolor\\n5.2,2.7,3.9,1.4,Iris-versicolor\\n5.0,2.0,3.5,1.0,Iris-versicolor\\n5.9,3.0,4.2,1.5,Iris-versicolor\\n6.0,2.2,4.0,1.0,Iris-versicolor\\n6.1,2.9,4.7,1.4,Iris-versicolor\\n5.6,2.9,3.6,1.3,Iris-versicolor\\n6.7,3.1,4.4,1.4,Iris-versicolor\\n5.6,3.0,4.5,1.5,Iris-versicolor\\n5.8,2.7,4.1,1.0,Iris-versicolor\\n6.2,2.2,4.5,1.5,Iris-versicolor\\n5.6,2.5,3.9,1.1,Iris-versicolor\\n5.9,3.2,4.8,1.8,Iris-versicolor\\n6.1,2.8,4.0,1.3,Iris-versicolor\\n6.3,2.5,4.9,1.5,Iris-versicolor\\n6.1,2.8,4.7,1.2,Iris-versicolor\\n6.4,2.9,4.3,1.3,Iris-versicolor\\n6.6,3.0,4.4,1.4,Iris-versicolor\\n6.8,2.8,4.8,1.4,Iris-versicolor\\n6.7,3.0,5.0,1.7,Iris-versicolor\\n6.0,2.9,4.5,1.5,Iris-versicolor\\n5.7,2.6,3.5,1.0,Iris-versicolor\\n5.5,2.4,3.8,1.1,Iris-versicolor\\n5.5,2.4,3.7,1.0,Iris-versicolor\\n5.8,2.7,3.9,1.2,Iris-versicolor\\n6.0,2.7,5.1,1.6,Iris-versicolor\\n5.4,3.0,4.5,1.5,Iris-versicolor\\n6.0,3.4,4.5,1.6,Iris-versicolor\\n6.7,3.1,4.7,1.5,Iris-versicolor\\n6.3,2.3,4.4,1.3,Iris-versicolor\\n5.6,3.0,4.1,1.3,Iris-versicolor\\n5.5,2.5,4.0,1.3,Iris-versicolor\\n5.5,2.6,4.4,1.2,Iris-versicolor\\n6.1,3.0,4.6,1.4,Iris-versicolor\\n5.8,2.6,4.0,1.2,Iris-versicolor\\n5.0,2.3,3.3,1.0,Iris-versicolor\\n5.6,2.7,4.2,1.3,Iris-versicolor\\n5.7,3.0,4.2,1.2,Iris-versicolor\\n5.7,2.9,4.2,1.3,Iris-versicolor\\n6.2,2.9,4.3,1.3,Iris-versicolor\\n5.1,2.5,3.0,1.1,Iris-versicolor\\n5.7,2.8,4.1,1.3,Iris-versicolor\\n6.3,3.3,6.0,2.5,Iris-virginica\\n5.8,2.7,5.1,1.9,Iris-virginica\\n7.1,3.0,5.9,2.1,Iris-virginica\\n6.3,2.9,5.6,1.8,Iris-virginica\\n6.5,3.0,5.8,2.2,Iris-virginica\\n7.6,3.0,6.6,2.1,Iris-virginica\\n4.9,2.5,4.5,1.7,Iris-virginica\\n7.3,2.9,6.3,1.8,Iris-virginica\\n6.7,2.5,5.8,1.8,Iris-virginica\\n7.2,3.6,6.1,2.5,Iris-virginica\\n6.5,3.2,5.1,2.0,Iris-virginica\\n6.4,2.7,5.3,1.9,Iris-virginica\\n6.8,3.0,5.5,2.1,Iris-virginica\\n5.7,2.5,5.0,2.0,Iris-virginica\\n5.8,2.8,5.1,2.4,Iris-virginica\\n6.4,3.2,5.3,2.3,Iris-virginica\\n6.5,3.0,5.5,1.8,Iris-virginica\\n7.7,3.8,6.7,2.2,Iris-virginica\\n7.7,2.6,6.9,2.3,Iris-virginica\\n6.0,2.2,5.0,1.5,Iris-virginica\\n6.9,3.2,5.7,2.3,Iris-virginica\\n5.6,2.8,4.9,2.0,Iris-virginica\\n7.7,2.8,6.7,2.0,Iris-virginica\\n6.3,2.7,4.9,1.8,Iris-virginica\\n6.7,3.3,5.7,2.1,Iris-virginica\\n7.2,3.2,6.0,1.8,Iris-virginica\\n6.2,2.8,4.8,1.8,Iris-virginica\\n6.1,3.0,4.9,1.8,Iris-virginica\\n6.4,2.8,5.6,2.1,Iris-virginica\\n7.2,3.0,5.8,1.6,Iris-virginica\\n7.4,2.8,6.1,1.9,Iris-virginica\\n7.9,3.8,6.4,2.0,Iris-virginica\\n6.4,2.8,5.6,2.2,Iris-virginica\\n6.3,2.8,5.1,1.5,Iris-virginica\\n6.1,2.6,5.6,1.4,Iris-virginica\\n7.7,3.0,6.1,2.3,Iris-virginica\\n6.3,3.4,5.6,2.4,Iris-virginica\\n6.4,3.1,5.5,1.8,Iris-virginica\\n6.0,3.0,4.8,1.8,Iris-virginica\\n6.9,3.1,5.4,2.1,Iris-virginica\\n6.7,3.1,5.6,2.4,Iris-virginica\\n6.9,3.1,5.1,2.3,Iris-virginica\\n5.8,2.7,5.1,1.9,Iris-virginica\\n6.8,3.2,5.9,2.3,Iris-virginica\\n6.7,3.3,5.7,2.5,Iris-virginica\\n6.7,3.0,5.2,2.3,Iris-virginica\\n6.3,2.5,5.0,1.9,Iris-virginica\\n6.5,3.0,5.2,2.0,Iris-virginica\\n6.2,3.4,5.4,2.3,Iris-virginica\\n5.9,3.0,5.1,1.8,Iris-virginica\\n\\n'"
      ]
     },
     "execution_count": 16,
     "metadata": {},
     "output_type": "execute_result"
    }
   ],
   "source": [
    "texto  # O conteúdo é armazenado numa única cadeia de caracteres"
   ]
  },
  {
   "cell_type": "code",
   "execution_count": 17,
   "id": "00d3a0fb",
   "metadata": {},
   "outputs": [
    {
     "data": {
      "text/plain": [
       "['5.1,3.5,1.4,0.2,Iris-setosa',\n",
       " '4.9,3.0,1.4,0.2,Iris-setosa',\n",
       " '4.7,3.2,1.3,0.2,Iris-setosa',\n",
       " '4.6,3.1,1.5,0.2,Iris-setosa',\n",
       " '5.0,3.6,1.4,0.2,Iris-setosa',\n",
       " '5.4,3.9,1.7,0.4,Iris-setosa',\n",
       " '4.6,3.4,1.4,0.3,Iris-setosa',\n",
       " '5.0,3.4,1.5,0.2,Iris-setosa',\n",
       " '4.4,2.9,1.4,0.2,Iris-setosa',\n",
       " '4.9,3.1,1.5,0.1,Iris-setosa',\n",
       " '5.4,3.7,1.5,0.2,Iris-setosa',\n",
       " '4.8,3.4,1.6,0.2,Iris-setosa',\n",
       " '4.8,3.0,1.4,0.1,Iris-setosa',\n",
       " '4.3,3.0,1.1,0.1,Iris-setosa',\n",
       " '5.8,4.0,1.2,0.2,Iris-setosa',\n",
       " '5.7,4.4,1.5,0.4,Iris-setosa',\n",
       " '5.4,3.9,1.3,0.4,Iris-setosa',\n",
       " '5.1,3.5,1.4,0.3,Iris-setosa',\n",
       " '5.7,3.8,1.7,0.3,Iris-setosa',\n",
       " '5.1,3.8,1.5,0.3,Iris-setosa',\n",
       " '5.4,3.4,1.7,0.2,Iris-setosa',\n",
       " '5.1,3.7,1.5,0.4,Iris-setosa',\n",
       " '4.6,3.6,1.0,0.2,Iris-setosa',\n",
       " '5.1,3.3,1.7,0.5,Iris-setosa',\n",
       " '4.8,3.4,1.9,0.2,Iris-setosa',\n",
       " '5.0,3.0,1.6,0.2,Iris-setosa',\n",
       " '5.0,3.4,1.6,0.4,Iris-setosa',\n",
       " '5.2,3.5,1.5,0.2,Iris-setosa',\n",
       " '5.2,3.4,1.4,0.2,Iris-setosa',\n",
       " '4.7,3.2,1.6,0.2,Iris-setosa',\n",
       " '4.8,3.1,1.6,0.2,Iris-setosa',\n",
       " '5.4,3.4,1.5,0.4,Iris-setosa',\n",
       " '5.2,4.1,1.5,0.1,Iris-setosa',\n",
       " '5.5,4.2,1.4,0.2,Iris-setosa',\n",
       " '4.9,3.1,1.5,0.1,Iris-setosa',\n",
       " '5.0,3.2,1.2,0.2,Iris-setosa',\n",
       " '5.5,3.5,1.3,0.2,Iris-setosa',\n",
       " '4.9,3.1,1.5,0.1,Iris-setosa',\n",
       " '4.4,3.0,1.3,0.2,Iris-setosa',\n",
       " '5.1,3.4,1.5,0.2,Iris-setosa',\n",
       " '5.0,3.5,1.3,0.3,Iris-setosa',\n",
       " '4.5,2.3,1.3,0.3,Iris-setosa',\n",
       " '4.4,3.2,1.3,0.2,Iris-setosa',\n",
       " '5.0,3.5,1.6,0.6,Iris-setosa',\n",
       " '5.1,3.8,1.9,0.4,Iris-setosa',\n",
       " '4.8,3.0,1.4,0.3,Iris-setosa',\n",
       " '5.1,3.8,1.6,0.2,Iris-setosa',\n",
       " '4.6,3.2,1.4,0.2,Iris-setosa',\n",
       " '5.3,3.7,1.5,0.2,Iris-setosa',\n",
       " '5.0,3.3,1.4,0.2,Iris-setosa',\n",
       " '7.0,3.2,4.7,1.4,Iris-versicolor',\n",
       " '6.4,3.2,4.5,1.5,Iris-versicolor',\n",
       " '6.9,3.1,4.9,1.5,Iris-versicolor',\n",
       " '5.5,2.3,4.0,1.3,Iris-versicolor',\n",
       " '6.5,2.8,4.6,1.5,Iris-versicolor',\n",
       " '5.7,2.8,4.5,1.3,Iris-versicolor',\n",
       " '6.3,3.3,4.7,1.6,Iris-versicolor',\n",
       " '4.9,2.4,3.3,1.0,Iris-versicolor',\n",
       " '6.6,2.9,4.6,1.3,Iris-versicolor',\n",
       " '5.2,2.7,3.9,1.4,Iris-versicolor',\n",
       " '5.0,2.0,3.5,1.0,Iris-versicolor',\n",
       " '5.9,3.0,4.2,1.5,Iris-versicolor',\n",
       " '6.0,2.2,4.0,1.0,Iris-versicolor',\n",
       " '6.1,2.9,4.7,1.4,Iris-versicolor',\n",
       " '5.6,2.9,3.6,1.3,Iris-versicolor',\n",
       " '6.7,3.1,4.4,1.4,Iris-versicolor',\n",
       " '5.6,3.0,4.5,1.5,Iris-versicolor',\n",
       " '5.8,2.7,4.1,1.0,Iris-versicolor',\n",
       " '6.2,2.2,4.5,1.5,Iris-versicolor',\n",
       " '5.6,2.5,3.9,1.1,Iris-versicolor',\n",
       " '5.9,3.2,4.8,1.8,Iris-versicolor',\n",
       " '6.1,2.8,4.0,1.3,Iris-versicolor',\n",
       " '6.3,2.5,4.9,1.5,Iris-versicolor',\n",
       " '6.1,2.8,4.7,1.2,Iris-versicolor',\n",
       " '6.4,2.9,4.3,1.3,Iris-versicolor',\n",
       " '6.6,3.0,4.4,1.4,Iris-versicolor',\n",
       " '6.8,2.8,4.8,1.4,Iris-versicolor',\n",
       " '6.7,3.0,5.0,1.7,Iris-versicolor',\n",
       " '6.0,2.9,4.5,1.5,Iris-versicolor',\n",
       " '5.7,2.6,3.5,1.0,Iris-versicolor',\n",
       " '5.5,2.4,3.8,1.1,Iris-versicolor',\n",
       " '5.5,2.4,3.7,1.0,Iris-versicolor',\n",
       " '5.8,2.7,3.9,1.2,Iris-versicolor',\n",
       " '6.0,2.7,5.1,1.6,Iris-versicolor',\n",
       " '5.4,3.0,4.5,1.5,Iris-versicolor',\n",
       " '6.0,3.4,4.5,1.6,Iris-versicolor',\n",
       " '6.7,3.1,4.7,1.5,Iris-versicolor',\n",
       " '6.3,2.3,4.4,1.3,Iris-versicolor',\n",
       " '5.6,3.0,4.1,1.3,Iris-versicolor',\n",
       " '5.5,2.5,4.0,1.3,Iris-versicolor',\n",
       " '5.5,2.6,4.4,1.2,Iris-versicolor',\n",
       " '6.1,3.0,4.6,1.4,Iris-versicolor',\n",
       " '5.8,2.6,4.0,1.2,Iris-versicolor',\n",
       " '5.0,2.3,3.3,1.0,Iris-versicolor',\n",
       " '5.6,2.7,4.2,1.3,Iris-versicolor',\n",
       " '5.7,3.0,4.2,1.2,Iris-versicolor',\n",
       " '5.7,2.9,4.2,1.3,Iris-versicolor',\n",
       " '6.2,2.9,4.3,1.3,Iris-versicolor',\n",
       " '5.1,2.5,3.0,1.1,Iris-versicolor',\n",
       " '5.7,2.8,4.1,1.3,Iris-versicolor',\n",
       " '6.3,3.3,6.0,2.5,Iris-virginica',\n",
       " '5.8,2.7,5.1,1.9,Iris-virginica',\n",
       " '7.1,3.0,5.9,2.1,Iris-virginica',\n",
       " '6.3,2.9,5.6,1.8,Iris-virginica',\n",
       " '6.5,3.0,5.8,2.2,Iris-virginica',\n",
       " '7.6,3.0,6.6,2.1,Iris-virginica',\n",
       " '4.9,2.5,4.5,1.7,Iris-virginica',\n",
       " '7.3,2.9,6.3,1.8,Iris-virginica',\n",
       " '6.7,2.5,5.8,1.8,Iris-virginica',\n",
       " '7.2,3.6,6.1,2.5,Iris-virginica',\n",
       " '6.5,3.2,5.1,2.0,Iris-virginica',\n",
       " '6.4,2.7,5.3,1.9,Iris-virginica',\n",
       " '6.8,3.0,5.5,2.1,Iris-virginica',\n",
       " '5.7,2.5,5.0,2.0,Iris-virginica',\n",
       " '5.8,2.8,5.1,2.4,Iris-virginica',\n",
       " '6.4,3.2,5.3,2.3,Iris-virginica',\n",
       " '6.5,3.0,5.5,1.8,Iris-virginica',\n",
       " '7.7,3.8,6.7,2.2,Iris-virginica',\n",
       " '7.7,2.6,6.9,2.3,Iris-virginica',\n",
       " '6.0,2.2,5.0,1.5,Iris-virginica',\n",
       " '6.9,3.2,5.7,2.3,Iris-virginica',\n",
       " '5.6,2.8,4.9,2.0,Iris-virginica',\n",
       " '7.7,2.8,6.7,2.0,Iris-virginica',\n",
       " '6.3,2.7,4.9,1.8,Iris-virginica',\n",
       " '6.7,3.3,5.7,2.1,Iris-virginica',\n",
       " '7.2,3.2,6.0,1.8,Iris-virginica',\n",
       " '6.2,2.8,4.8,1.8,Iris-virginica',\n",
       " '6.1,3.0,4.9,1.8,Iris-virginica',\n",
       " '6.4,2.8,5.6,2.1,Iris-virginica',\n",
       " '7.2,3.0,5.8,1.6,Iris-virginica',\n",
       " '7.4,2.8,6.1,1.9,Iris-virginica',\n",
       " '7.9,3.8,6.4,2.0,Iris-virginica',\n",
       " '6.4,2.8,5.6,2.2,Iris-virginica',\n",
       " '6.3,2.8,5.1,1.5,Iris-virginica',\n",
       " '6.1,2.6,5.6,1.4,Iris-virginica',\n",
       " '7.7,3.0,6.1,2.3,Iris-virginica',\n",
       " '6.3,3.4,5.6,2.4,Iris-virginica',\n",
       " '6.4,3.1,5.5,1.8,Iris-virginica',\n",
       " '6.0,3.0,4.8,1.8,Iris-virginica',\n",
       " '6.9,3.1,5.4,2.1,Iris-virginica',\n",
       " '6.7,3.1,5.6,2.4,Iris-virginica',\n",
       " '6.9,3.1,5.1,2.3,Iris-virginica',\n",
       " '5.8,2.7,5.1,1.9,Iris-virginica',\n",
       " '6.8,3.2,5.9,2.3,Iris-virginica',\n",
       " '6.7,3.3,5.7,2.5,Iris-virginica',\n",
       " '6.7,3.0,5.2,2.3,Iris-virginica',\n",
       " '6.3,2.5,5.0,1.9,Iris-virginica',\n",
       " '6.5,3.0,5.2,2.0,Iris-virginica',\n",
       " '6.2,3.4,5.4,2.3,Iris-virginica',\n",
       " '5.9,3.0,5.1,1.8,Iris-virginica',\n",
       " '',\n",
       " '']"
      ]
     },
     "execution_count": 17,
     "metadata": {},
     "output_type": "execute_result"
    }
   ],
   "source": [
    "texto = texto.split(\"\\n\")  # As linhas, que são separadas por \"\\n\", podem ser separadas numa lista\n",
    "texto"
   ]
  },
  {
   "cell_type": "markdown",
   "id": "53f39c2c",
   "metadata": {},
   "source": [
    "Também podemos usar `readlines` para ler as linha do arquivo e já colocá-las numa lista. Note que cada linha termina com \"\\n\"."
   ]
  },
  {
   "cell_type": "code",
   "execution_count": 18,
   "id": "b454f792",
   "metadata": {},
   "outputs": [
    {
     "data": {
      "text/plain": [
       "['5.1,3.5,1.4,0.2,Iris-setosa\\n',\n",
       " '4.9,3.0,1.4,0.2,Iris-setosa\\n',\n",
       " '4.7,3.2,1.3,0.2,Iris-setosa\\n',\n",
       " '4.6,3.1,1.5,0.2,Iris-setosa\\n',\n",
       " '5.0,3.6,1.4,0.2,Iris-setosa\\n',\n",
       " '5.4,3.9,1.7,0.4,Iris-setosa\\n',\n",
       " '4.6,3.4,1.4,0.3,Iris-setosa\\n',\n",
       " '5.0,3.4,1.5,0.2,Iris-setosa\\n',\n",
       " '4.4,2.9,1.4,0.2,Iris-setosa\\n',\n",
       " '4.9,3.1,1.5,0.1,Iris-setosa\\n',\n",
       " '5.4,3.7,1.5,0.2,Iris-setosa\\n',\n",
       " '4.8,3.4,1.6,0.2,Iris-setosa\\n',\n",
       " '4.8,3.0,1.4,0.1,Iris-setosa\\n',\n",
       " '4.3,3.0,1.1,0.1,Iris-setosa\\n',\n",
       " '5.8,4.0,1.2,0.2,Iris-setosa\\n',\n",
       " '5.7,4.4,1.5,0.4,Iris-setosa\\n',\n",
       " '5.4,3.9,1.3,0.4,Iris-setosa\\n',\n",
       " '5.1,3.5,1.4,0.3,Iris-setosa\\n',\n",
       " '5.7,3.8,1.7,0.3,Iris-setosa\\n',\n",
       " '5.1,3.8,1.5,0.3,Iris-setosa\\n',\n",
       " '5.4,3.4,1.7,0.2,Iris-setosa\\n',\n",
       " '5.1,3.7,1.5,0.4,Iris-setosa\\n',\n",
       " '4.6,3.6,1.0,0.2,Iris-setosa\\n',\n",
       " '5.1,3.3,1.7,0.5,Iris-setosa\\n',\n",
       " '4.8,3.4,1.9,0.2,Iris-setosa\\n',\n",
       " '5.0,3.0,1.6,0.2,Iris-setosa\\n',\n",
       " '5.0,3.4,1.6,0.4,Iris-setosa\\n',\n",
       " '5.2,3.5,1.5,0.2,Iris-setosa\\n',\n",
       " '5.2,3.4,1.4,0.2,Iris-setosa\\n',\n",
       " '4.7,3.2,1.6,0.2,Iris-setosa\\n',\n",
       " '4.8,3.1,1.6,0.2,Iris-setosa\\n',\n",
       " '5.4,3.4,1.5,0.4,Iris-setosa\\n',\n",
       " '5.2,4.1,1.5,0.1,Iris-setosa\\n',\n",
       " '5.5,4.2,1.4,0.2,Iris-setosa\\n',\n",
       " '4.9,3.1,1.5,0.1,Iris-setosa\\n',\n",
       " '5.0,3.2,1.2,0.2,Iris-setosa\\n',\n",
       " '5.5,3.5,1.3,0.2,Iris-setosa\\n',\n",
       " '4.9,3.1,1.5,0.1,Iris-setosa\\n',\n",
       " '4.4,3.0,1.3,0.2,Iris-setosa\\n',\n",
       " '5.1,3.4,1.5,0.2,Iris-setosa\\n',\n",
       " '5.0,3.5,1.3,0.3,Iris-setosa\\n',\n",
       " '4.5,2.3,1.3,0.3,Iris-setosa\\n',\n",
       " '4.4,3.2,1.3,0.2,Iris-setosa\\n',\n",
       " '5.0,3.5,1.6,0.6,Iris-setosa\\n',\n",
       " '5.1,3.8,1.9,0.4,Iris-setosa\\n',\n",
       " '4.8,3.0,1.4,0.3,Iris-setosa\\n',\n",
       " '5.1,3.8,1.6,0.2,Iris-setosa\\n',\n",
       " '4.6,3.2,1.4,0.2,Iris-setosa\\n',\n",
       " '5.3,3.7,1.5,0.2,Iris-setosa\\n',\n",
       " '5.0,3.3,1.4,0.2,Iris-setosa\\n',\n",
       " '7.0,3.2,4.7,1.4,Iris-versicolor\\n',\n",
       " '6.4,3.2,4.5,1.5,Iris-versicolor\\n',\n",
       " '6.9,3.1,4.9,1.5,Iris-versicolor\\n',\n",
       " '5.5,2.3,4.0,1.3,Iris-versicolor\\n',\n",
       " '6.5,2.8,4.6,1.5,Iris-versicolor\\n',\n",
       " '5.7,2.8,4.5,1.3,Iris-versicolor\\n',\n",
       " '6.3,3.3,4.7,1.6,Iris-versicolor\\n',\n",
       " '4.9,2.4,3.3,1.0,Iris-versicolor\\n',\n",
       " '6.6,2.9,4.6,1.3,Iris-versicolor\\n',\n",
       " '5.2,2.7,3.9,1.4,Iris-versicolor\\n',\n",
       " '5.0,2.0,3.5,1.0,Iris-versicolor\\n',\n",
       " '5.9,3.0,4.2,1.5,Iris-versicolor\\n',\n",
       " '6.0,2.2,4.0,1.0,Iris-versicolor\\n',\n",
       " '6.1,2.9,4.7,1.4,Iris-versicolor\\n',\n",
       " '5.6,2.9,3.6,1.3,Iris-versicolor\\n',\n",
       " '6.7,3.1,4.4,1.4,Iris-versicolor\\n',\n",
       " '5.6,3.0,4.5,1.5,Iris-versicolor\\n',\n",
       " '5.8,2.7,4.1,1.0,Iris-versicolor\\n',\n",
       " '6.2,2.2,4.5,1.5,Iris-versicolor\\n',\n",
       " '5.6,2.5,3.9,1.1,Iris-versicolor\\n',\n",
       " '5.9,3.2,4.8,1.8,Iris-versicolor\\n',\n",
       " '6.1,2.8,4.0,1.3,Iris-versicolor\\n',\n",
       " '6.3,2.5,4.9,1.5,Iris-versicolor\\n',\n",
       " '6.1,2.8,4.7,1.2,Iris-versicolor\\n',\n",
       " '6.4,2.9,4.3,1.3,Iris-versicolor\\n',\n",
       " '6.6,3.0,4.4,1.4,Iris-versicolor\\n',\n",
       " '6.8,2.8,4.8,1.4,Iris-versicolor\\n',\n",
       " '6.7,3.0,5.0,1.7,Iris-versicolor\\n',\n",
       " '6.0,2.9,4.5,1.5,Iris-versicolor\\n',\n",
       " '5.7,2.6,3.5,1.0,Iris-versicolor\\n',\n",
       " '5.5,2.4,3.8,1.1,Iris-versicolor\\n',\n",
       " '5.5,2.4,3.7,1.0,Iris-versicolor\\n',\n",
       " '5.8,2.7,3.9,1.2,Iris-versicolor\\n',\n",
       " '6.0,2.7,5.1,1.6,Iris-versicolor\\n',\n",
       " '5.4,3.0,4.5,1.5,Iris-versicolor\\n',\n",
       " '6.0,3.4,4.5,1.6,Iris-versicolor\\n',\n",
       " '6.7,3.1,4.7,1.5,Iris-versicolor\\n',\n",
       " '6.3,2.3,4.4,1.3,Iris-versicolor\\n',\n",
       " '5.6,3.0,4.1,1.3,Iris-versicolor\\n',\n",
       " '5.5,2.5,4.0,1.3,Iris-versicolor\\n',\n",
       " '5.5,2.6,4.4,1.2,Iris-versicolor\\n',\n",
       " '6.1,3.0,4.6,1.4,Iris-versicolor\\n',\n",
       " '5.8,2.6,4.0,1.2,Iris-versicolor\\n',\n",
       " '5.0,2.3,3.3,1.0,Iris-versicolor\\n',\n",
       " '5.6,2.7,4.2,1.3,Iris-versicolor\\n',\n",
       " '5.7,3.0,4.2,1.2,Iris-versicolor\\n',\n",
       " '5.7,2.9,4.2,1.3,Iris-versicolor\\n',\n",
       " '6.2,2.9,4.3,1.3,Iris-versicolor\\n',\n",
       " '5.1,2.5,3.0,1.1,Iris-versicolor\\n',\n",
       " '5.7,2.8,4.1,1.3,Iris-versicolor\\n',\n",
       " '6.3,3.3,6.0,2.5,Iris-virginica\\n',\n",
       " '5.8,2.7,5.1,1.9,Iris-virginica\\n',\n",
       " '7.1,3.0,5.9,2.1,Iris-virginica\\n',\n",
       " '6.3,2.9,5.6,1.8,Iris-virginica\\n',\n",
       " '6.5,3.0,5.8,2.2,Iris-virginica\\n',\n",
       " '7.6,3.0,6.6,2.1,Iris-virginica\\n',\n",
       " '4.9,2.5,4.5,1.7,Iris-virginica\\n',\n",
       " '7.3,2.9,6.3,1.8,Iris-virginica\\n',\n",
       " '6.7,2.5,5.8,1.8,Iris-virginica\\n',\n",
       " '7.2,3.6,6.1,2.5,Iris-virginica\\n',\n",
       " '6.5,3.2,5.1,2.0,Iris-virginica\\n',\n",
       " '6.4,2.7,5.3,1.9,Iris-virginica\\n',\n",
       " '6.8,3.0,5.5,2.1,Iris-virginica\\n',\n",
       " '5.7,2.5,5.0,2.0,Iris-virginica\\n',\n",
       " '5.8,2.8,5.1,2.4,Iris-virginica\\n',\n",
       " '6.4,3.2,5.3,2.3,Iris-virginica\\n',\n",
       " '6.5,3.0,5.5,1.8,Iris-virginica\\n',\n",
       " '7.7,3.8,6.7,2.2,Iris-virginica\\n',\n",
       " '7.7,2.6,6.9,2.3,Iris-virginica\\n',\n",
       " '6.0,2.2,5.0,1.5,Iris-virginica\\n',\n",
       " '6.9,3.2,5.7,2.3,Iris-virginica\\n',\n",
       " '5.6,2.8,4.9,2.0,Iris-virginica\\n',\n",
       " '7.7,2.8,6.7,2.0,Iris-virginica\\n',\n",
       " '6.3,2.7,4.9,1.8,Iris-virginica\\n',\n",
       " '6.7,3.3,5.7,2.1,Iris-virginica\\n',\n",
       " '7.2,3.2,6.0,1.8,Iris-virginica\\n',\n",
       " '6.2,2.8,4.8,1.8,Iris-virginica\\n',\n",
       " '6.1,3.0,4.9,1.8,Iris-virginica\\n',\n",
       " '6.4,2.8,5.6,2.1,Iris-virginica\\n',\n",
       " '7.2,3.0,5.8,1.6,Iris-virginica\\n',\n",
       " '7.4,2.8,6.1,1.9,Iris-virginica\\n',\n",
       " '7.9,3.8,6.4,2.0,Iris-virginica\\n',\n",
       " '6.4,2.8,5.6,2.2,Iris-virginica\\n',\n",
       " '6.3,2.8,5.1,1.5,Iris-virginica\\n',\n",
       " '6.1,2.6,5.6,1.4,Iris-virginica\\n',\n",
       " '7.7,3.0,6.1,2.3,Iris-virginica\\n',\n",
       " '6.3,3.4,5.6,2.4,Iris-virginica\\n',\n",
       " '6.4,3.1,5.5,1.8,Iris-virginica\\n',\n",
       " '6.0,3.0,4.8,1.8,Iris-virginica\\n',\n",
       " '6.9,3.1,5.4,2.1,Iris-virginica\\n',\n",
       " '6.7,3.1,5.6,2.4,Iris-virginica\\n',\n",
       " '6.9,3.1,5.1,2.3,Iris-virginica\\n',\n",
       " '5.8,2.7,5.1,1.9,Iris-virginica\\n',\n",
       " '6.8,3.2,5.9,2.3,Iris-virginica\\n',\n",
       " '6.7,3.3,5.7,2.5,Iris-virginica\\n',\n",
       " '6.7,3.0,5.2,2.3,Iris-virginica\\n',\n",
       " '6.3,2.5,5.0,1.9,Iris-virginica\\n',\n",
       " '6.5,3.0,5.2,2.0,Iris-virginica\\n',\n",
       " '6.2,3.4,5.4,2.3,Iris-virginica\\n',\n",
       " '5.9,3.0,5.1,1.8,Iris-virginica\\n',\n",
       " '\\n']"
      ]
     },
     "execution_count": 18,
     "metadata": {},
     "output_type": "execute_result"
    }
   ],
   "source": [
    "with open(\"iris.data\", \"r\") as arq:\n",
    "    texto = arq.readlines()\n",
    "        \n",
    "texto"
   ]
  },
  {
   "cell_type": "code",
   "execution_count": 19,
   "id": "772493d0",
   "metadata": {},
   "outputs": [
    {
     "data": {
      "text/plain": [
       "list"
      ]
     },
     "execution_count": 19,
     "metadata": {},
     "output_type": "execute_result"
    }
   ],
   "source": [
    "type(texto)"
   ]
  },
  {
   "cell_type": "markdown",
   "id": "1f4096dd",
   "metadata": {},
   "source": [
    "Como objetos do tipo arquivo são iteráveis, podemos ler as 5 primeiras linhas de um arquivo usando o método `next`."
   ]
  },
  {
   "cell_type": "code",
   "execution_count": 20,
   "id": "696e7033",
   "metadata": {},
   "outputs": [
    {
     "data": {
      "text/plain": [
       "['5.1,3.5,1.4,0.2,Iris-setosa\\n',\n",
       " '4.9,3.0,1.4,0.2,Iris-setosa\\n',\n",
       " '4.7,3.2,1.3,0.2,Iris-setosa\\n',\n",
       " '4.6,3.1,1.5,0.2,Iris-setosa\\n',\n",
       " '5.0,3.6,1.4,0.2,Iris-setosa\\n']"
      ]
     },
     "execution_count": 20,
     "metadata": {},
     "output_type": "execute_result"
    }
   ],
   "source": [
    "with open('iris.data', 'r') as arq:\n",
    "    texto = [next(arq) for x in range(5)]\n",
    "texto"
   ]
  },
  {
   "cell_type": "markdown",
   "id": "f7be4358",
   "metadata": {},
   "source": [
    "# Escrevendo e alterando arquivos"
   ]
  },
  {
   "cell_type": "markdown",
   "id": "e0e1d292",
   "metadata": {},
   "source": [
    "Vamos ler dados do arquivo `iris.data`, gravá-los num novo arquivo, e depois adicionar mais dados ao arquivo criado."
   ]
  },
  {
   "cell_type": "code",
   "execution_count": 21,
   "id": "a4d7227a",
   "metadata": {},
   "outputs": [
    {
     "data": {
      "text/plain": [
       "['5.1,3.5,1.4,0.2,Iris-setosa\\n',\n",
       " '4.9,3.0,1.4,0.2,Iris-setosa\\n',\n",
       " '4.7,3.2,1.3,0.2,Iris-setosa\\n',\n",
       " '4.6,3.1,1.5,0.2,Iris-setosa\\n',\n",
       " '5.0,3.6,1.4,0.2,Iris-setosa\\n',\n",
       " '5.4,3.9,1.7,0.4,Iris-setosa\\n',\n",
       " '4.6,3.4,1.4,0.3,Iris-setosa\\n',\n",
       " '5.0,3.4,1.5,0.2,Iris-setosa\\n',\n",
       " '4.4,2.9,1.4,0.2,Iris-setosa\\n',\n",
       " '4.9,3.1,1.5,0.1,Iris-setosa\\n',\n",
       " '5.4,3.7,1.5,0.2,Iris-setosa\\n',\n",
       " '4.8,3.4,1.6,0.2,Iris-setosa\\n',\n",
       " '4.8,3.0,1.4,0.1,Iris-setosa\\n',\n",
       " '4.3,3.0,1.1,0.1,Iris-setosa\\n',\n",
       " '5.8,4.0,1.2,0.2,Iris-setosa\\n',\n",
       " '5.7,4.4,1.5,0.4,Iris-setosa\\n',\n",
       " '5.4,3.9,1.3,0.4,Iris-setosa\\n',\n",
       " '5.1,3.5,1.4,0.3,Iris-setosa\\n',\n",
       " '5.7,3.8,1.7,0.3,Iris-setosa\\n',\n",
       " '5.1,3.8,1.5,0.3,Iris-setosa\\n',\n",
       " '5.4,3.4,1.7,0.2,Iris-setosa\\n',\n",
       " '5.1,3.7,1.5,0.4,Iris-setosa\\n',\n",
       " '4.6,3.6,1.0,0.2,Iris-setosa\\n',\n",
       " '5.1,3.3,1.7,0.5,Iris-setosa\\n',\n",
       " '4.8,3.4,1.9,0.2,Iris-setosa\\n',\n",
       " '5.0,3.0,1.6,0.2,Iris-setosa\\n',\n",
       " '5.0,3.4,1.6,0.4,Iris-setosa\\n',\n",
       " '5.2,3.5,1.5,0.2,Iris-setosa\\n',\n",
       " '5.2,3.4,1.4,0.2,Iris-setosa\\n',\n",
       " '4.7,3.2,1.6,0.2,Iris-setosa\\n',\n",
       " '4.8,3.1,1.6,0.2,Iris-setosa\\n',\n",
       " '5.4,3.4,1.5,0.4,Iris-setosa\\n',\n",
       " '5.2,4.1,1.5,0.1,Iris-setosa\\n',\n",
       " '5.5,4.2,1.4,0.2,Iris-setosa\\n',\n",
       " '4.9,3.1,1.5,0.1,Iris-setosa\\n',\n",
       " '5.0,3.2,1.2,0.2,Iris-setosa\\n',\n",
       " '5.5,3.5,1.3,0.2,Iris-setosa\\n',\n",
       " '4.9,3.1,1.5,0.1,Iris-setosa\\n',\n",
       " '4.4,3.0,1.3,0.2,Iris-setosa\\n',\n",
       " '5.1,3.4,1.5,0.2,Iris-setosa\\n',\n",
       " '5.0,3.5,1.3,0.3,Iris-setosa\\n',\n",
       " '4.5,2.3,1.3,0.3,Iris-setosa\\n',\n",
       " '4.4,3.2,1.3,0.2,Iris-setosa\\n',\n",
       " '5.0,3.5,1.6,0.6,Iris-setosa\\n',\n",
       " '5.1,3.8,1.9,0.4,Iris-setosa\\n',\n",
       " '4.8,3.0,1.4,0.3,Iris-setosa\\n',\n",
       " '5.1,3.8,1.6,0.2,Iris-setosa\\n',\n",
       " '4.6,3.2,1.4,0.2,Iris-setosa\\n',\n",
       " '5.3,3.7,1.5,0.2,Iris-setosa\\n',\n",
       " '5.0,3.3,1.4,0.2,Iris-setosa\\n',\n",
       " '7.0,3.2,4.7,1.4,Iris-versicolor\\n',\n",
       " '6.4,3.2,4.5,1.5,Iris-versicolor\\n',\n",
       " '6.9,3.1,4.9,1.5,Iris-versicolor\\n',\n",
       " '5.5,2.3,4.0,1.3,Iris-versicolor\\n',\n",
       " '6.5,2.8,4.6,1.5,Iris-versicolor\\n',\n",
       " '5.7,2.8,4.5,1.3,Iris-versicolor\\n',\n",
       " '6.3,3.3,4.7,1.6,Iris-versicolor\\n',\n",
       " '4.9,2.4,3.3,1.0,Iris-versicolor\\n',\n",
       " '6.6,2.9,4.6,1.3,Iris-versicolor\\n',\n",
       " '5.2,2.7,3.9,1.4,Iris-versicolor\\n',\n",
       " '5.0,2.0,3.5,1.0,Iris-versicolor\\n',\n",
       " '5.9,3.0,4.2,1.5,Iris-versicolor\\n',\n",
       " '6.0,2.2,4.0,1.0,Iris-versicolor\\n',\n",
       " '6.1,2.9,4.7,1.4,Iris-versicolor\\n',\n",
       " '5.6,2.9,3.6,1.3,Iris-versicolor\\n',\n",
       " '6.7,3.1,4.4,1.4,Iris-versicolor\\n',\n",
       " '5.6,3.0,4.5,1.5,Iris-versicolor\\n',\n",
       " '5.8,2.7,4.1,1.0,Iris-versicolor\\n',\n",
       " '6.2,2.2,4.5,1.5,Iris-versicolor\\n',\n",
       " '5.6,2.5,3.9,1.1,Iris-versicolor\\n',\n",
       " '5.9,3.2,4.8,1.8,Iris-versicolor\\n',\n",
       " '6.1,2.8,4.0,1.3,Iris-versicolor\\n',\n",
       " '6.3,2.5,4.9,1.5,Iris-versicolor\\n',\n",
       " '6.1,2.8,4.7,1.2,Iris-versicolor\\n',\n",
       " '6.4,2.9,4.3,1.3,Iris-versicolor\\n',\n",
       " '6.6,3.0,4.4,1.4,Iris-versicolor\\n',\n",
       " '6.8,2.8,4.8,1.4,Iris-versicolor\\n',\n",
       " '6.7,3.0,5.0,1.7,Iris-versicolor\\n',\n",
       " '6.0,2.9,4.5,1.5,Iris-versicolor\\n',\n",
       " '5.7,2.6,3.5,1.0,Iris-versicolor\\n',\n",
       " '5.5,2.4,3.8,1.1,Iris-versicolor\\n',\n",
       " '5.5,2.4,3.7,1.0,Iris-versicolor\\n',\n",
       " '5.8,2.7,3.9,1.2,Iris-versicolor\\n',\n",
       " '6.0,2.7,5.1,1.6,Iris-versicolor\\n',\n",
       " '5.4,3.0,4.5,1.5,Iris-versicolor\\n',\n",
       " '6.0,3.4,4.5,1.6,Iris-versicolor\\n',\n",
       " '6.7,3.1,4.7,1.5,Iris-versicolor\\n',\n",
       " '6.3,2.3,4.4,1.3,Iris-versicolor\\n',\n",
       " '5.6,3.0,4.1,1.3,Iris-versicolor\\n',\n",
       " '5.5,2.5,4.0,1.3,Iris-versicolor\\n',\n",
       " '5.5,2.6,4.4,1.2,Iris-versicolor\\n',\n",
       " '6.1,3.0,4.6,1.4,Iris-versicolor\\n',\n",
       " '5.8,2.6,4.0,1.2,Iris-versicolor\\n',\n",
       " '5.0,2.3,3.3,1.0,Iris-versicolor\\n',\n",
       " '5.6,2.7,4.2,1.3,Iris-versicolor\\n',\n",
       " '5.7,3.0,4.2,1.2,Iris-versicolor\\n',\n",
       " '5.7,2.9,4.2,1.3,Iris-versicolor\\n',\n",
       " '6.2,2.9,4.3,1.3,Iris-versicolor\\n',\n",
       " '5.1,2.5,3.0,1.1,Iris-versicolor\\n',\n",
       " '5.7,2.8,4.1,1.3,Iris-versicolor\\n',\n",
       " '6.3,3.3,6.0,2.5,Iris-virginica\\n',\n",
       " '5.8,2.7,5.1,1.9,Iris-virginica\\n',\n",
       " '7.1,3.0,5.9,2.1,Iris-virginica\\n',\n",
       " '6.3,2.9,5.6,1.8,Iris-virginica\\n',\n",
       " '6.5,3.0,5.8,2.2,Iris-virginica\\n',\n",
       " '7.6,3.0,6.6,2.1,Iris-virginica\\n',\n",
       " '4.9,2.5,4.5,1.7,Iris-virginica\\n',\n",
       " '7.3,2.9,6.3,1.8,Iris-virginica\\n',\n",
       " '6.7,2.5,5.8,1.8,Iris-virginica\\n',\n",
       " '7.2,3.6,6.1,2.5,Iris-virginica\\n',\n",
       " '6.5,3.2,5.1,2.0,Iris-virginica\\n',\n",
       " '6.4,2.7,5.3,1.9,Iris-virginica\\n',\n",
       " '6.8,3.0,5.5,2.1,Iris-virginica\\n',\n",
       " '5.7,2.5,5.0,2.0,Iris-virginica\\n',\n",
       " '5.8,2.8,5.1,2.4,Iris-virginica\\n',\n",
       " '6.4,3.2,5.3,2.3,Iris-virginica\\n',\n",
       " '6.5,3.0,5.5,1.8,Iris-virginica\\n',\n",
       " '7.7,3.8,6.7,2.2,Iris-virginica\\n',\n",
       " '7.7,2.6,6.9,2.3,Iris-virginica\\n',\n",
       " '6.0,2.2,5.0,1.5,Iris-virginica\\n',\n",
       " '6.9,3.2,5.7,2.3,Iris-virginica\\n',\n",
       " '5.6,2.8,4.9,2.0,Iris-virginica\\n',\n",
       " '7.7,2.8,6.7,2.0,Iris-virginica\\n',\n",
       " '6.3,2.7,4.9,1.8,Iris-virginica\\n',\n",
       " '6.7,3.3,5.7,2.1,Iris-virginica\\n',\n",
       " '7.2,3.2,6.0,1.8,Iris-virginica\\n',\n",
       " '6.2,2.8,4.8,1.8,Iris-virginica\\n',\n",
       " '6.1,3.0,4.9,1.8,Iris-virginica\\n',\n",
       " '6.4,2.8,5.6,2.1,Iris-virginica\\n',\n",
       " '7.2,3.0,5.8,1.6,Iris-virginica\\n',\n",
       " '7.4,2.8,6.1,1.9,Iris-virginica\\n',\n",
       " '7.9,3.8,6.4,2.0,Iris-virginica\\n',\n",
       " '6.4,2.8,5.6,2.2,Iris-virginica\\n',\n",
       " '6.3,2.8,5.1,1.5,Iris-virginica\\n',\n",
       " '6.1,2.6,5.6,1.4,Iris-virginica\\n',\n",
       " '7.7,3.0,6.1,2.3,Iris-virginica\\n',\n",
       " '6.3,3.4,5.6,2.4,Iris-virginica\\n',\n",
       " '6.4,3.1,5.5,1.8,Iris-virginica\\n',\n",
       " '6.0,3.0,4.8,1.8,Iris-virginica\\n',\n",
       " '6.9,3.1,5.4,2.1,Iris-virginica\\n',\n",
       " '6.7,3.1,5.6,2.4,Iris-virginica\\n',\n",
       " '6.9,3.1,5.1,2.3,Iris-virginica\\n',\n",
       " '5.8,2.7,5.1,1.9,Iris-virginica\\n',\n",
       " '6.8,3.2,5.9,2.3,Iris-virginica\\n',\n",
       " '6.7,3.3,5.7,2.5,Iris-virginica\\n',\n",
       " '6.7,3.0,5.2,2.3,Iris-virginica\\n',\n",
       " '6.3,2.5,5.0,1.9,Iris-virginica\\n',\n",
       " '6.5,3.0,5.2,2.0,Iris-virginica\\n',\n",
       " '6.2,3.4,5.4,2.3,Iris-virginica\\n',\n",
       " '5.9,3.0,5.1,1.8,Iris-virginica\\n',\n",
       " '\\n']"
      ]
     },
     "execution_count": 21,
     "metadata": {},
     "output_type": "execute_result"
    }
   ],
   "source": [
    "with open(\"iris.data\", \"r\") as arq:\n",
    "    dados = arq.readlines()\n",
    "dados"
   ]
  },
  {
   "cell_type": "code",
   "execution_count": 22,
   "id": "ac707969",
   "metadata": {},
   "outputs": [
    {
     "name": "stdout",
     "output_type": "stream",
     "text": [
      "5.1,3.5,1.4,0.2,Iris-setosa\n",
      "4.9,3.0,1.4,0.2,Iris-setosa\n",
      "4.7,3.2,1.3,0.2,Iris-setosa\n",
      "4.6,3.1,1.5,0.2,Iris-setosa\n",
      "5.0,3.6,1.4,0.2,Iris-setosa\n",
      "\n"
     ]
    }
   ],
   "source": [
    "with open(\"novo.data\", \"w\") as arq:\n",
    "    for linha in dados[:5]:\n",
    "        arq.write(linha)\n",
    "\n",
    "with open(\"novo.data\", \"r\") as arq:\n",
    "    texto = arq.read()\n",
    "print(texto)"
   ]
  },
  {
   "cell_type": "code",
   "execution_count": 23,
   "id": "bf4efcbe",
   "metadata": {},
   "outputs": [
    {
     "name": "stdout",
     "output_type": "stream",
     "text": [
      "5.1,3.5,1.4,0.2,Iris-setosa\n",
      "4.9,3.0,1.4,0.2,Iris-setosa\n",
      "4.7,3.2,1.3,0.2,Iris-setosa\n",
      "4.6,3.1,1.5,0.2,Iris-setosa\n",
      "5.0,3.6,1.4,0.2,Iris-setosa\n",
      "Linha 0\n",
      "Linha 1\n",
      "Linha 2\n",
      "Linha 3\n",
      "Linha 4\n",
      "\n"
     ]
    }
   ],
   "source": [
    "with open(\"novo.data\", \"a+\") as arq:\n",
    "    for i in range(5):\n",
    "        arq.write(\"Linha \" + str(i) + \"\\n\")\n",
    "    arq.seek(0)\n",
    "    texto = arq.read() \n",
    "print(texto)"
   ]
  },
  {
   "cell_type": "markdown",
   "id": "f6117656",
   "metadata": {},
   "source": [
    "# Copiando um arquivo"
   ]
  },
  {
   "cell_type": "code",
   "execution_count": 24,
   "id": "1b532dcb",
   "metadata": {},
   "outputs": [],
   "source": [
    "with open(\"iris.data\", \"r\") as fonte:\n",
    "    with open(\"copia.data\", \"w\") as copia:\n",
    "        for linha in fonte:\n",
    "            copia.write(linha)"
   ]
  },
  {
   "cell_type": "code",
   "execution_count": 25,
   "id": "c8db2ff4",
   "metadata": {},
   "outputs": [
    {
     "name": "stdout",
     "output_type": "stream",
     "text": [
      "5.1,3.5,1.4,0.2,Iris-setosa\n",
      "4.9,3.0,1.4,0.2,Iris-setosa\n",
      "4.7,3.2,1.3,0.2,Iris-setosa\n",
      "4.6,3.1,1.5,0.2,Iris-setosa\n",
      "5.0,3.6,1.4,0.2,Iris-setosa\n",
      "5.4,3.9,1.7,0.4,Iris-setosa\n",
      "4.6,3.4,1.4,0.3,Iris-setosa\n",
      "5.0,3.4,1.5,0.2,Iris-setosa\n",
      "4.4,2.9,1.4,0.2,Iris-setosa\n",
      "4.9,3.1,1.5,0.1,Iris-setosa\n",
      "5.4,3.7,1.5,0.2,Iris-setosa\n",
      "4.8,3.4,1.6,0.2,Iris-setosa\n",
      "4.8,3.0,1.4,0.1,Iris-setosa\n",
      "4.3,3.0,1.1,0.1,Iris-setosa\n",
      "5.8,4.0,1.2,0.2,Iris-setosa\n",
      "5.7,4.4,1.5,0.4,Iris-setosa\n",
      "5.4,3.9,1.3,0.4,Iris-setosa\n",
      "5.1,3.5,1.4,0.3,Iris-setosa\n",
      "5.7,3.8,1.7,0.3,Iris-setosa\n",
      "5.1,3.8,1.5,0.3,Iris-setosa\n",
      "5.4,3.4,1.7,0.2,Iris-setosa\n",
      "5.1,3.7,1.5,0.4,Iris-setosa\n",
      "4.6,3.6,1.0,0.2,Iris-setosa\n",
      "5.1,3.3,1.7,0.5,Iris-setosa\n",
      "4.8,3.4,1.9,0.2,Iris-setosa\n",
      "5.0,3.0,1.6,0.2,Iris-setosa\n",
      "5.0,3.4,1.6,0.4,Iris-setosa\n",
      "5.2,3.5,1.5,0.2,Iris-setosa\n",
      "5.2,3.4,1.4,0.2,Iris-setosa\n",
      "4.7,3.2,1.6,0.2,Iris-setosa\n",
      "4.8,3.1,1.6,0.2,Iris-setosa\n",
      "5.4,3.4,1.5,0.4,Iris-setosa\n",
      "5.2,4.1,1.5,0.1,Iris-setosa\n",
      "5.5,4.2,1.4,0.2,Iris-setosa\n",
      "4.9,3.1,1.5,0.1,Iris-setosa\n",
      "5.0,3.2,1.2,0.2,Iris-setosa\n",
      "5.5,3.5,1.3,0.2,Iris-setosa\n",
      "4.9,3.1,1.5,0.1,Iris-setosa\n",
      "4.4,3.0,1.3,0.2,Iris-setosa\n",
      "5.1,3.4,1.5,0.2,Iris-setosa\n",
      "5.0,3.5,1.3,0.3,Iris-setosa\n",
      "4.5,2.3,1.3,0.3,Iris-setosa\n",
      "4.4,3.2,1.3,0.2,Iris-setosa\n",
      "5.0,3.5,1.6,0.6,Iris-setosa\n",
      "5.1,3.8,1.9,0.4,Iris-setosa\n",
      "4.8,3.0,1.4,0.3,Iris-setosa\n",
      "5.1,3.8,1.6,0.2,Iris-setosa\n",
      "4.6,3.2,1.4,0.2,Iris-setosa\n",
      "5.3,3.7,1.5,0.2,Iris-setosa\n",
      "5.0,3.3,1.4,0.2,Iris-setosa\n",
      "7.0,3.2,4.7,1.4,Iris-versicolor\n",
      "6.4,3.2,4.5,1.5,Iris-versicolor\n",
      "6.9,3.1,4.9,1.5,Iris-versicolor\n",
      "5.5,2.3,4.0,1.3,Iris-versicolor\n",
      "6.5,2.8,4.6,1.5,Iris-versicolor\n",
      "5.7,2.8,4.5,1.3,Iris-versicolor\n",
      "6.3,3.3,4.7,1.6,Iris-versicolor\n",
      "4.9,2.4,3.3,1.0,Iris-versicolor\n",
      "6.6,2.9,4.6,1.3,Iris-versicolor\n",
      "5.2,2.7,3.9,1.4,Iris-versicolor\n",
      "5.0,2.0,3.5,1.0,Iris-versicolor\n",
      "5.9,3.0,4.2,1.5,Iris-versicolor\n",
      "6.0,2.2,4.0,1.0,Iris-versicolor\n",
      "6.1,2.9,4.7,1.4,Iris-versicolor\n",
      "5.6,2.9,3.6,1.3,Iris-versicolor\n",
      "6.7,3.1,4.4,1.4,Iris-versicolor\n",
      "5.6,3.0,4.5,1.5,Iris-versicolor\n",
      "5.8,2.7,4.1,1.0,Iris-versicolor\n",
      "6.2,2.2,4.5,1.5,Iris-versicolor\n",
      "5.6,2.5,3.9,1.1,Iris-versicolor\n",
      "5.9,3.2,4.8,1.8,Iris-versicolor\n",
      "6.1,2.8,4.0,1.3,Iris-versicolor\n",
      "6.3,2.5,4.9,1.5,Iris-versicolor\n",
      "6.1,2.8,4.7,1.2,Iris-versicolor\n",
      "6.4,2.9,4.3,1.3,Iris-versicolor\n",
      "6.6,3.0,4.4,1.4,Iris-versicolor\n",
      "6.8,2.8,4.8,1.4,Iris-versicolor\n",
      "6.7,3.0,5.0,1.7,Iris-versicolor\n",
      "6.0,2.9,4.5,1.5,Iris-versicolor\n",
      "5.7,2.6,3.5,1.0,Iris-versicolor\n",
      "5.5,2.4,3.8,1.1,Iris-versicolor\n",
      "5.5,2.4,3.7,1.0,Iris-versicolor\n",
      "5.8,2.7,3.9,1.2,Iris-versicolor\n",
      "6.0,2.7,5.1,1.6,Iris-versicolor\n",
      "5.4,3.0,4.5,1.5,Iris-versicolor\n",
      "6.0,3.4,4.5,1.6,Iris-versicolor\n",
      "6.7,3.1,4.7,1.5,Iris-versicolor\n",
      "6.3,2.3,4.4,1.3,Iris-versicolor\n",
      "5.6,3.0,4.1,1.3,Iris-versicolor\n",
      "5.5,2.5,4.0,1.3,Iris-versicolor\n",
      "5.5,2.6,4.4,1.2,Iris-versicolor\n",
      "6.1,3.0,4.6,1.4,Iris-versicolor\n",
      "5.8,2.6,4.0,1.2,Iris-versicolor\n",
      "5.0,2.3,3.3,1.0,Iris-versicolor\n",
      "5.6,2.7,4.2,1.3,Iris-versicolor\n",
      "5.7,3.0,4.2,1.2,Iris-versicolor\n",
      "5.7,2.9,4.2,1.3,Iris-versicolor\n",
      "6.2,2.9,4.3,1.3,Iris-versicolor\n",
      "5.1,2.5,3.0,1.1,Iris-versicolor\n",
      "5.7,2.8,4.1,1.3,Iris-versicolor\n",
      "6.3,3.3,6.0,2.5,Iris-virginica\n",
      "5.8,2.7,5.1,1.9,Iris-virginica\n",
      "7.1,3.0,5.9,2.1,Iris-virginica\n",
      "6.3,2.9,5.6,1.8,Iris-virginica\n",
      "6.5,3.0,5.8,2.2,Iris-virginica\n",
      "7.6,3.0,6.6,2.1,Iris-virginica\n",
      "4.9,2.5,4.5,1.7,Iris-virginica\n",
      "7.3,2.9,6.3,1.8,Iris-virginica\n",
      "6.7,2.5,5.8,1.8,Iris-virginica\n",
      "7.2,3.6,6.1,2.5,Iris-virginica\n",
      "6.5,3.2,5.1,2.0,Iris-virginica\n",
      "6.4,2.7,5.3,1.9,Iris-virginica\n",
      "6.8,3.0,5.5,2.1,Iris-virginica\n",
      "5.7,2.5,5.0,2.0,Iris-virginica\n",
      "5.8,2.8,5.1,2.4,Iris-virginica\n",
      "6.4,3.2,5.3,2.3,Iris-virginica\n",
      "6.5,3.0,5.5,1.8,Iris-virginica\n",
      "7.7,3.8,6.7,2.2,Iris-virginica\n",
      "7.7,2.6,6.9,2.3,Iris-virginica\n",
      "6.0,2.2,5.0,1.5,Iris-virginica\n",
      "6.9,3.2,5.7,2.3,Iris-virginica\n",
      "5.6,2.8,4.9,2.0,Iris-virginica\n",
      "7.7,2.8,6.7,2.0,Iris-virginica\n",
      "6.3,2.7,4.9,1.8,Iris-virginica\n",
      "6.7,3.3,5.7,2.1,Iris-virginica\n",
      "7.2,3.2,6.0,1.8,Iris-virginica\n",
      "6.2,2.8,4.8,1.8,Iris-virginica\n",
      "6.1,3.0,4.9,1.8,Iris-virginica\n",
      "6.4,2.8,5.6,2.1,Iris-virginica\n",
      "7.2,3.0,5.8,1.6,Iris-virginica\n",
      "7.4,2.8,6.1,1.9,Iris-virginica\n",
      "7.9,3.8,6.4,2.0,Iris-virginica\n",
      "6.4,2.8,5.6,2.2,Iris-virginica\n",
      "6.3,2.8,5.1,1.5,Iris-virginica\n",
      "6.1,2.6,5.6,1.4,Iris-virginica\n",
      "7.7,3.0,6.1,2.3,Iris-virginica\n",
      "6.3,3.4,5.6,2.4,Iris-virginica\n",
      "6.4,3.1,5.5,1.8,Iris-virginica\n",
      "6.0,3.0,4.8,1.8,Iris-virginica\n",
      "6.9,3.1,5.4,2.1,Iris-virginica\n",
      "6.7,3.1,5.6,2.4,Iris-virginica\n",
      "6.9,3.1,5.1,2.3,Iris-virginica\n",
      "5.8,2.7,5.1,1.9,Iris-virginica\n",
      "6.8,3.2,5.9,2.3,Iris-virginica\n",
      "6.7,3.3,5.7,2.5,Iris-virginica\n",
      "6.7,3.0,5.2,2.3,Iris-virginica\n",
      "6.3,2.5,5.0,1.9,Iris-virginica\n",
      "6.5,3.0,5.2,2.0,Iris-virginica\n",
      "6.2,3.4,5.4,2.3,Iris-virginica\n",
      "5.9,3.0,5.1,1.8,Iris-virginica\n",
      "\n",
      "\n"
     ]
    }
   ],
   "source": [
    "with open(\"copia.data\", \"r\") as arq:\n",
    "    print(arq.read())"
   ]
  }
 ],
 "metadata": {
  "kernelspec": {
   "display_name": "Python 3 (ipykernel)",
   "language": "python",
   "name": "python3"
  },
  "language_info": {
   "codemirror_mode": {
    "name": "ipython",
    "version": 3
   },
   "file_extension": ".py",
   "mimetype": "text/x-python",
   "name": "python",
   "nbconvert_exporter": "python",
   "pygments_lexer": "ipython3",
   "version": "3.8.8"
  },
  "toc": {
   "base_numbering": 1,
   "nav_menu": {
    "height": "169.986px",
    "width": "277.997px"
   },
   "number_sections": true,
   "sideBar": true,
   "skip_h1_title": false,
   "title_cell": "Table of Contents",
   "title_sidebar": "Contents",
   "toc_cell": false,
   "toc_position": {
    "height": "calc(100% - 180px)",
    "left": "10px",
    "top": "150px",
    "width": "241.094px"
   },
   "toc_section_display": true,
   "toc_window_display": false
  },
  "varInspector": {
   "cols": {
    "lenName": 16,
    "lenType": 16,
    "lenVar": 40
   },
   "kernels_config": {
    "python": {
     "delete_cmd_postfix": "",
     "delete_cmd_prefix": "del ",
     "library": "var_list.py",
     "varRefreshCmd": "print(var_dic_list())"
    },
    "r": {
     "delete_cmd_postfix": ") ",
     "delete_cmd_prefix": "rm(",
     "library": "var_list.r",
     "varRefreshCmd": "cat(var_dic_list()) "
    }
   },
   "types_to_exclude": [
    "module",
    "function",
    "builtin_function_or_method",
    "instance",
    "_Feature"
   ],
   "window_display": false
  }
 },
 "nbformat": 4,
 "nbformat_minor": 5
}
