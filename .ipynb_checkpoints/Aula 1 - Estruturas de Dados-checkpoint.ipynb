{
 "cells": [
  {
   "cell_type": "markdown",
   "id": "88561acf",
   "metadata": {},
   "source": [
    "<strong><font size = \"4\" color = \"black\">Introdução à Ciência de Dados</font></strong><br>\n",
    "<font size = \"3\" color = \"gray\">Prof. Valter Moreno</font><br>\n",
    "<font size = \"3\" color = \"gray\">2022</font><br>  "
   ]
  },
  {
   "cell_type": "markdown",
   "id": "92c2c25c",
   "metadata": {},
   "source": [
    "<hr style=\"border:0.1px solid gray\"> </hr>\n",
    "<font size = \"5\" color = \"black\">Introdução ao Python</font><p>\n",
    "<font size = \"5\" color = \"black\">Aula 1: Estruturas de Dados</font>\n",
    "<hr style=\"border:0.1px solid gray\"> </hr>"
   ]
  },
  {
   "cell_type": "markdown",
   "id": "4b16eddb",
   "metadata": {},
   "source": [
    "# Tipos de dados\n",
    "\n",
    "Os quatro tipos básicos de dados em Python são: \n",
    " - inteiro\n",
    " - float (número com casas decimais)\n",
    " - cadeia de caracteres\n",
    " - lógico\n",
    "\n",
    "A linguagem Python inclui vários outros tipos de dados, como os descritos, por exemplo, em [W3 Schools: Python Data Types](https://www.w3schools.com/python/python_datatypes.asp).\n",
    "\n",
    "Para saber qual é o tipo de um dado ou resultado, use a função `type`.\n",
    "\n",
    "Há várias funções para a conversão de um tipo para outro, como `int`, `float` e `str`."
   ]
  },
  {
   "cell_type": "markdown",
   "id": "977a833e",
   "metadata": {},
   "source": [
    "## Exemplos de tipos básicos"
   ]
  },
  {
   "cell_type": "code",
   "execution_count": 1,
   "id": "4c08bc3e",
   "metadata": {
    "hide_input": false
   },
   "outputs": [
    {
     "data": {
      "text/plain": [
       "int"
      ]
     },
     "execution_count": 1,
     "metadata": {},
     "output_type": "execute_result"
    }
   ],
   "source": [
    "type(1)  # Mostra o tipo do argumento passado para a função type()"
   ]
  },
  {
   "cell_type": "code",
   "execution_count": 2,
   "id": "6adf8882",
   "metadata": {},
   "outputs": [
    {
     "data": {
      "text/plain": [
       "float"
      ]
     },
     "execution_count": 2,
     "metadata": {},
     "output_type": "execute_result"
    }
   ],
   "source": [
    "type(1.0)"
   ]
  },
  {
   "cell_type": "code",
   "execution_count": 3,
   "id": "50af255a",
   "metadata": {
    "scrolled": true
   },
   "outputs": [
    {
     "data": {
      "text/plain": [
       "int"
      ]
     },
     "execution_count": 3,
     "metadata": {},
     "output_type": "execute_result"
    }
   ],
   "source": [
    "type(1*2)"
   ]
  },
  {
   "cell_type": "code",
   "execution_count": 4,
   "id": "f99c5fa1",
   "metadata": {},
   "outputs": [
    {
     "data": {
      "text/plain": [
       "float"
      ]
     },
     "execution_count": 4,
     "metadata": {},
     "output_type": "execute_result"
    }
   ],
   "source": [
    "type(1*2.0)  # Operações envolvendo float e inteiros, geram um resultado float"
   ]
  },
  {
   "cell_type": "code",
   "execution_count": 5,
   "id": "0f377ceb",
   "metadata": {},
   "outputs": [
    {
     "data": {
      "text/plain": [
       "float"
      ]
     },
     "execution_count": 5,
     "metadata": {},
     "output_type": "execute_result"
    }
   ],
   "source": [
    "type(1/2)"
   ]
  },
  {
   "cell_type": "code",
   "execution_count": 6,
   "id": "6608abfc",
   "metadata": {},
   "outputs": [
    {
     "data": {
      "text/plain": [
       "str"
      ]
     },
     "execution_count": 6,
     "metadata": {},
     "output_type": "execute_result"
    }
   ],
   "source": [
    "type(\"Uma cadeia de caracteres pode incluir símbolos e números: 126,44 ** 2 = 15.987,0736 !!\")"
   ]
  },
  {
   "cell_type": "code",
   "execution_count": 7,
   "id": "646da728",
   "metadata": {},
   "outputs": [
    {
     "data": {
      "text/plain": [
       "bool"
      ]
     },
     "execution_count": 7,
     "metadata": {},
     "output_type": "execute_result"
    }
   ],
   "source": [
    "type(True)"
   ]
  },
  {
   "cell_type": "code",
   "execution_count": 8,
   "id": "5f2f2238",
   "metadata": {
    "scrolled": false
   },
   "outputs": [
    {
     "data": {
      "text/plain": [
       "bool"
      ]
     },
     "execution_count": 8,
     "metadata": {},
     "output_type": "execute_result"
    }
   ],
   "source": [
    "type(False)"
   ]
  },
  {
   "cell_type": "markdown",
   "id": "254e689b",
   "metadata": {},
   "source": [
    "Podemos obter informações sobre como os tipos de número são armazenados no computador usando o **módulo** `sys`."
   ]
  },
  {
   "cell_type": "code",
   "execution_count": 9,
   "id": "05035b1a",
   "metadata": {
    "scrolled": true
   },
   "outputs": [
    {
     "data": {
      "text/plain": [
       "sys.int_info(bits_per_digit=30, sizeof_digit=4)"
      ]
     },
     "execution_count": 9,
     "metadata": {},
     "output_type": "execute_result"
    }
   ],
   "source": [
    "import sys\n",
    "sys.int_info"
   ]
  },
  {
   "cell_type": "code",
   "execution_count": 10,
   "id": "d2f7b812",
   "metadata": {},
   "outputs": [
    {
     "data": {
      "text/plain": [
       "sys.float_info(max=1.7976931348623157e+308, max_exp=1024, max_10_exp=308, min=2.2250738585072014e-308, min_exp=-1021, min_10_exp=-307, dig=15, mant_dig=53, epsilon=2.220446049250313e-16, radix=2, rounds=1)"
      ]
     },
     "execution_count": 10,
     "metadata": {},
     "output_type": "execute_result"
    }
   ],
   "source": [
    "sys.float_info"
   ]
  },
  {
   "cell_type": "markdown",
   "id": "cd71688d",
   "metadata": {},
   "source": [
    "Podemos usar o módulo `sys` para obter informações sobre o ambiente que estamos rodando: \n"
   ]
  },
  {
   "cell_type": "code",
   "execution_count": 11,
   "id": "38aafb68",
   "metadata": {},
   "outputs": [
    {
     "data": {
      "text/plain": [
       "'3.8.8 (default, Apr 13 2021, 15:08:03) [MSC v.1916 64 bit (AMD64)]'"
      ]
     },
     "execution_count": 11,
     "metadata": {},
     "output_type": "execute_result"
    }
   ],
   "source": [
    "sys.version  # Versõo do Python"
   ]
  },
  {
   "cell_type": "code",
   "execution_count": 12,
   "id": "f22f2e2a",
   "metadata": {
    "scrolled": true
   },
   "outputs": [
    {
     "data": {
      "text/plain": [
       "['C:\\\\Users\\\\valte\\\\OneDrive\\\\Trabalho\\\\UERJ\\\\DEIN\\\\IntroDSci\\\\Python',\n",
       " 'C:\\\\Users\\\\valte\\\\anaconda3\\\\python38.zip',\n",
       " 'C:\\\\Users\\\\valte\\\\anaconda3\\\\DLLs',\n",
       " 'C:\\\\Users\\\\valte\\\\anaconda3\\\\lib',\n",
       " 'C:\\\\Users\\\\valte\\\\anaconda3',\n",
       " '',\n",
       " 'C:\\\\Users\\\\valte\\\\AppData\\\\Roaming\\\\Python\\\\Python38\\\\site-packages',\n",
       " 'C:\\\\Users\\\\valte\\\\anaconda3\\\\lib\\\\site-packages',\n",
       " 'C:\\\\Users\\\\valte\\\\anaconda3\\\\lib\\\\site-packages\\\\win32',\n",
       " 'C:\\\\Users\\\\valte\\\\anaconda3\\\\lib\\\\site-packages\\\\win32\\\\lib',\n",
       " 'C:\\\\Users\\\\valte\\\\anaconda3\\\\lib\\\\site-packages\\\\Pythonwin',\n",
       " 'C:\\\\Users\\\\valte\\\\anaconda3\\\\lib\\\\site-packages\\\\IPython\\\\extensions',\n",
       " 'C:\\\\Users\\\\valte\\\\.ipython']"
      ]
     },
     "execution_count": 12,
     "metadata": {},
     "output_type": "execute_result"
    }
   ],
   "source": [
    "sys.path  # Locais em que o Python procura por módulos"
   ]
  },
  {
   "cell_type": "code",
   "execution_count": 13,
   "id": "c073836c",
   "metadata": {},
   "outputs": [
    {
     "data": {
      "text/plain": [
       "'win32'"
      ]
     },
     "execution_count": 13,
     "metadata": {},
     "output_type": "execute_result"
    }
   ],
   "source": [
    "sys.platform  # Tipo de plataforma em que o Python está rodando"
   ]
  },
  {
   "cell_type": "markdown",
   "id": "a5944762",
   "metadata": {},
   "source": [
    "## Exemplos de conversão"
   ]
  },
  {
   "cell_type": "code",
   "execution_count": 14,
   "id": "92200fed",
   "metadata": {},
   "outputs": [
    {
     "data": {
      "text/plain": [
       "1"
      ]
     },
     "execution_count": 14,
     "metadata": {},
     "output_type": "execute_result"
    }
   ],
   "source": [
    "int(1.0)"
   ]
  },
  {
   "cell_type": "code",
   "execution_count": 15,
   "id": "31b4a556",
   "metadata": {},
   "outputs": [
    {
     "data": {
      "text/plain": [
       "1"
      ]
     },
     "execution_count": 15,
     "metadata": {},
     "output_type": "execute_result"
    }
   ],
   "source": [
    "int(\"1\")"
   ]
  },
  {
   "cell_type": "code",
   "execution_count": 16,
   "id": "a282d275",
   "metadata": {},
   "outputs": [
    {
     "data": {
      "text/plain": [
       "1.0"
      ]
     },
     "execution_count": 16,
     "metadata": {},
     "output_type": "execute_result"
    }
   ],
   "source": [
    "float(int(1.5))  # Cuidado com conversões!"
   ]
  },
  {
   "cell_type": "code",
   "execution_count": 17,
   "id": "967de202",
   "metadata": {},
   "outputs": [
    {
     "data": {
      "text/plain": [
       "1"
      ]
     },
     "execution_count": 17,
     "metadata": {},
     "output_type": "execute_result"
    }
   ],
   "source": [
    "int(True)"
   ]
  },
  {
   "cell_type": "code",
   "execution_count": 18,
   "id": "b9e390f8",
   "metadata": {},
   "outputs": [
    {
     "data": {
      "text/plain": [
       "0"
      ]
     },
     "execution_count": 18,
     "metadata": {},
     "output_type": "execute_result"
    }
   ],
   "source": [
    "int(False)"
   ]
  },
  {
   "cell_type": "code",
   "execution_count": 19,
   "id": "bafcf672",
   "metadata": {
    "scrolled": true
   },
   "outputs": [
    {
     "ename": "ValueError",
     "evalue": "invalid literal for int() with base 10: 'Texto'",
     "output_type": "error",
     "traceback": [
      "\u001b[1;31m---------------------------------------------------------------------------\u001b[0m",
      "\u001b[1;31mValueError\u001b[0m                                Traceback (most recent call last)",
      "\u001b[1;32m~\\AppData\\Local\\Temp/ipykernel_16736/2579249597.py\u001b[0m in \u001b[0;36m<module>\u001b[1;34m\u001b[0m\n\u001b[0;32m      1\u001b[0m \u001b[1;31m# Ao tentarmo executar esta célula, obtemos um erro e a execução do script é interrompida.\u001b[0m\u001b[1;33m\u001b[0m\u001b[1;33m\u001b[0m\u001b[1;33m\u001b[0m\u001b[0m\n\u001b[0;32m      2\u001b[0m \u001b[1;31m# Note as informações passadas na mensagem.\u001b[0m\u001b[1;33m\u001b[0m\u001b[1;33m\u001b[0m\u001b[1;33m\u001b[0m\u001b[0m\n\u001b[1;32m----> 3\u001b[1;33m \u001b[0mint\u001b[0m\u001b[1;33m(\u001b[0m\u001b[1;34m\"Texto\"\u001b[0m\u001b[1;33m)\u001b[0m\u001b[1;33m\u001b[0m\u001b[1;33m\u001b[0m\u001b[0m\n\u001b[0m",
      "\u001b[1;31mValueError\u001b[0m: invalid literal for int() with base 10: 'Texto'"
     ]
    }
   ],
   "source": [
    "# Ao tentarmo executar esta célula, obtemos um erro e a execução do script é interrompida.\n",
    "# Note as informações passadas na mensagem.\n",
    "int(\"Texto\")"
   ]
  },
  {
   "cell_type": "code",
   "execution_count": null,
   "id": "3e69deb9",
   "metadata": {},
   "outputs": [],
   "source": [
    "# O tipo do erro neste caso é diferente, pois `imt` não é definido em Python.\n",
    "imt(\"Texto\")"
   ]
  },
  {
   "cell_type": "code",
   "execution_count": 20,
   "id": "6a502bef",
   "metadata": {},
   "outputs": [
    {
     "ename": "SyntaxError",
     "evalue": "EOL while scanning string literal (Temp/ipykernel_16736/248252798.py, line 2)",
     "output_type": "error",
     "traceback": [
      "\u001b[1;36m  File \u001b[1;32m\"C:\\Users\\valte\\AppData\\Local\\Temp/ipykernel_16736/248252798.py\"\u001b[1;36m, line \u001b[1;32m2\u001b[0m\n\u001b[1;33m    int(\"Texto)\u001b[0m\n\u001b[1;37m               ^\u001b[0m\n\u001b[1;31mSyntaxError\u001b[0m\u001b[1;31m:\u001b[0m EOL while scanning string literal\n"
     ]
    }
   ],
   "source": [
    "# Aqui, a falta das aspas gera um tipo de erro de sintaxe.\n",
    "int(\"Texto)"
   ]
  },
  {
   "cell_type": "code",
   "execution_count": 21,
   "id": "9a28521d",
   "metadata": {},
   "outputs": [
    {
     "data": {
      "text/plain": [
       "1.0"
      ]
     },
     "execution_count": 21,
     "metadata": {},
     "output_type": "execute_result"
    }
   ],
   "source": [
    "float(1)"
   ]
  },
  {
   "cell_type": "code",
   "execution_count": 22,
   "id": "d0a09586",
   "metadata": {},
   "outputs": [
    {
     "data": {
      "text/plain": [
       "1.0"
      ]
     },
     "execution_count": 22,
     "metadata": {},
     "output_type": "execute_result"
    }
   ],
   "source": [
    "float(True)"
   ]
  },
  {
   "cell_type": "code",
   "execution_count": 23,
   "id": "1d188ea7",
   "metadata": {},
   "outputs": [
    {
     "data": {
      "text/plain": [
       "0.0"
      ]
     },
     "execution_count": 23,
     "metadata": {},
     "output_type": "execute_result"
    }
   ],
   "source": [
    "float(False)"
   ]
  },
  {
   "cell_type": "code",
   "execution_count": 24,
   "id": "743aa849",
   "metadata": {},
   "outputs": [
    {
     "data": {
      "text/plain": [
       "1.0"
      ]
     },
     "execution_count": 24,
     "metadata": {},
     "output_type": "execute_result"
    }
   ],
   "source": [
    "float(\"1\")"
   ]
  },
  {
   "cell_type": "code",
   "execution_count": 25,
   "id": "012e080d",
   "metadata": {},
   "outputs": [
    {
     "ename": "ValueError",
     "evalue": "could not convert string to float: 'Texto'",
     "output_type": "error",
     "traceback": [
      "\u001b[1;31m---------------------------------------------------------------------------\u001b[0m",
      "\u001b[1;31mValueError\u001b[0m                                Traceback (most recent call last)",
      "\u001b[1;32m~\\AppData\\Local\\Temp/ipykernel_16736/2302599358.py\u001b[0m in \u001b[0;36m<module>\u001b[1;34m\u001b[0m\n\u001b[0;32m      1\u001b[0m \u001b[1;31m# Ao executarmos esta célula, obtemos um erro.\u001b[0m\u001b[1;33m\u001b[0m\u001b[1;33m\u001b[0m\u001b[1;33m\u001b[0m\u001b[0m\n\u001b[1;32m----> 2\u001b[1;33m \u001b[0mfloat\u001b[0m\u001b[1;33m(\u001b[0m\u001b[1;34m\"Texto\"\u001b[0m\u001b[1;33m)\u001b[0m\u001b[1;33m\u001b[0m\u001b[1;33m\u001b[0m\u001b[0m\n\u001b[0m",
      "\u001b[1;31mValueError\u001b[0m: could not convert string to float: 'Texto'"
     ]
    }
   ],
   "source": [
    "# Ao executarmos esta célula, obtemos um erro.\n",
    "float(\"Texto\")"
   ]
  },
  {
   "cell_type": "code",
   "execution_count": 26,
   "id": "efb9737d",
   "metadata": {
    "scrolled": true
   },
   "outputs": [
    {
     "data": {
      "text/plain": [
       "'1.5'"
      ]
     },
     "execution_count": 26,
     "metadata": {},
     "output_type": "execute_result"
    }
   ],
   "source": [
    "str(1.5)"
   ]
  },
  {
   "cell_type": "code",
   "execution_count": 27,
   "id": "e3cec7c0",
   "metadata": {},
   "outputs": [
    {
     "data": {
      "text/plain": [
       "'True'"
      ]
     },
     "execution_count": 27,
     "metadata": {},
     "output_type": "execute_result"
    }
   ],
   "source": [
    "str(True)"
   ]
  },
  {
   "cell_type": "code",
   "execution_count": 28,
   "id": "e527d06c",
   "metadata": {},
   "outputs": [
    {
     "data": {
      "text/plain": [
       "True"
      ]
     },
     "execution_count": 28,
     "metadata": {},
     "output_type": "execute_result"
    }
   ],
   "source": [
    "bool(1)"
   ]
  },
  {
   "cell_type": "code",
   "execution_count": 29,
   "id": "4173d0d1",
   "metadata": {},
   "outputs": [
    {
     "data": {
      "text/plain": [
       "True"
      ]
     },
     "execution_count": 29,
     "metadata": {},
     "output_type": "execute_result"
    }
   ],
   "source": [
    "bool(-3.5)"
   ]
  },
  {
   "cell_type": "code",
   "execution_count": 30,
   "id": "77cd2e3f",
   "metadata": {
    "scrolled": true
   },
   "outputs": [
    {
     "data": {
      "text/plain": [
       "False"
      ]
     },
     "execution_count": 30,
     "metadata": {},
     "output_type": "execute_result"
    }
   ],
   "source": [
    "bool(0)"
   ]
  },
  {
   "cell_type": "markdown",
   "id": "e5e4ec07",
   "metadata": {},
   "source": [
    "# Expressões e operadores\n",
    "\n",
    "Expressões são operações realizadas pelo computador. Elas incluem operações descritas em Python.\n",
    "\n",
    "Expressões podem incluir operadores, como os correspondentes às operações aritiméticas e comparações.\n",
    "\n",
    "Uma lista de operadores detalhada pode ser obtida em [W3 Schools: Python Operators](https://www.w3schools.com/python/gloss_python_arithmetic_operators.asp)."
   ]
  },
  {
   "cell_type": "code",
   "execution_count": 31,
   "id": "704c40a6",
   "metadata": {},
   "outputs": [
    {
     "data": {
      "text/plain": [
       "1.5"
      ]
     },
     "execution_count": 31,
     "metadata": {},
     "output_type": "execute_result"
    }
   ],
   "source": [
    "1 * 2 / 4 + 1"
   ]
  },
  {
   "cell_type": "code",
   "execution_count": 32,
   "id": "63609dc7",
   "metadata": {},
   "outputs": [
    {
     "data": {
      "text/plain": [
       "0.4"
      ]
     },
     "execution_count": 32,
     "metadata": {},
     "output_type": "execute_result"
    }
   ],
   "source": [
    "1 * 2 / (4 + 1)"
   ]
  },
  {
   "cell_type": "code",
   "execution_count": 33,
   "id": "70794438",
   "metadata": {},
   "outputs": [
    {
     "data": {
      "text/plain": [
       "1"
      ]
     },
     "execution_count": 33,
     "metadata": {},
     "output_type": "execute_result"
    }
   ],
   "source": [
    "4 % 3"
   ]
  },
  {
   "cell_type": "code",
   "execution_count": 34,
   "id": "8cf27937",
   "metadata": {},
   "outputs": [
    {
     "data": {
      "text/plain": [
       "25"
      ]
     },
     "execution_count": 34,
     "metadata": {},
     "output_type": "execute_result"
    }
   ],
   "source": [
    "5 ** 2"
   ]
  },
  {
   "cell_type": "code",
   "execution_count": 35,
   "id": "f4a53d8b",
   "metadata": {},
   "outputs": [
    {
     "data": {
      "text/plain": [
       "2"
      ]
     },
     "execution_count": 35,
     "metadata": {},
     "output_type": "execute_result"
    }
   ],
   "source": [
    "5 // 2"
   ]
  },
  {
   "cell_type": "code",
   "execution_count": 36,
   "id": "657d7c01",
   "metadata": {},
   "outputs": [
    {
     "data": {
      "text/plain": [
       "True"
      ]
     },
     "execution_count": 36,
     "metadata": {},
     "output_type": "execute_result"
    }
   ],
   "source": [
    "3 == 3"
   ]
  },
  {
   "cell_type": "code",
   "execution_count": 37,
   "id": "6d19d0a4",
   "metadata": {},
   "outputs": [
    {
     "data": {
      "text/plain": [
       "True"
      ]
     },
     "execution_count": 37,
     "metadata": {},
     "output_type": "execute_result"
    }
   ],
   "source": [
    "3.0 == 3"
   ]
  },
  {
   "cell_type": "code",
   "execution_count": 38,
   "id": "11a85b42",
   "metadata": {
    "scrolled": true
   },
   "outputs": [
    {
     "data": {
      "text/plain": [
       "False"
      ]
     },
     "execution_count": 38,
     "metadata": {},
     "output_type": "execute_result"
    }
   ],
   "source": [
    "3 == 5"
   ]
  },
  {
   "cell_type": "code",
   "execution_count": 39,
   "id": "c7da6942",
   "metadata": {},
   "outputs": [
    {
     "data": {
      "text/plain": [
       "True"
      ]
     },
     "execution_count": 39,
     "metadata": {},
     "output_type": "execute_result"
    }
   ],
   "source": [
    "3 != 5"
   ]
  },
  {
   "cell_type": "code",
   "execution_count": 40,
   "id": "cb85b8e8",
   "metadata": {},
   "outputs": [
    {
     "data": {
      "text/plain": [
       "True"
      ]
     },
     "execution_count": 40,
     "metadata": {},
     "output_type": "execute_result"
    }
   ],
   "source": [
    "3 <= 4 or 4 > 5"
   ]
  },
  {
   "cell_type": "code",
   "execution_count": 41,
   "id": "58a49484",
   "metadata": {},
   "outputs": [
    {
     "data": {
      "text/plain": [
       "False"
      ]
     },
     "execution_count": 41,
     "metadata": {},
     "output_type": "execute_result"
    }
   ],
   "source": [
    "3 <= 4 and 4 > 5"
   ]
  },
  {
   "cell_type": "code",
   "execution_count": 42,
   "id": "ae033031",
   "metadata": {},
   "outputs": [
    {
     "data": {
      "text/plain": [
       "True"
      ]
     },
     "execution_count": 42,
     "metadata": {},
     "output_type": "execute_result"
    }
   ],
   "source": [
    "3 <= 4 and not 4 > 5"
   ]
  },
  {
   "cell_type": "markdown",
   "id": "107148ba",
   "metadata": {},
   "source": [
    "<font color = \"red\"><strong><u>Atenção</u>:</strong></font> `and` retorna o segundo valor quando o primeiro é avaliado como `True`, e o primeiro valor, quando ele é avaliado como `False`."
   ]
  },
  {
   "cell_type": "code",
   "execution_count": 3,
   "id": "e3f11f5e",
   "metadata": {},
   "outputs": [
    {
     "name": "stdout",
     "output_type": "stream",
     "text": [
      "None\n"
     ]
    }
   ],
   "source": [
    "x = None\n",
    "y = 10\n",
    "print(x and y)"
   ]
  },
  {
   "cell_type": "code",
   "execution_count": 4,
   "id": "5b668eba",
   "metadata": {},
   "outputs": [
    {
     "name": "stdout",
     "output_type": "stream",
     "text": [
      "\n"
     ]
    }
   ],
   "source": [
    "x = 10\n",
    "y = \"\"\n",
    "print(x and y)"
   ]
  },
  {
   "cell_type": "markdown",
   "id": "0203538d",
   "metadata": {},
   "source": [
    "Note que o Python associa a uma série de valores o valor booleano `False`:\n",
    " - False\n",
    " - None\n",
    " - \\[ \\] (uma lista vazia)\n",
    " - { } (um dicionário vazio)\n",
    " - \" \"\n",
    " - set( ) (um conjunto vazio)\n",
    " - 0\n",
    " - 0.0\n",
    " \n",
    "Quase todos os demais valores são associados a `True`."
   ]
  },
  {
   "cell_type": "markdown",
   "id": "747f2d8c",
   "metadata": {},
   "source": [
    "# Variáveis"
   ]
  },
  {
   "cell_type": "code",
   "execution_count": 43,
   "id": "79d86a56",
   "metadata": {},
   "outputs": [
    {
     "data": {
      "text/plain": [
       "8"
      ]
     },
     "execution_count": 43,
     "metadata": {},
     "output_type": "execute_result"
    }
   ],
   "source": [
    "x = 3\n",
    "y = 5\n",
    "x + y"
   ]
  },
  {
   "cell_type": "code",
   "execution_count": 44,
   "id": "d450e182",
   "metadata": {},
   "outputs": [
    {
     "data": {
      "text/plain": [
       "8"
      ]
     },
     "execution_count": 44,
     "metadata": {},
     "output_type": "execute_result"
    }
   ],
   "source": [
    "z = x + y\n",
    "z"
   ]
  },
  {
   "cell_type": "code",
   "execution_count": 45,
   "id": "49bdbb6a",
   "metadata": {},
   "outputs": [
    {
     "data": {
      "text/plain": [
       "True"
      ]
     },
     "execution_count": 45,
     "metadata": {},
     "output_type": "execute_result"
    }
   ],
   "source": [
    "z == 8  # Não confundir \"=\" e \"==\""
   ]
  },
  {
   "cell_type": "code",
   "execution_count": 46,
   "id": "31303490",
   "metadata": {},
   "outputs": [
    {
     "data": {
      "text/plain": [
       "10"
      ]
     },
     "execution_count": 46,
     "metadata": {},
     "output_type": "execute_result"
    }
   ],
   "source": [
    "z += 2\n",
    "z"
   ]
  },
  {
   "cell_type": "code",
   "execution_count": 47,
   "id": "0c7f3db6",
   "metadata": {},
   "outputs": [
    {
     "data": {
      "text/plain": [
       "'Valter Moreno'"
      ]
     },
     "execution_count": 47,
     "metadata": {},
     "output_type": "execute_result"
    }
   ],
   "source": [
    "meu_nome = \"Valter Moreno\"\n",
    "meu_nome"
   ]
  },
  {
   "cell_type": "code",
   "execution_count": 48,
   "id": "22d2441e",
   "metadata": {},
   "outputs": [
    {
     "data": {
      "text/plain": [
       "True"
      ]
     },
     "execution_count": 48,
     "metadata": {},
     "output_type": "execute_result"
    }
   ],
   "source": [
    "valor_lógico = True\n",
    "valor_lógico"
   ]
  },
  {
   "cell_type": "code",
   "execution_count": 49,
   "id": "f364817f",
   "metadata": {
    "scrolled": true
   },
   "outputs": [
    {
     "data": {
      "text/plain": [
       "False"
      ]
     },
     "execution_count": 49,
     "metadata": {},
     "output_type": "execute_result"
    }
   ],
   "source": [
    "not valor_lógico"
   ]
  },
  {
   "cell_type": "markdown",
   "id": "76148b46",
   "metadata": {},
   "source": [
    "# Apresentação de resultados"
   ]
  },
  {
   "cell_type": "markdown",
   "id": "c86cb9f7",
   "metadata": {},
   "source": [
    "Pode-se usar diferentes métodos para formatar a apresentação de resultados usando a função `print`. Veja, por exemplo, [este post](https://www.freecodecamp.org/news/python-string-format-python-s-print-format-example/)."
   ]
  },
  {
   "cell_type": "code",
   "execution_count": 50,
   "id": "bbc198ab",
   "metadata": {},
   "outputs": [],
   "source": [
    "texto = \"Valter Moreno\""
   ]
  },
  {
   "cell_type": "code",
   "execution_count": 51,
   "id": "5808dd6f",
   "metadata": {},
   "outputs": [
    {
     "name": "stdout",
     "output_type": "stream",
     "text": [
      "A cadeia de caracteres tem comprimento 13 .\n"
     ]
    }
   ],
   "source": [
    "print(\"A cadeia de caracteres tem comprimento\", len(texto), \".\")"
   ]
  },
  {
   "cell_type": "code",
   "execution_count": 52,
   "id": "740c3ead",
   "metadata": {},
   "outputs": [
    {
     "name": "stdout",
     "output_type": "stream",
     "text": [
      "A cadeia de caracteres tem comprimento 13.\n"
     ]
    }
   ],
   "source": [
    "print(\"A cadeia de caracteres tem comprimento {}.\".format(len(texto)))"
   ]
  },
  {
   "cell_type": "code",
   "execution_count": 53,
   "id": "66355dcc",
   "metadata": {
    "scrolled": true
   },
   "outputs": [
    {
     "name": "stdout",
     "output_type": "stream",
     "text": [
      "A variável tem 13 caracteres.\n",
      "A variável tem 13.000000 caracteres.\n",
      "A variável tem 13.00 caracteres.\n"
     ]
    }
   ],
   "source": [
    "print(\"A variável tem %s caracteres.\" % len(texto))\n",
    "print(\"A variável tem %f caracteres.\" % len(texto))\n",
    "print(\"A variável tem %.2f caracteres.\" % len(texto))"
   ]
  },
  {
   "cell_type": "code",
   "execution_count": 54,
   "id": "d85dd662",
   "metadata": {},
   "outputs": [
    {
     "name": "stdout",
     "output_type": "stream",
     "text": [
      "Meu nome é Valter, e meu sobrenome, Moreno.\n"
     ]
    }
   ],
   "source": [
    "nome = \"Valter\"\n",
    "sobrenome = \"Moreno\"\n",
    "\n",
    "print(\"Meu nome é {0}, e meu sobrenome, {1}.\".format(nome, sobrenome))"
   ]
  },
  {
   "cell_type": "markdown",
   "id": "c665e4a3",
   "metadata": {},
   "source": [
    "A partir da versão 3.6, podemos gerar o mesmo resultado de uma forma mais simples:"
   ]
  },
  {
   "cell_type": "code",
   "execution_count": 1,
   "id": "21204856",
   "metadata": {},
   "outputs": [
    {
     "name": "stdout",
     "output_type": "stream",
     "text": [
      "Meu nome é Valter, e meu sobrenome, Moreno.\n"
     ]
    }
   ],
   "source": [
    "nome = \"Valter\"\n",
    "sobrenome = \"Moreno\"\n",
    "\n",
    "print(f\"Meu nome é {nome}, e meu sobrenome, {sobrenome}.\")"
   ]
  },
  {
   "cell_type": "code",
   "execution_count": 15,
   "id": "12c3d16a",
   "metadata": {},
   "outputs": [
    {
     "data": {
      "text/plain": [
       "'Meu nome é Valter, e meu sobrenome, Moreno.'"
      ]
     },
     "execution_count": 15,
     "metadata": {},
     "output_type": "execute_result"
    }
   ],
   "source": [
    "meu_nome = f\"Meu nome é {nome}, e meu sobrenome, {sobrenome}.\"\n",
    "meu_nome"
   ]
  },
  {
   "cell_type": "markdown",
   "id": "721da2bc",
   "metadata": {},
   "source": [
    "A página [Python Escape Characters](https://www.w3schools.com/python/gloss_python_escape_characters.asp) apresenta os vários caracteres especiais em Python, como `\\n` (quebra de linha)."
   ]
  },
  {
   "cell_type": "code",
   "execution_count": 55,
   "id": "887360d5",
   "metadata": {},
   "outputs": [
    {
     "data": {
      "text/plain": [
       "'Meu nome é Valter Moreno.\\nQual é o seu nome?'"
      ]
     },
     "execution_count": 55,
     "metadata": {},
     "output_type": "execute_result"
    }
   ],
   "source": [
    "meu_nome = \"Meu nome é Valter Moreno.\\nQual é o seu nome?\"\n",
    "meu_nome"
   ]
  },
  {
   "cell_type": "code",
   "execution_count": 56,
   "id": "e87a2743",
   "metadata": {
    "scrolled": true
   },
   "outputs": [
    {
     "name": "stdout",
     "output_type": "stream",
     "text": [
      "Meu nome é Valter Moreno.\n",
      "Qual é o seu nome?\n"
     ]
    }
   ],
   "source": [
    "print(meu_nome)  # A função print interpreta os caracteres especiais"
   ]
  },
  {
   "cell_type": "code",
   "execution_count": 57,
   "id": "661052c9",
   "metadata": {
    "scrolled": true
   },
   "outputs": [
    {
     "name": "stdout",
     "output_type": "stream",
     "text": [
      "Usamos `\\` antes de um caracter especial\n",
      "para que ele seja interpretado literalmente: \\n\n"
     ]
    }
   ],
   "source": [
    "print(\"Usamos `\\` antes de um caracter especial\\npara que ele seja interpretado literalmente: \\\\n\")"
   ]
  },
  {
   "cell_type": "code",
   "execution_count": 58,
   "id": "9cbc515b",
   "metadata": {},
   "outputs": [
    {
     "name": "stdout",
     "output_type": "stream",
     "text": [
      "Esta é a contrabarra: \\\n"
     ]
    }
   ],
   "source": [
    "print(\"Esta é a contrabarra: \\\\\")"
   ]
  },
  {
   "cell_type": "code",
   "execution_count": 59,
   "id": "51311204",
   "metadata": {},
   "outputs": [
    {
     "name": "stdout",
     "output_type": "stream",
     "text": [
      "Também podemos usar `r` antes da cadeia de caracteres: \\ \\n \\t\n"
     ]
    }
   ],
   "source": [
    "print(r\"Também podemos usar `r` antes da cadeia de caracteres: \\ \\n \\t\")"
   ]
  },
  {
   "cell_type": "code",
   "execution_count": 12,
   "id": "cfbe0740",
   "metadata": {},
   "outputs": [
    {
     "data": {
      "text/plain": [
       "'Use três aspas seguidas para criar \\ncadeias de caracteres distribuídas\\npor várias linhas. \\nO caracter especial \\\\n é inserido \\nautomaticamente'"
      ]
     },
     "execution_count": 12,
     "metadata": {},
     "output_type": "execute_result"
    }
   ],
   "source": [
    "texto = \"\"\"Use três aspas seguidas para criar \n",
    "cadeias de caracteres distribuídas\n",
    "por várias linhas. \n",
    "O caracter especial \\\\n é inserido \n",
    "automaticamente\"\"\"\n",
    "\n",
    "texto"
   ]
  },
  {
   "cell_type": "code",
   "execution_count": 13,
   "id": "b79d4896",
   "metadata": {},
   "outputs": [
    {
     "name": "stdout",
     "output_type": "stream",
     "text": [
      "Use três aspas seguidas para criar \n",
      "cadeias de caracteres distribuídas\n",
      "por várias linhas. \n",
      "O caracter especial \\n é inserido \n",
      "automaticamente\n"
     ]
    }
   ],
   "source": [
    "print(texto)"
   ]
  },
  {
   "cell_type": "markdown",
   "id": "1b67e62e",
   "metadata": {},
   "source": [
    "# Operações com cadeias de caracteres"
   ]
  },
  {
   "cell_type": "code",
   "execution_count": 60,
   "id": "4d7ed202",
   "metadata": {},
   "outputs": [],
   "source": [
    "meu_nome = \"Valter Moreno\""
   ]
  },
  {
   "cell_type": "code",
   "execution_count": 61,
   "id": "8d23c9d9",
   "metadata": {},
   "outputs": [
    {
     "data": {
      "text/plain": [
       "'Meu nome é Valter Moreno. Qual é o seu nome?'"
      ]
     },
     "execution_count": 61,
     "metadata": {},
     "output_type": "execute_result"
    }
   ],
   "source": [
    "meu_nome = \"Meu nome é \" + meu_nome + \". Qual é o seu nome?\" # Concatenação\n",
    "meu_nome"
   ]
  },
  {
   "cell_type": "code",
   "execution_count": 62,
   "id": "d771f448",
   "metadata": {
    "scrolled": false
   },
   "outputs": [
    {
     "name": "stdout",
     "output_type": "stream",
     "text": [
      "Meu nome é Valter Moreno. Qual é o seu nome?\n",
      "Meu nome é Valter Moreno. Qual é o seu nome?\n",
      "Meu nome é Valter Moreno. Qual é o seu nome?\n",
      "Meu nome é Valter Moreno. Qual é o seu nome?\n",
      "Meu nome é Valter Moreno. Qual é o seu nome?\n",
      "\n"
     ]
    }
   ],
   "source": [
    "print(5 * (meu_nome + \"\\n\"))  # Repetição"
   ]
  },
  {
   "cell_type": "markdown",
   "id": "f13574a4",
   "metadata": {},
   "source": [
    "O tipo `string` inclui vários **métodos** para a manipulação de cadeias de caracteres."
   ]
  },
  {
   "cell_type": "code",
   "execution_count": 63,
   "id": "2fb11fb8",
   "metadata": {},
   "outputs": [
    {
     "name": "stdout",
     "output_type": "stream",
     "text": [
      "MEU NOME É VALTER MORENO. QUAL É O SEU NOME?\n",
      "meu nome é valter moreno. qual é o seu nome?\n"
     ]
    }
   ],
   "source": [
    "print(meu_nome.upper())\n",
    "print(meu_nome.lower())"
   ]
  },
  {
   "cell_type": "code",
   "execution_count": 64,
   "id": "68b8b861",
   "metadata": {},
   "outputs": [
    {
     "name": "stdout",
     "output_type": "stream",
     "text": [
      "Em que posição está o `t`? 14\n",
      "Em que posição está o `T`? -1\n"
     ]
    }
   ],
   "source": [
    "# Atenção: o Python diferencia maiúsculas e minúsculas\n",
    "print(\"Em que posição está o `t`?\", meu_nome.find(\"t\"))\n",
    "print(\"Em que posição está o `T`?\", meu_nome.find(\"T\"))"
   ]
  },
  {
   "cell_type": "code",
   "execution_count": 65,
   "id": "770aeede",
   "metadata": {
    "scrolled": true
   },
   "outputs": [
    {
     "name": "stdout",
     "output_type": "stream",
     "text": [
      "M*u nom* é Valt*r Mor*no. Qual é o s*u nom*?\n"
     ]
    }
   ],
   "source": [
    "print(meu_nome.replace(\"e\", \"*\"))"
   ]
  },
  {
   "cell_type": "code",
   "execution_count": 66,
   "id": "fafe5f50",
   "metadata": {},
   "outputs": [
    {
     "data": {
      "text/plain": [
       "['Meu', 'nome', 'é', 'Valter', 'Moreno.', 'Qual', 'é', 'o', 'seu', 'nome?']"
      ]
     },
     "execution_count": 66,
     "metadata": {},
     "output_type": "execute_result"
    }
   ],
   "source": [
    "meu_nome.split()  # O resultado é uma lista dos termos separados por \" \""
   ]
  },
  {
   "cell_type": "markdown",
   "id": "ac72bc38",
   "metadata": {},
   "source": [
    "# Estruturas de dados"
   ]
  },
  {
   "cell_type": "markdown",
   "id": "2cdd0998",
   "metadata": {},
   "source": [
    "## Tuplas"
   ]
  },
  {
   "cell_type": "markdown",
   "id": "78ca1249",
   "metadata": {},
   "source": [
    "Tuplas são sequências ordenadas de dados."
   ]
  },
  {
   "cell_type": "code",
   "execution_count": 67,
   "id": "eb9a9418",
   "metadata": {},
   "outputs": [
    {
     "data": {
      "text/plain": [
       "(1, 2, 3.5, 'Valter', True, True)"
      ]
     },
     "execution_count": 67,
     "metadata": {},
     "output_type": "execute_result"
    }
   ],
   "source": [
    "minha_tupla = (1, 2, 3.5, \"Valter\", True, True)\n",
    "minha_tupla"
   ]
  },
  {
   "cell_type": "code",
   "execution_count": 68,
   "id": "f576937b",
   "metadata": {
    "scrolled": true
   },
   "outputs": [
    {
     "name": "stdout",
     "output_type": "stream",
     "text": [
      "O tamanho da tupla é 6\n"
     ]
    }
   ],
   "source": [
    "print(\"O tamanho da tupla é\", len(minha_tupla))"
   ]
  },
  {
   "cell_type": "code",
   "execution_count": 69,
   "id": "5c1a36a1",
   "metadata": {},
   "outputs": [
    {
     "data": {
      "text/plain": [
       "tuple"
      ]
     },
     "execution_count": 69,
     "metadata": {},
     "output_type": "execute_result"
    }
   ],
   "source": [
    "type(minha_tupla)"
   ]
  },
  {
   "cell_type": "code",
   "execution_count": 70,
   "id": "18ffb0ac",
   "metadata": {},
   "outputs": [
    {
     "data": {
      "text/plain": [
       "(1, 2, 3.5, 'Valter', True, True, 'Moreno', 10.5, False, (10+3j))"
      ]
     },
     "execution_count": 70,
     "metadata": {},
     "output_type": "execute_result"
    }
   ],
   "source": [
    "minha_tupla = minha_tupla + (\"Moreno\", 10.5, False, 10 + 3j)  # Concatenação de tuplas\n",
    "minha_tupla"
   ]
  },
  {
   "cell_type": "markdown",
   "id": "b35485d4",
   "metadata": {},
   "source": [
    "Tuplas são **imutáveis**."
   ]
  },
  {
   "cell_type": "code",
   "execution_count": 71,
   "id": "473fe945",
   "metadata": {},
   "outputs": [
    {
     "ename": "TypeError",
     "evalue": "'tuple' object does not support item assignment",
     "output_type": "error",
     "traceback": [
      "\u001b[1;31m---------------------------------------------------------------------------\u001b[0m",
      "\u001b[1;31mTypeError\u001b[0m                                 Traceback (most recent call last)",
      "\u001b[1;32m~\\AppData\\Local\\Temp/ipykernel_16736/2924860103.py\u001b[0m in \u001b[0;36m<module>\u001b[1;34m\u001b[0m\n\u001b[0;32m      1\u001b[0m \u001b[1;31m# Esta expressão gera um erro:\u001b[0m\u001b[1;33m\u001b[0m\u001b[1;33m\u001b[0m\u001b[1;33m\u001b[0m\u001b[0m\n\u001b[1;32m----> 2\u001b[1;33m \u001b[0mminha_tupla\u001b[0m\u001b[1;33m[\u001b[0m\u001b[1;36m0\u001b[0m\u001b[1;33m]\u001b[0m \u001b[1;33m=\u001b[0m \u001b[1;36m10\u001b[0m\u001b[1;33m\u001b[0m\u001b[1;33m\u001b[0m\u001b[0m\n\u001b[0m",
      "\u001b[1;31mTypeError\u001b[0m: 'tuple' object does not support item assignment"
     ]
    }
   ],
   "source": [
    "# Esta expressão gera um erro:\n",
    "minha_tupla[0] = 10"
   ]
  },
  {
   "cell_type": "markdown",
   "id": "44ffe704",
   "metadata": {},
   "source": [
    "Há alguns **métodos** associados a tuplas:"
   ]
  },
  {
   "cell_type": "code",
   "execution_count": 72,
   "id": "1e96d11f",
   "metadata": {},
   "outputs": [
    {
     "data": {
      "text/plain": [
       "2"
      ]
     },
     "execution_count": 72,
     "metadata": {},
     "output_type": "execute_result"
    }
   ],
   "source": [
    "tupla1 = (1, 3, -2, 3)\n",
    "tupla1.count(3)"
   ]
  },
  {
   "cell_type": "code",
   "execution_count": 73,
   "id": "86a246fd",
   "metadata": {},
   "outputs": [
    {
     "data": {
      "text/plain": [
       "2"
      ]
     },
     "execution_count": 73,
     "metadata": {},
     "output_type": "execute_result"
    }
   ],
   "source": [
    "tupla1.index(-2)"
   ]
  },
  {
   "cell_type": "markdown",
   "id": "c9f46ed4",
   "metadata": {},
   "source": [
    "Algumas **funções** podem receber tuplas como argumento."
   ]
  },
  {
   "cell_type": "code",
   "execution_count": 74,
   "id": "f01967d6",
   "metadata": {},
   "outputs": [
    {
     "data": {
      "text/plain": [
       "[-2, 1, 3, 3]"
      ]
     },
     "execution_count": 74,
     "metadata": {},
     "output_type": "execute_result"
    }
   ],
   "source": [
    "sorted(tupla1)"
   ]
  },
  {
   "cell_type": "markdown",
   "id": "e6df8720",
   "metadata": {},
   "source": [
    "## Listas"
   ]
  },
  {
   "cell_type": "markdown",
   "id": "f3bfc190",
   "metadata": {},
   "source": [
    "Listas também são sequências ordenadas de dados, mas são **mutáveis**. "
   ]
  },
  {
   "cell_type": "code",
   "execution_count": 75,
   "id": "a0ed8c1f",
   "metadata": {
    "scrolled": true
   },
   "outputs": [
    {
     "data": {
      "text/plain": [
       "[1, True, 5100.0, (3+2j), 'Valter Moreno']"
      ]
     },
     "execution_count": 75,
     "metadata": {},
     "output_type": "execute_result"
    }
   ],
   "source": [
    "minha_lista = [1, True, 5.1e3, (3 + 2j), \"Valter Moreno\"]\n",
    "minha_lista"
   ]
  },
  {
   "cell_type": "code",
   "execution_count": 76,
   "id": "d8c579b2",
   "metadata": {},
   "outputs": [
    {
     "name": "stdout",
     "output_type": "stream",
     "text": [
      "Tamanho de minha_lista: 5\n",
      "Tipo: <class 'list'>\n"
     ]
    }
   ],
   "source": [
    "print(\"Tamanho de minha_lista:\", len(minha_lista))\n",
    "print(\"Tipo:\", type(minha_lista))"
   ]
  },
  {
   "cell_type": "code",
   "execution_count": 77,
   "id": "897ad5d0",
   "metadata": {},
   "outputs": [
    {
     "data": {
      "text/plain": [
       "[]"
      ]
     },
     "execution_count": 77,
     "metadata": {},
     "output_type": "execute_result"
    }
   ],
   "source": [
    "lista_vazia = []\n",
    "lista_vazia"
   ]
  },
  {
   "cell_type": "markdown",
   "id": "acbc4a78",
   "metadata": {},
   "source": [
    "Pode-se usar a função `list` para criar listas a partir de tuplas."
   ]
  },
  {
   "cell_type": "code",
   "execution_count": 78,
   "id": "d209fea8",
   "metadata": {},
   "outputs": [
    {
     "data": {
      "text/plain": [
       "[1, True, 5100.0, (3+2j), 'Valter Moreno']"
      ]
     },
     "execution_count": 78,
     "metadata": {},
     "output_type": "execute_result"
    }
   ],
   "source": [
    "minha_lista = list((1, True, 5.1e3, (3 + 2j), \"Valter Moreno\"))\n",
    "minha_lista"
   ]
  },
  {
   "cell_type": "code",
   "execution_count": 79,
   "id": "f98246b1",
   "metadata": {},
   "outputs": [
    {
     "data": {
      "text/plain": [
       "[]"
      ]
     },
     "execution_count": 79,
     "metadata": {},
     "output_type": "execute_result"
    }
   ],
   "source": [
    "lista_vazia = list()\n",
    "lista_vazia"
   ]
  },
  {
   "cell_type": "markdown",
   "id": "19171884",
   "metadata": {},
   "source": [
    "O conteúdo de uma lista pode ser alterado."
   ]
  },
  {
   "cell_type": "code",
   "execution_count": 80,
   "id": "9c9d5805",
   "metadata": {
    "scrolled": true
   },
   "outputs": [
    {
     "data": {
      "text/plain": [
       "['novo valor', True, 5100.0, (3+2j), 'Valter Moreno']"
      ]
     },
     "execution_count": 80,
     "metadata": {},
     "output_type": "execute_result"
    }
   ],
   "source": [
    "minha_lista[0] = \"novo valor\"\n",
    "minha_lista"
   ]
  },
  {
   "cell_type": "code",
   "execution_count": 81,
   "id": "b5821ef2",
   "metadata": {},
   "outputs": [
    {
     "data": {
      "text/plain": [
       "['novo valor', True, 5100.0, (3+2j), 'Valter Moreno', 10, 20]"
      ]
     },
     "execution_count": 81,
     "metadata": {},
     "output_type": "execute_result"
    }
   ],
   "source": [
    "minha_lista = minha_lista + [10, 20]  # Concatenação de listas (similar a strings)\n",
    "minha_lista"
   ]
  },
  {
   "cell_type": "markdown",
   "id": "682656f3",
   "metadata": {},
   "source": [
    "<font color=\"red\"><strong><u>Atenção</u>:</strong></font> Quando atribuímos uma variável que contém uma lista a outra variável, ambas passam a fazer referência ao mesmo conjunto de dados guardados na memória do computador. Isso é chamado **_aliasing_** em Python."
   ]
  },
  {
   "cell_type": "code",
   "execution_count": 82,
   "id": "57f1867e",
   "metadata": {},
   "outputs": [
    {
     "name": "stdout",
     "output_type": "stream",
     "text": [
      "[1, 2, 3] 2146917629376\n",
      "[1, 2, 3] 2146917629376\n"
     ]
    }
   ],
   "source": [
    "lista0 = [1, 2, 3]\n",
    "lista1 = lista0\n",
    "print(lista0, id(lista0))  # lista e local dos dados na memória\n",
    "print(lista1, id(lista1))"
   ]
  },
  {
   "cell_type": "code",
   "execution_count": 83,
   "id": "11f39918",
   "metadata": {},
   "outputs": [
    {
     "name": "stdout",
     "output_type": "stream",
     "text": [
      "[1, 'novo valor', 3] 2146917629376\n",
      "[1, 'novo valor', 3] 2146917629376\n"
     ]
    }
   ],
   "source": [
    "lista0[1] = \"novo valor\"\n",
    "print(lista0, id(lista0))  # As duas listas apontam para o mesmo local\n",
    "print(lista1, id(lista1))"
   ]
  },
  {
   "cell_type": "code",
   "execution_count": 84,
   "id": "8f3cf7ae",
   "metadata": {},
   "outputs": [
    {
     "name": "stdout",
     "output_type": "stream",
     "text": [
      "[1, -1, 3] 2146917629376\n",
      "[1, -1, 3] 2146917629376\n",
      "[1, 'novo valor', 3] 2146938678080\n"
     ]
    }
   ],
   "source": [
    "lista2 = lista0.copy()  # É feita uma cópia dos dados contidos na memória\n",
    "lista0[1] = -1\n",
    "print(lista0, id(lista0))\n",
    "print(lista1, id(lista1))\n",
    "print(lista2, id(lista2))  # lista2 aponta para outro local"
   ]
  },
  {
   "cell_type": "code",
   "execution_count": 85,
   "id": "06ac4002",
   "metadata": {},
   "outputs": [
    {
     "name": "stdout",
     "output_type": "stream",
     "text": [
      "[1, '*', 3]\n",
      "[1, -1, 3]\n"
     ]
    }
   ],
   "source": [
    "# Também podemos fazer uma cópia usando os próprios dados contidos na lista:\n",
    "lista3 = lista0[:]\n",
    "lista0[1] = \"*\"\n",
    "print(lista0)\n",
    "print(lista3)"
   ]
  },
  {
   "cell_type": "markdown",
   "id": "f5ee723d",
   "metadata": {},
   "source": [
    "<font color=\"red\"><strong><u>Atenção</u>:</strong></font> os operadores `+` e `+=` (concatenação) e `*` e `*=` (repetição) geram resultados diferentes internamente no computador."
   ]
  },
  {
   "cell_type": "code",
   "execution_count": 86,
   "id": "f8e7fe44",
   "metadata": {},
   "outputs": [
    {
     "name": "stdout",
     "output_type": "stream",
     "text": [
      "Endereço na memória para lista0: 2146939609920\n"
     ]
    }
   ],
   "source": [
    "lista0 = [\"a\", \"b\"]\n",
    "lista1 = [\"c\"]\n",
    "print(\"Endereço na memória para lista0:\", id(lista0))"
   ]
  },
  {
   "cell_type": "code",
   "execution_count": 87,
   "id": "163a02a0",
   "metadata": {
    "scrolled": true
   },
   "outputs": [
    {
     "name": "stdout",
     "output_type": "stream",
     "text": [
      "lista0: ['a', 'b', 'c']\n",
      "Endereço na memória para lista0: 2146938787392\n"
     ]
    }
   ],
   "source": [
    "lista0 = lista0 + lista1   # É feita uma cópia da lista original na memória\n",
    "print(\"lista0:\", lista0)\n",
    "print(\"Endereço na memória para lista0:\", id(lista0))  # lista0 passa para outro local da memória"
   ]
  },
  {
   "cell_type": "code",
   "execution_count": 88,
   "id": "d026d554",
   "metadata": {
    "scrolled": false
   },
   "outputs": [
    {
     "name": "stdout",
     "output_type": "stream",
     "text": [
      "lista0: ['a', 'b', 'c', 'c']\n",
      "Endereço na memória para lista0: 2146938787392\n"
     ]
    }
   ],
   "source": [
    "lista0 += lista1           # A lista original é alterada\n",
    "print(\"lista0:\", lista0)\n",
    "print(\"Endereço na memória para lista0:\", id(lista0))  # O local da memória é o mesmo"
   ]
  },
  {
   "cell_type": "code",
   "execution_count": 89,
   "id": "04aaa8f4",
   "metadata": {
    "scrolled": true
   },
   "outputs": [
    {
     "name": "stdout",
     "output_type": "stream",
     "text": [
      "lista1: ['c']\n",
      "Endereço na memória para lista1: 2146938780224\n"
     ]
    }
   ],
   "source": [
    "print(\"lista1:\", lista1)\n",
    "print(\"Endereço na memória para lista1:\", id(lista1))"
   ]
  },
  {
   "cell_type": "code",
   "execution_count": 90,
   "id": "1eae1618",
   "metadata": {
    "scrolled": false
   },
   "outputs": [
    {
     "name": "stdout",
     "output_type": "stream",
     "text": [
      "lista1: ['c', 'c']\n",
      "Endereço na memória para lista1: 2146938779840\n"
     ]
    }
   ],
   "source": [
    "lista1 = 2*lista1\n",
    "print(\"lista1:\", lista1)\n",
    "print(\"Endereço na memória para lista1:\", id(lista1))  # O local da memória é diferente"
   ]
  },
  {
   "cell_type": "code",
   "execution_count": 91,
   "id": "48284f93",
   "metadata": {
    "scrolled": false
   },
   "outputs": [
    {
     "name": "stdout",
     "output_type": "stream",
     "text": [
      "lista1: ['c', 'c', 'c', 'c']\n",
      "Endereço na memória para lista1: 2146938779840\n"
     ]
    }
   ],
   "source": [
    "lista1 *= 2\n",
    "print(\"lista1:\", lista1)\n",
    "print(\"Endereço na memória para lista1:\", id(lista1))  # O local é mantido"
   ]
  },
  {
   "cell_type": "markdown",
   "id": "78937534",
   "metadata": {},
   "source": [
    "Como os operadores `+=` e `*=` não copiam dados para outros locais na memória, eles são mais rápidos."
   ]
  },
  {
   "cell_type": "markdown",
   "id": "2767a621",
   "metadata": {},
   "source": [
    "Há vários **métodos** definidos para listas, além dos exemplos a seguir. Em geral, esses métodos alteram as próprias listas. Para mais exemplos, consulte a página [W3 Schools: Python List/Array Methods](https://www.w3schools.com/python/python_ref_list.asp)"
   ]
  },
  {
   "cell_type": "code",
   "execution_count": 92,
   "id": "4c5bff6f",
   "metadata": {},
   "outputs": [
    {
     "data": {
      "text/plain": [
       "[1, 2, 3]"
      ]
     },
     "execution_count": 92,
     "metadata": {},
     "output_type": "execute_result"
    }
   ],
   "source": [
    "minha_lista = [1, 2, 3]\n",
    "minha_lista"
   ]
  },
  {
   "cell_type": "code",
   "execution_count": 93,
   "id": "f7d073dc",
   "metadata": {},
   "outputs": [
    {
     "data": {
      "text/plain": [
       "[1, 2, 3, [5, 6]]"
      ]
     },
     "execution_count": 93,
     "metadata": {},
     "output_type": "execute_result"
    }
   ],
   "source": [
    "minha_lista.append([5, 6])\n",
    "minha_lista"
   ]
  },
  {
   "cell_type": "code",
   "execution_count": 94,
   "id": "9b53a799",
   "metadata": {},
   "outputs": [
    {
     "data": {
      "text/plain": [
       "[1, 2, 3, [5, 6], 7, 8, 9]"
      ]
     },
     "execution_count": 94,
     "metadata": {},
     "output_type": "execute_result"
    }
   ],
   "source": [
    "minha_lista.extend([7, 8, 9])\n",
    "minha_lista"
   ]
  },
  {
   "cell_type": "code",
   "execution_count": 95,
   "id": "a1c09796",
   "metadata": {},
   "outputs": [
    {
     "data": {
      "text/plain": [
       "[1, 2, 3, 7, 8, 9]"
      ]
     },
     "execution_count": 95,
     "metadata": {},
     "output_type": "execute_result"
    }
   ],
   "source": [
    "minha_lista.pop(3)\n",
    "minha_lista"
   ]
  },
  {
   "cell_type": "code",
   "execution_count": 96,
   "id": "abaf806d",
   "metadata": {},
   "outputs": [
    {
     "data": {
      "text/plain": [
       "[1, 2, 3, ['alfa', 'beta'], 7, 8, 9]"
      ]
     },
     "execution_count": 96,
     "metadata": {},
     "output_type": "execute_result"
    }
   ],
   "source": [
    "minha_lista.insert(3, [\"alfa\", \"beta\"])\n",
    "minha_lista"
   ]
  },
  {
   "cell_type": "code",
   "execution_count": 97,
   "id": "961b4c8f",
   "metadata": {},
   "outputs": [
    {
     "data": {
      "text/plain": [
       "[9, 8, 7, ['alfa', 'beta'], 3, 2, 1]"
      ]
     },
     "execution_count": 97,
     "metadata": {},
     "output_type": "execute_result"
    }
   ],
   "source": [
    "minha_lista.reverse()\n",
    "minha_lista"
   ]
  },
  {
   "cell_type": "code",
   "execution_count": 98,
   "id": "a0bbcf61",
   "metadata": {
    "scrolled": true
   },
   "outputs": [
    {
     "data": {
      "text/plain": [
       "[-1, 1, 2, 3, 5]"
      ]
     },
     "execution_count": 98,
     "metadata": {},
     "output_type": "execute_result"
    }
   ],
   "source": [
    "minha_lista = [1, 5, 2, 3, -1]\n",
    "minha_lista.sort()\n",
    "minha_lista"
   ]
  },
  {
   "cell_type": "markdown",
   "id": "dc5bbe1f",
   "metadata": {},
   "source": [
    "## Indexação e fatiamento (*slicing*)"
   ]
  },
  {
   "cell_type": "code",
   "execution_count": 99,
   "id": "ed139957",
   "metadata": {},
   "outputs": [
    {
     "name": "stdout",
     "output_type": "stream",
     "text": [
      "(1, 2, 3.5, 'Valter', True, 'Moreno', 10.5, False, (10+3j))\n"
     ]
    }
   ],
   "source": [
    "minha_tupla = (1, 2, 3.5, 'Valter', True, 'Moreno', 10.5, False, (10+3j))\n",
    "print(minha_tupla)"
   ]
  },
  {
   "cell_type": "code",
   "execution_count": 100,
   "id": "1e0815ab",
   "metadata": {},
   "outputs": [
    {
     "data": {
      "text/plain": [
       "1"
      ]
     },
     "execution_count": 100,
     "metadata": {},
     "output_type": "execute_result"
    }
   ],
   "source": [
    "minha_tupla[0]"
   ]
  },
  {
   "cell_type": "code",
   "execution_count": 101,
   "id": "088e7126",
   "metadata": {
    "scrolled": true
   },
   "outputs": [
    {
     "data": {
      "text/plain": [
       "(1, 2)"
      ]
     },
     "execution_count": 101,
     "metadata": {},
     "output_type": "execute_result"
    }
   ],
   "source": [
    "minha_tupla[0:2]"
   ]
  },
  {
   "cell_type": "code",
   "execution_count": 102,
   "id": "3130901c",
   "metadata": {},
   "outputs": [
    {
     "data": {
      "text/plain": [
       "(1, 2, 3.5)"
      ]
     },
     "execution_count": 102,
     "metadata": {},
     "output_type": "execute_result"
    }
   ],
   "source": [
    "minha_tupla[:3]"
   ]
  },
  {
   "cell_type": "markdown",
   "id": "95d48cde",
   "metadata": {},
   "source": [
    "<font color=\"red\"><strong>Cuidado com o uso de <u>números negativos</u> nos índices!</strong></font>"
   ]
  },
  {
   "cell_type": "code",
   "execution_count": 103,
   "id": "fb1adc7b",
   "metadata": {
    "scrolled": true
   },
   "outputs": [
    {
     "data": {
      "text/plain": [
       "(10+3j)"
      ]
     },
     "execution_count": 103,
     "metadata": {},
     "output_type": "execute_result"
    }
   ],
   "source": [
    "minha_tupla[-1]"
   ]
  },
  {
   "cell_type": "code",
   "execution_count": 104,
   "id": "95fd1d99",
   "metadata": {},
   "outputs": [
    {
     "data": {
      "text/plain": [
       "(1, 2, 3.5, 'Valter', True, 'Moreno', 10.5, False)"
      ]
     },
     "execution_count": 104,
     "metadata": {},
     "output_type": "execute_result"
    }
   ],
   "source": [
    "minha_tupla[:-1]"
   ]
  },
  {
   "cell_type": "code",
   "execution_count": 105,
   "id": "cc92a001",
   "metadata": {},
   "outputs": [
    {
     "data": {
      "text/plain": [
       "(10.5, False)"
      ]
     },
     "execution_count": 105,
     "metadata": {},
     "output_type": "execute_result"
    }
   ],
   "source": [
    "minha_tupla[-3:-1]"
   ]
  },
  {
   "cell_type": "code",
   "execution_count": 106,
   "id": "b1ecfdd8",
   "metadata": {},
   "outputs": [
    {
     "data": {
      "text/plain": [
       "()"
      ]
     },
     "execution_count": 106,
     "metadata": {},
     "output_type": "execute_result"
    }
   ],
   "source": [
    "minha_tupla[-3:1]"
   ]
  },
  {
   "cell_type": "markdown",
   "id": "64695497",
   "metadata": {},
   "source": [
    "O mesmo se aplica a listas:"
   ]
  },
  {
   "cell_type": "code",
   "execution_count": 107,
   "id": "a9c1790c",
   "metadata": {},
   "outputs": [
    {
     "data": {
      "text/plain": [
       "[1, 0.5, 'Valter', True, (1+2j)]"
      ]
     },
     "execution_count": 107,
     "metadata": {},
     "output_type": "execute_result"
    }
   ],
   "source": [
    "minha_lista = [1, .5, 'Valter', True, (1+2.j)]\n",
    "minha_lista"
   ]
  },
  {
   "cell_type": "code",
   "execution_count": 108,
   "id": "4deaf351",
   "metadata": {},
   "outputs": [
    {
     "data": {
      "text/plain": [
       "[1, 0.5, 'Valter']"
      ]
     },
     "execution_count": 108,
     "metadata": {},
     "output_type": "execute_result"
    }
   ],
   "source": [
    "minha_lista[:-2]"
   ]
  },
  {
   "cell_type": "code",
   "execution_count": 109,
   "id": "8874e9e7",
   "metadata": {},
   "outputs": [
    {
     "data": {
      "text/plain": [
       "['Valter', True, (1+2j)]"
      ]
     },
     "execution_count": 109,
     "metadata": {},
     "output_type": "execute_result"
    }
   ],
   "source": [
    "minha_lista[2:5]"
   ]
  },
  {
   "cell_type": "code",
   "execution_count": 110,
   "id": "52222b19",
   "metadata": {},
   "outputs": [
    {
     "data": {
      "text/plain": [
       "[0, 0, 0, 'Valter', True, (1+2j)]"
      ]
     },
     "execution_count": 110,
     "metadata": {},
     "output_type": "execute_result"
    }
   ],
   "source": [
    "minha_lista[:2] = [0 , 0, 0]  # Podemos usar slicing para alterar uma lista\n",
    "minha_lista"
   ]
  },
  {
   "cell_type": "markdown",
   "id": "966a56ea",
   "metadata": {},
   "source": [
    "Cadeias de caracteres são indexadas e fatiadas como tuplas e listas:"
   ]
  },
  {
   "cell_type": "code",
   "execution_count": 111,
   "id": "108212bf",
   "metadata": {},
   "outputs": [
    {
     "name": "stdout",
     "output_type": "stream",
     "text": [
      "Tenho 25 anos.\n"
     ]
    }
   ],
   "source": [
    "texto = \"Tenho 25 anos.\"\n",
    "print(texto)"
   ]
  },
  {
   "cell_type": "code",
   "execution_count": 112,
   "id": "b2b769d5",
   "metadata": {},
   "outputs": [
    {
     "data": {
      "text/plain": [
       "'Tenho'"
      ]
     },
     "execution_count": 112,
     "metadata": {},
     "output_type": "execute_result"
    }
   ],
   "source": [
    "texto[0:5]"
   ]
  },
  {
   "cell_type": "code",
   "execution_count": 113,
   "id": "c34c97d6",
   "metadata": {},
   "outputs": [
    {
     "data": {
      "text/plain": [
       "'anos'"
      ]
     },
     "execution_count": 113,
     "metadata": {},
     "output_type": "execute_result"
    }
   ],
   "source": [
    "texto[-5:-1]"
   ]
  },
  {
   "cell_type": "code",
   "execution_count": 114,
   "id": "d1328389",
   "metadata": {
    "scrolled": true
   },
   "outputs": [
    {
     "data": {
      "text/plain": [
       "'Tno2 ns'"
      ]
     },
     "execution_count": 114,
     "metadata": {},
     "output_type": "execute_result"
    }
   ],
   "source": [
    "texto[::2]"
   ]
  },
  {
   "cell_type": "markdown",
   "id": "8224372f",
   "metadata": {},
   "source": [
    "## Aninhamento (*nesting*)"
   ]
  },
  {
   "cell_type": "markdown",
   "id": "23f0bedd",
   "metadata": {},
   "source": [
    "Estruturas de dados podem conter outras estruturas de dados."
   ]
  },
  {
   "cell_type": "code",
   "execution_count": 115,
   "id": "d5fc61ba",
   "metadata": {},
   "outputs": [
    {
     "data": {
      "text/plain": [
       "((1, 2, 3), ((1, 2, 3), 5100.0), ('Valter Moreno', ((1, 2, 3), 5100.0)))"
      ]
     },
     "execution_count": 115,
     "metadata": {},
     "output_type": "execute_result"
    }
   ],
   "source": [
    "tupla0 = (1, 2, 3)\n",
    "tupla1 = (tupla0, 5.1e3)\n",
    "tupla2 = (\"Valter Moreno\", tupla1)\n",
    "tupla0, tupla1, tupla2"
   ]
  },
  {
   "cell_type": "code",
   "execution_count": 116,
   "id": "ddb51b34",
   "metadata": {},
   "outputs": [
    {
     "data": {
      "text/plain": [
       "'Valter Moreno'"
      ]
     },
     "execution_count": 116,
     "metadata": {},
     "output_type": "execute_result"
    }
   ],
   "source": [
    "tupla2[0]"
   ]
  },
  {
   "cell_type": "code",
   "execution_count": 117,
   "id": "47de3966",
   "metadata": {
    "scrolled": true
   },
   "outputs": [
    {
     "data": {
      "text/plain": [
       "((1, 2, 3), 5100.0)"
      ]
     },
     "execution_count": 117,
     "metadata": {},
     "output_type": "execute_result"
    }
   ],
   "source": [
    "tupla2[1]"
   ]
  },
  {
   "cell_type": "code",
   "execution_count": 118,
   "id": "c072a843",
   "metadata": {},
   "outputs": [
    {
     "data": {
      "text/plain": [
       "(1, 2, 3)"
      ]
     },
     "execution_count": 118,
     "metadata": {},
     "output_type": "execute_result"
    }
   ],
   "source": [
    "tupla2[1][0]"
   ]
  },
  {
   "cell_type": "code",
   "execution_count": 119,
   "id": "50ad3189",
   "metadata": {},
   "outputs": [
    {
     "data": {
      "text/plain": [
       "(1, 2)"
      ]
     },
     "execution_count": 119,
     "metadata": {},
     "output_type": "execute_result"
    }
   ],
   "source": [
    "tupla2[1][0][:2]"
   ]
  },
  {
   "cell_type": "code",
   "execution_count": 120,
   "id": "8319c233",
   "metadata": {},
   "outputs": [],
   "source": [
    "lista0 = [True, False, True]\n",
    "lista1 = [\"a\", \"b\", lista0]\n",
    "lista2 = [lista1, (\"alfa\", \"beta\", \"gama\")]"
   ]
  },
  {
   "cell_type": "code",
   "execution_count": 121,
   "id": "251cd911",
   "metadata": {},
   "outputs": [
    {
     "data": {
      "text/plain": [
       "([True, False, True],\n",
       " ['a', 'b', [True, False, True]],\n",
       " [['a', 'b', [True, False, True]], ('alfa', 'beta', 'gama')])"
      ]
     },
     "execution_count": 121,
     "metadata": {},
     "output_type": "execute_result"
    }
   ],
   "source": [
    "lista0, lista1, lista2"
   ]
  },
  {
   "cell_type": "code",
   "execution_count": 122,
   "id": "0c6f3262",
   "metadata": {},
   "outputs": [
    {
     "data": {
      "text/plain": [
       "[False, True]"
      ]
     },
     "execution_count": 122,
     "metadata": {},
     "output_type": "execute_result"
    }
   ],
   "source": [
    "lista2[0][2][1:]"
   ]
  },
  {
   "cell_type": "markdown",
   "id": "492c7e5c",
   "metadata": {},
   "source": [
    "## Dicionários"
   ]
  },
  {
   "cell_type": "markdown",
   "id": "c995eb72",
   "metadata": {},
   "source": [
    "Dicionários são conjuntos de índices (*keys*) e valores (*values*) **mutáveis**. "
   ]
  },
  {
   "cell_type": "code",
   "execution_count": 123,
   "id": "b4c717c7",
   "metadata": {},
   "outputs": [
    {
     "data": {
      "text/plain": [
       "{'Nome': ['João', 'Maria'],\n",
       " 'Sobrenome': ['da Silva', 'Oliveira'],\n",
       " 'Idade': [27, 28],\n",
       " 'Estado': ['RJ', 'RJ']}"
      ]
     },
     "execution_count": 123,
     "metadata": {},
     "output_type": "execute_result"
    }
   ],
   "source": [
    "meu_dicionário = {\"Nome\": [\"João\", \"Maria\"], \n",
    "                  \"Sobrenome\": [\"da Silva\", \"Oliveira\"],\n",
    "                  \"Idade\": [27, 28],\n",
    "                  \"Estado\": [\"RJ\", \"RJ\"]}\n",
    "meu_dicionário"
   ]
  },
  {
   "cell_type": "code",
   "execution_count": 124,
   "id": "6071fe67",
   "metadata": {},
   "outputs": [
    {
     "data": {
      "text/plain": [
       "dict_keys(['Nome', 'Sobrenome', 'Idade', 'Estado'])"
      ]
     },
     "execution_count": 124,
     "metadata": {},
     "output_type": "execute_result"
    }
   ],
   "source": [
    "meu_dicionário.keys()"
   ]
  },
  {
   "cell_type": "code",
   "execution_count": 125,
   "id": "ecef7b9a",
   "metadata": {},
   "outputs": [
    {
     "data": {
      "text/plain": [
       "dict_values([['João', 'Maria'], ['da Silva', 'Oliveira'], [27, 28], ['RJ', 'RJ']])"
      ]
     },
     "execution_count": 125,
     "metadata": {},
     "output_type": "execute_result"
    }
   ],
   "source": [
    "meu_dicionário.values()"
   ]
  },
  {
   "cell_type": "code",
   "execution_count": 126,
   "id": "893d705e",
   "metadata": {
    "scrolled": true
   },
   "outputs": [
    {
     "data": {
      "text/plain": [
       "{'Nome': ['João', 'Maria'],\n",
       " 'Sobrenome': ['da Silva', 'Oliveira'],\n",
       " 'Idade': [30, 31],\n",
       " 'Estado': ['RJ', 'RJ']}"
      ]
     },
     "execution_count": 126,
     "metadata": {},
     "output_type": "execute_result"
    }
   ],
   "source": [
    "meu_dicionário[\"Idade\"] = [30, 31]\n",
    "meu_dicionário"
   ]
  },
  {
   "cell_type": "code",
   "execution_count": 127,
   "id": "29758e57",
   "metadata": {},
   "outputs": [
    {
     "data": {
      "text/plain": [
       "{}"
      ]
     },
     "execution_count": 127,
     "metadata": {},
     "output_type": "execute_result"
    }
   ],
   "source": [
    "dic_vazio = {}  # Cria um dicionário vazio\n",
    "dic_vazio"
   ]
  },
  {
   "cell_type": "markdown",
   "id": "6d5f0d3b",
   "metadata": {},
   "source": [
    "Pode-se usar a função `dict` para criar dicionários."
   ]
  },
  {
   "cell_type": "code",
   "execution_count": 128,
   "id": "1d7d0e06",
   "metadata": {},
   "outputs": [
    {
     "data": {
      "text/plain": [
       "{'Nome': ['João', 'Maria'],\n",
       " 'Sobrenome': ['da Silva', 'Oliveira'],\n",
       " 'Idade': [27, 28],\n",
       " 'Estado': ['RJ', 'RJ']}"
      ]
     },
     "execution_count": 128,
     "metadata": {},
     "output_type": "execute_result"
    }
   ],
   "source": [
    "meu_dicionário = dict(Nome = [\"João\", \"Maria\"], \n",
    "                      Sobrenome = [\"da Silva\", \"Oliveira\"],\n",
    "                      Idade = [27, 28],\n",
    "                      Estado = [\"RJ\", \"RJ\"])\n",
    "meu_dicionário"
   ]
  },
  {
   "cell_type": "code",
   "execution_count": 129,
   "id": "c08e6cbb",
   "metadata": {},
   "outputs": [
    {
     "data": {
      "text/plain": [
       "{}"
      ]
     },
     "execution_count": 129,
     "metadata": {},
     "output_type": "execute_result"
    }
   ],
   "source": [
    "dic_vazio = dict()\n",
    "dic_vazio"
   ]
  },
  {
   "cell_type": "markdown",
   "id": "8c01f760",
   "metadata": {},
   "source": [
    "O método `fromkeys` cria um dicionário com o mesmo valor para todas as chaves:"
   ]
  },
  {
   "cell_type": "code",
   "execution_count": 130,
   "id": "5ba48f2d",
   "metadata": {},
   "outputs": [
    {
     "data": {
      "text/plain": [
       "{'Nome': '', 'Sobrenome': ''}"
      ]
     },
     "execution_count": 130,
     "metadata": {},
     "output_type": "execute_result"
    }
   ],
   "source": [
    "dict.fromkeys([\"Nome\", \"Sobrenome\"], \"\")"
   ]
  },
  {
   "cell_type": "markdown",
   "id": "bb31937c",
   "metadata": {},
   "source": [
    "Não é possível usar *slicing* em dicionários."
   ]
  },
  {
   "cell_type": "code",
   "execution_count": 131,
   "id": "c645572f",
   "metadata": {
    "scrolled": true
   },
   "outputs": [
    {
     "data": {
      "text/plain": [
       "{'Chave1': 55, 'Chave2': ('a', 'b'), 'Chave3': ['texto1', 'texto2', 'texto3']}"
      ]
     },
     "execution_count": 131,
     "metadata": {},
     "output_type": "execute_result"
    }
   ],
   "source": [
    "dic1 = {\"Chave1\": 55, \"Chave2\": (\"a\", \"b\"), \"Chave3\": [\"texto1\", \"texto2\", \"texto3\"]}\n",
    "dic1"
   ]
  },
  {
   "cell_type": "code",
   "execution_count": 132,
   "id": "5f9c3074",
   "metadata": {
    "scrolled": true
   },
   "outputs": [
    {
     "data": {
      "text/plain": [
       "55"
      ]
     },
     "execution_count": 132,
     "metadata": {},
     "output_type": "execute_result"
    }
   ],
   "source": [
    "dic1[\"Chave1\"]"
   ]
  },
  {
   "cell_type": "code",
   "execution_count": 133,
   "id": "48b5feab",
   "metadata": {},
   "outputs": [
    {
     "ename": "TypeError",
     "evalue": "unhashable type: 'slice'",
     "output_type": "error",
     "traceback": [
      "\u001b[1;31m---------------------------------------------------------------------------\u001b[0m",
      "\u001b[1;31mTypeError\u001b[0m                                 Traceback (most recent call last)",
      "\u001b[1;32m~\\AppData\\Local\\Temp/ipykernel_16736/3450779212.py\u001b[0m in \u001b[0;36m<module>\u001b[1;34m\u001b[0m\n\u001b[0;32m      1\u001b[0m \u001b[1;31m# Esta expressão gera um erro:\u001b[0m\u001b[1;33m\u001b[0m\u001b[1;33m\u001b[0m\u001b[1;33m\u001b[0m\u001b[0m\n\u001b[1;32m----> 2\u001b[1;33m \u001b[0mdic1\u001b[0m\u001b[1;33m[\u001b[0m\u001b[1;36m0\u001b[0m\u001b[1;33m:\u001b[0m\u001b[1;36m2\u001b[0m\u001b[1;33m]\u001b[0m\u001b[1;33m\u001b[0m\u001b[1;33m\u001b[0m\u001b[0m\n\u001b[0m",
      "\u001b[1;31mTypeError\u001b[0m: unhashable type: 'slice'"
     ]
    }
   ],
   "source": [
    "# Esta expressão gera um erro:\n",
    "dic1[0:2]"
   ]
  },
  {
   "cell_type": "markdown",
   "id": "4c1dcff8",
   "metadata": {},
   "source": [
    "Pode-se alterar, estender, e deletar o conteúdo de dicionários."
   ]
  },
  {
   "cell_type": "code",
   "execution_count": 134,
   "id": "36c057e7",
   "metadata": {},
   "outputs": [
    {
     "data": {
      "text/plain": [
       "{'Chave1': {'A': (1, 2, 3), 'B': [1.5]},\n",
       " 'Chave2': ('a', 'b'),\n",
       " 'Chave3': ['texto1', 'texto2', 'texto3']}"
      ]
     },
     "execution_count": 134,
     "metadata": {},
     "output_type": "execute_result"
    }
   ],
   "source": [
    "dic1[\"Chave1\"] = {\"A\": (1, 2, 3), \"B\": [1.5]}  # Alteração e aninhamento\n",
    "dic1"
   ]
  },
  {
   "cell_type": "code",
   "execution_count": 135,
   "id": "ca22cc2b",
   "metadata": {},
   "outputs": [
    {
     "data": {
      "text/plain": [
       "{'Chave1': {'A': (1, 2, 3), 'B': [1.5]},\n",
       " 'Chave2': ('a', 'b'),\n",
       " 'Chave3': ['texto1', 'texto2', 'texto3', 'texto4']}"
      ]
     },
     "execution_count": 135,
     "metadata": {},
     "output_type": "execute_result"
    }
   ],
   "source": [
    "dic1[\"Chave3\"] += [\"texto4\"]\n",
    "dic1"
   ]
  },
  {
   "cell_type": "code",
   "execution_count": 136,
   "id": "4186d00d",
   "metadata": {},
   "outputs": [
    {
     "data": {
      "text/plain": [
       "{'Chave1': {'A': (1, 2, 3), 'B': [1.5]},\n",
       " 'Chave2': ('a', 'b'),\n",
       " 'Chave3': ['texto1', 'texto2', 'texto3', 'texto4'],\n",
       " 'Chave4': 'Nova chave'}"
      ]
     },
     "execution_count": 136,
     "metadata": {},
     "output_type": "execute_result"
    }
   ],
   "source": [
    "dic1[\"Chave4\"] = \"Nova chave\"\n",
    "dic1"
   ]
  },
  {
   "cell_type": "code",
   "execution_count": 137,
   "id": "1cc85051",
   "metadata": {
    "scrolled": true
   },
   "outputs": [
    {
     "data": {
      "text/plain": [
       "{'Chave1': {'A': (1, 2, 3), 'B': [1.5]},\n",
       " 'Chave2': ('a', 'b'),\n",
       " 'Chave3': ['texto1', 'texto2', 'texto3', 'texto4']}"
      ]
     },
     "execution_count": 137,
     "metadata": {},
     "output_type": "execute_result"
    }
   ],
   "source": [
    "del(dic1[\"Chave4\"])\n",
    "dic1"
   ]
  },
  {
   "cell_type": "code",
   "execution_count": 138,
   "id": "7307adc1",
   "metadata": {},
   "outputs": [
    {
     "data": {
      "text/plain": [
       "True"
      ]
     },
     "execution_count": 138,
     "metadata": {},
     "output_type": "execute_result"
    }
   ],
   "source": [
    "\"Chave1\" in dic1"
   ]
  },
  {
   "cell_type": "code",
   "execution_count": 139,
   "id": "3bbfc0c2",
   "metadata": {
    "scrolled": true
   },
   "outputs": [
    {
     "data": {
      "text/plain": [
       "False"
      ]
     },
     "execution_count": 139,
     "metadata": {},
     "output_type": "execute_result"
    }
   ],
   "source": [
    "\"Chave4\" in dic1"
   ]
  },
  {
   "cell_type": "markdown",
   "id": "a881a201",
   "metadata": {},
   "source": [
    "O processo de **aliasing** também se a aplica a dicionários."
   ]
  },
  {
   "cell_type": "code",
   "execution_count": 140,
   "id": "2529b155",
   "metadata": {},
   "outputs": [
    {
     "name": "stdout",
     "output_type": "stream",
     "text": [
      "Endereço de dic1: 2146938745920\n",
      "Endereço de dic2: 2146938745920\n"
     ]
    }
   ],
   "source": [
    "dic2 = dic1\n",
    "print(\"Endereço de dic1:\", id(dic1))\n",
    "print(\"Endereço de dic2:\", id(dic2))"
   ]
  },
  {
   "cell_type": "code",
   "execution_count": 141,
   "id": "302dcb16",
   "metadata": {},
   "outputs": [
    {
     "data": {
      "text/plain": [
       "{'Chave1': {'A': (1, 2, 3), 'B': [1.5]},\n",
       " 'Chave2': ('a', 'b'),\n",
       " 'Chave3': ['texto1', 'texto2', 'texto3', 'texto4'],\n",
       " 'Chave4': 10}"
      ]
     },
     "execution_count": 141,
     "metadata": {},
     "output_type": "execute_result"
    }
   ],
   "source": [
    "dic1[\"Chave4\"] = 10\n",
    "dic1"
   ]
  },
  {
   "cell_type": "code",
   "execution_count": 142,
   "id": "4c145f55",
   "metadata": {},
   "outputs": [
    {
     "data": {
      "text/plain": [
       "{'Chave1': {'A': (1, 2, 3), 'B': [1.5]},\n",
       " 'Chave2': ('a', 'b'),\n",
       " 'Chave3': ['texto1', 'texto2', 'texto3', 'texto4'],\n",
       " 'Chave4': 10}"
      ]
     },
     "execution_count": 142,
     "metadata": {},
     "output_type": "execute_result"
    }
   ],
   "source": [
    "dic2"
   ]
  },
  {
   "cell_type": "code",
   "execution_count": 143,
   "id": "39cd4056",
   "metadata": {
    "scrolled": true
   },
   "outputs": [
    {
     "name": "stdout",
     "output_type": "stream",
     "text": [
      "Endereço de dic1: 2146938745920\n",
      "Endereço de dic2: 2146939572864\n"
     ]
    }
   ],
   "source": [
    "dic2 = dic1.copy()\n",
    "print(\"Endereço de dic1:\", id(dic1))\n",
    "print(\"Endereço de dic2:\", id(dic2))"
   ]
  },
  {
   "cell_type": "code",
   "execution_count": 144,
   "id": "90bde239",
   "metadata": {},
   "outputs": [
    {
     "data": {
      "text/plain": [
       "{'Chave1': {'A': (1, 2, 3), 'B': [1.5]},\n",
       " 'Chave2': ('a', 'b'),\n",
       " 'Chave3': ['texto1', 'texto2', 'texto3', 'texto4']}"
      ]
     },
     "execution_count": 144,
     "metadata": {},
     "output_type": "execute_result"
    }
   ],
   "source": [
    "del(dic1[\"Chave4\"])\n",
    "dic1"
   ]
  },
  {
   "cell_type": "code",
   "execution_count": 145,
   "id": "4370b89c",
   "metadata": {},
   "outputs": [
    {
     "data": {
      "text/plain": [
       "{'Chave1': {'A': (1, 2, 3), 'B': [1.5]},\n",
       " 'Chave2': ('a', 'b'),\n",
       " 'Chave3': ['texto1', 'texto2', 'texto3', 'texto4'],\n",
       " 'Chave4': 10}"
      ]
     },
     "execution_count": 145,
     "metadata": {},
     "output_type": "execute_result"
    }
   ],
   "source": [
    "dic2"
   ]
  },
  {
   "cell_type": "markdown",
   "id": "ed242728",
   "metadata": {},
   "source": [
    "Há vários **métodos** definidos para dicionários, como mostra a página [W3 Schools: Python Dictionary Methods](https://www.w3schools.com/python/python_ref_dictionary.asp)"
   ]
  },
  {
   "cell_type": "code",
   "execution_count": 146,
   "id": "caa7cc1c",
   "metadata": {
    "scrolled": true
   },
   "outputs": [
    {
     "data": {
      "text/plain": [
       "('a', 'b')"
      ]
     },
     "execution_count": 146,
     "metadata": {},
     "output_type": "execute_result"
    }
   ],
   "source": [
    "dic1.get(\"Chave2\")  # Retorna o valor para uma chave"
   ]
  },
  {
   "cell_type": "code",
   "execution_count": 147,
   "id": "2352c040",
   "metadata": {},
   "outputs": [
    {
     "name": "stdout",
     "output_type": "stream",
     "text": [
      "Tipo do objeto gerado: <class 'dict_items'>\n"
     ]
    }
   ],
   "source": [
    "dic_itens = dic2.items()  # Retorna um objeto com tuplas de chaves e valores\n",
    "print(\"Tipo do objeto gerado:\", type(dic_itens))"
   ]
  },
  {
   "cell_type": "code",
   "execution_count": 148,
   "id": "7a52b832",
   "metadata": {
    "scrolled": true
   },
   "outputs": [
    {
     "data": {
      "text/plain": [
       "dict_items([('Chave1', {'A': (1, 2, 3), 'B': [1.5]}), ('Chave2', ('a', 'b')), ('Chave3', ['texto1', 'texto2', 'texto3', 'texto4']), ('Chave4', 10)])"
      ]
     },
     "execution_count": 148,
     "metadata": {},
     "output_type": "execute_result"
    }
   ],
   "source": [
    "dic_itens"
   ]
  },
  {
   "cell_type": "code",
   "execution_count": 149,
   "id": "35c17488",
   "metadata": {},
   "outputs": [
    {
     "data": {
      "text/plain": [
       "dict_items([('Chave1', {'A': (1, 2, 3), 'B': [1.5]}), ('Chave2', 'novo valor'), ('Chave3', ['texto1', 'texto2', 'texto3', 'texto4']), ('Chave4', 10)])"
      ]
     },
     "execution_count": 149,
     "metadata": {},
     "output_type": "execute_result"
    }
   ],
   "source": [
    "dic2[\"Chave2\"] = \"novo valor\"\n",
    "dic_itens"
   ]
  },
  {
   "cell_type": "code",
   "execution_count": 150,
   "id": "43c595ca",
   "metadata": {},
   "outputs": [
    {
     "data": {
      "text/plain": [
       "{'Chave1': {'A': (1, 2, 3), 'B': [1.5]},\n",
       " 'Chave3': ['texto1', 'texto2', 'texto3', 'texto4'],\n",
       " 'Chave4': 10}"
      ]
     },
     "execution_count": 150,
     "metadata": {},
     "output_type": "execute_result"
    }
   ],
   "source": [
    "dic2.pop(\"Chave2\")  # Remove uma chave e seus valores\n",
    "dic2"
   ]
  },
  {
   "cell_type": "code",
   "execution_count": 151,
   "id": "96b4769f",
   "metadata": {},
   "outputs": [
    {
     "data": {
      "text/plain": [
       "{'Chave1': {'A': (1, 2, 3), 'B': [1.5]},\n",
       " 'Chave3': ['texto1', 'texto2', 'texto3', 'texto4']}"
      ]
     },
     "execution_count": 151,
     "metadata": {},
     "output_type": "execute_result"
    }
   ],
   "source": [
    "dic2.popitem()  # Remove o último par de chave e valor inserido\n",
    "dic2"
   ]
  },
  {
   "cell_type": "code",
   "execution_count": 152,
   "id": "c61bea3e",
   "metadata": {
    "scrolled": true
   },
   "outputs": [
    {
     "data": {
      "text/plain": [
       "{'Chave1': {'A': (1, 2, 3), 'B': [1.5]},\n",
       " 'Chave3': ['texto1', 'texto2', 'texto3', 'texto4'],\n",
       " 'Chave2': [1.5, 2.5],\n",
       " 'Chave4': ('alfa', 'beta')}"
      ]
     },
     "execution_count": 152,
     "metadata": {},
     "output_type": "execute_result"
    }
   ],
   "source": [
    "dic2.update({\"Chave2\": [1.5, 2.5], \"Chave4\": (\"alfa\", \"beta\")})  # Altera o dicionário\n",
    "dic2"
   ]
  },
  {
   "cell_type": "markdown",
   "id": "25c21807",
   "metadata": {},
   "source": [
    "## Sets"
   ]
  },
  {
   "cell_type": "markdown",
   "id": "9f03b287",
   "metadata": {},
   "source": [
    "*Sets* (conjuntos) são coleções de elementos **distintos**, ou seja, não podem incluir elementos que tenham um mesmo valor. *Sets* não são indexados."
   ]
  },
  {
   "cell_type": "code",
   "execution_count": 153,
   "id": "5f95b83e",
   "metadata": {},
   "outputs": [
    {
     "data": {
      "text/plain": [
       "{15, False, True, 'Valter Moreno'}"
      ]
     },
     "execution_count": 153,
     "metadata": {},
     "output_type": "execute_result"
    }
   ],
   "source": [
    "set1 = {\"Valter Moreno\", 15, True, False}  # O set é ordenado automaticamente.\n",
    "set1"
   ]
  },
  {
   "cell_type": "code",
   "execution_count": 154,
   "id": "a46380fc",
   "metadata": {},
   "outputs": [
    {
     "data": {
      "text/plain": [
       "set"
      ]
     },
     "execution_count": 154,
     "metadata": {},
     "output_type": "execute_result"
    }
   ],
   "source": [
    "type(set1)"
   ]
  },
  {
   "cell_type": "code",
   "execution_count": 155,
   "id": "707b3f86",
   "metadata": {},
   "outputs": [
    {
     "data": {
      "text/plain": [
       "4"
      ]
     },
     "execution_count": 155,
     "metadata": {},
     "output_type": "execute_result"
    }
   ],
   "source": [
    "len(set1)"
   ]
  },
  {
   "cell_type": "code",
   "execution_count": 156,
   "id": "077e06ce",
   "metadata": {},
   "outputs": [
    {
     "data": {
      "text/plain": [
       "{1, 3}"
      ]
     },
     "execution_count": 156,
     "metadata": {},
     "output_type": "execute_result"
    }
   ],
   "source": [
    "set2 = {1, 1, 3, 3}  # Os elementos repetidos são removidos.\n",
    "set2"
   ]
  },
  {
   "cell_type": "markdown",
   "id": "1b0a55cb",
   "metadata": {},
   "source": [
    "*Sets* podem ser criados a partir de tuplas e listas. "
   ]
  },
  {
   "cell_type": "code",
   "execution_count": 157,
   "id": "6a8c8936",
   "metadata": {},
   "outputs": [
    {
     "data": {
      "text/plain": [
       "{20, 30}"
      ]
     },
     "execution_count": 157,
     "metadata": {},
     "output_type": "execute_result"
    }
   ],
   "source": [
    "tupla1 = [30, 20, 20, 30]\n",
    "set1 = set(tupla1)\n",
    "set1"
   ]
  },
  {
   "cell_type": "code",
   "execution_count": 158,
   "id": "176f844e",
   "metadata": {},
   "outputs": [
    {
     "data": {
      "text/plain": [
       "{1, 2, 3, 4, 5}"
      ]
     },
     "execution_count": 158,
     "metadata": {},
     "output_type": "execute_result"
    }
   ],
   "source": [
    "lista1 = [1, 2, 3, 4, 4, 5]\n",
    "set1 = set(lista1)\n",
    "set1"
   ]
  },
  {
   "cell_type": "markdown",
   "id": "57de0ecc",
   "metadata": {},
   "source": [
    "O processo de *aliasing* também se aplica a *sets*. Note, no entanto, que após criados, *sets* não podem ser alterados."
   ]
  },
  {
   "cell_type": "code",
   "execution_count": 159,
   "id": "c113e8fb",
   "metadata": {},
   "outputs": [
    {
     "name": "stdout",
     "output_type": "stream",
     "text": [
      "set1: {1, 2, 3, 4, 5}\n",
      "set2: {1, 2, 3, 4, 5}\n",
      "Endereço de set1: 2146939623456\n",
      "Endereço de set2: 2146939623456\n"
     ]
    }
   ],
   "source": [
    "set2 = set1  # set2 aponta para o mesmo local na memória que set1\n",
    "print(\"set1:\", set1)\n",
    "print(\"set2:\", set2)\n",
    "print(\"Endereço de set1:\", id(set1))\n",
    "print(\"Endereço de set2:\", id(set2))"
   ]
  },
  {
   "cell_type": "code",
   "execution_count": 160,
   "id": "77810897",
   "metadata": {},
   "outputs": [
    {
     "name": "stdout",
     "output_type": "stream",
     "text": [
      "set1: {1, 2, 3, 4, 5}\n",
      "set2: {1, 2, 3, 4, 5}\n",
      "Endereço de set1: 2146939623456\n",
      "Endereço de set2: 2146939623008\n"
     ]
    }
   ],
   "source": [
    "set2 = set1.copy()  # o conteúdo de set1 é copiado para local na memória\n",
    "print(\"set1:\", set1)\n",
    "print(\"set2:\", set2)\n",
    "print(\"Endereço de set1:\", id(set1))\n",
    "print(\"Endereço de set2:\", id(set2))"
   ]
  },
  {
   "cell_type": "markdown",
   "id": "22a559c5",
   "metadata": {},
   "source": [
    "Não podemos usar a indexação e *slicing* com *sets*. "
   ]
  },
  {
   "cell_type": "code",
   "execution_count": 161,
   "id": "48b97b9a",
   "metadata": {},
   "outputs": [
    {
     "ename": "TypeError",
     "evalue": "'set' object is not subscriptable",
     "output_type": "error",
     "traceback": [
      "\u001b[1;31m---------------------------------------------------------------------------\u001b[0m",
      "\u001b[1;31mTypeError\u001b[0m                                 Traceback (most recent call last)",
      "\u001b[1;32m~\\AppData\\Local\\Temp/ipykernel_16736/3183565921.py\u001b[0m in \u001b[0;36m<module>\u001b[1;34m\u001b[0m\n\u001b[0;32m      1\u001b[0m \u001b[1;31m# Um erro é gerado por esta expressão:\u001b[0m\u001b[1;33m\u001b[0m\u001b[1;33m\u001b[0m\u001b[1;33m\u001b[0m\u001b[0m\n\u001b[1;32m----> 2\u001b[1;33m \u001b[0mset1\u001b[0m\u001b[1;33m[\u001b[0m\u001b[1;36m0\u001b[0m\u001b[1;33m]\u001b[0m\u001b[1;33m\u001b[0m\u001b[1;33m\u001b[0m\u001b[0m\n\u001b[0m",
      "\u001b[1;31mTypeError\u001b[0m: 'set' object is not subscriptable"
     ]
    }
   ],
   "source": [
    "# Um erro é gerado por esta expressão:\n",
    "set1[0]"
   ]
  },
  {
   "cell_type": "markdown",
   "id": "b17f7ba2",
   "metadata": {},
   "source": [
    "Como mostra a página [W3 School: Python Set Methods](https://www.w3schools.com/python/python_ref_set.asp), há diversos **métodos** associados a *sets*. Seguem alguns exemplos."
   ]
  },
  {
   "cell_type": "code",
   "execution_count": 162,
   "id": "bd41595f",
   "metadata": {},
   "outputs": [],
   "source": [
    "goleiros = {\"Alison\", \"Ederson\", \"Weverton\"}\n",
    "laterais = {\"Danilo\", \"Emerson\", \"Alex Sandro\", \"Guilherme Arana\"}\n",
    "zagueiros = {\"Éder Militão\", \"Lucas Veríssimo\", \"Marquinhos\", \"Thiago Silva\"}\n",
    "meio_campistas = {\"Casemiro\", \"Edenílson\", \"Everton Ribeiro\", \"Fabinho\", \n",
    "                  \"Fred\", \"Gerson\", \"Lucas Paquetá\"}\n",
    "atacantes = {\"Antony\", \"Gabriel Barbosa\", \"Gabriel Jesus\", \"Matheus Cunha\", \n",
    "             \"Neymar\", \"Rafinha\"}"
   ]
  },
  {
   "cell_type": "code",
   "execution_count": 163,
   "id": "3c0fd042",
   "metadata": {},
   "outputs": [
    {
     "data": {
      "text/plain": [
       "{'Antony',\n",
       " 'Gabriel Barbosa',\n",
       " 'Gabriel Jesus',\n",
       " 'Matheus Cunha',\n",
       " 'Neymar',\n",
       " 'Rafinha',\n",
       " 'Vini Jr'}"
      ]
     },
     "execution_count": 163,
     "metadata": {},
     "output_type": "execute_result"
    }
   ],
   "source": [
    "atacantes.add(\"Vini Jr\")\n",
    "atacantes"
   ]
  },
  {
   "cell_type": "markdown",
   "id": "e6525f4d",
   "metadata": {},
   "source": [
    "**Atenção**: o operador `in` é mais rápido quando aplicado a *sets* do que a listas."
   ]
  },
  {
   "cell_type": "code",
   "execution_count": 164,
   "id": "97c5cefb",
   "metadata": {},
   "outputs": [
    {
     "data": {
      "text/plain": [
       "True"
      ]
     },
     "execution_count": 164,
     "metadata": {},
     "output_type": "execute_result"
    }
   ],
   "source": [
    "'Vini Jr' in atacantes"
   ]
  },
  {
   "cell_type": "markdown",
   "id": "19ee0448",
   "metadata": {},
   "source": [
    "*Sets* podem ser atualizados com outros sets e elementos."
   ]
  },
  {
   "cell_type": "code",
   "execution_count": 165,
   "id": "5dddf400",
   "metadata": {},
   "outputs": [
    {
     "data": {
      "text/plain": [
       "set()"
      ]
     },
     "execution_count": 165,
     "metadata": {},
     "output_type": "execute_result"
    }
   ],
   "source": [
    "seleção = set()\n",
    "seleção"
   ]
  },
  {
   "cell_type": "code",
   "execution_count": 166,
   "id": "931f93d0",
   "metadata": {
    "scrolled": false
   },
   "outputs": [
    {
     "data": {
      "text/plain": [
       "{'Alison', 'Ederson', 'Weverton'}"
      ]
     },
     "execution_count": 166,
     "metadata": {},
     "output_type": "execute_result"
    }
   ],
   "source": [
    "seleção.update(goleiros)\n",
    "seleção"
   ]
  },
  {
   "cell_type": "code",
   "execution_count": 167,
   "id": "bc5e4682",
   "metadata": {},
   "outputs": [
    {
     "data": {
      "text/plain": [
       "{'Alison', 'Ederson', 'Pé Torto', 'Weverton', 'Zé das Couves'}"
      ]
     },
     "execution_count": 167,
     "metadata": {},
     "output_type": "execute_result"
    }
   ],
   "source": [
    "seleção.update([\"Pé Torto\", \"Zé das Couves\"])\n",
    "seleção"
   ]
  },
  {
   "cell_type": "markdown",
   "id": "62d8759d",
   "metadata": {},
   "source": [
    "Note a diferença entre os métodos `discard` e `remove` quando o elemento especificado não faz parte do conjunto."
   ]
  },
  {
   "cell_type": "code",
   "execution_count": 168,
   "id": "566d8ef3",
   "metadata": {},
   "outputs": [
    {
     "data": {
      "text/plain": [
       "{'Alison', 'Ederson', 'Weverton', 'Zé das Couves'}"
      ]
     },
     "execution_count": 168,
     "metadata": {},
     "output_type": "execute_result"
    }
   ],
   "source": [
    "seleção.discard(\"Pé Torto\")\n",
    "seleção"
   ]
  },
  {
   "cell_type": "code",
   "execution_count": 169,
   "id": "cbdf192c",
   "metadata": {},
   "outputs": [],
   "source": [
    "seleção.discard(\"Pé Torto\")  # Não gera erro"
   ]
  },
  {
   "cell_type": "code",
   "execution_count": 170,
   "id": "0889b103",
   "metadata": {},
   "outputs": [
    {
     "ename": "KeyError",
     "evalue": "'Pé Torto'",
     "output_type": "error",
     "traceback": [
      "\u001b[1;31m---------------------------------------------------------------------------\u001b[0m",
      "\u001b[1;31mKeyError\u001b[0m                                  Traceback (most recent call last)",
      "\u001b[1;32m~\\AppData\\Local\\Temp/ipykernel_16736/1293199048.py\u001b[0m in \u001b[0;36m<module>\u001b[1;34m\u001b[0m\n\u001b[1;32m----> 1\u001b[1;33m \u001b[0mseleção\u001b[0m\u001b[1;33m.\u001b[0m\u001b[0mremove\u001b[0m\u001b[1;33m(\u001b[0m\u001b[1;34m\"Pé Torto\"\u001b[0m\u001b[1;33m)\u001b[0m  \u001b[1;31m# Gera erro, pois o elemento não existe no set\u001b[0m\u001b[1;33m\u001b[0m\u001b[1;33m\u001b[0m\u001b[0m\n\u001b[0m",
      "\u001b[1;31mKeyError\u001b[0m: 'Pé Torto'"
     ]
    }
   ],
   "source": [
    "seleção.remove(\"Pé Torto\")  # Gera erro, pois o elemento não existe no set"
   ]
  },
  {
   "cell_type": "code",
   "execution_count": 171,
   "id": "17612da7",
   "metadata": {
    "scrolled": true
   },
   "outputs": [
    {
     "name": "stdout",
     "output_type": "stream",
     "text": [
      "Weverton\n",
      "Conteúdo do set: {'Zé das Couves', 'Alison', 'Ederson'}\n"
     ]
    }
   ],
   "source": [
    "print(seleção.pop())  # Remove um elemento aleatório do set\n",
    "print(\"Conteúdo do set:\", seleção)"
   ]
  },
  {
   "cell_type": "markdown",
   "id": "e7279817",
   "metadata": {},
   "source": [
    "Vários desses métodos são **operações tradicionais de conjuntos**."
   ]
  },
  {
   "cell_type": "code",
   "execution_count": 172,
   "id": "2cd9e7d0",
   "metadata": {},
   "outputs": [
    {
     "data": {
      "text/plain": [
       "{'Alex Sandro',\n",
       " 'Alison',\n",
       " 'Danilo',\n",
       " 'Ederson',\n",
       " 'Emerson',\n",
       " 'Guilherme Arana',\n",
       " 'Lucas Veríssimo',\n",
       " 'Marquinhos',\n",
       " 'Thiago Silva',\n",
       " 'Weverton',\n",
       " 'Éder Militão'}"
      ]
     },
     "execution_count": 172,
     "metadata": {},
     "output_type": "execute_result"
    }
   ],
   "source": [
    "seleção = goleiros.union(laterais).union(zagueiros)\n",
    "seleção"
   ]
  },
  {
   "cell_type": "code",
   "execution_count": 173,
   "id": "ed55b810",
   "metadata": {},
   "outputs": [
    {
     "data": {
      "text/plain": [
       "{'Alex Sandro',\n",
       " 'Danilo',\n",
       " 'Emerson',\n",
       " 'Guilherme Arana',\n",
       " 'Lucas Veríssimo',\n",
       " 'Marquinhos',\n",
       " 'Thiago Silva',\n",
       " 'Éder Militão'}"
      ]
     },
     "execution_count": 173,
     "metadata": {},
     "output_type": "execute_result"
    }
   ],
   "source": [
    "seleção.difference(goleiros)"
   ]
  },
  {
   "cell_type": "code",
   "execution_count": 174,
   "id": "c07c55f9",
   "metadata": {
    "scrolled": true
   },
   "outputs": [
    {
     "data": {
      "text/plain": [
       "{'Alison', 'Ederson', 'Weverton'}"
      ]
     },
     "execution_count": 174,
     "metadata": {},
     "output_type": "execute_result"
    }
   ],
   "source": [
    "seleção.intersection(goleiros)"
   ]
  },
  {
   "cell_type": "code",
   "execution_count": 175,
   "id": "300304da",
   "metadata": {},
   "outputs": [
    {
     "data": {
      "text/plain": [
       "{'Alison', 'Ederson', 'Weverton'}"
      ]
     },
     "execution_count": 175,
     "metadata": {},
     "output_type": "execute_result"
    }
   ],
   "source": [
    "seleção & goleiros"
   ]
  },
  {
   "cell_type": "code",
   "execution_count": 176,
   "id": "d35fd907",
   "metadata": {},
   "outputs": [
    {
     "data": {
      "text/plain": [
       "set()"
      ]
     },
     "execution_count": 176,
     "metadata": {},
     "output_type": "execute_result"
    }
   ],
   "source": [
    "zagueiros.intersection(goleiros)"
   ]
  },
  {
   "cell_type": "code",
   "execution_count": 177,
   "id": "36642f75",
   "metadata": {},
   "outputs": [
    {
     "data": {
      "text/plain": [
       "False"
      ]
     },
     "execution_count": 177,
     "metadata": {},
     "output_type": "execute_result"
    }
   ],
   "source": [
    "seleção.isdisjoint(goleiros)"
   ]
  },
  {
   "cell_type": "code",
   "execution_count": 178,
   "id": "fe88890e",
   "metadata": {},
   "outputs": [
    {
     "data": {
      "text/plain": [
       "True"
      ]
     },
     "execution_count": 178,
     "metadata": {},
     "output_type": "execute_result"
    }
   ],
   "source": [
    "seleção.isdisjoint(atacantes)"
   ]
  },
  {
   "cell_type": "code",
   "execution_count": 179,
   "id": "51ed69ad",
   "metadata": {},
   "outputs": [
    {
     "data": {
      "text/plain": [
       "True"
      ]
     },
     "execution_count": 179,
     "metadata": {},
     "output_type": "execute_result"
    }
   ],
   "source": [
    "laterais.issubset(seleção)"
   ]
  },
  {
   "cell_type": "code",
   "execution_count": 180,
   "id": "9854f72e",
   "metadata": {
    "scrolled": true
   },
   "outputs": [
    {
     "data": {
      "text/plain": [
       "True"
      ]
     },
     "execution_count": 180,
     "metadata": {},
     "output_type": "execute_result"
    }
   ],
   "source": [
    "seleção.issuperset(laterais)"
   ]
  },
  {
   "cell_type": "markdown",
   "id": "942c81a4",
   "metadata": {},
   "source": [
    "# Desmembramento e agrupamento"
   ]
  },
  {
   "cell_type": "markdown",
   "id": "e16cdcf2",
   "metadata": {},
   "source": [
    "## *Unpacking*"
   ]
  },
  {
   "cell_type": "markdown",
   "id": "1e977dfa",
   "metadata": {},
   "source": [
    "Pode-se obter os elementos de um objeto iterável da seguinte forma:"
   ]
  },
  {
   "cell_type": "code",
   "execution_count": 2,
   "id": "82100d01",
   "metadata": {},
   "outputs": [
    {
     "name": "stdout",
     "output_type": "stream",
     "text": [
      "a =  1\n",
      "b =  2\n",
      "c =  3\n",
      "d =  4\n"
     ]
    }
   ],
   "source": [
    "lista = [1, 2, 3, 4]\n",
    "\n",
    "a, b, c, d = lista  # unpacking\n",
    "\n",
    "print(\"a = \", a)\n",
    "print(\"b = \", b)\n",
    "print(\"c = \", c)\n",
    "print(\"d = \", d)"
   ]
  },
  {
   "cell_type": "code",
   "execution_count": 4,
   "id": "19f3da6c",
   "metadata": {},
   "outputs": [
    {
     "name": "stdout",
     "output_type": "stream",
     "text": [
      "a =  1\n",
      "b =  2\n",
      "resto =  [3, 4]\n"
     ]
    }
   ],
   "source": [
    "a, b, *resto = lista  # unpacking parcial\n",
    "\n",
    "print(\"a = \", a)\n",
    "print(\"b = \", b)\n",
    "print(\"resto = \", resto)"
   ]
  },
  {
   "cell_type": "code",
   "execution_count": 6,
   "id": "53e5eb83",
   "metadata": {},
   "outputs": [
    {
     "name": "stdout",
     "output_type": "stream",
     "text": [
      "a =  1\n",
      "resto =  [2, 3]\n",
      "b =  4\n"
     ]
    }
   ],
   "source": [
    "a, *resto, b = lista  # unpacking parcial\n",
    "\n",
    "print(\"a = \", a)\n",
    "print(\"resto = \", resto)\n",
    "print(\"b = \", b)"
   ]
  },
  {
   "cell_type": "code",
   "execution_count": 9,
   "id": "d9c8fa99",
   "metadata": {
    "scrolled": true
   },
   "outputs": [
    {
     "ename": "SyntaxError",
     "evalue": "two starred expressions in assignment (Temp/ipykernel_8876/941012439.py, line 4)",
     "output_type": "error",
     "traceback": [
      "\u001b[1;36m  File \u001b[1;32m\"C:\\Users\\valte\\AppData\\Local\\Temp/ipykernel_8876/941012439.py\"\u001b[1;36m, line \u001b[1;32m4\u001b[0m\n\u001b[1;33m    *parte1, a, *parte2, b, *parte3 = lista\u001b[0m\n\u001b[1;37m    ^\u001b[0m\n\u001b[1;31mSyntaxError\u001b[0m\u001b[1;31m:\u001b[0m two starred expressions in assignment\n"
     ]
    }
   ],
   "source": [
    "lista = [1, 2, 3, 4, 5]\n",
    "\n",
    "# Essa expressão gera um erro, pois só podemos usar uma expressão com aterísco no unpacking\n",
    "*parte1, a, *parte2, b, *parte3 = lista"
   ]
  },
  {
   "cell_type": "markdown",
   "id": "a55fe5f0",
   "metadata": {},
   "source": [
    "O mesmo processo de *unpacking* pode ser usado com outros iteráveis."
   ]
  },
  {
   "cell_type": "code",
   "execution_count": 12,
   "id": "c06a11e4",
   "metadata": {},
   "outputs": [
    {
     "name": "stdout",
     "output_type": "stream",
     "text": [
      "a =  1\n",
      "b =  2\n",
      "c =  3\n",
      "d =  4\n"
     ]
    }
   ],
   "source": [
    "tupla = (1, 2, 3, 4)\n",
    "\n",
    "a, b, c, d = tupla  # unpacking\n",
    "\n",
    "print(\"a = \", a)\n",
    "print(\"b = \", b)\n",
    "print(\"c = \", c)\n",
    "print(\"d = \", d)"
   ]
  },
  {
   "cell_type": "code",
   "execution_count": 13,
   "id": "38041e96",
   "metadata": {},
   "outputs": [
    {
     "name": "stdout",
     "output_type": "stream",
     "text": [
      "a =  1\n",
      "b =  2\n",
      "c =  3\n",
      "d =  4\n"
     ]
    }
   ],
   "source": [
    "conjunto = {1, 2, 3, 4}\n",
    "\n",
    "a, b, c, d = conjunto  # unpacking\n",
    "\n",
    "print(\"a = \", a)\n",
    "print(\"b = \", b)\n",
    "print(\"c = \", c)\n",
    "print(\"d = \", d)"
   ]
  },
  {
   "cell_type": "markdown",
   "id": "8a4ef8fa",
   "metadata": {},
   "source": [
    "Já com dicionários, os resultados não são os esperados!"
   ]
  },
  {
   "cell_type": "code",
   "execution_count": 14,
   "id": "a91ea741",
   "metadata": {},
   "outputs": [
    {
     "name": "stdout",
     "output_type": "stream",
     "text": [
      "a =  A\n",
      "b =  B\n",
      "c =  C\n"
     ]
    }
   ],
   "source": [
    "dicionário = {\"A\": (1, 2), \"B\": [3, 4], \"C\": \"Valter Moreno\"}\n",
    "\n",
    "a, b, c = dicionário  # unpacking\n",
    "\n",
    "print(\"a = \", a)\n",
    "print(\"b = \", b)\n",
    "print(\"c = \", c)"
   ]
  },
  {
   "cell_type": "markdown",
   "id": "f4a76bb2",
   "metadata": {},
   "source": [
    "O asterisco `*` também pode ser usado para *unpack* elementos de objetos iteráveis."
   ]
  },
  {
   "cell_type": "code",
   "execution_count": 135,
   "id": "cc7b9298",
   "metadata": {},
   "outputs": [
    {
     "data": {
      "text/plain": [
       "15"
      ]
     },
     "execution_count": 135,
     "metadata": {},
     "output_type": "execute_result"
    }
   ],
   "source": [
    "def soma(*args):\n",
    "    soma = 0\n",
    "    for i in args:\n",
    "        soma += i\n",
    "    return soma\n",
    "\n",
    "lista = [1, 2, 3, 4, 5]\n",
    "\n",
    "soma(*lista)  # Os elementos da lista são passados um a um como argumentos da função"
   ]
  },
  {
   "cell_type": "code",
   "execution_count": 151,
   "id": "5afed131",
   "metadata": {},
   "outputs": [
    {
     "name": "stdout",
     "output_type": "stream",
     "text": [
      "('a', 1) ('b', 2) ('c', 3)\n"
     ]
    }
   ],
   "source": [
    "pairs = [('a', 1), ('b', 2), ('c', 3)]\n",
    "\n",
    "print(*pairs)"
   ]
  },
  {
   "cell_type": "markdown",
   "id": "0e54aa29",
   "metadata": {},
   "source": [
    "## *Zipping*"
   ]
  },
  {
   "cell_type": "markdown",
   "id": "ff96028a",
   "metadata": {},
   "source": [
    "A função `zip` funciona de forma oposta ao processo de *unpacking*. Ela concatena elementos de iteráveis num novo objeto iterável do tipo *zip*."
   ]
  },
  {
   "cell_type": "code",
   "execution_count": 52,
   "id": "b94f1697",
   "metadata": {},
   "outputs": [
    {
     "name": "stdout",
     "output_type": "stream",
     "text": [
      "<class 'zip'>\n"
     ]
    }
   ],
   "source": [
    "lista1 = [1, 2, 3]\n",
    "lista2 = [\"a\", \"b\", \"c\"]\n",
    "\n",
    "zipado = zip(lista1, lista2)\n",
    "\n",
    "print(type(zipado))"
   ]
  },
  {
   "cell_type": "markdown",
   "id": "52938fcd",
   "metadata": {},
   "source": [
    "Para ver como os elementos foram agrupados, precisamos transformar o objeto do tipo *zip* numa lista ou tupla."
   ]
  },
  {
   "cell_type": "code",
   "execution_count": 53,
   "id": "36f35a4a",
   "metadata": {},
   "outputs": [
    {
     "name": "stdout",
     "output_type": "stream",
     "text": [
      "<zip object at 0x00000224CA3E4400>\n"
     ]
    }
   ],
   "source": [
    "print(zipado)"
   ]
  },
  {
   "cell_type": "code",
   "execution_count": 54,
   "id": "d4ab27c6",
   "metadata": {},
   "outputs": [
    {
     "name": "stdout",
     "output_type": "stream",
     "text": [
      "[(1, 'a'), (2, 'b'), (3, 'c')]\n"
     ]
    }
   ],
   "source": [
    "print(list(zipado))"
   ]
  },
  {
   "cell_type": "code",
   "execution_count": 138,
   "id": "b6a00ff2",
   "metadata": {
    "scrolled": true
   },
   "outputs": [
    {
     "name": "stdout",
     "output_type": "stream",
     "text": [
      "('a', 'b', 'c')\n",
      "(1, 2, 3)\n"
     ]
    }
   ],
   "source": [
    "pairs = [('a', 1), ('b', 2), ('c', 3)]\n",
    "\n",
    "letters, numbers = zip(*pairs)  # As tuplas são separadas (unpacked) com o `*`\n",
    "\n",
    "print(letters)\n",
    "print(numbers)"
   ]
  },
  {
   "cell_type": "code",
   "execution_count": 153,
   "id": "d1050bb1",
   "metadata": {},
   "outputs": [
    {
     "name": "stdout",
     "output_type": "stream",
     "text": [
      "('a', 'b', 'c')\n",
      "(1, 2, 3)\n"
     ]
    }
   ],
   "source": [
    "letters, numbers = zip(('a', 1), ('b', 2), ('c', 3))  # O resultado é o mesmo\n",
    "\n",
    "print(letters)\n",
    "print(numbers)"
   ]
  },
  {
   "cell_type": "markdown",
   "id": "849421e4",
   "metadata": {},
   "source": [
    "Cuidado com o uso da função `zip` com iteráveis de tamanhos diferentes!"
   ]
  },
  {
   "cell_type": "code",
   "execution_count": 58,
   "id": "103639ae",
   "metadata": {},
   "outputs": [
    {
     "name": "stdout",
     "output_type": "stream",
     "text": [
      "((1, 'a'), (2, 'b'))\n"
     ]
    }
   ],
   "source": [
    "lista1 = [1, 2]\n",
    "lista2 = [\"a\", \"b\", \"c\"]  # o terceiro elemento é ignorado\n",
    "\n",
    "zipado = zip(lista1, lista2)\n",
    "\n",
    "print(tuple(zipado))"
   ]
  },
  {
   "cell_type": "markdown",
   "id": "138c5fd3",
   "metadata": {},
   "source": [
    "Pode-se criar aninhamentos."
   ]
  },
  {
   "cell_type": "code",
   "execution_count": 63,
   "id": "b93a87f9",
   "metadata": {},
   "outputs": [
    {
     "name": "stdout",
     "output_type": "stream",
     "text": [
      "[([1, 2], 'a', True), ([3, 4], 'b', False), ([5, 6], 'c', True)]\n"
     ]
    }
   ],
   "source": [
    "lista1 = [[1, 2],\n",
    "          [3, 4],\n",
    "          [5, 6]]\n",
    "lista2 = [\"a\", \"b\", \"c\"]\n",
    "tupla1 = (True, False, True)\n",
    "\n",
    "print(list(zip(lista1, lista2, tupla1)))"
   ]
  },
  {
   "cell_type": "code",
   "execution_count": 64,
   "id": "69dd540d",
   "metadata": {
    "scrolled": true
   },
   "outputs": [
    {
     "name": "stdout",
     "output_type": "stream",
     "text": [
      "[(([1, 2], 'a'), True), (([3, 4], 'b'), False), (([5, 6], 'c'), True)]\n"
     ]
    }
   ],
   "source": [
    "print(list(zip(zip(lista1, lista2), tupla1)))"
   ]
  },
  {
   "cell_type": "markdown",
   "id": "8594ec38",
   "metadata": {},
   "source": [
    "# *Comprehensions*"
   ]
  },
  {
   "cell_type": "markdown",
   "id": "2452f848",
   "metadata": {},
   "source": [
    "Python permite que se crie iteráveis a partir de outros iteráveis aplicando condições. Vamos ilustrar o processo por meio de *list comprehensions*."
   ]
  },
  {
   "cell_type": "code",
   "execution_count": 73,
   "id": "e524b4ff",
   "metadata": {},
   "outputs": [
    {
     "data": {
      "text/plain": [
       "[1, 2, 3, 4, 5, 6, 7, 8, 9]"
      ]
     },
     "execution_count": 73,
     "metadata": {},
     "output_type": "execute_result"
    }
   ],
   "source": [
    "lista1 = [i for i in range(1, 10)]\n",
    "lista1"
   ]
  },
  {
   "cell_type": "code",
   "execution_count": 128,
   "id": "3dc94168",
   "metadata": {},
   "outputs": [
    {
     "data": {
      "text/plain": [
       "[3, 6, 9, 12, 15, 18]"
      ]
     },
     "execution_count": 128,
     "metadata": {},
     "output_type": "execute_result"
    }
   ],
   "source": [
    "lista2 = [i for i in range(1, 20) if i % 3 == 0]  # Condição de seleção é imposta\n",
    "lista2"
   ]
  },
  {
   "cell_type": "code",
   "execution_count": 129,
   "id": "9cd682e7",
   "metadata": {},
   "outputs": [
    {
     "name": "stdout",
     "output_type": "stream",
     "text": [
      "[(1, 3), (1, 6), (1, 9), (1, 12), (1, 15), (1, 18), (2, 3), (2, 6), (2, 9), (2, 12), (2, 15), (2, 18), (3, 3), (3, 6), (3, 9), (3, 12), (3, 15), (3, 18), (4, 3), (4, 6), (4, 9), (4, 12), (4, 15), (4, 18), (5, 3), (5, 6), (5, 9), (5, 12), (5, 15), (5, 18), (6, 3), (6, 6), (6, 9), (6, 12), (6, 15), (6, 18), (7, 3), (7, 6), (7, 9), (7, 12), (7, 15), (7, 18), (8, 3), (8, 6), (8, 9), (8, 12), (8, 15), (8, 18), (9, 3), (9, 6), (9, 9), (9, 12), (9, 15), (9, 18)]\n"
     ]
    }
   ],
   "source": [
    "lista3 = [(i, j) for i in lista1 for j in lista2]  # Os elementos podem vir de mais de um iterável\n",
    "print(lista3)"
   ]
  },
  {
   "cell_type": "markdown",
   "id": "f886fc0a",
   "metadata": {},
   "source": [
    "Note a diferença quando usamos a função `zip`."
   ]
  },
  {
   "cell_type": "code",
   "execution_count": 130,
   "id": "1fc526e9",
   "metadata": {},
   "outputs": [
    {
     "name": "stdout",
     "output_type": "stream",
     "text": [
      "[(1, 3), (2, 6), (3, 9), (4, 12), (5, 15), (6, 18)]\n"
     ]
    }
   ],
   "source": [
    "lista3 = [i for i in zip(lista1, lista2)]  # Apenas parte das tuplas originais são geradas\n",
    "print(lista3)"
   ]
  },
  {
   "cell_type": "markdown",
   "id": "6f963d46",
   "metadata": {},
   "source": [
    "Podemos aplicar múltiplas condições e até ignorar elementos de um iterável."
   ]
  },
  {
   "cell_type": "code",
   "execution_count": 127,
   "id": "9cd0e289",
   "metadata": {
    "scrolled": false
   },
   "outputs": [
    {
     "name": "stdout",
     "output_type": "stream",
     "text": [
      "[(2, 5), (2, 10), (2, 15), (4, 5), (4, 10), (4, 15), (6, 10), (6, 15), (8, 10), (8, 15)]\n"
     ]
    }
   ],
   "source": [
    "lista4 = [(i, j) for i in lista1 for j in lista2 if i % 2 == 0 if i < j]  # Mais de uma condição\n",
    "print(lista4)"
   ]
  },
  {
   "cell_type": "code",
   "execution_count": 124,
   "id": "b2b6212a",
   "metadata": {},
   "outputs": [
    {
     "name": "stdout",
     "output_type": "stream",
     "text": [
      "[8, 13, 18, 11, 16, 21, 14, 19, 26, 17]\n"
     ]
    }
   ],
   "source": [
    "lista5 = [i + j + k for ((i, j),(k, _)) in zip(lista3, lista4)]  # _ denota um elemento que é irrelevante\n",
    "print(lista5)"
   ]
  },
  {
   "cell_type": "code",
   "execution_count": 103,
   "id": "75f55960",
   "metadata": {},
   "outputs": [
    {
     "name": "stdout",
     "output_type": "stream",
     "text": [
      "[[3, 5, 10], [3, 10, 15], [4, 5, 15]]\n"
     ]
    }
   ],
   "source": [
    "lista6 = [[i, j, k] for ((i, j),(_, k)) in zip(lista3, lista4) if i < j and j < k]\n",
    "print(lista6)"
   ]
  },
  {
   "cell_type": "markdown",
   "id": "5edcc099",
   "metadata": {},
   "source": [
    "Conjuntos e dicionários podem ser criados de forma similar."
   ]
  },
  {
   "cell_type": "code",
   "execution_count": 110,
   "id": "cb2b21dd",
   "metadata": {},
   "outputs": [
    {
     "data": {
      "text/plain": [
       "{1, 4, 7, 10, 13, 16, 19}"
      ]
     },
     "execution_count": 110,
     "metadata": {},
     "output_type": "execute_result"
    }
   ],
   "source": [
    "conjunto = {i for i in range(20) if i % 3 == 1}\n",
    "conjunto"
   ]
  },
  {
   "cell_type": "code",
   "execution_count": 121,
   "id": "ffc5e125",
   "metadata": {},
   "outputs": [
    {
     "data": {
      "text/plain": [
       "{0: 1, 2: 4, 4: 256, 6: 46656, 8: 16777216}"
      ]
     },
     "execution_count": 121,
     "metadata": {},
     "output_type": "execute_result"
    }
   ],
   "source": [
    "dicionário = {i: i ** i for i in range (10) if i % 2 == 0}\n",
    "dicionário"
   ]
  },
  {
   "cell_type": "code",
   "execution_count": 122,
   "id": "aed2f925",
   "metadata": {},
   "outputs": [
    {
     "data": {
      "text/plain": [
       "{'Chave_0': 1,\n",
       " 'Chave_2': 4,\n",
       " 'Chave_4': 256,\n",
       " 'Chave_6': 46656,\n",
       " 'Chave_8': 16777216}"
      ]
     },
     "execution_count": 122,
     "metadata": {},
     "output_type": "execute_result"
    }
   ],
   "source": [
    "dicionário = {\"Chave_\" + str(i): i ** i for i in range (10) if i % 2 == 0}\n",
    "dicionário"
   ]
  }
 ],
 "metadata": {
  "kernelspec": {
   "display_name": "Python 3 (ipykernel)",
   "language": "python",
   "name": "python3"
  },
  "language_info": {
   "codemirror_mode": {
    "name": "ipython",
    "version": 3
   },
   "file_extension": ".py",
   "mimetype": "text/x-python",
   "name": "python",
   "nbconvert_exporter": "python",
   "pygments_lexer": "ipython3",
   "version": "3.8.8"
  },
  "toc": {
   "base_numbering": 1,
   "nav_menu": {
    "height": "169.986px",
    "width": "277.997px"
   },
   "number_sections": true,
   "sideBar": true,
   "skip_h1_title": false,
   "title_cell": "Table of Contents",
   "title_sidebar": "Contents",
   "toc_cell": false,
   "toc_position": {
    "height": "calc(100% - 180px)",
    "left": "10px",
    "top": "150px",
    "width": "241.094px"
   },
   "toc_section_display": true,
   "toc_window_display": false
  },
  "varInspector": {
   "cols": {
    "lenName": 16,
    "lenType": 16,
    "lenVar": 40
   },
   "kernels_config": {
    "python": {
     "delete_cmd_postfix": "",
     "delete_cmd_prefix": "del ",
     "library": "var_list.py",
     "varRefreshCmd": "print(var_dic_list())"
    },
    "r": {
     "delete_cmd_postfix": ") ",
     "delete_cmd_prefix": "rm(",
     "library": "var_list.r",
     "varRefreshCmd": "cat(var_dic_list()) "
    }
   },
   "types_to_exclude": [
    "module",
    "function",
    "builtin_function_or_method",
    "instance",
    "_Feature"
   ],
   "window_display": false
  }
 },
 "nbformat": 4,
 "nbformat_minor": 5
}
