{
 "cells": [
  {
   "cell_type": "markdown",
   "id": "88561acf",
   "metadata": {},
   "source": [
    "<strong><font size = \"4\" color = \"black\">Introdução à Ciência de Dados</font></strong><br>\n",
    "<font size = \"3\" color = \"gray\">Prof. Valter Moreno</font><br>\n",
    "<font size = \"3\" color = \"gray\">2022</font><br>  "
   ]
  },
  {
   "cell_type": "markdown",
   "id": "92c2c25c",
   "metadata": {},
   "source": [
    "<hr style=\"border:0.1px solid gray\"> </hr>\n",
    "<font size = \"5\" color = \"black\">Introdução ao Python</font><p>\n",
    "<font size = \"5\" color = \"black\">Aula 0: Configuração e Outras Informações</font>\n",
    "<hr style=\"border:0.1px solid gray\"> </hr>"
   ]
  },
  {
   "cell_type": "markdown",
   "id": "9cedff91",
   "metadata": {},
   "source": [
    "# Python e Jupyter Notebook"
   ]
  },
  {
   "cell_type": "markdown",
   "id": "3204ba1e",
   "metadata": {},
   "source": [
    "Usaremos em nossa disciplina a linguagem de programação Python versão 3.8 ou posterior, e um ambiente de desenolvimento iterativo chamado Jupyter Notebook. \n",
    "\n",
    "A maneira mais simples de instalar o que é necessário em seu computador é instalar a plataforma [Anaconda Individual Edition](https://www.anaconda.com/products/individual). Ela inclui não só o próprio Python, como também várias outras ferramentas, incluisive o Jupyter Notebook.\n",
    "\n",
    "Outra opção é instalar manualmente o Python do próprio site da organização curadora da linguagem ([python.org](https://www.python.org/)), e, em seguida, o [Jupyter Notebook](https://jupyter.org/install)."
   ]
  },
  {
   "cell_type": "markdown",
   "id": "6a0f6da9",
   "metadata": {},
   "source": [
    "A plataforma Anaconda provê um *dashboard* por meio do qual se pode ter acesso a diversas ferramentas, inclusive o Jupyter Notebook. Caso a instalação tenha sido feita manualmente, o Jupyter deverá ser chamado do PowerShell do Windows (ou similar no Mac ou Linux), no diretório em que os notebooks forem criados.\n",
    "\n",
    "`C:\\Arquivos\\IntroDSci\\Python> jupyter notebook`"
   ]
  },
  {
   "cell_type": "markdown",
   "id": "87038efc",
   "metadata": {},
   "source": [
    "Mais detalhes sobre a instalação e uso do Jupyter Notebook são fornecidos nas seguintes páginas:\n",
    "\n",
    " - [How to Use Jupyter Notebook in 2020: A Beginner’s Tutorial](https://www.dataquest.io/blog/jupyter-notebook-tutorial/)\n",
    " - [Installing Jupyter Notebook](https://www.datacamp.com/community/tutorials/installing-jupyter-notebook)\n",
    " - [Markdown in Jupyter Notebook](https://www.datacamp.com/community/tutorials/markdown-in-jupyter-notebook)\n",
    " - [Jupyter Notebook Extensions](https://towardsdatascience.com/jupyter-notebook-extensions-517fa69d2231)\n"
   ]
  },
  {
   "cell_type": "markdown",
   "id": "6f738ae9",
   "metadata": {},
   "source": [
    "# Compartilhamento de scripts"
   ]
  },
  {
   "cell_type": "markdown",
   "id": "c0ea3fde",
   "metadata": {},
   "source": [
    "Parte importante do desenvolvimento de suas competências em Data Science é o compartilhamento de scripts e notebooksm e a colaboração com outros cientistas de dados e desenvolvedores. Há várias alternativas para isso, como por exemplo:\n",
    "\n",
    " - [Github](https://www.github.com)\n",
    " - [Kaggle](https://www.kaggle.com)\n",
    " - [Google Colaboratory](https://colab.research.google.com/)"
   ]
  },
  {
   "cell_type": "markdown",
   "id": "283bb549",
   "metadata": {},
   "source": [
    "Kagges e Google Colab permitem que você desenvolva e rode seus notebooks online. O Github funciona como um repositório de arquivos com um poderoso mecanismo de controle de versões. "
   ]
  },
  {
   "cell_type": "markdown",
   "id": "4901b155",
   "metadata": {},
   "source": [
    "Seguem algumas fontes de consulta para aprender a utilizar esses recursos:\n",
    "\n",
    " - Github:\n",
    "   - [git - guia prático](https://rogerdudler.github.io/git-guide/index.pt_BR.html)\n",
    "   - [The Basics of GitHub](https://github.com/education/github-starter-course)\n",
    "   \n",
    " - Kaggle:\n",
    "   - [How to Use Kaggle](https://www.kaggle.com/docs/notebooks)\n",
    "   - [Courses](https://www.kaggle.com/learn)\n",
    " \n",
    " - Google Colaboratory:\n",
    "   - [Olá, este é o Colaboratory](https://colab.research.google.com/notebooks/intro.ipynb)\n",
    "   - [colab](https://www.tutorialspoint.com/google_colab/google_colab_tutorial.pdf)\n",
    "   - [Get started with Google Colaboratory (Colab) Tutorial for Beginners](https://youtu.be/LevQ4efYieU)\n",
    "   "
   ]
  },
  {
   "cell_type": "markdown",
   "id": "fd09277e",
   "metadata": {},
   "source": [
    "# Ambientes virtuais"
   ]
  },
  {
   "cell_type": "markdown",
   "id": "5898d13c",
   "metadata": {},
   "source": [
    "A linguagem Python permite que se criem **ambientes virtuais** que podem ser configurados com combinações específicas de versões da linguagem e de suas extensões (pacotes, bibliotecas ou módulos).\n",
    "\n",
    "Como a linguagem e suas extensões são fruto do trabalho conjunto de uma grande comunidade, é sempre possível que uma determinada versão não funcione com novas versões da linguagem ou de uma extensão. Dessa forma, para garantir a compatibilidade e a portabilidade dos scripts que forem criados, é importante controlar o ambiente em que eles foram desenvolvidos e testados. \n",
    "\n",
    "Os ambientes virtuais servem exatamente para esse propósito. Com eles, é possível ter num mesmo computador diferentes configurações de versões de Python e de suas extensões, para projetos diferentes."
   ]
  },
  {
   "cell_type": "markdown",
   "id": "e41933ea",
   "metadata": {},
   "source": [
    "A plataforma Anaconda tem seu próprio gerenciador de ambientes virtuais, que pode ser acessado por meio do seu dashboard. No entanto, é possível criar, ativar, configurar, e desativar ambientes virtuais manualmente, de forma bastante simples."
   ]
  },
  {
   "cell_type": "markdown",
   "id": "1ea7cafc",
   "metadata": {},
   "source": [
    "A configuração manual de ambientes virtuais deve ser feita no PowerShell do Windows ou similar no Mac e Linux. Seguem páginas com mais informações sobre o processo:\n",
    "\n",
    " - [How to use Python virtualenv](https://pythonbasics.org/virtualenv/)\n",
    " - [Python venv: how to create, activate and delete](https://python.land/virtual-environments/virtualenv)"
   ]
  },
  {
   "cell_type": "markdown",
   "id": "c9eba73d",
   "metadata": {},
   "source": [
    "Para que os ambientes virtuais sejam usados de forma efetiva, é indispensável que a configuração usada em cada um deles seja \"rastreada\", ou seja, documentada e registrada. Isso pode ser feito por meio da geração automática de um arquivo de texto chamado `requirements.txt`. No entanto, essa solução gera problemas.\n",
    "\n",
    "Há alternativas para os geradores de ambientes virtuais nativos do Python:\n",
    "\n",
    "  - A página [Abandon requirements.txt for managing dependencies in Python immediately](https://medium.com/@ramalhodevitor/abandon-requirements-txt-for-managing-dependencies-in-python-immediately-50b1c45b824a) descreve o uso do pacote `pip-tools` para gerenciar a configuração de ambientes virtuais de forma eficiente e transparente.\n",
    "  \n",
    "  - As páginas (Python pipenv)[https://www.pythontutorial.net/python-basics/python-pipenv/] e [Virtual Environment in Python](https://www.datacamp.com/community/tutorials/virtual-environment-in-python) apresentam o pacote `pipenv` e a forma de gerenciar ambientes virtuais com o Anaconda."
   ]
  },
  {
   "cell_type": "markdown",
   "id": "83bf009b",
   "metadata": {},
   "source": [
    "Lembre-se de <font color=\"red\"><strong>sempre documentar a configuração do ambiente em que seu projeto tiver sido desenvolvido</strong></font> para que outras pessoas não tenham problemas quando tentarem executar o seu software."
   ]
  },
  {
   "cell_type": "markdown",
   "id": "a6331c48",
   "metadata": {},
   "source": [
    "# Instalação de pacotes"
   ]
  },
  {
   "cell_type": "markdown",
   "id": "ec579085",
   "metadata": {},
   "source": [
    "Pacotes (ou extensões, bibliotecas, módulos) são programas ou scripts que acrescentam classes, funções, e até dados à versão original do Python. Com eles, podemos executar tarefas complexas de modo mais simples e rápido.\n",
    "\n",
    "Pacotes podem ser instalados num ambiente virtual por meio do ambiente do Anaconda ou do comando `pip` do próprio Python. Aqui, cobriremos apenas a instalação por meio do comando `pip`."
   ]
  },
  {
   "cell_type": "markdown",
   "id": "bae75038",
   "metadata": {},
   "source": [
    "Em primeiro lugar, o ambiente virtual em que o pacote será instalado deve ser ativado. Isto feito, na tela de comando do PowerShell do Windows (ou similar no Mac ou Linux), usamos:\n",
    "\n",
    "`pip install nome_do_pacote`"
   ]
  },
  {
   "cell_type": "markdown",
   "id": "194f7e52",
   "metadata": {},
   "source": [
    "Para remover um pacote, usamos:\n",
    "\n",
    "`pip uninstall nome_do_pacote`"
   ]
  },
  {
   "cell_type": "markdown",
   "id": "4fd63617",
   "metadata": {},
   "source": [
    "Mais de um nome de pacote pode ser adicionado ao comando, separados por espaço."
   ]
  },
  {
   "cell_type": "markdown",
   "id": "33076485",
   "metadata": {},
   "source": [
    "É importante que se observe o texto mostrado ao longo da instalação de pacotes, para se ter certeza que a instalação foi bem sucedida. O teste da instalação pode ser feito de dentro de um script do Python, no Jupyter Notebook, por exemplo."
   ]
  },
  {
   "cell_type": "markdown",
   "id": "47579405",
   "metadata": {},
   "source": [
    "# Carga de pacotes"
   ]
  },
  {
   "cell_type": "markdown",
   "id": "b9b350b4",
   "metadata": {},
   "source": [
    "Para que estejam disponíveis dentro de um script do Python, pacotes e/ou seus componentes precisar ser explicitamente importados. Seguem exemplos:"
   ]
  },
  {
   "cell_type": "code",
   "execution_count": 1,
   "id": "9b9ae004",
   "metadata": {},
   "outputs": [],
   "source": [
    "# O pacote pandas é importado e passamos a referenciá-lo por pd no script (um alias)\n",
    "import pandas as pd"
   ]
  },
  {
   "cell_type": "code",
   "execution_count": 2,
   "id": "0f7e2b6e",
   "metadata": {},
   "outputs": [],
   "source": [
    "# Neste caso, desejamos importar apenas a função merge do pacote pandas\n",
    "from pandas import isna as omisso"
   ]
  },
  {
   "cell_type": "markdown",
   "id": "9a154a32",
   "metadata": {},
   "source": [
    "A partir da importação, podemos referenciar o pacote ou função pelos nomes definidos após a expressão `as` (*aliases*)."
   ]
  },
  {
   "cell_type": "markdown",
   "id": "3e1bac2b",
   "metadata": {},
   "source": [
    "Vamos criar um data frame, objeto similar a uma tabela, que é a \"matéria-prima\" usada no pandas."
   ]
  },
  {
   "cell_type": "code",
   "execution_count": 3,
   "id": "2e0b6881",
   "metadata": {},
   "outputs": [
    {
     "data": {
      "text/plain": [
       "{'Nome': ['Valter Moreno', 'José da Silva', 'Maria Oliveira'],\n",
       " 'Idade': [56, 35, 23]}"
      ]
     },
     "execution_count": 3,
     "metadata": {},
     "output_type": "execute_result"
    }
   ],
   "source": [
    "# Armazenamos os dados num dicionário, um estrutura nativa do Python\n",
    "\n",
    "dados = {\"Nome\": [\"Valter Moreno\", \"José da Silva\", \"Maria Oliveira\"], \n",
    "         \"Idade\": [56, 35, 23]}\n",
    "dados"
   ]
  },
  {
   "cell_type": "code",
   "execution_count": 4,
   "id": "9f98e99b",
   "metadata": {
    "scrolled": true
   },
   "outputs": [
    {
     "data": {
      "text/html": [
       "<div>\n",
       "<style scoped>\n",
       "    .dataframe tbody tr th:only-of-type {\n",
       "        vertical-align: middle;\n",
       "    }\n",
       "\n",
       "    .dataframe tbody tr th {\n",
       "        vertical-align: top;\n",
       "    }\n",
       "\n",
       "    .dataframe thead th {\n",
       "        text-align: right;\n",
       "    }\n",
       "</style>\n",
       "<table border=\"1\" class=\"dataframe\">\n",
       "  <thead>\n",
       "    <tr style=\"text-align: right;\">\n",
       "      <th></th>\n",
       "      <th>Nome</th>\n",
       "      <th>Idade</th>\n",
       "    </tr>\n",
       "  </thead>\n",
       "  <tbody>\n",
       "    <tr>\n",
       "      <th>0</th>\n",
       "      <td>Valter Moreno</td>\n",
       "      <td>56</td>\n",
       "    </tr>\n",
       "    <tr>\n",
       "      <th>1</th>\n",
       "      <td>José da Silva</td>\n",
       "      <td>35</td>\n",
       "    </tr>\n",
       "    <tr>\n",
       "      <th>2</th>\n",
       "      <td>Maria Oliveira</td>\n",
       "      <td>23</td>\n",
       "    </tr>\n",
       "  </tbody>\n",
       "</table>\n",
       "</div>"
      ],
      "text/plain": [
       "             Nome  Idade\n",
       "0   Valter Moreno     56\n",
       "1   José da Silva     35\n",
       "2  Maria Oliveira     23"
      ]
     },
     "execution_count": 4,
     "metadata": {},
     "output_type": "execute_result"
    }
   ],
   "source": [
    "dados_df = pd.DataFrame(dados)  # Usamos a função DataFrame() do pacote pandas\n",
    "dados_df"
   ]
  },
  {
   "cell_type": "code",
   "execution_count": 5,
   "id": "cd06e80b",
   "metadata": {},
   "outputs": [
    {
     "data": {
      "text/html": [
       "<div>\n",
       "<style scoped>\n",
       "    .dataframe tbody tr th:only-of-type {\n",
       "        vertical-align: middle;\n",
       "    }\n",
       "\n",
       "    .dataframe tbody tr th {\n",
       "        vertical-align: top;\n",
       "    }\n",
       "\n",
       "    .dataframe thead th {\n",
       "        text-align: right;\n",
       "    }\n",
       "</style>\n",
       "<table border=\"1\" class=\"dataframe\">\n",
       "  <thead>\n",
       "    <tr style=\"text-align: right;\">\n",
       "      <th></th>\n",
       "      <th>Nome</th>\n",
       "      <th>Idade</th>\n",
       "    </tr>\n",
       "  </thead>\n",
       "  <tbody>\n",
       "    <tr>\n",
       "      <th>0</th>\n",
       "      <td>False</td>\n",
       "      <td>False</td>\n",
       "    </tr>\n",
       "    <tr>\n",
       "      <th>1</th>\n",
       "      <td>False</td>\n",
       "      <td>False</td>\n",
       "    </tr>\n",
       "    <tr>\n",
       "      <th>2</th>\n",
       "      <td>False</td>\n",
       "      <td>False</td>\n",
       "    </tr>\n",
       "  </tbody>\n",
       "</table>\n",
       "</div>"
      ],
      "text/plain": [
       "    Nome  Idade\n",
       "0  False  False\n",
       "1  False  False\n",
       "2  False  False"
      ]
     },
     "execution_count": 5,
     "metadata": {},
     "output_type": "execute_result"
    }
   ],
   "source": [
    "omisso(dados_df)  # Usamos a função isna() do pandas por meio do nome definido acima"
   ]
  },
  {
   "cell_type": "markdown",
   "id": "875a73e0",
   "metadata": {},
   "source": [
    "# Desenvolvendo em Python"
   ]
  },
  {
   "cell_type": "markdown",
   "id": "babe77e7",
   "metadata": {},
   "source": [
    "Alguns cuidados devem ser tomados quando desenvolvemos programas em Python:\n",
    "\n",
    "  -  Python diferencia maiúsculas de minúsculas\n",
    "  -  A indentação das linhas é usada para definir blocos de códigos (ex., `if` ... `then` ... `else`)\n",
    "  -  Há boas práticas a sere seguidas quando se desenvolve em Python. Seguem exemplos de guias:\n",
    "     - [Google Python Style Guide](https://google.github.io/styleguide/pyguide.html)\n",
    "     - [Pythonic Code: Best Practices to Make Your Python More Readable](https://www.codementor.io/blog/pythonic-code-6yxqdoktzt)\n",
    "     - [Python Best Practices for 2022](https://www.developer.com/languages/python-best-practices/)\n",
    "  -  Vários pacotes são referenciados por certos *aliases* tradicionalmente (ex., `pandas` por *pd*, `numpy` por *np*, `matplotlib.pyplot` por *plt*). Use os *aliases* tradicionais para facilitar a leitura do seu código.\n",
    "  -  Salve o seu progresso constantemente e use o gerenciamento de versões (ex., git e github).\n",
    "  -  Compartilhe e discuta o seu código com seus colegas. É uma ótima forma de aprender e descobrir jeitos mais interessantes para resolver problemas!\n",
    "  -  Como qualquer linguagem, para aprender Python é necessário praticar um pouco todo dia. Evite longos períodos sem trabalhar em seu código.\n",
    "  -  A curva de aprendizado é íngreme inicialmente. Não desanime: o investimento vale a pena!\n",
    "  -  Use o Google para tirar dúvidas. Ele é o seu melhor amigo para resolver problemas em seu código  ;-)"
   ]
  },
  {
   "cell_type": "markdown",
   "id": "e0fc741d",
   "metadata": {},
   "source": [
    "# Programa"
   ]
  },
  {
   "cell_type": "markdown",
   "id": "34865855",
   "metadata": {},
   "source": [
    "Ao longo do período, pretende-se cobrir os seguintes tópicos, todos de forma aplicada, com práticas em Python.\n",
    "\n",
    " - Inteligência Artificial, Machine Learning, e Data Science\n",
    " - Introdução à linguagem Python\n",
    " - Obtenção, exploração e visualização de dados\n",
    " - Machine Learning (ML)\n",
    "   - Generalização\n",
    "   - Bias vs. Variância \n",
    "   - Overfitting \n",
    "   - Regularização\n",
    "   - Treinamento, validação e teste\n",
    "   - Validação cruzada\n",
    "   - A maldição da dimensionalidade\n",
    "   - Avaliação de modelos\n",
    " - Regressão\n",
    "   - Regressão Linear\n",
    "   - Regressão Logística\n",
    "   - Regressão com regularização\n",
    " - Árvores de decisão\n",
    "   - Árvores de decisão\n",
    "   - Bagging\n",
    "   - Gradient Boosting\n",
    "   - Random Forests\n",
    " - Outros métodos de classificação\n",
    "   - k-Nearest Neighbors\n",
    "   - Naive Bayes\n",
    "   - Support Vector Machines (SVM)\n",
    " - Agrupamento de dados (*clustering*)\n",
    "   - Hierarchical clustering\n",
    "   - K-means clustering\n",
    "   - DBSCAN\n",
    " - Redes Neurais\n",
    "   - Redes neurais (Artificial Neural Networks – ANN)\n",
    "   - Tipos de arquitetura de redes e suas aplicações\n",
    "   - Deep Learning\n",
    "   "
   ]
  },
  {
   "cell_type": "markdown",
   "id": "bb409472",
   "metadata": {},
   "source": [
    "# Livros e outros recursos"
   ]
  },
  {
   "cell_type": "markdown",
   "id": "38349fb9",
   "metadata": {},
   "source": [
    "O conteúdo coberto na disciplina tem por base os seguintes livros:\n",
    "\n",
    "  - Abu-Mostafa et al. (2012). \"Learning From Data\". AMLBook. (https://work.caltech.edu/telecourse.html)\n",
    "  - Gèron (2019). \"Hands-on Machine Learning with Scikit-Learn, Keras, and TensorFlow\". O'Reilly.\n",
    "  - Goodfellow et al. (2022). \"Deep Learning Book\". https://www.deeplearningbook.com.br/\n",
    "  - Grus (2019). \"Data Science from Scratch\". O'Reilly.\n",
    "  - James et al. (2013). \"An Introduction to Statistical Learning\". Springer. https://www.statlearning.com/\n",
    "  - McKinney (2018). \"Python for Data Analysis\". O'Reilly."
   ]
  },
  {
   "cell_type": "markdown",
   "id": "e5b2f569",
   "metadata": {},
   "source": [
    "Além disso, serão amplamente utilizados os treinamentos e workshops disponíveis na plataforma [DataCamp.com](https://www.datacamp.com/), inclusive para fins de avaliação na disciplina. É indispensável que os alunos criem suas contas na plataforma o mais rápido possível."
   ]
  },
  {
   "cell_type": "markdown",
   "id": "4cace6dc",
   "metadata": {},
   "source": [
    "Os projetos desenvolvidos no curso, especialmente o projeto final, se utilizarão de dados disponíveis gratuitamente na internet. Algumas fontes para a obtenção desses dados são:\n",
    "\n",
    " - [Kaggle.com](https://www.kaggle.com/)\n",
    " - [UCI Machine Learning Repository](https://archive.ics.uci.edu/ml/index.php)\n",
    " - [Google Dataset Search](https://toolbox.google.com/datasetsearch)\n",
    " - [Best Public Datasets for Machine Learning and Data Science](https://towardsdatascience.com/the-50-best-public-datasets-for-machine-learning-d80e9f030279)\n",
    " - [Os 7 melhores sites para encontrar datasets para projetos de Data Science](https://paulovasconcellos.com.br/os-7-melhores-sites-para-encontrar-datasets-para-projetos-de-data-science-8a53c3b48329)"
   ]
  },
  {
   "cell_type": "markdown",
   "id": "c8eeb350",
   "metadata": {},
   "source": [
    "# Avaliação"
   ]
  },
  {
   "cell_type": "markdown",
   "id": "5736d2ae",
   "metadata": {},
   "source": [
    "## Tarefas no DataCamp.com"
   ]
  },
  {
   "cell_type": "markdown",
   "id": "fe3e12e8",
   "metadata": {},
   "source": [
    "**40% da média final** serão computados com base na realização de tarefas no DataCamp definidas pelo professor. Não haverá notas parciais para essas tarefas, ou seja, tarefas completadas plenamente receberão nota máxima, e as demais, nota zero."
   ]
  },
  {
   "cell_type": "markdown",
   "id": "50e3c12c",
   "metadata": {},
   "source": [
    "## Projeto final"
   ]
  },
  {
   "cell_type": "markdown",
   "id": "d31a1f3c",
   "metadata": {},
   "source": [
    "### Parte 1: Definição do escopo do projeto final\n",
    "\n",
    "Selecione uma base de dados pública e prepare um breve relatório no Jupyter Notebook descrevendo seu conteúdo. Inclua as seguintes seções:\n",
    "\n",
    " - descrição da base de dados\n",
    " - fonte dos dados\n",
    " - dicionário de dados, com os nomes das variáveis, suas descrições, tipos, valores permitidos\n",
    " - potenciais questões a serem respondidas posteriormente em suas análises.\n",
    "\n",
    "A base deve incluir variáveis que contenham valores a serem previstos na parte final do trabalho por um modelo de Machine Learning de classficação ou regressão.\n",
    "\n",
    "Esta parte vale **10% da nota do projeto final**."
   ]
  },
  {
   "cell_type": "markdown",
   "id": "be763ccb",
   "metadata": {},
   "source": [
    "### Parte 2: Preparação dos dados\n",
    "\n",
    "Revise o seu relatório com base na última avaliação do professor. Em seguida, inclua no notebook as etapas necessárias para verificar se os dados estão formatados adequadamente e limpos:\n",
    "\n",
    " - Troque os nomes das variáveis para que representem claramente o conteúdo dos dados.\n",
    " - Transforme as variáveis que apresentarem problemas (ex., tipo incorreto, dados com erros, mais de um tipo de informação numa mesma coluna, etc.).\n",
    " - Valores omitidos devem aparecer como NA.\n",
    " - Coloque a base no formato longo ou largo, conforme seja mais apropriado.\n",
    " - Apresente uma síntese dos dados.\n",
    "\n",
    "Grave a base de dados limpa e formatada num arquivo CSV que possa ser lido posteriormente.\n",
    "\n",
    "Esta parte vale **20% da nota do projeto final**."
   ]
  },
  {
   "cell_type": "markdown",
   "id": "0bbe2158",
   "metadata": {},
   "source": [
    "### Parte 3: Análise exploratória de dados\n",
    "\n",
    "Revise o seu relatório com base na última avaliação do professor. Em seguida, inclua no notebook uma análise exploratória da sua base de dados: \n",
    "\n",
    " - Defina explicitamente as perguntas a serem respondidas.\n",
    " - Use tabelas e gráficos para subsidiar suas análises e responder cada pergunta proposta.\n",
    " - Gere uma pergunta a ser explorada na próxima parte do projeto final, ou seja, por meio do desenvolvimento de um modelo de Machine Learning não-supervisionado ou supervisionado de regressão ou classificação.\n",
    "\n",
    "Esta parte vale **25% da nota do projeto final**."
   ]
  },
  {
   "cell_type": "markdown",
   "id": "63ed2f40",
   "metadata": {},
   "source": [
    "### Parte 4: Desenvolvimento e avaliação do modelo\n",
    "\n",
    "Revise o seu relatório com base na última avaliação do professor. Em seguida, inclua no notebook seções com o desenvolvimento, avaliação, seleção e teste de um modelos de Machine Learning:\n",
    "\n",
    " - Pelo menos duas técnicas de Machine Learning não-supervisionadas ou supervisionadas de regressão ou classificação, que lhe permite responder a questão proposta na parte 3 do projeto final.\n",
    " - Treine e valide os modelos de ML desenvolvidos, calibrando os seus hiperparâmetros. \n",
    " - Avalie a qualidade dos seus modelos numa base de teste intermediária.\n",
    " - Selecione o melhor modelo e avalie o seu desempenho na base de teste final.\n",
    " - Interprete os seus resultados.\n",
    " \n",
    "Esta parte vale **45% da nota do projeto final**."
   ]
  }
 ],
 "metadata": {
  "kernelspec": {
   "display_name": "Python 3 (ipykernel)",
   "language": "python",
   "name": "python3"
  },
  "language_info": {
   "codemirror_mode": {
    "name": "ipython",
    "version": 3
   },
   "file_extension": ".py",
   "mimetype": "text/x-python",
   "name": "python",
   "nbconvert_exporter": "python",
   "pygments_lexer": "ipython3",
   "version": "3.8.8"
  },
  "toc": {
   "base_numbering": 1,
   "nav_menu": {
    "height": "169.986px",
    "width": "277.997px"
   },
   "number_sections": true,
   "sideBar": true,
   "skip_h1_title": false,
   "title_cell": "Table of Contents",
   "title_sidebar": "Contents",
   "toc_cell": false,
   "toc_position": {
    "height": "calc(100% - 180px)",
    "left": "10px",
    "top": "150px",
    "width": "221px"
   },
   "toc_section_display": true,
   "toc_window_display": false
  },
  "varInspector": {
   "cols": {
    "lenName": 16,
    "lenType": 16,
    "lenVar": 40
   },
   "kernels_config": {
    "python": {
     "delete_cmd_postfix": "",
     "delete_cmd_prefix": "del ",
     "library": "var_list.py",
     "varRefreshCmd": "print(var_dic_list())"
    },
    "r": {
     "delete_cmd_postfix": ") ",
     "delete_cmd_prefix": "rm(",
     "library": "var_list.r",
     "varRefreshCmd": "cat(var_dic_list()) "
    }
   },
   "types_to_exclude": [
    "module",
    "function",
    "builtin_function_or_method",
    "instance",
    "_Feature"
   ],
   "window_display": false
  }
 },
 "nbformat": 4,
 "nbformat_minor": 5
}
